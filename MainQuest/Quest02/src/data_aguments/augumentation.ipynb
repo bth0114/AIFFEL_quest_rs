{
 "cells": [
  {
   "cell_type": "code",
   "execution_count": 3,
   "id": "f0fb378c",
   "metadata": {},
   "outputs": [
    {
     "name": "stdout",
     "output_type": "stream",
     "text": [
      "Requirement already satisfied: koeda in /opt/conda/lib/python3.9/site-packages (0.0.4)\n",
      "Requirement already satisfied: numpy>=1.19.4 in /opt/conda/lib/python3.9/site-packages (from koeda) (1.22.2)\n",
      "Requirement already satisfied: konlpy>=0.5.2 in /opt/conda/lib/python3.9/site-packages (from koeda) (0.5.2)\n",
      "Requirement already satisfied: tweepy==3.10.0 in /opt/conda/lib/python3.9/site-packages (from koeda) (3.10.0)\n",
      "Requirement already satisfied: six>=1.10.0 in /opt/conda/lib/python3.9/site-packages (from tweepy==3.10.0->koeda) (1.16.0)\n",
      "Requirement already satisfied: requests[socks]>=2.11.1 in /opt/conda/lib/python3.9/site-packages (from tweepy==3.10.0->koeda) (2.26.0)\n",
      "Requirement already satisfied: requests-oauthlib>=0.7.0 in /opt/conda/lib/python3.9/site-packages (from tweepy==3.10.0->koeda) (1.3.1)\n",
      "Requirement already satisfied: beautifulsoup4==4.6.0 in /opt/conda/lib/python3.9/site-packages (from konlpy>=0.5.2->koeda) (4.6.0)\n",
      "Requirement already satisfied: JPype1>=0.7.0 in /opt/conda/lib/python3.9/site-packages (from konlpy>=0.5.2->koeda) (1.3.0)\n",
      "Requirement already satisfied: lxml>=4.1.0 in /opt/conda/lib/python3.9/site-packages (from konlpy>=0.5.2->koeda) (4.6.3)\n",
      "Requirement already satisfied: colorama in /opt/conda/lib/python3.9/site-packages (from konlpy>=0.5.2->koeda) (0.4.4)\n",
      "Requirement already satisfied: oauthlib>=3.0.0 in /opt/conda/lib/python3.9/site-packages (from requests-oauthlib>=0.7.0->tweepy==3.10.0->koeda) (3.2.0)\n",
      "Requirement already satisfied: urllib3<1.27,>=1.21.1 in /opt/conda/lib/python3.9/site-packages (from requests[socks]>=2.11.1->tweepy==3.10.0->koeda) (1.26.7)\n",
      "Requirement already satisfied: charset-normalizer~=2.0.0 in /opt/conda/lib/python3.9/site-packages (from requests[socks]>=2.11.1->tweepy==3.10.0->koeda) (2.0.12)\n",
      "Requirement already satisfied: certifi>=2017.4.17 in /opt/conda/lib/python3.9/site-packages (from requests[socks]>=2.11.1->tweepy==3.10.0->koeda) (2021.10.8)\n",
      "Requirement already satisfied: idna<4,>=2.5 in /opt/conda/lib/python3.9/site-packages (from requests[socks]>=2.11.1->tweepy==3.10.0->koeda) (2.10)\n",
      "Requirement already satisfied: PySocks!=1.5.7,>=1.5.6 in /opt/conda/lib/python3.9/site-packages (from requests[socks]>=2.11.1->tweepy==3.10.0->koeda) (1.7.1)\n",
      "\u001b[33mWARNING: Running pip as the 'root' user can result in broken permissions and conflicting behaviour with the system package manager. It is recommended to use a virtual environment instead: https://pip.pypa.io/warnings/venv\u001b[0m\u001b[33m\n",
      "\u001b[0m                                         conversation        class\n",
      "0   만 거기 예 부르셨너요 누구 왜부르시죠가 지갑을 잃어버려서 돈이없다 돈좀 있 아니요...        갈취 대화\n",
      "1   당신 와이프 장해 이쁘더라 제발 저 사람 체통 매점 하고만 이야기 나눠주세요 깔끔하...        갈취 대화\n",
      "2   저기요 아가씨 을 ? 손 치워요 야 새끼야 저 돈 거짓말이야 뒤지다 어쩔 아 진짜 ...        갈취 대화\n",
      "3   또.자랑 . 자랑 사과 난 에게 도움이 정보를 주고 싶었던 것 .이라고.. 풋. 적...    기타 괴롭힘 대화\n",
      "4   저기요 화채시킨 . 이 먹으라고 보낸건가요이 문제 화채 들어가는 이 커팅하는 모양도...    기타 괴롭힘 대화\n",
      "5   도 멍청한 정도?같으니라고 야 왜그래 프린터가할머니제대로 안되잖아 내프사 카톡 됐지...    기타 괴롭힘 대화\n",
      "6   오늘 가는거 알지 네 고 있습니다 저는 사정이 좀 있어서.사정? 사정이 왜 은 아니...  직장 내 괴롭힘 대화\n",
      "7   사이 최 늑대 사원 잠깐 말미 만 인 이리 와줄 수 있어요 제명 ? 네! 바닥 대리...  직장 내 괴롭힘 대화\n",
      "8   야 새끼야 내 앞에서 짭밥먹은 장 티 내지마 전선 내가 못하는것 처럼 보이잖아 아니...  직장 내 괴롭힘 대화\n",
      "9   돼요 너 파 주소 빠지는거야아. 다 찾아가서 죽일거야 안까지?까지죄송합니다 뭐? 이...        협박 대화\n",
      "10  뒤지고싶지? 시키는대로 안해? 죄송해요. 덜쳐맞았나봐? 납입가 사람 여럿 찔러봤다고...        협박 대화\n",
      "11  이새끼 아직도 정신 못차려? 시키는대로만 ? 피흘리기 싫으면. 그 은 너무 난 못해...        협박 대화\n"
     ]
    }
   ],
   "source": [
    "# 1. 설치 (최초 1회만)\n",
    "!pip install koeda\n",
    "\n",
    "# 2. 라이브러리 불러오기\n",
    "import pandas as pd\n",
    "from koeda import EDA\n",
    "\n",
    "# 3. 데이터 불러오기\n",
    "url = \"https://raw.githubusercontent.com/bth0114/AIFFEL_DLThon_DKTC_online13/main/data/raw_csv/merged_train.csv\"\n",
    "df = pd.read_csv(url)\n",
    "\n",
    "# 4. 대상 클래스 필터링 후 클래스별 3개씩 샘플링\n",
    "target_classes = ['기타 괴롭힘 대화', '협박 대화', '갈취 대화', '직장 내 괴롭힘 대화']\n",
    "df_target = df[df['class'].isin(target_classes)]\n",
    "df_sampled = df_target.groupby('class').apply(lambda x: x.sample(n=3, random_state=42)).reset_index(drop=True)\n",
    "\n",
    "# 5. EDA 증강기 설정\n",
    "eda = EDA(morpheme_analyzer=\"Okt\", alpha_sr=0.3, alpha_ri=0.3, alpha_rs=0.3, prob_rd=0.3)\n",
    "\n",
    "# 6. 전처리 함수\n",
    "def clean_text(text):\n",
    "    return text.replace(\"\\n\", \" \").replace(\"\\r\", \"\").strip()\n",
    "\n",
    "# 7. 증강 수행\n",
    "augmented_rows = []\n",
    "\n",
    "for _, row in df_sampled.iterrows():\n",
    "    text = row['conversation']\n",
    "    label = row['class']\n",
    "    \n",
    "    try:\n",
    "        eda_aug = eda(text, repetition=1)\n",
    "        eda_aug = eda_aug if isinstance(eda_aug, list) else [eda_aug]\n",
    "        aug_text = clean_text(eda_aug[0])\n",
    "        if len(aug_text) > 5:\n",
    "            augmented_rows.append({\"conversation\": aug_text, \"class\": label})\n",
    "    except:\n",
    "        pass\n",
    "\n",
    "# 8. 결과 확인\n",
    "df_augmented = pd.DataFrame(augmented_rows)\n",
    "print(df_augmented)\n"
   ]
  },
  {
   "cell_type": "code",
   "execution_count": 4,
   "id": "6c21419c",
   "metadata": {},
   "outputs": [
    {
     "name": "stdout",
     "output_type": "stream",
     "text": [
      "Requirement already satisfied: koeda in /opt/conda/lib/python3.9/site-packages (0.0.4)\n",
      "Requirement already satisfied: konlpy>=0.5.2 in /opt/conda/lib/python3.9/site-packages (from koeda) (0.5.2)\n",
      "Requirement already satisfied: numpy>=1.19.4 in /opt/conda/lib/python3.9/site-packages (from koeda) (1.22.2)\n",
      "Requirement already satisfied: tweepy==3.10.0 in /opt/conda/lib/python3.9/site-packages (from koeda) (3.10.0)\n",
      "Requirement already satisfied: requests-oauthlib>=0.7.0 in /opt/conda/lib/python3.9/site-packages (from tweepy==3.10.0->koeda) (1.3.1)\n",
      "Requirement already satisfied: requests[socks]>=2.11.1 in /opt/conda/lib/python3.9/site-packages (from tweepy==3.10.0->koeda) (2.26.0)\n",
      "Requirement already satisfied: six>=1.10.0 in /opt/conda/lib/python3.9/site-packages (from tweepy==3.10.0->koeda) (1.16.0)\n",
      "Requirement already satisfied: lxml>=4.1.0 in /opt/conda/lib/python3.9/site-packages (from konlpy>=0.5.2->koeda) (4.6.3)\n",
      "Requirement already satisfied: colorama in /opt/conda/lib/python3.9/site-packages (from konlpy>=0.5.2->koeda) (0.4.4)\n",
      "Requirement already satisfied: beautifulsoup4==4.6.0 in /opt/conda/lib/python3.9/site-packages (from konlpy>=0.5.2->koeda) (4.6.0)\n",
      "Requirement already satisfied: JPype1>=0.7.0 in /opt/conda/lib/python3.9/site-packages (from konlpy>=0.5.2->koeda) (1.3.0)\n",
      "Requirement already satisfied: oauthlib>=3.0.0 in /opt/conda/lib/python3.9/site-packages (from requests-oauthlib>=0.7.0->tweepy==3.10.0->koeda) (3.2.0)\n",
      "Requirement already satisfied: charset-normalizer~=2.0.0 in /opt/conda/lib/python3.9/site-packages (from requests[socks]>=2.11.1->tweepy==3.10.0->koeda) (2.0.12)\n",
      "Requirement already satisfied: urllib3<1.27,>=1.21.1 in /opt/conda/lib/python3.9/site-packages (from requests[socks]>=2.11.1->tweepy==3.10.0->koeda) (1.26.7)\n",
      "Requirement already satisfied: idna<4,>=2.5 in /opt/conda/lib/python3.9/site-packages (from requests[socks]>=2.11.1->tweepy==3.10.0->koeda) (2.10)\n",
      "Requirement already satisfied: certifi>=2017.4.17 in /opt/conda/lib/python3.9/site-packages (from requests[socks]>=2.11.1->tweepy==3.10.0->koeda) (2021.10.8)\n",
      "Requirement already satisfied: PySocks!=1.5.7,>=1.5.6 in /opt/conda/lib/python3.9/site-packages (from requests[socks]>=2.11.1->tweepy==3.10.0->koeda) (1.7.1)\n",
      "\u001b[33mWARNING: Running pip as the 'root' user can result in broken permissions and conflicting behaviour with the system package manager. It is recommended to use a virtual environment instead: https://pip.pypa.io/warnings/venv\u001b[0m\u001b[33m\n",
      "\u001b[0m클래스별 샘플 수:\n",
      "기타 괴롭힘 대화      2022\n",
      "갈취 대화          1946\n",
      "직장 내 괴롭힘 대화    1940\n",
      "협박 대화          1784\n",
      "일반 대화          1582\n",
      "Name: class, dtype: int64\n"
     ]
    }
   ],
   "source": [
    "# 1. 설치 (최초 1회만)\n",
    "!pip install koeda\n",
    "\n",
    "# 2. 라이브러리 불러오기\n",
    "import pandas as pd\n",
    "from koeda import EDA\n",
    "\n",
    "# 3. 데이터 불러오기\n",
    "url = \"https://raw.githubusercontent.com/bth0114/AIFFEL_DLThon_DKTC_online13/main/data/raw_csv/merged_train.csv\"\n",
    "df = pd.read_csv(url)\n",
    "\n",
    "# 4. EDA 증강기 설정 (기본값)\n",
    "eda = EDA(morpheme_analyzer=\"Okt\", alpha_sr=0.5, alpha_ri=0.3, alpha_rs=0.3, prob_rd=0.3)\n",
    "\n",
    "# 5. 전처리 함수\n",
    "def clean_text(text):\n",
    "    return text.replace(\"\\n\", \" \").replace(\"\\r\", \"\").strip()\n",
    "\n",
    "# 6. 전체 문장 EDA 수행\n",
    "augmented_rows = []\n",
    "\n",
    "for _, row in df.iterrows():\n",
    "    text = row['conversation']\n",
    "    label = row['class']\n",
    "    \n",
    "    try:\n",
    "        eda_aug = eda(text, repetition=1)\n",
    "        eda_aug = eda_aug if isinstance(eda_aug, list) else [eda_aug]\n",
    "        aug_text = clean_text(eda_aug[0])\n",
    "        if len(aug_text) > 5:\n",
    "            augmented_rows.append({\"conversation\": aug_text, \"class\": label})\n",
    "    except:\n",
    "        pass\n",
    "\n",
    "# 7. 증강 데이터프레임 만들기\n",
    "df_augmented = pd.DataFrame(augmented_rows)\n",
    "\n",
    "# 8. 원본 + 증강 병합\n",
    "df_combined = pd.concat([df, df_augmented], ignore_index=True)\n",
    "df_combined.drop_duplicates(subset=[\"conversation\", \"class\"], inplace=True)\n",
    "df_combined = df_combined.sample(frac=1, random_state=42).reset_index(drop=True)\n",
    "\n",
    "# 9. 저장\n",
    "df_combined.to_csv(\"final_train_allclass_eda.csv\", index=False)\n",
    "\n",
    "# 10. 클래스 분포 확인\n",
    "print(\"클래스별 샘플 수:\")\n",
    "print(df_combined[\"class\"].value_counts())\n"
   ]
  },
  {
   "cell_type": "code",
   "execution_count": 6,
   "id": "e1fd23dc",
   "metadata": {},
   "outputs": [
    {
     "name": "stdout",
     "output_type": "stream",
     "text": [
      "/aiffel/AIFFEL_quest_review/Exploration/Ex01\n"
     ]
    }
   ],
   "source": [
    "import os\n",
    "print(os.getcwd())\n"
   ]
  },
  {
   "cell_type": "code",
   "execution_count": 7,
   "id": "ed6c5bff",
   "metadata": {},
   "outputs": [
    {
     "data": {
      "text/html": [
       "<a href='final_train_allclass_eda.csv' target='_blank'>final_train_allclass_eda.csv</a><br>"
      ],
      "text/plain": [
       "/aiffel/AIFFEL_quest_review/Exploration/Ex01/final_train_allclass_eda.csv"
      ]
     },
     "execution_count": 7,
     "metadata": {},
     "output_type": "execute_result"
    }
   ],
   "source": [
    "from IPython.display import FileLink\n",
    "\n",
    "# 파일 다운로드 링크 생성\n",
    "FileLink('final_train_allclass_eda.csv')\n"
   ]
  },
  {
   "cell_type": "code",
   "execution_count": 8,
   "id": "c7a82ba9",
   "metadata": {},
   "outputs": [
    {
     "name": "stdout",
     "output_type": "stream",
     "text": [
      "✅ EDA 증강본만 저장 완료!\n",
      "샘플 수: 4637\n",
      "클래스별 분포:\n",
      "기타 괴롭힘 대화      1011\n",
      "갈취 대화           973\n",
      "직장 내 괴롭힘 대화     970\n",
      "협박 대화           892\n",
      "일반 대화           791\n",
      "Name: class, dtype: int64\n"
     ]
    }
   ],
   "source": [
    "# 이미 위에서 수행한 코드 기준으로 이어서 실행\n",
    "\n",
    "# EDA로 생성된 데이터프레임만 저장\n",
    "df_augmented.to_csv(\"eda_only.csv\", index=False)\n",
    "\n",
    "# 저장 확인용 출력\n",
    "print(\"✅ EDA 증강본만 저장 완료!\")\n",
    "print(\"샘플 수:\", len(df_augmented))\n",
    "print(\"클래스별 분포:\")\n",
    "print(df_augmented[\"class\"].value_counts())"
   ]
  },
  {
   "cell_type": "code",
   "execution_count": 9,
   "id": "b2e7c5ab",
   "metadata": {},
   "outputs": [
    {
     "data": {
      "text/html": [
       "<a href='eda_only.csv' target='_blank'>eda_only.csv</a><br>"
      ],
      "text/plain": [
       "/aiffel/AIFFEL_quest_review/Exploration/Ex01/eda_only.csv"
      ]
     },
     "execution_count": 9,
     "metadata": {},
     "output_type": "execute_result"
    }
   ],
   "source": [
    "from IPython.display import FileLink\n",
    "\n",
    "# 다운로드 가능한 링크 생성\n",
    "FileLink('eda_only.csv')\n"
   ]
  },
  {
   "cell_type": "code",
   "execution_count": null,
   "id": "88273394",
   "metadata": {},
   "outputs": [],
   "source": []
  }
 ],
 "metadata": {
  "kernelspec": {
   "display_name": "Python 3 (ipykernel)",
   "language": "python",
   "name": "python3"
  },
  "language_info": {
   "codemirror_mode": {
    "name": "ipython",
    "version": 3
   },
   "file_extension": ".py",
   "mimetype": "text/x-python",
   "name": "python",
   "nbconvert_exporter": "python",
   "pygments_lexer": "ipython3",
   "version": "3.9.7"
  }
 },
 "nbformat": 4,
 "nbformat_minor": 5
}
