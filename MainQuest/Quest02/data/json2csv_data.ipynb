{
 "cells": [
  {
   "cell_type": "code",
   "execution_count": 1,
   "id": "811effdd",
   "metadata": {},
   "outputs": [],
   "source": [
    "import random\n",
    "import json\n",
    "import csv\n",
    "\n",
    "# 전처리: 대화를 하나의 문장으로 결합 + 레이블 부여\n",
    "processed = []"
   ]
  },
  {
   "cell_type": "code",
   "execution_count": 2,
   "id": "3fba6e53",
   "metadata": {},
   "outputs": [
    {
     "name": "stdout",
     "output_type": "stream",
     "text": [
      "{'idx': 4001, 'class': '일반 대화', 'conversation': '집에서 자주 만드는 음식 있어?\\n응, 김치찌개 자주 만들어.\\n오, 김치찌개! 어떤 맛으로 만들어?\\n좀 맵고 짭짤한 맛으로 만들어.\\n김치찌개는 진짜 집밥의 대표적인 음식이지.\\n맞아, 국물이 정말 맛있어.\\n그럼 고기나 두부 넣어서 만들어?\\n보통 돼지고기랑 두부 넣어서 해.'}\n",
      "{'idx': 4002, 'class': '일반 대화', 'conversation': \"너는 어떤 장르 좋아해?\\n나는 록 음악을 좋아해.\\n오, 록! 그럼 Queen 좋아해?\\n당연하지, 'Bohemian Rhapsody'는 진짜 명곡이지.\\n록은 항상 힘이 느껴지는 것 같아.\\n맞아, 그런 에너지가 너무 좋아.\\n다른 록 밴드도 좋아해?\\nAC/DC나 Led Zeppelin도 좋아해.\"}\n",
      "{'idx': 4003, 'class': '일반 대화', 'conversation': '오늘 점심 뭐 먹을까요?\\n저는 김밥 먹고 싶은데, 다른 사람들은 어떻게 생각해요?\\n저는 괜찮아요. 김밥도 좋은 선택이죠.\\n그럼 김밥으로 정할까요?'}\n"
     ]
    }
   ],
   "source": [
    "# JSON 불러오기\n",
    "with open(\"./raw_json/conversations.json\", \"r\", encoding=\"utf-8\") as f:\n",
    "    data = json.load(f)\n",
    "\n",
    "i=4000\n",
    "for item in data:\n",
    "    full_text = \"\\n\".join(item[\"conversation\"])\n",
    "    label = item[\"class\"]\n",
    "    i=i+1\n",
    "    processed.append({\"idx\":i, \"class\": \"일반 대화\", \"conversation\": full_text})\n",
    "\n",
    "# 예시 출력\n",
    "for item in processed[:3]:\n",
    "    print(item)"
   ]
  },
  {
   "cell_type": "code",
   "execution_count": 3,
   "id": "23987919",
   "metadata": {},
   "outputs": [
    {
     "data": {
      "text/plain": [
       "300"
      ]
     },
     "execution_count": 3,
     "metadata": {},
     "output_type": "execute_result"
    }
   ],
   "source": [
    "len(processed)"
   ]
  },
  {
   "cell_type": "code",
   "execution_count": 4,
   "id": "08a72bb8",
   "metadata": {},
   "outputs": [
    {
     "name": "stdout",
     "output_type": "stream",
     "text": [
      "{'idx': 4001, 'class': '일반 대화', 'conversation': '집에서 자주 만드는 음식 있어?\\n응, 김치찌개 자주 만들어.\\n오, 김치찌개! 어떤 맛으로 만들어?\\n좀 맵고 짭짤한 맛으로 만들어.\\n김치찌개는 진짜 집밥의 대표적인 음식이지.\\n맞아, 국물이 정말 맛있어.\\n그럼 고기나 두부 넣어서 만들어?\\n보통 돼지고기랑 두부 넣어서 해.'}\n",
      "{'idx': 4002, 'class': '일반 대화', 'conversation': \"너는 어떤 장르 좋아해?\\n나는 록 음악을 좋아해.\\n오, 록! 그럼 Queen 좋아해?\\n당연하지, 'Bohemian Rhapsody'는 진짜 명곡이지.\\n록은 항상 힘이 느껴지는 것 같아.\\n맞아, 그런 에너지가 너무 좋아.\\n다른 록 밴드도 좋아해?\\nAC/DC나 Led Zeppelin도 좋아해.\"}\n",
      "{'idx': 4003, 'class': '일반 대화', 'conversation': '오늘 점심 뭐 먹을까요?\\n저는 김밥 먹고 싶은데, 다른 사람들은 어떻게 생각해요?\\n저는 괜찮아요. 김밥도 좋은 선택이죠.\\n그럼 김밥으로 정할까요?'}\n"
     ]
    }
   ],
   "source": [
    "\n",
    "# JSON 불러오기\n",
    "with open(\"./raw_json/conversation_jw.json\", \"r\", encoding=\"utf-8\") as f:\n",
    "    data = json.load(f)\n",
    "\n",
    "\n",
    "i=4301\n",
    "\n",
    "for item in data:\n",
    "    label = item[\"class\"]\n",
    "    idx = i + len(processed)\n",
    "    processed.append({\"idx\":idx, \"class\": \"일반 대화\", \"conversation\": item[\"conversation\"]})\n",
    "\n",
    "    \n",
    "# 예시 출력\n",
    "for item in processed[:3]:\n",
    "    print(item)"
   ]
  },
  {
   "cell_type": "code",
   "execution_count": 5,
   "id": "f8803118",
   "metadata": {},
   "outputs": [
    {
     "data": {
      "text/plain": [
       "532"
      ]
     },
     "execution_count": 5,
     "metadata": {},
     "output_type": "execute_result"
    }
   ],
   "source": [
    "len(processed)"
   ]
  },
  {
   "cell_type": "code",
   "execution_count": 6,
   "id": "b5acecbb",
   "metadata": {},
   "outputs": [
    {
     "name": "stdout",
     "output_type": "stream",
     "text": [
      "{'idx': 4001, 'class': '일반 대화', 'conversation': '집에서 자주 만드는 음식 있어?\\n응, 김치찌개 자주 만들어.\\n오, 김치찌개! 어떤 맛으로 만들어?\\n좀 맵고 짭짤한 맛으로 만들어.\\n김치찌개는 진짜 집밥의 대표적인 음식이지.\\n맞아, 국물이 정말 맛있어.\\n그럼 고기나 두부 넣어서 만들어?\\n보통 돼지고기랑 두부 넣어서 해.'}\n",
      "{'idx': 4002, 'class': '일반 대화', 'conversation': \"너는 어떤 장르 좋아해?\\n나는 록 음악을 좋아해.\\n오, 록! 그럼 Queen 좋아해?\\n당연하지, 'Bohemian Rhapsody'는 진짜 명곡이지.\\n록은 항상 힘이 느껴지는 것 같아.\\n맞아, 그런 에너지가 너무 좋아.\\n다른 록 밴드도 좋아해?\\nAC/DC나 Led Zeppelin도 좋아해.\"}\n",
      "{'idx': 4003, 'class': '일반 대화', 'conversation': '오늘 점심 뭐 먹을까요?\\n저는 김밥 먹고 싶은데, 다른 사람들은 어떻게 생각해요?\\n저는 괜찮아요. 김밥도 좋은 선택이죠.\\n그럼 김밥으로 정할까요?'}\n"
     ]
    }
   ],
   "source": [
    "idx = 4600 \n",
    "\n",
    "# JSON 불러오기\n",
    "with open(\"./raw_json/conversation_th.json\", \"r\", encoding=\"utf-8\") as f:\n",
    "    data = json.load(f)\n",
    "\n",
    "# 전처리: 대화를 하나의 문장으로 결합 + 레이블 부여\n",
    "\n",
    "for item in data:\n",
    "    full_text = \"\\n\".join(item[\"conversation\"])\n",
    "    label = item[\"class\"]\n",
    "    idx = idx + 1\n",
    "    processed.append({\"idx\":idx, \"class\": \"일반 대화\", \"conversation\": item[\"conversation\"]})\n",
    "\n",
    "# 예시 출력\n",
    "for item in processed[:3]:\n",
    "    print(item)"
   ]
  },
  {
   "cell_type": "code",
   "execution_count": 7,
   "id": "c93583a8",
   "metadata": {},
   "outputs": [
    {
     "data": {
      "text/plain": [
       "732"
      ]
     },
     "execution_count": 7,
     "metadata": {},
     "output_type": "execute_result"
    }
   ],
   "source": [
    "len(processed)"
   ]
  },
  {
   "cell_type": "code",
   "execution_count": 8,
   "id": "67a2bdaf",
   "metadata": {},
   "outputs": [
    {
     "name": "stdout",
     "output_type": "stream",
     "text": [
      "{'idx': 4001, 'class': '일반 대화', 'conversation': '집에서 자주 만드는 음식 있어?\\n응, 김치찌개 자주 만들어.\\n오, 김치찌개! 어떤 맛으로 만들어?\\n좀 맵고 짭짤한 맛으로 만들어.\\n김치찌개는 진짜 집밥의 대표적인 음식이지.\\n맞아, 국물이 정말 맛있어.\\n그럼 고기나 두부 넣어서 만들어?\\n보통 돼지고기랑 두부 넣어서 해.'}\n",
      "{'idx': 4002, 'class': '일반 대화', 'conversation': \"너는 어떤 장르 좋아해?\\n나는 록 음악을 좋아해.\\n오, 록! 그럼 Queen 좋아해?\\n당연하지, 'Bohemian Rhapsody'는 진짜 명곡이지.\\n록은 항상 힘이 느껴지는 것 같아.\\n맞아, 그런 에너지가 너무 좋아.\\n다른 록 밴드도 좋아해?\\nAC/DC나 Led Zeppelin도 좋아해.\"}\n",
      "{'idx': 4003, 'class': '일반 대화', 'conversation': '오늘 점심 뭐 먹을까요?\\n저는 김밥 먹고 싶은데, 다른 사람들은 어떻게 생각해요?\\n저는 괜찮아요. 김밥도 좋은 선택이죠.\\n그럼 김밥으로 정할까요?'}\n"
     ]
    }
   ],
   "source": [
    "idx = 4900 \n",
    "\n",
    "# JSON 불러오기\n",
    "with open(\"./raw_json/conversation_cy.json\", \"r\", encoding=\"utf-8\") as f:\n",
    "    data = json.load(f)\n",
    "\n",
    "# 전처리: 대화를 하나의 문장으로 결합 + 레이블 부여\n",
    "\n",
    "for item in data:\n",
    "    full_text = \"\\n\".join(item[\"conversation\"])\n",
    "    label = item[\"class\"]\n",
    "    idx = idx + 1\n",
    "    processed.append({\"idx\":idx, \"class\": \"일반 대화\", \"conversation\": item[\"conversation\"]})\n",
    "\n",
    "# 예시 출력\n",
    "for item in processed[:3]:\n",
    "    print(item)"
   ]
  },
  {
   "cell_type": "code",
   "execution_count": 9,
   "id": "16c886f2",
   "metadata": {},
   "outputs": [
    {
     "data": {
      "text/plain": [
       "932"
      ]
     },
     "execution_count": 9,
     "metadata": {},
     "output_type": "execute_result"
    }
   ],
   "source": [
    "len(processed)"
   ]
  },
  {
   "cell_type": "code",
   "execution_count": 10,
   "id": "e7db8ff7",
   "metadata": {},
   "outputs": [],
   "source": [
    "with open(\"./raw_csv/conversation_normal.csv\", \"w\", newline='', encoding=\"utf-8-sig\") as f:\n",
    "    writer = csv.writer(f)\n",
    "    writer.writerow([\"idx\", \"class\", \"conversation\"])\n",
    "    for item in processed:\n",
    "        writer.writerow([item[\"idx\"], item[\"class\"], item[\"conversation\"]])"
   ]
  },
  {
   "cell_type": "code",
   "execution_count": null,
   "id": "2de703aa",
   "metadata": {},
   "outputs": [],
   "source": []
  }
 ],
 "metadata": {
  "kernelspec": {
   "display_name": "Python 3 (ipykernel)",
   "language": "python",
   "name": "python3"
  },
  "language_info": {
   "codemirror_mode": {
    "name": "ipython",
    "version": 3
   },
   "file_extension": ".py",
   "mimetype": "text/x-python",
   "name": "python",
   "nbconvert_exporter": "python",
   "pygments_lexer": "ipython3",
   "version": "3.9.7"
  }
 },
 "nbformat": 4,
 "nbformat_minor": 5
}
