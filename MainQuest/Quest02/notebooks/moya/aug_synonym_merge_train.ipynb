{
 "cells": [
  {
   "cell_type": "markdown",
   "id": "096da471",
   "metadata": {},
   "source": [
    "## 데이타 증강"
   ]
  },
  {
   "cell_type": "code",
   "execution_count": 36,
   "id": "885924ed",
   "metadata": {},
   "outputs": [],
   "source": [
    "import os\n",
    "import pandas as pd\n",
    "import tensorflow\n",
    "import numpy as np"
   ]
  },
  {
   "cell_type": "code",
   "execution_count": 37,
   "id": "125480d7",
   "metadata": {},
   "outputs": [
    {
     "data": {
      "text/html": [
       "<div>\n",
       "<style scoped>\n",
       "    .dataframe tbody tr th:only-of-type {\n",
       "        vertical-align: middle;\n",
       "    }\n",
       "\n",
       "    .dataframe tbody tr th {\n",
       "        vertical-align: top;\n",
       "    }\n",
       "\n",
       "    .dataframe thead th {\n",
       "        text-align: right;\n",
       "    }\n",
       "</style>\n",
       "<table border=\"1\" class=\"dataframe\">\n",
       "  <thead>\n",
       "    <tr style=\"text-align: right;\">\n",
       "      <th></th>\n",
       "      <th>idx</th>\n",
       "      <th>class</th>\n",
       "      <th>conversation</th>\n",
       "    </tr>\n",
       "  </thead>\n",
       "  <tbody>\n",
       "    <tr>\n",
       "      <th>0</th>\n",
       "      <td>1951</td>\n",
       "      <td>직장 내 괴롭힘 대화</td>\n",
       "      <td>팀장님 이거 언제까지 마무리 하면 될까요?\\n무리하지 말고 넉넉하게 주말까지 다 작...</td>\n",
       "    </tr>\n",
       "    <tr>\n",
       "      <th>1</th>\n",
       "      <td>4756</td>\n",
       "      <td>일반 대화</td>\n",
       "      <td>내일 날씨 어떻대?\\n비 온다던데. 우산 챙겨가야 할 것 같아.\\n에이, 야외 활동...</td>\n",
       "    </tr>\n",
       "    <tr>\n",
       "      <th>2</th>\n",
       "      <td>1234</td>\n",
       "      <td>기타 괴롭힘 대화</td>\n",
       "      <td>야 쟤 좀 봐.\\n 꼴에 유행하는 옷 입었네 \\n 호박에 줄 긋는다고 수박되나 \\n...</td>\n",
       "    </tr>\n",
       "    <tr>\n",
       "      <th>3</th>\n",
       "      <td>4767</td>\n",
       "      <td>일반 대화</td>\n",
       "      <td>오늘 수업 내용 이해했어?\\n솔직히 좀 어려웠어. 너는?\\n나도 몇 부분이 헷갈리더...</td>\n",
       "    </tr>\n",
       "    <tr>\n",
       "      <th>4</th>\n",
       "      <td>1511</td>\n",
       "      <td>직장 내 괴롭힘 대화</td>\n",
       "      <td>자네 내일 아침에 우리집 들려서 출근하게\\n네?\\n내가 차가 고장났어\\n아. 그런데...</td>\n",
       "    </tr>\n",
       "  </tbody>\n",
       "</table>\n",
       "</div>"
      ],
      "text/plain": [
       "    idx        class                                       conversation\n",
       "0  1951  직장 내 괴롭힘 대화  팀장님 이거 언제까지 마무리 하면 될까요?\\n무리하지 말고 넉넉하게 주말까지 다 작...\n",
       "1  4756        일반 대화  내일 날씨 어떻대?\\n비 온다던데. 우산 챙겨가야 할 것 같아.\\n에이, 야외 활동...\n",
       "2  1234    기타 괴롭힘 대화  야 쟤 좀 봐.\\n 꼴에 유행하는 옷 입었네 \\n 호박에 줄 긋는다고 수박되나 \\n...\n",
       "3  4767        일반 대화  오늘 수업 내용 이해했어?\\n솔직히 좀 어려웠어. 너는?\\n나도 몇 부분이 헷갈리더...\n",
       "4  1511  직장 내 괴롭힘 대화  자네 내일 아침에 우리집 들려서 출근하게\\n네?\\n내가 차가 고장났어\\n아. 그런데..."
      ]
     },
     "execution_count": 37,
     "metadata": {},
     "output_type": "execute_result"
    }
   ],
   "source": [
    "current_dir = os.getcwd()\n",
    "data_dir = os.path.join(current_dir, '../../data', 'raw_csv')\n",
    "train_data_path = os.path.join(data_dir, 'merged_train.csv')\n",
    "\n",
    "train_data = pd.read_csv(train_data_path)\n",
    "train_data.head()"
   ]
  },
  {
   "cell_type": "code",
   "execution_count": 38,
   "id": "ac4f208b",
   "metadata": {},
   "outputs": [
    {
     "name": "stdout",
     "output_type": "stream",
     "text": [
      "전체 샘플수 : 4637\n",
      "<class 'pandas.core.frame.DataFrame'>\n",
      "RangeIndex: 4637 entries, 0 to 4636\n",
      "Data columns (total 3 columns):\n",
      " #   Column        Non-Null Count  Dtype \n",
      "---  ------        --------------  ----- \n",
      " 0   idx           4637 non-null   int64 \n",
      " 1   class         4637 non-null   object\n",
      " 2   conversation  4637 non-null   object\n",
      "dtypes: int64(1), object(2)\n",
      "memory usage: 108.8+ KB\n"
     ]
    }
   ],
   "source": [
    "print('전체 샘플수 :', (len(train_data)))\n",
    "train_data.info()"
   ]
  },
  {
   "cell_type": "code",
   "execution_count": 39,
   "id": "5f475c70",
   "metadata": {},
   "outputs": [],
   "source": [
    "# 0, 1, 2, 3, 4\n",
    "CLASS_NAMES = ['협박 대화', '갈취 대화', '직장 내 괴롭힘 대화', '기타 괴롭힘 대화', '일반 대화']\n",
    "\n",
    "#class_dict = {}\n",
    "#or idx, class_name in enumerate(CLASS_NAMES):\n",
    "#    class_dict[class_name] = idx\n",
    "\n",
    "#train_data['class'] = train_data['class'].apply(lambda s: class_dict[s])\n",
    "\n",
    "#train_data.head()"
   ]
  },
  {
   "cell_type": "markdown",
   "id": "7d87e956",
   "metadata": {},
   "source": [
    "**한국어 불용어 사전**"
   ]
  },
  {
   "cell_type": "code",
   "execution_count": 40,
   "id": "d7155191",
   "metadata": {},
   "outputs": [],
   "source": [
    "# 불용어 제거\n",
    "import re\n",
    "\n",
    "def preprocess_sentence(sentence):\n",
    "    sentence = sentence.lower().strip()\n",
    "\n",
    "    sentence = re.sub(r\"([?.!,])\", r\" \\1 \", sentence)\n",
    "    sentence = re.sub(r'[\" \"]+', \" \", sentence)\n",
    "    sentence = re.sub(r\"[^a-zA-Zㄱ-ㅎ가-힣ㅏ-ㅣ?.!,]+\", \" \", sentence)\n",
    "    \n",
    "    sentence = sentence.strip()\n",
    "\n",
    "    return sentence"
   ]
  },
  {
   "cell_type": "code",
   "execution_count": 41,
   "id": "50b2f5c6",
   "metadata": {},
   "outputs": [],
   "source": [
    "import re\n",
    "\n",
    "def preprocess_korean(sentence):\n",
    "    # 한글 외 모든 문자 제거\n",
    "    sentence = re.sub(r'[^ㄱ-ㅎㅏ-ㅣ가-힣\\s]', '', sentence)\n",
    "    # 연속된 공백 제거\n",
    "    sentence = re.sub(r'\\s+', ' ', sentence).strip()\n",
    "    return sentence\n"
   ]
  },
  {
   "cell_type": "markdown",
   "id": "2c5e6c33",
   "metadata": {},
   "source": [
    "**동의어**"
   ]
  },
  {
   "cell_type": "code",
   "execution_count": 42,
   "id": "215c0b18",
   "metadata": {},
   "outputs": [],
   "source": [
    "import random\n",
    "import pickle\n",
    "import re\n",
    "\n",
    "wordnet = {}\n",
    "with open(\"wordnet.pickle\", \"rb\") as f:\n",
    "    wordnet = pickle.load(f)\n",
    "\n",
    "# 전체': ['전체', '전적', '전부', '총체', '전반']\n",
    "# '인': ['인', '인간', '인물', '사람', '인류']\n",
    "#print(wordnet)"
   ]
  },
  {
   "cell_type": "code",
   "execution_count": 43,
   "id": "7ab10b50",
   "metadata": {},
   "outputs": [],
   "source": [
    "# wordnet에서 동의어 리스트를 가져온다. \n",
    "# 동의어가 없을 수도 있다\n",
    "def synonyms_from_wordnet(word):\n",
    "    synonyms = []\n",
    "    try:\n",
    "        for list in wordnet[word] :\n",
    "             synonyms.append(list)\n",
    "    except KeyError:\n",
    "        pass\n",
    "    \n",
    "    return synonyms"
   ]
  },
  {
   "cell_type": "code",
   "execution_count": 44,
   "id": "8e84ab1c",
   "metadata": {},
   "outputs": [
    {
     "name": "stdout",
     "output_type": "stream",
     "text": [
      "전체\n",
      "전적\n",
      "전부\n",
      "총체\n",
      "전반\n"
     ]
    }
   ],
   "source": [
    "#'전체': ['전체', '전적', '전부', '총체', '전반']\n",
    "synonyms = synonyms_from_wordnet( \"전체\" )\n",
    "for word in synonyms : \n",
    "    print(word)"
   ]
  },
  {
   "cell_type": "code",
   "execution_count": 45,
   "id": "6f430dc3",
   "metadata": {},
   "outputs": [],
   "source": [
    "# word list로 구성된 sentense를 동의어로 바꿔준다\n",
    "def replace_to_synonyms(input_words, count): \n",
    "     \n",
    "    # new_words\n",
    "    new_words = []\n",
    "    \n",
    "    #\n",
    "    word_list = list(set([word for word in input_words]))\n",
    "    random.shuffle(word_list)\n",
    "    \n",
    "    replace_count = 0\n",
    "    for word in word_list : \n",
    "        # 동의어 리스트를 가져온다. \n",
    "        synonyms = synonyms_from_wordnet( word )\n",
    "        \n",
    "        if len(synonyms) == 0 : continue\n",
    "        \n",
    "        synonym = random.choice(list(synonyms))\n",
    "        if( word == synonym) : continue\n",
    "            \n",
    "        new_words = [synonym if wd == word else wd for wd in input_words]\n",
    "        \n",
    "        replace_count +=1\n",
    "        \n",
    "        if replace_count >= count : break\n",
    "    \n",
    "    # \n",
    "    #if len(new_words) > 0 : \n",
    "    #    sentence = ' '.join(new_words)\n",
    "    #   new_words = sentence.split(\" \")\n",
    "    \n",
    "       \n",
    "    return new_words\n",
    "               "
   ]
  },
  {
   "cell_type": "code",
   "execution_count": null,
   "id": "765f93eb",
   "metadata": {},
   "outputs": [],
   "source": []
  },
  {
   "cell_type": "code",
   "execution_count": 46,
   "id": "e31d24b4",
   "metadata": {},
   "outputs": [],
   "source": [
    "def gen_sentence_by_swap_word(inputs_words, count):\n",
    "    \n",
    "    # new_words\n",
    "    new_words = []\n",
    "    \n",
    "    #\n",
    "#    word_list = list(set([word for word in input_words]))\n",
    "#    random.shuffle(word_list)\n",
    "    \n",
    "    return new_words"
   ]
  },
  {
   "cell_type": "code",
   "execution_count": 47,
   "id": "14c30f71",
   "metadata": {},
   "outputs": [],
   "source": [
    "def DataAugmentation(sentense, alpha_sr=0.2, aug_count=1):\n",
    "    \n",
    "    augmented_sentences = []\n",
    "    \n",
    "    # 한글만 처리\n",
    "    sentense = preprocess_korean(sentense)\n",
    "    sentense = sentense.split(' ')\n",
    "    words = [word for word in sentense if word != \"\"]\n",
    "    num_words = len(words)\n",
    "       \n",
    "    # 동의어로 단어 바꿔 문장 생성하기\n",
    "    n_sr = max(1, int(alpha_sr*num_words))\n",
    "    \n",
    "    for _ in range(aug_count):\n",
    "        a_words = replace_to_synonyms( words, n_sr )\n",
    "          \n",
    "        if( len(a_words) > 0 ):\n",
    "            augmented_sentences.append(\" \".join(a_words))\n",
    "     \n",
    "    \n",
    "    \n",
    "    # 생성된 문장들 shuffle\n",
    "    random.shuffle(augmented_sentences)\n",
    "    return augmented_sentences"
   ]
  },
  {
   "cell_type": "code",
   "execution_count": 53,
   "id": "0f1ef12f",
   "metadata": {},
   "outputs": [
    {
     "name": "stdout",
     "output_type": "stream",
     "text": [
      "9644\n",
      "9644\n"
     ]
    }
   ],
   "source": [
    "new_class_list = []\n",
    "new_conversation_list = []\n",
    "new_idx_list = []\n",
    "\n",
    "idx = len(train_data['conversation'])+1;\n",
    "          \n",
    "for i in range(len(train_data['conversation'])):\n",
    "#for i in range(2):\n",
    "    class_ = train_data['class'][i]\n",
    "    \n",
    "    num_aug = 3\n",
    "    \n",
    "    augmented_sentences = DataAugmentation(train_data['conversation'][i], aug_count=num_aug)\n",
    "    \n",
    "    if not augmented_sentences : # 리스트가 비어 있으면 True\n",
    "        continue\n",
    "        \n",
    "    for j in range(min(num_aug, len(augmented_sentences))):\n",
    "        #if not augmented_sentences[j] : continue;\n",
    "        new_class_list.append( class_ )\n",
    "        new_conversation_list.append(augmented_sentences[j])\n",
    "        idx =idx+1\n",
    "        new_idx_list.append(int(idx))\n",
    "\n",
    "print(len(new_class_list))    \n",
    "print(len(new_conversation_list)) \n",
    "        "
   ]
  },
  {
   "cell_type": "code",
   "execution_count": 54,
   "id": "a147ecd5",
   "metadata": {},
   "outputs": [
    {
     "data": {
      "text/plain": [
       "0    팀장님 이거 언제까지 마무리 하면 될까요?\\n무리하지 말고 넉넉하게 주말까지 다 작...\n",
       "Name: conversation, dtype: object"
      ]
     },
     "execution_count": 54,
     "metadata": {},
     "output_type": "execute_result"
    }
   ],
   "source": [
    "train_data['conversation'][0:1]"
   ]
  },
  {
   "cell_type": "code",
   "execution_count": 55,
   "id": "c78594fd",
   "metadata": {
    "scrolled": true
   },
   "outputs": [
    {
     "data": {
      "text/plain": [
       "['내일 날씨 어떻대 비 온다던데 우산 챙겨가야 할 것 같아 에이 야외 활동 계획했는데 아쉽다 다른 날로 미루는 게 어때 그래야겠다 주말에는 맑다던데 좋아 그럼 토요일로 미루자 토요일 몇 시에 만날까 오전 정의 어때 점심도 같이 먹고 완벽해 어디서 만날까 시내 광장에서 보자 거기서 출발하기 좋을 것 같아',\n",
       " '야 쟤 좀 봐 꼴에 유행하는 의류 입었네 호박에 줄 긋는다고 수박되나 으엑 못생겼어 다 들리거든 그만해줘 그럼 들리라고 하는 소리지 내가 뭘 잘못했는데 니 존재 자체가 쟤는 못생기고 찐따고 공부도 못하고 친구도 없어서 전교 찐따래요',\n",
       " '야 쟤 좀 봐 꼴에 유행하는 피복 입었네 호박에 줄 긋는다고 수박되나 으엑 못생겼어 다 들리거든 그만해줘 그럼 들리라고 하는 소리지 내가 뭘 잘못했는데 니 존재 자체가 쟤는 못생기고 찐따고 공부도 못하고 친구도 없어서 전교 찐따래요']"
      ]
     },
     "execution_count": 55,
     "metadata": {},
     "output_type": "execute_result"
    }
   ],
   "source": [
    "new_conversation_list[0:3]"
   ]
  },
  {
   "cell_type": "code",
   "execution_count": 56,
   "id": "efa7c76c",
   "metadata": {},
   "outputs": [],
   "source": [
    "aug_data = pd.DataFrame([new_idx_list, new_class_list, new_conversation_list],\n",
    "                  index=['idx','class','conversation'],\n",
    "                 columns=[x for x in range(len(new_class_list))])\n",
    "aug_data  = aug_data .transpose()"
   ]
  },
  {
   "cell_type": "code",
   "execution_count": 57,
   "id": "5e525f5a",
   "metadata": {
    "scrolled": true
   },
   "outputs": [
    {
     "data": {
      "text/plain": [
       "0    내일 날씨 어떻대 비 온다던데 우산 챙겨가야 할 것 같아 에이 야외 활동 계획했는데...\n",
       "1    야 쟤 좀 봐 꼴에 유행하는 의류 입었네 호박에 줄 긋는다고 수박되나 으엑 못생겼어...\n",
       "Name: conversation, dtype: object"
      ]
     },
     "execution_count": 57,
     "metadata": {},
     "output_type": "execute_result"
    }
   ],
   "source": [
    "aug_data['conversation'][0:2]"
   ]
  },
  {
   "cell_type": "code",
   "execution_count": 66,
   "id": "cf24e1e0",
   "metadata": {},
   "outputs": [],
   "source": [
    "aug_train_data = train_data.append(aug_data)\n",
    "\n",
    "aug_train_data = aug_train_data.sample(frac=1).reset_index(drop=True)\n",
    "\n",
    "aug_train_data['idx'] = [x for x in range(len(aug_train_data))]\n",
    "aug_train_data = aug_train_data.reset_index(drop=True)"
   ]
  },
  {
   "cell_type": "code",
   "execution_count": 67,
   "id": "c2c9e7a1",
   "metadata": {},
   "outputs": [
    {
     "data": {
      "text/plain": [
       "0    어이 코털 왜 왜 아놔됐고 너 매점가서 곰보빵 두개에 콜라하나 사와라 춘추 돈없어 ...\n",
       "1    쟤 먹는거 봐 토쏠려 저리 가줄래 꼴에 먹는거는 좋아해사지고 그래서 니가 돼지 인거...\n",
       "Name: conversation, dtype: object"
      ]
     },
     "execution_count": 67,
     "metadata": {},
     "output_type": "execute_result"
    }
   ],
   "source": [
    "aug_train_data['conversation'][0:2]"
   ]
  },
  {
   "cell_type": "code",
   "execution_count": 68,
   "id": "aeb17e6c",
   "metadata": {},
   "outputs": [
    {
     "data": {
      "text/html": [
       "<div>\n",
       "<style scoped>\n",
       "    .dataframe tbody tr th:only-of-type {\n",
       "        vertical-align: middle;\n",
       "    }\n",
       "\n",
       "    .dataframe tbody tr th {\n",
       "        vertical-align: top;\n",
       "    }\n",
       "\n",
       "    .dataframe thead th {\n",
       "        text-align: right;\n",
       "    }\n",
       "</style>\n",
       "<table border=\"1\" class=\"dataframe\">\n",
       "  <thead>\n",
       "    <tr style=\"text-align: right;\">\n",
       "      <th></th>\n",
       "      <th>idx</th>\n",
       "      <th>class</th>\n",
       "      <th>conversation</th>\n",
       "    </tr>\n",
       "  </thead>\n",
       "  <tbody>\n",
       "    <tr>\n",
       "      <th>0</th>\n",
       "      <td>0</td>\n",
       "      <td>기타 괴롭힘 대화</td>\n",
       "      <td>어이 코털 왜 왜 아놔됐고 너 매점가서 곰보빵 두개에 콜라하나 사와라 춘추 돈없어 ...</td>\n",
       "    </tr>\n",
       "    <tr>\n",
       "      <th>1</th>\n",
       "      <td>1</td>\n",
       "      <td>기타 괴롭힘 대화</td>\n",
       "      <td>쟤 먹는거 봐 토쏠려 저리 가줄래 꼴에 먹는거는 좋아해사지고 그래서 니가 돼지 인거...</td>\n",
       "    </tr>\n",
       "    <tr>\n",
       "      <th>2</th>\n",
       "      <td>2</td>\n",
       "      <td>일반 대화</td>\n",
       "      <td>이 의류 색깔 진짜 예쁘네요 네 저도 이 색깔이 너무 마음에 들어요 이 색깔이 잘 ...</td>\n",
       "    </tr>\n",
       "    <tr>\n",
       "      <th>3</th>\n",
       "      <td>3</td>\n",
       "      <td>직장 내 괴롭힘 대화</td>\n",
       "      <td>야 새꺄 일로와바 일병 보니까 너네가 이미 노래방 청소했는데 우리가 거기 담당이더라...</td>\n",
       "    </tr>\n",
       "    <tr>\n",
       "      <th>4</th>\n",
       "      <td>4</td>\n",
       "      <td>기타 괴롭힘 대화</td>\n",
       "      <td>야 넌 체육 수행평가 만점이라며 야 좋겠다 나도 다리 병신이었으면 얼마나 좋았을까 ...</td>\n",
       "    </tr>\n",
       "  </tbody>\n",
       "</table>\n",
       "</div>"
      ],
      "text/plain": [
       "   idx        class                                       conversation\n",
       "0    0    기타 괴롭힘 대화  어이 코털 왜 왜 아놔됐고 너 매점가서 곰보빵 두개에 콜라하나 사와라 춘추 돈없어 ...\n",
       "1    1    기타 괴롭힘 대화  쟤 먹는거 봐 토쏠려 저리 가줄래 꼴에 먹는거는 좋아해사지고 그래서 니가 돼지 인거...\n",
       "2    2        일반 대화  이 의류 색깔 진짜 예쁘네요 네 저도 이 색깔이 너무 마음에 들어요 이 색깔이 잘 ...\n",
       "3    3  직장 내 괴롭힘 대화  야 새꺄 일로와바 일병 보니까 너네가 이미 노래방 청소했는데 우리가 거기 담당이더라...\n",
       "4    4    기타 괴롭힘 대화  야 넌 체육 수행평가 만점이라며 야 좋겠다 나도 다리 병신이었으면 얼마나 좋았을까 ..."
      ]
     },
     "execution_count": 68,
     "metadata": {},
     "output_type": "execute_result"
    }
   ],
   "source": [
    "aug_train_data.head()"
   ]
  },
  {
   "cell_type": "code",
   "execution_count": 69,
   "id": "5dd9d9ce",
   "metadata": {},
   "outputs": [
    {
     "data": {
      "text/html": [
       "<div>\n",
       "<style scoped>\n",
       "    .dataframe tbody tr th:only-of-type {\n",
       "        vertical-align: middle;\n",
       "    }\n",
       "\n",
       "    .dataframe tbody tr th {\n",
       "        vertical-align: top;\n",
       "    }\n",
       "\n",
       "    .dataframe thead th {\n",
       "        text-align: right;\n",
       "    }\n",
       "</style>\n",
       "<table border=\"1\" class=\"dataframe\">\n",
       "  <thead>\n",
       "    <tr style=\"text-align: right;\">\n",
       "      <th></th>\n",
       "      <th>idx</th>\n",
       "      <th>class</th>\n",
       "      <th>conversation</th>\n",
       "    </tr>\n",
       "  </thead>\n",
       "  <tbody>\n",
       "    <tr>\n",
       "      <th>14276</th>\n",
       "      <td>14276</td>\n",
       "      <td>일반 대화</td>\n",
       "      <td>오늘 저녁에 뭐해 특별한 계획은 없어 왜 새로 생긴 보드게임 찻집 가보지 않을래 오...</td>\n",
       "    </tr>\n",
       "    <tr>\n",
       "      <th>14277</th>\n",
       "      <td>14277</td>\n",
       "      <td>갈취 대화</td>\n",
       "      <td>승한아 나 버스비 충전해야하는데 돈이 없어 만원만 빌려주라 응 안돼 나 한달 용돈 ...</td>\n",
       "    </tr>\n",
       "    <tr>\n",
       "      <th>14278</th>\n",
       "      <td>14278</td>\n",
       "      <td>기타 괴롭힘 대화</td>\n",
       "      <td>애들아 공연 연습하자 이번주에 종국 평가 있어 빨리 하자 야 김정미 너는 왜 맨날 ...</td>\n",
       "    </tr>\n",
       "    <tr>\n",
       "      <th>14279</th>\n",
       "      <td>14279</td>\n",
       "      <td>일반 대화</td>\n",
       "      <td>요즘 어떤 운동 하고 있어 나는 요가를 하고 있어 몸이 유연해져 오 요가 좋지 어떤...</td>\n",
       "    </tr>\n",
       "    <tr>\n",
       "      <th>14280</th>\n",
       "      <td>14280</td>\n",
       "      <td>직장 내 괴롭힘 대화</td>\n",
       "      <td>장원씨 오늘 왜이렇게 조용해요?\\n일하니까요.\\n말 좀 해봐요 노래 부르던지 \\n네...</td>\n",
       "    </tr>\n",
       "  </tbody>\n",
       "</table>\n",
       "</div>"
      ],
      "text/plain": [
       "         idx        class                                       conversation\n",
       "14276  14276        일반 대화  오늘 저녁에 뭐해 특별한 계획은 없어 왜 새로 생긴 보드게임 찻집 가보지 않을래 오...\n",
       "14277  14277        갈취 대화  승한아 나 버스비 충전해야하는데 돈이 없어 만원만 빌려주라 응 안돼 나 한달 용돈 ...\n",
       "14278  14278    기타 괴롭힘 대화  애들아 공연 연습하자 이번주에 종국 평가 있어 빨리 하자 야 김정미 너는 왜 맨날 ...\n",
       "14279  14279        일반 대화  요즘 어떤 운동 하고 있어 나는 요가를 하고 있어 몸이 유연해져 오 요가 좋지 어떤...\n",
       "14280  14280  직장 내 괴롭힘 대화  장원씨 오늘 왜이렇게 조용해요?\\n일하니까요.\\n말 좀 해봐요 노래 부르던지 \\n네..."
      ]
     },
     "execution_count": 69,
     "metadata": {},
     "output_type": "execute_result"
    }
   ],
   "source": [
    "aug_train_data.tail()"
   ]
  },
  {
   "cell_type": "code",
   "execution_count": 70,
   "id": "f70ddcb6",
   "metadata": {
    "scrolled": true
   },
   "outputs": [
    {
     "name": "stdout",
     "output_type": "stream",
     "text": [
      "14281\n"
     ]
    }
   ],
   "source": [
    "print(len(aug_train_data))"
   ]
  },
  {
   "cell_type": "code",
   "execution_count": 71,
   "id": "8de36736",
   "metadata": {},
   "outputs": [
    {
     "name": "stdout",
     "output_type": "stream",
     "text": [
      "갈취 대화          3278\n",
      "기타 괴롭힘 대화      2997\n",
      "협박 대화          2826\n",
      "직장 내 괴롭힘 대화    2758\n",
      "일반 대화          2422\n",
      "Name: class, dtype: int64\n"
     ]
    }
   ],
   "source": [
    "class_counts = aug_train_data['class'].value_counts()\n",
    "\n",
    "print(class_counts)"
   ]
  },
  {
   "cell_type": "code",
   "execution_count": 72,
   "id": "5d9c42b6",
   "metadata": {},
   "outputs": [],
   "source": [
    "aug_train_data.to_csv('../../data/raw_csv/aug_train.csv', index=False, encoding='utf-8-sig')  # index=False는 인덱스를 저장하지 않도록 함"
   ]
  },
  {
   "cell_type": "code",
   "execution_count": null,
   "id": "d0d913ab",
   "metadata": {},
   "outputs": [],
   "source": []
  }
 ],
 "metadata": {
  "kernelspec": {
   "display_name": "Python 3 (ipykernel)",
   "language": "python",
   "name": "python3"
  },
  "language_info": {
   "codemirror_mode": {
    "name": "ipython",
    "version": 3
   },
   "file_extension": ".py",
   "mimetype": "text/x-python",
   "name": "python",
   "nbconvert_exporter": "python",
   "pygments_lexer": "ipython3",
   "version": "3.9.7"
  }
 },
 "nbformat": 4,
 "nbformat_minor": 5
}
