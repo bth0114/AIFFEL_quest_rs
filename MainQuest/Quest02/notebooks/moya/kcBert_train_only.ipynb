{
 "cells": [
  {
   "cell_type": "code",
   "execution_count": 1,
   "id": "0v7y6VSXGf4o",
   "metadata": {
    "colab": {
     "base_uri": "https://localhost:8080/"
    },
    "executionInfo": {
     "elapsed": 2361,
     "status": "ok",
     "timestamp": 1746166627852,
     "user": {
      "displayName": "김영숙",
      "userId": "03881564225340792924"
     },
     "user_tz": -540
    },
    "id": "0v7y6VSXGf4o",
    "outputId": "28adefbe-e940-4dad-a169-819d383cb90f"
   },
   "outputs": [
    {
     "name": "stdout",
     "output_type": "stream",
     "text": [
      "Requirement already satisfied: wandb in /usr/local/lib/python3.11/dist-packages (0.19.10)\n",
      "Requirement already satisfied: click!=8.0.0,>=7.1 in /usr/local/lib/python3.11/dist-packages (from wandb) (8.1.8)\n",
      "Requirement already satisfied: docker-pycreds>=0.4.0 in /usr/local/lib/python3.11/dist-packages (from wandb) (0.4.0)\n",
      "Requirement already satisfied: gitpython!=3.1.29,>=1.0.0 in /usr/local/lib/python3.11/dist-packages (from wandb) (3.1.44)\n",
      "Requirement already satisfied: platformdirs in /usr/local/lib/python3.11/dist-packages (from wandb) (4.3.7)\n",
      "Requirement already satisfied: protobuf!=4.21.0,!=5.28.0,<7,>=3.19.0 in /usr/local/lib/python3.11/dist-packages (from wandb) (5.29.4)\n",
      "Requirement already satisfied: psutil>=5.0.0 in /usr/local/lib/python3.11/dist-packages (from wandb) (5.9.5)\n",
      "Requirement already satisfied: pydantic<3 in /usr/local/lib/python3.11/dist-packages (from wandb) (2.11.3)\n",
      "Requirement already satisfied: pyyaml in /usr/local/lib/python3.11/dist-packages (from wandb) (6.0.2)\n",
      "Requirement already satisfied: requests<3,>=2.0.0 in /usr/local/lib/python3.11/dist-packages (from wandb) (2.32.3)\n",
      "Requirement already satisfied: sentry-sdk>=2.0.0 in /usr/local/lib/python3.11/dist-packages (from wandb) (2.27.0)\n",
      "Requirement already satisfied: setproctitle in /usr/local/lib/python3.11/dist-packages (from wandb) (1.3.6)\n",
      "Requirement already satisfied: setuptools in /usr/local/lib/python3.11/dist-packages (from wandb) (75.2.0)\n",
      "Requirement already satisfied: typing-extensions<5,>=4.4 in /usr/local/lib/python3.11/dist-packages (from wandb) (4.13.2)\n",
      "Requirement already satisfied: six>=1.4.0 in /usr/local/lib/python3.11/dist-packages (from docker-pycreds>=0.4.0->wandb) (1.17.0)\n",
      "Requirement already satisfied: gitdb<5,>=4.0.1 in /usr/local/lib/python3.11/dist-packages (from gitpython!=3.1.29,>=1.0.0->wandb) (4.0.12)\n",
      "Requirement already satisfied: annotated-types>=0.6.0 in /usr/local/lib/python3.11/dist-packages (from pydantic<3->wandb) (0.7.0)\n",
      "Requirement already satisfied: pydantic-core==2.33.1 in /usr/local/lib/python3.11/dist-packages (from pydantic<3->wandb) (2.33.1)\n",
      "Requirement already satisfied: typing-inspection>=0.4.0 in /usr/local/lib/python3.11/dist-packages (from pydantic<3->wandb) (0.4.0)\n",
      "Requirement already satisfied: charset-normalizer<4,>=2 in /usr/local/lib/python3.11/dist-packages (from requests<3,>=2.0.0->wandb) (3.4.1)\n",
      "Requirement already satisfied: idna<4,>=2.5 in /usr/local/lib/python3.11/dist-packages (from requests<3,>=2.0.0->wandb) (3.10)\n",
      "Requirement already satisfied: urllib3<3,>=1.21.1 in /usr/local/lib/python3.11/dist-packages (from requests<3,>=2.0.0->wandb) (2.4.0)\n",
      "Requirement already satisfied: certifi>=2017.4.17 in /usr/local/lib/python3.11/dist-packages (from requests<3,>=2.0.0->wandb) (2025.4.26)\n",
      "Requirement already satisfied: smmap<6,>=3.0.1 in /usr/local/lib/python3.11/dist-packages (from gitdb<5,>=4.0.1->gitpython!=3.1.29,>=1.0.0->wandb) (5.0.2)\n"
     ]
    }
   ],
   "source": [
    "#!pip install konlpy\n",
    "!pip install --upgrade wandb"
   ]
  },
  {
   "cell_type": "code",
   "execution_count": 2,
   "id": "da089410",
   "metadata": {
    "colab": {
     "base_uri": "https://localhost:8080/"
    },
    "executionInfo": {
     "elapsed": 8704,
     "status": "ok",
     "timestamp": 1746166636560,
     "user": {
      "displayName": "김영숙",
      "userId": "03881564225340792924"
     },
     "user_tz": -540
    },
    "id": "da089410",
    "outputId": "4d7d098d-df65-4249-da02-f3646352a765"
   },
   "outputs": [
    {
     "name": "stdout",
     "output_type": "stream",
     "text": [
      "4.51.3\n",
      "2.18.0\n"
     ]
    }
   ],
   "source": [
    "import os\n",
    "import pandas as pd\n",
    "import tensorflow\n",
    "import numpy as np\n",
    "import transformers\n",
    "import torch\n",
    "import pandas as pd\n",
    "import tensorflow as tf\n",
    "\n",
    "from transformers import Trainer, TrainingArguments\n",
    "from transformers import BertTokenizer, BertForSequenceClassification\n",
    "from sklearn.model_selection import train_test_split\n",
    "\n",
    "print(transformers.__version__)\n",
    "print(tf.__version__)\n",
    "\n"
   ]
  },
  {
   "cell_type": "code",
   "execution_count": 3,
   "id": "89dcbe36",
   "metadata": {
    "colab": {
     "base_uri": "https://localhost:8080/"
    },
    "executionInfo": {
     "elapsed": 5,
     "status": "ok",
     "timestamp": 1746166636567,
     "user": {
      "displayName": "김영숙",
      "userId": "03881564225340792924"
     },
     "user_tz": -540
    },
    "id": "89dcbe36",
    "outputId": "4e38087d-4b6c-4b22-df91-c248596221ec"
   },
   "outputs": [
    {
     "name": "stdout",
     "output_type": "stream",
     "text": [
      "TPU 환경이 아님. GPU 또는 CPU 사용 중입니다.\n"
     ]
    }
   ],
   "source": [
    "import tensorflow as tf\n",
    "import os\n",
    "\n",
    "if 'COLAB_TPU_ADDR' in os.environ:\n",
    "    resolver = tf.distribute.cluster_resolver.TPUClusterResolver(\n",
    "        tpu='grpc://' + os.environ['COLAB_TPU_ADDR']\n",
    "    )\n",
    "    tf.config.experimental_connect_to_cluster(resolver)\n",
    "    tf.tpu.experimental.initialize_tpu_system(resolver)\n",
    "    strategy = tf.distribute.TPUStrategy(resolver)\n",
    "    print(\"TPU initialized.\")\n",
    "else:\n",
    "    print(\"TPU 환경이 아님. GPU 또는 CPU 사용 중입니다.\")"
   ]
  },
  {
   "cell_type": "markdown",
   "id": "fd5a9b33",
   "metadata": {
    "id": "fd5a9b33"
   },
   "source": [
    "**데이타**"
   ]
  },
  {
   "cell_type": "code",
   "execution_count": 4,
   "id": "bvgXAqbuunMC",
   "metadata": {
    "colab": {
     "base_uri": "https://localhost:8080/"
    },
    "executionInfo": {
     "elapsed": 2150,
     "status": "ok",
     "timestamp": 1746166638719,
     "user": {
      "displayName": "김영숙",
      "userId": "03881564225340792924"
     },
     "user_tz": -540
    },
    "id": "bvgXAqbuunMC",
    "outputId": "81c4cfd2-2c0a-4f98-99e3-eeca3586a7dc"
   },
   "outputs": [
    {
     "name": "stdout",
     "output_type": "stream",
     "text": [
      "Drive already mounted at /content/drive; to attempt to forcibly remount, call drive.mount(\"/content/drive\", force_remount=True).\n"
     ]
    }
   ],
   "source": [
    "from google.colab import drive\n",
    "drive.mount('/content/drive')"
   ]
  },
  {
   "cell_type": "code",
   "execution_count": 5,
   "id": "uPxHYFz9tjv6",
   "metadata": {
    "colab": {
     "base_uri": "https://localhost:8080/"
    },
    "executionInfo": {
     "elapsed": 10,
     "status": "ok",
     "timestamp": 1746166638730,
     "user": {
      "displayName": "김영숙",
      "userId": "03881564225340792924"
     },
     "user_tz": -540
    },
    "id": "uPxHYFz9tjv6",
    "outputId": "ecc27c32-3a0d-4669-d5d1-de2b9a0487d7"
   },
   "outputs": [
    {
     "name": "stdout",
     "output_type": "stream",
     "text": [
      "/content/drive/MyDrive/Colab Notebooks/Aiffel/AIFFEL_DLThon_DKTC\n"
     ]
    }
   ],
   "source": [
    "%cd /content/drive/MyDrive/Colab Notebooks/Aiffel/AIFFEL_DLThon_DKTC"
   ]
  },
  {
   "cell_type": "markdown",
   "id": "VQIkxKJtH-F2",
   "metadata": {
    "id": "VQIkxKJtH-F2"
   },
   "source": [
    "original_train 데이타만 사용한다."
   ]
  },
  {
   "cell_type": "code",
   "execution_count": 6,
   "id": "da49d2e8",
   "metadata": {
    "colab": {
     "base_uri": "https://localhost:8080/",
     "height": 206
    },
    "executionInfo": {
     "elapsed": 95,
     "status": "ok",
     "timestamp": 1746166638827,
     "user": {
      "displayName": "김영숙",
      "userId": "03881564225340792924"
     },
     "user_tz": -540
    },
    "id": "da49d2e8",
    "outputId": "3b230749-6678-4d0c-d4e0-d5377696e951"
   },
   "outputs": [
    {
     "data": {
      "application/vnd.google.colaboratory.intrinsic+json": {
       "summary": "{\n  \"name\": \"train_data\",\n  \"rows\": 4637,\n  \"fields\": [\n    {\n      \"column\": \"idx\",\n      \"properties\": {\n        \"dtype\": \"number\",\n        \"std\": 1455,\n        \"min\": 0,\n        \"max\": 5100,\n        \"num_unique_values\": 4472,\n        \"samples\": [\n          1418,\n          1177,\n          5057\n        ],\n        \"semantic_type\": \"\",\n        \"description\": \"\"\n      }\n    },\n    {\n      \"column\": \"class\",\n      \"properties\": {\n        \"dtype\": \"category\",\n        \"num_unique_values\": 5,\n        \"samples\": [\n          \"\\uc77c\\ubc18 \\ub300\\ud654\",\n          \"\\uac08\\ucde8 \\ub300\\ud654\",\n          \"\\uae30\\ud0c0 \\uad34\\ub86d\\ud798 \\ub300\\ud654\"\n        ],\n        \"semantic_type\": \"\",\n        \"description\": \"\"\n      }\n    },\n    {\n      \"column\": \"conversation\",\n      \"properties\": {\n        \"dtype\": \"string\",\n        \"num_unique_values\": 4637,\n        \"samples\": [\n          \"\\ubbf8\\uc9c4\\uc528 \\uc57c\\uc2dd \\uba39\\uc73c\\ub7ec \\uac00\\uc790\\n\\uc624\\ub298\\uc740 \\uc77c\\uc774 \\uc788\\uc5b4\\uc11c\\uc694\\n\\uc544\\uc774 \\uc880 \\ubbf8\\ub8e8\\uace0 \\ubc25 \\uba39\\uc73c\\ub7ec \\uac00\\uc790\\n\\uc8c4\\uc1a1\\ud569\\ub2c8\\ub2e4\\n\\uc544\\ub2c8 \\uc0c1\\uc0ac\\uac00 \\ubc25 \\uba39\\uc790\\ub294\\ub370 \\uac70\\uc808\\ud558\\ub294\\uac70\\uc57c?\\n\\uc815\\ub9d0 \\uc8c4\\uc1a1\\ud574\\uc694\\n\\uac70\\ucc38 \\ub9d0 \\ubabb \\uc54c\\uc544\\ub4e3\\ub124 \\uadf8\\ub0e5 \\uac00\\uc9c0?\\n\\uc8c4\\uc1a1\\ud569\\ub2c8\\ub2e4\\n\\uc774\\ub807\\uac8c \\uc735\\ud1b5\\uc131\\uc774 \\uc5c6\\uc5b4\\uc11c\\uc57c \\ucbe7\\n\\uc8c4\\uc1a1\\ud569\\ub2c8\\ub2e4\",\n          \"\\uc800\\uae30. \\uacfc\\uc7a5\\ub2d8 \\ud639\\uc2dc \\uc9c0\\uae08 \\uc7a0\\uae50 \\uc2dc\\uac04 \\ub418\\uc2ed\\ub2c8\\uae4c?\\n\\uc5b4 \\uc65c \\ubb34\\uc2a8 \\uc6a9\\uac74\\uc774\\uc57c\\n\\ub2e4\\ub984\\uc774 \\uc544\\ub2c8\\uace0 \\uc774\\ubc88 \\ub2ec \\uc6d4\\uae09\\uc774 \\uc800\\ubc88\\ub2ec\\uc5d0 \\ube44\\ud574 \\ub9ce\\uc774 \\uc801\\uac8c \\ub4e4\\uc5b4\\uc640\\uc11c\\uc694 \\uc815\\uc0b0\\uacfc\\uc815\\uc5d0\\uc11c \\ubb38\\uc81c\\uac00 \\uc788\\uc9c0 \\uc54a\\uc558\\ub098 \\uc2f6\\uc5b4 \\ub9d0\\uc500\\ub4dc\\ub9bd\\ub2c8\\ub2e4.\\n\\uc544\\ub2c8? \\uadf8\\uac70 \\ub2c8 \\uc6d4\\uae09 \\ub9de\\uc544 \\ub450 \\ubc88 \\ud655\\uc778\\ud558\\uace0 \\uc785\\uae08\\ud55c\\uac70\\uc57c\\n\\ub124? \\uc800\\ubc88\\ub2ec\\uc5d0 \\ube44\\ud574\\uc11c \\uc65c \\uc774\\ub807\\uac8c \\uc801\\uac8c \\uc785\\uae08 \\ub410\\ub294\\uc9c0 \\uc54c \\uc218 \\uc788\\uc744\\uae4c\\uc694?\\n\\uadf8\\uac83\\ub3c4 \\ubaa8\\ub974\\ub0d0? \\ubb50 \\ubed4\\ud558\\uc9c0 \\ub108 \\uc6b0\\ub9ac\\uc9d1\\uc548\\uc774 \\ubc95\\uce74 \\ub9c8\\uc74c\\ub300\\ub85c \\uc4f0\\uace0 \\ub2e4\\ub2cc\\ub2e4\\uace0 \\uc2e0\\uace0\\ud55c\\uac70 \\ub108\\uc796\\uc544 \\ubaa8\\ub97c \\uc904 \\uc54c\\uc544?\\n\\uc800 \\uadf8\\ub7f0\\uac78\\ub85c \\uc2e0\\uace0\\ud55c\\uc801 \\uc5c6\\ub294\\ub370\\uc694. \\ubb54\\uac00 \\uc624\\ud574\\uac00 \\uc788\\uc73c\\uc168\\ub358\\uac70 \\uac19\\uc2b5\\ub2c8\\ub2e4 \\uacfc\\uc7a5\\ub2d8\\n\\ub108\\ub4e0 \\uc544\\ub2c8\\ub4e0 \\ub204\\uac00 \\uc2e0\\uace0\\ud574\\uc11c \\ub3c8 \\ub0b4\\ubc49\\uc5c8\\uc73c\\ub2c8\\uae4c \\uc81c\\uc77c \\uc77c \\ubabb\\ud558\\uace0 \\uc5b4\\ub9ac\\ubc84\\ub9ac\\ud558\\ub294 \\ub108\\uac00 \\ucc45\\uc784\\uc838\\n\\uc81c\\uac00 \\uadf8\\ub7f0 \\uac8c \\uc544\\ub2c8\\uc5d0\\uc694. \\uc800 \\uc774\\ubc88\\ub2ec\\uc5d0 \\uc6d4\\uc138\\ub3c4 \\ub0b4\\uc57c\\ud574\\uc11c \\ub9ce\\uc774 \\ube61\\ube61\\ud55c\\ub370 \\ud55c \\ubc88\\ub9cc \\ub2e4\\uc2dc \\uc54c\\uc544\\ubcf4\\uc2dc\\uace0 \\uc800\\uba74 \\uc6d4\\uae09\\uc744 \\uae4d\\uc73c\\uba74 \\uc548\\ub418\\uc2e4\\uae4c\\uc694?\\n\\ub0b4\\uac00 \\ub2c8 \\ub530\\uc704 \\uc6d4\\uae09 \\ub354 \\uc918\\uc57c\\ud574\\uc11c \\uadf8\\ub7f0 \\uc77c\\uc744 \\ubcf5\\uc7a1\\ud558\\uac8c \\ud558\\ub77c\\uace0? \\ub2c8\\uac00 \\ubb54\\ub370 \\ub108 \\ud558\\ub294 \\uaf2c\\ub77c\\uc9c0 \\ubcf4\\uba74 \\ub3c8 10\\ub9cc \\ubc1b\\uc544\\uac00\\ub3c4 \\uc544\\uae4c\\uc6cc \\uc8fd\\uc744\\uc9c0\\uacbd\\uc774\\uc57c\\n\\ub2c8\\uac00 \\uc800\\ub141\\uc5d0 \\ud22c\\uc7a1\\uc744 \\ub6f0\\uc5b4\\uc11c \\ubc8c\\ub358 \\uc54c\\uc544\\uc11c\\ud574 \\uc9dc\\uc99d\\ub098\\uac8c \\ud558\\uc9c0\\ub9d0\\uace0\",\n          \"\\uc774\\ubc88\\ub2ec\\uc5d0\\ub294 \\ub9e4\\uc7a5 \\ub9ac\\ubaa8\\ub378\\ub9c1 \\ud558\\uc138\\uc694\\n\\uac11\\uc790\\uae30 \\uadf8\\uac8c \\ubb34\\uc2a8 \\ub9d0\\uc500\\uc774\\uc138\\uc694\\n1000\\ub9cc\\uc6d0\\ub9cc \\uc4f0\\uc2ec\\ub429\\ub2c8\\ub2e4 500\\ub9cc\\uc6d0\\uc740 \\ubcf8\\uc0ac\\ub85c \\ubcf4\\ub0b4\\uc2dc\\uad6c\\uc694\\n\\ucf54\\ub85c\\ub098\\ub85c \\ud798\\ub4e0\\ub370 \\ubb34\\uc2a8 \\ub9ac\\ubaa8\\ub378\\ub9c1 \\uc785\\ub2c8\\uae4c\\n\\ub2e4\\ub978 \\uc5c5\\uccb4\\ub3c4 \\ub2e4 \\ub611\\uac19\\uc2b5\\ub2c8\\ub2e4\\n\\uc800\\ub294 \\uba39\\uace0 \\uc8fd\\uc744 \\ub3c8\\ub3c4 \\uc5c6\\uc2b5\\ub2c8\\ub2e4\\n\\uc815 \\uadf8\\ub7ec\\uc2dc\\ub2e4\\uba74 \\ud504\\ub79c\\ucc28\\uc774\\uc988 \\uacc4\\uc57d \\uc885\\ub8cc\\ud558\\uaca0\\uc2b5\\ub2c8\\ub2e4\\n\\ubaa9\\ub3c4 \\uc548\\uc88b\\uc740 \\uc790\\ub9ac\\uc5d0 \\uc774\\ub9cc\\ud07c \\ud0a4\\uc6cc\\ub1a8\\ub354\\ub2c8 \\ub108\\ubb34\\ud558\\uc2dc\\ub124\\uc694\\n\\uadf8\\ub7fc \\ub9ac\\ubaa8\\ub378\\ub9c1 \\ud558\\uc2e4\\uac74\\uac00\\uc694\\n\\uc54c\\uaca0\\uc5b4\\uc694\"\n        ],\n        \"semantic_type\": \"\",\n        \"description\": \"\"\n      }\n    }\n  ]\n}",
       "type": "dataframe",
       "variable_name": "train_data"
      },
      "text/html": [
       "\n",
       "  <div id=\"df-8550df60-8574-41bb-b868-423ee7b835cc\" class=\"colab-df-container\">\n",
       "    <div>\n",
       "<style scoped>\n",
       "    .dataframe tbody tr th:only-of-type {\n",
       "        vertical-align: middle;\n",
       "    }\n",
       "\n",
       "    .dataframe tbody tr th {\n",
       "        vertical-align: top;\n",
       "    }\n",
       "\n",
       "    .dataframe thead th {\n",
       "        text-align: right;\n",
       "    }\n",
       "</style>\n",
       "<table border=\"1\" class=\"dataframe\">\n",
       "  <thead>\n",
       "    <tr style=\"text-align: right;\">\n",
       "      <th></th>\n",
       "      <th>idx</th>\n",
       "      <th>class</th>\n",
       "      <th>conversation</th>\n",
       "    </tr>\n",
       "  </thead>\n",
       "  <tbody>\n",
       "    <tr>\n",
       "      <th>0</th>\n",
       "      <td>1951</td>\n",
       "      <td>직장 내 괴롭힘 대화</td>\n",
       "      <td>팀장님 이거 언제까지 마무리 하면 될까요?\\n무리하지 말고 넉넉하게 주말까지 다 작...</td>\n",
       "    </tr>\n",
       "    <tr>\n",
       "      <th>1</th>\n",
       "      <td>4756</td>\n",
       "      <td>일반 대화</td>\n",
       "      <td>내일 날씨 어떻대?\\n비 온다던데. 우산 챙겨가야 할 것 같아.\\n에이, 야외 활동...</td>\n",
       "    </tr>\n",
       "    <tr>\n",
       "      <th>2</th>\n",
       "      <td>1234</td>\n",
       "      <td>기타 괴롭힘 대화</td>\n",
       "      <td>야 쟤 좀 봐.\\n 꼴에 유행하는 옷 입었네 \\n 호박에 줄 긋는다고 수박되나 \\n...</td>\n",
       "    </tr>\n",
       "    <tr>\n",
       "      <th>3</th>\n",
       "      <td>4767</td>\n",
       "      <td>일반 대화</td>\n",
       "      <td>오늘 수업 내용 이해했어?\\n솔직히 좀 어려웠어. 너는?\\n나도 몇 부분이 헷갈리더...</td>\n",
       "    </tr>\n",
       "    <tr>\n",
       "      <th>4</th>\n",
       "      <td>1511</td>\n",
       "      <td>직장 내 괴롭힘 대화</td>\n",
       "      <td>자네 내일 아침에 우리집 들려서 출근하게\\n네?\\n내가 차가 고장났어\\n아. 그런데...</td>\n",
       "    </tr>\n",
       "  </tbody>\n",
       "</table>\n",
       "</div>\n",
       "    <div class=\"colab-df-buttons\">\n",
       "\n",
       "  <div class=\"colab-df-container\">\n",
       "    <button class=\"colab-df-convert\" onclick=\"convertToInteractive('df-8550df60-8574-41bb-b868-423ee7b835cc')\"\n",
       "            title=\"Convert this dataframe to an interactive table.\"\n",
       "            style=\"display:none;\">\n",
       "\n",
       "  <svg xmlns=\"http://www.w3.org/2000/svg\" height=\"24px\" viewBox=\"0 -960 960 960\">\n",
       "    <path d=\"M120-120v-720h720v720H120Zm60-500h600v-160H180v160Zm220 220h160v-160H400v160Zm0 220h160v-160H400v160ZM180-400h160v-160H180v160Zm440 0h160v-160H620v160ZM180-180h160v-160H180v160Zm440 0h160v-160H620v160Z\"/>\n",
       "  </svg>\n",
       "    </button>\n",
       "\n",
       "  <style>\n",
       "    .colab-df-container {\n",
       "      display:flex;\n",
       "      gap: 12px;\n",
       "    }\n",
       "\n",
       "    .colab-df-convert {\n",
       "      background-color: #E8F0FE;\n",
       "      border: none;\n",
       "      border-radius: 50%;\n",
       "      cursor: pointer;\n",
       "      display: none;\n",
       "      fill: #1967D2;\n",
       "      height: 32px;\n",
       "      padding: 0 0 0 0;\n",
       "      width: 32px;\n",
       "    }\n",
       "\n",
       "    .colab-df-convert:hover {\n",
       "      background-color: #E2EBFA;\n",
       "      box-shadow: 0px 1px 2px rgba(60, 64, 67, 0.3), 0px 1px 3px 1px rgba(60, 64, 67, 0.15);\n",
       "      fill: #174EA6;\n",
       "    }\n",
       "\n",
       "    .colab-df-buttons div {\n",
       "      margin-bottom: 4px;\n",
       "    }\n",
       "\n",
       "    [theme=dark] .colab-df-convert {\n",
       "      background-color: #3B4455;\n",
       "      fill: #D2E3FC;\n",
       "    }\n",
       "\n",
       "    [theme=dark] .colab-df-convert:hover {\n",
       "      background-color: #434B5C;\n",
       "      box-shadow: 0px 1px 3px 1px rgba(0, 0, 0, 0.15);\n",
       "      filter: drop-shadow(0px 1px 2px rgba(0, 0, 0, 0.3));\n",
       "      fill: #FFFFFF;\n",
       "    }\n",
       "  </style>\n",
       "\n",
       "    <script>\n",
       "      const buttonEl =\n",
       "        document.querySelector('#df-8550df60-8574-41bb-b868-423ee7b835cc button.colab-df-convert');\n",
       "      buttonEl.style.display =\n",
       "        google.colab.kernel.accessAllowed ? 'block' : 'none';\n",
       "\n",
       "      async function convertToInteractive(key) {\n",
       "        const element = document.querySelector('#df-8550df60-8574-41bb-b868-423ee7b835cc');\n",
       "        const dataTable =\n",
       "          await google.colab.kernel.invokeFunction('convertToInteractive',\n",
       "                                                    [key], {});\n",
       "        if (!dataTable) return;\n",
       "\n",
       "        const docLinkHtml = 'Like what you see? Visit the ' +\n",
       "          '<a target=\"_blank\" href=https://colab.research.google.com/notebooks/data_table.ipynb>data table notebook</a>'\n",
       "          + ' to learn more about interactive tables.';\n",
       "        element.innerHTML = '';\n",
       "        dataTable['output_type'] = 'display_data';\n",
       "        await google.colab.output.renderOutput(dataTable, element);\n",
       "        const docLink = document.createElement('div');\n",
       "        docLink.innerHTML = docLinkHtml;\n",
       "        element.appendChild(docLink);\n",
       "      }\n",
       "    </script>\n",
       "  </div>\n",
       "\n",
       "\n",
       "    <div id=\"df-1cdabc4a-9cec-4937-86f1-3b35bf2fcd01\">\n",
       "      <button class=\"colab-df-quickchart\" onclick=\"quickchart('df-1cdabc4a-9cec-4937-86f1-3b35bf2fcd01')\"\n",
       "                title=\"Suggest charts\"\n",
       "                style=\"display:none;\">\n",
       "\n",
       "<svg xmlns=\"http://www.w3.org/2000/svg\" height=\"24px\"viewBox=\"0 0 24 24\"\n",
       "     width=\"24px\">\n",
       "    <g>\n",
       "        <path d=\"M19 3H5c-1.1 0-2 .9-2 2v14c0 1.1.9 2 2 2h14c1.1 0 2-.9 2-2V5c0-1.1-.9-2-2-2zM9 17H7v-7h2v7zm4 0h-2V7h2v10zm4 0h-2v-4h2v4z\"/>\n",
       "    </g>\n",
       "</svg>\n",
       "      </button>\n",
       "\n",
       "<style>\n",
       "  .colab-df-quickchart {\n",
       "      --bg-color: #E8F0FE;\n",
       "      --fill-color: #1967D2;\n",
       "      --hover-bg-color: #E2EBFA;\n",
       "      --hover-fill-color: #174EA6;\n",
       "      --disabled-fill-color: #AAA;\n",
       "      --disabled-bg-color: #DDD;\n",
       "  }\n",
       "\n",
       "  [theme=dark] .colab-df-quickchart {\n",
       "      --bg-color: #3B4455;\n",
       "      --fill-color: #D2E3FC;\n",
       "      --hover-bg-color: #434B5C;\n",
       "      --hover-fill-color: #FFFFFF;\n",
       "      --disabled-bg-color: #3B4455;\n",
       "      --disabled-fill-color: #666;\n",
       "  }\n",
       "\n",
       "  .colab-df-quickchart {\n",
       "    background-color: var(--bg-color);\n",
       "    border: none;\n",
       "    border-radius: 50%;\n",
       "    cursor: pointer;\n",
       "    display: none;\n",
       "    fill: var(--fill-color);\n",
       "    height: 32px;\n",
       "    padding: 0;\n",
       "    width: 32px;\n",
       "  }\n",
       "\n",
       "  .colab-df-quickchart:hover {\n",
       "    background-color: var(--hover-bg-color);\n",
       "    box-shadow: 0 1px 2px rgba(60, 64, 67, 0.3), 0 1px 3px 1px rgba(60, 64, 67, 0.15);\n",
       "    fill: var(--button-hover-fill-color);\n",
       "  }\n",
       "\n",
       "  .colab-df-quickchart-complete:disabled,\n",
       "  .colab-df-quickchart-complete:disabled:hover {\n",
       "    background-color: var(--disabled-bg-color);\n",
       "    fill: var(--disabled-fill-color);\n",
       "    box-shadow: none;\n",
       "  }\n",
       "\n",
       "  .colab-df-spinner {\n",
       "    border: 2px solid var(--fill-color);\n",
       "    border-color: transparent;\n",
       "    border-bottom-color: var(--fill-color);\n",
       "    animation:\n",
       "      spin 1s steps(1) infinite;\n",
       "  }\n",
       "\n",
       "  @keyframes spin {\n",
       "    0% {\n",
       "      border-color: transparent;\n",
       "      border-bottom-color: var(--fill-color);\n",
       "      border-left-color: var(--fill-color);\n",
       "    }\n",
       "    20% {\n",
       "      border-color: transparent;\n",
       "      border-left-color: var(--fill-color);\n",
       "      border-top-color: var(--fill-color);\n",
       "    }\n",
       "    30% {\n",
       "      border-color: transparent;\n",
       "      border-left-color: var(--fill-color);\n",
       "      border-top-color: var(--fill-color);\n",
       "      border-right-color: var(--fill-color);\n",
       "    }\n",
       "    40% {\n",
       "      border-color: transparent;\n",
       "      border-right-color: var(--fill-color);\n",
       "      border-top-color: var(--fill-color);\n",
       "    }\n",
       "    60% {\n",
       "      border-color: transparent;\n",
       "      border-right-color: var(--fill-color);\n",
       "    }\n",
       "    80% {\n",
       "      border-color: transparent;\n",
       "      border-right-color: var(--fill-color);\n",
       "      border-bottom-color: var(--fill-color);\n",
       "    }\n",
       "    90% {\n",
       "      border-color: transparent;\n",
       "      border-bottom-color: var(--fill-color);\n",
       "    }\n",
       "  }\n",
       "</style>\n",
       "\n",
       "      <script>\n",
       "        async function quickchart(key) {\n",
       "          const quickchartButtonEl =\n",
       "            document.querySelector('#' + key + ' button');\n",
       "          quickchartButtonEl.disabled = true;  // To prevent multiple clicks.\n",
       "          quickchartButtonEl.classList.add('colab-df-spinner');\n",
       "          try {\n",
       "            const charts = await google.colab.kernel.invokeFunction(\n",
       "                'suggestCharts', [key], {});\n",
       "          } catch (error) {\n",
       "            console.error('Error during call to suggestCharts:', error);\n",
       "          }\n",
       "          quickchartButtonEl.classList.remove('colab-df-spinner');\n",
       "          quickchartButtonEl.classList.add('colab-df-quickchart-complete');\n",
       "        }\n",
       "        (() => {\n",
       "          let quickchartButtonEl =\n",
       "            document.querySelector('#df-1cdabc4a-9cec-4937-86f1-3b35bf2fcd01 button');\n",
       "          quickchartButtonEl.style.display =\n",
       "            google.colab.kernel.accessAllowed ? 'block' : 'none';\n",
       "        })();\n",
       "      </script>\n",
       "    </div>\n",
       "\n",
       "    </div>\n",
       "  </div>\n"
      ],
      "text/plain": [
       "    idx        class                                       conversation\n",
       "0  1951  직장 내 괴롭힘 대화  팀장님 이거 언제까지 마무리 하면 될까요?\\n무리하지 말고 넉넉하게 주말까지 다 작...\n",
       "1  4756        일반 대화  내일 날씨 어떻대?\\n비 온다던데. 우산 챙겨가야 할 것 같아.\\n에이, 야외 활동...\n",
       "2  1234    기타 괴롭힘 대화  야 쟤 좀 봐.\\n 꼴에 유행하는 옷 입었네 \\n 호박에 줄 긋는다고 수박되나 \\n...\n",
       "3  4767        일반 대화  오늘 수업 내용 이해했어?\\n솔직히 좀 어려웠어. 너는?\\n나도 몇 부분이 헷갈리더...\n",
       "4  1511  직장 내 괴롭힘 대화  자네 내일 아침에 우리집 들려서 출근하게\\n네?\\n내가 차가 고장났어\\n아. 그런데..."
      ]
     },
     "execution_count": 6,
     "metadata": {},
     "output_type": "execute_result"
    }
   ],
   "source": [
    "current_dir = os.getcwd()\n",
    "data_dir = os.path.join(current_dir)\n",
    "train_data_path = os.path.join(data_dir, 'merged_train.csv')\n",
    "\n",
    "train_data = pd.read_csv(train_data_path)\n",
    "train_data.head()"
   ]
  },
  {
   "cell_type": "markdown",
   "id": "or_VSWv3G_4-",
   "metadata": {
    "id": "or_VSWv3G_4-"
   },
   "source": [
    "데이터 전처리"
   ]
  },
  {
   "cell_type": "code",
   "execution_count": 7,
   "id": "749aca49",
   "metadata": {
    "colab": {
     "base_uri": "https://localhost:8080/"
    },
    "executionInfo": {
     "elapsed": 5,
     "status": "ok",
     "timestamp": 1746166638833,
     "user": {
      "displayName": "김영숙",
      "userId": "03881564225340792924"
     },
     "user_tz": -540
    },
    "id": "749aca49",
    "outputId": "6826cc03-8e09-49a6-fde7-2c093025d4c1"
   },
   "outputs": [
    {
     "name": "stdout",
     "output_type": "stream",
     "text": [
      "전체 샘플수 : 4637\n",
      "<class 'pandas.core.frame.DataFrame'>\n",
      "RangeIndex: 4637 entries, 0 to 4636\n",
      "Data columns (total 3 columns):\n",
      " #   Column        Non-Null Count  Dtype \n",
      "---  ------        --------------  ----- \n",
      " 0   idx           4637 non-null   int64 \n",
      " 1   class         4637 non-null   object\n",
      " 2   conversation  4637 non-null   object\n",
      "dtypes: int64(1), object(2)\n",
      "memory usage: 108.8+ KB\n"
     ]
    }
   ],
   "source": [
    "print('전체 샘플수 :', (len(train_data)))\n",
    "train_data.info()"
   ]
  },
  {
   "cell_type": "code",
   "execution_count": 8,
   "id": "26e45c30",
   "metadata": {
    "colab": {
     "base_uri": "https://localhost:8080/",
     "height": 206
    },
    "executionInfo": {
     "elapsed": 56,
     "status": "ok",
     "timestamp": 1746166638890,
     "user": {
      "displayName": "김영숙",
      "userId": "03881564225340792924"
     },
     "user_tz": -540
    },
    "id": "26e45c30",
    "outputId": "41810dc1-ef6e-4992-a830-2b00dd135d45"
   },
   "outputs": [
    {
     "data": {
      "application/vnd.google.colaboratory.intrinsic+json": {
       "summary": "{\n  \"name\": \"train_data\",\n  \"rows\": 4637,\n  \"fields\": [\n    {\n      \"column\": \"idx\",\n      \"properties\": {\n        \"dtype\": \"number\",\n        \"std\": 1455,\n        \"min\": 0,\n        \"max\": 5100,\n        \"num_unique_values\": 4472,\n        \"samples\": [\n          1418,\n          1177,\n          5057\n        ],\n        \"semantic_type\": \"\",\n        \"description\": \"\"\n      }\n    },\n    {\n      \"column\": \"class\",\n      \"properties\": {\n        \"dtype\": \"category\",\n        \"num_unique_values\": 5,\n        \"samples\": [\n          \"\\uc77c\\ubc18 \\ub300\\ud654\",\n          \"\\uac08\\ucde8 \\ub300\\ud654\",\n          \"\\uae30\\ud0c0 \\uad34\\ub86d\\ud798 \\ub300\\ud654\"\n        ],\n        \"semantic_type\": \"\",\n        \"description\": \"\"\n      }\n    },\n    {\n      \"column\": \"conversation\",\n      \"properties\": {\n        \"dtype\": \"string\",\n        \"num_unique_values\": 4637,\n        \"samples\": [\n          \"\\ubbf8\\uc9c4\\uc528 \\uc57c\\uc2dd \\uba39\\uc73c\\ub7ec \\uac00\\uc790\\n\\uc624\\ub298\\uc740 \\uc77c\\uc774 \\uc788\\uc5b4\\uc11c\\uc694\\n\\uc544\\uc774 \\uc880 \\ubbf8\\ub8e8\\uace0 \\ubc25 \\uba39\\uc73c\\ub7ec \\uac00\\uc790\\n\\uc8c4\\uc1a1\\ud569\\ub2c8\\ub2e4\\n\\uc544\\ub2c8 \\uc0c1\\uc0ac\\uac00 \\ubc25 \\uba39\\uc790\\ub294\\ub370 \\uac70\\uc808\\ud558\\ub294\\uac70\\uc57c?\\n\\uc815\\ub9d0 \\uc8c4\\uc1a1\\ud574\\uc694\\n\\uac70\\ucc38 \\ub9d0 \\ubabb \\uc54c\\uc544\\ub4e3\\ub124 \\uadf8\\ub0e5 \\uac00\\uc9c0?\\n\\uc8c4\\uc1a1\\ud569\\ub2c8\\ub2e4\\n\\uc774\\ub807\\uac8c \\uc735\\ud1b5\\uc131\\uc774 \\uc5c6\\uc5b4\\uc11c\\uc57c \\ucbe7\\n\\uc8c4\\uc1a1\\ud569\\ub2c8\\ub2e4\",\n          \"\\uc800\\uae30. \\uacfc\\uc7a5\\ub2d8 \\ud639\\uc2dc \\uc9c0\\uae08 \\uc7a0\\uae50 \\uc2dc\\uac04 \\ub418\\uc2ed\\ub2c8\\uae4c?\\n\\uc5b4 \\uc65c \\ubb34\\uc2a8 \\uc6a9\\uac74\\uc774\\uc57c\\n\\ub2e4\\ub984\\uc774 \\uc544\\ub2c8\\uace0 \\uc774\\ubc88 \\ub2ec \\uc6d4\\uae09\\uc774 \\uc800\\ubc88\\ub2ec\\uc5d0 \\ube44\\ud574 \\ub9ce\\uc774 \\uc801\\uac8c \\ub4e4\\uc5b4\\uc640\\uc11c\\uc694 \\uc815\\uc0b0\\uacfc\\uc815\\uc5d0\\uc11c \\ubb38\\uc81c\\uac00 \\uc788\\uc9c0 \\uc54a\\uc558\\ub098 \\uc2f6\\uc5b4 \\ub9d0\\uc500\\ub4dc\\ub9bd\\ub2c8\\ub2e4.\\n\\uc544\\ub2c8? \\uadf8\\uac70 \\ub2c8 \\uc6d4\\uae09 \\ub9de\\uc544 \\ub450 \\ubc88 \\ud655\\uc778\\ud558\\uace0 \\uc785\\uae08\\ud55c\\uac70\\uc57c\\n\\ub124? \\uc800\\ubc88\\ub2ec\\uc5d0 \\ube44\\ud574\\uc11c \\uc65c \\uc774\\ub807\\uac8c \\uc801\\uac8c \\uc785\\uae08 \\ub410\\ub294\\uc9c0 \\uc54c \\uc218 \\uc788\\uc744\\uae4c\\uc694?\\n\\uadf8\\uac83\\ub3c4 \\ubaa8\\ub974\\ub0d0? \\ubb50 \\ubed4\\ud558\\uc9c0 \\ub108 \\uc6b0\\ub9ac\\uc9d1\\uc548\\uc774 \\ubc95\\uce74 \\ub9c8\\uc74c\\ub300\\ub85c \\uc4f0\\uace0 \\ub2e4\\ub2cc\\ub2e4\\uace0 \\uc2e0\\uace0\\ud55c\\uac70 \\ub108\\uc796\\uc544 \\ubaa8\\ub97c \\uc904 \\uc54c\\uc544?\\n\\uc800 \\uadf8\\ub7f0\\uac78\\ub85c \\uc2e0\\uace0\\ud55c\\uc801 \\uc5c6\\ub294\\ub370\\uc694. \\ubb54\\uac00 \\uc624\\ud574\\uac00 \\uc788\\uc73c\\uc168\\ub358\\uac70 \\uac19\\uc2b5\\ub2c8\\ub2e4 \\uacfc\\uc7a5\\ub2d8\\n\\ub108\\ub4e0 \\uc544\\ub2c8\\ub4e0 \\ub204\\uac00 \\uc2e0\\uace0\\ud574\\uc11c \\ub3c8 \\ub0b4\\ubc49\\uc5c8\\uc73c\\ub2c8\\uae4c \\uc81c\\uc77c \\uc77c \\ubabb\\ud558\\uace0 \\uc5b4\\ub9ac\\ubc84\\ub9ac\\ud558\\ub294 \\ub108\\uac00 \\ucc45\\uc784\\uc838\\n\\uc81c\\uac00 \\uadf8\\ub7f0 \\uac8c \\uc544\\ub2c8\\uc5d0\\uc694. \\uc800 \\uc774\\ubc88\\ub2ec\\uc5d0 \\uc6d4\\uc138\\ub3c4 \\ub0b4\\uc57c\\ud574\\uc11c \\ub9ce\\uc774 \\ube61\\ube61\\ud55c\\ub370 \\ud55c \\ubc88\\ub9cc \\ub2e4\\uc2dc \\uc54c\\uc544\\ubcf4\\uc2dc\\uace0 \\uc800\\uba74 \\uc6d4\\uae09\\uc744 \\uae4d\\uc73c\\uba74 \\uc548\\ub418\\uc2e4\\uae4c\\uc694?\\n\\ub0b4\\uac00 \\ub2c8 \\ub530\\uc704 \\uc6d4\\uae09 \\ub354 \\uc918\\uc57c\\ud574\\uc11c \\uadf8\\ub7f0 \\uc77c\\uc744 \\ubcf5\\uc7a1\\ud558\\uac8c \\ud558\\ub77c\\uace0? \\ub2c8\\uac00 \\ubb54\\ub370 \\ub108 \\ud558\\ub294 \\uaf2c\\ub77c\\uc9c0 \\ubcf4\\uba74 \\ub3c8 10\\ub9cc \\ubc1b\\uc544\\uac00\\ub3c4 \\uc544\\uae4c\\uc6cc \\uc8fd\\uc744\\uc9c0\\uacbd\\uc774\\uc57c\\n\\ub2c8\\uac00 \\uc800\\ub141\\uc5d0 \\ud22c\\uc7a1\\uc744 \\ub6f0\\uc5b4\\uc11c \\ubc8c\\ub358 \\uc54c\\uc544\\uc11c\\ud574 \\uc9dc\\uc99d\\ub098\\uac8c \\ud558\\uc9c0\\ub9d0\\uace0\",\n          \"\\uc774\\ubc88\\ub2ec\\uc5d0\\ub294 \\ub9e4\\uc7a5 \\ub9ac\\ubaa8\\ub378\\ub9c1 \\ud558\\uc138\\uc694\\n\\uac11\\uc790\\uae30 \\uadf8\\uac8c \\ubb34\\uc2a8 \\ub9d0\\uc500\\uc774\\uc138\\uc694\\n1000\\ub9cc\\uc6d0\\ub9cc \\uc4f0\\uc2ec\\ub429\\ub2c8\\ub2e4 500\\ub9cc\\uc6d0\\uc740 \\ubcf8\\uc0ac\\ub85c \\ubcf4\\ub0b4\\uc2dc\\uad6c\\uc694\\n\\ucf54\\ub85c\\ub098\\ub85c \\ud798\\ub4e0\\ub370 \\ubb34\\uc2a8 \\ub9ac\\ubaa8\\ub378\\ub9c1 \\uc785\\ub2c8\\uae4c\\n\\ub2e4\\ub978 \\uc5c5\\uccb4\\ub3c4 \\ub2e4 \\ub611\\uac19\\uc2b5\\ub2c8\\ub2e4\\n\\uc800\\ub294 \\uba39\\uace0 \\uc8fd\\uc744 \\ub3c8\\ub3c4 \\uc5c6\\uc2b5\\ub2c8\\ub2e4\\n\\uc815 \\uadf8\\ub7ec\\uc2dc\\ub2e4\\uba74 \\ud504\\ub79c\\ucc28\\uc774\\uc988 \\uacc4\\uc57d \\uc885\\ub8cc\\ud558\\uaca0\\uc2b5\\ub2c8\\ub2e4\\n\\ubaa9\\ub3c4 \\uc548\\uc88b\\uc740 \\uc790\\ub9ac\\uc5d0 \\uc774\\ub9cc\\ud07c \\ud0a4\\uc6cc\\ub1a8\\ub354\\ub2c8 \\ub108\\ubb34\\ud558\\uc2dc\\ub124\\uc694\\n\\uadf8\\ub7fc \\ub9ac\\ubaa8\\ub378\\ub9c1 \\ud558\\uc2e4\\uac74\\uac00\\uc694\\n\\uc54c\\uaca0\\uc5b4\\uc694\"\n        ],\n        \"semantic_type\": \"\",\n        \"description\": \"\"\n      }\n    },\n    {\n      \"column\": \"label\",\n      \"properties\": {\n        \"dtype\": \"number\",\n        \"std\": 1,\n        \"min\": 0,\n        \"max\": 4,\n        \"num_unique_values\": 5,\n        \"samples\": [\n          4,\n          1,\n          3\n        ],\n        \"semantic_type\": \"\",\n        \"description\": \"\"\n      }\n    }\n  ]\n}",
       "type": "dataframe",
       "variable_name": "train_data"
      },
      "text/html": [
       "\n",
       "  <div id=\"df-74c0607b-0b62-4469-8ddb-5d3bd2478e56\" class=\"colab-df-container\">\n",
       "    <div>\n",
       "<style scoped>\n",
       "    .dataframe tbody tr th:only-of-type {\n",
       "        vertical-align: middle;\n",
       "    }\n",
       "\n",
       "    .dataframe tbody tr th {\n",
       "        vertical-align: top;\n",
       "    }\n",
       "\n",
       "    .dataframe thead th {\n",
       "        text-align: right;\n",
       "    }\n",
       "</style>\n",
       "<table border=\"1\" class=\"dataframe\">\n",
       "  <thead>\n",
       "    <tr style=\"text-align: right;\">\n",
       "      <th></th>\n",
       "      <th>idx</th>\n",
       "      <th>class</th>\n",
       "      <th>conversation</th>\n",
       "      <th>label</th>\n",
       "    </tr>\n",
       "  </thead>\n",
       "  <tbody>\n",
       "    <tr>\n",
       "      <th>0</th>\n",
       "      <td>1951</td>\n",
       "      <td>직장 내 괴롭힘 대화</td>\n",
       "      <td>팀장님 이거 언제까지 마무리 하면 될까요?\\n무리하지 말고 넉넉하게 주말까지 다 작...</td>\n",
       "      <td>2</td>\n",
       "    </tr>\n",
       "    <tr>\n",
       "      <th>1</th>\n",
       "      <td>4756</td>\n",
       "      <td>일반 대화</td>\n",
       "      <td>내일 날씨 어떻대?\\n비 온다던데. 우산 챙겨가야 할 것 같아.\\n에이, 야외 활동...</td>\n",
       "      <td>4</td>\n",
       "    </tr>\n",
       "    <tr>\n",
       "      <th>2</th>\n",
       "      <td>1234</td>\n",
       "      <td>기타 괴롭힘 대화</td>\n",
       "      <td>야 쟤 좀 봐.\\n 꼴에 유행하는 옷 입었네 \\n 호박에 줄 긋는다고 수박되나 \\n...</td>\n",
       "      <td>3</td>\n",
       "    </tr>\n",
       "    <tr>\n",
       "      <th>3</th>\n",
       "      <td>4767</td>\n",
       "      <td>일반 대화</td>\n",
       "      <td>오늘 수업 내용 이해했어?\\n솔직히 좀 어려웠어. 너는?\\n나도 몇 부분이 헷갈리더...</td>\n",
       "      <td>4</td>\n",
       "    </tr>\n",
       "    <tr>\n",
       "      <th>4</th>\n",
       "      <td>1511</td>\n",
       "      <td>직장 내 괴롭힘 대화</td>\n",
       "      <td>자네 내일 아침에 우리집 들려서 출근하게\\n네?\\n내가 차가 고장났어\\n아. 그런데...</td>\n",
       "      <td>2</td>\n",
       "    </tr>\n",
       "  </tbody>\n",
       "</table>\n",
       "</div>\n",
       "    <div class=\"colab-df-buttons\">\n",
       "\n",
       "  <div class=\"colab-df-container\">\n",
       "    <button class=\"colab-df-convert\" onclick=\"convertToInteractive('df-74c0607b-0b62-4469-8ddb-5d3bd2478e56')\"\n",
       "            title=\"Convert this dataframe to an interactive table.\"\n",
       "            style=\"display:none;\">\n",
       "\n",
       "  <svg xmlns=\"http://www.w3.org/2000/svg\" height=\"24px\" viewBox=\"0 -960 960 960\">\n",
       "    <path d=\"M120-120v-720h720v720H120Zm60-500h600v-160H180v160Zm220 220h160v-160H400v160Zm0 220h160v-160H400v160ZM180-400h160v-160H180v160Zm440 0h160v-160H620v160ZM180-180h160v-160H180v160Zm440 0h160v-160H620v160Z\"/>\n",
       "  </svg>\n",
       "    </button>\n",
       "\n",
       "  <style>\n",
       "    .colab-df-container {\n",
       "      display:flex;\n",
       "      gap: 12px;\n",
       "    }\n",
       "\n",
       "    .colab-df-convert {\n",
       "      background-color: #E8F0FE;\n",
       "      border: none;\n",
       "      border-radius: 50%;\n",
       "      cursor: pointer;\n",
       "      display: none;\n",
       "      fill: #1967D2;\n",
       "      height: 32px;\n",
       "      padding: 0 0 0 0;\n",
       "      width: 32px;\n",
       "    }\n",
       "\n",
       "    .colab-df-convert:hover {\n",
       "      background-color: #E2EBFA;\n",
       "      box-shadow: 0px 1px 2px rgba(60, 64, 67, 0.3), 0px 1px 3px 1px rgba(60, 64, 67, 0.15);\n",
       "      fill: #174EA6;\n",
       "    }\n",
       "\n",
       "    .colab-df-buttons div {\n",
       "      margin-bottom: 4px;\n",
       "    }\n",
       "\n",
       "    [theme=dark] .colab-df-convert {\n",
       "      background-color: #3B4455;\n",
       "      fill: #D2E3FC;\n",
       "    }\n",
       "\n",
       "    [theme=dark] .colab-df-convert:hover {\n",
       "      background-color: #434B5C;\n",
       "      box-shadow: 0px 1px 3px 1px rgba(0, 0, 0, 0.15);\n",
       "      filter: drop-shadow(0px 1px 2px rgba(0, 0, 0, 0.3));\n",
       "      fill: #FFFFFF;\n",
       "    }\n",
       "  </style>\n",
       "\n",
       "    <script>\n",
       "      const buttonEl =\n",
       "        document.querySelector('#df-74c0607b-0b62-4469-8ddb-5d3bd2478e56 button.colab-df-convert');\n",
       "      buttonEl.style.display =\n",
       "        google.colab.kernel.accessAllowed ? 'block' : 'none';\n",
       "\n",
       "      async function convertToInteractive(key) {\n",
       "        const element = document.querySelector('#df-74c0607b-0b62-4469-8ddb-5d3bd2478e56');\n",
       "        const dataTable =\n",
       "          await google.colab.kernel.invokeFunction('convertToInteractive',\n",
       "                                                    [key], {});\n",
       "        if (!dataTable) return;\n",
       "\n",
       "        const docLinkHtml = 'Like what you see? Visit the ' +\n",
       "          '<a target=\"_blank\" href=https://colab.research.google.com/notebooks/data_table.ipynb>data table notebook</a>'\n",
       "          + ' to learn more about interactive tables.';\n",
       "        element.innerHTML = '';\n",
       "        dataTable['output_type'] = 'display_data';\n",
       "        await google.colab.output.renderOutput(dataTable, element);\n",
       "        const docLink = document.createElement('div');\n",
       "        docLink.innerHTML = docLinkHtml;\n",
       "        element.appendChild(docLink);\n",
       "      }\n",
       "    </script>\n",
       "  </div>\n",
       "\n",
       "\n",
       "    <div id=\"df-3b19b9c8-3fcd-4ebd-99b4-ffa25ed970a6\">\n",
       "      <button class=\"colab-df-quickchart\" onclick=\"quickchart('df-3b19b9c8-3fcd-4ebd-99b4-ffa25ed970a6')\"\n",
       "                title=\"Suggest charts\"\n",
       "                style=\"display:none;\">\n",
       "\n",
       "<svg xmlns=\"http://www.w3.org/2000/svg\" height=\"24px\"viewBox=\"0 0 24 24\"\n",
       "     width=\"24px\">\n",
       "    <g>\n",
       "        <path d=\"M19 3H5c-1.1 0-2 .9-2 2v14c0 1.1.9 2 2 2h14c1.1 0 2-.9 2-2V5c0-1.1-.9-2-2-2zM9 17H7v-7h2v7zm4 0h-2V7h2v10zm4 0h-2v-4h2v4z\"/>\n",
       "    </g>\n",
       "</svg>\n",
       "      </button>\n",
       "\n",
       "<style>\n",
       "  .colab-df-quickchart {\n",
       "      --bg-color: #E8F0FE;\n",
       "      --fill-color: #1967D2;\n",
       "      --hover-bg-color: #E2EBFA;\n",
       "      --hover-fill-color: #174EA6;\n",
       "      --disabled-fill-color: #AAA;\n",
       "      --disabled-bg-color: #DDD;\n",
       "  }\n",
       "\n",
       "  [theme=dark] .colab-df-quickchart {\n",
       "      --bg-color: #3B4455;\n",
       "      --fill-color: #D2E3FC;\n",
       "      --hover-bg-color: #434B5C;\n",
       "      --hover-fill-color: #FFFFFF;\n",
       "      --disabled-bg-color: #3B4455;\n",
       "      --disabled-fill-color: #666;\n",
       "  }\n",
       "\n",
       "  .colab-df-quickchart {\n",
       "    background-color: var(--bg-color);\n",
       "    border: none;\n",
       "    border-radius: 50%;\n",
       "    cursor: pointer;\n",
       "    display: none;\n",
       "    fill: var(--fill-color);\n",
       "    height: 32px;\n",
       "    padding: 0;\n",
       "    width: 32px;\n",
       "  }\n",
       "\n",
       "  .colab-df-quickchart:hover {\n",
       "    background-color: var(--hover-bg-color);\n",
       "    box-shadow: 0 1px 2px rgba(60, 64, 67, 0.3), 0 1px 3px 1px rgba(60, 64, 67, 0.15);\n",
       "    fill: var(--button-hover-fill-color);\n",
       "  }\n",
       "\n",
       "  .colab-df-quickchart-complete:disabled,\n",
       "  .colab-df-quickchart-complete:disabled:hover {\n",
       "    background-color: var(--disabled-bg-color);\n",
       "    fill: var(--disabled-fill-color);\n",
       "    box-shadow: none;\n",
       "  }\n",
       "\n",
       "  .colab-df-spinner {\n",
       "    border: 2px solid var(--fill-color);\n",
       "    border-color: transparent;\n",
       "    border-bottom-color: var(--fill-color);\n",
       "    animation:\n",
       "      spin 1s steps(1) infinite;\n",
       "  }\n",
       "\n",
       "  @keyframes spin {\n",
       "    0% {\n",
       "      border-color: transparent;\n",
       "      border-bottom-color: var(--fill-color);\n",
       "      border-left-color: var(--fill-color);\n",
       "    }\n",
       "    20% {\n",
       "      border-color: transparent;\n",
       "      border-left-color: var(--fill-color);\n",
       "      border-top-color: var(--fill-color);\n",
       "    }\n",
       "    30% {\n",
       "      border-color: transparent;\n",
       "      border-left-color: var(--fill-color);\n",
       "      border-top-color: var(--fill-color);\n",
       "      border-right-color: var(--fill-color);\n",
       "    }\n",
       "    40% {\n",
       "      border-color: transparent;\n",
       "      border-right-color: var(--fill-color);\n",
       "      border-top-color: var(--fill-color);\n",
       "    }\n",
       "    60% {\n",
       "      border-color: transparent;\n",
       "      border-right-color: var(--fill-color);\n",
       "    }\n",
       "    80% {\n",
       "      border-color: transparent;\n",
       "      border-right-color: var(--fill-color);\n",
       "      border-bottom-color: var(--fill-color);\n",
       "    }\n",
       "    90% {\n",
       "      border-color: transparent;\n",
       "      border-bottom-color: var(--fill-color);\n",
       "    }\n",
       "  }\n",
       "</style>\n",
       "\n",
       "      <script>\n",
       "        async function quickchart(key) {\n",
       "          const quickchartButtonEl =\n",
       "            document.querySelector('#' + key + ' button');\n",
       "          quickchartButtonEl.disabled = true;  // To prevent multiple clicks.\n",
       "          quickchartButtonEl.classList.add('colab-df-spinner');\n",
       "          try {\n",
       "            const charts = await google.colab.kernel.invokeFunction(\n",
       "                'suggestCharts', [key], {});\n",
       "          } catch (error) {\n",
       "            console.error('Error during call to suggestCharts:', error);\n",
       "          }\n",
       "          quickchartButtonEl.classList.remove('colab-df-spinner');\n",
       "          quickchartButtonEl.classList.add('colab-df-quickchart-complete');\n",
       "        }\n",
       "        (() => {\n",
       "          let quickchartButtonEl =\n",
       "            document.querySelector('#df-3b19b9c8-3fcd-4ebd-99b4-ffa25ed970a6 button');\n",
       "          quickchartButtonEl.style.display =\n",
       "            google.colab.kernel.accessAllowed ? 'block' : 'none';\n",
       "        })();\n",
       "      </script>\n",
       "    </div>\n",
       "\n",
       "    </div>\n",
       "  </div>\n"
      ],
      "text/plain": [
       "    idx        class                                       conversation  label\n",
       "0  1951  직장 내 괴롭힘 대화  팀장님 이거 언제까지 마무리 하면 될까요?\\n무리하지 말고 넉넉하게 주말까지 다 작...      2\n",
       "1  4756        일반 대화  내일 날씨 어떻대?\\n비 온다던데. 우산 챙겨가야 할 것 같아.\\n에이, 야외 활동...      4\n",
       "2  1234    기타 괴롭힘 대화  야 쟤 좀 봐.\\n 꼴에 유행하는 옷 입었네 \\n 호박에 줄 긋는다고 수박되나 \\n...      3\n",
       "3  4767        일반 대화  오늘 수업 내용 이해했어?\\n솔직히 좀 어려웠어. 너는?\\n나도 몇 부분이 헷갈리더...      4\n",
       "4  1511  직장 내 괴롭힘 대화  자네 내일 아침에 우리집 들려서 출근하게\\n네?\\n내가 차가 고장났어\\n아. 그런데...      2"
      ]
     },
     "execution_count": 8,
     "metadata": {},
     "output_type": "execute_result"
    }
   ],
   "source": [
    "# 클래스 라벨을 숫자로 변환\n",
    "# 0, 1, 2, 3, 4\n",
    "CLASS_NAMES = ['협박 대화', '갈취 대화', '직장 내 괴롭힘 대화', '기타 괴롭힘 대화', '일반 대화']\n",
    "\n",
    "\n",
    "class_dict = {}\n",
    "for idx, class_name in enumerate(CLASS_NAMES):\n",
    "    class_dict[class_name] = idx\n",
    "\n",
    "train_data['label'] = train_data['class'].apply(lambda s: class_dict[s])\n",
    "\n",
    "train_data.head()"
   ]
  },
  {
   "cell_type": "code",
   "execution_count": 9,
   "id": "717a0be8",
   "metadata": {
    "executionInfo": {
     "elapsed": 4,
     "status": "ok",
     "timestamp": 1746166638896,
     "user": {
      "displayName": "김영숙",
      "userId": "03881564225340792924"
     },
     "user_tz": -540
    },
    "id": "717a0be8"
   },
   "outputs": [],
   "source": [
    "import re\n",
    "\n",
    "def preprocess_sentence(sentence):\n",
    "    sentence = sentence.lower().strip()\n",
    "\n",
    "    sentence = re.sub(r\"([?.!,])\", r\" \\1 \", sentence)\n",
    "    sentence = re.sub(r'[\" \"]+', \" \", sentence)\n",
    "    sentence = re.sub(r\"[^a-zA-Zㄱ-ㅎ가-힣ㅏ-ㅣ?.!,]+\", \" \", sentence)\n",
    "\n",
    "    sentence = sentence.strip()\n",
    "\n",
    "    return sentence"
   ]
  },
  {
   "cell_type": "code",
   "execution_count": 10,
   "id": "66b922b4",
   "metadata": {
    "colab": {
     "base_uri": "https://localhost:8080/",
     "height": 206
    },
    "executionInfo": {
     "elapsed": 338,
     "status": "ok",
     "timestamp": 1746166639267,
     "user": {
      "displayName": "김영숙",
      "userId": "03881564225340792924"
     },
     "user_tz": -540
    },
    "id": "66b922b4",
    "outputId": "15d3ecdd-e0e7-4139-fc39-e8ddc4d1b28e"
   },
   "outputs": [
    {
     "data": {
      "application/vnd.google.colaboratory.intrinsic+json": {
       "summary": "{\n  \"name\": \"train_data\",\n  \"rows\": 4637,\n  \"fields\": [\n    {\n      \"column\": \"idx\",\n      \"properties\": {\n        \"dtype\": \"number\",\n        \"std\": 1455,\n        \"min\": 0,\n        \"max\": 5100,\n        \"num_unique_values\": 4472,\n        \"samples\": [\n          1418,\n          1177,\n          5057\n        ],\n        \"semantic_type\": \"\",\n        \"description\": \"\"\n      }\n    },\n    {\n      \"column\": \"class\",\n      \"properties\": {\n        \"dtype\": \"category\",\n        \"num_unique_values\": 5,\n        \"samples\": [\n          \"\\uc77c\\ubc18 \\ub300\\ud654\",\n          \"\\uac08\\ucde8 \\ub300\\ud654\",\n          \"\\uae30\\ud0c0 \\uad34\\ub86d\\ud798 \\ub300\\ud654\"\n        ],\n        \"semantic_type\": \"\",\n        \"description\": \"\"\n      }\n    },\n    {\n      \"column\": \"conversation\",\n      \"properties\": {\n        \"dtype\": \"string\",\n        \"num_unique_values\": 4635,\n        \"samples\": [\n          \"\\ub2e4\\uc2dc \\ub9d0\\ud574 \\ubcf4\\uc138\\uc694 . \\ub124 ? \\ub2e4\\uc2dc \\ub9d0\\ud574 \\ubcf4\\uc2dc\\ub77c\\uace0\\uc694 . \\uc548\\ub155\\ud788 \\uac00\\uc2ed\\uc2dc\\uc624 \\uc190\\ub2d8 . \\uc774\\ub807\\uac8c\\uc694 ? \\uc65c \\ubb34\\uc2a8 \\uae30\\ubd84 \\ub098\\uc05c \\uc77c \\uc788\\uc5b4\\uc694 ? \\uc65c \\ubaa9\\uc18c\\ub9ac\\uc5d0 \\ud798\\uc744 \\uc8fc\\uace0 \\uadf8\\ub798\\uc694 ? \\uae30\\ubd84 \\ub098\\uc058\\uac8c ! ? \\ubb34\\uc2a8 \\ub9d0\\uc500\\uc774\\uc2e0\\uc9c0 . \\uc774\\ub97c \\uc545 \\ubb3c\\uace0 \\ub9d0\\ud558\\uba74 \\uadf8\\uac8c \\uc548\\ub155\\ud788 \\uac00\\ub77c\\ub294 \\uc18c\\ub9ac\\uc5d0\\uc694 ? \\uac00\\ub2e4 \\ucc28\\uc5d0 \\uce58\\uc5b4 \\uc8fd\\uc73c\\ub77c\\ub294 \\uc18c\\ub9ac\\uc9c0 ? \\uc8c4\\uc1a1\\ud569\\ub2c8\\ub2e4 . \\uadf8\\ub7f0 \\uc758\\ub3c4\\ub294 \\uc804\\ud600 \\uc544\\ub2c8\\uc5c8\\uc2b5\\ub2c8\\ub2e4 . \\uc544 \\uc815\\ub9d0 \\uae30\\ubd84 \\ub098\\ube60 . \\uc5ec\\uae30\\ub294 \\uc9c1\\uc6d0 \\uad50\\uc721\\uc744 \\uc5b4\\ub5bb\\uac8c \\ud558\\ub294 \\uac70\\uc57c ? \\ub2e4\\uc2dc \\ud55c\\ubc88 \\uc0ac\\uacfc \\ub4dc\\ub9bd\\ub2c8\\ub2e4 . \\uadf8\\ub7f0\\ub370 \\uc815\\ub9d0 \\uadf8\\ub7f0 \\uac8c \\uc544\\ub2d9\\ub2c8\\ub2e4 .\",\n          \"\\uc800\\uae30 . \\uacfc\\uc7a5\\ub2d8 \\ud639\\uc2dc \\uc9c0\\uae08 \\uc7a0\\uae50 \\uc2dc\\uac04 \\ub418\\uc2ed\\ub2c8\\uae4c ? \\uc5b4 \\uc65c \\ubb34\\uc2a8 \\uc6a9\\uac74\\uc774\\uc57c \\ub2e4\\ub984\\uc774 \\uc544\\ub2c8\\uace0 \\uc774\\ubc88 \\ub2ec \\uc6d4\\uae09\\uc774 \\uc800\\ubc88\\ub2ec\\uc5d0 \\ube44\\ud574 \\ub9ce\\uc774 \\uc801\\uac8c \\ub4e4\\uc5b4\\uc640\\uc11c\\uc694 \\uc815\\uc0b0\\uacfc\\uc815\\uc5d0\\uc11c \\ubb38\\uc81c\\uac00 \\uc788\\uc9c0 \\uc54a\\uc558\\ub098 \\uc2f6\\uc5b4 \\ub9d0\\uc500\\ub4dc\\ub9bd\\ub2c8\\ub2e4 . \\uc544\\ub2c8 ? \\uadf8\\uac70 \\ub2c8 \\uc6d4\\uae09 \\ub9de\\uc544 \\ub450 \\ubc88 \\ud655\\uc778\\ud558\\uace0 \\uc785\\uae08\\ud55c\\uac70\\uc57c \\ub124 ? \\uc800\\ubc88\\ub2ec\\uc5d0 \\ube44\\ud574\\uc11c \\uc65c \\uc774\\ub807\\uac8c \\uc801\\uac8c \\uc785\\uae08 \\ub410\\ub294\\uc9c0 \\uc54c \\uc218 \\uc788\\uc744\\uae4c\\uc694 ? \\uadf8\\uac83\\ub3c4 \\ubaa8\\ub974\\ub0d0 ? \\ubb50 \\ubed4\\ud558\\uc9c0 \\ub108 \\uc6b0\\ub9ac\\uc9d1\\uc548\\uc774 \\ubc95\\uce74 \\ub9c8\\uc74c\\ub300\\ub85c \\uc4f0\\uace0 \\ub2e4\\ub2cc\\ub2e4\\uace0 \\uc2e0\\uace0\\ud55c\\uac70 \\ub108\\uc796\\uc544 \\ubaa8\\ub97c \\uc904 \\uc54c\\uc544 ? \\uc800 \\uadf8\\ub7f0\\uac78\\ub85c \\uc2e0\\uace0\\ud55c\\uc801 \\uc5c6\\ub294\\ub370\\uc694 . \\ubb54\\uac00 \\uc624\\ud574\\uac00 \\uc788\\uc73c\\uc168\\ub358\\uac70 \\uac19\\uc2b5\\ub2c8\\ub2e4 \\uacfc\\uc7a5\\ub2d8 \\ub108\\ub4e0 \\uc544\\ub2c8\\ub4e0 \\ub204\\uac00 \\uc2e0\\uace0\\ud574\\uc11c \\ub3c8 \\ub0b4\\ubc49\\uc5c8\\uc73c\\ub2c8\\uae4c \\uc81c\\uc77c \\uc77c \\ubabb\\ud558\\uace0 \\uc5b4\\ub9ac\\ubc84\\ub9ac\\ud558\\ub294 \\ub108\\uac00 \\ucc45\\uc784\\uc838 \\uc81c\\uac00 \\uadf8\\ub7f0 \\uac8c \\uc544\\ub2c8\\uc5d0\\uc694 . \\uc800 \\uc774\\ubc88\\ub2ec\\uc5d0 \\uc6d4\\uc138\\ub3c4 \\ub0b4\\uc57c\\ud574\\uc11c \\ub9ce\\uc774 \\ube61\\ube61\\ud55c\\ub370 \\ud55c \\ubc88\\ub9cc \\ub2e4\\uc2dc \\uc54c\\uc544\\ubcf4\\uc2dc\\uace0 \\uc800\\uba74 \\uc6d4\\uae09\\uc744 \\uae4d\\uc73c\\uba74 \\uc548\\ub418\\uc2e4\\uae4c\\uc694 ? \\ub0b4\\uac00 \\ub2c8 \\ub530\\uc704 \\uc6d4\\uae09 \\ub354 \\uc918\\uc57c\\ud574\\uc11c \\uadf8\\ub7f0 \\uc77c\\uc744 \\ubcf5\\uc7a1\\ud558\\uac8c \\ud558\\ub77c\\uace0 ? \\ub2c8\\uac00 \\ubb54\\ub370 \\ub108 \\ud558\\ub294 \\uaf2c\\ub77c\\uc9c0 \\ubcf4\\uba74 \\ub3c8 \\ub9cc \\ubc1b\\uc544\\uac00\\ub3c4 \\uc544\\uae4c\\uc6cc \\uc8fd\\uc744\\uc9c0\\uacbd\\uc774\\uc57c \\ub2c8\\uac00 \\uc800\\ub141\\uc5d0 \\ud22c\\uc7a1\\uc744 \\ub6f0\\uc5b4\\uc11c \\ubc8c\\ub358 \\uc54c\\uc544\\uc11c\\ud574 \\uc9dc\\uc99d\\ub098\\uac8c \\ud558\\uc9c0\\ub9d0\\uace0\",\n          \"\\uc774\\ubc88 \\uc8fc\\ub9d0\\uc5d0 \\ubb50\\ud574 ? \\uc544\\uc9c1 \\ud2b9\\ubcc4\\ud55c \\uacc4\\ud68d\\uc740 \\uc5c6\\uc5b4 . \\ub108\\ub294 ? \\uce5c\\uad6c\\ub4e4\\uc774\\ub791 \\ub4f1\\uc0b0 \\uac00\\ub824\\uace0 . \\uc5b4\\ub514\\ub85c \\uac08 \\uc608\\uc815\\uc774\\uc57c ? \\ubd81\\ud55c\\uc0b0 . \\uac19\\uc774 \\uac08\\ub798 ? \\uba87 \\uc2dc\\uc5d0 \\ub9cc\\ub098 ? \\uc544\\uce68 \\uc2dc\\uc5d0 \\uc5ed \\uc55e\\uc5d0\\uc11c . \\uc7a5\\ube44\\ub294 \\ubb50 \\ud544\\uc694\\ud574 ? \\ud3b8\\ud55c \\uc637\\ucc28\\ub9bc\\uc5d0 \\uc6b4\\ub3d9\\ud654 , \\ubb3c\\ub9cc \\ucc59\\uaca8\\uc624\\uba74 \\ub3fc . \\uadf8\\ub798 , \\ub098\\ub3c4 \\uac08\\uac8c . \\ud1a0\\uc694\\uc77c \\uc544\\uce68 \\uc2dc , \\uc5ed \\uc55e\\uc5d0\\uc11c \\ubcf4\\uc790 .\"\n        ],\n        \"semantic_type\": \"\",\n        \"description\": \"\"\n      }\n    },\n    {\n      \"column\": \"label\",\n      \"properties\": {\n        \"dtype\": \"number\",\n        \"std\": 1,\n        \"min\": 0,\n        \"max\": 4,\n        \"num_unique_values\": 5,\n        \"samples\": [\n          4,\n          1,\n          3\n        ],\n        \"semantic_type\": \"\",\n        \"description\": \"\"\n      }\n    }\n  ]\n}",
       "type": "dataframe",
       "variable_name": "train_data"
      },
      "text/html": [
       "\n",
       "  <div id=\"df-1427d0a5-ddb0-45ba-afa8-ef0853fca66f\" class=\"colab-df-container\">\n",
       "    <div>\n",
       "<style scoped>\n",
       "    .dataframe tbody tr th:only-of-type {\n",
       "        vertical-align: middle;\n",
       "    }\n",
       "\n",
       "    .dataframe tbody tr th {\n",
       "        vertical-align: top;\n",
       "    }\n",
       "\n",
       "    .dataframe thead th {\n",
       "        text-align: right;\n",
       "    }\n",
       "</style>\n",
       "<table border=\"1\" class=\"dataframe\">\n",
       "  <thead>\n",
       "    <tr style=\"text-align: right;\">\n",
       "      <th></th>\n",
       "      <th>idx</th>\n",
       "      <th>class</th>\n",
       "      <th>conversation</th>\n",
       "      <th>label</th>\n",
       "    </tr>\n",
       "  </thead>\n",
       "  <tbody>\n",
       "    <tr>\n",
       "      <th>0</th>\n",
       "      <td>1951</td>\n",
       "      <td>직장 내 괴롭힘 대화</td>\n",
       "      <td>팀장님 이거 언제까지 마무리 하면 될까요 ? 무리하지 말고 넉넉하게 주말까지 다 작...</td>\n",
       "      <td>2</td>\n",
       "    </tr>\n",
       "    <tr>\n",
       "      <th>1</th>\n",
       "      <td>4756</td>\n",
       "      <td>일반 대화</td>\n",
       "      <td>내일 날씨 어떻대 ? 비 온다던데 . 우산 챙겨가야 할 것 같아 . 에이 , 야외 ...</td>\n",
       "      <td>4</td>\n",
       "    </tr>\n",
       "    <tr>\n",
       "      <th>2</th>\n",
       "      <td>1234</td>\n",
       "      <td>기타 괴롭힘 대화</td>\n",
       "      <td>야 쟤 좀 봐 . 꼴에 유행하는 옷 입었네 호박에 줄 긋는다고 수박되나 으엑 . 못...</td>\n",
       "      <td>3</td>\n",
       "    </tr>\n",
       "    <tr>\n",
       "      <th>3</th>\n",
       "      <td>4767</td>\n",
       "      <td>일반 대화</td>\n",
       "      <td>오늘 수업 내용 이해했어 ? 솔직히 좀 어려웠어 . 너는 ? 나도 몇 부분이 헷갈리...</td>\n",
       "      <td>4</td>\n",
       "    </tr>\n",
       "    <tr>\n",
       "      <th>4</th>\n",
       "      <td>1511</td>\n",
       "      <td>직장 내 괴롭힘 대화</td>\n",
       "      <td>자네 내일 아침에 우리집 들려서 출근하게 네 ? 내가 차가 고장났어 아 . 그런데 ...</td>\n",
       "      <td>2</td>\n",
       "    </tr>\n",
       "  </tbody>\n",
       "</table>\n",
       "</div>\n",
       "    <div class=\"colab-df-buttons\">\n",
       "\n",
       "  <div class=\"colab-df-container\">\n",
       "    <button class=\"colab-df-convert\" onclick=\"convertToInteractive('df-1427d0a5-ddb0-45ba-afa8-ef0853fca66f')\"\n",
       "            title=\"Convert this dataframe to an interactive table.\"\n",
       "            style=\"display:none;\">\n",
       "\n",
       "  <svg xmlns=\"http://www.w3.org/2000/svg\" height=\"24px\" viewBox=\"0 -960 960 960\">\n",
       "    <path d=\"M120-120v-720h720v720H120Zm60-500h600v-160H180v160Zm220 220h160v-160H400v160Zm0 220h160v-160H400v160ZM180-400h160v-160H180v160Zm440 0h160v-160H620v160ZM180-180h160v-160H180v160Zm440 0h160v-160H620v160Z\"/>\n",
       "  </svg>\n",
       "    </button>\n",
       "\n",
       "  <style>\n",
       "    .colab-df-container {\n",
       "      display:flex;\n",
       "      gap: 12px;\n",
       "    }\n",
       "\n",
       "    .colab-df-convert {\n",
       "      background-color: #E8F0FE;\n",
       "      border: none;\n",
       "      border-radius: 50%;\n",
       "      cursor: pointer;\n",
       "      display: none;\n",
       "      fill: #1967D2;\n",
       "      height: 32px;\n",
       "      padding: 0 0 0 0;\n",
       "      width: 32px;\n",
       "    }\n",
       "\n",
       "    .colab-df-convert:hover {\n",
       "      background-color: #E2EBFA;\n",
       "      box-shadow: 0px 1px 2px rgba(60, 64, 67, 0.3), 0px 1px 3px 1px rgba(60, 64, 67, 0.15);\n",
       "      fill: #174EA6;\n",
       "    }\n",
       "\n",
       "    .colab-df-buttons div {\n",
       "      margin-bottom: 4px;\n",
       "    }\n",
       "\n",
       "    [theme=dark] .colab-df-convert {\n",
       "      background-color: #3B4455;\n",
       "      fill: #D2E3FC;\n",
       "    }\n",
       "\n",
       "    [theme=dark] .colab-df-convert:hover {\n",
       "      background-color: #434B5C;\n",
       "      box-shadow: 0px 1px 3px 1px rgba(0, 0, 0, 0.15);\n",
       "      filter: drop-shadow(0px 1px 2px rgba(0, 0, 0, 0.3));\n",
       "      fill: #FFFFFF;\n",
       "    }\n",
       "  </style>\n",
       "\n",
       "    <script>\n",
       "      const buttonEl =\n",
       "        document.querySelector('#df-1427d0a5-ddb0-45ba-afa8-ef0853fca66f button.colab-df-convert');\n",
       "      buttonEl.style.display =\n",
       "        google.colab.kernel.accessAllowed ? 'block' : 'none';\n",
       "\n",
       "      async function convertToInteractive(key) {\n",
       "        const element = document.querySelector('#df-1427d0a5-ddb0-45ba-afa8-ef0853fca66f');\n",
       "        const dataTable =\n",
       "          await google.colab.kernel.invokeFunction('convertToInteractive',\n",
       "                                                    [key], {});\n",
       "        if (!dataTable) return;\n",
       "\n",
       "        const docLinkHtml = 'Like what you see? Visit the ' +\n",
       "          '<a target=\"_blank\" href=https://colab.research.google.com/notebooks/data_table.ipynb>data table notebook</a>'\n",
       "          + ' to learn more about interactive tables.';\n",
       "        element.innerHTML = '';\n",
       "        dataTable['output_type'] = 'display_data';\n",
       "        await google.colab.output.renderOutput(dataTable, element);\n",
       "        const docLink = document.createElement('div');\n",
       "        docLink.innerHTML = docLinkHtml;\n",
       "        element.appendChild(docLink);\n",
       "      }\n",
       "    </script>\n",
       "  </div>\n",
       "\n",
       "\n",
       "    <div id=\"df-ebebda6c-d502-4f9c-829d-cc8d3b324c77\">\n",
       "      <button class=\"colab-df-quickchart\" onclick=\"quickchart('df-ebebda6c-d502-4f9c-829d-cc8d3b324c77')\"\n",
       "                title=\"Suggest charts\"\n",
       "                style=\"display:none;\">\n",
       "\n",
       "<svg xmlns=\"http://www.w3.org/2000/svg\" height=\"24px\"viewBox=\"0 0 24 24\"\n",
       "     width=\"24px\">\n",
       "    <g>\n",
       "        <path d=\"M19 3H5c-1.1 0-2 .9-2 2v14c0 1.1.9 2 2 2h14c1.1 0 2-.9 2-2V5c0-1.1-.9-2-2-2zM9 17H7v-7h2v7zm4 0h-2V7h2v10zm4 0h-2v-4h2v4z\"/>\n",
       "    </g>\n",
       "</svg>\n",
       "      </button>\n",
       "\n",
       "<style>\n",
       "  .colab-df-quickchart {\n",
       "      --bg-color: #E8F0FE;\n",
       "      --fill-color: #1967D2;\n",
       "      --hover-bg-color: #E2EBFA;\n",
       "      --hover-fill-color: #174EA6;\n",
       "      --disabled-fill-color: #AAA;\n",
       "      --disabled-bg-color: #DDD;\n",
       "  }\n",
       "\n",
       "  [theme=dark] .colab-df-quickchart {\n",
       "      --bg-color: #3B4455;\n",
       "      --fill-color: #D2E3FC;\n",
       "      --hover-bg-color: #434B5C;\n",
       "      --hover-fill-color: #FFFFFF;\n",
       "      --disabled-bg-color: #3B4455;\n",
       "      --disabled-fill-color: #666;\n",
       "  }\n",
       "\n",
       "  .colab-df-quickchart {\n",
       "    background-color: var(--bg-color);\n",
       "    border: none;\n",
       "    border-radius: 50%;\n",
       "    cursor: pointer;\n",
       "    display: none;\n",
       "    fill: var(--fill-color);\n",
       "    height: 32px;\n",
       "    padding: 0;\n",
       "    width: 32px;\n",
       "  }\n",
       "\n",
       "  .colab-df-quickchart:hover {\n",
       "    background-color: var(--hover-bg-color);\n",
       "    box-shadow: 0 1px 2px rgba(60, 64, 67, 0.3), 0 1px 3px 1px rgba(60, 64, 67, 0.15);\n",
       "    fill: var(--button-hover-fill-color);\n",
       "  }\n",
       "\n",
       "  .colab-df-quickchart-complete:disabled,\n",
       "  .colab-df-quickchart-complete:disabled:hover {\n",
       "    background-color: var(--disabled-bg-color);\n",
       "    fill: var(--disabled-fill-color);\n",
       "    box-shadow: none;\n",
       "  }\n",
       "\n",
       "  .colab-df-spinner {\n",
       "    border: 2px solid var(--fill-color);\n",
       "    border-color: transparent;\n",
       "    border-bottom-color: var(--fill-color);\n",
       "    animation:\n",
       "      spin 1s steps(1) infinite;\n",
       "  }\n",
       "\n",
       "  @keyframes spin {\n",
       "    0% {\n",
       "      border-color: transparent;\n",
       "      border-bottom-color: var(--fill-color);\n",
       "      border-left-color: var(--fill-color);\n",
       "    }\n",
       "    20% {\n",
       "      border-color: transparent;\n",
       "      border-left-color: var(--fill-color);\n",
       "      border-top-color: var(--fill-color);\n",
       "    }\n",
       "    30% {\n",
       "      border-color: transparent;\n",
       "      border-left-color: var(--fill-color);\n",
       "      border-top-color: var(--fill-color);\n",
       "      border-right-color: var(--fill-color);\n",
       "    }\n",
       "    40% {\n",
       "      border-color: transparent;\n",
       "      border-right-color: var(--fill-color);\n",
       "      border-top-color: var(--fill-color);\n",
       "    }\n",
       "    60% {\n",
       "      border-color: transparent;\n",
       "      border-right-color: var(--fill-color);\n",
       "    }\n",
       "    80% {\n",
       "      border-color: transparent;\n",
       "      border-right-color: var(--fill-color);\n",
       "      border-bottom-color: var(--fill-color);\n",
       "    }\n",
       "    90% {\n",
       "      border-color: transparent;\n",
       "      border-bottom-color: var(--fill-color);\n",
       "    }\n",
       "  }\n",
       "</style>\n",
       "\n",
       "      <script>\n",
       "        async function quickchart(key) {\n",
       "          const quickchartButtonEl =\n",
       "            document.querySelector('#' + key + ' button');\n",
       "          quickchartButtonEl.disabled = true;  // To prevent multiple clicks.\n",
       "          quickchartButtonEl.classList.add('colab-df-spinner');\n",
       "          try {\n",
       "            const charts = await google.colab.kernel.invokeFunction(\n",
       "                'suggestCharts', [key], {});\n",
       "          } catch (error) {\n",
       "            console.error('Error during call to suggestCharts:', error);\n",
       "          }\n",
       "          quickchartButtonEl.classList.remove('colab-df-spinner');\n",
       "          quickchartButtonEl.classList.add('colab-df-quickchart-complete');\n",
       "        }\n",
       "        (() => {\n",
       "          let quickchartButtonEl =\n",
       "            document.querySelector('#df-ebebda6c-d502-4f9c-829d-cc8d3b324c77 button');\n",
       "          quickchartButtonEl.style.display =\n",
       "            google.colab.kernel.accessAllowed ? 'block' : 'none';\n",
       "        })();\n",
       "      </script>\n",
       "    </div>\n",
       "\n",
       "    </div>\n",
       "  </div>\n"
      ],
      "text/plain": [
       "    idx        class                                       conversation  label\n",
       "0  1951  직장 내 괴롭힘 대화  팀장님 이거 언제까지 마무리 하면 될까요 ? 무리하지 말고 넉넉하게 주말까지 다 작...      2\n",
       "1  4756        일반 대화  내일 날씨 어떻대 ? 비 온다던데 . 우산 챙겨가야 할 것 같아 . 에이 , 야외 ...      4\n",
       "2  1234    기타 괴롭힘 대화  야 쟤 좀 봐 . 꼴에 유행하는 옷 입었네 호박에 줄 긋는다고 수박되나 으엑 . 못...      3\n",
       "3  4767        일반 대화  오늘 수업 내용 이해했어 ? 솔직히 좀 어려웠어 . 너는 ? 나도 몇 부분이 헷갈리...      4\n",
       "4  1511  직장 내 괴롭힘 대화  자네 내일 아침에 우리집 들려서 출근하게 네 ? 내가 차가 고장났어 아 . 그런데 ...      2"
      ]
     },
     "execution_count": 10,
     "metadata": {},
     "output_type": "execute_result"
    }
   ],
   "source": [
    "train_data[\"conversation\"] = [preprocess_sentence(s) for s in train_data[\"conversation\"]]\n",
    "train_data.head()"
   ]
  },
  {
   "cell_type": "markdown",
   "id": "f3955dfa",
   "metadata": {
    "id": "f3955dfa"
   },
   "source": [
    "**test data**"
   ]
  },
  {
   "cell_type": "code",
   "execution_count": 11,
   "id": "a7889f56",
   "metadata": {
    "colab": {
     "base_uri": "https://localhost:8080/",
     "height": 206
    },
    "executionInfo": {
     "elapsed": 32,
     "status": "ok",
     "timestamp": 1746166639268,
     "user": {
      "displayName": "김영숙",
      "userId": "03881564225340792924"
     },
     "user_tz": -540
    },
    "id": "a7889f56",
    "outputId": "2fe5e9ea-d5ed-48e3-8988-98f13c3d985b"
   },
   "outputs": [
    {
     "data": {
      "application/vnd.google.colaboratory.intrinsic+json": {
       "summary": "{\n  \"name\": \"test_data\",\n  \"rows\": 500,\n  \"fields\": [\n    {\n      \"column\": \"idx\",\n      \"properties\": {\n        \"dtype\": \"string\",\n        \"num_unique_values\": 500,\n        \"samples\": [\n          \"t_361\",\n          \"t_073\",\n          \"t_374\"\n        ],\n        \"semantic_type\": \"\",\n        \"description\": \"\"\n      }\n    },\n    {\n      \"column\": \"text\",\n      \"properties\": {\n        \"dtype\": \"string\",\n        \"num_unique_values\": 499,\n        \"samples\": [\n          \"\\ub0b4\\uc77c \\ubaa8\\ub808\\uae4c\\uc9c0 \\ucc9c\\ub9cc\\uc6d0 \\ub354 \\uc900\\ube44\\ud574\\uc8fc\\uc138\\uc694 \\ub124? \\uc774\\ubc88\\ub2ec\\uc740 \\uc774\\ubbf8 \\uc6d0\\ud558\\uc2dc\\ub294 \\uae08\\uc561 \\ub2e4 \\ub9de\\ucdb0\\ub4dc\\ub838\\uc796\\uc544\\uc694 \\uc6b0\\ub9ac \\uc0ac\\uc774 \\uae08\\uc561\\uc5d0 \\uc0c1\\ud55c\\uac00\\uac00 \\uc5b4\\ub528\\uc2b5\\ub2c8\\uae4c \\uadf8\\ub54c\\uadf8\\ub54c \\uc0c1\\ud669\\uc5d0 \\ub2e4\\ub978\\uac70 \\uc544\\uc2dc\\uc796\\uc544\\uc694 \\uc800 \\uc815\\ub9d0 \\uc774\\ubc88\\ub2ec\\uc5d0 \\ub4dc\\ub9b0\\uac8c \\ub2e4\\uc5d0\\uc694. \\ud604\\uae08 \\ub354 \\ub9cc\\ub4e4\\ub798\\ub3c4 \\ub9cc\\ub4e4 \\uc218\\uac00 \\uc5c6\\uc2b5\\ub2c8\\ub2e4 \\uc815\\ub9d0\\uc774\\uc5d0\\uc694 \\uc774\\uc81c \\uaca8\\uc6b0 \\uc790\\ub9ac \\uc7a1\\uc740 \\ub538\\uc790\\uc2dd \\uc55e\\uae38 \\ub9dd\\uac00\\ub728\\ub9ac\\uace0 \\uc2f6\\ub098\\ubcf4\\ub124? \\ud55c\\ubc88\\ub9cc \\uc0b4\\ub824\\uc8fc\\uc2ed\\uc1fc \\uc81c \\ub538\\ub9cc\\uc740 \\uac74\\ub4e4\\uc9c0 \\ub9d0\\uc544\\uc8fc\\uc2ed\\uc1fc. \\ub9e4\\ubc88 \\uc774\\ub807\\uac8c \\ubd80\\ud0c1\\ub9cc \\ud558\\uba74 \\ub0b4\\uac00 \\uc5b4\\ub5bb\\uac8c \\ub4e4\\uc5b4\\uc8fc\\ub098 \\ub2e4\\uc74c\\ub2ec\\uc5d0 \\uc5b4\\ub5bb\\uac8c\\ub4e0 \\ucc44\\uc6cc\\ubcfc\\ud14c\\ub2c8 \\uc774\\ubc88\\ub9cc \\uc0b4\\ub824\\uc8fc\\uc2ed\\uc1fc \\uc81c\\ubc1c \\ub3c8\\uc774 \\uc5c6\\uc73c\\uba74 \\ubab8\\uc73c\\ub85c\\ub77c\\ub3c4 \\ub5bc\\uc6cc \\uadf8\\ub7fc \\ubab8\\ub6b1\\uc774 \\ud558\\ub098\\ub85c \\ub3c8 \\ubc8c\\uc5b4 \\uba39\\uace0 \\uc0b4\\uace0 \\uc788\\uc2b5\\ub2c8\\ub2e4. \\uc81c\\ubc1c \\uc774\\ubc88\\ub9cc \\uc880 \\ubd10\\uc8fc\\uc2ed\\uc2dc\\uc624\",\n          \"\\uc218\\ubbfc \\uc528 \\uc544\\uce68\\uc5d0 \\uc77c\\ucc0d \\uc880 \\uc624\\uc138\\uc694  \\uc800 \\uc9c0\\uac01 \\uc548\\ud588\\uc2b5\\ub2c8\\ub2e4  \\uc544\\ub2c8 \\uc2e0\\uc785\\uc774\\uba74 1\\uc2dc\\uac04 \\uc77c\\ucc0d \\uc640\\uc57c\\uc9c0  \\ub124?  \\uc694\\uc998 \\uc560\\ub4e4\\uc740 \\uae30\\ubcf8\\uc774 \\uc5c6\\uc5b4 \\uc77c\\ucc0d \\uc640\\uc11c \\ucee4\\ud53c\\ub3c4 \\ud0c0\\uace0 \\uc815\\ub9ac\\ub3c4 \\ud574\\ub193\\uace0 \\uadf8\\ub798\\uc57c\\uc9c0  \\uadf8\\uac74 \\ubd80\\ub2f9\\ud558\\ub2e4\\uace0 \\uc0dd\\uac01\\ud569\\ub2c8\\ub2e4  \\uc774\\uac83 \\ubd10 \\ubc14\\ub85c \\ub9d0\\ub300\\uafb8\\uc57c  \\ub9d0\\ub300\\uafb8\\ub77c\\ub1e8?  \\uc5ed\\uc2dc \\uc2f8\\uac00\\uc9c0\\uac00 \\uc5c6\\uc5b4 \\uc218\\ubbfc \\uc528\\ub294 \\ud68c\\uc0ac \\uc9e7\\uac8c \\ub2e4\\ub2c8\\uace0 \\uc2f6\\uc740\\uac00 \\ubcf4\\ub124  \\uc9c0\\uae08 \\ubb34\\uc2a8 \\ub9d0\\uc500\\uc744 \\ud558\\uc2dc\\ub294\\uc9c0 \\ubaa8\\ub974\\uaca0\\ub124\\uc694\",\n          \"\\uc5ec\\ub7ec\\ubd84 \\uc8fc\\ub2d8\\uc740 \\ucc38 \\uc790\\ube44\\ub85c\\uc6b0\\uc2e0 \\uac83 \\uac19\\uc544\\uc694 \\ub0a8\\ub4e4\\uc774 \\uc608\\uc218\\ub77c\\uba74 \\ub2e4 \\uc8fd\\uc5ec\\ubc84\\ub838\\uc744 \\ud150\\ub370 \\ucc38 \\uc6c3\\uae30\\uace0 \\uc790\\ube60\\uc84c\\ub124 \\uc2e0\\ub3c4 \\ub2d8\\ub4e4 \\uc800 \\uc2e0\\ub3c4\\ub97c \\uc7a1\\uc73c\\uc138\\uc694 \\uc544\\ub2c8 \\uc65c \\uadf8\\ub7ec\\uc138\\uc694 \\uc774\\uac70 \\ub194 \\uc790 \\ub0b4\\uac00 \\uce7c\\uc744 \\uc904\\ud14c\\ub2c8 \\ud68c\\uacc4\\ud558\\uace0 \\uc790\\uacb0\\ud574 \\ub10c \\uc77c\\ucc0d \\ucc9c\\uad6d\\uc73c\\ub85c \\ubcf4\\ub0b4\\uc8fc\\ub294 \\uac70\\uc57c \\uc544\\ub2c8\\uba74 \\ub0b4\\uac00 \\uc8fd\\uc5ec\\uc11c \\uc9c0\\uc625\\uc73c\\ub85c \\ubcf4\\ub0bc\\uc218\\ub3c4 \\uc788\\uc73c\\ub2c8 \\uc544\\ub2c8 \\uc65c \\uadf8\\ub7ec\\uc138\\uc694? \\uc0ac\\uc774\\ube44\\uc5d0\\uc694? \\uc774\\uac70 \\ub194\\uc694 \\uc774 \\ubc84\\ub7ec\\uc9c0\\uac19\\uc740 \\uc0ac\\ud0c4\\uc774 \\ub9de\\uc744\\ub77c\\uace0 \\uc0b4\\ub824\\uc8fc\\uc138\\uc694 \\ub3c4\\uc640\\uc8fc\\uc138\\uc694\"\n        ],\n        \"semantic_type\": \"\",\n        \"description\": \"\"\n      }\n    }\n  ]\n}",
       "type": "dataframe",
       "variable_name": "test_data"
      },
      "text/html": [
       "\n",
       "  <div id=\"df-17f43e5e-90f5-482f-85cf-ff0f499f6a0f\" class=\"colab-df-container\">\n",
       "    <div>\n",
       "<style scoped>\n",
       "    .dataframe tbody tr th:only-of-type {\n",
       "        vertical-align: middle;\n",
       "    }\n",
       "\n",
       "    .dataframe tbody tr th {\n",
       "        vertical-align: top;\n",
       "    }\n",
       "\n",
       "    .dataframe thead th {\n",
       "        text-align: right;\n",
       "    }\n",
       "</style>\n",
       "<table border=\"1\" class=\"dataframe\">\n",
       "  <thead>\n",
       "    <tr style=\"text-align: right;\">\n",
       "      <th></th>\n",
       "      <th>idx</th>\n",
       "      <th>text</th>\n",
       "    </tr>\n",
       "  </thead>\n",
       "  <tbody>\n",
       "    <tr>\n",
       "      <th>0</th>\n",
       "      <td>t_000</td>\n",
       "      <td>아가씨 담배한갑주소 네 4500원입니다 어 네 지갑어디갔지 에이 버스에서 잃어버렸나...</td>\n",
       "    </tr>\n",
       "    <tr>\n",
       "      <th>1</th>\n",
       "      <td>t_001</td>\n",
       "      <td>우리팀에서 다른팀으로 갈 사람 없나? 그럼 영지씨가 가는건 어때?  네? 제가요? ...</td>\n",
       "    </tr>\n",
       "    <tr>\n",
       "      <th>2</th>\n",
       "      <td>t_002</td>\n",
       "      <td>너 오늘 그게 뭐야 네 제가 뭘 잘못했나요.? 제대로 좀 하지 네 똑바로 좀 하지 ...</td>\n",
       "    </tr>\n",
       "    <tr>\n",
       "      <th>3</th>\n",
       "      <td>t_003</td>\n",
       "      <td>이거 들어바 와 이 노래 진짜 좋다 그치 요즘 이 것만 들어 진짜 너무 좋다 내가 ...</td>\n",
       "    </tr>\n",
       "    <tr>\n",
       "      <th>4</th>\n",
       "      <td>t_004</td>\n",
       "      <td>아무튼 앞으로 니가 내 와이파이야. .응 와이파이 온. 켰어. 반말? 주인님이라고도...</td>\n",
       "    </tr>\n",
       "  </tbody>\n",
       "</table>\n",
       "</div>\n",
       "    <div class=\"colab-df-buttons\">\n",
       "\n",
       "  <div class=\"colab-df-container\">\n",
       "    <button class=\"colab-df-convert\" onclick=\"convertToInteractive('df-17f43e5e-90f5-482f-85cf-ff0f499f6a0f')\"\n",
       "            title=\"Convert this dataframe to an interactive table.\"\n",
       "            style=\"display:none;\">\n",
       "\n",
       "  <svg xmlns=\"http://www.w3.org/2000/svg\" height=\"24px\" viewBox=\"0 -960 960 960\">\n",
       "    <path d=\"M120-120v-720h720v720H120Zm60-500h600v-160H180v160Zm220 220h160v-160H400v160Zm0 220h160v-160H400v160ZM180-400h160v-160H180v160Zm440 0h160v-160H620v160ZM180-180h160v-160H180v160Zm440 0h160v-160H620v160Z\"/>\n",
       "  </svg>\n",
       "    </button>\n",
       "\n",
       "  <style>\n",
       "    .colab-df-container {\n",
       "      display:flex;\n",
       "      gap: 12px;\n",
       "    }\n",
       "\n",
       "    .colab-df-convert {\n",
       "      background-color: #E8F0FE;\n",
       "      border: none;\n",
       "      border-radius: 50%;\n",
       "      cursor: pointer;\n",
       "      display: none;\n",
       "      fill: #1967D2;\n",
       "      height: 32px;\n",
       "      padding: 0 0 0 0;\n",
       "      width: 32px;\n",
       "    }\n",
       "\n",
       "    .colab-df-convert:hover {\n",
       "      background-color: #E2EBFA;\n",
       "      box-shadow: 0px 1px 2px rgba(60, 64, 67, 0.3), 0px 1px 3px 1px rgba(60, 64, 67, 0.15);\n",
       "      fill: #174EA6;\n",
       "    }\n",
       "\n",
       "    .colab-df-buttons div {\n",
       "      margin-bottom: 4px;\n",
       "    }\n",
       "\n",
       "    [theme=dark] .colab-df-convert {\n",
       "      background-color: #3B4455;\n",
       "      fill: #D2E3FC;\n",
       "    }\n",
       "\n",
       "    [theme=dark] .colab-df-convert:hover {\n",
       "      background-color: #434B5C;\n",
       "      box-shadow: 0px 1px 3px 1px rgba(0, 0, 0, 0.15);\n",
       "      filter: drop-shadow(0px 1px 2px rgba(0, 0, 0, 0.3));\n",
       "      fill: #FFFFFF;\n",
       "    }\n",
       "  </style>\n",
       "\n",
       "    <script>\n",
       "      const buttonEl =\n",
       "        document.querySelector('#df-17f43e5e-90f5-482f-85cf-ff0f499f6a0f button.colab-df-convert');\n",
       "      buttonEl.style.display =\n",
       "        google.colab.kernel.accessAllowed ? 'block' : 'none';\n",
       "\n",
       "      async function convertToInteractive(key) {\n",
       "        const element = document.querySelector('#df-17f43e5e-90f5-482f-85cf-ff0f499f6a0f');\n",
       "        const dataTable =\n",
       "          await google.colab.kernel.invokeFunction('convertToInteractive',\n",
       "                                                    [key], {});\n",
       "        if (!dataTable) return;\n",
       "\n",
       "        const docLinkHtml = 'Like what you see? Visit the ' +\n",
       "          '<a target=\"_blank\" href=https://colab.research.google.com/notebooks/data_table.ipynb>data table notebook</a>'\n",
       "          + ' to learn more about interactive tables.';\n",
       "        element.innerHTML = '';\n",
       "        dataTable['output_type'] = 'display_data';\n",
       "        await google.colab.output.renderOutput(dataTable, element);\n",
       "        const docLink = document.createElement('div');\n",
       "        docLink.innerHTML = docLinkHtml;\n",
       "        element.appendChild(docLink);\n",
       "      }\n",
       "    </script>\n",
       "  </div>\n",
       "\n",
       "\n",
       "    <div id=\"df-7eddb96a-3b75-436b-ac40-e80c95ec5026\">\n",
       "      <button class=\"colab-df-quickchart\" onclick=\"quickchart('df-7eddb96a-3b75-436b-ac40-e80c95ec5026')\"\n",
       "                title=\"Suggest charts\"\n",
       "                style=\"display:none;\">\n",
       "\n",
       "<svg xmlns=\"http://www.w3.org/2000/svg\" height=\"24px\"viewBox=\"0 0 24 24\"\n",
       "     width=\"24px\">\n",
       "    <g>\n",
       "        <path d=\"M19 3H5c-1.1 0-2 .9-2 2v14c0 1.1.9 2 2 2h14c1.1 0 2-.9 2-2V5c0-1.1-.9-2-2-2zM9 17H7v-7h2v7zm4 0h-2V7h2v10zm4 0h-2v-4h2v4z\"/>\n",
       "    </g>\n",
       "</svg>\n",
       "      </button>\n",
       "\n",
       "<style>\n",
       "  .colab-df-quickchart {\n",
       "      --bg-color: #E8F0FE;\n",
       "      --fill-color: #1967D2;\n",
       "      --hover-bg-color: #E2EBFA;\n",
       "      --hover-fill-color: #174EA6;\n",
       "      --disabled-fill-color: #AAA;\n",
       "      --disabled-bg-color: #DDD;\n",
       "  }\n",
       "\n",
       "  [theme=dark] .colab-df-quickchart {\n",
       "      --bg-color: #3B4455;\n",
       "      --fill-color: #D2E3FC;\n",
       "      --hover-bg-color: #434B5C;\n",
       "      --hover-fill-color: #FFFFFF;\n",
       "      --disabled-bg-color: #3B4455;\n",
       "      --disabled-fill-color: #666;\n",
       "  }\n",
       "\n",
       "  .colab-df-quickchart {\n",
       "    background-color: var(--bg-color);\n",
       "    border: none;\n",
       "    border-radius: 50%;\n",
       "    cursor: pointer;\n",
       "    display: none;\n",
       "    fill: var(--fill-color);\n",
       "    height: 32px;\n",
       "    padding: 0;\n",
       "    width: 32px;\n",
       "  }\n",
       "\n",
       "  .colab-df-quickchart:hover {\n",
       "    background-color: var(--hover-bg-color);\n",
       "    box-shadow: 0 1px 2px rgba(60, 64, 67, 0.3), 0 1px 3px 1px rgba(60, 64, 67, 0.15);\n",
       "    fill: var(--button-hover-fill-color);\n",
       "  }\n",
       "\n",
       "  .colab-df-quickchart-complete:disabled,\n",
       "  .colab-df-quickchart-complete:disabled:hover {\n",
       "    background-color: var(--disabled-bg-color);\n",
       "    fill: var(--disabled-fill-color);\n",
       "    box-shadow: none;\n",
       "  }\n",
       "\n",
       "  .colab-df-spinner {\n",
       "    border: 2px solid var(--fill-color);\n",
       "    border-color: transparent;\n",
       "    border-bottom-color: var(--fill-color);\n",
       "    animation:\n",
       "      spin 1s steps(1) infinite;\n",
       "  }\n",
       "\n",
       "  @keyframes spin {\n",
       "    0% {\n",
       "      border-color: transparent;\n",
       "      border-bottom-color: var(--fill-color);\n",
       "      border-left-color: var(--fill-color);\n",
       "    }\n",
       "    20% {\n",
       "      border-color: transparent;\n",
       "      border-left-color: var(--fill-color);\n",
       "      border-top-color: var(--fill-color);\n",
       "    }\n",
       "    30% {\n",
       "      border-color: transparent;\n",
       "      border-left-color: var(--fill-color);\n",
       "      border-top-color: var(--fill-color);\n",
       "      border-right-color: var(--fill-color);\n",
       "    }\n",
       "    40% {\n",
       "      border-color: transparent;\n",
       "      border-right-color: var(--fill-color);\n",
       "      border-top-color: var(--fill-color);\n",
       "    }\n",
       "    60% {\n",
       "      border-color: transparent;\n",
       "      border-right-color: var(--fill-color);\n",
       "    }\n",
       "    80% {\n",
       "      border-color: transparent;\n",
       "      border-right-color: var(--fill-color);\n",
       "      border-bottom-color: var(--fill-color);\n",
       "    }\n",
       "    90% {\n",
       "      border-color: transparent;\n",
       "      border-bottom-color: var(--fill-color);\n",
       "    }\n",
       "  }\n",
       "</style>\n",
       "\n",
       "      <script>\n",
       "        async function quickchart(key) {\n",
       "          const quickchartButtonEl =\n",
       "            document.querySelector('#' + key + ' button');\n",
       "          quickchartButtonEl.disabled = true;  // To prevent multiple clicks.\n",
       "          quickchartButtonEl.classList.add('colab-df-spinner');\n",
       "          try {\n",
       "            const charts = await google.colab.kernel.invokeFunction(\n",
       "                'suggestCharts', [key], {});\n",
       "          } catch (error) {\n",
       "            console.error('Error during call to suggestCharts:', error);\n",
       "          }\n",
       "          quickchartButtonEl.classList.remove('colab-df-spinner');\n",
       "          quickchartButtonEl.classList.add('colab-df-quickchart-complete');\n",
       "        }\n",
       "        (() => {\n",
       "          let quickchartButtonEl =\n",
       "            document.querySelector('#df-7eddb96a-3b75-436b-ac40-e80c95ec5026 button');\n",
       "          quickchartButtonEl.style.display =\n",
       "            google.colab.kernel.accessAllowed ? 'block' : 'none';\n",
       "        })();\n",
       "      </script>\n",
       "    </div>\n",
       "\n",
       "    </div>\n",
       "  </div>\n"
      ],
      "text/plain": [
       "     idx                                               text\n",
       "0  t_000  아가씨 담배한갑주소 네 4500원입니다 어 네 지갑어디갔지 에이 버스에서 잃어버렸나...\n",
       "1  t_001  우리팀에서 다른팀으로 갈 사람 없나? 그럼 영지씨가 가는건 어때?  네? 제가요? ...\n",
       "2  t_002  너 오늘 그게 뭐야 네 제가 뭘 잘못했나요.? 제대로 좀 하지 네 똑바로 좀 하지 ...\n",
       "3  t_003  이거 들어바 와 이 노래 진짜 좋다 그치 요즘 이 것만 들어 진짜 너무 좋다 내가 ...\n",
       "4  t_004  아무튼 앞으로 니가 내 와이파이야. .응 와이파이 온. 켰어. 반말? 주인님이라고도..."
      ]
     },
     "execution_count": 11,
     "metadata": {},
     "output_type": "execute_result"
    }
   ],
   "source": [
    "data_dir = os.path.join(current_dir)\n",
    "test_data_path = os.path.join(data_dir, 'test.csv')\n",
    "\n",
    "\n",
    "test_data = pd.read_csv(test_data_path)\n",
    "test_data.head()"
   ]
  },
  {
   "cell_type": "code",
   "execution_count": 12,
   "id": "K6eLEo-WElwq",
   "metadata": {
    "colab": {
     "base_uri": "https://localhost:8080/"
    },
    "executionInfo": {
     "elapsed": 10,
     "status": "ok",
     "timestamp": 1746166639269,
     "user": {
      "displayName": "김영숙",
      "userId": "03881564225340792924"
     },
     "user_tz": -540
    },
    "id": "K6eLEo-WElwq",
    "outputId": "ecb3df54-bac3-4183-8886-52f66bf96d08"
   },
   "outputs": [
    {
     "name": "stdout",
     "output_type": "stream",
     "text": [
      "문장길이 평균 :  230.5475522967436\n",
      "문장길이 최대 :  909\n",
      "문장길이 표준편차 :  108.46577725734618\n",
      "train_sequences maxlen :  447\n",
      "전체 문장의 0.9566530084106103%가 maxlen 설정값 이내에 포함됩니다. \n"
     ]
    }
   ],
   "source": [
    "# 한 문장의 길이를  num_tokens에 저장\n",
    "num_tokens = [len(tokens) for tokens in train_data['conversation']]\n",
    "# array로 변환\n",
    "num_tokens = np.array(num_tokens)\n",
    "\n",
    "# 문장길이의 평균값, 최대값, 표준편차를 계산해 본다.\n",
    "print('문장길이 평균 : ', np.mean(num_tokens))\n",
    "print('문장길이 최대 : ', np.max(num_tokens))\n",
    "print('문장길이 표준편차 : ', np.std(num_tokens))\n",
    "\n",
    "max_tokens = np.mean(num_tokens) + 2 * np.std(num_tokens)\n",
    "maxlen = int(max_tokens)\n",
    "print('train_sequences maxlen : ', maxlen)\n",
    "print(f'전체 문장의 {np.sum(num_tokens < max_tokens) / len(num_tokens)}%가 maxlen 설정값 이내에 포함됩니다. ')\n",
    "\n",
    "sequences_maxlen = maxlen\n",
    "\n",
    "sequences_maxlen = 300\n"
   ]
  },
  {
   "cell_type": "code",
   "execution_count": 13,
   "id": "XkVEHAjgIphO",
   "metadata": {
    "colab": {
     "base_uri": "https://localhost:8080/"
    },
    "executionInfo": {
     "elapsed": 7,
     "status": "ok",
     "timestamp": 1746166639270,
     "user": {
      "displayName": "김영숙",
      "userId": "03881564225340792924"
     },
     "user_tz": -540
    },
    "id": "XkVEHAjgIphO",
    "outputId": "5f91917c-454b-4f6e-ad45-d89c92fcb6f1"
   },
   "outputs": [
    {
     "name": "stdout",
     "output_type": "stream",
     "text": [
      "문장길이 평균 :  213.626\n",
      "문장길이 최대 :  722\n",
      "문장길이 표준편차 :  101.13918194250931\n",
      "test_sequences maxlen :  466\n",
      "전체 문장의 0.972%가 maxlen 설정값 이내에 포함됩니다. \n"
     ]
    }
   ],
   "source": [
    "# 한 문장의 길이를  num_tokens에 저장\n",
    "num_tokens = [len(tokens) for tokens in test_data['text']]\n",
    "# array로 변환\n",
    "num_tokens = np.array(num_tokens)\n",
    "\n",
    "# 문장길이의 평균값, 최대값, 표준편차를 계산해 본다.\n",
    "print('문장길이 평균 : ', np.mean(num_tokens))\n",
    "print('문장길이 최대 : ', np.max(num_tokens))\n",
    "print('문장길이 표준편차 : ', np.std(num_tokens))\n",
    "\n",
    "max_tokens = np.mean(num_tokens) + 2.5 * np.std(num_tokens)\n",
    "maxlen = int(max_tokens)\n",
    "print('test_sequences maxlen : ', maxlen)\n",
    "print(f'전체 문장의 {np.sum(num_tokens < max_tokens) / len(num_tokens)}%가 maxlen 설정값 이내에 포함됩니다. ')\n",
    "\n",
    "test_maxlen = maxlen"
   ]
  },
  {
   "cell_type": "markdown",
   "id": "Xf3uld8UHQ3X",
   "metadata": {
    "id": "Xf3uld8UHQ3X"
   },
   "source": [
    "훈련/검증 데이터셋 분리\n",
    "- validation set은 original_train_set으로 부터 생성하도록 고정\n",
    "- random_state=42"
   ]
  },
  {
   "cell_type": "code",
   "execution_count": 14,
   "id": "1784d038",
   "metadata": {
    "executionInfo": {
     "elapsed": 4,
     "status": "ok",
     "timestamp": 1746166639271,
     "user": {
      "displayName": "김영숙",
      "userId": "03881564225340792924"
     },
     "user_tz": -540
    },
    "id": "1784d038"
   },
   "outputs": [],
   "source": [
    "# train/ val 분리\n",
    "random_state=42\n",
    "\n",
    "df = train_data\n",
    "\n",
    "train_texts, val_texts, train_labels, val_labels = train_test_split(\n",
    "    df['conversation'].tolist(),\n",
    "    df['label'].tolist(),\n",
    "    test_size=0.2,\n",
    "    random_state=random_state,\n",
    "    stratify=df['label']\n",
    ")"
   ]
  },
  {
   "cell_type": "markdown",
   "id": "fb7aa2b2",
   "metadata": {
    "id": "fb7aa2b2"
   },
   "source": [
    "**beomi/kcbert-base**"
   ]
  },
  {
   "cell_type": "code",
   "execution_count": 15,
   "id": "14ffe1ec",
   "metadata": {
    "colab": {
     "base_uri": "https://localhost:8080/"
    },
    "executionInfo": {
     "elapsed": 4512,
     "status": "ok",
     "timestamp": 1746166643784,
     "user": {
      "displayName": "김영숙",
      "userId": "03881564225340792924"
     },
     "user_tz": -540
    },
    "id": "14ffe1ec",
    "outputId": "14b153b6-cebc-4970-b52f-64b312415099"
   },
   "outputs": [
    {
     "name": "stderr",
     "output_type": "stream",
     "text": [
      "/usr/local/lib/python3.11/dist-packages/huggingface_hub/utils/_auth.py:94: UserWarning: \n",
      "The secret `HF_TOKEN` does not exist in your Colab secrets.\n",
      "To authenticate with the Hugging Face Hub, create a token in your settings tab (https://huggingface.co/settings/tokens), set it as secret in your Google Colab and restart your session.\n",
      "You will be able to reuse this secret in all of your notebooks.\n",
      "Please note that authentication is recommended but still optional to access public models or datasets.\n",
      "  warnings.warn(\n",
      "All PyTorch model weights were used when initializing TFBertForSequenceClassification.\n",
      "\n",
      "Some weights or buffers of the TF 2.0 model TFBertForSequenceClassification were not initialized from the PyTorch model and are newly initialized: ['classifier.weight', 'classifier.bias']\n",
      "You should probably TRAIN this model on a down-stream task to be able to use it for predictions and inference.\n"
     ]
    },
    {
     "data": {
      "text/plain": [
       "30000"
      ]
     },
     "execution_count": 15,
     "metadata": {},
     "output_type": "execute_result"
    }
   ],
   "source": [
    "from transformers import TFBertForSequenceClassification\n",
    "\n",
    "model_name = \"beomi/kcbert-base\"\n",
    "\n",
    "# 토크나이저 로드\n",
    "tokenizer = BertTokenizer.from_pretrained(model_name)\n",
    "\n",
    "#PyTorch로 학습된 beomi/kcbert-base 모델을 TensorFlow로 변환하여 사용\n",
    "from transformers import TFBertModel\n",
    "\n",
    "model = TFBertForSequenceClassification.from_pretrained(model_name, num_labels=len(class_dict),  from_pt=True)#  클래스 수에 맞게\n",
    "\n",
    "# tokenizer의 vocab 사이즈 확인\n",
    "tokenizer.vocab_size\n"
   ]
  },
  {
   "cell_type": "code",
   "execution_count": 16,
   "id": "e0fc5948",
   "metadata": {
    "executionInfo": {
     "elapsed": 34668,
     "status": "ok",
     "timestamp": 1746166678451,
     "user": {
      "displayName": "김영숙",
      "userId": "03881564225340792924"
     },
     "user_tz": -540
    },
    "id": "e0fc5948"
   },
   "outputs": [],
   "source": [
    "# TensorFlow 데이터셋으로 변환\n",
    "train_encodings = tokenizer(train_texts, truncation=True, padding=True, max_length=sequences_maxlen)\n",
    "val_encodings = tokenizer(val_texts, truncation=True, padding=True, max_length=sequences_maxlen)\n",
    "\n",
    "# TensorFlow 데이터셋으로 변환\n",
    "train_dataset = tf.data.Dataset.from_tensor_slices((\n",
    "    dict(train_encodings),\n",
    "    train_labels\n",
    "))\n",
    "\n",
    "val_dataset = tf.data.Dataset.from_tensor_slices((\n",
    "    dict(val_encodings),\n",
    "    val_labels\n",
    "))\n",
    "\n",
    "# 배치 처리 및 셔플\n",
    "train_dataset = train_dataset.shuffle(1000).batch(16)\n",
    "val_dataset = val_dataset.shuffle(1000).batch(16)"
   ]
  },
  {
   "cell_type": "code",
   "execution_count": 17,
   "id": "f7210f40",
   "metadata": {
    "colab": {
     "base_uri": "https://localhost:8080/"
    },
    "executionInfo": {
     "elapsed": 239,
     "status": "ok",
     "timestamp": 1746166678693,
     "user": {
      "displayName": "김영숙",
      "userId": "03881564225340792924"
     },
     "user_tz": -540
    },
    "id": "f7210f40",
    "outputId": "ca88c81f-86ea-4668-9aca-58063d1b9cd1"
   },
   "outputs": [
    {
     "data": {
      "text/plain": [
       "BertConfig {\n",
       "  \"architectures\": [\n",
       "    \"BertForMaskedLM\"\n",
       "  ],\n",
       "  \"attention_probs_dropout_prob\": 0.1,\n",
       "  \"classifier_dropout\": null,\n",
       "  \"directionality\": \"bidi\",\n",
       "  \"hidden_act\": \"gelu\",\n",
       "  \"hidden_dropout_prob\": 0.1,\n",
       "  \"hidden_size\": 768,\n",
       "  \"initializer_range\": 0.02,\n",
       "  \"intermediate_size\": 3072,\n",
       "  \"layer_norm_eps\": 1e-12,\n",
       "  \"max_position_embeddings\": 300,\n",
       "  \"model_type\": \"bert\",\n",
       "  \"num_attention_heads\": 12,\n",
       "  \"num_hidden_layers\": 12,\n",
       "  \"pad_token_id\": 0,\n",
       "  \"pooler_fc_size\": 768,\n",
       "  \"pooler_num_attention_heads\": 12,\n",
       "  \"pooler_num_fc_layers\": 3,\n",
       "  \"pooler_size_per_head\": 128,\n",
       "  \"pooler_type\": \"first_token_transform\",\n",
       "  \"position_embedding_type\": \"absolute\",\n",
       "  \"transformers_version\": \"4.51.3\",\n",
       "  \"type_vocab_size\": 2,\n",
       "  \"use_cache\": true,\n",
       "  \"vocab_size\": 30000\n",
       "}"
      ]
     },
     "execution_count": 17,
     "metadata": {},
     "output_type": "execute_result"
    }
   ],
   "source": [
    "from transformers import AutoConfig\n",
    "\n",
    "\n",
    "config = AutoConfig.from_pretrained(model_name)\n",
    "config"
   ]
  },
  {
   "cell_type": "code",
   "execution_count": 18,
   "id": "3suvmC9Rb7QA",
   "metadata": {
    "colab": {
     "base_uri": "https://localhost:8080/"
    },
    "executionInfo": {
     "elapsed": 13,
     "status": "ok",
     "timestamp": 1746166678709,
     "user": {
      "displayName": "김영숙",
      "userId": "03881564225340792924"
     },
     "user_tz": -540
    },
    "id": "3suvmC9Rb7QA",
    "outputId": "7b9df8d4-cd97-4c98-b88f-4123da9685bd"
   },
   "outputs": [
    {
     "name": "stdout",
     "output_type": "stream",
     "text": [
      "TPU not detected. Running on CPU/GPU.\n"
     ]
    }
   ],
   "source": [
    "try:\n",
    "    tpu = tf.distribute.cluster_resolver.TPUClusterResolver()  # TPU 사용 가능 여부 확인\n",
    "    print(\"TPU detected:\", tpu.cluster_spec().as_dict())\n",
    "except ValueError:\n",
    "    print(\"TPU not detected. Running on CPU/GPU.\")"
   ]
  },
  {
   "cell_type": "code",
   "execution_count": 19,
   "id": "6s9R3BZ4cFFZ",
   "metadata": {
    "colab": {
     "base_uri": "https://localhost:8080/"
    },
    "executionInfo": {
     "elapsed": 25,
     "status": "ok",
     "timestamp": 1746166678738,
     "user": {
      "displayName": "김영숙",
      "userId": "03881564225340792924"
     },
     "user_tz": -540
    },
    "id": "6s9R3BZ4cFFZ",
    "outputId": "52d6633b-fc76-457e-c6bd-ef4c09a3c9ec"
   },
   "outputs": [
    {
     "name": "stdout",
     "output_type": "stream",
     "text": [
      "Current strategy: _DefaultDistributionStrategy\n"
     ]
    }
   ],
   "source": [
    "strategy = tf.distribute.get_strategy()\n",
    "print(\"Current strategy:\", type(strategy).__name__)"
   ]
  },
  {
   "cell_type": "code",
   "execution_count": 20,
   "id": "Tr-ymnNSdD2p",
   "metadata": {
    "executionInfo": {
     "elapsed": 3,
     "status": "ok",
     "timestamp": 1746166678739,
     "user": {
      "displayName": "김영숙",
      "userId": "03881564225340792924"
     },
     "user_tz": -540
    },
    "id": "Tr-ymnNSdD2p"
   },
   "outputs": [],
   "source": [
    "\n",
    "# 👇 dummy input으로 모델 빌드 (이게 중요!)\n",
    "#model(tf.constant([[1]*128]))"
   ]
  },
  {
   "cell_type": "code",
   "execution_count": 21,
   "id": "a12c2f28",
   "metadata": {
    "executionInfo": {
     "elapsed": 136,
     "status": "ok",
     "timestamp": 1746166678875,
     "user": {
      "displayName": "김영숙",
      "userId": "03881564225340792924"
     },
     "user_tz": -540
    },
    "id": "a12c2f28"
   },
   "outputs": [],
   "source": [
    "# 모델 컴파일\n",
    "optimizer = tf.keras.optimizers.Adam(learning_rate=3e-5)\n",
    "loss = tf.keras.losses.SparseCategoricalCrossentropy(from_logits=True)\n",
    "metric = tf.keras.metrics.SparseCategoricalAccuracy('accuracy')\n",
    "\n",
    "model.compile(optimizer=optimizer, loss=loss, metrics=[metric])\n",
    "\n"
   ]
  },
  {
   "cell_type": "code",
   "execution_count": 22,
   "id": "3af32a97",
   "metadata": {
    "colab": {
     "base_uri": "https://localhost:8080/"
    },
    "executionInfo": {
     "elapsed": 29,
     "status": "ok",
     "timestamp": 1746166684906,
     "user": {
      "displayName": "김영숙",
      "userId": "03881564225340792924"
     },
     "user_tz": -540
    },
    "id": "3af32a97",
    "outputId": "423bfacd-507b-40fe-898c-db322a883ece"
   },
   "outputs": [
    {
     "name": "stdout",
     "output_type": "stream",
     "text": [
      "Model: \"tf_bert_for_sequence_classification\"\n",
      "_________________________________________________________________\n",
      " Layer (type)                Output Shape              Param #   \n",
      "=================================================================\n",
      " bert (TFBertMainLayer)      multiple                  108918528 \n",
      "                                                                 \n",
      " dropout_37 (Dropout)        multiple                  0         \n",
      "                                                                 \n",
      " classifier (Dense)          multiple                  3845      \n",
      "                                                                 \n",
      "=================================================================\n",
      "Total params: 108922373 (415.51 MB)\n",
      "Trainable params: 108922373 (415.51 MB)\n",
      "Non-trainable params: 0 (0.00 Byte)\n",
      "_________________________________________________________________\n"
     ]
    }
   ],
   "source": [
    "model.summary()"
   ]
  },
  {
   "cell_type": "code",
   "execution_count": null,
   "id": "7c40e710",
   "metadata": {
    "executionInfo": {
     "elapsed": 37,
     "status": "aborted",
     "timestamp": 1746166563068,
     "user": {
      "displayName": "김영숙",
      "userId": "03881564225340792924"
     },
     "user_tz": -540
    },
    "id": "7c40e710"
   },
   "outputs": [],
   "source": []
  },
  {
   "cell_type": "code",
   "execution_count": 23,
   "id": "7d86c97e",
   "metadata": {
    "colab": {
     "base_uri": "https://localhost:8080/",
     "height": 124
    },
    "executionInfo": {
     "elapsed": 3641,
     "status": "ok",
     "timestamp": 1746166692020,
     "user": {
      "displayName": "김영숙",
      "userId": "03881564225340792924"
     },
     "user_tz": -540
    },
    "id": "7d86c97e",
    "outputId": "3f9fa95d-2b0b-44e3-97e5-cc2fa7f3a794"
   },
   "outputs": [
    {
     "name": "stderr",
     "output_type": "stream",
     "text": [
      "\u001b[34m\u001b[1mwandb\u001b[0m: Currently logged in as: \u001b[33mmoya9292\u001b[0m (\u001b[33mjiwoong-team\u001b[0m) to \u001b[32mhttps://api.wandb.ai\u001b[0m. Use \u001b[1m`wandb login --relogin`\u001b[0m to force relogin\n"
     ]
    },
    {
     "data": {
      "text/html": [
       "Tracking run with wandb version 0.19.10"
      ],
      "text/plain": [
       "<IPython.core.display.HTML object>"
      ]
     },
     "metadata": {},
     "output_type": "display_data"
    },
    {
     "data": {
      "text/html": [
       "Run data is saved locally in <code>/content/drive/MyDrive/Colab Notebooks/Aiffel/AIFFEL_DLThon_DKTC/wandb/run-20250502_061810-0r7uapip</code>"
      ],
      "text/plain": [
       "<IPython.core.display.HTML object>"
      ]
     },
     "metadata": {},
     "output_type": "display_data"
    },
    {
     "data": {
      "text/html": [
       "Syncing run <strong><a href='https://wandb.ai/jiwoong-team/DLThon-DKTC/runs/0r7uapip' target=\"_blank\">moya_KcBert300_trainonly</a></strong> to <a href='https://wandb.ai/jiwoong-team/DLThon-DKTC' target=\"_blank\">Weights & Biases</a> (<a href='https://wandb.me/developer-guide' target=\"_blank\">docs</a>)<br>"
      ],
      "text/plain": [
       "<IPython.core.display.HTML object>"
      ]
     },
     "metadata": {},
     "output_type": "display_data"
    },
    {
     "data": {
      "text/html": [
       " View project at <a href='https://wandb.ai/jiwoong-team/DLThon-DKTC' target=\"_blank\">https://wandb.ai/jiwoong-team/DLThon-DKTC</a>"
      ],
      "text/plain": [
       "<IPython.core.display.HTML object>"
      ]
     },
     "metadata": {},
     "output_type": "display_data"
    },
    {
     "data": {
      "text/html": [
       " View run at <a href='https://wandb.ai/jiwoong-team/DLThon-DKTC/runs/0r7uapip' target=\"_blank\">https://wandb.ai/jiwoong-team/DLThon-DKTC/runs/0r7uapip</a>"
      ],
      "text/plain": [
       "<IPython.core.display.HTML object>"
      ]
     },
     "metadata": {},
     "output_type": "display_data"
    }
   ],
   "source": [
    "import wandb\n",
    "from wandb.integration.keras.callbacks import WandbMetricsLogger\n",
    "wandb.login()\n",
    "\n",
    "# W&B 프로젝트 초기화\n",
    "run = wandb.init(\n",
    "    # Set the wandb entity where your project will be logged (generally your team name).\n",
    "    entity=\"jiwoong-team\",\n",
    "    # Set the wandb project where this run will be logged.\n",
    "    project=\"DLThon-DKTC\",\n",
    "    # Track hyperparameters and run metadata.\n",
    "    name=f\"moya_KcBert300_trainonly\", # 실험 이름\n",
    "    notes=\"제공된 train 데이터를 사용한 기준선 실험\", # 실험에 대한 간단한 설명\n",
    "    config={ # 세부 구성 내용\n",
    "        \"experiment_name\": \"kcbert\",\n",
    "        \"general_conversation_type\": \"없음\", # 일반 데이터 타입\n",
    "        \"architecture\": \"kcbert-base)\",\n",
    "    },\n",
    ")\n",
    "\n"
   ]
  },
  {
   "cell_type": "code",
   "execution_count": 24,
   "id": "91cb0453",
   "metadata": {
    "colab": {
     "base_uri": "https://localhost:8080/"
    },
    "executionInfo": {
     "elapsed": 836366,
     "status": "ok",
     "timestamp": 1746167581746,
     "user": {
      "displayName": "김영숙",
      "userId": "03881564225340792924"
     },
     "user_tz": -540
    },
    "id": "91cb0453",
    "outputId": "8272ba4e-22df-4a4e-dda2-9b5c6261fe63",
    "scrolled": true
   },
   "outputs": [
    {
     "name": "stdout",
     "output_type": "stream",
     "text": [
      "Epoch 1/3\n",
      "232/232 [==============================] - 315s 1s/step - loss: 0.4588 - accuracy: 0.8452 - val_loss: 0.2944 - val_accuracy: 0.9073\n",
      "Epoch 2/3\n",
      "232/232 [==============================] - 261s 1s/step - loss: 0.1410 - accuracy: 0.9550 - val_loss: 0.2717 - val_accuracy: 0.9138\n",
      "Epoch 3/3\n",
      "232/232 [==============================] - 260s 1s/step - loss: 0.0637 - accuracy: 0.9811 - val_loss: 0.3525 - val_accuracy: 0.9041\n"
     ]
    },
    {
     "data": {
      "text/plain": [
       "<tf_keras.src.callbacks.History at 0x7a87d8f03a50>"
      ]
     },
     "execution_count": 24,
     "metadata": {},
     "output_type": "execute_result"
    }
   ],
   "source": [
    "# 모델 학습\n",
    "model.fit(\n",
    "    train_dataset,\n",
    "    validation_data=val_dataset,\n",
    "    epochs=3\n",
    "    #callbacks=[WandbMetricsLogger()]  # WandbMetricsLogger를 콜백으로 넘겨주기만 하면 알아서 epoch별 metric을 기록\n",
    ")"
   ]
  },
  {
   "cell_type": "code",
   "execution_count": 25,
   "id": "eMXntUFwYJb0",
   "metadata": {
    "colab": {
     "base_uri": "https://localhost:8080/",
     "height": 595
    },
    "executionInfo": {
     "elapsed": 47999,
     "status": "ok",
     "timestamp": 1746167645013,
     "user": {
      "displayName": "김영숙",
      "userId": "03881564225340792924"
     },
     "user_tz": -540
    },
    "id": "eMXntUFwYJb0",
    "outputId": "25e8e591-5335-410c-8bb2-22f3a9b7db76"
   },
   "outputs": [
    {
     "name": "stdout",
     "output_type": "stream",
     "text": [
      "58/58 [==============================] - 25s 379ms/step\n"
     ]
    },
    {
     "data": {
      "text/html": [],
      "text/plain": [
       "<IPython.core.display.HTML object>"
      ]
     },
     "metadata": {},
     "output_type": "display_data"
    },
    {
     "data": {
      "text/html": [
       "<br>    <style><br>        .wandb-row {<br>            display: flex;<br>            flex-direction: row;<br>            flex-wrap: wrap;<br>            justify-content: flex-start;<br>            width: 100%;<br>        }<br>        .wandb-col {<br>            display: flex;<br>            flex-direction: column;<br>            flex-basis: 100%;<br>            flex: 1;<br>            padding: 10px;<br>        }<br>    </style><br><div class=\"wandb-row\"><div class=\"wandb-col\"><h3>Run history:</h3><br/><table class=\"wandb\"><tr><td>accuracy</td><td>▁</td></tr><tr><td>extortion_f1</td><td>▁</td></tr><tr><td>general_conversation_f1</td><td>▁</td></tr><tr><td>macro_f1</td><td>▁</td></tr><tr><td>other bullying</td><td>▁</td></tr><tr><td>threat_f1</td><td>▁</td></tr><tr><td>workplace_bullying_f1</td><td>▁</td></tr></table><br/></div><div class=\"wandb-col\"><h3>Run summary:</h3><br/><table class=\"wandb\"><tr><td>accuracy</td><td>0.17241</td></tr><tr><td>extortion_f1</td><td>0.16</td></tr><tr><td>general_conversation_f1</td><td>0.19048</td></tr><tr><td>macro_f1</td><td>0.17188</td></tr><tr><td>other bullying</td><td>0.17518</td></tr><tr><td>threat_f1</td><td>0.13174</td></tr><tr><td>workplace_bullying_f1</td><td>0.20202</td></tr></table><br/></div></div>"
      ],
      "text/plain": [
       "<IPython.core.display.HTML object>"
      ]
     },
     "metadata": {},
     "output_type": "display_data"
    },
    {
     "data": {
      "text/html": [
       " View run <strong style=\"color:#cdcd00\">moya_KcBert300_trainonly</strong> at: <a href='https://wandb.ai/jiwoong-team/DLThon-DKTC/runs/0r7uapip' target=\"_blank\">https://wandb.ai/jiwoong-team/DLThon-DKTC/runs/0r7uapip</a><br> View project at: <a href='https://wandb.ai/jiwoong-team/DLThon-DKTC' target=\"_blank\">https://wandb.ai/jiwoong-team/DLThon-DKTC</a><br>Synced 5 W&B file(s), 1 media file(s), 2 artifact file(s) and 0 other file(s)"
      ],
      "text/plain": [
       "<IPython.core.display.HTML object>"
      ]
     },
     "metadata": {},
     "output_type": "display_data"
    },
    {
     "data": {
      "text/html": [
       "Find logs at: <code>./wandb/run-20250502_061810-0r7uapip/logs</code>"
      ],
      "text/plain": [
       "<IPython.core.display.HTML object>"
      ]
     },
     "metadata": {},
     "output_type": "display_data"
    }
   ],
   "source": [
    "from sklearn.metrics import classification_report\n",
    "# 최적의 모델로 검증세트 예측\n",
    "\n",
    "\n",
    "# 예측 수행\n",
    "logits = model.predict(val_dataset).logits\n",
    "# 소프트맥스 후 argmax로 클래스 인덱스 추출\n",
    "y_pred_labels = np.argmax(logits, axis=-1)\n",
    "\n",
    "\n",
    "# val_dataset에서 정답 라벨만 추출\n",
    "y_true_labels = []\n",
    "\n",
    "for batch in val_dataset:\n",
    "    _, labels = batch  # unpack (inputs, labels)\n",
    "    y_true_labels.extend(labels.numpy())\n",
    "\n",
    "y_true_labels = np.array(y_true_labels)\n",
    "\n",
    "\n",
    "# wandb Table 생성\n",
    "report = classification_report(y_true_labels, y_pred_labels, target_names=CLASS_NAMES, output_dict=True)\n",
    "columns = [\"class\", \"precision\", \"recall\", \"f1-score\", \"support\"]\n",
    "data = []\n",
    "\n",
    "for label, metrics in report.items():\n",
    "    if isinstance(metrics, dict):  # dict일 때만 values 가져오기\n",
    "        row = [label] + [metrics.get(col, None) for col in columns[1:]]\n",
    "        data.append(row)\n",
    "\n",
    "table = wandb.Table(columns=columns, data=data)\n",
    "\n",
    "# wandb에 훈련 결과 기록\n",
    "wandb.log({\n",
    "    \"classification_report_table\": table,\n",
    "    \"macro_f1\": report[\"macro avg\"][\"f1-score\"],\n",
    "    \"accuracy\": report[\"accuracy\"],\n",
    "    \"threat_f1\": report[\"협박 대화\"][\"f1-score\"],\n",
    "    \"extortion_f1\": report[\"갈취 대화\"][\"f1-score\"],\n",
    "    \"workplace_bullying_f1\": report[\"직장 내 괴롭힘 대화\"][\"f1-score\"],\n",
    "    \"other bullying\": report[\"기타 괴롭힘 대화\"][\"f1-score\"],\n",
    "    \"general_conversation_f1\": report[\"일반 대화\"][\"f1-score\"],\n",
    "})\n",
    "\n",
    "# 실험 종료\n",
    "run.finish()"
   ]
  },
  {
   "cell_type": "markdown",
   "id": "F0K6-AfuYWAb",
   "metadata": {
    "id": "F0K6-AfuYWAb"
   },
   "source": [
    "Test 데이타 예측"
   ]
  },
  {
   "cell_type": "code",
   "execution_count": 26,
   "id": "4315b583",
   "metadata": {
    "executionInfo": {
     "elapsed": 41,
     "status": "ok",
     "timestamp": 1746167921912,
     "user": {
      "displayName": "김영숙",
      "userId": "03881564225340792924"
     },
     "user_tz": -540
    },
    "id": "4315b583"
   },
   "outputs": [],
   "source": [
    "\n",
    "def predict_labels(model, tokenizer, texts, max_length=128, batch_size=16):\n",
    "    \"\"\"\n",
    "    주어진 텍스트 리스트에 대해 예측된 클래스 인덱스를 반환하는 함수.\n",
    "\n",
    "    Args:\n",
    "        model: 학습된 TensorFlow 모델\n",
    "        tokenizer: Hugging Face tokenizer\n",
    "        texts (List[str]): 예측할 텍스트 목록\n",
    "        max_length (int): 입력 시퀀스 최대 길이\n",
    "        batch_size (int): 배치 사이즈\n",
    "\n",
    "    Returns:\n",
    "        np.ndarray: 예측된 클래스 인덱스 배열\n",
    "    \"\"\"\n",
    "    # 텍스트 인코딩\n",
    "    encodings = tokenizer(texts, truncation=True, padding=True, max_length=max_length)\n",
    "\n",
    "    # TensorFlow Dataset 생성\n",
    "    dataset = tf.data.Dataset.from_tensor_slices(dict(encodings)).batch(batch_size)\n",
    "\n",
    "    # 예측 수행\n",
    "    logits = model.predict(dataset).logits\n",
    "\n",
    "    # 소프트맥스 후 argmax로 클래스 인덱스 추출\n",
    "    predictions = np.argmax(logits, axis=-1)\n",
    "\n",
    "    return predictions\n"
   ]
  },
  {
   "cell_type": "code",
   "execution_count": 27,
   "id": "af000885",
   "metadata": {
    "colab": {
     "base_uri": "https://localhost:8080/"
    },
    "executionInfo": {
     "elapsed": 15509,
     "status": "ok",
     "timestamp": 1746167943471,
     "user": {
      "displayName": "김영숙",
      "userId": "03881564225340792924"
     },
     "user_tz": -540
    },
    "id": "af000885",
    "outputId": "e590e883-3ec6-4cfe-f24b-ae15667a72ce"
   },
   "outputs": [
    {
     "name": "stdout",
     "output_type": "stream",
     "text": [
      "32/32 [==============================] - 15s 368ms/step\n",
      "[1 2 2 3 3 0 0 1 2 1 0 3 2 2 2 0 3 2 0 3 0 3 3 1 1 2 3 3 2 2 1 0 3 1 3 3 3\n",
      " 1 0 1 0 1 2 1 3 2 0 3 3 0 1 3 1 2 2 3 3 3 3 3 1 3 0 3 2 0 3 3 4 1 3 2 3 2\n",
      " 0 2 2 1 2 3 1 0 4 1 0 2 1 3 3 2 2 2 0 1 3 2 1 2 0 2 1 1 2 0 3 2 2 3 3 0 1\n",
      " 0 1 2 1 1 3 2 2 1 2 3 3 1 1 1 2 1 1 3 3 3 2 3 1 0 3 0 3 2 0 3 1 3 2 0 0 0\n",
      " 0 1 0 3 4 1 2 3 0 2 3 3 0 3 4 0 2 3 2 2 3 1 0 2 2 3 2 3 2 2 1 1 2 3 2 2 0\n",
      " 3 2 0 1 3 0 3 1 3 1 3 0 1 0 3 2 0 3 3 0 3 2 1 2 2 0 1 3 2 1 3 3 3 3 0 1 4\n",
      " 0 3 0 3 1 0 1 0 2 0 3 3 1 3 3 1 0 3 3 3 3 2 2 1 2 1 2 1 0 2 0 2 2 1 3 2 1\n",
      " 2 1 3 1 3 2 3 3 3 2 1 0 3 0 2 1 2 2 3 2 2 1 0 0 2 2 2 1 2 1 3 1 1 3 3 2 3\n",
      " 3 3 1 0 2 3 0 2 1 1 3 2 1 2 3 1 3 3 2 3 0 3 3 0 2 0 0 1 1 1 1 3 2 3 1 0 0\n",
      " 3 1 2 3 1 3 3 0 2 0 0 1 2 2 1 0 0 0 3 1 1 1 2 3 3 1 1 3 3 1 1 2 2 3 2 0 1\n",
      " 2 2 0 2 2 3 1 1 1 1 2 0 2 2 3 1 3 0 0 1 1 0 1 2 1 3 0 1 1 0 3 3 2 2 3 3 2\n",
      " 1 2 1 3 3 0 2 2 4 3 1 1 2 1 0 0 3 3 1 1 2 2 0 3 2 1 0 1 3 0 2 3 2 3 0 2 3\n",
      " 1 2 0 2 2 2 1 0 2 3 2 1 2 2 1 1 2 1 2 2 2 3 3 2 4 0 2 1 0 2 2 2 1 3 2 2 4\n",
      " 3 1 3 1 3 3 1 4 3 3 4 0 1 1 2 2 1 2 0]\n"
     ]
    }
   ],
   "source": [
    "# 예측\n",
    "test_texts = test_data[\"text\"].tolist()\n",
    "predictions = predict_labels(model, tokenizer, test_texts, max_length=sequences_maxlen)\n",
    "print(predictions)"
   ]
  },
  {
   "cell_type": "code",
   "execution_count": 28,
   "id": "02fe2385",
   "metadata": {
    "colab": {
     "base_uri": "https://localhost:8080/",
     "height": 423
    },
    "executionInfo": {
     "elapsed": 19,
     "status": "ok",
     "timestamp": 1746168016204,
     "user": {
      "displayName": "김영숙",
      "userId": "03881564225340792924"
     },
     "user_tz": -540
    },
    "id": "02fe2385",
    "outputId": "e19152ab-ac15-42bb-9e6b-f1abda6f1cb0"
   },
   "outputs": [
    {
     "data": {
      "application/vnd.google.colaboratory.intrinsic+json": {
       "summary": "{\n  \"name\": \"submission_df\",\n  \"rows\": 500,\n  \"fields\": [\n    {\n      \"column\": \"idx\",\n      \"properties\": {\n        \"dtype\": \"string\",\n        \"num_unique_values\": 500,\n        \"samples\": [\n          \"t_361\",\n          \"t_073\",\n          \"t_374\"\n        ],\n        \"semantic_type\": \"\",\n        \"description\": \"\"\n      }\n    },\n    {\n      \"column\": \"class\",\n      \"properties\": {\n        \"dtype\": \"number\",\n        \"std\": 1,\n        \"min\": 0,\n        \"max\": 4,\n        \"num_unique_values\": 5,\n        \"samples\": [\n          2,\n          4,\n          3\n        ],\n        \"semantic_type\": \"\",\n        \"description\": \"\"\n      }\n    }\n  ]\n}",
       "type": "dataframe",
       "variable_name": "submission_df"
      },
      "text/html": [
       "\n",
       "  <div id=\"df-5d7bde30-b535-4896-bd97-30c0d04dd2e1\" class=\"colab-df-container\">\n",
       "    <div>\n",
       "<style scoped>\n",
       "    .dataframe tbody tr th:only-of-type {\n",
       "        vertical-align: middle;\n",
       "    }\n",
       "\n",
       "    .dataframe tbody tr th {\n",
       "        vertical-align: top;\n",
       "    }\n",
       "\n",
       "    .dataframe thead th {\n",
       "        text-align: right;\n",
       "    }\n",
       "</style>\n",
       "<table border=\"1\" class=\"dataframe\">\n",
       "  <thead>\n",
       "    <tr style=\"text-align: right;\">\n",
       "      <th></th>\n",
       "      <th>idx</th>\n",
       "      <th>class</th>\n",
       "    </tr>\n",
       "  </thead>\n",
       "  <tbody>\n",
       "    <tr>\n",
       "      <th>0</th>\n",
       "      <td>t_000</td>\n",
       "      <td>1</td>\n",
       "    </tr>\n",
       "    <tr>\n",
       "      <th>1</th>\n",
       "      <td>t_001</td>\n",
       "      <td>2</td>\n",
       "    </tr>\n",
       "    <tr>\n",
       "      <th>2</th>\n",
       "      <td>t_002</td>\n",
       "      <td>2</td>\n",
       "    </tr>\n",
       "    <tr>\n",
       "      <th>3</th>\n",
       "      <td>t_003</td>\n",
       "      <td>3</td>\n",
       "    </tr>\n",
       "    <tr>\n",
       "      <th>4</th>\n",
       "      <td>t_004</td>\n",
       "      <td>3</td>\n",
       "    </tr>\n",
       "    <tr>\n",
       "      <th>...</th>\n",
       "      <td>...</td>\n",
       "      <td>...</td>\n",
       "    </tr>\n",
       "    <tr>\n",
       "      <th>495</th>\n",
       "      <td>t_495</td>\n",
       "      <td>2</td>\n",
       "    </tr>\n",
       "    <tr>\n",
       "      <th>496</th>\n",
       "      <td>t_496</td>\n",
       "      <td>2</td>\n",
       "    </tr>\n",
       "    <tr>\n",
       "      <th>497</th>\n",
       "      <td>t_497</td>\n",
       "      <td>1</td>\n",
       "    </tr>\n",
       "    <tr>\n",
       "      <th>498</th>\n",
       "      <td>t_498</td>\n",
       "      <td>2</td>\n",
       "    </tr>\n",
       "    <tr>\n",
       "      <th>499</th>\n",
       "      <td>t_499</td>\n",
       "      <td>0</td>\n",
       "    </tr>\n",
       "  </tbody>\n",
       "</table>\n",
       "<p>500 rows × 2 columns</p>\n",
       "</div>\n",
       "    <div class=\"colab-df-buttons\">\n",
       "\n",
       "  <div class=\"colab-df-container\">\n",
       "    <button class=\"colab-df-convert\" onclick=\"convertToInteractive('df-5d7bde30-b535-4896-bd97-30c0d04dd2e1')\"\n",
       "            title=\"Convert this dataframe to an interactive table.\"\n",
       "            style=\"display:none;\">\n",
       "\n",
       "  <svg xmlns=\"http://www.w3.org/2000/svg\" height=\"24px\" viewBox=\"0 -960 960 960\">\n",
       "    <path d=\"M120-120v-720h720v720H120Zm60-500h600v-160H180v160Zm220 220h160v-160H400v160Zm0 220h160v-160H400v160ZM180-400h160v-160H180v160Zm440 0h160v-160H620v160ZM180-180h160v-160H180v160Zm440 0h160v-160H620v160Z\"/>\n",
       "  </svg>\n",
       "    </button>\n",
       "\n",
       "  <style>\n",
       "    .colab-df-container {\n",
       "      display:flex;\n",
       "      gap: 12px;\n",
       "    }\n",
       "\n",
       "    .colab-df-convert {\n",
       "      background-color: #E8F0FE;\n",
       "      border: none;\n",
       "      border-radius: 50%;\n",
       "      cursor: pointer;\n",
       "      display: none;\n",
       "      fill: #1967D2;\n",
       "      height: 32px;\n",
       "      padding: 0 0 0 0;\n",
       "      width: 32px;\n",
       "    }\n",
       "\n",
       "    .colab-df-convert:hover {\n",
       "      background-color: #E2EBFA;\n",
       "      box-shadow: 0px 1px 2px rgba(60, 64, 67, 0.3), 0px 1px 3px 1px rgba(60, 64, 67, 0.15);\n",
       "      fill: #174EA6;\n",
       "    }\n",
       "\n",
       "    .colab-df-buttons div {\n",
       "      margin-bottom: 4px;\n",
       "    }\n",
       "\n",
       "    [theme=dark] .colab-df-convert {\n",
       "      background-color: #3B4455;\n",
       "      fill: #D2E3FC;\n",
       "    }\n",
       "\n",
       "    [theme=dark] .colab-df-convert:hover {\n",
       "      background-color: #434B5C;\n",
       "      box-shadow: 0px 1px 3px 1px rgba(0, 0, 0, 0.15);\n",
       "      filter: drop-shadow(0px 1px 2px rgba(0, 0, 0, 0.3));\n",
       "      fill: #FFFFFF;\n",
       "    }\n",
       "  </style>\n",
       "\n",
       "    <script>\n",
       "      const buttonEl =\n",
       "        document.querySelector('#df-5d7bde30-b535-4896-bd97-30c0d04dd2e1 button.colab-df-convert');\n",
       "      buttonEl.style.display =\n",
       "        google.colab.kernel.accessAllowed ? 'block' : 'none';\n",
       "\n",
       "      async function convertToInteractive(key) {\n",
       "        const element = document.querySelector('#df-5d7bde30-b535-4896-bd97-30c0d04dd2e1');\n",
       "        const dataTable =\n",
       "          await google.colab.kernel.invokeFunction('convertToInteractive',\n",
       "                                                    [key], {});\n",
       "        if (!dataTable) return;\n",
       "\n",
       "        const docLinkHtml = 'Like what you see? Visit the ' +\n",
       "          '<a target=\"_blank\" href=https://colab.research.google.com/notebooks/data_table.ipynb>data table notebook</a>'\n",
       "          + ' to learn more about interactive tables.';\n",
       "        element.innerHTML = '';\n",
       "        dataTable['output_type'] = 'display_data';\n",
       "        await google.colab.output.renderOutput(dataTable, element);\n",
       "        const docLink = document.createElement('div');\n",
       "        docLink.innerHTML = docLinkHtml;\n",
       "        element.appendChild(docLink);\n",
       "      }\n",
       "    </script>\n",
       "  </div>\n",
       "\n",
       "\n",
       "    <div id=\"df-cb69de01-0121-4a75-9e91-d6b984de573a\">\n",
       "      <button class=\"colab-df-quickchart\" onclick=\"quickchart('df-cb69de01-0121-4a75-9e91-d6b984de573a')\"\n",
       "                title=\"Suggest charts\"\n",
       "                style=\"display:none;\">\n",
       "\n",
       "<svg xmlns=\"http://www.w3.org/2000/svg\" height=\"24px\"viewBox=\"0 0 24 24\"\n",
       "     width=\"24px\">\n",
       "    <g>\n",
       "        <path d=\"M19 3H5c-1.1 0-2 .9-2 2v14c0 1.1.9 2 2 2h14c1.1 0 2-.9 2-2V5c0-1.1-.9-2-2-2zM9 17H7v-7h2v7zm4 0h-2V7h2v10zm4 0h-2v-4h2v4z\"/>\n",
       "    </g>\n",
       "</svg>\n",
       "      </button>\n",
       "\n",
       "<style>\n",
       "  .colab-df-quickchart {\n",
       "      --bg-color: #E8F0FE;\n",
       "      --fill-color: #1967D2;\n",
       "      --hover-bg-color: #E2EBFA;\n",
       "      --hover-fill-color: #174EA6;\n",
       "      --disabled-fill-color: #AAA;\n",
       "      --disabled-bg-color: #DDD;\n",
       "  }\n",
       "\n",
       "  [theme=dark] .colab-df-quickchart {\n",
       "      --bg-color: #3B4455;\n",
       "      --fill-color: #D2E3FC;\n",
       "      --hover-bg-color: #434B5C;\n",
       "      --hover-fill-color: #FFFFFF;\n",
       "      --disabled-bg-color: #3B4455;\n",
       "      --disabled-fill-color: #666;\n",
       "  }\n",
       "\n",
       "  .colab-df-quickchart {\n",
       "    background-color: var(--bg-color);\n",
       "    border: none;\n",
       "    border-radius: 50%;\n",
       "    cursor: pointer;\n",
       "    display: none;\n",
       "    fill: var(--fill-color);\n",
       "    height: 32px;\n",
       "    padding: 0;\n",
       "    width: 32px;\n",
       "  }\n",
       "\n",
       "  .colab-df-quickchart:hover {\n",
       "    background-color: var(--hover-bg-color);\n",
       "    box-shadow: 0 1px 2px rgba(60, 64, 67, 0.3), 0 1px 3px 1px rgba(60, 64, 67, 0.15);\n",
       "    fill: var(--button-hover-fill-color);\n",
       "  }\n",
       "\n",
       "  .colab-df-quickchart-complete:disabled,\n",
       "  .colab-df-quickchart-complete:disabled:hover {\n",
       "    background-color: var(--disabled-bg-color);\n",
       "    fill: var(--disabled-fill-color);\n",
       "    box-shadow: none;\n",
       "  }\n",
       "\n",
       "  .colab-df-spinner {\n",
       "    border: 2px solid var(--fill-color);\n",
       "    border-color: transparent;\n",
       "    border-bottom-color: var(--fill-color);\n",
       "    animation:\n",
       "      spin 1s steps(1) infinite;\n",
       "  }\n",
       "\n",
       "  @keyframes spin {\n",
       "    0% {\n",
       "      border-color: transparent;\n",
       "      border-bottom-color: var(--fill-color);\n",
       "      border-left-color: var(--fill-color);\n",
       "    }\n",
       "    20% {\n",
       "      border-color: transparent;\n",
       "      border-left-color: var(--fill-color);\n",
       "      border-top-color: var(--fill-color);\n",
       "    }\n",
       "    30% {\n",
       "      border-color: transparent;\n",
       "      border-left-color: var(--fill-color);\n",
       "      border-top-color: var(--fill-color);\n",
       "      border-right-color: var(--fill-color);\n",
       "    }\n",
       "    40% {\n",
       "      border-color: transparent;\n",
       "      border-right-color: var(--fill-color);\n",
       "      border-top-color: var(--fill-color);\n",
       "    }\n",
       "    60% {\n",
       "      border-color: transparent;\n",
       "      border-right-color: var(--fill-color);\n",
       "    }\n",
       "    80% {\n",
       "      border-color: transparent;\n",
       "      border-right-color: var(--fill-color);\n",
       "      border-bottom-color: var(--fill-color);\n",
       "    }\n",
       "    90% {\n",
       "      border-color: transparent;\n",
       "      border-bottom-color: var(--fill-color);\n",
       "    }\n",
       "  }\n",
       "</style>\n",
       "\n",
       "      <script>\n",
       "        async function quickchart(key) {\n",
       "          const quickchartButtonEl =\n",
       "            document.querySelector('#' + key + ' button');\n",
       "          quickchartButtonEl.disabled = true;  // To prevent multiple clicks.\n",
       "          quickchartButtonEl.classList.add('colab-df-spinner');\n",
       "          try {\n",
       "            const charts = await google.colab.kernel.invokeFunction(\n",
       "                'suggestCharts', [key], {});\n",
       "          } catch (error) {\n",
       "            console.error('Error during call to suggestCharts:', error);\n",
       "          }\n",
       "          quickchartButtonEl.classList.remove('colab-df-spinner');\n",
       "          quickchartButtonEl.classList.add('colab-df-quickchart-complete');\n",
       "        }\n",
       "        (() => {\n",
       "          let quickchartButtonEl =\n",
       "            document.querySelector('#df-cb69de01-0121-4a75-9e91-d6b984de573a button');\n",
       "          quickchartButtonEl.style.display =\n",
       "            google.colab.kernel.accessAllowed ? 'block' : 'none';\n",
       "        })();\n",
       "      </script>\n",
       "    </div>\n",
       "\n",
       "  <div id=\"id_4999e819-3f0d-4176-838c-1a4f8b2ec7cf\">\n",
       "    <style>\n",
       "      .colab-df-generate {\n",
       "        background-color: #E8F0FE;\n",
       "        border: none;\n",
       "        border-radius: 50%;\n",
       "        cursor: pointer;\n",
       "        display: none;\n",
       "        fill: #1967D2;\n",
       "        height: 32px;\n",
       "        padding: 0 0 0 0;\n",
       "        width: 32px;\n",
       "      }\n",
       "\n",
       "      .colab-df-generate:hover {\n",
       "        background-color: #E2EBFA;\n",
       "        box-shadow: 0px 1px 2px rgba(60, 64, 67, 0.3), 0px 1px 3px 1px rgba(60, 64, 67, 0.15);\n",
       "        fill: #174EA6;\n",
       "      }\n",
       "\n",
       "      [theme=dark] .colab-df-generate {\n",
       "        background-color: #3B4455;\n",
       "        fill: #D2E3FC;\n",
       "      }\n",
       "\n",
       "      [theme=dark] .colab-df-generate:hover {\n",
       "        background-color: #434B5C;\n",
       "        box-shadow: 0px 1px 3px 1px rgba(0, 0, 0, 0.15);\n",
       "        filter: drop-shadow(0px 1px 2px rgba(0, 0, 0, 0.3));\n",
       "        fill: #FFFFFF;\n",
       "      }\n",
       "    </style>\n",
       "    <button class=\"colab-df-generate\" onclick=\"generateWithVariable('submission_df')\"\n",
       "            title=\"Generate code using this dataframe.\"\n",
       "            style=\"display:none;\">\n",
       "\n",
       "  <svg xmlns=\"http://www.w3.org/2000/svg\" height=\"24px\"viewBox=\"0 0 24 24\"\n",
       "       width=\"24px\">\n",
       "    <path d=\"M7,19H8.4L18.45,9,17,7.55,7,17.6ZM5,21V16.75L18.45,3.32a2,2,0,0,1,2.83,0l1.4,1.43a1.91,1.91,0,0,1,.58,1.4,1.91,1.91,0,0,1-.58,1.4L9.25,21ZM18.45,9,17,7.55Zm-12,3A5.31,5.31,0,0,0,4.9,8.1,5.31,5.31,0,0,0,1,6.5,5.31,5.31,0,0,0,4.9,4.9,5.31,5.31,0,0,0,6.5,1,5.31,5.31,0,0,0,8.1,4.9,5.31,5.31,0,0,0,12,6.5,5.46,5.46,0,0,0,6.5,12Z\"/>\n",
       "  </svg>\n",
       "    </button>\n",
       "    <script>\n",
       "      (() => {\n",
       "      const buttonEl =\n",
       "        document.querySelector('#id_4999e819-3f0d-4176-838c-1a4f8b2ec7cf button.colab-df-generate');\n",
       "      buttonEl.style.display =\n",
       "        google.colab.kernel.accessAllowed ? 'block' : 'none';\n",
       "\n",
       "      buttonEl.onclick = () => {\n",
       "        google.colab.notebook.generateWithVariable('submission_df');\n",
       "      }\n",
       "      })();\n",
       "    </script>\n",
       "  </div>\n",
       "\n",
       "    </div>\n",
       "  </div>\n"
      ],
      "text/plain": [
       "       idx  class\n",
       "0    t_000      1\n",
       "1    t_001      2\n",
       "2    t_002      2\n",
       "3    t_003      3\n",
       "4    t_004      3\n",
       "..     ...    ...\n",
       "495  t_495      2\n",
       "496  t_496      2\n",
       "497  t_497      1\n",
       "498  t_498      2\n",
       "499  t_499      0\n",
       "\n",
       "[500 rows x 2 columns]"
      ]
     },
     "metadata": {},
     "output_type": "display_data"
    }
   ],
   "source": [
    "# 예시: id와 예측된 클래스 저장\n",
    "submission_df = pd.DataFrame({\n",
    "    'idx': test_data['idx'],\n",
    "    'class': predictions\n",
    "})\n",
    "\n",
    "display(submission_df)\n",
    "\n",
    "# submission.csv로 저장\n",
    "submission_df.to_csv('submission_kcbert_300_trainonly.csv', index=False)"
   ]
  }
 ],
 "metadata": {
  "accelerator": "GPU",
  "colab": {
   "gpuType": "T4",
   "provenance": []
  },
  "kernelspec": {
   "display_name": "Python 3",
   "name": "python3"
  },
  "language_info": {
   "codemirror_mode": {
    "name": "ipython",
    "version": 3
   },
   "file_extension": ".py",
   "mimetype": "text/x-python",
   "name": "python",
   "nbconvert_exporter": "python",
   "pygments_lexer": "ipython3",
   "version": "3.9.7"
  }
 },
 "nbformat": 4,
 "nbformat_minor": 5
}
