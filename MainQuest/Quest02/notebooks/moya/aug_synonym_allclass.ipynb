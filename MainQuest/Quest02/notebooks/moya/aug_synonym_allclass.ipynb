{
 "cells": [
  {
   "cell_type": "markdown",
   "id": "4dff3972",
   "metadata": {},
   "source": [
    "## 데이타 증강 - 일반대화 포함하여 증강"
   ]
  },
  {
   "cell_type": "code",
   "execution_count": 2,
   "id": "b5a7b89b",
   "metadata": {},
   "outputs": [],
   "source": [
    "import os\n",
    "import pandas as pd\n",
    "import tensorflow\n",
    "import numpy as np"
   ]
  },
  {
   "cell_type": "code",
   "execution_count": 3,
   "id": "cf0ed94d",
   "metadata": {},
   "outputs": [
    {
     "data": {
      "text/html": [
       "<div>\n",
       "<style scoped>\n",
       "    .dataframe tbody tr th:only-of-type {\n",
       "        vertical-align: middle;\n",
       "    }\n",
       "\n",
       "    .dataframe tbody tr th {\n",
       "        vertical-align: top;\n",
       "    }\n",
       "\n",
       "    .dataframe thead th {\n",
       "        text-align: right;\n",
       "    }\n",
       "</style>\n",
       "<table border=\"1\" class=\"dataframe\">\n",
       "  <thead>\n",
       "    <tr style=\"text-align: right;\">\n",
       "      <th></th>\n",
       "      <th>idx</th>\n",
       "      <th>class</th>\n",
       "      <th>conversation</th>\n",
       "    </tr>\n",
       "  </thead>\n",
       "  <tbody>\n",
       "    <tr>\n",
       "      <th>0</th>\n",
       "      <td>673</td>\n",
       "      <td>직장 내 괴롭힘 대화</td>\n",
       "      <td>김과장 라인 잘 타. 누가 회사 이끄는 건데.\\n 아무래도 이건 부당한 것 같습니다...</td>\n",
       "    </tr>\n",
       "    <tr>\n",
       "      <th>1</th>\n",
       "      <td>243</td>\n",
       "      <td>협박 대화</td>\n",
       "      <td>이게 어떻게 된거야.? 엄마 수술은 어떻게 된거냐고\\n 엄마가 이제 괜찮다고 해서 ...</td>\n",
       "    </tr>\n",
       "    <tr>\n",
       "      <th>2</th>\n",
       "      <td>2006</td>\n",
       "      <td>갈취 대화</td>\n",
       "      <td>이사님 이 사진. 모르지 않으실텐데요?\\n이. 이건. \\n이사님이 여기까지 오신거 ...</td>\n",
       "    </tr>\n",
       "    <tr>\n",
       "      <th>3</th>\n",
       "      <td>1073</td>\n",
       "      <td>협박 대화</td>\n",
       "      <td>너 지금 나랑 헤어지자고 한거야? 죽고싶어?\\n 그만하자\\n 너 내가 헤어지자고 말...</td>\n",
       "    </tr>\n",
       "    <tr>\n",
       "      <th>4</th>\n",
       "      <td>893</td>\n",
       "      <td>기타 괴롭힘 대화</td>\n",
       "      <td>철수 씨는 그 학교 나와서 그 연봉 받고 살만해요?\\n그게 무슨 말씀이시죠?\\n아니...</td>\n",
       "    </tr>\n",
       "  </tbody>\n",
       "</table>\n",
       "</div>"
      ],
      "text/plain": [
       "    idx        class                                       conversation\n",
       "0   673  직장 내 괴롭힘 대화  김과장 라인 잘 타. 누가 회사 이끄는 건데.\\n 아무래도 이건 부당한 것 같습니다...\n",
       "1   243        협박 대화  이게 어떻게 된거야.? 엄마 수술은 어떻게 된거냐고\\n 엄마가 이제 괜찮다고 해서 ...\n",
       "2  2006        갈취 대화  이사님 이 사진. 모르지 않으실텐데요?\\n이. 이건. \\n이사님이 여기까지 오신거 ...\n",
       "3  1073        협박 대화  너 지금 나랑 헤어지자고 한거야? 죽고싶어?\\n 그만하자\\n 너 내가 헤어지자고 말...\n",
       "4   893    기타 괴롭힘 대화  철수 씨는 그 학교 나와서 그 연봉 받고 살만해요?\\n그게 무슨 말씀이시죠?\\n아니..."
      ]
     },
     "execution_count": 3,
     "metadata": {},
     "output_type": "execute_result"
    }
   ],
   "source": [
    "current_dir = os.getcwd()\n",
    "data_dir = os.path.join(current_dir, '../../data', 'raw_csv')\n",
    "train_data_path = os.path.join(data_dir, 'merged_train_train.csv')\n",
    "\n",
    "train_data = pd.read_csv(train_data_path)\n",
    "train_data.head()"
   ]
  },
  {
   "cell_type": "code",
   "execution_count": 4,
   "id": "2dddcf56",
   "metadata": {},
   "outputs": [
    {
     "name": "stdout",
     "output_type": "stream",
     "text": [
      "전체 샘플수 : 3709\n",
      "<class 'pandas.core.frame.DataFrame'>\n",
      "RangeIndex: 3709 entries, 0 to 3708\n",
      "Data columns (total 3 columns):\n",
      " #   Column        Non-Null Count  Dtype \n",
      "---  ------        --------------  ----- \n",
      " 0   idx           3709 non-null   int64 \n",
      " 1   class         3709 non-null   object\n",
      " 2   conversation  3709 non-null   object\n",
      "dtypes: int64(1), object(2)\n",
      "memory usage: 87.1+ KB\n"
     ]
    }
   ],
   "source": [
    "print('전체 샘플수 :', (len(train_data)))\n",
    "train_data.info()"
   ]
  },
  {
   "cell_type": "markdown",
   "id": "1c041289",
   "metadata": {},
   "source": [
    "**한국어 불용어 사전**"
   ]
  },
  {
   "cell_type": "code",
   "execution_count": 5,
   "id": "6af1175c",
   "metadata": {},
   "outputs": [],
   "source": [
    "# 불용어 제거\n",
    "import re\n",
    "\n",
    "def preprocess_sentence(sentence):\n",
    "    sentence = sentence.lower().strip()\n",
    "\n",
    "    sentence = re.sub(r\"([?.!,])\", r\" \\1 \", sentence)\n",
    "    sentence = re.sub(r'[\" \"]+', \" \", sentence)\n",
    "    sentence = re.sub(r\"[^a-zA-Zㄱ-ㅎ가-힣ㅏ-ㅣ?.!,]+\", \" \", sentence)\n",
    "    \n",
    "    sentence = sentence.strip()\n",
    "\n",
    "    return sentence"
   ]
  },
  {
   "cell_type": "code",
   "execution_count": 6,
   "id": "c4f1d549",
   "metadata": {},
   "outputs": [],
   "source": [
    "import re\n",
    "\n",
    "def preprocess_korean(sentence):\n",
    "    # 한글 외 모든 문자 제거\n",
    "    sentence = re.sub(r'[^ㄱ-ㅎㅏ-ㅣ가-힣\\s]', '', sentence)\n",
    "    # 연속된 공백 제거\n",
    "    sentence = re.sub(r'\\s+', ' ', sentence).strip()\n",
    "    return sentence\n"
   ]
  },
  {
   "cell_type": "markdown",
   "id": "cc2c9882",
   "metadata": {},
   "source": [
    "**동의어**"
   ]
  },
  {
   "cell_type": "code",
   "execution_count": 7,
   "id": "1dfd5ca1",
   "metadata": {},
   "outputs": [],
   "source": [
    "import random\n",
    "import pickle\n",
    "import re\n",
    "\n",
    "wordnet = {}\n",
    "with open(\"wordnet.pickle\", \"rb\") as f:\n",
    "    wordnet = pickle.load(f)\n",
    "\n",
    "# 전체': ['전체', '전적', '전부', '총체', '전반']\n",
    "# '인': ['인', '인간', '인물', '사람', '인류']\n",
    "#print(wordnet)"
   ]
  },
  {
   "cell_type": "code",
   "execution_count": 8,
   "id": "04c4b6e5",
   "metadata": {},
   "outputs": [],
   "source": [
    "# wordnet에서 동의어 리스트를 가져온다. \n",
    "# 동의어가 없을 수도 있다\n",
    "def synonyms_from_wordnet(word):\n",
    "    synonyms = []\n",
    "    try:\n",
    "        for list in wordnet[word] :\n",
    "             synonyms.append(list)\n",
    "    except KeyError:\n",
    "        pass\n",
    "    \n",
    "    return synonyms"
   ]
  },
  {
   "cell_type": "code",
   "execution_count": 9,
   "id": "7af98cb5",
   "metadata": {},
   "outputs": [
    {
     "name": "stdout",
     "output_type": "stream",
     "text": [
      "전체\n",
      "전적\n",
      "전부\n",
      "총체\n",
      "전반\n"
     ]
    }
   ],
   "source": [
    "#'전체': ['전체', '전적', '전부', '총체', '전반']\n",
    "synonyms = synonyms_from_wordnet( \"전체\" )\n",
    "for word in synonyms : \n",
    "    print(word)"
   ]
  },
  {
   "cell_type": "code",
   "execution_count": 10,
   "id": "c5bd80dd",
   "metadata": {},
   "outputs": [],
   "source": [
    "# word list로 구성된 sentense를 동의어로 바꿔준다\n",
    "def replace_to_synonyms(input_words, count): \n",
    "     \n",
    "    # new_words\n",
    "    new_words = []\n",
    "    \n",
    "    #\n",
    "    word_list = list(set([word for word in input_words]))\n",
    "    random.shuffle(word_list)\n",
    "    \n",
    "    replace_count = 0\n",
    "    for word in word_list : \n",
    "        # 동의어 리스트를 가져온다. \n",
    "        synonyms = synonyms_from_wordnet( word )\n",
    "        \n",
    "        if len(synonyms) == 0 : continue\n",
    "        \n",
    "        synonym = random.choice(list(synonyms))\n",
    "        if( word == synonym) : continue\n",
    "            \n",
    "        new_words = [synonym if wd == word else wd for wd in input_words]\n",
    "        \n",
    "        replace_count +=1\n",
    "        \n",
    "        if replace_count >= count : break\n",
    "    \n",
    "    # \n",
    "    #if len(new_words) > 0 : \n",
    "    #    sentence = ' '.join(new_words)\n",
    "    #   new_words = sentence.split(\" \")\n",
    "    \n",
    "       \n",
    "    return new_words\n",
    "               "
   ]
  },
  {
   "cell_type": "code",
   "execution_count": 11,
   "id": "bed1aaa0",
   "metadata": {},
   "outputs": [],
   "source": [
    "def gen_sentence_by_swap_word(inputs_words, count):\n",
    "    \n",
    "    # new_words\n",
    "    new_words = []\n",
    "    \n",
    "    #\n",
    "#    word_list = list(set([word for word in input_words]))\n",
    "#    random.shuffle(word_list)\n",
    "    \n",
    "    return new_words"
   ]
  },
  {
   "cell_type": "code",
   "execution_count": 12,
   "id": "7b8bcf48",
   "metadata": {},
   "outputs": [],
   "source": [
    "def DataAugmentation(sentense, alpha_sr=0.2, aug_count=1):\n",
    "    \n",
    "    augmented_sentences = []\n",
    "    \n",
    "    # 한글만 처리\n",
    "    sentense = preprocess_korean(sentense)\n",
    "    sentense = sentense.split(' ')\n",
    "    words = [word for word in sentense if word != \"\"]\n",
    "    num_words = len(words)\n",
    "       \n",
    "    # 동의어로 단어 바꿔 문장 생성하기\n",
    "    n_sr = max(1, int(alpha_sr*num_words))\n",
    "    \n",
    "    for _ in range(aug_count):\n",
    "        a_words = replace_to_synonyms( words, n_sr )\n",
    "          \n",
    "        if( len(a_words) > 0 ):\n",
    "            augmented_sentences.append(\" \".join(a_words))\n",
    "     \n",
    "    \n",
    "    \n",
    "    # 생성된 문장들 shuffle\n",
    "    random.shuffle(augmented_sentences)\n",
    "    return augmented_sentences"
   ]
  },
  {
   "cell_type": "code",
   "execution_count": 13,
   "id": "cb49879b",
   "metadata": {},
   "outputs": [
    {
     "name": "stdout",
     "output_type": "stream",
     "text": [
      "7621\n",
      "7621\n"
     ]
    }
   ],
   "source": [
    "new_class_list = []\n",
    "new_conversation_list = []\n",
    "new_idx_list = []\n",
    "\n",
    "idx = len(train_data['conversation']);\n",
    "\n",
    "filtered_data = train_data\n",
    "\n",
    "         \n",
    "for i in range(len(filtered_data['conversation'])):\n",
    "\n",
    "    class_ = filtered_data['class'][i]\n",
    "    conv_ = filtered_data['conversation'][i]\n",
    "    \n",
    "    num_aug = 3\n",
    "    \n",
    "    augmented_sentences = DataAugmentation(conv_, aug_count=num_aug)\n",
    "    \n",
    "    if not augmented_sentences : # 리스트가 비어 있으면 True\n",
    "        continue\n",
    "        \n",
    "    for j in range(min(num_aug, len(augmented_sentences))):\n",
    "        #if not augmented_sentences[j] : continue;\n",
    "        new_class_list.append( class_ )\n",
    "        new_conversation_list.append(augmented_sentences[j])\n",
    "        idx =idx+1\n",
    "        new_idx_list.append(int(idx))\n",
    "\n",
    "print(len(new_class_list))    \n",
    "print(len(new_conversation_list)) \n",
    "        "
   ]
  },
  {
   "cell_type": "code",
   "execution_count": 14,
   "id": "b2febb93",
   "metadata": {},
   "outputs": [
    {
     "data": {
      "text/plain": [
       "0    김과장 라인 잘 타. 누가 회사 이끄는 건데.\\n 아무래도 이건 부당한 것 같습니다...\n",
       "Name: conversation, dtype: object"
      ]
     },
     "execution_count": 14,
     "metadata": {},
     "output_type": "execute_result"
    }
   ],
   "source": [
    "filtered_data['conversation'][0:1]"
   ]
  },
  {
   "cell_type": "code",
   "execution_count": 15,
   "id": "f14bb8cd",
   "metadata": {
    "scrolled": true
   },
   "outputs": [
    {
     "data": {
      "text/plain": [
       "['김과장 라인 잘 타 누가 회사 이끄는 건데 아무래도 이건 부당한 것 같습니다 김과장이 그렇다하면 어쩔 건데 그러니까 네가 아직도 과장인 거야 저는 하늘 부끄럼 없습니다 요즘 같은 시대에 아직도 이런 사람이 있네 네 알아서 해라 너같은 답답이는 오히려 방해돼 부장님이 그러시면 저는 사내 신고 센터에 갤런 수밖에 없습니다 자네 지금 나 협박하는 거야 자신 있어 두고봐 아니에요 부장님 제가 뭘 하면 되나요 잘 좀 하자 이번 건 안 따오면 아니면 다음 승진도 물 건너 간거다 물론 넌 못할 가능성 높겠지만 네 알겠습니다',\n",
       " '김과장 라인 잘 타 누가 회사 이끄는 건데 아무래도 이건 부당한 것 같습니다 김과장이 그렇다하면 어쩔 건데 그러니까 네가 아직도 과장인 거야 저는 하늘 부끄럼 없습니다 요즘 같은 시대에 아직도 이런 사람이 있네 네 알아서 해라 너같은 답답이는 오히려 방해돼 부장님이 그러시면 저는 사내 신고 센터에 갈 수밖에 없습니다 자네 지금 나 협박하는 거야 자신 있어 두고봐 아니에요 부장님 제가 뭘 하면 되나요 잘 좀 하자 이번 건 가운데 따오면 아니면 다음 승진도 물 건너 간거다 물론 넌 못할 가능성 높겠지만 네 알겠습니다',\n",
       " '김과장 라인 잘 타 누가 회사 이끄는 건데 아무래도 이건 부당한 것 같습니다 김과장이 그렇다하면 어쩔 건데 그러니까 네가 아직도 과장인 거야 저는 하늘 부끄럼 없습니다 요즘 같은 시대에 아직도 이런 사람이 있네 네 알아서 해라 너같은 답답이는 오히려 방해돼 부장님이 그러시면 저는 수컷 신고 센터에 갈 수밖에 없습니다 자네 지금 나 협박하는 거야 자신 있어 두고봐 아니에요 부장님 제가 뭘 하면 되나요 잘 좀 하자 이번 건 안 따오면 아니면 다음 승진도 물 건너 간거다 물론 넌 못할 가능성 높겠지만 네 알겠습니다']"
      ]
     },
     "execution_count": 15,
     "metadata": {},
     "output_type": "execute_result"
    }
   ],
   "source": [
    "new_conversation_list[0:3]"
   ]
  },
  {
   "cell_type": "code",
   "execution_count": 16,
   "id": "a07df79d",
   "metadata": {},
   "outputs": [],
   "source": [
    "aug_data = pd.DataFrame([new_idx_list, new_class_list, new_conversation_list],\n",
    "                  index=['idx','class','conversation'],\n",
    "                 columns=[x for x in range(len(new_class_list))])\n",
    "aug_data  = aug_data .transpose()"
   ]
  },
  {
   "cell_type": "code",
   "execution_count": 17,
   "id": "d59a82a3",
   "metadata": {
    "scrolled": true
   },
   "outputs": [
    {
     "data": {
      "text/html": [
       "<div>\n",
       "<style scoped>\n",
       "    .dataframe tbody tr th:only-of-type {\n",
       "        vertical-align: middle;\n",
       "    }\n",
       "\n",
       "    .dataframe tbody tr th {\n",
       "        vertical-align: top;\n",
       "    }\n",
       "\n",
       "    .dataframe thead th {\n",
       "        text-align: right;\n",
       "    }\n",
       "</style>\n",
       "<table border=\"1\" class=\"dataframe\">\n",
       "  <thead>\n",
       "    <tr style=\"text-align: right;\">\n",
       "      <th></th>\n",
       "      <th>idx</th>\n",
       "      <th>class</th>\n",
       "      <th>conversation</th>\n",
       "    </tr>\n",
       "  </thead>\n",
       "  <tbody>\n",
       "    <tr>\n",
       "      <th>0</th>\n",
       "      <td>3710</td>\n",
       "      <td>직장 내 괴롭힘 대화</td>\n",
       "      <td>김과장 라인 잘 타 누가 회사 이끄는 건데 아무래도 이건 부당한 것 같습니다 김과장...</td>\n",
       "    </tr>\n",
       "    <tr>\n",
       "      <th>1</th>\n",
       "      <td>3711</td>\n",
       "      <td>직장 내 괴롭힘 대화</td>\n",
       "      <td>김과장 라인 잘 타 누가 회사 이끄는 건데 아무래도 이건 부당한 것 같습니다 김과장...</td>\n",
       "    </tr>\n",
       "    <tr>\n",
       "      <th>2</th>\n",
       "      <td>3712</td>\n",
       "      <td>직장 내 괴롭힘 대화</td>\n",
       "      <td>김과장 라인 잘 타 누가 회사 이끄는 건데 아무래도 이건 부당한 것 같습니다 김과장...</td>\n",
       "    </tr>\n",
       "    <tr>\n",
       "      <th>3</th>\n",
       "      <td>3713</td>\n",
       "      <td>협박 대화</td>\n",
       "      <td>이게 어떻게 된거야 엄마 수술은 어떻게 된거냐고 엄마가 이제 괜찮다고 해서 딱 봐도...</td>\n",
       "    </tr>\n",
       "    <tr>\n",
       "      <th>4</th>\n",
       "      <td>3714</td>\n",
       "      <td>협박 대화</td>\n",
       "      <td>이게 어떻게 된거야 엄마 수술은 어떻게 된거냐고 엄마가 이제 괜찮다고 해서 딱 봐도...</td>\n",
       "    </tr>\n",
       "  </tbody>\n",
       "</table>\n",
       "</div>"
      ],
      "text/plain": [
       "    idx        class                                       conversation\n",
       "0  3710  직장 내 괴롭힘 대화  김과장 라인 잘 타 누가 회사 이끄는 건데 아무래도 이건 부당한 것 같습니다 김과장...\n",
       "1  3711  직장 내 괴롭힘 대화  김과장 라인 잘 타 누가 회사 이끄는 건데 아무래도 이건 부당한 것 같습니다 김과장...\n",
       "2  3712  직장 내 괴롭힘 대화  김과장 라인 잘 타 누가 회사 이끄는 건데 아무래도 이건 부당한 것 같습니다 김과장...\n",
       "3  3713        협박 대화  이게 어떻게 된거야 엄마 수술은 어떻게 된거냐고 엄마가 이제 괜찮다고 해서 딱 봐도...\n",
       "4  3714        협박 대화  이게 어떻게 된거야 엄마 수술은 어떻게 된거냐고 엄마가 이제 괜찮다고 해서 딱 봐도..."
      ]
     },
     "execution_count": 17,
     "metadata": {},
     "output_type": "execute_result"
    }
   ],
   "source": [
    "aug_data.head()"
   ]
  },
  {
   "cell_type": "code",
   "execution_count": 18,
   "id": "73b90018",
   "metadata": {},
   "outputs": [],
   "source": [
    "aug_train_data = aug_data.sample(frac=1).reset_index(drop=True)\n",
    "\n",
    "aug_train_data['idx'] = [(len(train_data['conversation'])+x+1)for x in range(len(aug_train_data))]\n",
    "aug_train_data = aug_train_data.reset_index(drop=True)"
   ]
  },
  {
   "cell_type": "code",
   "execution_count": 19,
   "id": "5d18a99d",
   "metadata": {},
   "outputs": [
    {
     "data": {
      "text/html": [
       "<div>\n",
       "<style scoped>\n",
       "    .dataframe tbody tr th:only-of-type {\n",
       "        vertical-align: middle;\n",
       "    }\n",
       "\n",
       "    .dataframe tbody tr th {\n",
       "        vertical-align: top;\n",
       "    }\n",
       "\n",
       "    .dataframe thead th {\n",
       "        text-align: right;\n",
       "    }\n",
       "</style>\n",
       "<table border=\"1\" class=\"dataframe\">\n",
       "  <thead>\n",
       "    <tr style=\"text-align: right;\">\n",
       "      <th></th>\n",
       "      <th>idx</th>\n",
       "      <th>class</th>\n",
       "      <th>conversation</th>\n",
       "    </tr>\n",
       "  </thead>\n",
       "  <tbody>\n",
       "    <tr>\n",
       "      <th>0</th>\n",
       "      <td>3710</td>\n",
       "      <td>협박 대화</td>\n",
       "      <td>지금 당장 나와 합의하고 해결보자 어떻게 그래 이제껏 내가 당한게 있는데 이렇게 종...</td>\n",
       "    </tr>\n",
       "    <tr>\n",
       "      <th>1</th>\n",
       "      <td>3711</td>\n",
       "      <td>기타 괴롭힘 대화</td>\n",
       "      <td>아파 아야 오 표정 썩는 거 봐 아팠어 아 미안 하지마 그만해 이제 니 차례야 니가...</td>\n",
       "    </tr>\n",
       "    <tr>\n",
       "      <th>2</th>\n",
       "      <td>3712</td>\n",
       "      <td>일반 대화</td>\n",
       "      <td>이번 여름 방학 계획은 여름이 다가오니까 계획을 세워야 손해 가족과 해외여행 가기로...</td>\n",
       "    </tr>\n",
       "    <tr>\n",
       "      <th>3</th>\n",
       "      <td>3713</td>\n",
       "      <td>협박 대화</td>\n",
       "      <td>누가 사람 소문 퍼뜨린거야 무슨소리야 말 안하면 죽여버린다 무슨소문 모른척할래 우리...</td>\n",
       "    </tr>\n",
       "    <tr>\n",
       "      <th>4</th>\n",
       "      <td>3714</td>\n",
       "      <td>협박 대화</td>\n",
       "      <td>당신이 먹은 음료엔 독약이 들었어 뭐라구요 무슨 짓입니까 정말인가요 빨리 해킹하지 ...</td>\n",
       "    </tr>\n",
       "  </tbody>\n",
       "</table>\n",
       "</div>"
      ],
      "text/plain": [
       "    idx      class                                       conversation\n",
       "0  3710      협박 대화  지금 당장 나와 합의하고 해결보자 어떻게 그래 이제껏 내가 당한게 있는데 이렇게 종...\n",
       "1  3711  기타 괴롭힘 대화  아파 아야 오 표정 썩는 거 봐 아팠어 아 미안 하지마 그만해 이제 니 차례야 니가...\n",
       "2  3712      일반 대화  이번 여름 방학 계획은 여름이 다가오니까 계획을 세워야 손해 가족과 해외여행 가기로...\n",
       "3  3713      협박 대화  누가 사람 소문 퍼뜨린거야 무슨소리야 말 안하면 죽여버린다 무슨소문 모른척할래 우리...\n",
       "4  3714      협박 대화  당신이 먹은 음료엔 독약이 들었어 뭐라구요 무슨 짓입니까 정말인가요 빨리 해킹하지 ..."
      ]
     },
     "execution_count": 19,
     "metadata": {},
     "output_type": "execute_result"
    }
   ],
   "source": [
    "aug_train_data.head()"
   ]
  },
  {
   "cell_type": "code",
   "execution_count": 20,
   "id": "71b254b8",
   "metadata": {},
   "outputs": [
    {
     "data": {
      "text/html": [
       "<div>\n",
       "<style scoped>\n",
       "    .dataframe tbody tr th:only-of-type {\n",
       "        vertical-align: middle;\n",
       "    }\n",
       "\n",
       "    .dataframe tbody tr th {\n",
       "        vertical-align: top;\n",
       "    }\n",
       "\n",
       "    .dataframe thead th {\n",
       "        text-align: right;\n",
       "    }\n",
       "</style>\n",
       "<table border=\"1\" class=\"dataframe\">\n",
       "  <thead>\n",
       "    <tr style=\"text-align: right;\">\n",
       "      <th></th>\n",
       "      <th>idx</th>\n",
       "      <th>class</th>\n",
       "      <th>conversation</th>\n",
       "    </tr>\n",
       "  </thead>\n",
       "  <tbody>\n",
       "    <tr>\n",
       "      <th>7616</th>\n",
       "      <td>11326</td>\n",
       "      <td>기타 괴롭힘 대화</td>\n",
       "      <td>쟤 오늘 머리털 좀 봐 왜 완전 떡진 것처럼 딱 달라붙었잖아 머리털 감고 안마른 상...</td>\n",
       "    </tr>\n",
       "    <tr>\n",
       "      <th>7617</th>\n",
       "      <td>11327</td>\n",
       "      <td>기타 괴롭힘 대화</td>\n",
       "      <td>돼지야 내 이름은 민경이라구 그러세요 근데 난 왜 돼지로 보이지 이러지 말라구 이거...</td>\n",
       "    </tr>\n",
       "    <tr>\n",
       "      <th>7618</th>\n",
       "      <td>11328</td>\n",
       "      <td>갈취 대화</td>\n",
       "      <td>저기요 혹시 날이 너무 뜨겁잖아요 저희 회사에서 이 선크림 파는데 한 번 손등에 발...</td>\n",
       "    </tr>\n",
       "    <tr>\n",
       "      <th>7619</th>\n",
       "      <td>11329</td>\n",
       "      <td>직장 내 괴롭힘 대화</td>\n",
       "      <td>이대리 오늘 도대체 뭘한거야 창고정리도 하고 바닥도 청소했습니다 이게 한거니 네 열...</td>\n",
       "    </tr>\n",
       "    <tr>\n",
       "      <th>7620</th>\n",
       "      <td>11330</td>\n",
       "      <td>기타 괴롭힘 대화</td>\n",
       "      <td>야 대답안하냐 안들리냐 어 연륜 불렀어 어 몇번이나 불렀는데 왜 무시해 무시하는게아...</td>\n",
       "    </tr>\n",
       "  </tbody>\n",
       "</table>\n",
       "</div>"
      ],
      "text/plain": [
       "        idx        class                                       conversation\n",
       "7616  11326    기타 괴롭힘 대화  쟤 오늘 머리털 좀 봐 왜 완전 떡진 것처럼 딱 달라붙었잖아 머리털 감고 안마른 상...\n",
       "7617  11327    기타 괴롭힘 대화  돼지야 내 이름은 민경이라구 그러세요 근데 난 왜 돼지로 보이지 이러지 말라구 이거...\n",
       "7618  11328        갈취 대화  저기요 혹시 날이 너무 뜨겁잖아요 저희 회사에서 이 선크림 파는데 한 번 손등에 발...\n",
       "7619  11329  직장 내 괴롭힘 대화  이대리 오늘 도대체 뭘한거야 창고정리도 하고 바닥도 청소했습니다 이게 한거니 네 열...\n",
       "7620  11330    기타 괴롭힘 대화  야 대답안하냐 안들리냐 어 연륜 불렀어 어 몇번이나 불렀는데 왜 무시해 무시하는게아..."
      ]
     },
     "execution_count": 20,
     "metadata": {},
     "output_type": "execute_result"
    }
   ],
   "source": [
    "aug_train_data.tail()"
   ]
  },
  {
   "cell_type": "code",
   "execution_count": 21,
   "id": "c803813a",
   "metadata": {
    "scrolled": true
   },
   "outputs": [
    {
     "name": "stdout",
     "output_type": "stream",
     "text": [
      "7621\n"
     ]
    }
   ],
   "source": [
    "print(len(aug_train_data))"
   ]
  },
  {
   "cell_type": "code",
   "execution_count": 22,
   "id": "b5f66266",
   "metadata": {},
   "outputs": [
    {
     "name": "stdout",
     "output_type": "stream",
     "text": [
      "갈취 대화          1833\n",
      "기타 괴롭힘 대화      1550\n",
      "협박 대화          1501\n",
      "직장 내 괴롭힘 대화    1436\n",
      "일반 대화          1301\n",
      "Name: class, dtype: int64\n"
     ]
    }
   ],
   "source": [
    "class_counts = aug_train_data['class'].value_counts()\n",
    "\n",
    "print(class_counts)"
   ]
  },
  {
   "cell_type": "code",
   "execution_count": 23,
   "id": "38d77247",
   "metadata": {},
   "outputs": [],
   "source": [
    "aug_train_data.to_csv('../../data/aug_csv/aug_synonym_allclass.csv', index=False, encoding='utf-8-sig')  # index=False는 인덱스를 저장하지 않도록 함"
   ]
  },
  {
   "cell_type": "code",
   "execution_count": 24,
   "id": "ee7c3d68",
   "metadata": {},
   "outputs": [
    {
     "data": {
      "text/html": [
       "<div>\n",
       "<style scoped>\n",
       "    .dataframe tbody tr th:only-of-type {\n",
       "        vertical-align: middle;\n",
       "    }\n",
       "\n",
       "    .dataframe tbody tr th {\n",
       "        vertical-align: top;\n",
       "    }\n",
       "\n",
       "    .dataframe thead th {\n",
       "        text-align: right;\n",
       "    }\n",
       "</style>\n",
       "<table border=\"1\" class=\"dataframe\">\n",
       "  <thead>\n",
       "    <tr style=\"text-align: right;\">\n",
       "      <th></th>\n",
       "      <th>idx</th>\n",
       "      <th>class</th>\n",
       "      <th>conversation</th>\n",
       "    </tr>\n",
       "  </thead>\n",
       "  <tbody>\n",
       "    <tr>\n",
       "      <th>0</th>\n",
       "      <td>3710</td>\n",
       "      <td>협박 대화</td>\n",
       "      <td>지금 당장 나와 합의하고 해결보자 어떻게 그래 이제껏 내가 당한게 있는데 이렇게 종...</td>\n",
       "    </tr>\n",
       "    <tr>\n",
       "      <th>1</th>\n",
       "      <td>3711</td>\n",
       "      <td>기타 괴롭힘 대화</td>\n",
       "      <td>아파 아야 오 표정 썩는 거 봐 아팠어 아 미안 하지마 그만해 이제 니 차례야 니가...</td>\n",
       "    </tr>\n",
       "    <tr>\n",
       "      <th>2</th>\n",
       "      <td>3712</td>\n",
       "      <td>일반 대화</td>\n",
       "      <td>이번 여름 방학 계획은 여름이 다가오니까 계획을 세워야 손해 가족과 해외여행 가기로...</td>\n",
       "    </tr>\n",
       "    <tr>\n",
       "      <th>3</th>\n",
       "      <td>3713</td>\n",
       "      <td>협박 대화</td>\n",
       "      <td>누가 사람 소문 퍼뜨린거야 무슨소리야 말 안하면 죽여버린다 무슨소문 모른척할래 우리...</td>\n",
       "    </tr>\n",
       "    <tr>\n",
       "      <th>4</th>\n",
       "      <td>3714</td>\n",
       "      <td>협박 대화</td>\n",
       "      <td>당신이 먹은 음료엔 독약이 들었어 뭐라구요 무슨 짓입니까 정말인가요 빨리 해킹하지 ...</td>\n",
       "    </tr>\n",
       "  </tbody>\n",
       "</table>\n",
       "</div>"
      ],
      "text/plain": [
       "    idx      class                                       conversation\n",
       "0  3710      협박 대화  지금 당장 나와 합의하고 해결보자 어떻게 그래 이제껏 내가 당한게 있는데 이렇게 종...\n",
       "1  3711  기타 괴롭힘 대화  아파 아야 오 표정 썩는 거 봐 아팠어 아 미안 하지마 그만해 이제 니 차례야 니가...\n",
       "2  3712      일반 대화  이번 여름 방학 계획은 여름이 다가오니까 계획을 세워야 손해 가족과 해외여행 가기로...\n",
       "3  3713      협박 대화  누가 사람 소문 퍼뜨린거야 무슨소리야 말 안하면 죽여버린다 무슨소문 모른척할래 우리...\n",
       "4  3714      협박 대화  당신이 먹은 음료엔 독약이 들었어 뭐라구요 무슨 짓입니까 정말인가요 빨리 해킹하지 ..."
      ]
     },
     "execution_count": 24,
     "metadata": {},
     "output_type": "execute_result"
    }
   ],
   "source": [
    "aug_data_path =\"../../data/aug_csv/aug_synonym_allclass.csv\"\n",
    "aug_data = pd.read_csv(aug_data_path)\n",
    "aug_data.head()"
   ]
  },
  {
   "cell_type": "code",
   "execution_count": 25,
   "id": "e6bb94b0",
   "metadata": {},
   "outputs": [
    {
     "name": "stdout",
     "output_type": "stream",
     "text": [
      "    idx  class                                       conversation\n",
      "0  3710  협박 대화  지금 당장 나와 합의하고 해결보자 어떻게 그래 이제껏 내가 당한게 있는데 이렇게 종...\n"
     ]
    }
   ],
   "source": [
    "print(aug_data[:1])"
   ]
  },
  {
   "cell_type": "code",
   "execution_count": null,
   "id": "63f62e04",
   "metadata": {},
   "outputs": [],
   "source": []
  }
 ],
 "metadata": {
  "kernelspec": {
   "display_name": "Python 3 (ipykernel)",
   "language": "python",
   "name": "python3"
  },
  "language_info": {
   "codemirror_mode": {
    "name": "ipython",
    "version": 3
   },
   "file_extension": ".py",
   "mimetype": "text/x-python",
   "name": "python",
   "nbconvert_exporter": "python",
   "pygments_lexer": "ipython3",
   "version": "3.9.7"
  }
 },
 "nbformat": 4,
 "nbformat_minor": 5
}
