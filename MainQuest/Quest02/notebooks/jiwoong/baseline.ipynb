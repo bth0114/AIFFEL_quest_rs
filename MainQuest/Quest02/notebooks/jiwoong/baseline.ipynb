{
  "nbformat": 4,
  "nbformat_minor": 0,
  "metadata": {
    "colab": {
      "provenance": [],
      "gpuType": "T4",
      "mount_file_id": "1LHYDU59v0VLki273KtIjKCUYtxtmdOp1",
      "authorship_tag": "ABX9TyPAvu//cP85z/aFE5yVGS+m",
      "include_colab_link": true
    },
    "kernelspec": {
      "name": "python3",
      "display_name": "Python 3"
    },
    "language_info": {
      "name": "python"
    },
    "accelerator": "GPU"
  },
  "cells": [
    {
      "cell_type": "markdown",
      "metadata": {
        "id": "view-in-github",
        "colab_type": "text"
      },
      "source": [
        "<a href=\"https://colab.research.google.com/github/bth0114/AIFFEL_DLThon_DKTC_online13/blob/main/notebooks/jiwoong/baseline.ipynb\" target=\"_parent\"><img src=\"https://colab.research.google.com/assets/colab-badge.svg\" alt=\"Open In Colab\"/></a>"
      ]
    },
    {
      "cell_type": "code",
      "execution_count": 1,
      "metadata": {
        "colab": {
          "base_uri": "https://localhost:8080/"
        },
        "id": "Sij6aU4WYRgT",
        "outputId": "786f02cf-3ad5-4569-b98b-125e84454237"
      },
      "outputs": [
        {
          "output_type": "stream",
          "name": "stdout",
          "text": [
            "Requirement already satisfied: konlpy in /usr/local/lib/python3.11/dist-packages (0.6.0)\n",
            "Requirement already satisfied: JPype1>=0.7.0 in /usr/local/lib/python3.11/dist-packages (from konlpy) (1.5.2)\n",
            "Requirement already satisfied: lxml>=4.1.0 in /usr/local/lib/python3.11/dist-packages (from konlpy) (5.4.0)\n",
            "Requirement already satisfied: numpy>=1.6 in /usr/local/lib/python3.11/dist-packages (from konlpy) (2.0.2)\n",
            "Requirement already satisfied: packaging in /usr/local/lib/python3.11/dist-packages (from JPype1>=0.7.0->konlpy) (24.2)\n",
            "Requirement already satisfied: wandb in /usr/local/lib/python3.11/dist-packages (0.19.10)\n",
            "Requirement already satisfied: click!=8.0.0,>=7.1 in /usr/local/lib/python3.11/dist-packages (from wandb) (8.1.8)\n",
            "Requirement already satisfied: docker-pycreds>=0.4.0 in /usr/local/lib/python3.11/dist-packages (from wandb) (0.4.0)\n",
            "Requirement already satisfied: gitpython!=3.1.29,>=1.0.0 in /usr/local/lib/python3.11/dist-packages (from wandb) (3.1.44)\n",
            "Requirement already satisfied: platformdirs in /usr/local/lib/python3.11/dist-packages (from wandb) (4.3.7)\n",
            "Requirement already satisfied: protobuf!=4.21.0,!=5.28.0,<7,>=3.19.0 in /usr/local/lib/python3.11/dist-packages (from wandb) (5.29.4)\n",
            "Requirement already satisfied: psutil>=5.0.0 in /usr/local/lib/python3.11/dist-packages (from wandb) (5.9.5)\n",
            "Requirement already satisfied: pydantic<3 in /usr/local/lib/python3.11/dist-packages (from wandb) (2.11.3)\n",
            "Requirement already satisfied: pyyaml in /usr/local/lib/python3.11/dist-packages (from wandb) (6.0.2)\n",
            "Requirement already satisfied: requests<3,>=2.0.0 in /usr/local/lib/python3.11/dist-packages (from wandb) (2.32.3)\n",
            "Requirement already satisfied: sentry-sdk>=2.0.0 in /usr/local/lib/python3.11/dist-packages (from wandb) (2.27.0)\n",
            "Requirement already satisfied: setproctitle in /usr/local/lib/python3.11/dist-packages (from wandb) (1.3.5)\n",
            "Requirement already satisfied: setuptools in /usr/local/lib/python3.11/dist-packages (from wandb) (75.2.0)\n",
            "Requirement already satisfied: typing-extensions<5,>=4.4 in /usr/local/lib/python3.11/dist-packages (from wandb) (4.13.2)\n",
            "Requirement already satisfied: six>=1.4.0 in /usr/local/lib/python3.11/dist-packages (from docker-pycreds>=0.4.0->wandb) (1.17.0)\n",
            "Requirement already satisfied: gitdb<5,>=4.0.1 in /usr/local/lib/python3.11/dist-packages (from gitpython!=3.1.29,>=1.0.0->wandb) (4.0.12)\n",
            "Requirement already satisfied: annotated-types>=0.6.0 in /usr/local/lib/python3.11/dist-packages (from pydantic<3->wandb) (0.7.0)\n",
            "Requirement already satisfied: pydantic-core==2.33.1 in /usr/local/lib/python3.11/dist-packages (from pydantic<3->wandb) (2.33.1)\n",
            "Requirement already satisfied: typing-inspection>=0.4.0 in /usr/local/lib/python3.11/dist-packages (from pydantic<3->wandb) (0.4.0)\n",
            "Requirement already satisfied: charset-normalizer<4,>=2 in /usr/local/lib/python3.11/dist-packages (from requests<3,>=2.0.0->wandb) (3.4.1)\n",
            "Requirement already satisfied: idna<4,>=2.5 in /usr/local/lib/python3.11/dist-packages (from requests<3,>=2.0.0->wandb) (3.10)\n",
            "Requirement already satisfied: urllib3<3,>=1.21.1 in /usr/local/lib/python3.11/dist-packages (from requests<3,>=2.0.0->wandb) (2.4.0)\n",
            "Requirement already satisfied: certifi>=2017.4.17 in /usr/local/lib/python3.11/dist-packages (from requests<3,>=2.0.0->wandb) (2025.1.31)\n",
            "Requirement already satisfied: smmap<6,>=3.0.1 in /usr/local/lib/python3.11/dist-packages (from gitdb<5,>=4.0.1->gitpython!=3.1.29,>=1.0.0->wandb) (5.0.2)\n"
          ]
        }
      ],
      "source": [
        "!pip install konlpy\n",
        "!pip install wandb"
      ]
    },
    {
      "cell_type": "markdown",
      "source": [
        "## 모듈 불러오기 및 파일 경로 지정"
      ],
      "metadata": {
        "id": "eKrL-oLPu9VM"
      }
    },
    {
      "cell_type": "code",
      "source": [
        "import os\n",
        "import re\n",
        "import pandas as pd\n",
        "import numpy as np\n",
        "import tensorflow as tf\n",
        "import matplotlib.pyplot as plt\n",
        "from konlpy.tag import Okt\n",
        "from sklearn.model_selection import train_test_split\n",
        "from sklearn.metrics import classification_report, confusion_matrix\n",
        "from keras.callbacks import ModelCheckpoint, EarlyStopping\n",
        "from tensorflow.keras.metrics import F1Score\n",
        "from tensorflow.keras.preprocessing.text import Tokenizer\n",
        "from tensorflow.keras.preprocessing.sequence import pad_sequences\n",
        "from tensorflow.keras.models import Sequential, Model\n",
        "from tensorflow.keras.layers import Embedding, Bidirectional, LSTM, Dense, Dropout, Input\n",
        "\n",
        "import wandb\n",
        "from wandb.integration.keras.callbacks import WandbMetricsLogger\n",
        "wandb.login()"
      ],
      "metadata": {
        "colab": {
          "base_uri": "https://localhost:8080/"
        },
        "id": "nAh48fLLYY1_",
        "outputId": "a052faa4-5ca6-405f-c5ce-eaaa6952e0aa"
      },
      "execution_count": 2,
      "outputs": [
        {
          "output_type": "stream",
          "name": "stderr",
          "text": [
            "\u001b[34m\u001b[1mwandb\u001b[0m: Currently logged in as: \u001b[33m00_jw\u001b[0m (\u001b[33mjiwoong-team\u001b[0m) to \u001b[32mhttps://api.wandb.ai\u001b[0m. Use \u001b[1m`wandb login --relogin`\u001b[0m to force relogin\n"
          ]
        },
        {
          "output_type": "execute_result",
          "data": {
            "text/plain": [
              "True"
            ]
          },
          "metadata": {},
          "execution_count": 2
        }
      ]
    },
    {
      "cell_type": "code",
      "source": [
        "%cd /content/drive/MyDrive/Colab Notebooks/Aiffel/AIFFEL_DLThon_DKTC_online13\n",
        "current_dir = os.getcwd()\n",
        "csv_dir = os.path.join(current_dir, 'data', 'raw_csv')\n",
        "train_csv_path = os.path.join(csv_dir, 'merged_train.csv')"
      ],
      "metadata": {
        "colab": {
          "base_uri": "https://localhost:8080/"
        },
        "id": "HnXFLuo6YhbQ",
        "outputId": "01123776-13e3-4dd8-e7f1-4289f231f529"
      },
      "execution_count": 3,
      "outputs": [
        {
          "output_type": "stream",
          "name": "stdout",
          "text": [
            "/content/drive/MyDrive/Colab Notebooks/Aiffel/AIFFEL_DLThon_DKTC_online13\n"
          ]
        }
      ]
    },
    {
      "cell_type": "markdown",
      "source": [
        "## 데이터 전처리\n",
        "- 구두점 제거\n",
        "- 명사, 동사, 형용사, 부사, 숫자를 기준으로 토큰화\n",
        "- 최대 길이를 기준으로 패딩"
      ],
      "metadata": {
        "id": "5PzzyCv8vEyZ"
      }
    },
    {
      "cell_type": "code",
      "source": [
        "INPUT_MAX_LENGTH = 350  # 입력 시퀀스 최대 길이\n",
        "NUM_WORDS = 7000 # 토큰화에 사용할 단어 갯수\n",
        "EMBEDDING_DIM = 64  # 임베딩 차원"
      ],
      "metadata": {
        "id": "TsBzlokSt8v5"
      },
      "execution_count": 4,
      "outputs": []
    },
    {
      "cell_type": "code",
      "source": [
        "df = pd.read_csv(train_csv_path)\n",
        "ordered_columns = ['협박 대화', '갈취 대화', '직장 내 괴롭힘 대화', '기타 괴롭힘 대화', '일반 대화'] # kaggle에 명시된 순서로 재배치\n",
        "\n",
        "conversations = df['conversation'].to_list() # input\n",
        "labels = pd.get_dummies(df['class'])\n",
        "labels = labels[ordered_columns].to_numpy() # target"
      ],
      "metadata": {
        "id": "7aEdMfUDYsMK"
      },
      "execution_count": 5,
      "outputs": []
    },
    {
      "cell_type": "code",
      "source": [
        "# 훈련셋,검증셋 분리\n",
        "X_train_raw, X_val_raw, y_train, y_val = train_test_split(conversations, labels, test_size=0.2, stratify=labels, random_state=42)"
      ],
      "metadata": {
        "id": "idPS0Vpr0Jab"
      },
      "execution_count": 6,
      "outputs": []
    },
    {
      "cell_type": "code",
      "source": [
        "# 구두점을 제거하는 함수\n",
        "def remove_punctuation(texts):\n",
        "    result = []\n",
        "    for text in texts:\n",
        "        # ?! 제외한 모든 특수문자 제거\n",
        "        text = re.sub(r'[^\\w\\s?!]', '', text.replace('\\n', ' '))\n",
        "        result.append(text)\n",
        "    return result\n",
        "\n",
        "# 명사, 동사, 형용사, 부사, 숫자를 기준으로 토큰화해주는 함수\n",
        "def pos_tagging(texts):\n",
        "    okt = Okt()\n",
        "\n",
        "    result = []\n",
        "    for text in texts:\n",
        "        filtered_words = [word for word, pos in okt.pos(text) if pos in [\n",
        "            'Noun', 'Verb', 'Adjective', 'Adverb',  # 기본 품사\n",
        "            'Number'                                # 금전 관련 숫자 정보\n",
        "        ]]\n",
        "        result.append(filtered_words)  # 각 문장별로 필터링된 단어들을 리스트로 저장\n",
        "\n",
        "    return result\n",
        "\n",
        "# 토크나이저 생성 함수\n",
        "def create_tokenizer(texts, num_words=None): # num_words = 인코딩 시 사용할 단어 개수\n",
        "    tokenizer = Tokenizer(num_words=num_words, oov_token=\"<OOV>\")\n",
        "    tokenizer.fit_on_texts(texts) # 어휘사전 정의\n",
        "\n",
        "    return tokenizer\n",
        "\n",
        "# 모든 전처리 함수. 구두점 제거, 품사기준 토큰화, 정수 인코딩, 패딩\n",
        "def preprocessing(texts, tokenizer, padded_max_len):\n",
        "  removed_punctuation_texts = remove_punctuation(texts)\n",
        "  pos_tagged_texts = pos_tagging(removed_punctuation_texts)\n",
        "  sequences = tokenizer.texts_to_sequences(pos_tagged_texts)\n",
        "  padded_sequences = pad_sequences(sequences, maxlen=padded_max_len)\n",
        "\n",
        "  return padded_sequences"
      ],
      "metadata": {
        "id": "2hRlOq6AZ5-x"
      },
      "execution_count": 7,
      "outputs": []
    },
    {
      "cell_type": "code",
      "source": [
        "# 토크나이저 생성\n",
        "tokenizer = create_tokenizer(conversations, NUM_WORDS)\n",
        "print(\"생성된 어휘 수:\", len(tokenizer.word_index))"
      ],
      "metadata": {
        "colab": {
          "base_uri": "https://localhost:8080/"
        },
        "id": "jGHV_3ycfeRF",
        "outputId": "2cc212ea-3b4e-45b2-d237-218f382cff7b"
      },
      "execution_count": 8,
      "outputs": [
        {
          "output_type": "stream",
          "name": "stdout",
          "text": [
            "생성된 어휘 수: 55065\n"
          ]
        }
      ]
    },
    {
      "cell_type": "code",
      "source": [
        "# 전처리 수행\n",
        "X_train = preprocessing(X_train_raw, tokenizer, INPUT_MAX_LENGTH)\n",
        "X_val = preprocessing(X_val_raw, tokenizer, INPUT_MAX_LENGTH)"
      ],
      "metadata": {
        "id": "PJCJP_atgors"
      },
      "execution_count": 9,
      "outputs": []
    },
    {
      "cell_type": "markdown",
      "source": [
        "## 모델 훈련\n",
        "- 1개의 양방향 LSTM과 드롭아웃 층으로 구성\n",
        "- F1score를 기준으로 조기종료 수행\n",
        "- 데이터 셋이 적어 여러번 반복 훈련하여 평균을 내면 더욱 정확한 베이스 모델을 구축할 수 있지만 시간과 한정된 자원 상 한 번의 학습만 진행\n",
        "- 실험결과는 W&B에 기록"
      ],
      "metadata": {
        "id": "udtQix8gwiMX"
      }
    },
    {
      "cell_type": "code",
      "source": [
        "def build_model():\n",
        "  vocab_size = NUM_WORDS + 1  # 패딩\n",
        "\n",
        "  inputs = Input(shape=(INPUT_MAX_LENGTH,))\n",
        "  embedding = Embedding(input_dim=vocab_size, output_dim=EMBEDDING_DIM)(inputs)\n",
        "  lstm = Bidirectional(LSTM(64))(embedding)\n",
        "  dropout = Dropout(0.5)(lstm)\n",
        "  outputs = Dense(5, activation='softmax')(dropout)\n",
        "  model = Model(inputs=inputs, outputs=outputs)\n",
        "\n",
        "  return model\n",
        "\n",
        "model = build_model()\n",
        "model.summary()"
      ],
      "metadata": {
        "colab": {
          "base_uri": "https://localhost:8080/",
          "height": 298
        },
        "id": "niOqjOa2hb3k",
        "outputId": "b9f2b2ce-cf4f-4ccf-bd06-691116df05f1"
      },
      "execution_count": 10,
      "outputs": [
        {
          "output_type": "display_data",
          "data": {
            "text/plain": [
              "\u001b[1mModel: \"functional\"\u001b[0m\n"
            ],
            "text/html": [
              "<pre style=\"white-space:pre;overflow-x:auto;line-height:normal;font-family:Menlo,'DejaVu Sans Mono',consolas,'Courier New',monospace\"><span style=\"font-weight: bold\">Model: \"functional\"</span>\n",
              "</pre>\n"
            ]
          },
          "metadata": {}
        },
        {
          "output_type": "display_data",
          "data": {
            "text/plain": [
              "┏━━━━━━━━━━━━━━━━━━━━━━━━━━━━━━━━━┳━━━━━━━━━━━━━━━━━━━━━━━━┳━━━━━━━━━━━━━━━┓\n",
              "┃\u001b[1m \u001b[0m\u001b[1mLayer (type)                   \u001b[0m\u001b[1m \u001b[0m┃\u001b[1m \u001b[0m\u001b[1mOutput Shape          \u001b[0m\u001b[1m \u001b[0m┃\u001b[1m \u001b[0m\u001b[1m      Param #\u001b[0m\u001b[1m \u001b[0m┃\n",
              "┡━━━━━━━━━━━━━━━━━━━━━━━━━━━━━━━━━╇━━━━━━━━━━━━━━━━━━━━━━━━╇━━━━━━━━━━━━━━━┩\n",
              "│ input_layer (\u001b[38;5;33mInputLayer\u001b[0m)        │ (\u001b[38;5;45mNone\u001b[0m, \u001b[38;5;34m350\u001b[0m)            │             \u001b[38;5;34m0\u001b[0m │\n",
              "├─────────────────────────────────┼────────────────────────┼───────────────┤\n",
              "│ embedding (\u001b[38;5;33mEmbedding\u001b[0m)           │ (\u001b[38;5;45mNone\u001b[0m, \u001b[38;5;34m350\u001b[0m, \u001b[38;5;34m64\u001b[0m)        │       \u001b[38;5;34m448,064\u001b[0m │\n",
              "├─────────────────────────────────┼────────────────────────┼───────────────┤\n",
              "│ bidirectional (\u001b[38;5;33mBidirectional\u001b[0m)   │ (\u001b[38;5;45mNone\u001b[0m, \u001b[38;5;34m128\u001b[0m)            │        \u001b[38;5;34m66,048\u001b[0m │\n",
              "├─────────────────────────────────┼────────────────────────┼───────────────┤\n",
              "│ dropout (\u001b[38;5;33mDropout\u001b[0m)               │ (\u001b[38;5;45mNone\u001b[0m, \u001b[38;5;34m128\u001b[0m)            │             \u001b[38;5;34m0\u001b[0m │\n",
              "├─────────────────────────────────┼────────────────────────┼───────────────┤\n",
              "│ dense (\u001b[38;5;33mDense\u001b[0m)                   │ (\u001b[38;5;45mNone\u001b[0m, \u001b[38;5;34m5\u001b[0m)              │           \u001b[38;5;34m645\u001b[0m │\n",
              "└─────────────────────────────────┴────────────────────────┴───────────────┘\n"
            ],
            "text/html": [
              "<pre style=\"white-space:pre;overflow-x:auto;line-height:normal;font-family:Menlo,'DejaVu Sans Mono',consolas,'Courier New',monospace\">┏━━━━━━━━━━━━━━━━━━━━━━━━━━━━━━━━━┳━━━━━━━━━━━━━━━━━━━━━━━━┳━━━━━━━━━━━━━━━┓\n",
              "┃<span style=\"font-weight: bold\"> Layer (type)                    </span>┃<span style=\"font-weight: bold\"> Output Shape           </span>┃<span style=\"font-weight: bold\">       Param # </span>┃\n",
              "┡━━━━━━━━━━━━━━━━━━━━━━━━━━━━━━━━━╇━━━━━━━━━━━━━━━━━━━━━━━━╇━━━━━━━━━━━━━━━┩\n",
              "│ input_layer (<span style=\"color: #0087ff; text-decoration-color: #0087ff\">InputLayer</span>)        │ (<span style=\"color: #00d7ff; text-decoration-color: #00d7ff\">None</span>, <span style=\"color: #00af00; text-decoration-color: #00af00\">350</span>)            │             <span style=\"color: #00af00; text-decoration-color: #00af00\">0</span> │\n",
              "├─────────────────────────────────┼────────────────────────┼───────────────┤\n",
              "│ embedding (<span style=\"color: #0087ff; text-decoration-color: #0087ff\">Embedding</span>)           │ (<span style=\"color: #00d7ff; text-decoration-color: #00d7ff\">None</span>, <span style=\"color: #00af00; text-decoration-color: #00af00\">350</span>, <span style=\"color: #00af00; text-decoration-color: #00af00\">64</span>)        │       <span style=\"color: #00af00; text-decoration-color: #00af00\">448,064</span> │\n",
              "├─────────────────────────────────┼────────────────────────┼───────────────┤\n",
              "│ bidirectional (<span style=\"color: #0087ff; text-decoration-color: #0087ff\">Bidirectional</span>)   │ (<span style=\"color: #00d7ff; text-decoration-color: #00d7ff\">None</span>, <span style=\"color: #00af00; text-decoration-color: #00af00\">128</span>)            │        <span style=\"color: #00af00; text-decoration-color: #00af00\">66,048</span> │\n",
              "├─────────────────────────────────┼────────────────────────┼───────────────┤\n",
              "│ dropout (<span style=\"color: #0087ff; text-decoration-color: #0087ff\">Dropout</span>)               │ (<span style=\"color: #00d7ff; text-decoration-color: #00d7ff\">None</span>, <span style=\"color: #00af00; text-decoration-color: #00af00\">128</span>)            │             <span style=\"color: #00af00; text-decoration-color: #00af00\">0</span> │\n",
              "├─────────────────────────────────┼────────────────────────┼───────────────┤\n",
              "│ dense (<span style=\"color: #0087ff; text-decoration-color: #0087ff\">Dense</span>)                   │ (<span style=\"color: #00d7ff; text-decoration-color: #00d7ff\">None</span>, <span style=\"color: #00af00; text-decoration-color: #00af00\">5</span>)              │           <span style=\"color: #00af00; text-decoration-color: #00af00\">645</span> │\n",
              "└─────────────────────────────────┴────────────────────────┴───────────────┘\n",
              "</pre>\n"
            ]
          },
          "metadata": {}
        },
        {
          "output_type": "display_data",
          "data": {
            "text/plain": [
              "\u001b[1m Total params: \u001b[0m\u001b[38;5;34m514,757\u001b[0m (1.96 MB)\n"
            ],
            "text/html": [
              "<pre style=\"white-space:pre;overflow-x:auto;line-height:normal;font-family:Menlo,'DejaVu Sans Mono',consolas,'Courier New',monospace\"><span style=\"font-weight: bold\"> Total params: </span><span style=\"color: #00af00; text-decoration-color: #00af00\">514,757</span> (1.96 MB)\n",
              "</pre>\n"
            ]
          },
          "metadata": {}
        },
        {
          "output_type": "display_data",
          "data": {
            "text/plain": [
              "\u001b[1m Trainable params: \u001b[0m\u001b[38;5;34m514,757\u001b[0m (1.96 MB)\n"
            ],
            "text/html": [
              "<pre style=\"white-space:pre;overflow-x:auto;line-height:normal;font-family:Menlo,'DejaVu Sans Mono',consolas,'Courier New',monospace\"><span style=\"font-weight: bold\"> Trainable params: </span><span style=\"color: #00af00; text-decoration-color: #00af00\">514,757</span> (1.96 MB)\n",
              "</pre>\n"
            ]
          },
          "metadata": {}
        },
        {
          "output_type": "display_data",
          "data": {
            "text/plain": [
              "\u001b[1m Non-trainable params: \u001b[0m\u001b[38;5;34m0\u001b[0m (0.00 B)\n"
            ],
            "text/html": [
              "<pre style=\"white-space:pre;overflow-x:auto;line-height:normal;font-family:Menlo,'DejaVu Sans Mono',consolas,'Courier New',monospace\"><span style=\"font-weight: bold\"> Non-trainable params: </span><span style=\"color: #00af00; text-decoration-color: #00af00\">0</span> (0.00 B)\n",
              "</pre>\n"
            ]
          },
          "metadata": {}
        }
      ]
    },
    {
      "cell_type": "code",
      "source": [
        "model = build_model()\n",
        "\n",
        "# F1Score 평가 지표\n",
        "f1 = F1Score(average='micro', name='f1')  # micro f1: 전체 클래스 f1score 평균\n",
        "\n",
        "model.compile(optimizer='adam', loss='categorical_crossentropy', metrics=['accuracy', f1])\n",
        "\n",
        "es_callback = EarlyStopping(\n",
        "    monitor='val_f1',\n",
        "    patience=3,\n",
        "    restore_best_weights=True,\n",
        "    mode='max'\n",
        ")\n",
        "\n",
        "mc_callback = ModelCheckpoint(\n",
        "  f'./notebooks/jiwoong/models/baseline.keras',\n",
        "  monitor=\"val_f1\",\n",
        "  save_best_only=True,\n",
        "  mode=\"max\"\n",
        ")\n",
        "\n",
        "# W&B 프로젝트 초기화\n",
        "run = wandb.init(\n",
        "    # Set the wandb entity where your project will be logged (generally your team name).\n",
        "    entity=\"jiwoong-team\",\n",
        "    # Set the wandb project where this run will be logged.\n",
        "    project=\"DLThon-DKTC\",\n",
        "    # Track hyperparameters and run metadata.\n",
        "    name=f\"baseline_BiLSTM\", # 실험 이름\n",
        "    notes=\"LLM으로 생성한 일반 대화 데이터를 사용한 기준선 실험\", # 실험에 대한 간단한 설명\n",
        "    config={ # 세부 구성 내용\n",
        "        \"experiment_name\": \"baseline\",\n",
        "        \"general_conversation_type\": \"LLM에서 생성한 대화 데이터\", # 일반 데이터 타입\n",
        "        \"architecture\": \"BiLSTM(64)\",\n",
        "    },\n",
        ")\n",
        "\n",
        "history = model.fit(\n",
        "    X_train, y_train,\n",
        "    epochs=40,\n",
        "    batch_size=32,\n",
        "    validation_data=(X_val, y_val),\n",
        "    callbacks=[es_callback, mc_callback, WandbMetricsLogger()] # WandbMetricsLogger를 콜백으로 넘겨주기만 하면 알아서 epoch별 metric을 기록\n",
        ")\n",
        "\n",
        "# 최적의 모델로 검증세트 예측\n",
        "y_pred = model.predict(X_val)\n",
        "y_pred_labels = np.argmax(y_pred, axis=1)\n",
        "y_true_labels = np.argmax(y_val, axis=1)\n",
        "\n",
        "# wandb Table 생성\n",
        "report = classification_report(y_true_labels, y_pred_labels, target_names=ordered_columns, output_dict=True)\n",
        "columns = [\"class\", \"precision\", \"recall\", \"f1-score\", \"support\"]\n",
        "data = []\n",
        "\n",
        "for label, metrics in report.items():\n",
        "    if isinstance(metrics, dict):  # dict일 때만 values 가져오기\n",
        "        row = [label] + [metrics.get(col, None) for col in columns[1:]]\n",
        "        data.append(row)\n",
        "\n",
        "table = wandb.Table(columns=columns, data=data)\n",
        "\n",
        "# wandb에 훈련 결과 기록\n",
        "wandb.log({\n",
        "    \"classification_report_table\": table,\n",
        "    \"macro_f1\": report[\"macro avg\"][\"f1-score\"],\n",
        "    \"accuracy\": report[\"accuracy\"],\n",
        "    \"threat_f1\": report[\"협박 대화\"][\"f1-score\"],\n",
        "    \"extortion_f1\": report[\"갈취 대화\"][\"f1-score\"],\n",
        "    \"workplace_bullying_f1\": report[\"직장 내 괴롭힘 대화\"][\"f1-score\"],\n",
        "    \"other bullying\": report[\"기타 괴롭힘 대화\"][\"f1-score\"],\n",
        "    \"general_conversation_f1\": report[\"일반 대화\"][\"f1-score\"],\n",
        "})\n",
        "\n",
        "# 실험 종료\n",
        "run.finish()"
      ],
      "metadata": {
        "colab": {
          "base_uri": "https://localhost:8080/",
          "height": 1000
        },
        "id": "9Yoyjo8CkN0O",
        "outputId": "bae51ae8-b023-45f3-821d-24514f87c530"
      },
      "execution_count": 11,
      "outputs": [
        {
          "output_type": "display_data",
          "data": {
            "text/plain": [
              "<IPython.core.display.HTML object>"
            ],
            "text/html": [
              "Tracking run with wandb version 0.19.10"
            ]
          },
          "metadata": {}
        },
        {
          "output_type": "display_data",
          "data": {
            "text/plain": [
              "<IPython.core.display.HTML object>"
            ],
            "text/html": [
              "Run data is saved locally in <code>/content/wandb/run-20250501_160055-scajlsuv</code>"
            ]
          },
          "metadata": {}
        },
        {
          "output_type": "display_data",
          "data": {
            "text/plain": [
              "<IPython.core.display.HTML object>"
            ],
            "text/html": [
              "Syncing run <strong><a href='https://wandb.ai/jiwoong-team/DLThon-DKTC/runs/scajlsuv' target=\"_blank\">baseline_BiLSTM</a></strong> to <a href='https://wandb.ai/jiwoong-team/DLThon-DKTC' target=\"_blank\">Weights & Biases</a> (<a href='https://wandb.me/developer-guide' target=\"_blank\">docs</a>)<br>"
            ]
          },
          "metadata": {}
        },
        {
          "output_type": "display_data",
          "data": {
            "text/plain": [
              "<IPython.core.display.HTML object>"
            ],
            "text/html": [
              " View project at <a href='https://wandb.ai/jiwoong-team/DLThon-DKTC' target=\"_blank\">https://wandb.ai/jiwoong-team/DLThon-DKTC</a>"
            ]
          },
          "metadata": {}
        },
        {
          "output_type": "display_data",
          "data": {
            "text/plain": [
              "<IPython.core.display.HTML object>"
            ],
            "text/html": [
              " View run at <a href='https://wandb.ai/jiwoong-team/DLThon-DKTC/runs/scajlsuv' target=\"_blank\">https://wandb.ai/jiwoong-team/DLThon-DKTC/runs/scajlsuv</a>"
            ]
          },
          "metadata": {}
        },
        {
          "output_type": "stream",
          "name": "stdout",
          "text": [
            "Epoch 1/40\n",
            "\u001b[1m116/116\u001b[0m \u001b[32m━━━━━━━━━━━━━━━━━━━━\u001b[0m\u001b[37m\u001b[0m \u001b[1m9s\u001b[0m 34ms/step - accuracy: 0.3006 - f1: 0.3006 - loss: 1.5425 - val_accuracy: 0.6045 - val_f1: 0.6045 - val_loss: 0.9148\n",
            "Epoch 2/40\n",
            "\u001b[1m116/116\u001b[0m \u001b[32m━━━━━━━━━━━━━━━━━━━━\u001b[0m\u001b[37m\u001b[0m \u001b[1m5s\u001b[0m 43ms/step - accuracy: 0.6694 - f1: 0.6694 - loss: 0.8027 - val_accuracy: 0.7619 - val_f1: 0.7619 - val_loss: 0.6264\n",
            "Epoch 3/40\n",
            "\u001b[1m116/116\u001b[0m \u001b[32m━━━━━━━━━━━━━━━━━━━━\u001b[0m\u001b[37m\u001b[0m \u001b[1m3s\u001b[0m 26ms/step - accuracy: 0.8069 - f1: 0.8069 - loss: 0.5343 - val_accuracy: 0.7586 - val_f1: 0.7586 - val_loss: 0.6238\n",
            "Epoch 4/40\n",
            "\u001b[1m116/116\u001b[0m \u001b[32m━━━━━━━━━━━━━━━━━━━━\u001b[0m\u001b[37m\u001b[0m \u001b[1m5s\u001b[0m 27ms/step - accuracy: 0.8682 - f1: 0.8682 - loss: 0.4234 - val_accuracy: 0.8351 - val_f1: 0.8351 - val_loss: 0.4931\n",
            "Epoch 5/40\n",
            "\u001b[1m116/116\u001b[0m \u001b[32m━━━━━━━━━━━━━━━━━━━━\u001b[0m\u001b[37m\u001b[0m \u001b[1m4s\u001b[0m 35ms/step - accuracy: 0.9224 - f1: 0.9224 - loss: 0.2723 - val_accuracy: 0.8211 - val_f1: 0.8211 - val_loss: 0.5013\n",
            "Epoch 6/40\n",
            "\u001b[1m116/116\u001b[0m \u001b[32m━━━━━━━━━━━━━━━━━━━━\u001b[0m\u001b[37m\u001b[0m \u001b[1m4s\u001b[0m 26ms/step - accuracy: 0.9185 - f1: 0.9185 - loss: 0.2939 - val_accuracy: 0.8319 - val_f1: 0.8319 - val_loss: 0.5221\n",
            "Epoch 7/40\n",
            "\u001b[1m116/116\u001b[0m \u001b[32m━━━━━━━━━━━━━━━━━━━━\u001b[0m\u001b[37m\u001b[0m \u001b[1m3s\u001b[0m 26ms/step - accuracy: 0.9537 - f1: 0.9537 - loss: 0.1765 - val_accuracy: 0.8373 - val_f1: 0.8373 - val_loss: 0.5120\n",
            "Epoch 8/40\n",
            "\u001b[1m116/116\u001b[0m \u001b[32m━━━━━━━━━━━━━━━━━━━━\u001b[0m\u001b[37m\u001b[0m \u001b[1m6s\u001b[0m 33ms/step - accuracy: 0.9756 - f1: 0.9756 - loss: 0.1116 - val_accuracy: 0.8319 - val_f1: 0.8319 - val_loss: 0.5282\n",
            "Epoch 9/40\n",
            "\u001b[1m116/116\u001b[0m \u001b[32m━━━━━━━━━━━━━━━━━━━━\u001b[0m\u001b[37m\u001b[0m \u001b[1m3s\u001b[0m 29ms/step - accuracy: 0.9729 - f1: 0.9729 - loss: 0.0941 - val_accuracy: 0.8567 - val_f1: 0.8567 - val_loss: 0.4888\n",
            "Epoch 10/40\n",
            "\u001b[1m116/116\u001b[0m \u001b[32m━━━━━━━━━━━━━━━━━━━━\u001b[0m\u001b[37m\u001b[0m \u001b[1m3s\u001b[0m 26ms/step - accuracy: 0.9888 - f1: 0.9888 - loss: 0.0662 - val_accuracy: 0.8599 - val_f1: 0.8599 - val_loss: 0.5653\n",
            "Epoch 11/40\n",
            "\u001b[1m116/116\u001b[0m \u001b[32m━━━━━━━━━━━━━━━━━━━━\u001b[0m\u001b[37m\u001b[0m \u001b[1m6s\u001b[0m 31ms/step - accuracy: 0.9941 - f1: 0.9941 - loss: 0.0369 - val_accuracy: 0.8481 - val_f1: 0.8481 - val_loss: 0.6223\n",
            "Epoch 12/40\n",
            "\u001b[1m116/116\u001b[0m \u001b[32m━━━━━━━━━━━━━━━━━━━━\u001b[0m\u001b[37m\u001b[0m \u001b[1m4s\u001b[0m 32ms/step - accuracy: 0.9785 - f1: 0.9785 - loss: 0.0805 - val_accuracy: 0.8513 - val_f1: 0.8513 - val_loss: 0.6080\n",
            "Epoch 13/40\n",
            "\u001b[1m116/116\u001b[0m \u001b[32m━━━━━━━━━━━━━━━━━━━━\u001b[0m\u001b[37m\u001b[0m \u001b[1m4s\u001b[0m 26ms/step - accuracy: 0.9858 - f1: 0.9858 - loss: 0.0607 - val_accuracy: 0.8534 - val_f1: 0.8534 - val_loss: 0.5763\n",
            "\u001b[1m29/29\u001b[0m \u001b[32m━━━━━━━━━━━━━━━━━━━━\u001b[0m\u001b[37m\u001b[0m \u001b[1m0s\u001b[0m 9ms/step\n"
          ]
        },
        {
          "output_type": "display_data",
          "data": {
            "text/plain": [
              "<IPython.core.display.HTML object>"
            ],
            "text/html": []
          },
          "metadata": {}
        },
        {
          "output_type": "display_data",
          "data": {
            "text/plain": [
              "<IPython.core.display.HTML object>"
            ],
            "text/html": [
              "<br>    <style><br>        .wandb-row {<br>            display: flex;<br>            flex-direction: row;<br>            flex-wrap: wrap;<br>            justify-content: flex-start;<br>            width: 100%;<br>        }<br>        .wandb-col {<br>            display: flex;<br>            flex-direction: column;<br>            flex-basis: 100%;<br>            flex: 1;<br>            padding: 10px;<br>        }<br>    </style><br><div class=\"wandb-row\"><div class=\"wandb-col\"><h3>Run history:</h3><br/><table class=\"wandb\"><tr><td>accuracy</td><td>▁</td></tr><tr><td>epoch/accuracy</td><td>▁▅▆▇▇▇███████</td></tr><tr><td>epoch/epoch</td><td>▁▂▂▃▃▄▅▅▆▆▇▇█</td></tr><tr><td>epoch/f1</td><td>▁▅▆▇▇▇███████</td></tr><tr><td>epoch/learning_rate</td><td>▁▁▁▁▁▁▁▁▁▁▁▁▁</td></tr><tr><td>epoch/loss</td><td>█▅▄▃▂▂▂▁▁▁▁▁▁</td></tr><tr><td>epoch/val_accuracy</td><td>▁▅▅▇▇▇▇▇█████</td></tr><tr><td>epoch/val_f1</td><td>▁▅▅▇▇▇▇▇█████</td></tr><tr><td>epoch/val_loss</td><td>█▃▃▁▁▂▁▂▁▂▃▃▂</td></tr><tr><td>extortion_f1</td><td>▁</td></tr><tr><td>general_conversation_f1</td><td>▁</td></tr><tr><td>macro_f1</td><td>▁</td></tr><tr><td>other bullying</td><td>▁</td></tr><tr><td>threat_f1</td><td>▁</td></tr><tr><td>workplace_bullying_f1</td><td>▁</td></tr></table><br/></div><div class=\"wandb-col\"><h3>Run summary:</h3><br/><table class=\"wandb\"><tr><td>accuracy</td><td>0.85991</td></tr><tr><td>epoch/accuracy</td><td>0.98922</td></tr><tr><td>epoch/epoch</td><td>12</td></tr><tr><td>epoch/f1</td><td>0.98922</td></tr><tr><td>epoch/learning_rate</td><td>0.001</td></tr><tr><td>epoch/loss</td><td>0.05188</td></tr><tr><td>epoch/val_accuracy</td><td>0.85345</td></tr><tr><td>epoch/val_f1</td><td>0.85345</td></tr><tr><td>epoch/val_loss</td><td>0.57628</td></tr><tr><td>extortion_f1</td><td>0.83038</td></tr><tr><td>general_conversation_f1</td><td>0.97749</td></tr><tr><td>macro_f1</td><td>0.86358</td></tr><tr><td>other bullying</td><td>0.8139</td></tr><tr><td>threat_f1</td><td>0.80115</td></tr><tr><td>workplace_bullying_f1</td><td>0.895</td></tr></table><br/></div></div>"
            ]
          },
          "metadata": {}
        },
        {
          "output_type": "display_data",
          "data": {
            "text/plain": [
              "<IPython.core.display.HTML object>"
            ],
            "text/html": [
              " View run <strong style=\"color:#cdcd00\">baseline_BiLSTM</strong> at: <a href='https://wandb.ai/jiwoong-team/DLThon-DKTC/runs/scajlsuv' target=\"_blank\">https://wandb.ai/jiwoong-team/DLThon-DKTC/runs/scajlsuv</a><br> View project at: <a href='https://wandb.ai/jiwoong-team/DLThon-DKTC' target=\"_blank\">https://wandb.ai/jiwoong-team/DLThon-DKTC</a><br>Synced 5 W&B file(s), 1 media file(s), 2 artifact file(s) and 0 other file(s)"
            ]
          },
          "metadata": {}
        },
        {
          "output_type": "display_data",
          "data": {
            "text/plain": [
              "<IPython.core.display.HTML object>"
            ],
            "text/html": [
              "Find logs at: <code>/content/wandb/run-20250501_160055-scajlsuv/logs</code>"
            ]
          },
          "metadata": {}
        }
      ]
    },
    {
      "cell_type": "markdown",
      "source": [
        "## 결과 분석"
      ],
      "metadata": {
        "id": "NbLq-ODhbQoX"
      }
    },
    {
      "cell_type": "code",
      "source": [
        "y_pred = model.predict(X_val)\n",
        "y_pred_labels = np.argmax(y_pred, axis=1)\n",
        "y_true_labels = np.argmax(y_val, axis=1)\n",
        "\n",
        "print(confusion_matrix(y_true_labels, y_pred_labels))\n",
        "print(classification_report(y_true_labels, y_pred_labels, target_names=ordered_columns))"
      ],
      "metadata": {
        "colab": {
          "base_uri": "https://localhost:8080/"
        },
        "id": "733LJ-jWlGTf",
        "outputId": "82e48a50-5e53-4cca-ae76-6f56134938ee"
      },
      "execution_count": 12,
      "outputs": [
        {
          "output_type": "stream",
          "name": "stdout",
          "text": [
            "\u001b[1m29/29\u001b[0m \u001b[32m━━━━━━━━━━━━━━━━━━━━\u001b[0m\u001b[37m\u001b[0m \u001b[1m0s\u001b[0m 13ms/step\n",
            "[[139  18   6  16   0]\n",
            " [ 13 164   6  12   0]\n",
            " [  4   2 179   8   1]\n",
            " [ 12  13  13 164   0]\n",
            " [  0   3   2   1 152]]\n",
            "              precision    recall  f1-score   support\n",
            "\n",
            "       협박 대화       0.83      0.78      0.80       179\n",
            "       갈취 대화       0.82      0.84      0.83       195\n",
            " 직장 내 괴롭힘 대화       0.87      0.92      0.90       194\n",
            "   기타 괴롭힘 대화       0.82      0.81      0.81       202\n",
            "       일반 대화       0.99      0.96      0.98       158\n",
            "\n",
            "    accuracy                           0.86       928\n",
            "   macro avg       0.87      0.86      0.86       928\n",
            "weighted avg       0.86      0.86      0.86       928\n",
            "\n"
          ]
        }
      ]
    },
    {
      "cell_type": "markdown",
      "source": [
        "+ 데이터 EDA 때 예상한 대로 일반대화에 많이 과적합되었으며 직장 내 괴롭힘 대화는 점수가 높음\n",
        "+ 나머지 세 카테고리에 대해서는 아쉬운 성능"
      ],
      "metadata": {
        "id": "Gas62-yDx_0v"
      }
    },
    {
      "cell_type": "markdown",
      "source": [
        "## submission"
      ],
      "metadata": {
        "id": "thsc6jZXxs3n"
      }
    },
    {
      "cell_type": "code",
      "source": [
        "test_csv_path = os.path.join(csv_dir, 'test.csv')\n",
        "\n",
        "df_test = pd.read_csv(test_csv_path)\n",
        "conversations_test = df_test['text'].to_list()\n",
        "\n",
        "X_text = preprocessing(conversations_test, tokenizer, INPUT_MAX_LENGTH)"
      ],
      "metadata": {
        "id": "q8BooiWkqQo-"
      },
      "execution_count": 13,
      "outputs": []
    },
    {
      "cell_type": "code",
      "source": [
        "# 모델 예측 (Softmax를 사용하여 각 클래스에 대한 확률 계산)\n",
        "predictions = model.predict(X_text)\n",
        "\n",
        "# 예측 결과를 클래스 인덱스로 변환\n",
        "predicted_classes = predictions.argmax(axis=1)"
      ],
      "metadata": {
        "colab": {
          "base_uri": "https://localhost:8080/"
        },
        "id": "stpbVdpdqRrQ",
        "outputId": "96d4bbe9-f4ee-4951-816c-f73004c954b7"
      },
      "execution_count": 14,
      "outputs": [
        {
          "output_type": "stream",
          "name": "stdout",
          "text": [
            "\u001b[1m16/16\u001b[0m \u001b[32m━━━━━━━━━━━━━━━━━━━━\u001b[0m\u001b[37m\u001b[0m \u001b[1m0s\u001b[0m 29ms/step\n"
          ]
        }
      ]
    },
    {
      "cell_type": "code",
      "source": [
        "# id와 예측된 클래스 저장\n",
        "submission_df = pd.DataFrame({\n",
        "    'idx': df_test['idx'],\n",
        "    'class': predicted_classes\n",
        "})\n",
        "\n",
        "display(submission_df)\n",
        "\n",
        "# submission.csv로 저장\n",
        "submission_df.to_csv('/content/submission.csv', index=False)"
      ],
      "metadata": {
        "colab": {
          "base_uri": "https://localhost:8080/",
          "height": 424
        },
        "id": "n5UOlYGkqrOz",
        "outputId": "b1d5ccd9-615d-4e44-e437-1925d659ba03"
      },
      "execution_count": 15,
      "outputs": [
        {
          "output_type": "display_data",
          "data": {
            "text/plain": [
              "       idx  class\n",
              "0    t_000      1\n",
              "1    t_001      2\n",
              "2    t_002      2\n",
              "3    t_003      3\n",
              "4    t_004      3\n",
              "..     ...    ...\n",
              "495  t_495      2\n",
              "496  t_496      0\n",
              "497  t_497      1\n",
              "498  t_498      1\n",
              "499  t_499      0\n",
              "\n",
              "[500 rows x 2 columns]"
            ],
            "text/html": [
              "\n",
              "  <div id=\"df-422a7d07-3501-4bd9-8c3b-f2d5a497a876\" class=\"colab-df-container\">\n",
              "    <div>\n",
              "<style scoped>\n",
              "    .dataframe tbody tr th:only-of-type {\n",
              "        vertical-align: middle;\n",
              "    }\n",
              "\n",
              "    .dataframe tbody tr th {\n",
              "        vertical-align: top;\n",
              "    }\n",
              "\n",
              "    .dataframe thead th {\n",
              "        text-align: right;\n",
              "    }\n",
              "</style>\n",
              "<table border=\"1\" class=\"dataframe\">\n",
              "  <thead>\n",
              "    <tr style=\"text-align: right;\">\n",
              "      <th></th>\n",
              "      <th>idx</th>\n",
              "      <th>class</th>\n",
              "    </tr>\n",
              "  </thead>\n",
              "  <tbody>\n",
              "    <tr>\n",
              "      <th>0</th>\n",
              "      <td>t_000</td>\n",
              "      <td>1</td>\n",
              "    </tr>\n",
              "    <tr>\n",
              "      <th>1</th>\n",
              "      <td>t_001</td>\n",
              "      <td>2</td>\n",
              "    </tr>\n",
              "    <tr>\n",
              "      <th>2</th>\n",
              "      <td>t_002</td>\n",
              "      <td>2</td>\n",
              "    </tr>\n",
              "    <tr>\n",
              "      <th>3</th>\n",
              "      <td>t_003</td>\n",
              "      <td>3</td>\n",
              "    </tr>\n",
              "    <tr>\n",
              "      <th>4</th>\n",
              "      <td>t_004</td>\n",
              "      <td>3</td>\n",
              "    </tr>\n",
              "    <tr>\n",
              "      <th>...</th>\n",
              "      <td>...</td>\n",
              "      <td>...</td>\n",
              "    </tr>\n",
              "    <tr>\n",
              "      <th>495</th>\n",
              "      <td>t_495</td>\n",
              "      <td>2</td>\n",
              "    </tr>\n",
              "    <tr>\n",
              "      <th>496</th>\n",
              "      <td>t_496</td>\n",
              "      <td>0</td>\n",
              "    </tr>\n",
              "    <tr>\n",
              "      <th>497</th>\n",
              "      <td>t_497</td>\n",
              "      <td>1</td>\n",
              "    </tr>\n",
              "    <tr>\n",
              "      <th>498</th>\n",
              "      <td>t_498</td>\n",
              "      <td>1</td>\n",
              "    </tr>\n",
              "    <tr>\n",
              "      <th>499</th>\n",
              "      <td>t_499</td>\n",
              "      <td>0</td>\n",
              "    </tr>\n",
              "  </tbody>\n",
              "</table>\n",
              "<p>500 rows × 2 columns</p>\n",
              "</div>\n",
              "    <div class=\"colab-df-buttons\">\n",
              "\n",
              "  <div class=\"colab-df-container\">\n",
              "    <button class=\"colab-df-convert\" onclick=\"convertToInteractive('df-422a7d07-3501-4bd9-8c3b-f2d5a497a876')\"\n",
              "            title=\"Convert this dataframe to an interactive table.\"\n",
              "            style=\"display:none;\">\n",
              "\n",
              "  <svg xmlns=\"http://www.w3.org/2000/svg\" height=\"24px\" viewBox=\"0 -960 960 960\">\n",
              "    <path d=\"M120-120v-720h720v720H120Zm60-500h600v-160H180v160Zm220 220h160v-160H400v160Zm0 220h160v-160H400v160ZM180-400h160v-160H180v160Zm440 0h160v-160H620v160ZM180-180h160v-160H180v160Zm440 0h160v-160H620v160Z\"/>\n",
              "  </svg>\n",
              "    </button>\n",
              "\n",
              "  <style>\n",
              "    .colab-df-container {\n",
              "      display:flex;\n",
              "      gap: 12px;\n",
              "    }\n",
              "\n",
              "    .colab-df-convert {\n",
              "      background-color: #E8F0FE;\n",
              "      border: none;\n",
              "      border-radius: 50%;\n",
              "      cursor: pointer;\n",
              "      display: none;\n",
              "      fill: #1967D2;\n",
              "      height: 32px;\n",
              "      padding: 0 0 0 0;\n",
              "      width: 32px;\n",
              "    }\n",
              "\n",
              "    .colab-df-convert:hover {\n",
              "      background-color: #E2EBFA;\n",
              "      box-shadow: 0px 1px 2px rgba(60, 64, 67, 0.3), 0px 1px 3px 1px rgba(60, 64, 67, 0.15);\n",
              "      fill: #174EA6;\n",
              "    }\n",
              "\n",
              "    .colab-df-buttons div {\n",
              "      margin-bottom: 4px;\n",
              "    }\n",
              "\n",
              "    [theme=dark] .colab-df-convert {\n",
              "      background-color: #3B4455;\n",
              "      fill: #D2E3FC;\n",
              "    }\n",
              "\n",
              "    [theme=dark] .colab-df-convert:hover {\n",
              "      background-color: #434B5C;\n",
              "      box-shadow: 0px 1px 3px 1px rgba(0, 0, 0, 0.15);\n",
              "      filter: drop-shadow(0px 1px 2px rgba(0, 0, 0, 0.3));\n",
              "      fill: #FFFFFF;\n",
              "    }\n",
              "  </style>\n",
              "\n",
              "    <script>\n",
              "      const buttonEl =\n",
              "        document.querySelector('#df-422a7d07-3501-4bd9-8c3b-f2d5a497a876 button.colab-df-convert');\n",
              "      buttonEl.style.display =\n",
              "        google.colab.kernel.accessAllowed ? 'block' : 'none';\n",
              "\n",
              "      async function convertToInteractive(key) {\n",
              "        const element = document.querySelector('#df-422a7d07-3501-4bd9-8c3b-f2d5a497a876');\n",
              "        const dataTable =\n",
              "          await google.colab.kernel.invokeFunction('convertToInteractive',\n",
              "                                                    [key], {});\n",
              "        if (!dataTable) return;\n",
              "\n",
              "        const docLinkHtml = 'Like what you see? Visit the ' +\n",
              "          '<a target=\"_blank\" href=https://colab.research.google.com/notebooks/data_table.ipynb>data table notebook</a>'\n",
              "          + ' to learn more about interactive tables.';\n",
              "        element.innerHTML = '';\n",
              "        dataTable['output_type'] = 'display_data';\n",
              "        await google.colab.output.renderOutput(dataTable, element);\n",
              "        const docLink = document.createElement('div');\n",
              "        docLink.innerHTML = docLinkHtml;\n",
              "        element.appendChild(docLink);\n",
              "      }\n",
              "    </script>\n",
              "  </div>\n",
              "\n",
              "\n",
              "    <div id=\"df-2bc79973-2675-480e-811a-babddef74941\">\n",
              "      <button class=\"colab-df-quickchart\" onclick=\"quickchart('df-2bc79973-2675-480e-811a-babddef74941')\"\n",
              "                title=\"Suggest charts\"\n",
              "                style=\"display:none;\">\n",
              "\n",
              "<svg xmlns=\"http://www.w3.org/2000/svg\" height=\"24px\"viewBox=\"0 0 24 24\"\n",
              "     width=\"24px\">\n",
              "    <g>\n",
              "        <path d=\"M19 3H5c-1.1 0-2 .9-2 2v14c0 1.1.9 2 2 2h14c1.1 0 2-.9 2-2V5c0-1.1-.9-2-2-2zM9 17H7v-7h2v7zm4 0h-2V7h2v10zm4 0h-2v-4h2v4z\"/>\n",
              "    </g>\n",
              "</svg>\n",
              "      </button>\n",
              "\n",
              "<style>\n",
              "  .colab-df-quickchart {\n",
              "      --bg-color: #E8F0FE;\n",
              "      --fill-color: #1967D2;\n",
              "      --hover-bg-color: #E2EBFA;\n",
              "      --hover-fill-color: #174EA6;\n",
              "      --disabled-fill-color: #AAA;\n",
              "      --disabled-bg-color: #DDD;\n",
              "  }\n",
              "\n",
              "  [theme=dark] .colab-df-quickchart {\n",
              "      --bg-color: #3B4455;\n",
              "      --fill-color: #D2E3FC;\n",
              "      --hover-bg-color: #434B5C;\n",
              "      --hover-fill-color: #FFFFFF;\n",
              "      --disabled-bg-color: #3B4455;\n",
              "      --disabled-fill-color: #666;\n",
              "  }\n",
              "\n",
              "  .colab-df-quickchart {\n",
              "    background-color: var(--bg-color);\n",
              "    border: none;\n",
              "    border-radius: 50%;\n",
              "    cursor: pointer;\n",
              "    display: none;\n",
              "    fill: var(--fill-color);\n",
              "    height: 32px;\n",
              "    padding: 0;\n",
              "    width: 32px;\n",
              "  }\n",
              "\n",
              "  .colab-df-quickchart:hover {\n",
              "    background-color: var(--hover-bg-color);\n",
              "    box-shadow: 0 1px 2px rgba(60, 64, 67, 0.3), 0 1px 3px 1px rgba(60, 64, 67, 0.15);\n",
              "    fill: var(--button-hover-fill-color);\n",
              "  }\n",
              "\n",
              "  .colab-df-quickchart-complete:disabled,\n",
              "  .colab-df-quickchart-complete:disabled:hover {\n",
              "    background-color: var(--disabled-bg-color);\n",
              "    fill: var(--disabled-fill-color);\n",
              "    box-shadow: none;\n",
              "  }\n",
              "\n",
              "  .colab-df-spinner {\n",
              "    border: 2px solid var(--fill-color);\n",
              "    border-color: transparent;\n",
              "    border-bottom-color: var(--fill-color);\n",
              "    animation:\n",
              "      spin 1s steps(1) infinite;\n",
              "  }\n",
              "\n",
              "  @keyframes spin {\n",
              "    0% {\n",
              "      border-color: transparent;\n",
              "      border-bottom-color: var(--fill-color);\n",
              "      border-left-color: var(--fill-color);\n",
              "    }\n",
              "    20% {\n",
              "      border-color: transparent;\n",
              "      border-left-color: var(--fill-color);\n",
              "      border-top-color: var(--fill-color);\n",
              "    }\n",
              "    30% {\n",
              "      border-color: transparent;\n",
              "      border-left-color: var(--fill-color);\n",
              "      border-top-color: var(--fill-color);\n",
              "      border-right-color: var(--fill-color);\n",
              "    }\n",
              "    40% {\n",
              "      border-color: transparent;\n",
              "      border-right-color: var(--fill-color);\n",
              "      border-top-color: var(--fill-color);\n",
              "    }\n",
              "    60% {\n",
              "      border-color: transparent;\n",
              "      border-right-color: var(--fill-color);\n",
              "    }\n",
              "    80% {\n",
              "      border-color: transparent;\n",
              "      border-right-color: var(--fill-color);\n",
              "      border-bottom-color: var(--fill-color);\n",
              "    }\n",
              "    90% {\n",
              "      border-color: transparent;\n",
              "      border-bottom-color: var(--fill-color);\n",
              "    }\n",
              "  }\n",
              "</style>\n",
              "\n",
              "      <script>\n",
              "        async function quickchart(key) {\n",
              "          const quickchartButtonEl =\n",
              "            document.querySelector('#' + key + ' button');\n",
              "          quickchartButtonEl.disabled = true;  // To prevent multiple clicks.\n",
              "          quickchartButtonEl.classList.add('colab-df-spinner');\n",
              "          try {\n",
              "            const charts = await google.colab.kernel.invokeFunction(\n",
              "                'suggestCharts', [key], {});\n",
              "          } catch (error) {\n",
              "            console.error('Error during call to suggestCharts:', error);\n",
              "          }\n",
              "          quickchartButtonEl.classList.remove('colab-df-spinner');\n",
              "          quickchartButtonEl.classList.add('colab-df-quickchart-complete');\n",
              "        }\n",
              "        (() => {\n",
              "          let quickchartButtonEl =\n",
              "            document.querySelector('#df-2bc79973-2675-480e-811a-babddef74941 button');\n",
              "          quickchartButtonEl.style.display =\n",
              "            google.colab.kernel.accessAllowed ? 'block' : 'none';\n",
              "        })();\n",
              "      </script>\n",
              "    </div>\n",
              "\n",
              "  <div id=\"id_8492537b-08c9-4b80-9e22-404b0d0521ab\">\n",
              "    <style>\n",
              "      .colab-df-generate {\n",
              "        background-color: #E8F0FE;\n",
              "        border: none;\n",
              "        border-radius: 50%;\n",
              "        cursor: pointer;\n",
              "        display: none;\n",
              "        fill: #1967D2;\n",
              "        height: 32px;\n",
              "        padding: 0 0 0 0;\n",
              "        width: 32px;\n",
              "      }\n",
              "\n",
              "      .colab-df-generate:hover {\n",
              "        background-color: #E2EBFA;\n",
              "        box-shadow: 0px 1px 2px rgba(60, 64, 67, 0.3), 0px 1px 3px 1px rgba(60, 64, 67, 0.15);\n",
              "        fill: #174EA6;\n",
              "      }\n",
              "\n",
              "      [theme=dark] .colab-df-generate {\n",
              "        background-color: #3B4455;\n",
              "        fill: #D2E3FC;\n",
              "      }\n",
              "\n",
              "      [theme=dark] .colab-df-generate:hover {\n",
              "        background-color: #434B5C;\n",
              "        box-shadow: 0px 1px 3px 1px rgba(0, 0, 0, 0.15);\n",
              "        filter: drop-shadow(0px 1px 2px rgba(0, 0, 0, 0.3));\n",
              "        fill: #FFFFFF;\n",
              "      }\n",
              "    </style>\n",
              "    <button class=\"colab-df-generate\" onclick=\"generateWithVariable('submission_df')\"\n",
              "            title=\"Generate code using this dataframe.\"\n",
              "            style=\"display:none;\">\n",
              "\n",
              "  <svg xmlns=\"http://www.w3.org/2000/svg\" height=\"24px\"viewBox=\"0 0 24 24\"\n",
              "       width=\"24px\">\n",
              "    <path d=\"M7,19H8.4L18.45,9,17,7.55,7,17.6ZM5,21V16.75L18.45,3.32a2,2,0,0,1,2.83,0l1.4,1.43a1.91,1.91,0,0,1,.58,1.4,1.91,1.91,0,0,1-.58,1.4L9.25,21ZM18.45,9,17,7.55Zm-12,3A5.31,5.31,0,0,0,4.9,8.1,5.31,5.31,0,0,0,1,6.5,5.31,5.31,0,0,0,4.9,4.9,5.31,5.31,0,0,0,6.5,1,5.31,5.31,0,0,0,8.1,4.9,5.31,5.31,0,0,0,12,6.5,5.46,5.46,0,0,0,6.5,12Z\"/>\n",
              "  </svg>\n",
              "    </button>\n",
              "    <script>\n",
              "      (() => {\n",
              "      const buttonEl =\n",
              "        document.querySelector('#id_8492537b-08c9-4b80-9e22-404b0d0521ab button.colab-df-generate');\n",
              "      buttonEl.style.display =\n",
              "        google.colab.kernel.accessAllowed ? 'block' : 'none';\n",
              "\n",
              "      buttonEl.onclick = () => {\n",
              "        google.colab.notebook.generateWithVariable('submission_df');\n",
              "      }\n",
              "      })();\n",
              "    </script>\n",
              "  </div>\n",
              "\n",
              "    </div>\n",
              "  </div>\n"
            ],
            "application/vnd.google.colaboratory.intrinsic+json": {
              "type": "dataframe",
              "variable_name": "submission_df",
              "summary": "{\n  \"name\": \"submission_df\",\n  \"rows\": 500,\n  \"fields\": [\n    {\n      \"column\": \"idx\",\n      \"properties\": {\n        \"dtype\": \"string\",\n        \"num_unique_values\": 500,\n        \"samples\": [\n          \"t_361\",\n          \"t_073\",\n          \"t_374\"\n        ],\n        \"semantic_type\": \"\",\n        \"description\": \"\"\n      }\n    },\n    {\n      \"column\": \"class\",\n      \"properties\": {\n        \"dtype\": \"number\",\n        \"std\": 1,\n        \"min\": 0,\n        \"max\": 4,\n        \"num_unique_values\": 5,\n        \"samples\": [\n          2,\n          4,\n          3\n        ],\n        \"semantic_type\": \"\",\n        \"description\": \"\"\n      }\n    }\n  ]\n}"
            }
          },
          "metadata": {}
        }
      ]
    },
    {
      "cell_type": "markdown",
      "source": [
        "## 제출 결과"
      ],
      "metadata": {
        "id": "Z4vV00lOze8e"
      }
    },
    {
      "cell_type": "markdown",
      "source": [
        "![image.png](data:image/png;base64,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)"
      ],
      "metadata": {
        "id": "tLk6kYwuzdlD"
      }
    }
  ]
}