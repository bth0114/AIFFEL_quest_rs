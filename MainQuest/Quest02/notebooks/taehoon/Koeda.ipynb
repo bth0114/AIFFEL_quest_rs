{
  "nbformat": 4,
  "nbformat_minor": 0,
  "metadata": {
    "colab": {
      "provenance": []
    },
    "kernelspec": {
      "name": "python3",
      "display_name": "Python 3"
    },
    "language_info": {
      "name": "python"
    }
  },
  "cells": [
    {
      "cell_type": "code",
      "execution_count": 6,
      "metadata": {
        "colab": {
          "base_uri": "https://localhost:8080/"
        },
        "id": "Lay2vcKWtaWf",
        "outputId": "f286c905-1f10-4994-d1d7-92d4a7302704"
      },
      "outputs": [
        {
          "output_type": "stream",
          "name": "stdout",
          "text": [
            "Requirement already satisfied: koeda in /usr/local/lib/python3.11/dist-packages (0.0.4)\n",
            "Requirement already satisfied: numpy>=1.19.4 in /usr/local/lib/python3.11/dist-packages (from koeda) (2.0.2)\n",
            "Requirement already satisfied: konlpy>=0.5.2 in /usr/local/lib/python3.11/dist-packages (from koeda) (0.6.0)\n",
            "Requirement already satisfied: tweepy==3.10.0 in /usr/local/lib/python3.11/dist-packages (from koeda) (3.10.0)\n",
            "Requirement already satisfied: requests>=2.11.1 in /usr/local/lib/python3.11/dist-packages (from requests[socks]>=2.11.1->tweepy==3.10.0->koeda) (2.32.3)\n",
            "Requirement already satisfied: requests-oauthlib>=0.7.0 in /usr/local/lib/python3.11/dist-packages (from tweepy==3.10.0->koeda) (2.0.0)\n",
            "Requirement already satisfied: six>=1.10.0 in /usr/local/lib/python3.11/dist-packages (from tweepy==3.10.0->koeda) (1.17.0)\n",
            "Requirement already satisfied: JPype1>=0.7.0 in /usr/local/lib/python3.11/dist-packages (from konlpy>=0.5.2->koeda) (1.5.2)\n",
            "Requirement already satisfied: lxml>=4.1.0 in /usr/local/lib/python3.11/dist-packages (from konlpy>=0.5.2->koeda) (5.4.0)\n",
            "Requirement already satisfied: packaging in /usr/local/lib/python3.11/dist-packages (from JPype1>=0.7.0->konlpy>=0.5.2->koeda) (24.2)\n",
            "Requirement already satisfied: charset-normalizer<4,>=2 in /usr/local/lib/python3.11/dist-packages (from requests>=2.11.1->requests[socks]>=2.11.1->tweepy==3.10.0->koeda) (3.4.1)\n",
            "Requirement already satisfied: idna<4,>=2.5 in /usr/local/lib/python3.11/dist-packages (from requests>=2.11.1->requests[socks]>=2.11.1->tweepy==3.10.0->koeda) (3.10)\n",
            "Requirement already satisfied: urllib3<3,>=1.21.1 in /usr/local/lib/python3.11/dist-packages (from requests>=2.11.1->requests[socks]>=2.11.1->tweepy==3.10.0->koeda) (2.4.0)\n",
            "Requirement already satisfied: certifi>=2017.4.17 in /usr/local/lib/python3.11/dist-packages (from requests>=2.11.1->requests[socks]>=2.11.1->tweepy==3.10.0->koeda) (2025.4.26)\n",
            "Requirement already satisfied: oauthlib>=3.0.0 in /usr/local/lib/python3.11/dist-packages (from requests-oauthlib>=0.7.0->tweepy==3.10.0->koeda) (3.2.2)\n",
            "Requirement already satisfied: PySocks!=1.5.7,>=1.5.6 in /usr/local/lib/python3.11/dist-packages (from requests[socks]>=2.11.1->tweepy==3.10.0->koeda) (1.7.1)\n",
            "증강 완료! 총 생성 문장 수: 6152\n"
          ]
        }
      ],
      "source": [
        "# 1. 설치 필요 (최초 1회만)\n",
        "!pip install koeda\n",
        "\n",
        "# 2. 라이브러리 임포트\n",
        "import pandas as pd\n",
        "from koeda import EDA\n",
        "\n",
        "# 3. 데이터 불러오기 (URL 또는 파일 경로로)\n",
        "url = \"https://raw.githubusercontent.com/bth0114/AIFFEL_DLThon_DKTC_online13/main/data/raw_csv/merged_train_train.csv\"\n",
        "df = pd.read_csv(url)\n",
        "\n",
        "# 4. 일반대화 제외\n",
        "df_target = df[df[\"class\"] != \"일반 대화\"].copy()\n",
        "\n",
        "# 5. KoEDA 설정\n",
        "eda = EDA(morpheme_analyzer=\"Okt\", alpha_sr=0.3, alpha_ri=0.3, alpha_rs=0.3, prob_rd=0.3)\n",
        "\n",
        "# 6. 증강 수행\n",
        "augmented_rows = []\n",
        "for _, row in df_target.iterrows():\n",
        "    text = row[\"conversation\"]\n",
        "    label = row[\"class\"]\n",
        "    try:\n",
        "        augmented_texts = eda(text, repetition=2)\n",
        "        for aug in augmented_texts:\n",
        "            augmented_rows.append({\"conversation\": aug, \"class\": label})\n",
        "    except Exception as e:\n",
        "        print(f\"오류: {e} - 원문: {text}\")\n",
        "\n",
        "# 7. DataFrame으로 변환 및 저장\n",
        "aug_df = pd.DataFrame(augmented_rows)\n",
        "aug_df.to_csv(\"augmented_excluding_normal_2times.csv\", index=False)\n",
        "print(\"증강 완료! 총 생성 문장 수:\", len(aug_df))\n",
        "\n"
      ]
    },
    {
      "cell_type": "code",
      "source": [
        "# 증강된 데이터프레임에서 클래스별 개수 확인\n",
        "aug_class_counts = aug_df[\"class\"].value_counts()\n",
        "print(aug_class_counts)\n"
      ],
      "metadata": {
        "colab": {
          "base_uri": "https://localhost:8080/"
        },
        "id": "pA1eI78vugZz",
        "outputId": "0cc26f12-cd9c-49b9-9a27-77ba5305a637"
      },
      "execution_count": 7,
      "outputs": [
        {
          "output_type": "stream",
          "name": "stdout",
          "text": [
            "class\n",
            "기타 괴롭힘 대화      1618\n",
            "갈취 대화          1556\n",
            "직장 내 괴롭힘 대화    1552\n",
            "협박 대화          1426\n",
            "Name: count, dtype: int64\n"
          ]
        }
      ]
    },
    {
      "cell_type": "code",
      "source": [
        "print(aug_df.head(10))"
      ],
      "metadata": {
        "colab": {
          "base_uri": "https://localhost:8080/"
        },
        "id": "tBZ3Y288usK8",
        "outputId": "32df5560-b5c8-4797-85b2-621729007f43"
      },
      "execution_count": 8,
      "outputs": [
        {
          "output_type": "stream",
          "name": "stdout",
          "text": [
            "                                        conversation        class\n",
            "0  가능성과장 라인 없습니다 타.님누가 회사 이끄는?건데.하면 아무래도 이건 부당한 것...  직장 내 괴롭힘 대화\n",
            "1  김 라인 타. 누가 회사 건데 아무래도 이건 부당한 것 김과장이 어쩔 건데 그러니까...  직장 내 괴롭힘 대화\n",
            "2  이게 어떻게 야.? 엄마 수술은 어떻게 된거냐고 엄마가 이제 괜찮다고 해서 딱 봐도...        협박 대화\n",
            "3  이게 어떻게 된거야.? 엄마 수술은 어떻게 된거냐고 엄마가 이제 괜찮다고 해서 딱 ...        협박 대화\n",
            "4  이사. 도사진. 그룹 않으실텐데요? 이 . 이사님눈치 여기냐이건오신거 다 없는 분 ...        갈취 대화\n",
            "5  이사님 이 사진. 않으실텐데요? 이. 이건. 이사 여기까지 오신거 다 장인어른 분 ...        갈취 대화\n",
            "6  지금 랑 고 한거야? 죽고싶어? 내가 헤어지자고 말하면 잘라 했지 무서워 입도 잘라...        협박 대화\n",
            "7  너 지금 나랑 비렁뱅이 헤어지자 비렁뱅이 고 한거야? 죽고싶어? 세대 소 그만하자 ...        협박 대화\n",
            "8  철수얘기씨 그렇잖아요그할 나와서 그 받고태어나도 만해면?말그게 살 말씀없을시죠 아니...    기타 괴롭힘 대화\n",
            "9  철거 씨는 그 학교 나와서 그 연봉 받고 살만해요? 그게 무슨 말씀이시죠? 아니 그...    기타 괴롭힘 대화\n"
          ]
        }
      ]
    },
    {
      "cell_type": "code",
      "source": [
        "from google.colab import files\n",
        "\n",
        "# 다운로드 실행\n",
        "files.download(\"augmented_excluding_normal_2times.csv\")\n"
      ],
      "metadata": {
        "colab": {
          "base_uri": "https://localhost:8080/",
          "height": 17
        },
        "id": "HKno-jngyxBz",
        "outputId": "e503a0f0-bd45-43b4-f63e-9ede812e1c92"
      },
      "execution_count": 9,
      "outputs": [
        {
          "output_type": "display_data",
          "data": {
            "text/plain": [
              "<IPython.core.display.Javascript object>"
            ],
            "application/javascript": [
              "\n",
              "    async function download(id, filename, size) {\n",
              "      if (!google.colab.kernel.accessAllowed) {\n",
              "        return;\n",
              "      }\n",
              "      const div = document.createElement('div');\n",
              "      const label = document.createElement('label');\n",
              "      label.textContent = `Downloading \"${filename}\": `;\n",
              "      div.appendChild(label);\n",
              "      const progress = document.createElement('progress');\n",
              "      progress.max = size;\n",
              "      div.appendChild(progress);\n",
              "      document.body.appendChild(div);\n",
              "\n",
              "      const buffers = [];\n",
              "      let downloaded = 0;\n",
              "\n",
              "      const channel = await google.colab.kernel.comms.open(id);\n",
              "      // Send a message to notify the kernel that we're ready.\n",
              "      channel.send({})\n",
              "\n",
              "      for await (const message of channel.messages) {\n",
              "        // Send a message to notify the kernel that we're ready.\n",
              "        channel.send({})\n",
              "        if (message.buffers) {\n",
              "          for (const buffer of message.buffers) {\n",
              "            buffers.push(buffer);\n",
              "            downloaded += buffer.byteLength;\n",
              "            progress.value = downloaded;\n",
              "          }\n",
              "        }\n",
              "      }\n",
              "      const blob = new Blob(buffers, {type: 'application/binary'});\n",
              "      const a = document.createElement('a');\n",
              "      a.href = window.URL.createObjectURL(blob);\n",
              "      a.download = filename;\n",
              "      div.appendChild(a);\n",
              "      a.click();\n",
              "      div.remove();\n",
              "    }\n",
              "  "
            ]
          },
          "metadata": {}
        },
        {
          "output_type": "display_data",
          "data": {
            "text/plain": [
              "<IPython.core.display.Javascript object>"
            ],
            "application/javascript": [
              "download(\"download_be778d80-6fb2-47fd-ab63-af7dfb9b80d5\", \"augmented_excluding_normal_2times.csv\", 3512648)"
            ]
          },
          "metadata": {}
        }
      ]
    }
  ]
}