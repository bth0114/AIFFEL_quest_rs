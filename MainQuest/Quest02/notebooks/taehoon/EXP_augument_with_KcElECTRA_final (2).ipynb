{
 "cells": [
  {
   "cell_type": "code",
   "execution_count": 2,
   "metadata": {
    "colab": {
     "base_uri": "https://localhost:8080/",
     "height": 891
    },
    "id": "g7n_CnUugRsZ",
    "outputId": "878c74a2-7b3f-4da3-9c79-c7b1b42a6074"
   },
   "outputs": [
    {
     "name": "stdout",
     "output_type": "stream",
     "text": [
      "Collecting konlpy\n",
      "  Downloading konlpy-0.6.0-py2.py3-none-any.whl.metadata (1.9 kB)\n",
      "Collecting JPype1>=0.7.0 (from konlpy)\n",
      "  Downloading jpype1-1.5.2-cp311-cp311-manylinux_2_17_x86_64.manylinux2014_x86_64.whl.metadata (4.9 kB)\n",
      "Requirement already satisfied: lxml>=4.1.0 in /usr/local/lib/python3.11/dist-packages (from konlpy) (5.4.0)\n",
      "Requirement already satisfied: numpy>=1.6 in /usr/local/lib/python3.11/dist-packages (from konlpy) (2.0.2)\n",
      "Requirement already satisfied: packaging in /usr/local/lib/python3.11/dist-packages (from JPype1>=0.7.0->konlpy) (24.2)\n",
      "Downloading konlpy-0.6.0-py2.py3-none-any.whl (19.4 MB)\n",
      "\u001b[2K   \u001b[90m━━━━━━━━━━━━━━━━━━━━━━━━━━━━━━━━━━━━━━━━\u001b[0m \u001b[32m19.4/19.4 MB\u001b[0m \u001b[31m96.1 MB/s\u001b[0m eta \u001b[36m0:00:00\u001b[0m\n",
      "\u001b[?25hDownloading jpype1-1.5.2-cp311-cp311-manylinux_2_17_x86_64.manylinux2014_x86_64.whl (494 kB)\n",
      "\u001b[2K   \u001b[90m━━━━━━━━━━━━━━━━━━━━━━━━━━━━━━━━━━━━━━━━\u001b[0m \u001b[32m494.1/494.1 kB\u001b[0m \u001b[31m44.1 MB/s\u001b[0m eta \u001b[36m0:00:00\u001b[0m\n",
      "\u001b[?25hInstalling collected packages: JPype1, konlpy\n",
      "Successfully installed JPype1-1.5.2 konlpy-0.6.0\n",
      "Requirement already satisfied: wandb in /usr/local/lib/python3.11/dist-packages (0.19.10)\n",
      "Requirement already satisfied: click!=8.0.0,>=7.1 in /usr/local/lib/python3.11/dist-packages (from wandb) (8.1.8)\n",
      "Requirement already satisfied: docker-pycreds>=0.4.0 in /usr/local/lib/python3.11/dist-packages (from wandb) (0.4.0)\n",
      "Requirement already satisfied: gitpython!=3.1.29,>=1.0.0 in /usr/local/lib/python3.11/dist-packages (from wandb) (3.1.44)\n",
      "Requirement already satisfied: platformdirs in /usr/local/lib/python3.11/dist-packages (from wandb) (4.3.7)\n",
      "Requirement already satisfied: protobuf!=4.21.0,!=5.28.0,<7,>=3.19.0 in /usr/local/lib/python3.11/dist-packages (from wandb) (5.29.4)\n",
      "Requirement already satisfied: psutil>=5.0.0 in /usr/local/lib/python3.11/dist-packages (from wandb) (5.9.5)\n",
      "Requirement already satisfied: pydantic<3 in /usr/local/lib/python3.11/dist-packages (from wandb) (2.11.3)\n",
      "Requirement already satisfied: pyyaml in /usr/local/lib/python3.11/dist-packages (from wandb) (6.0.2)\n",
      "Requirement already satisfied: requests<3,>=2.0.0 in /usr/local/lib/python3.11/dist-packages (from wandb) (2.32.3)\n",
      "Requirement already satisfied: sentry-sdk>=2.0.0 in /usr/local/lib/python3.11/dist-packages (from wandb) (2.27.0)\n",
      "Requirement already satisfied: setproctitle in /usr/local/lib/python3.11/dist-packages (from wandb) (1.3.6)\n",
      "Requirement already satisfied: setuptools in /usr/local/lib/python3.11/dist-packages (from wandb) (75.2.0)\n",
      "Requirement already satisfied: typing-extensions<5,>=4.4 in /usr/local/lib/python3.11/dist-packages (from wandb) (4.13.2)\n",
      "Requirement already satisfied: six>=1.4.0 in /usr/local/lib/python3.11/dist-packages (from docker-pycreds>=0.4.0->wandb) (1.17.0)\n",
      "Requirement already satisfied: gitdb<5,>=4.0.1 in /usr/local/lib/python3.11/dist-packages (from gitpython!=3.1.29,>=1.0.0->wandb) (4.0.12)\n",
      "Requirement already satisfied: annotated-types>=0.6.0 in /usr/local/lib/python3.11/dist-packages (from pydantic<3->wandb) (0.7.0)\n",
      "Requirement already satisfied: pydantic-core==2.33.1 in /usr/local/lib/python3.11/dist-packages (from pydantic<3->wandb) (2.33.1)\n",
      "Requirement already satisfied: typing-inspection>=0.4.0 in /usr/local/lib/python3.11/dist-packages (from pydantic<3->wandb) (0.4.0)\n",
      "Requirement already satisfied: charset-normalizer<4,>=2 in /usr/local/lib/python3.11/dist-packages (from requests<3,>=2.0.0->wandb) (3.4.1)\n",
      "Requirement already satisfied: idna<4,>=2.5 in /usr/local/lib/python3.11/dist-packages (from requests<3,>=2.0.0->wandb) (3.10)\n",
      "Requirement already satisfied: urllib3<3,>=1.21.1 in /usr/local/lib/python3.11/dist-packages (from requests<3,>=2.0.0->wandb) (2.4.0)\n",
      "Requirement already satisfied: certifi>=2017.4.17 in /usr/local/lib/python3.11/dist-packages (from requests<3,>=2.0.0->wandb) (2025.4.26)\n",
      "Requirement already satisfied: smmap<6,>=3.0.1 in /usr/local/lib/python3.11/dist-packages (from gitdb<5,>=4.0.1->gitpython!=3.1.29,>=1.0.0->wandb) (5.0.2)\n"
     ]
    },
    {
     "data": {
      "application/javascript": [
       "\n",
       "        window._wandbApiKey = new Promise((resolve, reject) => {\n",
       "            function loadScript(url) {\n",
       "            return new Promise(function(resolve, reject) {\n",
       "                let newScript = document.createElement(\"script\");\n",
       "                newScript.onerror = reject;\n",
       "                newScript.onload = resolve;\n",
       "                document.body.appendChild(newScript);\n",
       "                newScript.src = url;\n",
       "            });\n",
       "            }\n",
       "            loadScript(\"https://cdn.jsdelivr.net/npm/postmate/build/postmate.min.js\").then(() => {\n",
       "            const iframe = document.createElement('iframe')\n",
       "            iframe.style.cssText = \"width:0;height:0;border:none\"\n",
       "            document.body.appendChild(iframe)\n",
       "            const handshake = new Postmate({\n",
       "                container: iframe,\n",
       "                url: 'https://wandb.ai/authorize'\n",
       "            });\n",
       "            const timeout = setTimeout(() => reject(\"Couldn't auto authenticate\"), 5000)\n",
       "            handshake.then(function(child) {\n",
       "                child.on('authorize', data => {\n",
       "                    clearTimeout(timeout)\n",
       "                    resolve(data)\n",
       "                });\n",
       "            });\n",
       "            })\n",
       "        });\n",
       "    "
      ],
      "text/plain": [
       "<IPython.core.display.Javascript object>"
      ]
     },
     "metadata": {},
     "output_type": "display_data"
    },
    {
     "name": "stderr",
     "output_type": "stream",
     "text": [
      "\u001b[34m\u001b[1mwandb\u001b[0m: Logging into wandb.ai. (Learn how to deploy a W&B server locally: https://wandb.me/wandb-server)\n",
      "\u001b[34m\u001b[1mwandb\u001b[0m: You can find your API key in your browser here: https://wandb.ai/authorize\n",
      "wandb: Paste an API key from your profile and hit enter:"
     ]
    },
    {
     "name": "stdout",
     "output_type": "stream",
     "text": [
      " ··········\n"
     ]
    },
    {
     "name": "stderr",
     "output_type": "stream",
     "text": [
      "\u001b[34m\u001b[1mwandb\u001b[0m: \u001b[33mWARNING\u001b[0m If you're specifying your api key in code, ensure this code is not shared publicly.\n",
      "\u001b[34m\u001b[1mwandb\u001b[0m: \u001b[33mWARNING\u001b[0m Consider setting the WANDB_API_KEY environment variable, or running `wandb login` from the command line.\n",
      "\u001b[34m\u001b[1mwandb\u001b[0m: No netrc file found, creating one.\n",
      "\u001b[34m\u001b[1mwandb\u001b[0m: Appending key for api.wandb.ai to your netrc file: /root/.netrc\n",
      "\u001b[34m\u001b[1mwandb\u001b[0m: Currently logged in as: \u001b[33mbth0114\u001b[0m (\u001b[33mjiwoong-team\u001b[0m) to \u001b[32mhttps://api.wandb.ai\u001b[0m. Use \u001b[1m`wandb login --relogin`\u001b[0m to force relogin\n"
     ]
    },
    {
     "data": {
      "text/plain": [
       "True"
      ]
     },
     "execution_count": 2,
     "metadata": {},
     "output_type": "execute_result"
    }
   ],
   "source": [
    "!pip install konlpy\n",
    "!pip install wandb\n",
    "import os\n",
    "import re\n",
    "import pandas as pd\n",
    "import numpy as np\n",
    "import tensorflow as tf\n",
    "import matplotlib.pyplot as plt\n",
    "from konlpy.tag import Okt\n",
    "from sklearn.model_selection import train_test_split\n",
    "from sklearn.metrics import classification_report, confusion_matrix\n",
    "from keras.callbacks import ModelCheckpoint, EarlyStopping\n",
    "from tensorflow.keras.preprocessing.text import Tokenizer\n",
    "from tensorflow.keras.preprocessing.sequence import pad_sequences\n",
    "\n",
    "\n",
    "import wandb\n",
    "from wandb.integration.keras.callbacks import WandbMetricsLogger\n",
    "wandb.login()"
   ]
  },
  {
   "cell_type": "code",
   "execution_count": 3,
   "metadata": {
    "id": "OiHDX_acgdUS"
   },
   "outputs": [],
   "source": [
    "from sklearn.model_selection import train_test_split\n",
    "from sklearn.preprocessing import LabelEncoder\n",
    "\n",
    "#학습 데이터 경로\n",
    "train_paths = {\n",
    "    \"eda_normal_conversation\":  \"https://raw.githubusercontent.com/bth0114/AIFFEL_DLThon_DKTC_online13/main/data/aug_csv/eda_normal_conversation.csv\",\n",
    "    \"conversations_aihub\": \"https://raw.githubusercontent.com/bth0114/AIFFEL_DLThon_DKTC_online13/main/data/raw_csv/conversations_aihub.csv\",\n",
    "    \"merged_train\": \"https://raw.githubusercontent.com/bth0114/AIFFEL_DLThon_DKTC_online13/main/data/raw_csv/merged_train.csv\",\n",
    "    \"merged_train_train\": \"https://raw.githubusercontent.com/bth0114/AIFFEL_DLThon_DKTC_online13/main/data/raw_csv/merged_train_train.csv\",\n",
    "    \"merged_train_val\": \"https://raw.githubusercontent.com/bth0114/AIFFEL_DLThon_DKTC_online13/main/data/raw_csv/merged_train_val.csv\",\n",
    "    \"aug_synonym_train_only\" : \"https://raw.githubusercontent.com/bth0114/AIFFEL_DLThon_DKTC_online13/main/data/aug_csv/aug_synonym_train_only.csv\",\n",
    "    \"aug_KoEDA_train_only\":\"https://raw.githubusercontent.com/bth0114/AIFFEL_DLThon_DKTC_online13/main/data/aug_csv/aug_KoEDA_train_only.csv\",\n",
    "    \"aug_plus\": \"https://raw.githubusercontent.com/bth0114/AIFFEL_DLThon_DKTC_online13/main/data/aug_csv/aug_plus_train.csv\",\n",
    "    \"aug_synonym\": \"https://raw.githubusercontent.com/bth0114/AIFFEL_DLThon_DKTC_online13/main/data/aug_csv/aug_synonym_train_only.csv\",\n",
    "    \"eda_only\": \"https://raw.githubusercontent.com/bth0114/AIFFEL_DLThon_DKTC_online13/main/data/aug_csv/eda_only.csv\",\n",
    "    \"final_allclass\": \"https://raw.githubusercontent.com/bth0114/AIFFEL_DLThon_DKTC_online13/main/data/aug_csv/final_train_allclass_eda.csv\"\n",
    "\n",
    "}\n",
    "\n",
    "# 제출용 test 데이터 경로\n",
    "test_url = \"https://raw.githubusercontent.com/bth0114/AIFFEL_DLThon_DKTC_online13/main/data/raw_csv/test.csv\""
   ]
  },
  {
   "cell_type": "code",
   "execution_count": 4,
   "metadata": {
    "id": "87qaBFIDgeDD"
   },
   "outputs": [],
   "source": [
    "# 1. 데이터 불러오기\n",
    "df_merged_train_train = pd.read_csv(train_paths[\"merged_train_train\"])\n",
    "df_merged_train_val = pd.read_csv(train_paths[\"merged_train_val\"])\n",
    "df_conversations_aihub = pd.read_csv(train_paths[\"conversations_aihub\"])\n",
    "df_syn = pd.read_csv(train_paths[\"aug_synonym\"])\n",
    "df_eda = pd.read_csv(train_paths[\"eda_only\"])\n",
    "df_syn_only = pd.read_csv(train_paths[\"aug_synonym_train_only\"])\n",
    "df_eda_only = pd.read_csv(train_paths[\"aug_KoEDA_train_only\"])\n",
    "df_eda_normal_conversation=pd.read_csv(train_paths[\"eda_normal_conversation\"])"
   ]
  },
  {
   "cell_type": "code",
   "execution_count": 5,
   "metadata": {
    "id": "_KNkKbzuge7b"
   },
   "outputs": [],
   "source": [
    "# 2. 라벨 인코딩\n",
    "\n",
    "# 원하는 정수 순서 지정\n",
    "custom_label_order = {\n",
    "    '협박 대화': 0,\n",
    "    '갈취 대화': 1,\n",
    "    '직장 내 괴롭힘 대화': 2,\n",
    "    '기타 괴롭힘 대화': 3,\n",
    "    '일반 대화': 4\n",
    "}\n",
    "\n",
    "# 원-핫이 아니라 문자열 클래스인 경우 바로 정수로 변환\n",
    "y_train_int = df_merged_train_train['class'].map(custom_label_order).values\n",
    "y_val_int = df_merged_train_val['class'].map(custom_label_order).values"
   ]
  },
  {
   "cell_type": "code",
   "execution_count": 6,
   "metadata": {
    "id": "Y4q8tHU7gfHu"
   },
   "outputs": [],
   "source": [
    "# 훈련셋,검증셋 분리\n",
    "\n",
    "# 1. 입력 텍스트\n",
    "X_train_raw = df_merged_train_train[\"conversation\"]\n",
    "X_val_raw = df_merged_train_val[\"conversation\"]\n",
    "\n",
    "# 2. 클래스 → 정수 인코딩\n",
    "y_train = df_merged_train_train[\"class\"].map(custom_label_order).values\n",
    "y_val = df_merged_train_val[\"class\"].map(custom_label_order).values"
   ]
  },
  {
   "cell_type": "code",
   "execution_count": 7,
   "metadata": {
    "colab": {
     "base_uri": "https://localhost:8080/"
    },
    "id": "KurP5msRgfQ2",
    "outputId": "0285029b-7113-49fa-9339-f907b588d286"
   },
   "outputs": [
    {
     "name": "stdout",
     "output_type": "stream",
     "text": [
      "샘플 수\n",
      "X1: 3709, X2: 11127\n"
     ]
    }
   ],
   "source": [
    "X_eda_only = df_eda_only['conversation'].tolist()\n",
    "X_eda_conversation = df_eda_normal_conversation['conversation'].tolist()\n",
    "y_eda_only = df_eda_only['class'].map(custom_label_order).values\n",
    "y_eda_conversation = df_eda_normal_conversation['class'].map(custom_label_order).values\n",
    "# 조합 생성\n",
    "X1 = X_train_raw.tolist()\n",
    "y1 = y_train\n",
    "\n",
    "X2 = X1 + X_eda_only + X_eda_conversation\n",
    "y2 = np.concatenate([y_train, y_eda_only,y_eda_conversation])\n",
    "\n",
    "# 예시 확인\n",
    "print(f\"샘플 수\\nX1: {len(X1)}, X2: {len(X2)}\")"
   ]
  },
  {
   "cell_type": "code",
   "execution_count": 9,
   "metadata": {
    "id": "Ekt__5yHgfaL"
   },
   "outputs": [],
   "source": [
    "df_kakao_16000 = pd.read_csv(train_paths[\"conversations_aihub\"]).iloc[:16000]\n",
    "df_kakao_8000 = pd.read_csv(train_paths[\"conversations_aihub\"]).iloc[:8000]\n",
    "df_kakao_2000 = pd.read_csv(train_paths[\"conversations_aihub\"]).iloc[:2000]\n",
    "df_kakao_1000 = pd.read_csv(train_paths[\"conversations_aihub\"]).iloc[:1000]\n",
    "\n",
    "df_raw = df_merged_train_train[df_merged_train_train['class'] != '일반 대화'] # 일반 대화 샘플 삭제\n",
    "\n",
    "df_combined_16000 = pd.concat([df_raw, df_eda_only, df_kakao_16000], ignore_index=True)\n",
    "df_combined_8000 = pd.concat([df_raw, df_eda_only, df_kakao_8000], ignore_index=True)\n",
    "df_combined_2000 = pd.concat([df_raw, df_eda_only, df_kakao_2000], ignore_index=True)\n",
    "df_combined_1000 = pd.concat([df_raw, df_kakao_1000], ignore_index=True)\n"
   ]
  },
  {
   "cell_type": "code",
   "execution_count": 10,
   "metadata": {
    "colab": {
     "base_uri": "https://localhost:8080/"
    },
    "id": "X96pdTUZnqhl",
    "outputId": "967a8a56-b371-4f94-d02d-52c32c1164a6"
   },
   "outputs": [
    {
     "name": "stdout",
     "output_type": "stream",
     "text": [
      "샘플 수\n",
      "X3: 4076, X4: 11228, X5: 17228, X6: 25228\n"
     ]
    }
   ],
   "source": [
    "X_eda_only = df_eda_only['conversation'].tolist()\n",
    "X_eda_conversation = df_eda_normal_conversation['conversation'].tolist()\n",
    "y_eda_only = df_eda_only['class'].map(custom_label_order).values\n",
    "y_eda_conversation = df_eda_normal_conversation['class'].map(custom_label_order).values\n",
    "\n",
    "\n",
    "# 조합 생성\n",
    "X3 = df_combined_1000['conversation'].tolist()\n",
    "y3 = df_combined_1000['class'].map(custom_label_order).values\n",
    "\n",
    "X4 = df_combined_2000['conversation'].tolist()\n",
    "y4 = df_combined_2000['class'].map(custom_label_order).values\n",
    "\n",
    "X5 = df_combined_8000['conversation'].tolist()\n",
    "y5 = df_combined_8000['class'].map(custom_label_order).values\n",
    "\n",
    "X6 = df_combined_16000['conversation'].tolist()\n",
    "y6 = df_combined_16000['class'].map(custom_label_order).values\n",
    "\n",
    "# 예시 확인\n",
    "print(f\"샘플 수\\nX3: {len(X3)}, X4: {len(X4)}, X5: {len(X5)}, X6: {len(X6)}\")"
   ]
  },
  {
   "cell_type": "code",
   "execution_count": 11,
   "metadata": {
    "colab": {
     "base_uri": "https://localhost:8080/",
     "height": 674,
     "referenced_widgets": [
      "3ae88b736f65448ea7721017484f8fc2",
      "a1d43b9e174543409b3457055e14dd9a",
      "0fc3f6dbcaf54e4e9e91d909a40185d5",
      "c6f885c1198f42a4ab589588aec9dc98",
      "1c833a6b0217459089edf5ae1d75b4b8",
      "c25359dcbddb440b921d527f18ea237e",
      "c6803d8ad83042e59061d9aa5775bda7",
      "3cc05041e8a84ce2b8a5c1a3c1382a01",
      "c3733b32b07e4ba5932b6b9e17d6b75a",
      "a22f10ba35e84592884f8886150f8b2f",
      "ec074278b7d64d2c9c2ce43ea5b4070e",
      "11314054e5664613b43fdf20a80d0914",
      "4117f9143ee24b4daaff2e84edf5a666",
      "4e0b5c28dff14ba38f96750130c27a56",
      "f321e9f05c774252b18f45ab517ba36b",
      "e5007332e3da4296a7ae9458df516765",
      "442e5731147b459d9280acee166673f9",
      "601fb2ec7a3945de9e8b47f45c66a704",
      "d44a0b02b7034dcb9571ea60e349b46b",
      "bae58d34fcbc46419f1c3d4060442d8b",
      "a0c24909a40d40a09706922712a1498c",
      "e610286c59a3483a8a7350f00b8575ca",
      "c676e054ffc347ec94da9b38f69e29d5",
      "1e1f756e80914fc780d433ad5da4b87c",
      "75da0d5978374887b7c4c1975e677afc",
      "36c5ce4e348b4383bf666cd7fac72565",
      "f114a0aef373406aaae044065214ff26",
      "ca2ecc0b1c6e46c090974bc82e3531b8",
      "5f9ba1e4ca5a44b2b6529a8a2db5151b",
      "b6f2cc574d1549b6a494096353a98a67",
      "704044cc4f8c4879ae80671f00e96d25",
      "1176edcac7bc4ee0bbd1343439bc989a",
      "54cefa35678d4fd58c8bd9f3d325aba0",
      "609d225a462e47da8f4d0bc440f72893",
      "63a8dc4a020c442c93103510aff14d9d",
      "b2ebe7e8f73d4cf798ad623b2b34ab6e",
      "080b1451bbe541059681120f8527fe0b",
      "103444d2d25646c1b8e1fe8b6ddb164e",
      "0ec3f8257943478480a533851734f889",
      "49e2187502ae4113b4de2a0ee479a716",
      "2725a452164540c99eb109a2fa8917e6",
      "9490e5938708498c9a00d01b935ba430",
      "78b5870b573648d99829cf5a8eb562e4",
      "e25340ca362946279dcdc61466608383",
      "2e915a060ed04c6d92d2f83ded2d629a",
      "e1b54248ccf4428fa2a549056032f2f8",
      "178c4395f01f46318cf06b5bc73aeb31",
      "a6cbd6da7f87494ab7315660e295045a",
      "5158c3465ed640beae2c4a8cd3631ad0",
      "338a63eb49724dd9adf3e1c28cc28b1c",
      "1a519b062031409cbc0fa2c0e138debc",
      "4818e772115842bf920cc32dceb80e39",
      "1a5e686610e94e22a7061cb84f0da2d1",
      "e04d97a7e87a432ba78a0a4a64aac512",
      "76c9cd4702684b4f9592bae04996e6ed",
      "22d136762a0347079bf097b1f1142b2a",
      "60846c2e5c764396a261e2f328caf6d7",
      "1f9e3c76734c403984bbf156a4ad401b",
      "5e8838b8833a4083ac7b7d46fb218227",
      "feb9476534884a31bb5f8c1ea292bce4",
      "74cfc491bcef4208ba4206a1afbfa0de",
      "01ef5ab80a4e4e9d84ee480478f25282",
      "e821306aa20040b4bd43dd16a6d8af17",
      "c085f1ced15f49d9be5e81a723e397de",
      "390cabe0e186477198d04ef293819f8c",
      "7aa4f6a5a9a44b4da36281c371203d12"
     ]
    },
    "id": "gP_yLG5Zs930",
    "outputId": "68b3531e-4e87-4432-b04e-ec5e17d220fa"
   },
   "outputs": [
    {
     "name": "stdout",
     "output_type": "stream",
     "text": [
      "\u001b[2K   \u001b[90m━━━━━━━━━━━━━━━━━━━━━━━━━━━━━━━━━━━━━━━━\u001b[0m \u001b[32m491.4/491.4 kB\u001b[0m \u001b[31m13.4 MB/s\u001b[0m eta \u001b[36m0:00:00\u001b[0m\n",
      "\u001b[2K   \u001b[90m━━━━━━━━━━━━━━━━━━━━━━━━━━━━━━━━━━━━━━━━\u001b[0m \u001b[32m116.3/116.3 kB\u001b[0m \u001b[31m8.5 MB/s\u001b[0m eta \u001b[36m0:00:00\u001b[0m\n",
      "\u001b[2K   \u001b[90m━━━━━━━━━━━━━━━━━━━━━━━━━━━━━━━━━━━━━━━━\u001b[0m \u001b[32m193.6/193.6 kB\u001b[0m \u001b[31m16.4 MB/s\u001b[0m eta \u001b[36m0:00:00\u001b[0m\n",
      "\u001b[2K   \u001b[90m━━━━━━━━━━━━━━━━━━━━━━━━━━━━━━━━━━━━━━━━\u001b[0m \u001b[32m143.5/143.5 kB\u001b[0m \u001b[31m13.4 MB/s\u001b[0m eta \u001b[36m0:00:00\u001b[0m\n",
      "\u001b[2K   \u001b[90m━━━━━━━━━━━━━━━━━━━━━━━━━━━━━━━━━━━━━━━━\u001b[0m \u001b[32m194.8/194.8 kB\u001b[0m \u001b[31m17.7 MB/s\u001b[0m eta \u001b[36m0:00:00\u001b[0m\n",
      "\u001b[?25h\u001b[31mERROR: pip's dependency resolver does not currently take into account all the packages that are installed. This behaviour is the source of the following dependency conflicts.\n",
      "torch 2.6.0+cu124 requires nvidia-cublas-cu12==12.4.5.8; platform_system == \"Linux\" and platform_machine == \"x86_64\", but you have nvidia-cublas-cu12 12.5.3.2 which is incompatible.\n",
      "torch 2.6.0+cu124 requires nvidia-cuda-cupti-cu12==12.4.127; platform_system == \"Linux\" and platform_machine == \"x86_64\", but you have nvidia-cuda-cupti-cu12 12.5.82 which is incompatible.\n",
      "torch 2.6.0+cu124 requires nvidia-cuda-nvrtc-cu12==12.4.127; platform_system == \"Linux\" and platform_machine == \"x86_64\", but you have nvidia-cuda-nvrtc-cu12 12.5.82 which is incompatible.\n",
      "torch 2.6.0+cu124 requires nvidia-cuda-runtime-cu12==12.4.127; platform_system == \"Linux\" and platform_machine == \"x86_64\", but you have nvidia-cuda-runtime-cu12 12.5.82 which is incompatible.\n",
      "torch 2.6.0+cu124 requires nvidia-cudnn-cu12==9.1.0.70; platform_system == \"Linux\" and platform_machine == \"x86_64\", but you have nvidia-cudnn-cu12 9.3.0.75 which is incompatible.\n",
      "torch 2.6.0+cu124 requires nvidia-cufft-cu12==11.2.1.3; platform_system == \"Linux\" and platform_machine == \"x86_64\", but you have nvidia-cufft-cu12 11.2.3.61 which is incompatible.\n",
      "torch 2.6.0+cu124 requires nvidia-curand-cu12==10.3.5.147; platform_system == \"Linux\" and platform_machine == \"x86_64\", but you have nvidia-curand-cu12 10.3.6.82 which is incompatible.\n",
      "torch 2.6.0+cu124 requires nvidia-cusolver-cu12==11.6.1.9; platform_system == \"Linux\" and platform_machine == \"x86_64\", but you have nvidia-cusolver-cu12 11.6.3.83 which is incompatible.\n",
      "torch 2.6.0+cu124 requires nvidia-cusparse-cu12==12.3.1.170; platform_system == \"Linux\" and platform_machine == \"x86_64\", but you have nvidia-cusparse-cu12 12.5.1.3 which is incompatible.\n",
      "torch 2.6.0+cu124 requires nvidia-nvjitlink-cu12==12.4.127; platform_system == \"Linux\" and platform_machine == \"x86_64\", but you have nvidia-nvjitlink-cu12 12.5.82 which is incompatible.\n",
      "gcsfs 2025.3.2 requires fsspec==2025.3.2, but you have fsspec 2025.3.0 which is incompatible.\u001b[0m\u001b[31m\n",
      "\u001b[0m"
     ]
    },
    {
     "name": "stderr",
     "output_type": "stream",
     "text": [
      "/usr/local/lib/python3.11/dist-packages/huggingface_hub/utils/_auth.py:94: UserWarning: \n",
      "The secret `HF_TOKEN` does not exist in your Colab secrets.\n",
      "To authenticate with the Hugging Face Hub, create a token in your settings tab (https://huggingface.co/settings/tokens), set it as secret in your Google Colab and restart your session.\n",
      "You will be able to reuse this secret in all of your notebooks.\n",
      "Please note that authentication is recommended but still optional to access public models or datasets.\n",
      "  warnings.warn(\n"
     ]
    },
    {
     "data": {
      "application/vnd.jupyter.widget-view+json": {
       "model_id": "3ae88b736f65448ea7721017484f8fc2",
       "version_major": 2,
       "version_minor": 0
      },
      "text/plain": [
       "tokenizer_config.json:   0%|          | 0.00/288 [00:00<?, ?B/s]"
      ]
     },
     "metadata": {},
     "output_type": "display_data"
    },
    {
     "data": {
      "application/vnd.jupyter.widget-view+json": {
       "model_id": "11314054e5664613b43fdf20a80d0914",
       "version_major": 2,
       "version_minor": 0
      },
      "text/plain": [
       "config.json:   0%|          | 0.00/504 [00:00<?, ?B/s]"
      ]
     },
     "metadata": {},
     "output_type": "display_data"
    },
    {
     "data": {
      "application/vnd.jupyter.widget-view+json": {
       "model_id": "c676e054ffc347ec94da9b38f69e29d5",
       "version_major": 2,
       "version_minor": 0
      },
      "text/plain": [
       "vocab.txt:   0%|          | 0.00/450k [00:00<?, ?B/s]"
      ]
     },
     "metadata": {},
     "output_type": "display_data"
    },
    {
     "data": {
      "application/vnd.jupyter.widget-view+json": {
       "model_id": "609d225a462e47da8f4d0bc440f72893",
       "version_major": 2,
       "version_minor": 0
      },
      "text/plain": [
       "special_tokens_map.json:   0%|          | 0.00/124 [00:00<?, ?B/s]"
      ]
     },
     "metadata": {},
     "output_type": "display_data"
    },
    {
     "data": {
      "application/vnd.jupyter.widget-view+json": {
       "model_id": "2e915a060ed04c6d92d2f83ded2d629a",
       "version_major": 2,
       "version_minor": 0
      },
      "text/plain": [
       "pytorch_model.bin:   0%|          | 0.00/511M [00:00<?, ?B/s]"
      ]
     },
     "metadata": {},
     "output_type": "display_data"
    },
    {
     "name": "stderr",
     "output_type": "stream",
     "text": [
      "Some weights of ElectraForSequenceClassification were not initialized from the model checkpoint at beomi/KcELECTRA-base-v2022 and are newly initialized: ['classifier.dense.bias', 'classifier.dense.weight', 'classifier.out_proj.bias', 'classifier.out_proj.weight']\n",
      "You should probably TRAIN this model on a down-stream task to be able to use it for predictions and inference.\n"
     ]
    },
    {
     "data": {
      "application/vnd.jupyter.widget-view+json": {
       "model_id": "22d136762a0347079bf097b1f1142b2a",
       "version_major": 2,
       "version_minor": 0
      },
      "text/plain": [
       "model.safetensors:   0%|          | 0.00/511M [00:00<?, ?B/s]"
      ]
     },
     "metadata": {},
     "output_type": "display_data"
    }
   ],
   "source": [
    "!pip install datasets transformers scikit-learn --quiet\n",
    "\n",
    "import pandas as pd\n",
    "import numpy as np\n",
    "import torch\n",
    "from datasets import Dataset\n",
    "from transformers import (\n",
    "    AutoTokenizer,\n",
    "    ElectraForSequenceClassification,\n",
    "    Trainer,\n",
    "    TrainingArguments,\n",
    "    DataCollatorWithPadding\n",
    ")\n",
    "from sklearn.metrics import accuracy_score, f1_score, classification_report\n",
    "from tensorflow.keras.utils import to_categorical\n",
    "\n",
    "# 모델 설정\n",
    "MODEL_NAME = \"beomi/KcELECTRA-base-v2022\"\n",
    "tokenizer = AutoTokenizer.from_pretrained(MODEL_NAME)\n",
    "device = torch.device(\"cuda\" if torch.cuda.is_available() else \"cpu\")\n",
    "model = ElectraForSequenceClassification.from_pretrained(MODEL_NAME, num_labels=5).to(device)\n",
    "\n",
    "# 전처리 함수\n",
    "def preprocessing(texts, tokenizer, padded_max_len):\n",
    "    encodings = tokenizer(\n",
    "        texts,\n",
    "        truncation=True,\n",
    "        padding='max_length',\n",
    "        max_length=padded_max_len,\n",
    "        return_tensors='tf'\n",
    "    )\n",
    "    return {\n",
    "        'input_ids': encodings['input_ids'],\n",
    "        'attention_mask': encodings['attention_mask']\n",
    "    }\n",
    "\n",
    "# 토크나이즈 함수 (huggingface Trainer용)\n",
    "def tokenize_function(examples):\n",
    "    return tokenizer(\n",
    "        examples[\"text\"],\n",
    "        padding=\"max_length\",\n",
    "        truncation=True,\n",
    "        max_length=128\n",
    "    )\n",
    "\n",
    "# 데이터프레임 전처리 함수\n",
    "def preprocess_train(df):\n",
    "    df.columns = df.columns.str.strip().str.lower()\n",
    "    df[\"label\"] = df[\"class\"].map(custom_label_order)  # Dict 필요\n",
    "    return Dataset.from_pandas(df.rename(columns={\"conversation\": \"text\"}))\n",
    "\n",
    "def preprocess_test(df):\n",
    "    df.columns = df.columns.str.strip().str.lower()\n",
    "    return Dataset.from_pandas(df.rename(columns={\"conversation\": \"text\"}))\n",
    "\n",
    "# One-hot 인코딩\n",
    "y1_cat = to_categorical(y1, num_classes=5)\n",
    "y2_cat = to_categorical(y2, num_classes=5)\n",
    "y3_cat = to_categorical(y3, num_classes=5)\n",
    "y4_cat = to_categorical(y4, num_classes=5)\n",
    "y5_cat = to_categorical(y5, num_classes=5)\n",
    "y6_cat = to_categorical(y6, num_classes=5)\n",
    "y_val_cat = to_categorical(y_val, num_classes=5)\n",
    "\n",
    "# 텍스트 전처리\n",
    "X1_enc = preprocessing(X1, tokenizer, padded_max_len=128)\n",
    "X2_enc = preprocessing(X2, tokenizer, padded_max_len=128)\n",
    "X3_enc = preprocessing(X3, tokenizer, padded_max_len=128)\n",
    "X4_enc = preprocessing(X4, tokenizer, padded_max_len=128)\n",
    "X5_enc = preprocessing(X5, tokenizer, padded_max_len=128)\n",
    "X6_enc = preprocessing(X6, tokenizer, padded_max_len=128)\n",
    "X_val_enc = preprocessing(X_val_raw.tolist(), tokenizer, padded_max_len=128)\n",
    "\n",
    "\n",
    "def compute_metrics(pred):\n",
    "    preds = np.argmax(pred.predictions, axis=1)\n",
    "    labels = pred.label_ids\n",
    "    acc = accuracy_score(labels, preds)\n",
    "    report = classification_report(labels, preds, output_dict=True, zero_division=0)\n",
    "\n",
    "    metrics = {\n",
    "        \"Accuray f1\": report[\"weighted avg\"][\"f1-score\"],\n",
    "        \"accuray\": acc,\n",
    "    }\n",
    "\n",
    "    # 클래스별 f1\n",
    "    for i, name in enumerate(label_names):\n",
    "        f1_val = report.get(str(i), {}).get(\"f1-score\", 0)\n",
    "        metrics[f\"{name}_f1\"] = f1_val\n",
    "\n",
    "    return metrics\n"
   ]
  },
  {
   "cell_type": "code",
   "execution_count": 12,
   "metadata": {
    "colab": {
     "base_uri": "https://localhost:8080/",
     "height": 1000,
     "referenced_widgets": [
      "9e4e7473361d48fb81bf19d7ba3e2c33",
      "c55db6d2f19742c7bb161b7dde05ac8b",
      "2e5dda8947c54adcbd2cabf4aa3dc0ec",
      "5aab899d7df4404aaf827189cf27ded0",
      "c20f8768f5424c4eb20a5e19d2a897dc",
      "630e64d5ad7244299fdc10b97030453c",
      "cbb5a3ca626240448da90fef9706b66b",
      "34249395d8184ba0a6a6bc301c03cb24",
      "e77dae349ae94af2ac5f4fa4d57fc351",
      "9d395699bd194021b7e0017aad1407ec",
      "deda78b32d1941e6bb9bb6201731ac1b",
      "589570e519404c5d82bc79273541b6d3",
      "2f6d2044a40c404cb1fb11ae02b29a65",
      "9de67caa7414454185378813a13072b3",
      "c6bf5b53c9ad4072bfe2c8a769e002aa",
      "7b9a2bf681c14c468bab48ff6b707ac3",
      "54b503caaee2428ca701052ba94ed9ec",
      "a31fc8378506421aa31ff6ada991e0e4",
      "2676884e00af41b18758d7325952ef3a",
      "7e24521204524c21a31d797de6902c58",
      "c474864f1cf7487a994755ab829b7059",
      "f945b7d8c5db447fa9bb4ab036d89389",
      "dd927070ae2043c29c8a0ab2693b21c2",
      "3f93379f520c43fc89cda193981a6e5f",
      "5bb39c76f737440095c31cf2bdd7bd4c",
      "65818730a9d140b283612808ffb7da60",
      "e3de50fc0f38434cae17e8b5c6463a53",
      "4e88f9d6be684494839f405462f35dc5",
      "67a6d12be12e40f488c1da2a99823a86",
      "bcb9afba1a794e52aa8ec470273e40ce",
      "7cc933543e464e70bfe9abfc6f54dde1",
      "adfdb8d78ac443a0938616f4e5f4b216",
      "7a1692db76f04941a1ac28ab3953ba5d",
      "57129adaae0d4c40a1a947acf93f1f2a",
      "4ca2be23a5a54fbabbb98dd75628d994",
      "95605edbd0c7422f9ec8690e51d7d686",
      "2e8f8abd515e402d95d2a8cad41eb334",
      "2817c4b7a9e240bfbe965fe4fdb29d13",
      "cc9d24e7923146f9b153888c1b03b8ef",
      "9cbf7b07887f425b8ccaf6d31c92ca11",
      "7ffd5dcaa0364060b6a4fa16c2f54fff",
      "f9934310fa8a43b4a559c9dece75e972",
      "32343de949874f6cb5c4ed63945dabb5",
      "e909b395faa741d78c7e4924a94a36fc",
      "3f5d721159de405b8fed194971df3c19",
      "40d0334fd2b640f9a53662d43fb2105a",
      "2a5de9b013a0407da6dac9ba3c7f0c55",
      "6391feb5bbe04222b9985bd6e261b8c9",
      "cb38cdc2787d47aa907579eefef45e41",
      "9aaece13c5424a40a641546015ebbd38",
      "21ea5717e9d04f648c5988d458073a83",
      "b31a69a1f2b04186a1ab1ede9233d049",
      "2c9124ef929f460483a6f86d5dde251e",
      "a1d8de67a64343328b22facc525b4dad",
      "28f46361fe50450497c51fe78159d2f6",
      "cc91ef2da0d2413c826b47b9ce642e4e",
      "8b9752726c7846b190c2a262e73fcb9f",
      "a0e98025ddb44994ac1342dd9c70b205",
      "4b23ccd6ce444cf9826a39eb377ca1a9",
      "f8795fceacc345189321d7d418eb7498",
      "237dc18532274f4980a2cbd2ed5e2c7d",
      "5322223ead8842b0924e825b65fc8bda",
      "8fd7b51515ec42f1bc66641c4b3119db",
      "7c4194ed8b284c37a5b9f1d41443bb7e",
      "5f3ae4b6cfac4561944b63d2c680f7d0",
      "99f4f8e70a4c4fcb8bc68ab4a0b0b121",
      "c652f8c2789b488a98bf82ff0b9d0b80",
      "9f891a0f379146fd8a3aff7fc116f8ba",
      "bda9b27bb8df423486a5f9a3a79c46fb",
      "2650c7066c844992841beda6df7a0252",
      "95ad67a72aaf4a2c9785a3f653b2985b",
      "624457555dfb40f4aa9dfd89f20d4680",
      "2fc399cb920843fb83895903599b9294",
      "3de9c061cb6944cc9499d6af1311cd7b",
      "ff871f8e4793458ba9d60688c586c834",
      "6e393faef89b45cab23202785e4952f5",
      "46c9b14c3cef4883b96e837f852daef4",
      "5a6fd30a146c46719e0585e8f0766639",
      "8514a722acf14c13bed65c44c1d746b3",
      "f640a59e89d44da7b2b863b163076ab1",
      "b81e6a3ac5cb41eda8e03226ae26d141",
      "6ebda198a1cd42f5a690afa09e8ca242",
      "e435ef3671624f0798caaad8b144edfc",
      "14ef156d100241ef82c164c9eee32a2c",
      "7d3abca15a894620a49b01b92c1d3e40",
      "6ed043f90bdd4b7494bebce98ee71b69",
      "298b2680fa834c88a157fbaa8f2d400f",
      "b6de5439351448d9a094255f37bf2183",
      "ee391025ba074c978d699b2103e66402",
      "e49d7b3459894092a5f696714fb7a90a",
      "d112b02a20cc498381c2ab06a63f1b82",
      "cd51200bb8c34a529fb33d203b1b6456",
      "f43668ab82104c4684c9151c19c17092",
      "b31bae6107d948f8b5274bcc8ef5e959",
      "a97170055f11413ea06970e3a5f80f7c",
      "bfecd1af80f2495289c98c79c8f4a2cf",
      "684f84ba486246d6b56c06337965687f",
      "16b26228e97e45d3b8925364c17a0764",
      "009bae2ddf564a6d9c802dff8631900c",
      "a371a2b35607429ebd7c4ddd23d930a6",
      "16e8a5fab3ed40419c5405ef842531e9",
      "ee4753274bdf45e5b429e56ffbbf7250",
      "d5ac7385631148cab93808d7d0729be6",
      "1bb1584a9da04d7190bb98557c5a982a",
      "55c9c173a6854c60a8d5d7efada827bf",
      "57c409e13ada46448bcd8f96575288cd",
      "16f45e44d91747bfb2aeb214d61e9ebc",
      "3cfa439bf1fb4f2e89611496d3c419c5",
      "6be380d666d5472688f44a1f4b8f0eb7",
      "95b41e6ef0e543a1ba88559496e8603b",
      "dede9cdfdffb48b3a7aa0e71d745019c",
      "73512f381123430a98628201500ecdd9",
      "725e30dcd6b843c1addc5a4220448ec9",
      "0a3c1453730c431f919d1ccc69ebc460",
      "c84bf1fdf1794342b5879f61d2caaa4a",
      "d7b0d323fcb44a3fb3b0fb2ca6e5e5ea",
      "f3b64c62994d45c79a8f35f2ffb90f43",
      "99141e6142684762a549b2a072c1b2bf",
      "2b5e81b980d843b7ad9d860797c3593c",
      "e2e14a86d1eb4dc0aa065860bb51b84d",
      "9d5a1feadd0c406786c29c908fe2144c",
      "28b716433b3848f9bcbe4ff755b8dcce",
      "d0a0b554a67943b0916f790e527ede14",
      "bc1970502aec441a87f5e9de0a5dcd6e",
      "f37d08a9062f43fea5d3e725057c6682",
      "cf6c8f7887504d80ad4549cfd0c3380c",
      "973ea98460eb45839cf0dd928c458f10",
      "ba2c7fd01b5346748d0ae07fda9cfd39",
      "709afd21ac7d4d2295e288b596a795c1",
      "3169f8bddc7b49cbbc57c2efb0914f9f",
      "f46a0f6ec7814d92b3513c55522753ca",
      "3f32420a3d0f48c7b77ff52831b489d7"
     ]
    },
    "id": "YBO2SiQagfhk",
    "outputId": "83606323-6b7a-4840-85cf-37b07a9c0383"
   },
   "outputs": [
    {
     "name": "stdout",
     "output_type": "stream",
     "text": [
      "\n",
      "▶ 모델 1: 원본\n"
     ]
    },
    {
     "data": {
      "application/vnd.jupyter.widget-view+json": {
       "model_id": "9e4e7473361d48fb81bf19d7ba3e2c33",
       "version_major": 2,
       "version_minor": 0
      },
      "text/plain": [
       "Map:   0%|          | 0/2967 [00:00<?, ? examples/s]"
      ]
     },
     "metadata": {},
     "output_type": "display_data"
    },
    {
     "data": {
      "application/vnd.jupyter.widget-view+json": {
       "model_id": "589570e519404c5d82bc79273541b6d3",
       "version_major": 2,
       "version_minor": 0
      },
      "text/plain": [
       "Map:   0%|          | 0/928 [00:00<?, ? examples/s]"
      ]
     },
     "metadata": {},
     "output_type": "display_data"
    },
    {
     "name": "stderr",
     "output_type": "stream",
     "text": [
      "Some weights of ElectraForSequenceClassification were not initialized from the model checkpoint at beomi/KcELECTRA-base-v2022 and are newly initialized: ['classifier.dense.bias', 'classifier.dense.weight', 'classifier.out_proj.bias', 'classifier.out_proj.weight']\n",
      "You should probably TRAIN this model on a down-stream task to be able to use it for predictions and inference.\n",
      "<ipython-input-12-eba20d2f5e61>:38: FutureWarning: `tokenizer` is deprecated and will be removed in version 5.0.0 for `Trainer.__init__`. Use `processing_class` instead.\n",
      "  trainer = Trainer(\n",
      "\u001b[34m\u001b[1mwandb\u001b[0m: \u001b[33mWARNING\u001b[0m The `run_name` is currently set to the same value as `TrainingArguments.output_dir`. If this was not intended, please specify a different run name by setting the `TrainingArguments.run_name` parameter.\n"
     ]
    },
    {
     "data": {
      "text/html": [
       "Tracking run with wandb version 0.19.10"
      ],
      "text/plain": [
       "<IPython.core.display.HTML object>"
      ]
     },
     "metadata": {},
     "output_type": "display_data"
    },
    {
     "data": {
      "text/html": [
       "Run data is saved locally in <code>/content/wandb/run-20250505_140100-5u2o1tin</code>"
      ],
      "text/plain": [
       "<IPython.core.display.HTML object>"
      ]
     },
     "metadata": {},
     "output_type": "display_data"
    },
    {
     "data": {
      "text/html": [
       "Syncing run <strong><a href='https://wandb.ai/jiwoong-team/huggingface/runs/5u2o1tin' target=\"_blank\">./results/model_1</a></strong> to <a href='https://wandb.ai/jiwoong-team/huggingface' target=\"_blank\">Weights & Biases</a> (<a href='https://wandb.me/developer-guide' target=\"_blank\">docs</a>)<br>"
      ],
      "text/plain": [
       "<IPython.core.display.HTML object>"
      ]
     },
     "metadata": {},
     "output_type": "display_data"
    },
    {
     "data": {
      "text/html": [
       " View project at <a href='https://wandb.ai/jiwoong-team/huggingface' target=\"_blank\">https://wandb.ai/jiwoong-team/huggingface</a>"
      ],
      "text/plain": [
       "<IPython.core.display.HTML object>"
      ]
     },
     "metadata": {},
     "output_type": "display_data"
    },
    {
     "data": {
      "text/html": [
       " View run at <a href='https://wandb.ai/jiwoong-team/huggingface/runs/5u2o1tin' target=\"_blank\">https://wandb.ai/jiwoong-team/huggingface/runs/5u2o1tin</a>"
      ],
      "text/plain": [
       "<IPython.core.display.HTML object>"
      ]
     },
     "metadata": {},
     "output_type": "display_data"
    },
    {
     "data": {
      "text/html": [
       "\n",
       "    <div>\n",
       "      \n",
       "      <progress value='372' max='372' style='width:300px; height:20px; vertical-align: middle;'></progress>\n",
       "      [372/372 02:28, Epoch 2/2]\n",
       "    </div>\n",
       "    <table border=\"1\" class=\"dataframe\">\n",
       "  <thead>\n",
       " <tr style=\"text-align: left;\">\n",
       "      <th>Step</th>\n",
       "      <th>Training Loss</th>\n",
       "    </tr>\n",
       "  </thead>\n",
       "  <tbody>\n",
       "  </tbody>\n",
       "</table><p>"
      ],
      "text/plain": [
       "<IPython.core.display.HTML object>"
      ]
     },
     "metadata": {},
     "output_type": "display_data"
    },
    {
     "name": "stdout",
     "output_type": "stream",
     "text": [
      "\n",
      "▶ 모델 2: 원본+EDA\n"
     ]
    },
    {
     "data": {
      "application/vnd.jupyter.widget-view+json": {
       "model_id": "dd927070ae2043c29c8a0ab2693b21c2",
       "version_major": 2,
       "version_minor": 0
      },
      "text/plain": [
       "Map:   0%|          | 0/8901 [00:00<?, ? examples/s]"
      ]
     },
     "metadata": {},
     "output_type": "display_data"
    },
    {
     "data": {
      "application/vnd.jupyter.widget-view+json": {
       "model_id": "57129adaae0d4c40a1a947acf93f1f2a",
       "version_major": 2,
       "version_minor": 0
      },
      "text/plain": [
       "Map:   0%|          | 0/928 [00:00<?, ? examples/s]"
      ]
     },
     "metadata": {},
     "output_type": "display_data"
    },
    {
     "name": "stderr",
     "output_type": "stream",
     "text": [
      "Some weights of ElectraForSequenceClassification were not initialized from the model checkpoint at beomi/KcELECTRA-base-v2022 and are newly initialized: ['classifier.dense.bias', 'classifier.dense.weight', 'classifier.out_proj.bias', 'classifier.out_proj.weight']\n",
      "You should probably TRAIN this model on a down-stream task to be able to use it for predictions and inference.\n",
      "<ipython-input-12-eba20d2f5e61>:38: FutureWarning: `tokenizer` is deprecated and will be removed in version 5.0.0 for `Trainer.__init__`. Use `processing_class` instead.\n",
      "  trainer = Trainer(\n"
     ]
    },
    {
     "data": {
      "text/html": [
       "\n",
       "    <div>\n",
       "      \n",
       "      <progress value='1114' max='1114' style='width:300px; height:20px; vertical-align: middle;'></progress>\n",
       "      [1114/1114 07:39, Epoch 2/2]\n",
       "    </div>\n",
       "    <table border=\"1\" class=\"dataframe\">\n",
       "  <thead>\n",
       " <tr style=\"text-align: left;\">\n",
       "      <th>Step</th>\n",
       "      <th>Training Loss</th>\n",
       "    </tr>\n",
       "  </thead>\n",
       "  <tbody>\n",
       "    <tr>\n",
       "      <td>500</td>\n",
       "      <td>0.490500</td>\n",
       "    </tr>\n",
       "    <tr>\n",
       "      <td>1000</td>\n",
       "      <td>0.131300</td>\n",
       "    </tr>\n",
       "  </tbody>\n",
       "</table><p>"
      ],
      "text/plain": [
       "<IPython.core.display.HTML object>"
      ]
     },
     "metadata": {},
     "output_type": "display_data"
    },
    {
     "name": "stdout",
     "output_type": "stream",
     "text": [
      "\n",
      "▶ 모델 3: 원본+1000\n"
     ]
    },
    {
     "data": {
      "application/vnd.jupyter.widget-view+json": {
       "model_id": "3f5d721159de405b8fed194971df3c19",
       "version_major": 2,
       "version_minor": 0
      },
      "text/plain": [
       "Map:   0%|          | 0/3260 [00:00<?, ? examples/s]"
      ]
     },
     "metadata": {},
     "output_type": "display_data"
    },
    {
     "data": {
      "application/vnd.jupyter.widget-view+json": {
       "model_id": "cc91ef2da0d2413c826b47b9ce642e4e",
       "version_major": 2,
       "version_minor": 0
      },
      "text/plain": [
       "Map:   0%|          | 0/928 [00:00<?, ? examples/s]"
      ]
     },
     "metadata": {},
     "output_type": "display_data"
    },
    {
     "name": "stderr",
     "output_type": "stream",
     "text": [
      "Some weights of ElectraForSequenceClassification were not initialized from the model checkpoint at beomi/KcELECTRA-base-v2022 and are newly initialized: ['classifier.dense.bias', 'classifier.dense.weight', 'classifier.out_proj.bias', 'classifier.out_proj.weight']\n",
      "You should probably TRAIN this model on a down-stream task to be able to use it for predictions and inference.\n",
      "<ipython-input-12-eba20d2f5e61>:38: FutureWarning: `tokenizer` is deprecated and will be removed in version 5.0.0 for `Trainer.__init__`. Use `processing_class` instead.\n",
      "  trainer = Trainer(\n"
     ]
    },
    {
     "data": {
      "text/html": [
       "\n",
       "    <div>\n",
       "      \n",
       "      <progress value='408' max='408' style='width:300px; height:20px; vertical-align: middle;'></progress>\n",
       "      [408/408 02:41, Epoch 2/2]\n",
       "    </div>\n",
       "    <table border=\"1\" class=\"dataframe\">\n",
       "  <thead>\n",
       " <tr style=\"text-align: left;\">\n",
       "      <th>Step</th>\n",
       "      <th>Training Loss</th>\n",
       "    </tr>\n",
       "  </thead>\n",
       "  <tbody>\n",
       "  </tbody>\n",
       "</table><p>"
      ],
      "text/plain": [
       "<IPython.core.display.HTML object>"
      ]
     },
     "metadata": {},
     "output_type": "display_data"
    },
    {
     "name": "stdout",
     "output_type": "stream",
     "text": [
      "\n",
      "▶ 모델 4: 원본+EDA+2000\n"
     ]
    },
    {
     "data": {
      "application/vnd.jupyter.widget-view+json": {
       "model_id": "c652f8c2789b488a98bf82ff0b9d0b80",
       "version_major": 2,
       "version_minor": 0
      },
      "text/plain": [
       "Map:   0%|          | 0/8982 [00:00<?, ? examples/s]"
      ]
     },
     "metadata": {},
     "output_type": "display_data"
    },
    {
     "data": {
      "application/vnd.jupyter.widget-view+json": {
       "model_id": "5a6fd30a146c46719e0585e8f0766639",
       "version_major": 2,
       "version_minor": 0
      },
      "text/plain": [
       "Map:   0%|          | 0/928 [00:00<?, ? examples/s]"
      ]
     },
     "metadata": {},
     "output_type": "display_data"
    },
    {
     "name": "stderr",
     "output_type": "stream",
     "text": [
      "Some weights of ElectraForSequenceClassification were not initialized from the model checkpoint at beomi/KcELECTRA-base-v2022 and are newly initialized: ['classifier.dense.bias', 'classifier.dense.weight', 'classifier.out_proj.bias', 'classifier.out_proj.weight']\n",
      "You should probably TRAIN this model on a down-stream task to be able to use it for predictions and inference.\n",
      "<ipython-input-12-eba20d2f5e61>:38: FutureWarning: `tokenizer` is deprecated and will be removed in version 5.0.0 for `Trainer.__init__`. Use `processing_class` instead.\n",
      "  trainer = Trainer(\n"
     ]
    },
    {
     "data": {
      "text/html": [
       "\n",
       "    <div>\n",
       "      \n",
       "      <progress value='1124' max='1124' style='width:300px; height:20px; vertical-align: middle;'></progress>\n",
       "      [1124/1124 08:10, Epoch 2/2]\n",
       "    </div>\n",
       "    <table border=\"1\" class=\"dataframe\">\n",
       "  <thead>\n",
       " <tr style=\"text-align: left;\">\n",
       "      <th>Step</th>\n",
       "      <th>Training Loss</th>\n",
       "    </tr>\n",
       "  </thead>\n",
       "  <tbody>\n",
       "    <tr>\n",
       "      <td>500</td>\n",
       "      <td>0.458700</td>\n",
       "    </tr>\n",
       "    <tr>\n",
       "      <td>1000</td>\n",
       "      <td>0.135900</td>\n",
       "    </tr>\n",
       "  </tbody>\n",
       "</table><p>"
      ],
      "text/plain": [
       "<IPython.core.display.HTML object>"
      ]
     },
     "metadata": {},
     "output_type": "display_data"
    },
    {
     "name": "stdout",
     "output_type": "stream",
     "text": [
      "\n",
      "▶ 모델 5: 원본+EDA+8000\n"
     ]
    },
    {
     "data": {
      "application/vnd.jupyter.widget-view+json": {
       "model_id": "ee391025ba074c978d699b2103e66402",
       "version_major": 2,
       "version_minor": 0
      },
      "text/plain": [
       "Map:   0%|          | 0/13782 [00:00<?, ? examples/s]"
      ]
     },
     "metadata": {},
     "output_type": "display_data"
    },
    {
     "data": {
      "application/vnd.jupyter.widget-view+json": {
       "model_id": "a371a2b35607429ebd7c4ddd23d930a6",
       "version_major": 2,
       "version_minor": 0
      },
      "text/plain": [
       "Map:   0%|          | 0/928 [00:00<?, ? examples/s]"
      ]
     },
     "metadata": {},
     "output_type": "display_data"
    },
    {
     "name": "stderr",
     "output_type": "stream",
     "text": [
      "Some weights of ElectraForSequenceClassification were not initialized from the model checkpoint at beomi/KcELECTRA-base-v2022 and are newly initialized: ['classifier.dense.bias', 'classifier.dense.weight', 'classifier.out_proj.bias', 'classifier.out_proj.weight']\n",
      "You should probably TRAIN this model on a down-stream task to be able to use it for predictions and inference.\n",
      "<ipython-input-12-eba20d2f5e61>:38: FutureWarning: `tokenizer` is deprecated and will be removed in version 5.0.0 for `Trainer.__init__`. Use `processing_class` instead.\n",
      "  trainer = Trainer(\n"
     ]
    },
    {
     "data": {
      "text/html": [
       "\n",
       "    <div>\n",
       "      \n",
       "      <progress value='1724' max='1724' style='width:300px; height:20px; vertical-align: middle;'></progress>\n",
       "      [1724/1724 12:44, Epoch 2/2]\n",
       "    </div>\n",
       "    <table border=\"1\" class=\"dataframe\">\n",
       "  <thead>\n",
       " <tr style=\"text-align: left;\">\n",
       "      <th>Step</th>\n",
       "      <th>Training Loss</th>\n",
       "    </tr>\n",
       "  </thead>\n",
       "  <tbody>\n",
       "    <tr>\n",
       "      <td>500</td>\n",
       "      <td>0.368100</td>\n",
       "    </tr>\n",
       "    <tr>\n",
       "      <td>1000</td>\n",
       "      <td>0.152500</td>\n",
       "    </tr>\n",
       "    <tr>\n",
       "      <td>1500</td>\n",
       "      <td>0.076700</td>\n",
       "    </tr>\n",
       "  </tbody>\n",
       "</table><p>"
      ],
      "text/plain": [
       "<IPython.core.display.HTML object>"
      ]
     },
     "metadata": {},
     "output_type": "display_data"
    },
    {
     "name": "stdout",
     "output_type": "stream",
     "text": [
      "\n",
      "▶ 모델 6: 원본+EDA+16000\n"
     ]
    },
    {
     "data": {
      "application/vnd.jupyter.widget-view+json": {
       "model_id": "dede9cdfdffb48b3a7aa0e71d745019c",
       "version_major": 2,
       "version_minor": 0
      },
      "text/plain": [
       "Map:   0%|          | 0/20182 [00:00<?, ? examples/s]"
      ]
     },
     "metadata": {},
     "output_type": "display_data"
    },
    {
     "data": {
      "application/vnd.jupyter.widget-view+json": {
       "model_id": "28b716433b3848f9bcbe4ff755b8dcce",
       "version_major": 2,
       "version_minor": 0
      },
      "text/plain": [
       "Map:   0%|          | 0/928 [00:00<?, ? examples/s]"
      ]
     },
     "metadata": {},
     "output_type": "display_data"
    },
    {
     "name": "stderr",
     "output_type": "stream",
     "text": [
      "Some weights of ElectraForSequenceClassification were not initialized from the model checkpoint at beomi/KcELECTRA-base-v2022 and are newly initialized: ['classifier.dense.bias', 'classifier.dense.weight', 'classifier.out_proj.bias', 'classifier.out_proj.weight']\n",
      "You should probably TRAIN this model on a down-stream task to be able to use it for predictions and inference.\n",
      "<ipython-input-12-eba20d2f5e61>:38: FutureWarning: `tokenizer` is deprecated and will be removed in version 5.0.0 for `Trainer.__init__`. Use `processing_class` instead.\n",
      "  trainer = Trainer(\n"
     ]
    },
    {
     "data": {
      "text/html": [
       "\n",
       "    <div>\n",
       "      \n",
       "      <progress value='2524' max='2524' style='width:300px; height:20px; vertical-align: middle;'></progress>\n",
       "      [2524/2524 18:33, Epoch 2/2]\n",
       "    </div>\n",
       "    <table border=\"1\" class=\"dataframe\">\n",
       "  <thead>\n",
       " <tr style=\"text-align: left;\">\n",
       "      <th>Step</th>\n",
       "      <th>Training Loss</th>\n",
       "    </tr>\n",
       "  </thead>\n",
       "  <tbody>\n",
       "    <tr>\n",
       "      <td>500</td>\n",
       "      <td>0.300600</td>\n",
       "    </tr>\n",
       "    <tr>\n",
       "      <td>1000</td>\n",
       "      <td>0.142000</td>\n",
       "    </tr>\n",
       "    <tr>\n",
       "      <td>1500</td>\n",
       "      <td>0.091600</td>\n",
       "    </tr>\n",
       "    <tr>\n",
       "      <td>2000</td>\n",
       "      <td>0.062300</td>\n",
       "    </tr>\n",
       "    <tr>\n",
       "      <td>2500</td>\n",
       "      <td>0.046800</td>\n",
       "    </tr>\n",
       "  </tbody>\n",
       "</table><p>"
      ],
      "text/plain": [
       "<IPython.core.display.HTML object>"
      ]
     },
     "metadata": {},
     "output_type": "display_data"
    }
   ],
   "source": [
    "from transformers import TrainingArguments, Trainer\n",
    "from sklearn.model_selection import train_test_split\n",
    "\n",
    "dataset_names = [\"원본\", \"원본+EDA\", \"원본+1000\", \"원본+EDA+2000\",\"원본+EDA+8000\",\"원본+EDA+16000\"]\n",
    "X_list = [X1, X2, X3, X4, X5, X6]\n",
    "y_list = [y1, y2, y3, y4, y5, y6]\n",
    "\n",
    "data_collator = DataCollatorWithPadding(tokenizer=tokenizer)\n",
    "\n",
    "for i, (X, y, name) in enumerate(zip(X_list, y_list, dataset_names), 1):\n",
    "    print(f\"\\n▶ 모델 {i}: {name}\")\n",
    "\n",
    "    #  여기가 핵심! X, y를 train/val로 분리\n",
    "    X_train_split, _, y_train_split, _ = train_test_split(\n",
    "        X, y, test_size=0.2, stratify=y, random_state=42\n",
    "    )\n",
    "\n",
    "    # 공통 검증셋은 y_val, X_val_raw 그대로 사용\n",
    "    train_df = pd.DataFrame({\"text\": X_train_split, \"label\": y_train_split})\n",
    "    val_df = pd.DataFrame({\"text\": X_val_raw.tolist(), \"label\": y_val})  # 여기서 val은 고정\n",
    "\n",
    "    # Hugging Face Dataset + Tokenize\n",
    "    train_dataset = Dataset.from_pandas(train_df).map(tokenize_function, batched=True)\n",
    "    val_dataset = Dataset.from_pandas(val_df).map(tokenize_function, batched=True)\n",
    "\n",
    "    model = ElectraForSequenceClassification.from_pretrained(MODEL_NAME, num_labels=5).to(device)\n",
    "\n",
    "    training_args = TrainingArguments(\n",
    "        output_dir=f\"./results/model_{i}\",\n",
    "        num_train_epochs=2,\n",
    "        per_device_train_batch_size=16,\n",
    "        per_device_eval_batch_size=16,\n",
    "        learning_rate=3e-5,\n",
    "        weight_decay=0.01,\n",
    "        logging_dir=f\"./results/logs_{i}\",\n",
    "        logging_steps=500\n",
    "    )\n",
    "    trainer = Trainer(\n",
    "        model=model,\n",
    "        args=training_args,\n",
    "        train_dataset=train_dataset,\n",
    "        eval_dataset=val_dataset,\n",
    "        tokenizer=tokenizer,\n",
    "        data_collator=data_collator,\n",
    "        compute_metrics=compute_metrics\n",
    "    )\n",
    "\n",
    "    trainer.train()\n",
    "    trainer.save_model(f\"./results/model_{i}\")\n"
   ]
  },
  {
   "cell_type": "code",
   "execution_count": 13,
   "metadata": {
    "colab": {
     "base_uri": "https://localhost:8080/",
     "height": 1000,
     "referenced_widgets": [
      "755d0d00bb264d2fae8e252815799d5f",
      "262b791c45b84effba93a3f01dcc9052",
      "0843d0385a4f439db7c4fe3ec1166d83",
      "acd1a7a73679469b84101b714a25350a",
      "7aba73398e834703b30fa41d2b6242db",
      "ebb764a2a83c4770b5efe55d9d1bd205",
      "e8cb13e29eb24fab854d64a6862a5640",
      "ff1b64f759fb4607a3213788a04f1031",
      "1a33bfce479e49b5a0ac13cd8fdf9dda",
      "c850bcb5fb7f41dbbb0b2afc4eb8a44d",
      "c52e4014a6f94628818e01b204d92220"
     ]
    },
    "id": "KoCCnWWrrhcD",
    "outputId": "337522a8-2313-45bb-e113-06515a30b291"
   },
   "outputs": [
    {
     "data": {
      "application/vnd.jupyter.widget-view+json": {
       "model_id": "755d0d00bb264d2fae8e252815799d5f",
       "version_major": 2,
       "version_minor": 0
      },
      "text/plain": [
       "Map:   0%|          | 0/928 [00:00<?, ? examples/s]"
      ]
     },
     "metadata": {},
     "output_type": "display_data"
    },
    {
     "name": "stdout",
     "output_type": "stream",
     "text": [
      "\n",
      "✅ 모델별 검증 성능 비교\n",
      "\n",
      "▶ 모델 1: 원본\n"
     ]
    },
    {
     "name": "stderr",
     "output_type": "stream",
     "text": [
      "<ipython-input-13-ff3368bdd3f0>:20: FutureWarning: `tokenizer` is deprecated and will be removed in version 5.0.0 for `Trainer.__init__`. Use `processing_class` instead.\n",
      "  trainer = Trainer(\n"
     ]
    },
    {
     "data": {
      "text/html": [],
      "text/plain": [
       "<IPython.core.display.HTML object>"
      ]
     },
     "metadata": {},
     "output_type": "display_data"
    },
    {
     "name": "stdout",
     "output_type": "stream",
     "text": [
      "              precision    recall  f1-score   support\n",
      "\n",
      "       협박 대화       0.87      0.86      0.87       179\n",
      "       갈취 대화       0.85      0.88      0.87       195\n",
      " 직장 내 괴롭힘 대화       0.96      0.95      0.96       194\n",
      "   기타 괴롭힘 대화       0.88      0.87      0.87       202\n",
      "       일반 대화       0.98      0.99      0.99       158\n",
      "\n",
      "    accuracy                           0.91       928\n",
      "   macro avg       0.91      0.91      0.91       928\n",
      "weighted avg       0.91      0.91      0.91       928\n",
      "\n",
      "\n",
      "▶ 모델 2: 원본+EDA\n"
     ]
    },
    {
     "name": "stderr",
     "output_type": "stream",
     "text": [
      "<ipython-input-13-ff3368bdd3f0>:20: FutureWarning: `tokenizer` is deprecated and will be removed in version 5.0.0 for `Trainer.__init__`. Use `processing_class` instead.\n",
      "  trainer = Trainer(\n"
     ]
    },
    {
     "data": {
      "text/html": [],
      "text/plain": [
       "<IPython.core.display.HTML object>"
      ]
     },
     "metadata": {},
     "output_type": "display_data"
    },
    {
     "name": "stdout",
     "output_type": "stream",
     "text": [
      "              precision    recall  f1-score   support\n",
      "\n",
      "       협박 대화       0.88      0.87      0.87       179\n",
      "       갈취 대화       0.85      0.90      0.88       195\n",
      " 직장 내 괴롭힘 대화       0.97      0.96      0.97       194\n",
      "   기타 괴롭힘 대화       0.91      0.86      0.88       202\n",
      "       일반 대화       0.99      1.00      0.99       158\n",
      "\n",
      "    accuracy                           0.92       928\n",
      "   macro avg       0.92      0.92      0.92       928\n",
      "weighted avg       0.92      0.92      0.92       928\n",
      "\n",
      "\n",
      "▶ 모델 3: 원본+1000\n"
     ]
    },
    {
     "name": "stderr",
     "output_type": "stream",
     "text": [
      "<ipython-input-13-ff3368bdd3f0>:20: FutureWarning: `tokenizer` is deprecated and will be removed in version 5.0.0 for `Trainer.__init__`. Use `processing_class` instead.\n",
      "  trainer = Trainer(\n"
     ]
    },
    {
     "data": {
      "text/html": [],
      "text/plain": [
       "<IPython.core.display.HTML object>"
      ]
     },
     "metadata": {},
     "output_type": "display_data"
    },
    {
     "name": "stderr",
     "output_type": "stream",
     "text": [
      "/usr/local/lib/python3.11/dist-packages/sklearn/metrics/_classification.py:1565: UndefinedMetricWarning: Precision is ill-defined and being set to 0.0 in labels with no predicted samples. Use `zero_division` parameter to control this behavior.\n",
      "  _warn_prf(average, modifier, f\"{metric.capitalize()} is\", len(result))\n",
      "/usr/local/lib/python3.11/dist-packages/sklearn/metrics/_classification.py:1565: UndefinedMetricWarning: Precision is ill-defined and being set to 0.0 in labels with no predicted samples. Use `zero_division` parameter to control this behavior.\n",
      "  _warn_prf(average, modifier, f\"{metric.capitalize()} is\", len(result))\n",
      "/usr/local/lib/python3.11/dist-packages/sklearn/metrics/_classification.py:1565: UndefinedMetricWarning: Precision is ill-defined and being set to 0.0 in labels with no predicted samples. Use `zero_division` parameter to control this behavior.\n",
      "  _warn_prf(average, modifier, f\"{metric.capitalize()} is\", len(result))\n"
     ]
    },
    {
     "name": "stdout",
     "output_type": "stream",
     "text": [
      "              precision    recall  f1-score   support\n",
      "\n",
      "       협박 대화       0.87      0.84      0.86       179\n",
      "       갈취 대화       0.75      0.91      0.82       195\n",
      " 직장 내 괴롭힘 대화       0.88      0.95      0.91       194\n",
      "   기타 괴롭힘 대화       0.55      0.84      0.67       202\n",
      "       일반 대화       0.00      0.00      0.00       158\n",
      "\n",
      "    accuracy                           0.74       928\n",
      "   macro avg       0.61      0.71      0.65       928\n",
      "weighted avg       0.63      0.74      0.67       928\n",
      "\n",
      "\n",
      "▶ 모델 4: 원본+EDA+2000\n"
     ]
    },
    {
     "name": "stderr",
     "output_type": "stream",
     "text": [
      "<ipython-input-13-ff3368bdd3f0>:20: FutureWarning: `tokenizer` is deprecated and will be removed in version 5.0.0 for `Trainer.__init__`. Use `processing_class` instead.\n",
      "  trainer = Trainer(\n"
     ]
    },
    {
     "data": {
      "text/html": [],
      "text/plain": [
       "<IPython.core.display.HTML object>"
      ]
     },
     "metadata": {},
     "output_type": "display_data"
    },
    {
     "name": "stderr",
     "output_type": "stream",
     "text": [
      "/usr/local/lib/python3.11/dist-packages/sklearn/metrics/_classification.py:1565: UndefinedMetricWarning: Precision is ill-defined and being set to 0.0 in labels with no predicted samples. Use `zero_division` parameter to control this behavior.\n",
      "  _warn_prf(average, modifier, f\"{metric.capitalize()} is\", len(result))\n",
      "/usr/local/lib/python3.11/dist-packages/sklearn/metrics/_classification.py:1565: UndefinedMetricWarning: Precision is ill-defined and being set to 0.0 in labels with no predicted samples. Use `zero_division` parameter to control this behavior.\n",
      "  _warn_prf(average, modifier, f\"{metric.capitalize()} is\", len(result))\n",
      "/usr/local/lib/python3.11/dist-packages/sklearn/metrics/_classification.py:1565: UndefinedMetricWarning: Precision is ill-defined and being set to 0.0 in labels with no predicted samples. Use `zero_division` parameter to control this behavior.\n",
      "  _warn_prf(average, modifier, f\"{metric.capitalize()} is\", len(result))\n"
     ]
    },
    {
     "name": "stdout",
     "output_type": "stream",
     "text": [
      "              precision    recall  f1-score   support\n",
      "\n",
      "       협박 대화       0.84      0.89      0.86       179\n",
      "       갈취 대화       0.82      0.89      0.86       195\n",
      " 직장 내 괴롭힘 대화       0.72      0.98      0.83       194\n",
      "   기타 괴롭힘 대화       0.65      0.84      0.73       202\n",
      "       일반 대화       0.00      0.00      0.00       158\n",
      "\n",
      "    accuracy                           0.75       928\n",
      "   macro avg       0.61      0.72      0.66       928\n",
      "weighted avg       0.63      0.75      0.68       928\n",
      "\n",
      "\n",
      "▶ 모델 5: 원본+EDA+8000\n"
     ]
    },
    {
     "name": "stderr",
     "output_type": "stream",
     "text": [
      "<ipython-input-13-ff3368bdd3f0>:20: FutureWarning: `tokenizer` is deprecated and will be removed in version 5.0.0 for `Trainer.__init__`. Use `processing_class` instead.\n",
      "  trainer = Trainer(\n"
     ]
    },
    {
     "data": {
      "text/html": [],
      "text/plain": [
       "<IPython.core.display.HTML object>"
      ]
     },
     "metadata": {},
     "output_type": "display_data"
    },
    {
     "name": "stdout",
     "output_type": "stream",
     "text": [
      "              precision    recall  f1-score   support\n",
      "\n",
      "       협박 대화       0.86      0.91      0.88       179\n",
      "       갈취 대화       0.82      0.88      0.85       195\n",
      " 직장 내 괴롭힘 대화       0.74      0.96      0.83       194\n",
      "   기타 괴롭힘 대화       0.66      0.87      0.75       202\n",
      "       일반 대화       1.00      0.05      0.10       158\n",
      "\n",
      "    accuracy                           0.76       928\n",
      "   macro avg       0.81      0.73      0.68       928\n",
      "weighted avg       0.80      0.76      0.70       928\n",
      "\n",
      "\n",
      "▶ 모델 6: 원본+EDA+16000\n"
     ]
    },
    {
     "name": "stderr",
     "output_type": "stream",
     "text": [
      "<ipython-input-13-ff3368bdd3f0>:20: FutureWarning: `tokenizer` is deprecated and will be removed in version 5.0.0 for `Trainer.__init__`. Use `processing_class` instead.\n",
      "  trainer = Trainer(\n"
     ]
    },
    {
     "data": {
      "text/html": [],
      "text/plain": [
       "<IPython.core.display.HTML object>"
      ]
     },
     "metadata": {},
     "output_type": "display_data"
    },
    {
     "name": "stdout",
     "output_type": "stream",
     "text": [
      "              precision    recall  f1-score   support\n",
      "\n",
      "       협박 대화       0.86      0.87      0.86       179\n",
      "       갈취 대화       0.78      0.90      0.83       195\n",
      " 직장 내 괴롭힘 대화       0.75      0.96      0.85       194\n",
      "   기타 괴롭힘 대화       0.66      0.84      0.74       202\n",
      "       일반 대화       1.00      0.09      0.17       158\n",
      "\n",
      "    accuracy                           0.76       928\n",
      "   macro avg       0.81      0.73      0.69       928\n",
      "weighted avg       0.80      0.76      0.71       928\n",
      "\n"
     ]
    }
   ],
   "source": [
    "from sklearn.metrics import classification_report\n",
    "\n",
    "# 1. 검증셋 준비\n",
    "val_df = pd.DataFrame({\"text\": X_val_raw.tolist(), \"label\": y_val})\n",
    "val_dataset = Dataset.from_pandas(val_df).map(tokenize_function, batched=True)\n",
    "\n",
    "# 2. 라벨 이름 설정\n",
    "label_names = list(custom_label_order.keys())\n",
    "\n",
    "# 3. 모델별 평가\n",
    "print(\"\\n✅ 모델별 검증 성능 비교\")\n",
    "for i, name in enumerate(dataset_names, 1):\n",
    "    print(f\"\\n▶ 모델 {i}: {name}\")\n",
    "\n",
    "    # 모델 불러오기\n",
    "    model_path = f\"./results/model_{i}\"\n",
    "    model = ElectraForSequenceClassification.from_pretrained(model_path).to(device)\n",
    "\n",
    "    # 평가용 Trainer\n",
    "    trainer = Trainer(\n",
    "        model=model,\n",
    "        tokenizer=tokenizer,\n",
    "        compute_metrics=compute_metrics\n",
    "    )\n",
    "\n",
    "    # 예측\n",
    "    preds = trainer.predict(val_dataset)\n",
    "    y_pred = np.argmax(preds.predictions, axis=1)\n",
    "\n",
    "    # 평가 리포트 출력\n",
    "    print(classification_report(y_val, y_pred, target_names=label_names))"
   ]
  },
  {
   "cell_type": "code",
   "execution_count": 14,
   "metadata": {
    "id": "wy6VQQZqsNpK"
   },
   "outputs": [],
   "source": [
    "from wandb.integration.keras import WandbCallback\n",
    "from sklearn.metrics import classification_report\n",
    "from tensorflow.keras.callbacks import EarlyStopping, ModelCheckpoint\n",
    "\n",
    "#  공통 함수 정의\n",
    "def log_model_to_wandb(model, run_name, notes, X_train, y_train, X_val, y_val, ordered_columns):\n",
    "    import wandb\n",
    "    from sklearn.metrics import classification_report\n",
    "\n",
    "\n",
    "\n",
    "    run = wandb.init(\n",
    "    entity=\"jiwoong-team\",\n",
    "    project=\"DLThon-DKTC\",\n",
    "    name=run_name,\n",
    "    notes=notes,\n",
    "    config=dict(\n",
    "        architecture=\"KcELECTRA\",\n",
    "        input_length=128,\n",
    "        epochs=10,\n",
    "        batch_size=32\n",
    "    ),\n",
    "    reinit=True,\n",
    "    settings=wandb.Settings(_disable_stats=True)\n",
    "    )\n",
    "\n",
    "\n",
    "    #  예측 결과 평가\n",
    "    y_pred = model.predict(X_val)\n",
    "    y_pred_labels = np.argmax(y_pred, axis=1)\n",
    "    y_true_labels = np.argmax(y_val, axis=1)\n",
    "\n",
    "    #  classification report 테이블 생성\n",
    "    report = classification_report(y_true_labels, y_pred_labels, target_names=ordered_columns, output_dict=True)\n",
    "    columns = [\"class\", \"precision\", \"recall\", \"f1-score\", \"support\"]\n",
    "    data = []\n",
    "    for label, metrics in report.items():\n",
    "        if isinstance(metrics, dict):\n",
    "            row = [label] + [metrics.get(col, None) for col in columns[1:]]\n",
    "            data.append(row)\n",
    "\n",
    "    table = wandb.Table(columns=columns, data=data)\n",
    "\n",
    "    wandb.log({\n",
    "    \"macro_f1\": float(report[\"macro avg\"][\"f1-score\"]),\n",
    "    \"accuracy\": float(report[\"accuracy\"]),\n",
    "    \"threat_f1\": float(report[\"협박 대화\"][\"f1-score\"]),\n",
    "    \"extortion_f1\": float(report[\"갈취 대화\"][\"f1-score\"]),\n",
    "    \"workplace_bullying_f1\": float(report[\"직장 내 괴롭힘 대화\"][\"f1-score\"]),\n",
    "    \"other_bullying_f1\": float(report[\"기타 괴롭힘 대화\"][\"f1-score\"]),\n",
    "    \"general_conversation_f1\": float(report[\"일반 대화\"][\"f1-score\"]),\n",
    "    })\n",
    "\n",
    "\n",
    "    run.finish()\n"
   ]
  },
  {
   "cell_type": "code",
   "execution_count": 17,
   "metadata": {
    "id": "AGEgssuxsNyc"
   },
   "outputs": [],
   "source": [
    "ordered_columns = [\n",
    "    \"협박 대화\",\n",
    "    \"갈취 대화\",\n",
    "    \"직장 내 괴롭힘 대화\",\n",
    "    \"기타 괴롭힘 대화\",\n",
    "    \"일반 대화\"\n",
    "]\n",
    "\n",
    "from torch.utils.data import DataLoader\n",
    "from transformers import DataCollatorWithPadding\n",
    "from sklearn.metrics import classification_report\n",
    "import torch\n",
    "\n",
    "def log_model_to_wandb(model, run_name, notes, X_train, y_train, X_val, y_val, ordered_columns):\n",
    "    import wandb\n",
    "    from transformers import AutoTokenizer\n",
    "    from datasets import Dataset\n",
    "    from tqdm import tqdm\n",
    "\n",
    "    run = wandb.init(\n",
    "        entity=\"jiwoong-team\",\n",
    "        project=\"DLThon-DKTC\",\n",
    "        name=run_name,\n",
    "        notes=notes,\n",
    "        config=dict(\n",
    "            architecture=\"KcELECTRA\",\n",
    "            input_length=128,\n",
    "            epochs=10,\n",
    "            batch_size=32\n",
    "        ),\n",
    "        reinit=True,\n",
    "        settings=wandb.Settings(_disable_stats=True)\n",
    "    )\n",
    "\n",
    "    # 토크나이즈\n",
    "    val_df = pd.DataFrame({\"text\": X_val, \"label\": y_val})\n",
    "    val_dataset = Dataset.from_pandas(val_df).map(tokenize_function, batched=True)\n",
    "    val_dataset.set_format(type='torch', columns=['input_ids', 'attention_mask'])\n",
    "\n",
    "    # 평가\n",
    "    model.eval()\n",
    "    y_preds = []\n",
    "    y_trues = []\n",
    "\n",
    "    dataloader = DataLoader(val_dataset, batch_size=32, collate_fn=data_collator)\n",
    "\n",
    "    for batch in tqdm(dataloader, desc=\"Evaluating\"):\n",
    "        input_ids = batch[\"input_ids\"].to(model.device)\n",
    "        attention_mask = batch[\"attention_mask\"].to(model.device)\n",
    "        with torch.no_grad():\n",
    "            outputs = model(input_ids=input_ids, attention_mask=attention_mask)\n",
    "        logits = outputs.logits\n",
    "        preds = torch.argmax(logits, dim=1).cpu().numpy()\n",
    "        y_preds.extend(preds)\n",
    "\n",
    "    y_true_labels = y_val\n",
    "    y_pred_labels = y_preds\n",
    "\n",
    "    # classification report\n",
    "    report = classification_report(y_true_labels, y_pred_labels, target_names=ordered_columns, output_dict=True)\n",
    "    columns = [\"class\", \"precision\", \"recall\", \"f1-score\", \"support\"]\n",
    "    data = []\n",
    "    for label, metrics in report.items():\n",
    "        if isinstance(metrics, dict):\n",
    "            row = [label] + [metrics.get(col, None) for col in columns[1:]]\n",
    "            data.append(row)\n",
    "\n",
    "    table = wandb.Table(columns=columns, data=data)\n",
    "\n",
    "    wandb.log({\n",
    "        \"macro_f1\": float(report[\"macro avg\"][\"f1-score\"]),\n",
    "        \"accuracy\": float(report[\"accuracy\"]),\n",
    "        \"threat_f1\": float(report[\"협박 대화\"][\"f1-score\"]),\n",
    "        \"extortion_f1\": float(report[\"갈취 대화\"][\"f1-score\"]),\n",
    "        \"workplace_bullying_f1\": float(report[\"직장 내 괴롭힘 대화\"][\"f1-score\"]),\n",
    "        \"other_bullying_f1\": float(report[\"기타 괴롭힘 대화\"][\"f1-score\"]),\n",
    "        \"general_conversation_f1\": float(report[\"일반 대화\"][\"f1-score\"]),\n",
    "        \"classification_report\": table\n",
    "    })\n",
    "\n",
    "    run.finish()\n"
   ]
  },
  {
   "cell_type": "code",
   "execution_count": 18,
   "metadata": {
    "colab": {
     "base_uri": "https://localhost:8080/",
     "height": 1000,
     "referenced_widgets": [
      "6c1cba3baa7941c8a1cf9ebccd22adc8",
      "4dd00e1ddcb64dffab7e7d4533b79011",
      "2880a1c197b546b1a49d8bd45c34d651",
      "30083f54043d4ed2bd6f96e10136828e",
      "c3c61e41ccc94727a3ace2a40f812309",
      "13827d3e4c3b4504add1ba5ac2b38762",
      "f22e23e84bb14861a981a1c3572d35e0",
      "15d919f5aeda4681be75bffd76c326fe",
      "21148b3fcb544758b85d82a6ed35ef69",
      "88ee5f66129b44b19e5913f88238df2f",
      "262b101902c04bea9030143e632074cd",
      "3390b59ec9404f69a2359371aaf8ca9a",
      "1983799bcc514f929f9cae4a6ec28ea7",
      "257d1b0a44774b20a9efa082beeffa0b",
      "2b95d5e6b866456e8bb18a759ad776fa",
      "59042f61f1074a80bd932fc8caa68f3e",
      "b72d2128602848f1856490813e938dad",
      "31f65fc9648242e3a5c3ee55f3e8e714",
      "fca043e92f8d48d9838a530836acdeef",
      "aac0acd02a244488bc04dd572b5fafce",
      "5e4e45df5dd04ad8a558253a013d2547",
      "e33c19f7f5ef4bd5acb0ce1c11cf1a75",
      "8fb462cb34a94a04b25235bac4a65a1c",
      "b35b4c5a927b41e2b3d133c787232fe8",
      "8032403cff744735940ca802427255ab",
      "de0435978c99430d8c9b45f820d3aa0f",
      "a247395c12584dbe8f415e423e765558",
      "d48a844ecc744eb3808f135616673a13",
      "d174446ae7324fa5ae8f7b98f04d5bcc",
      "56f67bd231254943a7b3ab4ea50162a2",
      "0900c3698e3e4901b21a786a03143ba0",
      "0b49e00c55b34ef7a36f0d3b03f6a520",
      "e842a68476224cb1a5d2675087b42bf8",
      "8a055bfb8f84408abab3b85b67ed4220",
      "23843856a4ba4a57a1dd90ad99d23481",
      "338a1b47e4434707879912869520d49d",
      "50a0cd5bf1a1468e9074588e8528194b",
      "58d38d1a7727406b867f193a85de986a",
      "6927626a087a420da9d9cbd778943cb1",
      "6af2a5381af645dbb859eb76f2aa4f13",
      "e523c7e9b401423bb0a5121e08ee16fd",
      "189dd586e9874360879093c498868476",
      "cdf0ca5ade974d08be3d4484dcbf0faf",
      "0ee03038576f4871ae6e19435236bbac",
      "d285d5d692a74992886a841ef1806542",
      "0878c8b279114466af9ef5fb172d5c41",
      "ae90ca2bad99427f89092288a0a457df",
      "2a397630c47b455ba1fcdf180108b607",
      "8cdcb8e5a8eb4dfe9c7e931e59090126",
      "bc7cb7386df64c86871b3f2ae6615b0b",
      "c8c05f65f17a471daa7027dd2d5d3e53",
      "37407b278fa747aca53be5af7091f571",
      "87df380d884b4acebf2f591447327fff",
      "f2e494aef79940f08cd9d02c5cd0ff60",
      "3e1024534a504e5bbb811dedc971ef4e",
      "456314938f1d4442abc2afa671e93222",
      "5132c363f38c48c888d186cda880a489",
      "93176faefcba45268a432153f304b4ad",
      "a8ecdbdb8ec246d98bbd8154a5b9f02b",
      "8f48a4c8f3cb4721a3fa9eaf042e46e1",
      "ef6cef61f50a41f19dad36ffa62061fe",
      "dd5a033eb9014eecaef26c0f91dd68f8",
      "e90b78ae5ad94b91b3cd29fd2f9e315e",
      "25e0702954e54b619fa99c0cc76bc2b1",
      "fe2949fcb45545e2a4cde195614dc18b",
      "eef9af8f1ddc46dfb5aa98a167d965d0"
     ]
    },
    "id": "NWi9LBo7sN6C",
    "outputId": "54e92fcf-2869-457b-9209-c9375993025f"
   },
   "outputs": [
    {
     "data": {
      "text/html": [
       "Finishing previous runs because reinit is set to True."
      ],
      "text/plain": [
       "<IPython.core.display.HTML object>"
      ]
     },
     "metadata": {},
     "output_type": "display_data"
    },
    {
     "data": {
      "text/html": [],
      "text/plain": [
       "<IPython.core.display.HTML object>"
      ]
     },
     "metadata": {},
     "output_type": "display_data"
    },
    {
     "data": {
      "text/html": [
       "<br>    <style><br>        .wandb-row {<br>            display: flex;<br>            flex-direction: row;<br>            flex-wrap: wrap;<br>            justify-content: flex-start;<br>            width: 100%;<br>        }<br>        .wandb-col {<br>            display: flex;<br>            flex-direction: column;<br>            flex-basis: 100%;<br>            flex: 1;<br>            padding: 10px;<br>        }<br>    </style><br><div class=\"wandb-row\"><div class=\"wandb-col\"><h3>Run history:</h3><br/><table class=\"wandb\"><tr><td>test/Accuray f1</td><td>██▁▁▂▂</td></tr><tr><td>test/accuray</td><td>██▁▁▂▂</td></tr><tr><td>test/loss</td><td>▁▁▆█▇█</td></tr><tr><td>test/model_preparation_time</td><td>▄█▆▁▄▁</td></tr><tr><td>test/runtime</td><td>███▂▁▁</td></tr><tr><td>test/samples_per_second</td><td>▁▁▁▇██</td></tr><tr><td>test/steps_per_second</td><td>▁▁▁▇██</td></tr><tr><td>test/갈취 대화_f1</td><td>▇█▁▅▄▃</td></tr><tr><td>test/기타 괴롭힘 대화_f1</td><td>██▁▃▄▃</td></tr><tr><td>test/일반 대화_f1</td><td>██▁▁▂▂</td></tr><tr><td>test/직장 내 괴롭힘 대화_f1</td><td>▇█▅▁▁▂</td></tr><tr><td>test/협박 대화_f1</td><td>▃▆▁▃█▃</td></tr><tr><td>train/epoch</td><td>█▃▇██▃▇█▂▄▇█▁▃▄▆██</td></tr><tr><td>train/global_step</td><td>▁▁▃▃▁▁▃▃▁▃▅▅▁▃▅▆████████</td></tr><tr><td>train/grad_norm</td><td>▅▁▅▇▂▁▁█▁▁▁▁</td></tr><tr><td>train/learning_rate</td><td>▆▂▆▂▇▅▂█▆▄▃▁</td></tr><tr><td>train/loss</td><td>█▂▇▂▆▃▁▅▃▂▁▁</td></tr></table><br/></div><div class=\"wandb-col\"><h3>Run summary:</h3><br/><table class=\"wandb\"><tr><td>test/Accuray f1</td><td>0.70904</td></tr><tr><td>test/accuray</td><td>0.75754</td></tr><tr><td>test/loss</td><td>1.35784</td></tr><tr><td>test/model_preparation_time</td><td>0.0029</td></tr><tr><td>test/runtime</td><td>7.0522</td></tr><tr><td>test/samples_per_second</td><td>131.59</td></tr><tr><td>test/steps_per_second</td><td>16.449</td></tr><tr><td>test/갈취 대화_f1</td><td>0.83412</td></tr><tr><td>test/기타 괴롭힘 대화_f1</td><td>0.73799</td></tr><tr><td>test/일반 대화_f1</td><td>0.17341</td></tr><tr><td>test/직장 내 괴롭힘 대화_f1</td><td>0.84615</td></tr><tr><td>test/협박 대화_f1</td><td>0.86427</td></tr><tr><td>total_flos</td><td>2655125175604224.0</td></tr><tr><td>train/epoch</td><td>2</td></tr><tr><td>train/global_step</td><td>2524</td></tr><tr><td>train/grad_norm</td><td>0.03342</td></tr><tr><td>train/learning_rate</td><td>0.0</td></tr><tr><td>train/loss</td><td>0.0468</td></tr><tr><td>train_loss</td><td>0.1275</td></tr><tr><td>train_runtime</td><td>1113.8232</td></tr><tr><td>train_samples_per_second</td><td>36.239</td></tr><tr><td>train_steps_per_second</td><td>2.266</td></tr></table><br/></div></div>"
      ],
      "text/plain": [
       "<IPython.core.display.HTML object>"
      ]
     },
     "metadata": {},
     "output_type": "display_data"
    },
    {
     "data": {
      "text/html": [
       " View run <strong style=\"color:#cdcd00\">./results/model_1</strong> at: <a href='https://wandb.ai/jiwoong-team/huggingface/runs/5u2o1tin' target=\"_blank\">https://wandb.ai/jiwoong-team/huggingface/runs/5u2o1tin</a><br> View project at: <a href='https://wandb.ai/jiwoong-team/huggingface' target=\"_blank\">https://wandb.ai/jiwoong-team/huggingface</a><br>Synced 5 W&B file(s), 0 media file(s), 0 artifact file(s) and 0 other file(s)"
      ],
      "text/plain": [
       "<IPython.core.display.HTML object>"
      ]
     },
     "metadata": {},
     "output_type": "display_data"
    },
    {
     "data": {
      "text/html": [
       "Find logs at: <code>./wandb/run-20250505_140100-5u2o1tin/logs</code>"
      ],
      "text/plain": [
       "<IPython.core.display.HTML object>"
      ]
     },
     "metadata": {},
     "output_type": "display_data"
    },
    {
     "name": "stderr",
     "output_type": "stream",
     "text": [
      "\u001b[34m\u001b[1mwandb\u001b[0m: \u001b[33mWARNING\u001b[0m Using a boolean value for 'reinit' is deprecated. Use 'return_previous' or 'finish_previous' instead.\n"
     ]
    },
    {
     "data": {
      "text/html": [
       "Tracking run with wandb version 0.19.10"
      ],
      "text/plain": [
       "<IPython.core.display.HTML object>"
      ]
     },
     "metadata": {},
     "output_type": "display_data"
    },
    {
     "data": {
      "text/html": [
       "Run data is saved locally in <code>/content/wandb/run-20250505_150443-i5efnskd</code>"
      ],
      "text/plain": [
       "<IPython.core.display.HTML object>"
      ]
     },
     "metadata": {},
     "output_type": "display_data"
    },
    {
     "data": {
      "text/html": [
       "Syncing run <strong><a href='https://wandb.ai/jiwoong-team/DLThon-DKTC/runs/i5efnskd' target=\"_blank\">KcELECTRA_original_only</a></strong> to <a href='https://wandb.ai/jiwoong-team/DLThon-DKTC' target=\"_blank\">Weights & Biases</a> (<a href='https://wandb.me/developer-guide' target=\"_blank\">docs</a>)<br>"
      ],
      "text/plain": [
       "<IPython.core.display.HTML object>"
      ]
     },
     "metadata": {},
     "output_type": "display_data"
    },
    {
     "data": {
      "text/html": [
       " View project at <a href='https://wandb.ai/jiwoong-team/DLThon-DKTC' target=\"_blank\">https://wandb.ai/jiwoong-team/DLThon-DKTC</a>"
      ],
      "text/plain": [
       "<IPython.core.display.HTML object>"
      ]
     },
     "metadata": {},
     "output_type": "display_data"
    },
    {
     "data": {
      "text/html": [
       " View run at <a href='https://wandb.ai/jiwoong-team/DLThon-DKTC/runs/i5efnskd' target=\"_blank\">https://wandb.ai/jiwoong-team/DLThon-DKTC/runs/i5efnskd</a>"
      ],
      "text/plain": [
       "<IPython.core.display.HTML object>"
      ]
     },
     "metadata": {},
     "output_type": "display_data"
    },
    {
     "data": {
      "application/vnd.jupyter.widget-view+json": {
       "model_id": "6c1cba3baa7941c8a1cf9ebccd22adc8",
       "version_major": 2,
       "version_minor": 0
      },
      "text/plain": [
       "Map:   0%|          | 0/928 [00:00<?, ? examples/s]"
      ]
     },
     "metadata": {},
     "output_type": "display_data"
    },
    {
     "name": "stderr",
     "output_type": "stream",
     "text": [
      "Evaluating: 100%|██████████| 29/29 [00:06<00:00,  4.37it/s]\n"
     ]
    },
    {
     "data": {
      "text/html": [],
      "text/plain": [
       "<IPython.core.display.HTML object>"
      ]
     },
     "metadata": {},
     "output_type": "display_data"
    },
    {
     "data": {
      "text/html": [
       "<br>    <style><br>        .wandb-row {<br>            display: flex;<br>            flex-direction: row;<br>            flex-wrap: wrap;<br>            justify-content: flex-start;<br>            width: 100%;<br>        }<br>        .wandb-col {<br>            display: flex;<br>            flex-direction: column;<br>            flex-basis: 100%;<br>            flex: 1;<br>            padding: 10px;<br>        }<br>    </style><br><div class=\"wandb-row\"><div class=\"wandb-col\"><h3>Run history:</h3><br/><table class=\"wandb\"><tr><td>accuracy</td><td>▁</td></tr><tr><td>extortion_f1</td><td>▁</td></tr><tr><td>general_conversation_f1</td><td>▁</td></tr><tr><td>macro_f1</td><td>▁</td></tr><tr><td>other_bullying_f1</td><td>▁</td></tr><tr><td>threat_f1</td><td>▁</td></tr><tr><td>workplace_bullying_f1</td><td>▁</td></tr></table><br/></div><div class=\"wandb-col\"><h3>Run summary:</h3><br/><table class=\"wandb\"><tr><td>accuracy</td><td>0.90625</td></tr><tr><td>extortion_f1</td><td>0.86582</td></tr><tr><td>general_conversation_f1</td><td>0.98742</td></tr><tr><td>macro_f1</td><td>0.90898</td></tr><tr><td>other_bullying_f1</td><td>0.87065</td></tr><tr><td>threat_f1</td><td>0.86517</td></tr><tr><td>workplace_bullying_f1</td><td>0.95584</td></tr></table><br/></div></div>"
      ],
      "text/plain": [
       "<IPython.core.display.HTML object>"
      ]
     },
     "metadata": {},
     "output_type": "display_data"
    },
    {
     "data": {
      "text/html": [
       " View run <strong style=\"color:#cdcd00\">KcELECTRA_original_only</strong> at: <a href='https://wandb.ai/jiwoong-team/DLThon-DKTC/runs/i5efnskd' target=\"_blank\">https://wandb.ai/jiwoong-team/DLThon-DKTC/runs/i5efnskd</a><br> View project at: <a href='https://wandb.ai/jiwoong-team/DLThon-DKTC' target=\"_blank\">https://wandb.ai/jiwoong-team/DLThon-DKTC</a><br>Synced 5 W&B file(s), 1 media file(s), 2 artifact file(s) and 0 other file(s)"
      ],
      "text/plain": [
       "<IPython.core.display.HTML object>"
      ]
     },
     "metadata": {},
     "output_type": "display_data"
    },
    {
     "data": {
      "text/html": [
       "Find logs at: <code>./wandb/run-20250505_150443-i5efnskd/logs</code>"
      ],
      "text/plain": [
       "<IPython.core.display.HTML object>"
      ]
     },
     "metadata": {},
     "output_type": "display_data"
    },
    {
     "data": {
      "text/html": [
       "Tracking run with wandb version 0.19.10"
      ],
      "text/plain": [
       "<IPython.core.display.HTML object>"
      ]
     },
     "metadata": {},
     "output_type": "display_data"
    },
    {
     "data": {
      "text/html": [
       "Run data is saved locally in <code>/content/wandb/run-20250505_150454-mzcdw4cs</code>"
      ],
      "text/plain": [
       "<IPython.core.display.HTML object>"
      ]
     },
     "metadata": {},
     "output_type": "display_data"
    },
    {
     "data": {
      "text/html": [
       "Syncing run <strong><a href='https://wandb.ai/jiwoong-team/DLThon-DKTC/runs/mzcdw4cs' target=\"_blank\">KcELECTRA_eda</a></strong> to <a href='https://wandb.ai/jiwoong-team/DLThon-DKTC' target=\"_blank\">Weights & Biases</a> (<a href='https://wandb.me/developer-guide' target=\"_blank\">docs</a>)<br>"
      ],
      "text/plain": [
       "<IPython.core.display.HTML object>"
      ]
     },
     "metadata": {},
     "output_type": "display_data"
    },
    {
     "data": {
      "text/html": [
       " View project at <a href='https://wandb.ai/jiwoong-team/DLThon-DKTC' target=\"_blank\">https://wandb.ai/jiwoong-team/DLThon-DKTC</a>"
      ],
      "text/plain": [
       "<IPython.core.display.HTML object>"
      ]
     },
     "metadata": {},
     "output_type": "display_data"
    },
    {
     "data": {
      "text/html": [
       " View run at <a href='https://wandb.ai/jiwoong-team/DLThon-DKTC/runs/mzcdw4cs' target=\"_blank\">https://wandb.ai/jiwoong-team/DLThon-DKTC/runs/mzcdw4cs</a>"
      ],
      "text/plain": [
       "<IPython.core.display.HTML object>"
      ]
     },
     "metadata": {},
     "output_type": "display_data"
    },
    {
     "data": {
      "application/vnd.jupyter.widget-view+json": {
       "model_id": "3390b59ec9404f69a2359371aaf8ca9a",
       "version_major": 2,
       "version_minor": 0
      },
      "text/plain": [
       "Map:   0%|          | 0/928 [00:00<?, ? examples/s]"
      ]
     },
     "metadata": {},
     "output_type": "display_data"
    },
    {
     "name": "stderr",
     "output_type": "stream",
     "text": [
      "Evaluating: 100%|██████████| 29/29 [00:06<00:00,  4.24it/s]\n"
     ]
    },
    {
     "data": {
      "text/html": [],
      "text/plain": [
       "<IPython.core.display.HTML object>"
      ]
     },
     "metadata": {},
     "output_type": "display_data"
    },
    {
     "data": {
      "text/html": [
       "<br>    <style><br>        .wandb-row {<br>            display: flex;<br>            flex-direction: row;<br>            flex-wrap: wrap;<br>            justify-content: flex-start;<br>            width: 100%;<br>        }<br>        .wandb-col {<br>            display: flex;<br>            flex-direction: column;<br>            flex-basis: 100%;<br>            flex: 1;<br>            padding: 10px;<br>        }<br>    </style><br><div class=\"wandb-row\"><div class=\"wandb-col\"><h3>Run history:</h3><br/><table class=\"wandb\"><tr><td>accuracy</td><td>▁</td></tr><tr><td>extortion_f1</td><td>▁</td></tr><tr><td>general_conversation_f1</td><td>▁</td></tr><tr><td>macro_f1</td><td>▁</td></tr><tr><td>other_bullying_f1</td><td>▁</td></tr><tr><td>threat_f1</td><td>▁</td></tr><tr><td>workplace_bullying_f1</td><td>▁</td></tr></table><br/></div><div class=\"wandb-col\"><h3>Run summary:</h3><br/><table class=\"wandb\"><tr><td>accuracy</td><td>0.91595</td></tr><tr><td>extortion_f1</td><td>0.87781</td></tr><tr><td>general_conversation_f1</td><td>0.99371</td></tr><tr><td>macro_f1</td><td>0.91846</td></tr><tr><td>other_bullying_f1</td><td>0.88041</td></tr><tr><td>threat_f1</td><td>0.87395</td></tr><tr><td>workplace_bullying_f1</td><td>0.96641</td></tr></table><br/></div></div>"
      ],
      "text/plain": [
       "<IPython.core.display.HTML object>"
      ]
     },
     "metadata": {},
     "output_type": "display_data"
    },
    {
     "data": {
      "text/html": [
       " View run <strong style=\"color:#cdcd00\">KcELECTRA_eda</strong> at: <a href='https://wandb.ai/jiwoong-team/DLThon-DKTC/runs/mzcdw4cs' target=\"_blank\">https://wandb.ai/jiwoong-team/DLThon-DKTC/runs/mzcdw4cs</a><br> View project at: <a href='https://wandb.ai/jiwoong-team/DLThon-DKTC' target=\"_blank\">https://wandb.ai/jiwoong-team/DLThon-DKTC</a><br>Synced 5 W&B file(s), 1 media file(s), 2 artifact file(s) and 0 other file(s)"
      ],
      "text/plain": [
       "<IPython.core.display.HTML object>"
      ]
     },
     "metadata": {},
     "output_type": "display_data"
    },
    {
     "data": {
      "text/html": [
       "Find logs at: <code>./wandb/run-20250505_150454-mzcdw4cs/logs</code>"
      ],
      "text/plain": [
       "<IPython.core.display.HTML object>"
      ]
     },
     "metadata": {},
     "output_type": "display_data"
    },
    {
     "data": {
      "text/html": [
       "Tracking run with wandb version 0.19.10"
      ],
      "text/plain": [
       "<IPython.core.display.HTML object>"
      ]
     },
     "metadata": {},
     "output_type": "display_data"
    },
    {
     "data": {
      "text/html": [
       "Run data is saved locally in <code>/content/wandb/run-20250505_150504-yzv2f814</code>"
      ],
      "text/plain": [
       "<IPython.core.display.HTML object>"
      ]
     },
     "metadata": {},
     "output_type": "display_data"
    },
    {
     "data": {
      "text/html": [
       "Syncing run <strong><a href='https://wandb.ai/jiwoong-team/DLThon-DKTC/runs/yzv2f814' target=\"_blank\">KcELECTRA_eda</a></strong> to <a href='https://wandb.ai/jiwoong-team/DLThon-DKTC' target=\"_blank\">Weights & Biases</a> (<a href='https://wandb.me/developer-guide' target=\"_blank\">docs</a>)<br>"
      ],
      "text/plain": [
       "<IPython.core.display.HTML object>"
      ]
     },
     "metadata": {},
     "output_type": "display_data"
    },
    {
     "data": {
      "text/html": [
       " View project at <a href='https://wandb.ai/jiwoong-team/DLThon-DKTC' target=\"_blank\">https://wandb.ai/jiwoong-team/DLThon-DKTC</a>"
      ],
      "text/plain": [
       "<IPython.core.display.HTML object>"
      ]
     },
     "metadata": {},
     "output_type": "display_data"
    },
    {
     "data": {
      "text/html": [
       " View run at <a href='https://wandb.ai/jiwoong-team/DLThon-DKTC/runs/yzv2f814' target=\"_blank\">https://wandb.ai/jiwoong-team/DLThon-DKTC/runs/yzv2f814</a>"
      ],
      "text/plain": [
       "<IPython.core.display.HTML object>"
      ]
     },
     "metadata": {},
     "output_type": "display_data"
    },
    {
     "data": {
      "application/vnd.jupyter.widget-view+json": {
       "model_id": "8fb462cb34a94a04b25235bac4a65a1c",
       "version_major": 2,
       "version_minor": 0
      },
      "text/plain": [
       "Map:   0%|          | 0/928 [00:00<?, ? examples/s]"
      ]
     },
     "metadata": {},
     "output_type": "display_data"
    },
    {
     "name": "stderr",
     "output_type": "stream",
     "text": [
      "Evaluating: 100%|██████████| 29/29 [00:06<00:00,  4.17it/s]\n",
      "/usr/local/lib/python3.11/dist-packages/sklearn/metrics/_classification.py:1565: UndefinedMetricWarning: Precision is ill-defined and being set to 0.0 in labels with no predicted samples. Use `zero_division` parameter to control this behavior.\n",
      "  _warn_prf(average, modifier, f\"{metric.capitalize()} is\", len(result))\n",
      "/usr/local/lib/python3.11/dist-packages/sklearn/metrics/_classification.py:1565: UndefinedMetricWarning: Precision is ill-defined and being set to 0.0 in labels with no predicted samples. Use `zero_division` parameter to control this behavior.\n",
      "  _warn_prf(average, modifier, f\"{metric.capitalize()} is\", len(result))\n",
      "/usr/local/lib/python3.11/dist-packages/sklearn/metrics/_classification.py:1565: UndefinedMetricWarning: Precision is ill-defined and being set to 0.0 in labels with no predicted samples. Use `zero_division` parameter to control this behavior.\n",
      "  _warn_prf(average, modifier, f\"{metric.capitalize()} is\", len(result))\n"
     ]
    },
    {
     "data": {
      "text/html": [],
      "text/plain": [
       "<IPython.core.display.HTML object>"
      ]
     },
     "metadata": {},
     "output_type": "display_data"
    },
    {
     "data": {
      "text/html": [
       "<br>    <style><br>        .wandb-row {<br>            display: flex;<br>            flex-direction: row;<br>            flex-wrap: wrap;<br>            justify-content: flex-start;<br>            width: 100%;<br>        }<br>        .wandb-col {<br>            display: flex;<br>            flex-direction: column;<br>            flex-basis: 100%;<br>            flex: 1;<br>            padding: 10px;<br>        }<br>    </style><br><div class=\"wandb-row\"><div class=\"wandb-col\"><h3>Run history:</h3><br/><table class=\"wandb\"><tr><td>accuracy</td><td>▁</td></tr><tr><td>extortion_f1</td><td>▁</td></tr><tr><td>general_conversation_f1</td><td>▁</td></tr><tr><td>macro_f1</td><td>▁</td></tr><tr><td>other_bullying_f1</td><td>▁</td></tr><tr><td>threat_f1</td><td>▁</td></tr><tr><td>workplace_bullying_f1</td><td>▁</td></tr></table><br/></div><div class=\"wandb-col\"><h3>Run summary:</h3><br/><table class=\"wandb\"><tr><td>accuracy</td><td>0.73599</td></tr><tr><td>extortion_f1</td><td>0.82135</td></tr><tr><td>general_conversation_f1</td><td>0</td></tr><tr><td>macro_f1</td><td>0.65169</td></tr><tr><td>other_bullying_f1</td><td>0.66798</td></tr><tr><td>threat_f1</td><td>0.85552</td></tr><tr><td>workplace_bullying_f1</td><td>0.91358</td></tr></table><br/></div></div>"
      ],
      "text/plain": [
       "<IPython.core.display.HTML object>"
      ]
     },
     "metadata": {},
     "output_type": "display_data"
    },
    {
     "data": {
      "text/html": [
       " View run <strong style=\"color:#cdcd00\">KcELECTRA_eda</strong> at: <a href='https://wandb.ai/jiwoong-team/DLThon-DKTC/runs/yzv2f814' target=\"_blank\">https://wandb.ai/jiwoong-team/DLThon-DKTC/runs/yzv2f814</a><br> View project at: <a href='https://wandb.ai/jiwoong-team/DLThon-DKTC' target=\"_blank\">https://wandb.ai/jiwoong-team/DLThon-DKTC</a><br>Synced 5 W&B file(s), 1 media file(s), 2 artifact file(s) and 0 other file(s)"
      ],
      "text/plain": [
       "<IPython.core.display.HTML object>"
      ]
     },
     "metadata": {},
     "output_type": "display_data"
    },
    {
     "data": {
      "text/html": [
       "Find logs at: <code>./wandb/run-20250505_150504-yzv2f814/logs</code>"
      ],
      "text/plain": [
       "<IPython.core.display.HTML object>"
      ]
     },
     "metadata": {},
     "output_type": "display_data"
    },
    {
     "data": {
      "text/html": [
       "Tracking run with wandb version 0.19.10"
      ],
      "text/plain": [
       "<IPython.core.display.HTML object>"
      ]
     },
     "metadata": {},
     "output_type": "display_data"
    },
    {
     "data": {
      "text/html": [
       "Run data is saved locally in <code>/content/wandb/run-20250505_150513-afh6vfho</code>"
      ],
      "text/plain": [
       "<IPython.core.display.HTML object>"
      ]
     },
     "metadata": {},
     "output_type": "display_data"
    },
    {
     "data": {
      "text/html": [
       "Syncing run <strong><a href='https://wandb.ai/jiwoong-team/DLThon-DKTC/runs/afh6vfho' target=\"_blank\">KcELECTRA_synonym_eda</a></strong> to <a href='https://wandb.ai/jiwoong-team/DLThon-DKTC' target=\"_blank\">Weights & Biases</a> (<a href='https://wandb.me/developer-guide' target=\"_blank\">docs</a>)<br>"
      ],
      "text/plain": [
       "<IPython.core.display.HTML object>"
      ]
     },
     "metadata": {},
     "output_type": "display_data"
    },
    {
     "data": {
      "text/html": [
       " View project at <a href='https://wandb.ai/jiwoong-team/DLThon-DKTC' target=\"_blank\">https://wandb.ai/jiwoong-team/DLThon-DKTC</a>"
      ],
      "text/plain": [
       "<IPython.core.display.HTML object>"
      ]
     },
     "metadata": {},
     "output_type": "display_data"
    },
    {
     "data": {
      "text/html": [
       " View run at <a href='https://wandb.ai/jiwoong-team/DLThon-DKTC/runs/afh6vfho' target=\"_blank\">https://wandb.ai/jiwoong-team/DLThon-DKTC/runs/afh6vfho</a>"
      ],
      "text/plain": [
       "<IPython.core.display.HTML object>"
      ]
     },
     "metadata": {},
     "output_type": "display_data"
    },
    {
     "data": {
      "application/vnd.jupyter.widget-view+json": {
       "model_id": "8a055bfb8f84408abab3b85b67ed4220",
       "version_major": 2,
       "version_minor": 0
      },
      "text/plain": [
       "Map:   0%|          | 0/928 [00:00<?, ? examples/s]"
      ]
     },
     "metadata": {},
     "output_type": "display_data"
    },
    {
     "name": "stderr",
     "output_type": "stream",
     "text": [
      "Evaluating: 100%|██████████| 29/29 [00:06<00:00,  4.18it/s]\n",
      "/usr/local/lib/python3.11/dist-packages/sklearn/metrics/_classification.py:1565: UndefinedMetricWarning: Precision is ill-defined and being set to 0.0 in labels with no predicted samples. Use `zero_division` parameter to control this behavior.\n",
      "  _warn_prf(average, modifier, f\"{metric.capitalize()} is\", len(result))\n",
      "/usr/local/lib/python3.11/dist-packages/sklearn/metrics/_classification.py:1565: UndefinedMetricWarning: Precision is ill-defined and being set to 0.0 in labels with no predicted samples. Use `zero_division` parameter to control this behavior.\n",
      "  _warn_prf(average, modifier, f\"{metric.capitalize()} is\", len(result))\n",
      "/usr/local/lib/python3.11/dist-packages/sklearn/metrics/_classification.py:1565: UndefinedMetricWarning: Precision is ill-defined and being set to 0.0 in labels with no predicted samples. Use `zero_division` parameter to control this behavior.\n",
      "  _warn_prf(average, modifier, f\"{metric.capitalize()} is\", len(result))\n"
     ]
    },
    {
     "data": {
      "text/html": [],
      "text/plain": [
       "<IPython.core.display.HTML object>"
      ]
     },
     "metadata": {},
     "output_type": "display_data"
    },
    {
     "data": {
      "text/html": [
       "<br>    <style><br>        .wandb-row {<br>            display: flex;<br>            flex-direction: row;<br>            flex-wrap: wrap;<br>            justify-content: flex-start;<br>            width: 100%;<br>        }<br>        .wandb-col {<br>            display: flex;<br>            flex-direction: column;<br>            flex-basis: 100%;<br>            flex: 1;<br>            padding: 10px;<br>        }<br>    </style><br><div class=\"wandb-row\"><div class=\"wandb-col\"><h3>Run history:</h3><br/><table class=\"wandb\"><tr><td>accuracy</td><td>▁</td></tr><tr><td>extortion_f1</td><td>▁</td></tr><tr><td>general_conversation_f1</td><td>▁</td></tr><tr><td>macro_f1</td><td>▁</td></tr><tr><td>other_bullying_f1</td><td>▁</td></tr><tr><td>threat_f1</td><td>▁</td></tr><tr><td>workplace_bullying_f1</td><td>▁</td></tr></table><br/></div><div class=\"wandb-col\"><h3>Run summary:</h3><br/><table class=\"wandb\"><tr><td>accuracy</td><td>0.74677</td></tr><tr><td>extortion_f1</td><td>0.85504</td></tr><tr><td>general_conversation_f1</td><td>0</td></tr><tr><td>macro_f1</td><td>0.65581</td></tr><tr><td>other_bullying_f1</td><td>0.73434</td></tr><tr><td>threat_f1</td><td>0.86179</td></tr><tr><td>workplace_bullying_f1</td><td>0.82789</td></tr></table><br/></div></div>"
      ],
      "text/plain": [
       "<IPython.core.display.HTML object>"
      ]
     },
     "metadata": {},
     "output_type": "display_data"
    },
    {
     "data": {
      "text/html": [
       " View run <strong style=\"color:#cdcd00\">KcELECTRA_synonym_eda</strong> at: <a href='https://wandb.ai/jiwoong-team/DLThon-DKTC/runs/afh6vfho' target=\"_blank\">https://wandb.ai/jiwoong-team/DLThon-DKTC/runs/afh6vfho</a><br> View project at: <a href='https://wandb.ai/jiwoong-team/DLThon-DKTC' target=\"_blank\">https://wandb.ai/jiwoong-team/DLThon-DKTC</a><br>Synced 5 W&B file(s), 1 media file(s), 2 artifact file(s) and 0 other file(s)"
      ],
      "text/plain": [
       "<IPython.core.display.HTML object>"
      ]
     },
     "metadata": {},
     "output_type": "display_data"
    },
    {
     "data": {
      "text/html": [
       "Find logs at: <code>./wandb/run-20250505_150513-afh6vfho/logs</code>"
      ],
      "text/plain": [
       "<IPython.core.display.HTML object>"
      ]
     },
     "metadata": {},
     "output_type": "display_data"
    },
    {
     "data": {
      "text/html": [
       "Tracking run with wandb version 0.19.10"
      ],
      "text/plain": [
       "<IPython.core.display.HTML object>"
      ]
     },
     "metadata": {},
     "output_type": "display_data"
    },
    {
     "data": {
      "text/html": [
       "Run data is saved locally in <code>/content/wandb/run-20250505_150523-escpz2ga</code>"
      ],
      "text/plain": [
       "<IPython.core.display.HTML object>"
      ]
     },
     "metadata": {},
     "output_type": "display_data"
    },
    {
     "data": {
      "text/html": [
       "Syncing run <strong><a href='https://wandb.ai/jiwoong-team/DLThon-DKTC/runs/escpz2ga' target=\"_blank\">KcELECTRA_synonym_eda</a></strong> to <a href='https://wandb.ai/jiwoong-team/DLThon-DKTC' target=\"_blank\">Weights & Biases</a> (<a href='https://wandb.me/developer-guide' target=\"_blank\">docs</a>)<br>"
      ],
      "text/plain": [
       "<IPython.core.display.HTML object>"
      ]
     },
     "metadata": {},
     "output_type": "display_data"
    },
    {
     "data": {
      "text/html": [
       " View project at <a href='https://wandb.ai/jiwoong-team/DLThon-DKTC' target=\"_blank\">https://wandb.ai/jiwoong-team/DLThon-DKTC</a>"
      ],
      "text/plain": [
       "<IPython.core.display.HTML object>"
      ]
     },
     "metadata": {},
     "output_type": "display_data"
    },
    {
     "data": {
      "text/html": [
       " View run at <a href='https://wandb.ai/jiwoong-team/DLThon-DKTC/runs/escpz2ga' target=\"_blank\">https://wandb.ai/jiwoong-team/DLThon-DKTC/runs/escpz2ga</a>"
      ],
      "text/plain": [
       "<IPython.core.display.HTML object>"
      ]
     },
     "metadata": {},
     "output_type": "display_data"
    },
    {
     "data": {
      "application/vnd.jupyter.widget-view+json": {
       "model_id": "d285d5d692a74992886a841ef1806542",
       "version_major": 2,
       "version_minor": 0
      },
      "text/plain": [
       "Map:   0%|          | 0/928 [00:00<?, ? examples/s]"
      ]
     },
     "metadata": {},
     "output_type": "display_data"
    },
    {
     "name": "stderr",
     "output_type": "stream",
     "text": [
      "Evaluating: 100%|██████████| 29/29 [00:06<00:00,  4.27it/s]\n"
     ]
    },
    {
     "data": {
      "text/html": [],
      "text/plain": [
       "<IPython.core.display.HTML object>"
      ]
     },
     "metadata": {},
     "output_type": "display_data"
    },
    {
     "data": {
      "text/html": [
       "<br>    <style><br>        .wandb-row {<br>            display: flex;<br>            flex-direction: row;<br>            flex-wrap: wrap;<br>            justify-content: flex-start;<br>            width: 100%;<br>        }<br>        .wandb-col {<br>            display: flex;<br>            flex-direction: column;<br>            flex-basis: 100%;<br>            flex: 1;<br>            padding: 10px;<br>        }<br>    </style><br><div class=\"wandb-row\"><div class=\"wandb-col\"><h3>Run history:</h3><br/><table class=\"wandb\"><tr><td>accuracy</td><td>▁</td></tr><tr><td>extortion_f1</td><td>▁</td></tr><tr><td>general_conversation_f1</td><td>▁</td></tr><tr><td>macro_f1</td><td>▁</td></tr><tr><td>other_bullying_f1</td><td>▁</td></tr><tr><td>threat_f1</td><td>▁</td></tr><tr><td>workplace_bullying_f1</td><td>▁</td></tr></table><br/></div><div class=\"wandb-col\"><h3>Run summary:</h3><br/><table class=\"wandb\"><tr><td>accuracy</td><td>0.75862</td></tr><tr><td>extortion_f1</td><td>0.84653</td></tr><tr><td>general_conversation_f1</td><td>0.09639</td></tr><tr><td>macro_f1</td><td>0.6815</td></tr><tr><td>other_bullying_f1</td><td>0.74627</td></tr><tr><td>threat_f1</td><td>0.88347</td></tr><tr><td>workplace_bullying_f1</td><td>0.83482</td></tr></table><br/></div></div>"
      ],
      "text/plain": [
       "<IPython.core.display.HTML object>"
      ]
     },
     "metadata": {},
     "output_type": "display_data"
    },
    {
     "data": {
      "text/html": [
       " View run <strong style=\"color:#cdcd00\">KcELECTRA_synonym_eda</strong> at: <a href='https://wandb.ai/jiwoong-team/DLThon-DKTC/runs/escpz2ga' target=\"_blank\">https://wandb.ai/jiwoong-team/DLThon-DKTC/runs/escpz2ga</a><br> View project at: <a href='https://wandb.ai/jiwoong-team/DLThon-DKTC' target=\"_blank\">https://wandb.ai/jiwoong-team/DLThon-DKTC</a><br>Synced 5 W&B file(s), 1 media file(s), 2 artifact file(s) and 0 other file(s)"
      ],
      "text/plain": [
       "<IPython.core.display.HTML object>"
      ]
     },
     "metadata": {},
     "output_type": "display_data"
    },
    {
     "data": {
      "text/html": [
       "Find logs at: <code>./wandb/run-20250505_150523-escpz2ga/logs</code>"
      ],
      "text/plain": [
       "<IPython.core.display.HTML object>"
      ]
     },
     "metadata": {},
     "output_type": "display_data"
    },
    {
     "data": {
      "text/html": [
       "Tracking run with wandb version 0.19.10"
      ],
      "text/plain": [
       "<IPython.core.display.HTML object>"
      ]
     },
     "metadata": {},
     "output_type": "display_data"
    },
    {
     "data": {
      "text/html": [
       "Run data is saved locally in <code>/content/wandb/run-20250505_150532-59xro70g</code>"
      ],
      "text/plain": [
       "<IPython.core.display.HTML object>"
      ]
     },
     "metadata": {},
     "output_type": "display_data"
    },
    {
     "data": {
      "text/html": [
       "Syncing run <strong><a href='https://wandb.ai/jiwoong-team/DLThon-DKTC/runs/59xro70g' target=\"_blank\">KcELECTRA_16000_eda</a></strong> to <a href='https://wandb.ai/jiwoong-team/DLThon-DKTC' target=\"_blank\">Weights & Biases</a> (<a href='https://wandb.me/developer-guide' target=\"_blank\">docs</a>)<br>"
      ],
      "text/plain": [
       "<IPython.core.display.HTML object>"
      ]
     },
     "metadata": {},
     "output_type": "display_data"
    },
    {
     "data": {
      "text/html": [
       " View project at <a href='https://wandb.ai/jiwoong-team/DLThon-DKTC' target=\"_blank\">https://wandb.ai/jiwoong-team/DLThon-DKTC</a>"
      ],
      "text/plain": [
       "<IPython.core.display.HTML object>"
      ]
     },
     "metadata": {},
     "output_type": "display_data"
    },
    {
     "data": {
      "text/html": [
       " View run at <a href='https://wandb.ai/jiwoong-team/DLThon-DKTC/runs/59xro70g' target=\"_blank\">https://wandb.ai/jiwoong-team/DLThon-DKTC/runs/59xro70g</a>"
      ],
      "text/plain": [
       "<IPython.core.display.HTML object>"
      ]
     },
     "metadata": {},
     "output_type": "display_data"
    },
    {
     "data": {
      "application/vnd.jupyter.widget-view+json": {
       "model_id": "456314938f1d4442abc2afa671e93222",
       "version_major": 2,
       "version_minor": 0
      },
      "text/plain": [
       "Map:   0%|          | 0/928 [00:00<?, ? examples/s]"
      ]
     },
     "metadata": {},
     "output_type": "display_data"
    },
    {
     "name": "stderr",
     "output_type": "stream",
     "text": [
      "Evaluating: 100%|██████████| 29/29 [00:06<00:00,  4.27it/s]\n"
     ]
    },
    {
     "data": {
      "text/html": [],
      "text/plain": [
       "<IPython.core.display.HTML object>"
      ]
     },
     "metadata": {},
     "output_type": "display_data"
    },
    {
     "data": {
      "text/html": [
       "<br>    <style><br>        .wandb-row {<br>            display: flex;<br>            flex-direction: row;<br>            flex-wrap: wrap;<br>            justify-content: flex-start;<br>            width: 100%;<br>        }<br>        .wandb-col {<br>            display: flex;<br>            flex-direction: column;<br>            flex-basis: 100%;<br>            flex: 1;<br>            padding: 10px;<br>        }<br>    </style><br><div class=\"wandb-row\"><div class=\"wandb-col\"><h3>Run history:</h3><br/><table class=\"wandb\"><tr><td>accuracy</td><td>▁</td></tr><tr><td>extortion_f1</td><td>▁</td></tr><tr><td>general_conversation_f1</td><td>▁</td></tr><tr><td>macro_f1</td><td>▁</td></tr><tr><td>other_bullying_f1</td><td>▁</td></tr><tr><td>threat_f1</td><td>▁</td></tr><tr><td>workplace_bullying_f1</td><td>▁</td></tr></table><br/></div><div class=\"wandb-col\"><h3>Run summary:</h3><br/><table class=\"wandb\"><tr><td>accuracy</td><td>0.75754</td></tr><tr><td>extortion_f1</td><td>0.83412</td></tr><tr><td>general_conversation_f1</td><td>0.17341</td></tr><tr><td>macro_f1</td><td>0.69119</td></tr><tr><td>other_bullying_f1</td><td>0.73799</td></tr><tr><td>threat_f1</td><td>0.86427</td></tr><tr><td>workplace_bullying_f1</td><td>0.84615</td></tr></table><br/></div></div>"
      ],
      "text/plain": [
       "<IPython.core.display.HTML object>"
      ]
     },
     "metadata": {},
     "output_type": "display_data"
    },
    {
     "data": {
      "text/html": [
       " View run <strong style=\"color:#cdcd00\">KcELECTRA_16000_eda</strong> at: <a href='https://wandb.ai/jiwoong-team/DLThon-DKTC/runs/59xro70g' target=\"_blank\">https://wandb.ai/jiwoong-team/DLThon-DKTC/runs/59xro70g</a><br> View project at: <a href='https://wandb.ai/jiwoong-team/DLThon-DKTC' target=\"_blank\">https://wandb.ai/jiwoong-team/DLThon-DKTC</a><br>Synced 5 W&B file(s), 1 media file(s), 2 artifact file(s) and 0 other file(s)"
      ],
      "text/plain": [
       "<IPython.core.display.HTML object>"
      ]
     },
     "metadata": {},
     "output_type": "display_data"
    },
    {
     "data": {
      "text/html": [
       "Find logs at: <code>./wandb/run-20250505_150532-59xro70g/logs</code>"
      ],
      "text/plain": [
       "<IPython.core.display.HTML object>"
      ]
     },
     "metadata": {},
     "output_type": "display_data"
    }
   ],
   "source": [
    "model1 = ElectraForSequenceClassification.from_pretrained(\"./results/model_1\").to(device)\n",
    "model2 = ElectraForSequenceClassification.from_pretrained(\"./results/model_2\").to(device)\n",
    "model3 = ElectraForSequenceClassification.from_pretrained(\"./results/model_3\").to(device)\n",
    "model4 = ElectraForSequenceClassification.from_pretrained(\"./results/model_4\").to(device)\n",
    "model5 = ElectraForSequenceClassification.from_pretrained(\"./results/model_5\").to(device)\n",
    "model6 = ElectraForSequenceClassification.from_pretrained(\"./results/model_6\").to(device)\n",
    "# 모델 1: 원본 데이터만\n",
    "log_model_to_wandb(\n",
    "    model1,\n",
    "    run_name=\"KcELECTRA_original_only\",\n",
    "    notes=\"원본 데이터만 사용\",\n",
    "    X_train=X1, y_train=y1,\n",
    "    X_val=X_val_raw, y_val=y_val,\n",
    "    ordered_columns=ordered_columns\n",
    ")\n",
    "\n",
    "# 모델 2: 원본 + EDA\n",
    "log_model_to_wandb(\n",
    "    model2,\n",
    "    run_name=\"KcELECTRA_eda\",\n",
    "    notes=\"원본 + EDA 증강\",\n",
    "    X_train=X2, y_train=y2,\n",
    "    X_val=X_val_raw, y_val=y_val,\n",
    "    ordered_columns=ordered_columns\n",
    ")\n",
    "# 모델 2: 원본 + EDA\n",
    "log_model_to_wandb(\n",
    "    model3,\n",
    "    run_name=\"KcELECTRA_eda\",\n",
    "    notes=\"원본 + 1000\",\n",
    "    X_train=X3, y_train=y3,\n",
    "    X_val=X_val_raw, y_val=y_val,\n",
    "    ordered_columns=ordered_columns\n",
    ")\n",
    "\n",
    "# 모델 4:\n",
    "log_model_to_wandb(\n",
    "    model4,\n",
    "    run_name=\"KcELECTRA_synonym_eda\",\n",
    "    notes=\"원본 + 2000 + EDA 증강\",\n",
    "    X_train=X4_enc, y_train=y4_cat,\n",
    "    X_val=X_val_raw, y_val=y_val,\n",
    "    ordered_columns=ordered_columns\n",
    ")\n",
    "# 모델 5\n",
    "log_model_to_wandb(\n",
    "    model5,\n",
    "    run_name=\"KcELECTRA_synonym_eda\",\n",
    "    notes=\"원본 + 8000 + EDA 증강\",\n",
    "    X_train=X5, y_train=y5,\n",
    "    X_val=X_val_raw, y_val=y_val,\n",
    "    ordered_columns=ordered_columns\n",
    ")\n",
    "# 모델 4: 원본 + Synonym + EDA\n",
    "log_model_to_wandb(\n",
    "    model6,\n",
    "    run_name=\"KcELECTRA_16000_eda\",\n",
    "    notes=\"원본 + 160000 + EDA 증강\",\n",
    "    X_train=X6, y_train=y6,\n",
    "    X_val=X_val_raw, y_val=y_val,\n",
    "    ordered_columns=ordered_columns\n",
    ")\n",
    "\n"
   ]
  },
  {
   "cell_type": "code",
   "execution_count": 19,
   "metadata": {
    "colab": {
     "base_uri": "https://localhost:8080/",
     "height": 1000,
     "referenced_widgets": [
      "65750617110540eeb6c17b93a936b4eb",
      "9888d36786834f05a49a8d7aa007d5cd",
      "6a8b08d57593403d8f33730773fd9281",
      "daee8be6ea3d44e39d192094d5c60c18",
      "be8907ef95cd43d5aa0f309ec235bb07",
      "054482967ed6440f8f8b408f9c377470",
      "10e80e71349c42ebba446cc934dea9fb",
      "3385bd9376f34cd3a7cb332e9c6ba416",
      "8b6bb55641f649c5a5475549f23956f5",
      "5b589d96c0fb4ade9c1e45271443b64e",
      "a08d574de76a47d785b7c97bdccbea20"
     ]
    },
    "id": "YNFI_EucsOAt",
    "outputId": "a03320bc-0899-461e-9ab5-2e6b8b9eaa33"
   },
   "outputs": [
    {
     "data": {
      "application/vnd.jupyter.widget-view+json": {
       "model_id": "65750617110540eeb6c17b93a936b4eb",
       "version_major": 2,
       "version_minor": 0
      },
      "text/plain": [
       "Map:   0%|          | 0/928 [00:00<?, ? examples/s]"
      ]
     },
     "metadata": {},
     "output_type": "display_data"
    },
    {
     "name": "stdout",
     "output_type": "stream",
     "text": [
      "\n",
      " 모델별 confusion matrix 및 classification report\n",
      "\n",
      " 모델 1: 원본\n"
     ]
    },
    {
     "name": "stderr",
     "output_type": "stream",
     "text": [
      "<ipython-input-19-48dff5dd9374>:18: FutureWarning: `tokenizer` is deprecated and will be removed in version 5.0.0 for `Trainer.__init__`. Use `processing_class` instead.\n",
      "  trainer = Trainer(model=model, tokenizer=tokenizer)\n"
     ]
    },
    {
     "data": {
      "text/html": [],
      "text/plain": [
       "<IPython.core.display.HTML object>"
      ]
     },
     "metadata": {},
     "output_type": "display_data"
    },
    {
     "data": {
      "text/html": [
       "Tracking run with wandb version 0.19.10"
      ],
      "text/plain": [
       "<IPython.core.display.HTML object>"
      ]
     },
     "metadata": {},
     "output_type": "display_data"
    },
    {
     "data": {
      "text/html": [
       "Run data is saved locally in <code>/content/wandb/run-20250505_150551-kwd6ebho</code>"
      ],
      "text/plain": [
       "<IPython.core.display.HTML object>"
      ]
     },
     "metadata": {},
     "output_type": "display_data"
    },
    {
     "data": {
      "text/html": [
       "Syncing run <strong><a href='https://wandb.ai/jiwoong-team/huggingface/runs/kwd6ebho' target=\"_blank\">tmp_trainer</a></strong> to <a href='https://wandb.ai/jiwoong-team/huggingface' target=\"_blank\">Weights & Biases</a> (<a href='https://wandb.me/developer-guide' target=\"_blank\">docs</a>)<br>"
      ],
      "text/plain": [
       "<IPython.core.display.HTML object>"
      ]
     },
     "metadata": {},
     "output_type": "display_data"
    },
    {
     "data": {
      "text/html": [
       " View project at <a href='https://wandb.ai/jiwoong-team/huggingface' target=\"_blank\">https://wandb.ai/jiwoong-team/huggingface</a>"
      ],
      "text/plain": [
       "<IPython.core.display.HTML object>"
      ]
     },
     "metadata": {},
     "output_type": "display_data"
    },
    {
     "data": {
      "text/html": [
       " View run at <a href='https://wandb.ai/jiwoong-team/huggingface/runs/kwd6ebho' target=\"_blank\">https://wandb.ai/jiwoong-team/huggingface/runs/kwd6ebho</a>"
      ],
      "text/plain": [
       "<IPython.core.display.HTML object>"
      ]
     },
     "metadata": {},
     "output_type": "display_data"
    },
    {
     "name": "stdout",
     "output_type": "stream",
     "text": [
      "Confusion Matrix:\n",
      "[[154  13   3   9   0]\n",
      " [ 12 171   1  10   1]\n",
      " [  1   1 184   6   2]\n",
      " [ 10  14   3 175   0]\n",
      " [  0   1   0   0 157]]\n"
     ]
    },
    {
     "name": "stderr",
     "output_type": "stream",
     "text": [
      "/usr/local/lib/python3.11/dist-packages/seaborn/utils.py:61: UserWarning: Glyph 54801 (\\N{HANGUL SYLLABLE HYEOB}) missing from font(s) DejaVu Sans.\n",
      "  fig.canvas.draw()\n",
      "/usr/local/lib/python3.11/dist-packages/seaborn/utils.py:61: UserWarning: Glyph 48149 (\\N{HANGUL SYLLABLE BAG}) missing from font(s) DejaVu Sans.\n",
      "  fig.canvas.draw()\n",
      "/usr/local/lib/python3.11/dist-packages/seaborn/utils.py:61: UserWarning: Glyph 45824 (\\N{HANGUL SYLLABLE DAE}) missing from font(s) DejaVu Sans.\n",
      "  fig.canvas.draw()\n",
      "/usr/local/lib/python3.11/dist-packages/seaborn/utils.py:61: UserWarning: Glyph 54868 (\\N{HANGUL SYLLABLE HWA}) missing from font(s) DejaVu Sans.\n",
      "  fig.canvas.draw()\n",
      "/usr/local/lib/python3.11/dist-packages/seaborn/utils.py:61: UserWarning: Glyph 44040 (\\N{HANGUL SYLLABLE GAL}) missing from font(s) DejaVu Sans.\n",
      "  fig.canvas.draw()\n",
      "/usr/local/lib/python3.11/dist-packages/seaborn/utils.py:61: UserWarning: Glyph 52712 (\\N{HANGUL SYLLABLE CWI}) missing from font(s) DejaVu Sans.\n",
      "  fig.canvas.draw()\n",
      "/usr/local/lib/python3.11/dist-packages/seaborn/utils.py:61: UserWarning: Glyph 51649 (\\N{HANGUL SYLLABLE JIG}) missing from font(s) DejaVu Sans.\n",
      "  fig.canvas.draw()\n",
      "/usr/local/lib/python3.11/dist-packages/seaborn/utils.py:61: UserWarning: Glyph 51109 (\\N{HANGUL SYLLABLE JANG}) missing from font(s) DejaVu Sans.\n",
      "  fig.canvas.draw()\n",
      "/usr/local/lib/python3.11/dist-packages/seaborn/utils.py:61: UserWarning: Glyph 45236 (\\N{HANGUL SYLLABLE NAE}) missing from font(s) DejaVu Sans.\n",
      "  fig.canvas.draw()\n",
      "/usr/local/lib/python3.11/dist-packages/seaborn/utils.py:61: UserWarning: Glyph 44340 (\\N{HANGUL SYLLABLE GOE}) missing from font(s) DejaVu Sans.\n",
      "  fig.canvas.draw()\n",
      "/usr/local/lib/python3.11/dist-packages/seaborn/utils.py:61: UserWarning: Glyph 47213 (\\N{HANGUL SYLLABLE ROB}) missing from font(s) DejaVu Sans.\n",
      "  fig.canvas.draw()\n",
      "/usr/local/lib/python3.11/dist-packages/seaborn/utils.py:61: UserWarning: Glyph 55192 (\\N{HANGUL SYLLABLE HIM}) missing from font(s) DejaVu Sans.\n",
      "  fig.canvas.draw()\n",
      "/usr/local/lib/python3.11/dist-packages/seaborn/utils.py:61: UserWarning: Glyph 44592 (\\N{HANGUL SYLLABLE GI}) missing from font(s) DejaVu Sans.\n",
      "  fig.canvas.draw()\n",
      "/usr/local/lib/python3.11/dist-packages/seaborn/utils.py:61: UserWarning: Glyph 53440 (\\N{HANGUL SYLLABLE TA}) missing from font(s) DejaVu Sans.\n",
      "  fig.canvas.draw()\n",
      "/usr/local/lib/python3.11/dist-packages/seaborn/utils.py:61: UserWarning: Glyph 51068 (\\N{HANGUL SYLLABLE IL}) missing from font(s) DejaVu Sans.\n",
      "  fig.canvas.draw()\n",
      "/usr/local/lib/python3.11/dist-packages/seaborn/utils.py:61: UserWarning: Glyph 48152 (\\N{HANGUL SYLLABLE BAN}) missing from font(s) DejaVu Sans.\n",
      "  fig.canvas.draw()\n",
      "/usr/local/lib/python3.11/dist-packages/IPython/core/pylabtools.py:151: UserWarning: Glyph 47784 (\\N{HANGUL SYLLABLE MO}) missing from font(s) DejaVu Sans.\n",
      "  fig.canvas.print_figure(bytes_io, **kw)\n",
      "/usr/local/lib/python3.11/dist-packages/IPython/core/pylabtools.py:151: UserWarning: Glyph 45944 (\\N{HANGUL SYLLABLE DEL}) missing from font(s) DejaVu Sans.\n",
      "  fig.canvas.print_figure(bytes_io, **kw)\n",
      "/usr/local/lib/python3.11/dist-packages/IPython/core/pylabtools.py:151: UserWarning: Glyph 50896 (\\N{HANGUL SYLLABLE WEON}) missing from font(s) DejaVu Sans.\n",
      "  fig.canvas.print_figure(bytes_io, **kw)\n",
      "/usr/local/lib/python3.11/dist-packages/IPython/core/pylabtools.py:151: UserWarning: Glyph 48376 (\\N{HANGUL SYLLABLE BON}) missing from font(s) DejaVu Sans.\n",
      "  fig.canvas.print_figure(bytes_io, **kw)\n",
      "/usr/local/lib/python3.11/dist-packages/IPython/core/pylabtools.py:151: UserWarning: Glyph 54801 (\\N{HANGUL SYLLABLE HYEOB}) missing from font(s) DejaVu Sans.\n",
      "  fig.canvas.print_figure(bytes_io, **kw)\n",
      "/usr/local/lib/python3.11/dist-packages/IPython/core/pylabtools.py:151: UserWarning: Glyph 48149 (\\N{HANGUL SYLLABLE BAG}) missing from font(s) DejaVu Sans.\n",
      "  fig.canvas.print_figure(bytes_io, **kw)\n",
      "/usr/local/lib/python3.11/dist-packages/IPython/core/pylabtools.py:151: UserWarning: Glyph 45824 (\\N{HANGUL SYLLABLE DAE}) missing from font(s) DejaVu Sans.\n",
      "  fig.canvas.print_figure(bytes_io, **kw)\n",
      "/usr/local/lib/python3.11/dist-packages/IPython/core/pylabtools.py:151: UserWarning: Glyph 54868 (\\N{HANGUL SYLLABLE HWA}) missing from font(s) DejaVu Sans.\n",
      "  fig.canvas.print_figure(bytes_io, **kw)\n",
      "/usr/local/lib/python3.11/dist-packages/IPython/core/pylabtools.py:151: UserWarning: Glyph 44040 (\\N{HANGUL SYLLABLE GAL}) missing from font(s) DejaVu Sans.\n",
      "  fig.canvas.print_figure(bytes_io, **kw)\n",
      "/usr/local/lib/python3.11/dist-packages/IPython/core/pylabtools.py:151: UserWarning: Glyph 52712 (\\N{HANGUL SYLLABLE CWI}) missing from font(s) DejaVu Sans.\n",
      "  fig.canvas.print_figure(bytes_io, **kw)\n",
      "/usr/local/lib/python3.11/dist-packages/IPython/core/pylabtools.py:151: UserWarning: Glyph 51649 (\\N{HANGUL SYLLABLE JIG}) missing from font(s) DejaVu Sans.\n",
      "  fig.canvas.print_figure(bytes_io, **kw)\n",
      "/usr/local/lib/python3.11/dist-packages/IPython/core/pylabtools.py:151: UserWarning: Glyph 51109 (\\N{HANGUL SYLLABLE JANG}) missing from font(s) DejaVu Sans.\n",
      "  fig.canvas.print_figure(bytes_io, **kw)\n",
      "/usr/local/lib/python3.11/dist-packages/IPython/core/pylabtools.py:151: UserWarning: Glyph 45236 (\\N{HANGUL SYLLABLE NAE}) missing from font(s) DejaVu Sans.\n",
      "  fig.canvas.print_figure(bytes_io, **kw)\n",
      "/usr/local/lib/python3.11/dist-packages/IPython/core/pylabtools.py:151: UserWarning: Glyph 44340 (\\N{HANGUL SYLLABLE GOE}) missing from font(s) DejaVu Sans.\n",
      "  fig.canvas.print_figure(bytes_io, **kw)\n",
      "/usr/local/lib/python3.11/dist-packages/IPython/core/pylabtools.py:151: UserWarning: Glyph 47213 (\\N{HANGUL SYLLABLE ROB}) missing from font(s) DejaVu Sans.\n",
      "  fig.canvas.print_figure(bytes_io, **kw)\n",
      "/usr/local/lib/python3.11/dist-packages/IPython/core/pylabtools.py:151: UserWarning: Glyph 55192 (\\N{HANGUL SYLLABLE HIM}) missing from font(s) DejaVu Sans.\n",
      "  fig.canvas.print_figure(bytes_io, **kw)\n",
      "/usr/local/lib/python3.11/dist-packages/IPython/core/pylabtools.py:151: UserWarning: Glyph 44592 (\\N{HANGUL SYLLABLE GI}) missing from font(s) DejaVu Sans.\n",
      "  fig.canvas.print_figure(bytes_io, **kw)\n",
      "/usr/local/lib/python3.11/dist-packages/IPython/core/pylabtools.py:151: UserWarning: Glyph 53440 (\\N{HANGUL SYLLABLE TA}) missing from font(s) DejaVu Sans.\n",
      "  fig.canvas.print_figure(bytes_io, **kw)\n",
      "/usr/local/lib/python3.11/dist-packages/IPython/core/pylabtools.py:151: UserWarning: Glyph 51068 (\\N{HANGUL SYLLABLE IL}) missing from font(s) DejaVu Sans.\n",
      "  fig.canvas.print_figure(bytes_io, **kw)\n",
      "/usr/local/lib/python3.11/dist-packages/IPython/core/pylabtools.py:151: UserWarning: Glyph 48152 (\\N{HANGUL SYLLABLE BAN}) missing from font(s) DejaVu Sans.\n",
      "  fig.canvas.print_figure(bytes_io, **kw)\n"
     ]
    },
    {
     "data": {
      "image/png": "[encoded data removed]",
      "text/plain": [
       "<Figure size 600x500 with 2 Axes>"
      ]
     },
     "metadata": {},
     "output_type": "display_data"
    },
    {
     "name": "stdout",
     "output_type": "stream",
     "text": [
      "Classification Report:\n",
      "              precision    recall  f1-score   support\n",
      "\n",
      "       협박 대화       0.87      0.86      0.87       179\n",
      "       갈취 대화       0.85      0.88      0.87       195\n",
      " 직장 내 괴롭힘 대화       0.96      0.95      0.96       194\n",
      "   기타 괴롭힘 대화       0.88      0.87      0.87       202\n",
      "       일반 대화       0.98      0.99      0.99       158\n",
      "\n",
      "    accuracy                           0.91       928\n",
      "   macro avg       0.91      0.91      0.91       928\n",
      "weighted avg       0.91      0.91      0.91       928\n",
      "\n",
      "\n",
      " 모델 2: 원본+EDA\n"
     ]
    },
    {
     "name": "stderr",
     "output_type": "stream",
     "text": [
      "<ipython-input-19-48dff5dd9374>:18: FutureWarning: `tokenizer` is deprecated and will be removed in version 5.0.0 for `Trainer.__init__`. Use `processing_class` instead.\n",
      "  trainer = Trainer(model=model, tokenizer=tokenizer)\n"
     ]
    },
    {
     "data": {
      "text/html": [],
      "text/plain": [
       "<IPython.core.display.HTML object>"
      ]
     },
     "metadata": {},
     "output_type": "display_data"
    },
    {
     "name": "stdout",
     "output_type": "stream",
     "text": [
      "Confusion Matrix:\n",
      "[[156  14   4   5   0]\n",
      " [  9 176   0   9   1]\n",
      " [  1   1 187   4   1]\n",
      " [ 12  15   2 173   0]\n",
      " [  0   0   0   0 158]]\n"
     ]
    },
    {
     "name": "stderr",
     "output_type": "stream",
     "text": [
      "/usr/local/lib/python3.11/dist-packages/seaborn/utils.py:61: UserWarning: Glyph 54801 (\\N{HANGUL SYLLABLE HYEOB}) missing from font(s) DejaVu Sans.\n",
      "  fig.canvas.draw()\n",
      "/usr/local/lib/python3.11/dist-packages/seaborn/utils.py:61: UserWarning: Glyph 48149 (\\N{HANGUL SYLLABLE BAG}) missing from font(s) DejaVu Sans.\n",
      "  fig.canvas.draw()\n",
      "/usr/local/lib/python3.11/dist-packages/seaborn/utils.py:61: UserWarning: Glyph 45824 (\\N{HANGUL SYLLABLE DAE}) missing from font(s) DejaVu Sans.\n",
      "  fig.canvas.draw()\n",
      "/usr/local/lib/python3.11/dist-packages/seaborn/utils.py:61: UserWarning: Glyph 54868 (\\N{HANGUL SYLLABLE HWA}) missing from font(s) DejaVu Sans.\n",
      "  fig.canvas.draw()\n",
      "/usr/local/lib/python3.11/dist-packages/seaborn/utils.py:61: UserWarning: Glyph 44040 (\\N{HANGUL SYLLABLE GAL}) missing from font(s) DejaVu Sans.\n",
      "  fig.canvas.draw()\n",
      "/usr/local/lib/python3.11/dist-packages/seaborn/utils.py:61: UserWarning: Glyph 52712 (\\N{HANGUL SYLLABLE CWI}) missing from font(s) DejaVu Sans.\n",
      "  fig.canvas.draw()\n",
      "/usr/local/lib/python3.11/dist-packages/seaborn/utils.py:61: UserWarning: Glyph 51649 (\\N{HANGUL SYLLABLE JIG}) missing from font(s) DejaVu Sans.\n",
      "  fig.canvas.draw()\n",
      "/usr/local/lib/python3.11/dist-packages/seaborn/utils.py:61: UserWarning: Glyph 51109 (\\N{HANGUL SYLLABLE JANG}) missing from font(s) DejaVu Sans.\n",
      "  fig.canvas.draw()\n",
      "/usr/local/lib/python3.11/dist-packages/seaborn/utils.py:61: UserWarning: Glyph 45236 (\\N{HANGUL SYLLABLE NAE}) missing from font(s) DejaVu Sans.\n",
      "  fig.canvas.draw()\n",
      "/usr/local/lib/python3.11/dist-packages/seaborn/utils.py:61: UserWarning: Glyph 44340 (\\N{HANGUL SYLLABLE GOE}) missing from font(s) DejaVu Sans.\n",
      "  fig.canvas.draw()\n",
      "/usr/local/lib/python3.11/dist-packages/seaborn/utils.py:61: UserWarning: Glyph 47213 (\\N{HANGUL SYLLABLE ROB}) missing from font(s) DejaVu Sans.\n",
      "  fig.canvas.draw()\n",
      "/usr/local/lib/python3.11/dist-packages/seaborn/utils.py:61: UserWarning: Glyph 55192 (\\N{HANGUL SYLLABLE HIM}) missing from font(s) DejaVu Sans.\n",
      "  fig.canvas.draw()\n",
      "/usr/local/lib/python3.11/dist-packages/seaborn/utils.py:61: UserWarning: Glyph 44592 (\\N{HANGUL SYLLABLE GI}) missing from font(s) DejaVu Sans.\n",
      "  fig.canvas.draw()\n",
      "/usr/local/lib/python3.11/dist-packages/seaborn/utils.py:61: UserWarning: Glyph 53440 (\\N{HANGUL SYLLABLE TA}) missing from font(s) DejaVu Sans.\n",
      "  fig.canvas.draw()\n",
      "/usr/local/lib/python3.11/dist-packages/seaborn/utils.py:61: UserWarning: Glyph 51068 (\\N{HANGUL SYLLABLE IL}) missing from font(s) DejaVu Sans.\n",
      "  fig.canvas.draw()\n",
      "/usr/local/lib/python3.11/dist-packages/seaborn/utils.py:61: UserWarning: Glyph 48152 (\\N{HANGUL SYLLABLE BAN}) missing from font(s) DejaVu Sans.\n",
      "  fig.canvas.draw()\n",
      "/usr/local/lib/python3.11/dist-packages/IPython/core/pylabtools.py:151: UserWarning: Glyph 47784 (\\N{HANGUL SYLLABLE MO}) missing from font(s) DejaVu Sans.\n",
      "  fig.canvas.print_figure(bytes_io, **kw)\n",
      "/usr/local/lib/python3.11/dist-packages/IPython/core/pylabtools.py:151: UserWarning: Glyph 45944 (\\N{HANGUL SYLLABLE DEL}) missing from font(s) DejaVu Sans.\n",
      "  fig.canvas.print_figure(bytes_io, **kw)\n",
      "/usr/local/lib/python3.11/dist-packages/IPython/core/pylabtools.py:151: UserWarning: Glyph 50896 (\\N{HANGUL SYLLABLE WEON}) missing from font(s) DejaVu Sans.\n",
      "  fig.canvas.print_figure(bytes_io, **kw)\n",
      "/usr/local/lib/python3.11/dist-packages/IPython/core/pylabtools.py:151: UserWarning: Glyph 48376 (\\N{HANGUL SYLLABLE BON}) missing from font(s) DejaVu Sans.\n",
      "  fig.canvas.print_figure(bytes_io, **kw)\n",
      "/usr/local/lib/python3.11/dist-packages/IPython/core/pylabtools.py:151: UserWarning: Glyph 54801 (\\N{HANGUL SYLLABLE HYEOB}) missing from font(s) DejaVu Sans.\n",
      "  fig.canvas.print_figure(bytes_io, **kw)\n",
      "/usr/local/lib/python3.11/dist-packages/IPython/core/pylabtools.py:151: UserWarning: Glyph 48149 (\\N{HANGUL SYLLABLE BAG}) missing from font(s) DejaVu Sans.\n",
      "  fig.canvas.print_figure(bytes_io, **kw)\n",
      "/usr/local/lib/python3.11/dist-packages/IPython/core/pylabtools.py:151: UserWarning: Glyph 45824 (\\N{HANGUL SYLLABLE DAE}) missing from font(s) DejaVu Sans.\n",
      "  fig.canvas.print_figure(bytes_io, **kw)\n",
      "/usr/local/lib/python3.11/dist-packages/IPython/core/pylabtools.py:151: UserWarning: Glyph 54868 (\\N{HANGUL SYLLABLE HWA}) missing from font(s) DejaVu Sans.\n",
      "  fig.canvas.print_figure(bytes_io, **kw)\n",
      "/usr/local/lib/python3.11/dist-packages/IPython/core/pylabtools.py:151: UserWarning: Glyph 44040 (\\N{HANGUL SYLLABLE GAL}) missing from font(s) DejaVu Sans.\n",
      "  fig.canvas.print_figure(bytes_io, **kw)\n",
      "/usr/local/lib/python3.11/dist-packages/IPython/core/pylabtools.py:151: UserWarning: Glyph 52712 (\\N{HANGUL SYLLABLE CWI}) missing from font(s) DejaVu Sans.\n",
      "  fig.canvas.print_figure(bytes_io, **kw)\n",
      "/usr/local/lib/python3.11/dist-packages/IPython/core/pylabtools.py:151: UserWarning: Glyph 51649 (\\N{HANGUL SYLLABLE JIG}) missing from font(s) DejaVu Sans.\n",
      "  fig.canvas.print_figure(bytes_io, **kw)\n",
      "/usr/local/lib/python3.11/dist-packages/IPython/core/pylabtools.py:151: UserWarning: Glyph 51109 (\\N{HANGUL SYLLABLE JANG}) missing from font(s) DejaVu Sans.\n",
      "  fig.canvas.print_figure(bytes_io, **kw)\n",
      "/usr/local/lib/python3.11/dist-packages/IPython/core/pylabtools.py:151: UserWarning: Glyph 45236 (\\N{HANGUL SYLLABLE NAE}) missing from font(s) DejaVu Sans.\n",
      "  fig.canvas.print_figure(bytes_io, **kw)\n",
      "/usr/local/lib/python3.11/dist-packages/IPython/core/pylabtools.py:151: UserWarning: Glyph 44340 (\\N{HANGUL SYLLABLE GOE}) missing from font(s) DejaVu Sans.\n",
      "  fig.canvas.print_figure(bytes_io, **kw)\n",
      "/usr/local/lib/python3.11/dist-packages/IPython/core/pylabtools.py:151: UserWarning: Glyph 47213 (\\N{HANGUL SYLLABLE ROB}) missing from font(s) DejaVu Sans.\n",
      "  fig.canvas.print_figure(bytes_io, **kw)\n",
      "/usr/local/lib/python3.11/dist-packages/IPython/core/pylabtools.py:151: UserWarning: Glyph 55192 (\\N{HANGUL SYLLABLE HIM}) missing from font(s) DejaVu Sans.\n",
      "  fig.canvas.print_figure(bytes_io, **kw)\n",
      "/usr/local/lib/python3.11/dist-packages/IPython/core/pylabtools.py:151: UserWarning: Glyph 44592 (\\N{HANGUL SYLLABLE GI}) missing from font(s) DejaVu Sans.\n",
      "  fig.canvas.print_figure(bytes_io, **kw)\n",
      "/usr/local/lib/python3.11/dist-packages/IPython/core/pylabtools.py:151: UserWarning: Glyph 53440 (\\N{HANGUL SYLLABLE TA}) missing from font(s) DejaVu Sans.\n",
      "  fig.canvas.print_figure(bytes_io, **kw)\n",
      "/usr/local/lib/python3.11/dist-packages/IPython/core/pylabtools.py:151: UserWarning: Glyph 51068 (\\N{HANGUL SYLLABLE IL}) missing from font(s) DejaVu Sans.\n",
      "  fig.canvas.print_figure(bytes_io, **kw)\n",
      "/usr/local/lib/python3.11/dist-packages/IPython/core/pylabtools.py:151: UserWarning: Glyph 48152 (\\N{HANGUL SYLLABLE BAN}) missing from font(s) DejaVu Sans.\n",
      "  fig.canvas.print_figure(bytes_io, **kw)\n"
     ]
    },
    {
     "data": {
      "image/png": "[encoded data removed]",
      "text/plain": [
       "<Figure size 600x500 with 2 Axes>"
      ]
     },
     "metadata": {},
     "output_type": "display_data"
    },
    {
     "name": "stdout",
     "output_type": "stream",
     "text": [
      "Classification Report:\n",
      "              precision    recall  f1-score   support\n",
      "\n",
      "       협박 대화       0.88      0.87      0.87       179\n",
      "       갈취 대화       0.85      0.90      0.88       195\n",
      " 직장 내 괴롭힘 대화       0.97      0.96      0.97       194\n",
      "   기타 괴롭힘 대화       0.91      0.86      0.88       202\n",
      "       일반 대화       0.99      1.00      0.99       158\n",
      "\n",
      "    accuracy                           0.92       928\n",
      "   macro avg       0.92      0.92      0.92       928\n",
      "weighted avg       0.92      0.92      0.92       928\n",
      "\n",
      "\n",
      " 모델 3: 원본+1000\n"
     ]
    },
    {
     "name": "stderr",
     "output_type": "stream",
     "text": [
      "<ipython-input-19-48dff5dd9374>:18: FutureWarning: `tokenizer` is deprecated and will be removed in version 5.0.0 for `Trainer.__init__`. Use `processing_class` instead.\n",
      "  trainer = Trainer(model=model, tokenizer=tokenizer)\n"
     ]
    },
    {
     "data": {
      "text/html": [],
      "text/plain": [
       "<IPython.core.display.HTML object>"
      ]
     },
     "metadata": {},
     "output_type": "display_data"
    },
    {
     "name": "stdout",
     "output_type": "stream",
     "text": [
      "Confusion Matrix:\n",
      "[[151  15   3  10   0]\n",
      " [  9 177   0   9   0]\n",
      " [  1   2 185   6   0]\n",
      " [  9  19   4 170   0]\n",
      " [  4  23  19 112   0]]\n"
     ]
    },
    {
     "name": "stderr",
     "output_type": "stream",
     "text": [
      "/usr/local/lib/python3.11/dist-packages/seaborn/utils.py:61: UserWarning: Glyph 54801 (\\N{HANGUL SYLLABLE HYEOB}) missing from font(s) DejaVu Sans.\n",
      "  fig.canvas.draw()\n",
      "/usr/local/lib/python3.11/dist-packages/seaborn/utils.py:61: UserWarning: Glyph 48149 (\\N{HANGUL SYLLABLE BAG}) missing from font(s) DejaVu Sans.\n",
      "  fig.canvas.draw()\n",
      "/usr/local/lib/python3.11/dist-packages/seaborn/utils.py:61: UserWarning: Glyph 45824 (\\N{HANGUL SYLLABLE DAE}) missing from font(s) DejaVu Sans.\n",
      "  fig.canvas.draw()\n",
      "/usr/local/lib/python3.11/dist-packages/seaborn/utils.py:61: UserWarning: Glyph 54868 (\\N{HANGUL SYLLABLE HWA}) missing from font(s) DejaVu Sans.\n",
      "  fig.canvas.draw()\n",
      "/usr/local/lib/python3.11/dist-packages/seaborn/utils.py:61: UserWarning: Glyph 44040 (\\N{HANGUL SYLLABLE GAL}) missing from font(s) DejaVu Sans.\n",
      "  fig.canvas.draw()\n",
      "/usr/local/lib/python3.11/dist-packages/seaborn/utils.py:61: UserWarning: Glyph 52712 (\\N{HANGUL SYLLABLE CWI}) missing from font(s) DejaVu Sans.\n",
      "  fig.canvas.draw()\n",
      "/usr/local/lib/python3.11/dist-packages/seaborn/utils.py:61: UserWarning: Glyph 51649 (\\N{HANGUL SYLLABLE JIG}) missing from font(s) DejaVu Sans.\n",
      "  fig.canvas.draw()\n",
      "/usr/local/lib/python3.11/dist-packages/seaborn/utils.py:61: UserWarning: Glyph 51109 (\\N{HANGUL SYLLABLE JANG}) missing from font(s) DejaVu Sans.\n",
      "  fig.canvas.draw()\n",
      "/usr/local/lib/python3.11/dist-packages/seaborn/utils.py:61: UserWarning: Glyph 45236 (\\N{HANGUL SYLLABLE NAE}) missing from font(s) DejaVu Sans.\n",
      "  fig.canvas.draw()\n",
      "/usr/local/lib/python3.11/dist-packages/seaborn/utils.py:61: UserWarning: Glyph 44340 (\\N{HANGUL SYLLABLE GOE}) missing from font(s) DejaVu Sans.\n",
      "  fig.canvas.draw()\n",
      "/usr/local/lib/python3.11/dist-packages/seaborn/utils.py:61: UserWarning: Glyph 47213 (\\N{HANGUL SYLLABLE ROB}) missing from font(s) DejaVu Sans.\n",
      "  fig.canvas.draw()\n",
      "/usr/local/lib/python3.11/dist-packages/seaborn/utils.py:61: UserWarning: Glyph 55192 (\\N{HANGUL SYLLABLE HIM}) missing from font(s) DejaVu Sans.\n",
      "  fig.canvas.draw()\n",
      "/usr/local/lib/python3.11/dist-packages/seaborn/utils.py:61: UserWarning: Glyph 44592 (\\N{HANGUL SYLLABLE GI}) missing from font(s) DejaVu Sans.\n",
      "  fig.canvas.draw()\n",
      "/usr/local/lib/python3.11/dist-packages/seaborn/utils.py:61: UserWarning: Glyph 53440 (\\N{HANGUL SYLLABLE TA}) missing from font(s) DejaVu Sans.\n",
      "  fig.canvas.draw()\n",
      "/usr/local/lib/python3.11/dist-packages/seaborn/utils.py:61: UserWarning: Glyph 51068 (\\N{HANGUL SYLLABLE IL}) missing from font(s) DejaVu Sans.\n",
      "  fig.canvas.draw()\n",
      "/usr/local/lib/python3.11/dist-packages/seaborn/utils.py:61: UserWarning: Glyph 48152 (\\N{HANGUL SYLLABLE BAN}) missing from font(s) DejaVu Sans.\n",
      "  fig.canvas.draw()\n",
      "/usr/local/lib/python3.11/dist-packages/IPython/core/pylabtools.py:151: UserWarning: Glyph 47784 (\\N{HANGUL SYLLABLE MO}) missing from font(s) DejaVu Sans.\n",
      "  fig.canvas.print_figure(bytes_io, **kw)\n",
      "/usr/local/lib/python3.11/dist-packages/IPython/core/pylabtools.py:151: UserWarning: Glyph 45944 (\\N{HANGUL SYLLABLE DEL}) missing from font(s) DejaVu Sans.\n",
      "  fig.canvas.print_figure(bytes_io, **kw)\n",
      "/usr/local/lib/python3.11/dist-packages/IPython/core/pylabtools.py:151: UserWarning: Glyph 50896 (\\N{HANGUL SYLLABLE WEON}) missing from font(s) DejaVu Sans.\n",
      "  fig.canvas.print_figure(bytes_io, **kw)\n",
      "/usr/local/lib/python3.11/dist-packages/IPython/core/pylabtools.py:151: UserWarning: Glyph 48376 (\\N{HANGUL SYLLABLE BON}) missing from font(s) DejaVu Sans.\n",
      "  fig.canvas.print_figure(bytes_io, **kw)\n",
      "/usr/local/lib/python3.11/dist-packages/IPython/core/pylabtools.py:151: UserWarning: Glyph 54801 (\\N{HANGUL SYLLABLE HYEOB}) missing from font(s) DejaVu Sans.\n",
      "  fig.canvas.print_figure(bytes_io, **kw)\n",
      "/usr/local/lib/python3.11/dist-packages/IPython/core/pylabtools.py:151: UserWarning: Glyph 48149 (\\N{HANGUL SYLLABLE BAG}) missing from font(s) DejaVu Sans.\n",
      "  fig.canvas.print_figure(bytes_io, **kw)\n",
      "/usr/local/lib/python3.11/dist-packages/IPython/core/pylabtools.py:151: UserWarning: Glyph 45824 (\\N{HANGUL SYLLABLE DAE}) missing from font(s) DejaVu Sans.\n",
      "  fig.canvas.print_figure(bytes_io, **kw)\n",
      "/usr/local/lib/python3.11/dist-packages/IPython/core/pylabtools.py:151: UserWarning: Glyph 54868 (\\N{HANGUL SYLLABLE HWA}) missing from font(s) DejaVu Sans.\n",
      "  fig.canvas.print_figure(bytes_io, **kw)\n",
      "/usr/local/lib/python3.11/dist-packages/IPython/core/pylabtools.py:151: UserWarning: Glyph 44040 (\\N{HANGUL SYLLABLE GAL}) missing from font(s) DejaVu Sans.\n",
      "  fig.canvas.print_figure(bytes_io, **kw)\n",
      "/usr/local/lib/python3.11/dist-packages/IPython/core/pylabtools.py:151: UserWarning: Glyph 52712 (\\N{HANGUL SYLLABLE CWI}) missing from font(s) DejaVu Sans.\n",
      "  fig.canvas.print_figure(bytes_io, **kw)\n",
      "/usr/local/lib/python3.11/dist-packages/IPython/core/pylabtools.py:151: UserWarning: Glyph 51649 (\\N{HANGUL SYLLABLE JIG}) missing from font(s) DejaVu Sans.\n",
      "  fig.canvas.print_figure(bytes_io, **kw)\n",
      "/usr/local/lib/python3.11/dist-packages/IPython/core/pylabtools.py:151: UserWarning: Glyph 51109 (\\N{HANGUL SYLLABLE JANG}) missing from font(s) DejaVu Sans.\n",
      "  fig.canvas.print_figure(bytes_io, **kw)\n",
      "/usr/local/lib/python3.11/dist-packages/IPython/core/pylabtools.py:151: UserWarning: Glyph 45236 (\\N{HANGUL SYLLABLE NAE}) missing from font(s) DejaVu Sans.\n",
      "  fig.canvas.print_figure(bytes_io, **kw)\n",
      "/usr/local/lib/python3.11/dist-packages/IPython/core/pylabtools.py:151: UserWarning: Glyph 44340 (\\N{HANGUL SYLLABLE GOE}) missing from font(s) DejaVu Sans.\n",
      "  fig.canvas.print_figure(bytes_io, **kw)\n",
      "/usr/local/lib/python3.11/dist-packages/IPython/core/pylabtools.py:151: UserWarning: Glyph 47213 (\\N{HANGUL SYLLABLE ROB}) missing from font(s) DejaVu Sans.\n",
      "  fig.canvas.print_figure(bytes_io, **kw)\n",
      "/usr/local/lib/python3.11/dist-packages/IPython/core/pylabtools.py:151: UserWarning: Glyph 55192 (\\N{HANGUL SYLLABLE HIM}) missing from font(s) DejaVu Sans.\n",
      "  fig.canvas.print_figure(bytes_io, **kw)\n",
      "/usr/local/lib/python3.11/dist-packages/IPython/core/pylabtools.py:151: UserWarning: Glyph 44592 (\\N{HANGUL SYLLABLE GI}) missing from font(s) DejaVu Sans.\n",
      "  fig.canvas.print_figure(bytes_io, **kw)\n",
      "/usr/local/lib/python3.11/dist-packages/IPython/core/pylabtools.py:151: UserWarning: Glyph 53440 (\\N{HANGUL SYLLABLE TA}) missing from font(s) DejaVu Sans.\n",
      "  fig.canvas.print_figure(bytes_io, **kw)\n",
      "/usr/local/lib/python3.11/dist-packages/IPython/core/pylabtools.py:151: UserWarning: Glyph 51068 (\\N{HANGUL SYLLABLE IL}) missing from font(s) DejaVu Sans.\n",
      "  fig.canvas.print_figure(bytes_io, **kw)\n",
      "/usr/local/lib/python3.11/dist-packages/IPython/core/pylabtools.py:151: UserWarning: Glyph 48152 (\\N{HANGUL SYLLABLE BAN}) missing from font(s) DejaVu Sans.\n",
      "  fig.canvas.print_figure(bytes_io, **kw)\n"
     ]
    },
    {
     "data": {
      "image/png": "[encoded data removed]",
      "text/plain": [
       "<Figure size 600x500 with 2 Axes>"
      ]
     },
     "metadata": {},
     "output_type": "display_data"
    },
    {
     "name": "stderr",
     "output_type": "stream",
     "text": [
      "/usr/local/lib/python3.11/dist-packages/sklearn/metrics/_classification.py:1565: UndefinedMetricWarning: Precision is ill-defined and being set to 0.0 in labels with no predicted samples. Use `zero_division` parameter to control this behavior.\n",
      "  _warn_prf(average, modifier, f\"{metric.capitalize()} is\", len(result))\n",
      "/usr/local/lib/python3.11/dist-packages/sklearn/metrics/_classification.py:1565: UndefinedMetricWarning: Precision is ill-defined and being set to 0.0 in labels with no predicted samples. Use `zero_division` parameter to control this behavior.\n",
      "  _warn_prf(average, modifier, f\"{metric.capitalize()} is\", len(result))\n",
      "/usr/local/lib/python3.11/dist-packages/sklearn/metrics/_classification.py:1565: UndefinedMetricWarning: Precision is ill-defined and being set to 0.0 in labels with no predicted samples. Use `zero_division` parameter to control this behavior.\n",
      "  _warn_prf(average, modifier, f\"{metric.capitalize()} is\", len(result))\n"
     ]
    },
    {
     "name": "stdout",
     "output_type": "stream",
     "text": [
      "Classification Report:\n",
      "              precision    recall  f1-score   support\n",
      "\n",
      "       협박 대화       0.87      0.84      0.86       179\n",
      "       갈취 대화       0.75      0.91      0.82       195\n",
      " 직장 내 괴롭힘 대화       0.88      0.95      0.91       194\n",
      "   기타 괴롭힘 대화       0.55      0.84      0.67       202\n",
      "       일반 대화       0.00      0.00      0.00       158\n",
      "\n",
      "    accuracy                           0.74       928\n",
      "   macro avg       0.61      0.71      0.65       928\n",
      "weighted avg       0.63      0.74      0.67       928\n",
      "\n",
      "\n",
      " 모델 4: 원본+EDA+2000\n"
     ]
    },
    {
     "name": "stderr",
     "output_type": "stream",
     "text": [
      "<ipython-input-19-48dff5dd9374>:18: FutureWarning: `tokenizer` is deprecated and will be removed in version 5.0.0 for `Trainer.__init__`. Use `processing_class` instead.\n",
      "  trainer = Trainer(model=model, tokenizer=tokenizer)\n"
     ]
    },
    {
     "data": {
      "text/html": [],
      "text/plain": [
       "<IPython.core.display.HTML object>"
      ]
     },
     "metadata": {},
     "output_type": "display_data"
    },
    {
     "name": "stdout",
     "output_type": "stream",
     "text": [
      "Confusion Matrix:\n",
      "[[159  12   4   4   0]\n",
      " [ 12 174   1   8   0]\n",
      " [  1   0 190   3   0]\n",
      " [ 13  12   7 170   0]\n",
      " [  5  14  63  76   0]]\n"
     ]
    },
    {
     "name": "stderr",
     "output_type": "stream",
     "text": [
      "/usr/local/lib/python3.11/dist-packages/seaborn/utils.py:61: UserWarning: Glyph 54801 (\\N{HANGUL SYLLABLE HYEOB}) missing from font(s) DejaVu Sans.\n",
      "  fig.canvas.draw()\n",
      "/usr/local/lib/python3.11/dist-packages/seaborn/utils.py:61: UserWarning: Glyph 48149 (\\N{HANGUL SYLLABLE BAG}) missing from font(s) DejaVu Sans.\n",
      "  fig.canvas.draw()\n",
      "/usr/local/lib/python3.11/dist-packages/seaborn/utils.py:61: UserWarning: Glyph 45824 (\\N{HANGUL SYLLABLE DAE}) missing from font(s) DejaVu Sans.\n",
      "  fig.canvas.draw()\n",
      "/usr/local/lib/python3.11/dist-packages/seaborn/utils.py:61: UserWarning: Glyph 54868 (\\N{HANGUL SYLLABLE HWA}) missing from font(s) DejaVu Sans.\n",
      "  fig.canvas.draw()\n",
      "/usr/local/lib/python3.11/dist-packages/seaborn/utils.py:61: UserWarning: Glyph 44040 (\\N{HANGUL SYLLABLE GAL}) missing from font(s) DejaVu Sans.\n",
      "  fig.canvas.draw()\n",
      "/usr/local/lib/python3.11/dist-packages/seaborn/utils.py:61: UserWarning: Glyph 52712 (\\N{HANGUL SYLLABLE CWI}) missing from font(s) DejaVu Sans.\n",
      "  fig.canvas.draw()\n",
      "/usr/local/lib/python3.11/dist-packages/seaborn/utils.py:61: UserWarning: Glyph 51649 (\\N{HANGUL SYLLABLE JIG}) missing from font(s) DejaVu Sans.\n",
      "  fig.canvas.draw()\n",
      "/usr/local/lib/python3.11/dist-packages/seaborn/utils.py:61: UserWarning: Glyph 51109 (\\N{HANGUL SYLLABLE JANG}) missing from font(s) DejaVu Sans.\n",
      "  fig.canvas.draw()\n",
      "/usr/local/lib/python3.11/dist-packages/seaborn/utils.py:61: UserWarning: Glyph 45236 (\\N{HANGUL SYLLABLE NAE}) missing from font(s) DejaVu Sans.\n",
      "  fig.canvas.draw()\n",
      "/usr/local/lib/python3.11/dist-packages/seaborn/utils.py:61: UserWarning: Glyph 44340 (\\N{HANGUL SYLLABLE GOE}) missing from font(s) DejaVu Sans.\n",
      "  fig.canvas.draw()\n",
      "/usr/local/lib/python3.11/dist-packages/seaborn/utils.py:61: UserWarning: Glyph 47213 (\\N{HANGUL SYLLABLE ROB}) missing from font(s) DejaVu Sans.\n",
      "  fig.canvas.draw()\n",
      "/usr/local/lib/python3.11/dist-packages/seaborn/utils.py:61: UserWarning: Glyph 55192 (\\N{HANGUL SYLLABLE HIM}) missing from font(s) DejaVu Sans.\n",
      "  fig.canvas.draw()\n",
      "/usr/local/lib/python3.11/dist-packages/seaborn/utils.py:61: UserWarning: Glyph 44592 (\\N{HANGUL SYLLABLE GI}) missing from font(s) DejaVu Sans.\n",
      "  fig.canvas.draw()\n",
      "/usr/local/lib/python3.11/dist-packages/seaborn/utils.py:61: UserWarning: Glyph 53440 (\\N{HANGUL SYLLABLE TA}) missing from font(s) DejaVu Sans.\n",
      "  fig.canvas.draw()\n",
      "/usr/local/lib/python3.11/dist-packages/seaborn/utils.py:61: UserWarning: Glyph 51068 (\\N{HANGUL SYLLABLE IL}) missing from font(s) DejaVu Sans.\n",
      "  fig.canvas.draw()\n",
      "/usr/local/lib/python3.11/dist-packages/seaborn/utils.py:61: UserWarning: Glyph 48152 (\\N{HANGUL SYLLABLE BAN}) missing from font(s) DejaVu Sans.\n",
      "  fig.canvas.draw()\n",
      "/usr/local/lib/python3.11/dist-packages/IPython/core/pylabtools.py:151: UserWarning: Glyph 47784 (\\N{HANGUL SYLLABLE MO}) missing from font(s) DejaVu Sans.\n",
      "  fig.canvas.print_figure(bytes_io, **kw)\n",
      "/usr/local/lib/python3.11/dist-packages/IPython/core/pylabtools.py:151: UserWarning: Glyph 45944 (\\N{HANGUL SYLLABLE DEL}) missing from font(s) DejaVu Sans.\n",
      "  fig.canvas.print_figure(bytes_io, **kw)\n",
      "/usr/local/lib/python3.11/dist-packages/IPython/core/pylabtools.py:151: UserWarning: Glyph 50896 (\\N{HANGUL SYLLABLE WEON}) missing from font(s) DejaVu Sans.\n",
      "  fig.canvas.print_figure(bytes_io, **kw)\n",
      "/usr/local/lib/python3.11/dist-packages/IPython/core/pylabtools.py:151: UserWarning: Glyph 48376 (\\N{HANGUL SYLLABLE BON}) missing from font(s) DejaVu Sans.\n",
      "  fig.canvas.print_figure(bytes_io, **kw)\n",
      "/usr/local/lib/python3.11/dist-packages/IPython/core/pylabtools.py:151: UserWarning: Glyph 54801 (\\N{HANGUL SYLLABLE HYEOB}) missing from font(s) DejaVu Sans.\n",
      "  fig.canvas.print_figure(bytes_io, **kw)\n",
      "/usr/local/lib/python3.11/dist-packages/IPython/core/pylabtools.py:151: UserWarning: Glyph 48149 (\\N{HANGUL SYLLABLE BAG}) missing from font(s) DejaVu Sans.\n",
      "  fig.canvas.print_figure(bytes_io, **kw)\n",
      "/usr/local/lib/python3.11/dist-packages/IPython/core/pylabtools.py:151: UserWarning: Glyph 45824 (\\N{HANGUL SYLLABLE DAE}) missing from font(s) DejaVu Sans.\n",
      "  fig.canvas.print_figure(bytes_io, **kw)\n",
      "/usr/local/lib/python3.11/dist-packages/IPython/core/pylabtools.py:151: UserWarning: Glyph 54868 (\\N{HANGUL SYLLABLE HWA}) missing from font(s) DejaVu Sans.\n",
      "  fig.canvas.print_figure(bytes_io, **kw)\n",
      "/usr/local/lib/python3.11/dist-packages/IPython/core/pylabtools.py:151: UserWarning: Glyph 44040 (\\N{HANGUL SYLLABLE GAL}) missing from font(s) DejaVu Sans.\n",
      "  fig.canvas.print_figure(bytes_io, **kw)\n",
      "/usr/local/lib/python3.11/dist-packages/IPython/core/pylabtools.py:151: UserWarning: Glyph 52712 (\\N{HANGUL SYLLABLE CWI}) missing from font(s) DejaVu Sans.\n",
      "  fig.canvas.print_figure(bytes_io, **kw)\n",
      "/usr/local/lib/python3.11/dist-packages/IPython/core/pylabtools.py:151: UserWarning: Glyph 51649 (\\N{HANGUL SYLLABLE JIG}) missing from font(s) DejaVu Sans.\n",
      "  fig.canvas.print_figure(bytes_io, **kw)\n",
      "/usr/local/lib/python3.11/dist-packages/IPython/core/pylabtools.py:151: UserWarning: Glyph 51109 (\\N{HANGUL SYLLABLE JANG}) missing from font(s) DejaVu Sans.\n",
      "  fig.canvas.print_figure(bytes_io, **kw)\n",
      "/usr/local/lib/python3.11/dist-packages/IPython/core/pylabtools.py:151: UserWarning: Glyph 45236 (\\N{HANGUL SYLLABLE NAE}) missing from font(s) DejaVu Sans.\n",
      "  fig.canvas.print_figure(bytes_io, **kw)\n",
      "/usr/local/lib/python3.11/dist-packages/IPython/core/pylabtools.py:151: UserWarning: Glyph 44340 (\\N{HANGUL SYLLABLE GOE}) missing from font(s) DejaVu Sans.\n",
      "  fig.canvas.print_figure(bytes_io, **kw)\n",
      "/usr/local/lib/python3.11/dist-packages/IPython/core/pylabtools.py:151: UserWarning: Glyph 47213 (\\N{HANGUL SYLLABLE ROB}) missing from font(s) DejaVu Sans.\n",
      "  fig.canvas.print_figure(bytes_io, **kw)\n",
      "/usr/local/lib/python3.11/dist-packages/IPython/core/pylabtools.py:151: UserWarning: Glyph 55192 (\\N{HANGUL SYLLABLE HIM}) missing from font(s) DejaVu Sans.\n",
      "  fig.canvas.print_figure(bytes_io, **kw)\n",
      "/usr/local/lib/python3.11/dist-packages/IPython/core/pylabtools.py:151: UserWarning: Glyph 44592 (\\N{HANGUL SYLLABLE GI}) missing from font(s) DejaVu Sans.\n",
      "  fig.canvas.print_figure(bytes_io, **kw)\n",
      "/usr/local/lib/python3.11/dist-packages/IPython/core/pylabtools.py:151: UserWarning: Glyph 53440 (\\N{HANGUL SYLLABLE TA}) missing from font(s) DejaVu Sans.\n",
      "  fig.canvas.print_figure(bytes_io, **kw)\n",
      "/usr/local/lib/python3.11/dist-packages/IPython/core/pylabtools.py:151: UserWarning: Glyph 51068 (\\N{HANGUL SYLLABLE IL}) missing from font(s) DejaVu Sans.\n",
      "  fig.canvas.print_figure(bytes_io, **kw)\n",
      "/usr/local/lib/python3.11/dist-packages/IPython/core/pylabtools.py:151: UserWarning: Glyph 48152 (\\N{HANGUL SYLLABLE BAN}) missing from font(s) DejaVu Sans.\n",
      "  fig.canvas.print_figure(bytes_io, **kw)\n"
     ]
    },
    {
     "data": {
      "image/png": "[encoded data removed]",
      "text/plain": [
       "<Figure size 600x500 with 2 Axes>"
      ]
     },
     "metadata": {},
     "output_type": "display_data"
    },
    {
     "name": "stderr",
     "output_type": "stream",
     "text": [
      "/usr/local/lib/python3.11/dist-packages/sklearn/metrics/_classification.py:1565: UndefinedMetricWarning: Precision is ill-defined and being set to 0.0 in labels with no predicted samples. Use `zero_division` parameter to control this behavior.\n",
      "  _warn_prf(average, modifier, f\"{metric.capitalize()} is\", len(result))\n",
      "/usr/local/lib/python3.11/dist-packages/sklearn/metrics/_classification.py:1565: UndefinedMetricWarning: Precision is ill-defined and being set to 0.0 in labels with no predicted samples. Use `zero_division` parameter to control this behavior.\n",
      "  _warn_prf(average, modifier, f\"{metric.capitalize()} is\", len(result))\n",
      "/usr/local/lib/python3.11/dist-packages/sklearn/metrics/_classification.py:1565: UndefinedMetricWarning: Precision is ill-defined and being set to 0.0 in labels with no predicted samples. Use `zero_division` parameter to control this behavior.\n",
      "  _warn_prf(average, modifier, f\"{metric.capitalize()} is\", len(result))\n"
     ]
    },
    {
     "name": "stdout",
     "output_type": "stream",
     "text": [
      "Classification Report:\n",
      "              precision    recall  f1-score   support\n",
      "\n",
      "       협박 대화       0.84      0.89      0.86       179\n",
      "       갈취 대화       0.82      0.89      0.86       195\n",
      " 직장 내 괴롭힘 대화       0.72      0.98      0.83       194\n",
      "   기타 괴롭힘 대화       0.65      0.84      0.73       202\n",
      "       일반 대화       0.00      0.00      0.00       158\n",
      "\n",
      "    accuracy                           0.75       928\n",
      "   macro avg       0.61      0.72      0.66       928\n",
      "weighted avg       0.63      0.75      0.68       928\n",
      "\n",
      "\n",
      " 모델 5: 원본+EDA+8000\n"
     ]
    },
    {
     "name": "stderr",
     "output_type": "stream",
     "text": [
      "<ipython-input-19-48dff5dd9374>:18: FutureWarning: `tokenizer` is deprecated and will be removed in version 5.0.0 for `Trainer.__init__`. Use `processing_class` instead.\n",
      "  trainer = Trainer(model=model, tokenizer=tokenizer)\n"
     ]
    },
    {
     "data": {
      "text/html": [],
      "text/plain": [
       "<IPython.core.display.HTML object>"
      ]
     },
     "metadata": {},
     "output_type": "display_data"
    },
    {
     "name": "stdout",
     "output_type": "stream",
     "text": [
      "Confusion Matrix:\n",
      "[[163   8   5   3   0]\n",
      " [ 11 171   2  11   0]\n",
      " [  1   1 187   5   0]\n",
      " [ 10  14   3 175   0]\n",
      " [  5  15  57  73   8]]\n"
     ]
    },
    {
     "name": "stderr",
     "output_type": "stream",
     "text": [
      "/usr/local/lib/python3.11/dist-packages/seaborn/utils.py:61: UserWarning: Glyph 54801 (\\N{HANGUL SYLLABLE HYEOB}) missing from font(s) DejaVu Sans.\n",
      "  fig.canvas.draw()\n",
      "/usr/local/lib/python3.11/dist-packages/seaborn/utils.py:61: UserWarning: Glyph 48149 (\\N{HANGUL SYLLABLE BAG}) missing from font(s) DejaVu Sans.\n",
      "  fig.canvas.draw()\n",
      "/usr/local/lib/python3.11/dist-packages/seaborn/utils.py:61: UserWarning: Glyph 45824 (\\N{HANGUL SYLLABLE DAE}) missing from font(s) DejaVu Sans.\n",
      "  fig.canvas.draw()\n",
      "/usr/local/lib/python3.11/dist-packages/seaborn/utils.py:61: UserWarning: Glyph 54868 (\\N{HANGUL SYLLABLE HWA}) missing from font(s) DejaVu Sans.\n",
      "  fig.canvas.draw()\n",
      "/usr/local/lib/python3.11/dist-packages/seaborn/utils.py:61: UserWarning: Glyph 44040 (\\N{HANGUL SYLLABLE GAL}) missing from font(s) DejaVu Sans.\n",
      "  fig.canvas.draw()\n",
      "/usr/local/lib/python3.11/dist-packages/seaborn/utils.py:61: UserWarning: Glyph 52712 (\\N{HANGUL SYLLABLE CWI}) missing from font(s) DejaVu Sans.\n",
      "  fig.canvas.draw()\n",
      "/usr/local/lib/python3.11/dist-packages/seaborn/utils.py:61: UserWarning: Glyph 51649 (\\N{HANGUL SYLLABLE JIG}) missing from font(s) DejaVu Sans.\n",
      "  fig.canvas.draw()\n",
      "/usr/local/lib/python3.11/dist-packages/seaborn/utils.py:61: UserWarning: Glyph 51109 (\\N{HANGUL SYLLABLE JANG}) missing from font(s) DejaVu Sans.\n",
      "  fig.canvas.draw()\n",
      "/usr/local/lib/python3.11/dist-packages/seaborn/utils.py:61: UserWarning: Glyph 45236 (\\N{HANGUL SYLLABLE NAE}) missing from font(s) DejaVu Sans.\n",
      "  fig.canvas.draw()\n",
      "/usr/local/lib/python3.11/dist-packages/seaborn/utils.py:61: UserWarning: Glyph 44340 (\\N{HANGUL SYLLABLE GOE}) missing from font(s) DejaVu Sans.\n",
      "  fig.canvas.draw()\n",
      "/usr/local/lib/python3.11/dist-packages/seaborn/utils.py:61: UserWarning: Glyph 47213 (\\N{HANGUL SYLLABLE ROB}) missing from font(s) DejaVu Sans.\n",
      "  fig.canvas.draw()\n",
      "/usr/local/lib/python3.11/dist-packages/seaborn/utils.py:61: UserWarning: Glyph 55192 (\\N{HANGUL SYLLABLE HIM}) missing from font(s) DejaVu Sans.\n",
      "  fig.canvas.draw()\n",
      "/usr/local/lib/python3.11/dist-packages/seaborn/utils.py:61: UserWarning: Glyph 44592 (\\N{HANGUL SYLLABLE GI}) missing from font(s) DejaVu Sans.\n",
      "  fig.canvas.draw()\n",
      "/usr/local/lib/python3.11/dist-packages/seaborn/utils.py:61: UserWarning: Glyph 53440 (\\N{HANGUL SYLLABLE TA}) missing from font(s) DejaVu Sans.\n",
      "  fig.canvas.draw()\n",
      "/usr/local/lib/python3.11/dist-packages/seaborn/utils.py:61: UserWarning: Glyph 51068 (\\N{HANGUL SYLLABLE IL}) missing from font(s) DejaVu Sans.\n",
      "  fig.canvas.draw()\n",
      "/usr/local/lib/python3.11/dist-packages/seaborn/utils.py:61: UserWarning: Glyph 48152 (\\N{HANGUL SYLLABLE BAN}) missing from font(s) DejaVu Sans.\n",
      "  fig.canvas.draw()\n",
      "/usr/local/lib/python3.11/dist-packages/IPython/core/pylabtools.py:151: UserWarning: Glyph 47784 (\\N{HANGUL SYLLABLE MO}) missing from font(s) DejaVu Sans.\n",
      "  fig.canvas.print_figure(bytes_io, **kw)\n",
      "/usr/local/lib/python3.11/dist-packages/IPython/core/pylabtools.py:151: UserWarning: Glyph 45944 (\\N{HANGUL SYLLABLE DEL}) missing from font(s) DejaVu Sans.\n",
      "  fig.canvas.print_figure(bytes_io, **kw)\n",
      "/usr/local/lib/python3.11/dist-packages/IPython/core/pylabtools.py:151: UserWarning: Glyph 50896 (\\N{HANGUL SYLLABLE WEON}) missing from font(s) DejaVu Sans.\n",
      "  fig.canvas.print_figure(bytes_io, **kw)\n",
      "/usr/local/lib/python3.11/dist-packages/IPython/core/pylabtools.py:151: UserWarning: Glyph 48376 (\\N{HANGUL SYLLABLE BON}) missing from font(s) DejaVu Sans.\n",
      "  fig.canvas.print_figure(bytes_io, **kw)\n",
      "/usr/local/lib/python3.11/dist-packages/IPython/core/pylabtools.py:151: UserWarning: Glyph 54801 (\\N{HANGUL SYLLABLE HYEOB}) missing from font(s) DejaVu Sans.\n",
      "  fig.canvas.print_figure(bytes_io, **kw)\n",
      "/usr/local/lib/python3.11/dist-packages/IPython/core/pylabtools.py:151: UserWarning: Glyph 48149 (\\N{HANGUL SYLLABLE BAG}) missing from font(s) DejaVu Sans.\n",
      "  fig.canvas.print_figure(bytes_io, **kw)\n",
      "/usr/local/lib/python3.11/dist-packages/IPython/core/pylabtools.py:151: UserWarning: Glyph 45824 (\\N{HANGUL SYLLABLE DAE}) missing from font(s) DejaVu Sans.\n",
      "  fig.canvas.print_figure(bytes_io, **kw)\n",
      "/usr/local/lib/python3.11/dist-packages/IPython/core/pylabtools.py:151: UserWarning: Glyph 54868 (\\N{HANGUL SYLLABLE HWA}) missing from font(s) DejaVu Sans.\n",
      "  fig.canvas.print_figure(bytes_io, **kw)\n",
      "/usr/local/lib/python3.11/dist-packages/IPython/core/pylabtools.py:151: UserWarning: Glyph 44040 (\\N{HANGUL SYLLABLE GAL}) missing from font(s) DejaVu Sans.\n",
      "  fig.canvas.print_figure(bytes_io, **kw)\n",
      "/usr/local/lib/python3.11/dist-packages/IPython/core/pylabtools.py:151: UserWarning: Glyph 52712 (\\N{HANGUL SYLLABLE CWI}) missing from font(s) DejaVu Sans.\n",
      "  fig.canvas.print_figure(bytes_io, **kw)\n",
      "/usr/local/lib/python3.11/dist-packages/IPython/core/pylabtools.py:151: UserWarning: Glyph 51649 (\\N{HANGUL SYLLABLE JIG}) missing from font(s) DejaVu Sans.\n",
      "  fig.canvas.print_figure(bytes_io, **kw)\n",
      "/usr/local/lib/python3.11/dist-packages/IPython/core/pylabtools.py:151: UserWarning: Glyph 51109 (\\N{HANGUL SYLLABLE JANG}) missing from font(s) DejaVu Sans.\n",
      "  fig.canvas.print_figure(bytes_io, **kw)\n",
      "/usr/local/lib/python3.11/dist-packages/IPython/core/pylabtools.py:151: UserWarning: Glyph 45236 (\\N{HANGUL SYLLABLE NAE}) missing from font(s) DejaVu Sans.\n",
      "  fig.canvas.print_figure(bytes_io, **kw)\n",
      "/usr/local/lib/python3.11/dist-packages/IPython/core/pylabtools.py:151: UserWarning: Glyph 44340 (\\N{HANGUL SYLLABLE GOE}) missing from font(s) DejaVu Sans.\n",
      "  fig.canvas.print_figure(bytes_io, **kw)\n",
      "/usr/local/lib/python3.11/dist-packages/IPython/core/pylabtools.py:151: UserWarning: Glyph 47213 (\\N{HANGUL SYLLABLE ROB}) missing from font(s) DejaVu Sans.\n",
      "  fig.canvas.print_figure(bytes_io, **kw)\n",
      "/usr/local/lib/python3.11/dist-packages/IPython/core/pylabtools.py:151: UserWarning: Glyph 55192 (\\N{HANGUL SYLLABLE HIM}) missing from font(s) DejaVu Sans.\n",
      "  fig.canvas.print_figure(bytes_io, **kw)\n",
      "/usr/local/lib/python3.11/dist-packages/IPython/core/pylabtools.py:151: UserWarning: Glyph 44592 (\\N{HANGUL SYLLABLE GI}) missing from font(s) DejaVu Sans.\n",
      "  fig.canvas.print_figure(bytes_io, **kw)\n",
      "/usr/local/lib/python3.11/dist-packages/IPython/core/pylabtools.py:151: UserWarning: Glyph 53440 (\\N{HANGUL SYLLABLE TA}) missing from font(s) DejaVu Sans.\n",
      "  fig.canvas.print_figure(bytes_io, **kw)\n",
      "/usr/local/lib/python3.11/dist-packages/IPython/core/pylabtools.py:151: UserWarning: Glyph 51068 (\\N{HANGUL SYLLABLE IL}) missing from font(s) DejaVu Sans.\n",
      "  fig.canvas.print_figure(bytes_io, **kw)\n",
      "/usr/local/lib/python3.11/dist-packages/IPython/core/pylabtools.py:151: UserWarning: Glyph 48152 (\\N{HANGUL SYLLABLE BAN}) missing from font(s) DejaVu Sans.\n",
      "  fig.canvas.print_figure(bytes_io, **kw)\n"
     ]
    },
    {
     "data": {
      "image/png": "[encoded data removed]",
      "text/plain": [
       "<Figure size 600x500 with 2 Axes>"
      ]
     },
     "metadata": {},
     "output_type": "display_data"
    },
    {
     "name": "stdout",
     "output_type": "stream",
     "text": [
      "Classification Report:\n",
      "              precision    recall  f1-score   support\n",
      "\n",
      "       협박 대화       0.86      0.91      0.88       179\n",
      "       갈취 대화       0.82      0.88      0.85       195\n",
      " 직장 내 괴롭힘 대화       0.74      0.96      0.83       194\n",
      "   기타 괴롭힘 대화       0.66      0.87      0.75       202\n",
      "       일반 대화       1.00      0.05      0.10       158\n",
      "\n",
      "    accuracy                           0.76       928\n",
      "   macro avg       0.81      0.73      0.68       928\n",
      "weighted avg       0.80      0.76      0.70       928\n",
      "\n",
      "\n",
      " 모델 6: 원본+EDA+16000\n"
     ]
    },
    {
     "name": "stderr",
     "output_type": "stream",
     "text": [
      "<ipython-input-19-48dff5dd9374>:18: FutureWarning: `tokenizer` is deprecated and will be removed in version 5.0.0 for `Trainer.__init__`. Use `processing_class` instead.\n",
      "  trainer = Trainer(model=model, tokenizer=tokenizer)\n"
     ]
    },
    {
     "data": {
      "text/html": [],
      "text/plain": [
       "<IPython.core.display.HTML object>"
      ]
     },
     "metadata": {},
     "output_type": "display_data"
    },
    {
     "name": "stdout",
     "output_type": "stream",
     "text": [
      "Confusion Matrix:\n",
      "[[156  14   4   5   0]\n",
      " [  9 176   1   9   0]\n",
      " [  1   2 187   4   0]\n",
      " [ 11  19   3 169   0]\n",
      " [  5  16  53  69  15]]\n"
     ]
    },
    {
     "name": "stderr",
     "output_type": "stream",
     "text": [
      "/usr/local/lib/python3.11/dist-packages/seaborn/utils.py:61: UserWarning: Glyph 54801 (\\N{HANGUL SYLLABLE HYEOB}) missing from font(s) DejaVu Sans.\n",
      "  fig.canvas.draw()\n",
      "/usr/local/lib/python3.11/dist-packages/seaborn/utils.py:61: UserWarning: Glyph 48149 (\\N{HANGUL SYLLABLE BAG}) missing from font(s) DejaVu Sans.\n",
      "  fig.canvas.draw()\n",
      "/usr/local/lib/python3.11/dist-packages/seaborn/utils.py:61: UserWarning: Glyph 45824 (\\N{HANGUL SYLLABLE DAE}) missing from font(s) DejaVu Sans.\n",
      "  fig.canvas.draw()\n",
      "/usr/local/lib/python3.11/dist-packages/seaborn/utils.py:61: UserWarning: Glyph 54868 (\\N{HANGUL SYLLABLE HWA}) missing from font(s) DejaVu Sans.\n",
      "  fig.canvas.draw()\n",
      "/usr/local/lib/python3.11/dist-packages/seaborn/utils.py:61: UserWarning: Glyph 44040 (\\N{HANGUL SYLLABLE GAL}) missing from font(s) DejaVu Sans.\n",
      "  fig.canvas.draw()\n",
      "/usr/local/lib/python3.11/dist-packages/seaborn/utils.py:61: UserWarning: Glyph 52712 (\\N{HANGUL SYLLABLE CWI}) missing from font(s) DejaVu Sans.\n",
      "  fig.canvas.draw()\n",
      "/usr/local/lib/python3.11/dist-packages/seaborn/utils.py:61: UserWarning: Glyph 51649 (\\N{HANGUL SYLLABLE JIG}) missing from font(s) DejaVu Sans.\n",
      "  fig.canvas.draw()\n",
      "/usr/local/lib/python3.11/dist-packages/seaborn/utils.py:61: UserWarning: Glyph 51109 (\\N{HANGUL SYLLABLE JANG}) missing from font(s) DejaVu Sans.\n",
      "  fig.canvas.draw()\n",
      "/usr/local/lib/python3.11/dist-packages/seaborn/utils.py:61: UserWarning: Glyph 45236 (\\N{HANGUL SYLLABLE NAE}) missing from font(s) DejaVu Sans.\n",
      "  fig.canvas.draw()\n",
      "/usr/local/lib/python3.11/dist-packages/seaborn/utils.py:61: UserWarning: Glyph 44340 (\\N{HANGUL SYLLABLE GOE}) missing from font(s) DejaVu Sans.\n",
      "  fig.canvas.draw()\n",
      "/usr/local/lib/python3.11/dist-packages/seaborn/utils.py:61: UserWarning: Glyph 47213 (\\N{HANGUL SYLLABLE ROB}) missing from font(s) DejaVu Sans.\n",
      "  fig.canvas.draw()\n",
      "/usr/local/lib/python3.11/dist-packages/seaborn/utils.py:61: UserWarning: Glyph 55192 (\\N{HANGUL SYLLABLE HIM}) missing from font(s) DejaVu Sans.\n",
      "  fig.canvas.draw()\n",
      "/usr/local/lib/python3.11/dist-packages/seaborn/utils.py:61: UserWarning: Glyph 44592 (\\N{HANGUL SYLLABLE GI}) missing from font(s) DejaVu Sans.\n",
      "  fig.canvas.draw()\n",
      "/usr/local/lib/python3.11/dist-packages/seaborn/utils.py:61: UserWarning: Glyph 53440 (\\N{HANGUL SYLLABLE TA}) missing from font(s) DejaVu Sans.\n",
      "  fig.canvas.draw()\n",
      "/usr/local/lib/python3.11/dist-packages/seaborn/utils.py:61: UserWarning: Glyph 51068 (\\N{HANGUL SYLLABLE IL}) missing from font(s) DejaVu Sans.\n",
      "  fig.canvas.draw()\n",
      "/usr/local/lib/python3.11/dist-packages/seaborn/utils.py:61: UserWarning: Glyph 48152 (\\N{HANGUL SYLLABLE BAN}) missing from font(s) DejaVu Sans.\n",
      "  fig.canvas.draw()\n",
      "/usr/local/lib/python3.11/dist-packages/IPython/core/pylabtools.py:151: UserWarning: Glyph 47784 (\\N{HANGUL SYLLABLE MO}) missing from font(s) DejaVu Sans.\n",
      "  fig.canvas.print_figure(bytes_io, **kw)\n",
      "/usr/local/lib/python3.11/dist-packages/IPython/core/pylabtools.py:151: UserWarning: Glyph 45944 (\\N{HANGUL SYLLABLE DEL}) missing from font(s) DejaVu Sans.\n",
      "  fig.canvas.print_figure(bytes_io, **kw)\n",
      "/usr/local/lib/python3.11/dist-packages/IPython/core/pylabtools.py:151: UserWarning: Glyph 50896 (\\N{HANGUL SYLLABLE WEON}) missing from font(s) DejaVu Sans.\n",
      "  fig.canvas.print_figure(bytes_io, **kw)\n",
      "/usr/local/lib/python3.11/dist-packages/IPython/core/pylabtools.py:151: UserWarning: Glyph 48376 (\\N{HANGUL SYLLABLE BON}) missing from font(s) DejaVu Sans.\n",
      "  fig.canvas.print_figure(bytes_io, **kw)\n",
      "/usr/local/lib/python3.11/dist-packages/IPython/core/pylabtools.py:151: UserWarning: Glyph 54801 (\\N{HANGUL SYLLABLE HYEOB}) missing from font(s) DejaVu Sans.\n",
      "  fig.canvas.print_figure(bytes_io, **kw)\n",
      "/usr/local/lib/python3.11/dist-packages/IPython/core/pylabtools.py:151: UserWarning: Glyph 48149 (\\N{HANGUL SYLLABLE BAG}) missing from font(s) DejaVu Sans.\n",
      "  fig.canvas.print_figure(bytes_io, **kw)\n",
      "/usr/local/lib/python3.11/dist-packages/IPython/core/pylabtools.py:151: UserWarning: Glyph 45824 (\\N{HANGUL SYLLABLE DAE}) missing from font(s) DejaVu Sans.\n",
      "  fig.canvas.print_figure(bytes_io, **kw)\n",
      "/usr/local/lib/python3.11/dist-packages/IPython/core/pylabtools.py:151: UserWarning: Glyph 54868 (\\N{HANGUL SYLLABLE HWA}) missing from font(s) DejaVu Sans.\n",
      "  fig.canvas.print_figure(bytes_io, **kw)\n",
      "/usr/local/lib/python3.11/dist-packages/IPython/core/pylabtools.py:151: UserWarning: Glyph 44040 (\\N{HANGUL SYLLABLE GAL}) missing from font(s) DejaVu Sans.\n",
      "  fig.canvas.print_figure(bytes_io, **kw)\n",
      "/usr/local/lib/python3.11/dist-packages/IPython/core/pylabtools.py:151: UserWarning: Glyph 52712 (\\N{HANGUL SYLLABLE CWI}) missing from font(s) DejaVu Sans.\n",
      "  fig.canvas.print_figure(bytes_io, **kw)\n",
      "/usr/local/lib/python3.11/dist-packages/IPython/core/pylabtools.py:151: UserWarning: Glyph 51649 (\\N{HANGUL SYLLABLE JIG}) missing from font(s) DejaVu Sans.\n",
      "  fig.canvas.print_figure(bytes_io, **kw)\n",
      "/usr/local/lib/python3.11/dist-packages/IPython/core/pylabtools.py:151: UserWarning: Glyph 51109 (\\N{HANGUL SYLLABLE JANG}) missing from font(s) DejaVu Sans.\n",
      "  fig.canvas.print_figure(bytes_io, **kw)\n",
      "/usr/local/lib/python3.11/dist-packages/IPython/core/pylabtools.py:151: UserWarning: Glyph 45236 (\\N{HANGUL SYLLABLE NAE}) missing from font(s) DejaVu Sans.\n",
      "  fig.canvas.print_figure(bytes_io, **kw)\n",
      "/usr/local/lib/python3.11/dist-packages/IPython/core/pylabtools.py:151: UserWarning: Glyph 44340 (\\N{HANGUL SYLLABLE GOE}) missing from font(s) DejaVu Sans.\n",
      "  fig.canvas.print_figure(bytes_io, **kw)\n",
      "/usr/local/lib/python3.11/dist-packages/IPython/core/pylabtools.py:151: UserWarning: Glyph 47213 (\\N{HANGUL SYLLABLE ROB}) missing from font(s) DejaVu Sans.\n",
      "  fig.canvas.print_figure(bytes_io, **kw)\n",
      "/usr/local/lib/python3.11/dist-packages/IPython/core/pylabtools.py:151: UserWarning: Glyph 55192 (\\N{HANGUL SYLLABLE HIM}) missing from font(s) DejaVu Sans.\n",
      "  fig.canvas.print_figure(bytes_io, **kw)\n",
      "/usr/local/lib/python3.11/dist-packages/IPython/core/pylabtools.py:151: UserWarning: Glyph 44592 (\\N{HANGUL SYLLABLE GI}) missing from font(s) DejaVu Sans.\n",
      "  fig.canvas.print_figure(bytes_io, **kw)\n",
      "/usr/local/lib/python3.11/dist-packages/IPython/core/pylabtools.py:151: UserWarning: Glyph 53440 (\\N{HANGUL SYLLABLE TA}) missing from font(s) DejaVu Sans.\n",
      "  fig.canvas.print_figure(bytes_io, **kw)\n",
      "/usr/local/lib/python3.11/dist-packages/IPython/core/pylabtools.py:151: UserWarning: Glyph 51068 (\\N{HANGUL SYLLABLE IL}) missing from font(s) DejaVu Sans.\n",
      "  fig.canvas.print_figure(bytes_io, **kw)\n",
      "/usr/local/lib/python3.11/dist-packages/IPython/core/pylabtools.py:151: UserWarning: Glyph 48152 (\\N{HANGUL SYLLABLE BAN}) missing from font(s) DejaVu Sans.\n",
      "  fig.canvas.print_figure(bytes_io, **kw)\n"
     ]
    },
    {
     "data": {
      "image/png": "[encoded data removed]",
      "text/plain": [
       "<Figure size 600x500 with 2 Axes>"
      ]
     },
     "metadata": {},
     "output_type": "display_data"
    },
    {
     "name": "stdout",
     "output_type": "stream",
     "text": [
      "Classification Report:\n",
      "              precision    recall  f1-score   support\n",
      "\n",
      "       협박 대화       0.86      0.87      0.86       179\n",
      "       갈취 대화       0.78      0.90      0.83       195\n",
      " 직장 내 괴롭힘 대화       0.75      0.96      0.85       194\n",
      "   기타 괴롭힘 대화       0.66      0.84      0.74       202\n",
      "       일반 대화       1.00      0.09      0.17       158\n",
      "\n",
      "    accuracy                           0.76       928\n",
      "   macro avg       0.81      0.73      0.69       928\n",
      "weighted avg       0.80      0.76      0.71       928\n",
      "\n"
     ]
    }
   ],
   "source": [
    "from sklearn.metrics import classification_report, confusion_matrix\n",
    "import matplotlib.pyplot as plt\n",
    "import seaborn as sns\n",
    "\n",
    "# 검증셋 준비\n",
    "val_df = pd.DataFrame({\"text\": X_val_raw.tolist(), \"label\": y_val})\n",
    "val_dataset = Dataset.from_pandas(val_df).map(tokenize_function, batched=True)\n",
    "\n",
    "print(\"\\n 모델별 confusion matrix 및 classification report\")\n",
    "for i, name in enumerate(dataset_names, 1):\n",
    "    print(f\"\\n 모델 {i}: {name}\")\n",
    "\n",
    "    # 모델 불러오기\n",
    "    model_path = f\"./results/model_{i}\"\n",
    "    model = ElectraForSequenceClassification.from_pretrained(model_path).to(device)\n",
    "\n",
    "    # 평가용 Trainer\n",
    "    trainer = Trainer(model=model, tokenizer=tokenizer)\n",
    "\n",
    "    # 예측 수행\n",
    "    preds = trainer.predict(val_dataset)\n",
    "    y_pred = np.argmax(preds.predictions, axis=1)\n",
    "    y_true = y_val\n",
    "\n",
    "    # confusion matrix 출력\n",
    "    cm = confusion_matrix(y_true, y_pred)\n",
    "    print(\"Confusion Matrix:\")\n",
    "    print(cm)\n",
    "\n",
    "    # 시각화\n",
    "    plt.figure(figsize=(6, 5))\n",
    "    sns.heatmap(cm, annot=True, fmt='d', cmap='Blues', xticklabels=ordered_columns, yticklabels=ordered_columns)\n",
    "    plt.title(f\"Confusion Matrix - 모델 {i}: {name}\")\n",
    "    plt.xlabel(\"Predicted\")\n",
    "    plt.ylabel(\"True\")\n",
    "    plt.show()\n",
    "\n",
    "    # classification report\n",
    "    print(\"Classification Report:\")\n",
    "    print(classification_report(y_true, y_pred, target_names=ordered_columns))\n"
   ]
  },
  {
   "cell_type": "code",
   "execution_count": 20,
   "metadata": {
    "colab": {
     "base_uri": "https://localhost:8080/",
     "height": 49,
     "referenced_widgets": [
      "b6560eb07939437a8097a61fd8ff73ea",
      "089b51e90ddd42c6a5f59d612c0a392c",
      "a5cc96fa4cb0488aa983ab1c9e86282c",
      "a43f47a638194fd8b7ff02161c39bb4c",
      "2d4904df828e422d9e4306a6c0a4ff64",
      "101455bce792487c932ea0e2a855796a",
      "033c10429cce49968f40b1bdc4e4e5f3",
      "6a0b12b520bc485ebec26d14680a1a8c",
      "775b10ad6c7e48fab38cc914fb12a78e",
      "2c1dcee318054a7aaec1277700a4d21f",
      "4e7e5747700845b2a7a24f36ac750d06"
     ]
    },
    "id": "2nTONl_BsOUK",
    "outputId": "4a4bcaec-8948-457a-f8ed-76efba1343fd"
   },
   "outputs": [
    {
     "data": {
      "application/vnd.jupyter.widget-view+json": {
       "model_id": "b6560eb07939437a8097a61fd8ff73ea",
       "version_major": 2,
       "version_minor": 0
      },
      "text/plain": [
       "Map:   0%|          | 0/500 [00:00<?, ? examples/s]"
      ]
     },
     "metadata": {},
     "output_type": "display_data"
    }
   ],
   "source": [
    "test_df = pd.read_csv(test_url)\n",
    "test_df.columns = test_df.columns.str.strip().str.lower()\n",
    "test_df = test_df.rename(columns={\"conversation\": \"text\"})\n",
    "test_dataset = Dataset.from_pandas(test_df)\n",
    "test_tokenized = test_dataset.map(lambda x: tokenizer(x[\"text\"], padding=\"max_length\", truncation=True, max_length=128), batched=True)"
   ]
  },
  {
   "cell_type": "code",
   "execution_count": 39,
   "metadata": {
    "colab": {
     "base_uri": "https://localhost:8080/",
     "height": 575
    },
    "id": "L2f99Wq9sOaL",
    "outputId": "0a0dc441-c039-4de1-a7a5-ad0557c3efeb"
   },
   "outputs": [
    {
     "name": "stdout",
     "output_type": "stream",
     "text": [
      "\n",
      "▶ 모델 1 예측 및 제출 파일 생성\n"
     ]
    },
    {
     "name": "stderr",
     "output_type": "stream",
     "text": [
      "<ipython-input-39-0f38812df676>:17: FutureWarning: `tokenizer` is deprecated and will be removed in version 5.0.0 for `Trainer.__init__`. Use `processing_class` instead.\n",
      "  trainer = Trainer(model=model, tokenizer=tokenizer)\n"
     ]
    },
    {
     "data": {
      "text/html": [],
      "text/plain": [
       "<IPython.core.display.HTML object>"
      ]
     },
     "metadata": {},
     "output_type": "display_data"
    },
    {
     "name": "stdout",
     "output_type": "stream",
     "text": [
      "✅ submission_model1_final.csv 저장 완료\n",
      "\n",
      "▶ 모델 2 예측 및 제출 파일 생성\n"
     ]
    },
    {
     "name": "stderr",
     "output_type": "stream",
     "text": [
      "<ipython-input-39-0f38812df676>:17: FutureWarning: `tokenizer` is deprecated and will be removed in version 5.0.0 for `Trainer.__init__`. Use `processing_class` instead.\n",
      "  trainer = Trainer(model=model, tokenizer=tokenizer)\n"
     ]
    },
    {
     "data": {
      "text/html": [],
      "text/plain": [
       "<IPython.core.display.HTML object>"
      ]
     },
     "metadata": {},
     "output_type": "display_data"
    },
    {
     "name": "stdout",
     "output_type": "stream",
     "text": [
      "✅ submission_model2_final.csv 저장 완료\n",
      "\n",
      "▶ 모델 3 예측 및 제출 파일 생성\n"
     ]
    },
    {
     "name": "stderr",
     "output_type": "stream",
     "text": [
      "<ipython-input-39-0f38812df676>:17: FutureWarning: `tokenizer` is deprecated and will be removed in version 5.0.0 for `Trainer.__init__`. Use `processing_class` instead.\n",
      "  trainer = Trainer(model=model, tokenizer=tokenizer)\n"
     ]
    },
    {
     "data": {
      "text/html": [],
      "text/plain": [
       "<IPython.core.display.HTML object>"
      ]
     },
     "metadata": {},
     "output_type": "display_data"
    },
    {
     "name": "stdout",
     "output_type": "stream",
     "text": [
      "✅ submission_model3_final.csv 저장 완료\n",
      "\n",
      "▶ 모델 4 예측 및 제출 파일 생성\n"
     ]
    },
    {
     "name": "stderr",
     "output_type": "stream",
     "text": [
      "<ipython-input-39-0f38812df676>:17: FutureWarning: `tokenizer` is deprecated and will be removed in version 5.0.0 for `Trainer.__init__`. Use `processing_class` instead.\n",
      "  trainer = Trainer(model=model, tokenizer=tokenizer)\n"
     ]
    },
    {
     "data": {
      "text/html": [],
      "text/plain": [
       "<IPython.core.display.HTML object>"
      ]
     },
     "metadata": {},
     "output_type": "display_data"
    },
    {
     "name": "stdout",
     "output_type": "stream",
     "text": [
      "✅ submission_model4_final.csv 저장 완료\n",
      "\n",
      "▶ 모델 5 예측 및 제출 파일 생성\n"
     ]
    },
    {
     "name": "stderr",
     "output_type": "stream",
     "text": [
      "<ipython-input-39-0f38812df676>:17: FutureWarning: `tokenizer` is deprecated and will be removed in version 5.0.0 for `Trainer.__init__`. Use `processing_class` instead.\n",
      "  trainer = Trainer(model=model, tokenizer=tokenizer)\n"
     ]
    },
    {
     "data": {
      "text/html": [],
      "text/plain": [
       "<IPython.core.display.HTML object>"
      ]
     },
     "metadata": {},
     "output_type": "display_data"
    },
    {
     "name": "stdout",
     "output_type": "stream",
     "text": [
      "✅ submission_model5_final.csv 저장 완료\n",
      "\n",
      "▶ 모델 6 예측 및 제출 파일 생성\n"
     ]
    },
    {
     "name": "stderr",
     "output_type": "stream",
     "text": [
      "<ipython-input-39-0f38812df676>:17: FutureWarning: `tokenizer` is deprecated and will be removed in version 5.0.0 for `Trainer.__init__`. Use `processing_class` instead.\n",
      "  trainer = Trainer(model=model, tokenizer=tokenizer)\n"
     ]
    },
    {
     "data": {
      "text/html": [],
      "text/plain": [
       "<IPython.core.display.HTML object>"
      ]
     },
     "metadata": {},
     "output_type": "display_data"
    },
    {
     "name": "stdout",
     "output_type": "stream",
     "text": [
      "✅ submission_model6_final.csv 저장 완료\n"
     ]
    }
   ],
   "source": [
    "from sklearn.preprocessing import LabelEncoder\n",
    "from transformers import ElectraForSequenceClassification, Trainer\n",
    "\n",
    "# LabelEncoder 정의 및 학습\n",
    "class_list = [\"협박 대화\", \"갈취 대화\", \"직장 내 괴롭힘 대화\", \"기타 괴롭힘 대화\", \"일반 대화\"]\n",
    "le = LabelEncoder()\n",
    "le.fit(class_list)\n",
    "\n",
    "for i in range(1, 7):\n",
    "    print(f\"\\n▶ 모델 {i} 예측 및 제출 파일 생성\")\n",
    "\n",
    "    # 모델 로드\n",
    "    model_path = f\"./results/model_{i}\"\n",
    "    model = ElectraForSequenceClassification.from_pretrained(model_path).to(device)\n",
    "\n",
    "    # Trainer 설정\n",
    "    trainer = Trainer(model=model, tokenizer=tokenizer)\n",
    "\n",
    "    # 예측 수행\n",
    "    preds = trainer.predict(test_tokenized)\n",
    "    y_pred = np.argmax(preds.predictions, axis=1)\n",
    "\n",
    "    # 클래스명으로 변환 후 → 다시 숫자 라벨로 (LabelEncoder 기준)\n",
    "    class_names = le.inverse_transform(y_pred)\n",
    "    label_ids = le.transform(class_names).astype(int)  # 그대로 평가용 target\n",
    "\n",
    "    # 제출 파일 생성\n",
    "    submission = pd.DataFrame({\n",
    "        \"idx\": test_df[\"idx\"],\n",
    "        \"target\": label_ids  # 최종 숫자 라벨\n",
    "    })\n",
    "\n",
    "    submission.to_csv(f\"submission_model{i}_final.csv\", index=False, encoding=\"utf-8-sig\")\n",
    "    print(f\"✅ submission_model{i}_final.csv 저장 완료\")\n"
   ]
  },
  {
   "cell_type": "code",
   "execution_count": 35,
   "metadata": {
    "colab": {
     "base_uri": "https://localhost:8080/"
    },
    "id": "B8UET0MNsOgp",
    "outputId": "599bdd1b-2b13-4c03-98f5-faa3919e1d1b"
   },
   "outputs": [
    {
     "name": "stdout",
     "output_type": "stream",
     "text": [
      "\n",
      " submission_model1.csv 클래스별 분포\n",
      "predicted_class\n",
      "갈취 대화          112\n",
      "기타 괴롭힘 대화      157\n",
      "일반 대화           22\n",
      "직장 내 괴롭힘 대화    109\n",
      "협박 대화          100\n",
      "Name: count, dtype: int64\n",
      "\n",
      " submission_model2.csv 클래스별 분포\n",
      "predicted_class\n",
      "갈취 대화          122\n",
      "기타 괴롭힘 대화      146\n",
      "일반 대화           22\n",
      "직장 내 괴롭힘 대화    114\n",
      "협박 대화           96\n",
      "Name: count, dtype: int64\n",
      "\n",
      " submission_model3.csv 클래스별 분포\n",
      "predicted_class\n",
      "갈취 대화          124\n",
      "기타 괴롭힘 대화      163\n",
      "직장 내 괴롭힘 대화    113\n",
      "협박 대화          100\n",
      "Name: count, dtype: int64\n",
      "\n",
      " submission_model4.csv 클래스별 분포\n",
      "predicted_class\n",
      "갈취 대화          119\n",
      "기타 괴롭힘 대화      154\n",
      "직장 내 괴롭힘 대화    122\n",
      "협박 대화          105\n",
      "Name: count, dtype: int64\n",
      "\n",
      " submission_model5.csv 클래스별 분포\n",
      "predicted_class\n",
      "갈취 대화          118\n",
      "기타 괴롭힘 대화      152\n",
      "직장 내 괴롭힘 대화    120\n",
      "협박 대화          110\n",
      "Name: count, dtype: int64\n",
      "\n",
      " submission_model6.csv 클래스별 분포\n",
      "predicted_class\n",
      "갈취 대화          123\n",
      "기타 괴롭힘 대화      141\n",
      "일반 대화            1\n",
      "직장 내 괴롭힘 대화    125\n",
      "협박 대화          110\n",
      "Name: count, dtype: int64\n"
     ]
    }
   ],
   "source": [
    "# 분석 대상 파일 목록\n",
    "submission_files = [f\"submission_model{i}.csv\" for i in range(1, 7)]\n",
    "\n",
    "for file in submission_files:\n",
    "    print(f\"\\n {file} 클래스별 분포\")\n",
    "\n",
    "    df = pd.read_csv(file)\n",
    "\n",
    "    # 클래스별 개수 집계\n",
    "    class_counts = df[\"predicted_class\"].value_counts()\n",
    "\n",
    "    # 정렬 후 출력 (가나다순)\n",
    "    print(class_counts.sort_index())"
   ]
  },
  {
   "cell_type": "code",
   "execution_count": 40,
   "metadata": {
    "colab": {
     "base_uri": "https://localhost:8080/"
    },
    "id": "shoFwllOsOvb",
    "outputId": "6b3f4516-7ba1-4f0b-de29-f3f67a343737"
   },
   "outputs": [
    {
     "name": "stdout",
     "output_type": "stream",
     "text": [
      "     idx  target\n",
      "0  t_000       1\n",
      "1  t_001       2\n",
      "2  t_002       2\n",
      "3  t_003       4\n",
      "4  t_004       3\n",
      "5  t_005       0\n",
      "6  t_006       0\n",
      "7  t_007       1\n",
      "8  t_008       3\n",
      "9  t_009       1\n"
     ]
    }
   ],
   "source": [
    "\n",
    "df = pd.read_csv(\"submission_model2_final.csv\")\n",
    "print(df.head(10\n",
    "              ))  # 또는 display(df) in Jupyter"
   ]
  },
  {
   "cell_type": "code",
   "execution_count": 41,
   "metadata": {
    "colab": {
     "base_uri": "https://localhost:8080/",
     "height": 17
    },
    "id": "YYEuSXYvsO2S",
    "outputId": "94ce9ba9-da09-422d-aa39-34448c3d540b"
   },
   "outputs": [
    {
     "data": {
      "application/javascript": [
       "\n",
       "    async function download(id, filename, size) {\n",
       "      if (!google.colab.kernel.accessAllowed) {\n",
       "        return;\n",
       "      }\n",
       "      const div = document.createElement('div');\n",
       "      const label = document.createElement('label');\n",
       "      label.textContent = `Downloading \"${filename}\": `;\n",
       "      div.appendChild(label);\n",
       "      const progress = document.createElement('progress');\n",
       "      progress.max = size;\n",
       "      div.appendChild(progress);\n",
       "      document.body.appendChild(div);\n",
       "\n",
       "      const buffers = [];\n",
       "      let downloaded = 0;\n",
       "\n",
       "      const channel = await google.colab.kernel.comms.open(id);\n",
       "      // Send a message to notify the kernel that we're ready.\n",
       "      channel.send({})\n",
       "\n",
       "      for await (const message of channel.messages) {\n",
       "        // Send a message to notify the kernel that we're ready.\n",
       "        channel.send({})\n",
       "        if (message.buffers) {\n",
       "          for (const buffer of message.buffers) {\n",
       "            buffers.push(buffer);\n",
       "            downloaded += buffer.byteLength;\n",
       "            progress.value = downloaded;\n",
       "          }\n",
       "        }\n",
       "      }\n",
       "      const blob = new Blob(buffers, {type: 'application/binary'});\n",
       "      const a = document.createElement('a');\n",
       "      a.href = window.URL.createObjectURL(blob);\n",
       "      a.download = filename;\n",
       "      div.appendChild(a);\n",
       "      a.click();\n",
       "      div.remove();\n",
       "    }\n",
       "  "
      ],
      "text/plain": [
       "<IPython.core.display.Javascript object>"
      ]
     },
     "metadata": {},
     "output_type": "display_data"
    },
    {
     "data": {
      "application/javascript": [
       "download(\"download_1cba5389-0909-46b6-aafa-8554ec054b9e\", \"submission_model2_final.csv\", 4014)"
      ],
      "text/plain": [
       "<IPython.core.display.Javascript object>"
      ]
     },
     "metadata": {},
     "output_type": "display_data"
    }
   ],
   "source": [
    "from google.colab import files\n",
    "files.download(\"submission_model2_final.csv\")"
   ]
  },
  {
   "cell_type": "code",
   "execution_count": 42,
   "metadata": {
    "colab": {
     "base_uri": "https://localhost:8080/",
     "height": 17
    },
    "id": "VHvKj8XIsO9R",
    "outputId": "189d7f37-17bb-48a9-9d5f-bfe6e8001de1"
   },
   "outputs": [
    {
     "data": {
      "application/javascript": [
       "\n",
       "    async function download(id, filename, size) {\n",
       "      if (!google.colab.kernel.accessAllowed) {\n",
       "        return;\n",
       "      }\n",
       "      const div = document.createElement('div');\n",
       "      const label = document.createElement('label');\n",
       "      label.textContent = `Downloading \"${filename}\": `;\n",
       "      div.appendChild(label);\n",
       "      const progress = document.createElement('progress');\n",
       "      progress.max = size;\n",
       "      div.appendChild(progress);\n",
       "      document.body.appendChild(div);\n",
       "\n",
       "      const buffers = [];\n",
       "      let downloaded = 0;\n",
       "\n",
       "      const channel = await google.colab.kernel.comms.open(id);\n",
       "      // Send a message to notify the kernel that we're ready.\n",
       "      channel.send({})\n",
       "\n",
       "      for await (const message of channel.messages) {\n",
       "        // Send a message to notify the kernel that we're ready.\n",
       "        channel.send({})\n",
       "        if (message.buffers) {\n",
       "          for (const buffer of message.buffers) {\n",
       "            buffers.push(buffer);\n",
       "            downloaded += buffer.byteLength;\n",
       "            progress.value = downloaded;\n",
       "          }\n",
       "        }\n",
       "      }\n",
       "      const blob = new Blob(buffers, {type: 'application/binary'});\n",
       "      const a = document.createElement('a');\n",
       "      a.href = window.URL.createObjectURL(blob);\n",
       "      a.download = filename;\n",
       "      div.appendChild(a);\n",
       "      a.click();\n",
       "      div.remove();\n",
       "    }\n",
       "  "
      ],
      "text/plain": [
       "<IPython.core.display.Javascript object>"
      ]
     },
     "metadata": {},
     "output_type": "display_data"
    },
    {
     "data": {
      "application/javascript": [
       "download(\"download_1b32b9a7-9a33-440e-aea6-d57af0fd5d29\", \"submission_model6_final.csv\", 4014)"
      ],
      "text/plain": [
       "<IPython.core.display.Javascript object>"
      ]
     },
     "metadata": {},
     "output_type": "display_data"
    }
   ],
   "source": [
    "from google.colab import files\n",
    "files.download(\"submission_model6_final.csv\")"
   ]
  },
  {
   "attachments": {
    "image.png": {
     "image/png": "[encoded data removed]"
    }
   },
   "cell_type": "markdown",
   "metadata": {},
   "source": [
    "![image.png](attachment:image.png)"
   ]
  },
  {
   "cell_type": "code",
   "execution_count": null,
   "metadata": {},
   "outputs": [],
   "source": []
  }
 ],
 "metadata": {
  "accelerator": "GPU",
  "colab": {
   "gpuType": "T4",
   "provenance": []
  },
  "kernelspec": {
   "display_name": "Python 3 (ipykernel)",
   "language": "python",
   "name": "python3"
  },
  "language_info": {
   "codemirror_mode": {
    "name": "ipython",
    "version": 3
   },
   "file_extension": ".py",
   "mimetype": "text/x-python",
   "name": "python",
   "nbconvert_exporter": "python",
   "pygments_lexer": "ipython3",
   "version": "3.9.7"
  }
 },
 "nbformat": 4,
 "nbformat_minor": 1
}
