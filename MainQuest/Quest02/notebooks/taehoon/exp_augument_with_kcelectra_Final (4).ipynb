{
 "cells": [
  {
   "cell_type": "code",
   "execution_count": 1,
   "metadata": {
    "colab": {
     "base_uri": "https://localhost:8080/",
     "height": 899
    },
    "id": "g7n_CnUugRsZ",
    "outputId": "14cf9ac7-33b0-42cc-9ce0-f7624719a758"
   },
   "outputs": [
    {
     "name": "stdout",
     "output_type": "stream",
     "text": [
      "Collecting konlpy\n",
      "  Downloading konlpy-0.6.0-py2.py3-none-any.whl.metadata (1.9 kB)\n",
      "Collecting JPype1>=0.7.0 (from konlpy)\n",
      "  Downloading jpype1-1.5.2-cp311-cp311-manylinux_2_17_x86_64.manylinux2014_x86_64.whl.metadata (4.9 kB)\n",
      "Requirement already satisfied: lxml>=4.1.0 in /usr/local/lib/python3.11/dist-packages (from konlpy) (5.4.0)\n",
      "Requirement already satisfied: numpy>=1.6 in /usr/local/lib/python3.11/dist-packages (from konlpy) (2.0.2)\n",
      "Requirement already satisfied: packaging in /usr/local/lib/python3.11/dist-packages (from JPype1>=0.7.0->konlpy) (24.2)\n",
      "Downloading konlpy-0.6.0-py2.py3-none-any.whl (19.4 MB)\n",
      "\u001b[2K   \u001b[90m━━━━━━━━━━━━━━━━━━━━━━━━━━━━━━━━━━━━━━━━\u001b[0m \u001b[32m19.4/19.4 MB\u001b[0m \u001b[31m39.2 MB/s\u001b[0m eta \u001b[36m0:00:00\u001b[0m\n",
      "\u001b[?25hDownloading jpype1-1.5.2-cp311-cp311-manylinux_2_17_x86_64.manylinux2014_x86_64.whl (494 kB)\n",
      "\u001b[2K   \u001b[90m━━━━━━━━━━━━━━━━━━━━━━━━━━━━━━━━━━━━━━━━\u001b[0m \u001b[32m494.1/494.1 kB\u001b[0m \u001b[31m23.0 MB/s\u001b[0m eta \u001b[36m0:00:00\u001b[0m\n",
      "\u001b[?25hInstalling collected packages: JPype1, konlpy\n",
      "Successfully installed JPype1-1.5.2 konlpy-0.6.0\n",
      "Requirement already satisfied: wandb in /usr/local/lib/python3.11/dist-packages (0.19.10)\n",
      "Requirement already satisfied: click!=8.0.0,>=7.1 in /usr/local/lib/python3.11/dist-packages (from wandb) (8.1.8)\n",
      "Requirement already satisfied: docker-pycreds>=0.4.0 in /usr/local/lib/python3.11/dist-packages (from wandb) (0.4.0)\n",
      "Requirement already satisfied: gitpython!=3.1.29,>=1.0.0 in /usr/local/lib/python3.11/dist-packages (from wandb) (3.1.44)\n",
      "Requirement already satisfied: platformdirs in /usr/local/lib/python3.11/dist-packages (from wandb) (4.3.7)\n",
      "Requirement already satisfied: protobuf!=4.21.0,!=5.28.0,<7,>=3.19.0 in /usr/local/lib/python3.11/dist-packages (from wandb) (5.29.4)\n",
      "Requirement already satisfied: psutil>=5.0.0 in /usr/local/lib/python3.11/dist-packages (from wandb) (5.9.5)\n",
      "Requirement already satisfied: pydantic<3 in /usr/local/lib/python3.11/dist-packages (from wandb) (2.11.4)\n",
      "Requirement already satisfied: pyyaml in /usr/local/lib/python3.11/dist-packages (from wandb) (6.0.2)\n",
      "Requirement already satisfied: requests<3,>=2.0.0 in /usr/local/lib/python3.11/dist-packages (from wandb) (2.32.3)\n",
      "Requirement already satisfied: sentry-sdk>=2.0.0 in /usr/local/lib/python3.11/dist-packages (from wandb) (2.27.0)\n",
      "Requirement already satisfied: setproctitle in /usr/local/lib/python3.11/dist-packages (from wandb) (1.3.6)\n",
      "Requirement already satisfied: setuptools in /usr/local/lib/python3.11/dist-packages (from wandb) (75.2.0)\n",
      "Requirement already satisfied: typing-extensions<5,>=4.4 in /usr/local/lib/python3.11/dist-packages (from wandb) (4.13.2)\n",
      "Requirement already satisfied: six>=1.4.0 in /usr/local/lib/python3.11/dist-packages (from docker-pycreds>=0.4.0->wandb) (1.17.0)\n",
      "Requirement already satisfied: gitdb<5,>=4.0.1 in /usr/local/lib/python3.11/dist-packages (from gitpython!=3.1.29,>=1.0.0->wandb) (4.0.12)\n",
      "Requirement already satisfied: annotated-types>=0.6.0 in /usr/local/lib/python3.11/dist-packages (from pydantic<3->wandb) (0.7.0)\n",
      "Requirement already satisfied: pydantic-core==2.33.2 in /usr/local/lib/python3.11/dist-packages (from pydantic<3->wandb) (2.33.2)\n",
      "Requirement already satisfied: typing-inspection>=0.4.0 in /usr/local/lib/python3.11/dist-packages (from pydantic<3->wandb) (0.4.0)\n",
      "Requirement already satisfied: charset-normalizer<4,>=2 in /usr/local/lib/python3.11/dist-packages (from requests<3,>=2.0.0->wandb) (3.4.1)\n",
      "Requirement already satisfied: idna<4,>=2.5 in /usr/local/lib/python3.11/dist-packages (from requests<3,>=2.0.0->wandb) (3.10)\n",
      "Requirement already satisfied: urllib3<3,>=1.21.1 in /usr/local/lib/python3.11/dist-packages (from requests<3,>=2.0.0->wandb) (2.4.0)\n",
      "Requirement already satisfied: certifi>=2017.4.17 in /usr/local/lib/python3.11/dist-packages (from requests<3,>=2.0.0->wandb) (2025.4.26)\n",
      "Requirement already satisfied: smmap<6,>=3.0.1 in /usr/local/lib/python3.11/dist-packages (from gitdb<5,>=4.0.1->gitpython!=3.1.29,>=1.0.0->wandb) (5.0.2)\n"
     ]
    },
    {
     "data": {
      "application/javascript": [
       "\n",
       "        window._wandbApiKey = new Promise((resolve, reject) => {\n",
       "            function loadScript(url) {\n",
       "            return new Promise(function(resolve, reject) {\n",
       "                let newScript = document.createElement(\"script\");\n",
       "                newScript.onerror = reject;\n",
       "                newScript.onload = resolve;\n",
       "                document.body.appendChild(newScript);\n",
       "                newScript.src = url;\n",
       "            });\n",
       "            }\n",
       "            loadScript(\"https://cdn.jsdelivr.net/npm/postmate/build/postmate.min.js\").then(() => {\n",
       "            const iframe = document.createElement('iframe')\n",
       "            iframe.style.cssText = \"width:0;height:0;border:none\"\n",
       "            document.body.appendChild(iframe)\n",
       "            const handshake = new Postmate({\n",
       "                container: iframe,\n",
       "                url: 'https://wandb.ai/authorize'\n",
       "            });\n",
       "            const timeout = setTimeout(() => reject(\"Couldn't auto authenticate\"), 5000)\n",
       "            handshake.then(function(child) {\n",
       "                child.on('authorize', data => {\n",
       "                    clearTimeout(timeout)\n",
       "                    resolve(data)\n",
       "                });\n",
       "            });\n",
       "            })\n",
       "        });\n",
       "    "
      ],
      "text/plain": [
       "<IPython.core.display.Javascript object>"
      ]
     },
     "metadata": {},
     "output_type": "display_data"
    },
    {
     "name": "stderr",
     "output_type": "stream",
     "text": [
      "\u001b[34m\u001b[1mwandb\u001b[0m: Logging into wandb.ai. (Learn how to deploy a W&B server locally: https://wandb.me/wandb-server)\n",
      "\u001b[34m\u001b[1mwandb\u001b[0m: You can find your API key in your browser here: https://wandb.ai/authorize\n",
      "wandb: Paste an API key from your profile and hit enter:"
     ]
    },
    {
     "name": "stdout",
     "output_type": "stream",
     "text": [
      " ··········\n"
     ]
    },
    {
     "name": "stderr",
     "output_type": "stream",
     "text": [
      "\u001b[34m\u001b[1mwandb\u001b[0m: \u001b[33mWARNING\u001b[0m If you're specifying your api key in code, ensure this code is not shared publicly.\n",
      "\u001b[34m\u001b[1mwandb\u001b[0m: \u001b[33mWARNING\u001b[0m Consider setting the WANDB_API_KEY environment variable, or running `wandb login` from the command line.\n",
      "\u001b[34m\u001b[1mwandb\u001b[0m: No netrc file found, creating one.\n",
      "\u001b[34m\u001b[1mwandb\u001b[0m: Appending key for api.wandb.ai to your netrc file: /root/.netrc\n",
      "\u001b[34m\u001b[1mwandb\u001b[0m: Currently logged in as: \u001b[33mbth0114\u001b[0m (\u001b[33mjiwoong-team\u001b[0m) to \u001b[32mhttps://api.wandb.ai\u001b[0m. Use \u001b[1m`wandb login --relogin`\u001b[0m to force relogin\n"
     ]
    },
    {
     "data": {
      "text/plain": [
       "True"
      ]
     },
     "execution_count": 1,
     "metadata": {},
     "output_type": "execute_result"
    }
   ],
   "source": [
    "!pip install konlpy\n",
    "!pip install wandb\n",
    "import os\n",
    "import re\n",
    "import pandas as pd\n",
    "import numpy as np\n",
    "import tensorflow as tf\n",
    "import matplotlib.pyplot as plt\n",
    "from konlpy.tag import Okt\n",
    "from sklearn.model_selection import train_test_split\n",
    "from sklearn.metrics import classification_report, confusion_matrix\n",
    "from keras.callbacks import ModelCheckpoint, EarlyStopping\n",
    "from tensorflow.keras.preprocessing.text import Tokenizer\n",
    "from tensorflow.keras.preprocessing.sequence import pad_sequences\n",
    "\n",
    "\n",
    "import wandb\n",
    "from wandb.integration.keras.callbacks import WandbMetricsLogger\n",
    "wandb.login()"
   ]
  },
  {
   "cell_type": "code",
   "execution_count": 2,
   "metadata": {
    "id": "OiHDX_acgdUS"
   },
   "outputs": [],
   "source": [
    "\n",
    "\n",
    "\n",
    "\n",
    "from sklearn.model_selection import train_test_split\n",
    "from sklearn.preprocessing import LabelEncoder\n",
    "\n",
    "#학습 데이터 경로\n",
    "train_paths = {\n",
    "    \"eda_normal_conversation\":  \"https://raw.githubusercontent.com/bth0114/AIFFEL_DLThon_DKTC_online13/main/data/aug_csv/eda_normal_conversation.csv\",\n",
    "    \"conversations_aihub\": \"https://raw.githubusercontent.com/bth0114/AIFFEL_DLThon_DKTC_online13/main/data/raw_csv/conversations_aihub.csv\",\n",
    "    \"merged_train\": \"https://raw.githubusercontent.com/bth0114/AIFFEL_DLThon_DKTC_online13/main/data/raw_csv/merged_train.csv\",\n",
    "    \"merged_train_train\": \"https://raw.githubusercontent.com/bth0114/AIFFEL_DLThon_DKTC_online13/main/data/raw_csv/merged_train_train.csv\",\n",
    "    \"merged_train_val\": \"https://raw.githubusercontent.com/bth0114/AIFFEL_DLThon_DKTC_online13/main/data/raw_csv/merged_train_val.csv\",\n",
    "    \"aug_synonym_train_only\" : \"https://raw.githubusercontent.com/bth0114/AIFFEL_DLThon_DKTC_online13/main/data/aug_csv/aug_synonym_train_only.csv\",\n",
    "    \"aug_KoEDA_train_only\":\"https://raw.githubusercontent.com/bth0114/AIFFEL_DLThon_DKTC_online13/main/data/aug_csv/aug_KoEDA_train_only.csv\",\n",
    "    \"aug_plus\": \"https://raw.githubusercontent.com/bth0114/AIFFEL_DLThon_DKTC_online13/main/data/aug_csv/aug_plus_train.csv\",\n",
    "    \"aug_synonym\": \"https://raw.githubusercontent.com/bth0114/AIFFEL_DLThon_DKTC_online13/main/data/aug_csv/aug_synonym_train_only.csv\",\n",
    "    \"eda_only\": \"https://raw.githubusercontent.com/bth0114/AIFFEL_DLThon_DKTC_online13/main/data/aug_csv/eda_only.csv\",\n",
    "    \"final_allclass\": \"https://raw.githubusercontent.com/bth0114/AIFFEL_DLThon_DKTC_online13/main/data/aug_csv/final_train_allclass_eda.csv\"\n",
    "\n",
    "}\n",
    "\n",
    "# 제출용 test 데이터 경로\n",
    "test_url = \"https://raw.githubusercontent.com/bth0114/AIFFEL_DLThon_DKTC_online13/main/data/raw_csv/test.csv\""
   ]
  },
  {
   "cell_type": "code",
   "execution_count": 3,
   "metadata": {
    "id": "87qaBFIDgeDD"
   },
   "outputs": [],
   "source": [
    "# 1. 데이터 불러오기\n",
    "df_merged_train_train = pd.read_csv(train_paths[\"merged_train_train\"])\n",
    "df_merged_train_val = pd.read_csv(train_paths[\"merged_train_val\"])\n",
    "df_conversations_aihub = pd.read_csv(train_paths[\"conversations_aihub\"])\n",
    "df_syn = pd.read_csv(train_paths[\"aug_synonym\"])\n",
    "df_eda = pd.read_csv(train_paths[\"eda_only\"])\n",
    "df_syn_only = pd.read_csv(train_paths[\"aug_synonym_train_only\"])\n",
    "df_eda_only = pd.read_csv(train_paths[\"aug_KoEDA_train_only\"])\n",
    "df_eda_normal_conversation=pd.read_csv(train_paths[\"eda_normal_conversation\"])"
   ]
  },
  {
   "cell_type": "code",
   "execution_count": 4,
   "metadata": {
    "id": "_KNkKbzuge7b"
   },
   "outputs": [],
   "source": [
    "# 2. 라벨 인코딩\n",
    "\n",
    "# 원하는 정수 순서 지정\n",
    "custom_label_order = {\n",
    "    '협박 대화': 0,\n",
    "    '갈취 대화': 1,\n",
    "    '직장 내 괴롭힘 대화': 2,\n",
    "    '기타 괴롭힘 대화': 3,\n",
    "    '일반 대화': 4\n",
    "}\n",
    "\n",
    "# 원-핫이 아니라 문자열 클래스인 경우 바로 정수로 변환\n",
    "y_train_int = df_merged_train_train['class'].map(custom_label_order).values\n",
    "y_val_int = df_merged_train_val['class'].map(custom_label_order).values"
   ]
  },
  {
   "cell_type": "code",
   "execution_count": 5,
   "metadata": {
    "id": "Y4q8tHU7gfHu"
   },
   "outputs": [],
   "source": [
    "# 훈련셋,검증셋 분리\n",
    "\n",
    "# 1. 입력 텍스트\n",
    "X_train_raw = df_merged_train_train[\"conversation\"]\n",
    "X_val_raw = df_merged_train_val[\"conversation\"]\n",
    "\n",
    "# 2. 클래스 → 정수 인코딩\n",
    "y_train = df_merged_train_train[\"class\"].map(custom_label_order).values\n",
    "y_val = df_merged_train_val[\"class\"].map(custom_label_order).values"
   ]
  },
  {
   "cell_type": "code",
   "execution_count": 6,
   "metadata": {
    "colab": {
     "base_uri": "https://localhost:8080/"
    },
    "id": "KurP5msRgfQ2",
    "outputId": "b07e942f-f200-49bf-d4ba-6bcfb3330c93"
   },
   "outputs": [
    {
     "name": "stdout",
     "output_type": "stream",
     "text": [
      "샘플 수\n",
      "X1: 3709, X2: 11127\n"
     ]
    }
   ],
   "source": [
    "X_eda_only = df_eda_only['conversation'].tolist()\n",
    "X_eda_conversation = df_eda_normal_conversation['conversation'].tolist()\n",
    "y_eda_only = df_eda_only['class'].map(custom_label_order).values\n",
    "y_eda_conversation = df_eda_normal_conversation['class'].map(custom_label_order).values\n",
    "# 조합 생성\n",
    "X1 = X_train_raw.tolist()\n",
    "y1 = y_train\n",
    "\n",
    "X2 = X1 + X_eda_only + X_eda_conversation\n",
    "y2 = np.concatenate([y_train, y_eda_only,y_eda_conversation])\n",
    "\n",
    "# 예시 확인\n",
    "print(f\"샘플 수\\nX1: {len(X1)}, X2: {len(X2)}\")"
   ]
  },
  {
   "cell_type": "code",
   "execution_count": 7,
   "metadata": {
    "id": "Ekt__5yHgfaL"
   },
   "outputs": [],
   "source": [
    "df_kakao_16000 = pd.read_csv(train_paths[\"conversations_aihub\"]).iloc[:16000]\n",
    "df_kakao_8000 = pd.read_csv(train_paths[\"conversations_aihub\"]).iloc[:8000]\n",
    "df_kakao_2000 = pd.read_csv(train_paths[\"conversations_aihub\"]).iloc[:2000]\n",
    "df_kakao_1000 = pd.read_csv(train_paths[\"conversations_aihub\"]).iloc[:1000]\n",
    "\n",
    "df_raw = df_merged_train_train[df_merged_train_train['class'] != '일반 대화'] # 일반 대화 샘플 삭제\n",
    "\n",
    "df_combined_16000 = pd.concat([df_raw, df_eda_only, df_kakao_16000], ignore_index=True)\n",
    "df_combined_8000 = pd.concat([df_raw, df_eda_only, df_kakao_8000], ignore_index=True)\n",
    "df_combined_2000 = pd.concat([df_raw, df_eda_only, df_kakao_2000], ignore_index=True)\n",
    "df_combined_1000 = pd.concat([df_raw, df_kakao_1000], ignore_index=True)\n"
   ]
  },
  {
   "cell_type": "code",
   "execution_count": 8,
   "metadata": {
    "colab": {
     "base_uri": "https://localhost:8080/"
    },
    "id": "X96pdTUZnqhl",
    "outputId": "45a05143-0c4e-44e1-f379-4701b0e5b8ff"
   },
   "outputs": [
    {
     "name": "stdout",
     "output_type": "stream",
     "text": [
      "샘플 수\n",
      "X3: 4076, X4: 11228, X5: 17228, X6: 25228\n"
     ]
    }
   ],
   "source": [
    "X_eda_only = df_eda_only['conversation'].tolist()\n",
    "X_eda_conversation = df_eda_normal_conversation['conversation'].tolist()\n",
    "y_eda_only = df_eda_only['class'].map(custom_label_order).values\n",
    "y_eda_conversation = df_eda_normal_conversation['class'].map(custom_label_order).values\n",
    "\n",
    "\n",
    "# 조합 생성\n",
    "X3 = df_combined_1000['conversation'].tolist()\n",
    "y3 = df_combined_1000['class'].map(custom_label_order).values\n",
    "\n",
    "X4 = df_combined_2000['conversation'].tolist()\n",
    "y4 = df_combined_2000['class'].map(custom_label_order).values\n",
    "\n",
    "X5 = df_combined_8000['conversation'].tolist()\n",
    "y5 = df_combined_8000['class'].map(custom_label_order).values\n",
    "\n",
    "X6 = df_combined_16000['conversation'].tolist()\n",
    "y6 = df_combined_16000['class'].map(custom_label_order).values\n",
    "\n",
    "# 예시 확인\n",
    "print(f\"샘플 수\\nX3: {len(X3)}, X4: {len(X4)}, X5: {len(X5)}, X6: {len(X6)}\")"
   ]
  },
  {
   "cell_type": "code",
   "execution_count": 9,
   "metadata": {
    "colab": {
     "base_uri": "https://localhost:8080/",
     "height": 688,
     "referenced_widgets": [
      "c5a645bf1730471883da993b8c48a8c4",
      "aab30545da604c3da3790eed7a3d49ed",
      "d86ba4003f434951a52fc82e2b50c8a7",
      "ae8b370e731e41b79546c125a9f8db91",
      "ae804b3fcce3419eaedeeabfe43b301b",
      "3d525b9bf1e74987ae21adcd544eee5b",
      "50fda01d3fd44c9989cde9546294c4df",
      "0a3aa4bd649d466a98869fa8b890fb4a",
      "0b4c0d60820b4c629e3094aad4e97970",
      "dcd1bdb6b12b4ba5b4d62478756b59b3",
      "e8a3596a30ab426fab1342fbade5db4b",
      "b4def80d67604b76a15f364e706d959d",
      "6336ba9bc01d4502b86513edc97a8874",
      "cdca476bd3914ee5b0ffb738b33b0d27",
      "9791810ee7264f55afb1ba675fec7dc9",
      "9725b5e888684f38ac3900a53f36d9f3",
      "64a31db9bb1e4eea97806768ba20ed95",
      "51ce0e92b3ce41098590475508cf6d71",
      "8803c666bf794610b7a0fc4b8bc995d5",
      "fbd43916573a4074b7ede7948e468f7e",
      "370fdb7ba47d4e2193fa2268f43730b8",
      "04e2875d21b740bb9c1073822bfbc279",
      "b47501e7f7c7469f854bfcc214fdd4d4",
      "9f8dec6b391e47b58fafe8bae66dbe57",
      "a988ba0bc3634ced94a0637476862dde",
      "4bb40200905b4268a347a1f8afcdda8c",
      "5cee99781a8e4d20ac5a21ecc76512d5",
      "ee996cf6e33e4af8bce01c0ae6f845d0",
      "a15f445d5fd449958125309b63f55fd3",
      "95aa46734f434b40b625a89a9c72eca4",
      "458e6dd17f9848d3a00ac2704694f06d",
      "26cf1816577d4508b7ba62797425dc09",
      "c4ca326f8ef14728b952f8ec50929f6c",
      "bb2620c1899343d093a765b5f93bf297",
      "d99e57416c64482890d80b4f9c1494af",
      "cd78fdba0bfe4edcbd8e71eec3c3836a",
      "8f6b6a8a1ae64250af89a176eda4c738",
      "c9eac8c556ef4ea6aa0c09bd2f04701a",
      "8d6714cea85b455b997b80d54c8e1d85",
      "15dd35e85b374d768e36973d6fd9465b",
      "da4b854c27ec4aabb9ae4b235a06925e",
      "ce89537ba3a94ce781e947772e97e82e",
      "74c66d9e057a4146a2f28c5c431b5aec",
      "f7811a922dcf49b08286c1002ec54c32",
      "70259750e2a54f1a96f8b34f9d2c71e9",
      "ae859d28d9a546668d441d635b72d5b8",
      "3de70f83678c49e0979243a1e3b58912",
      "a44e68e0441a4f5ba47f4d3e900c5842",
      "7f7551449fea4f15b354c32ec2ba9e39",
      "2faaef68a9ae4bc8b7c4c57d855e13a4",
      "ef8f38d7d5eb468ea696a918a6cfc80b",
      "85eff65b7b1b4190972bb7417d0c4546",
      "6ef1d054a68449e48dcf1780bd44b52b",
      "0ce1826a16fd4144b3f1f3d6d3c3f84d",
      "4017891643ca4babb1eb1eb9859fd1f1",
      "d00c5450d96c4b82ab48fe87f1255540",
      "21db3a846d924961b8100efc25edd670",
      "e0b29759541e4edf9cc173a3d5079a91",
      "a360a27217fe466abb381596a42df399",
      "51d23900a96d42f8b5e7cf6380e136bb",
      "22cc497c6f7c4c4bbcaac035a5dd7710",
      "1ed6e0bd8728403bb7dfbba62cc25444",
      "a741148b0be948579d0a42675710a7c6",
      "e9fd42ab52454ba58f0f1a2832f649d3",
      "986c01220c4c4172a12db8aa07bbd9d6",
      "47cf8f4c8f6d48ed8c18aa581a7e444d"
     ]
    },
    "id": "gP_yLG5Zs930",
    "outputId": "06a6d632-392c-49e3-ba2d-b8a31a3ca332"
   },
   "outputs": [
    {
     "name": "stdout",
     "output_type": "stream",
     "text": [
      "\u001b[2K   \u001b[90m━━━━━━━━━━━━━━━━━━━━━━━━━━━━━━━━━━━━━━━━\u001b[0m \u001b[32m491.4/491.4 kB\u001b[0m \u001b[31m11.3 MB/s\u001b[0m eta \u001b[36m0:00:00\u001b[0m\n",
      "\u001b[2K   \u001b[90m━━━━━━━━━━━━━━━━━━━━━━━━━━━━━━━━━━━━━━━━\u001b[0m \u001b[32m116.3/116.3 kB\u001b[0m \u001b[31m8.1 MB/s\u001b[0m eta \u001b[36m0:00:00\u001b[0m\n",
      "\u001b[2K   \u001b[90m━━━━━━━━━━━━━━━━━━━━━━━━━━━━━━━━━━━━━━━━\u001b[0m \u001b[32m193.6/193.6 kB\u001b[0m \u001b[31m17.1 MB/s\u001b[0m eta \u001b[36m0:00:00\u001b[0m\n",
      "\u001b[2K   \u001b[90m━━━━━━━━━━━━━━━━━━━━━━━━━━━━━━━━━━━━━━━━\u001b[0m \u001b[32m143.5/143.5 kB\u001b[0m \u001b[31m11.2 MB/s\u001b[0m eta \u001b[36m0:00:00\u001b[0m\n",
      "\u001b[2K   \u001b[90m━━━━━━━━━━━━━━━━━━━━━━━━━━━━━━━━━━━━━━━━\u001b[0m \u001b[32m194.8/194.8 kB\u001b[0m \u001b[31m16.2 MB/s\u001b[0m eta \u001b[36m0:00:00\u001b[0m\n",
      "\u001b[?25h\u001b[31mERROR: pip's dependency resolver does not currently take into account all the packages that are installed. This behaviour is the source of the following dependency conflicts.\n",
      "torch 2.6.0+cu124 requires nvidia-cublas-cu12==12.4.5.8; platform_system == \"Linux\" and platform_machine == \"x86_64\", but you have nvidia-cublas-cu12 12.5.3.2 which is incompatible.\n",
      "torch 2.6.0+cu124 requires nvidia-cuda-cupti-cu12==12.4.127; platform_system == \"Linux\" and platform_machine == \"x86_64\", but you have nvidia-cuda-cupti-cu12 12.5.82 which is incompatible.\n",
      "torch 2.6.0+cu124 requires nvidia-cuda-nvrtc-cu12==12.4.127; platform_system == \"Linux\" and platform_machine == \"x86_64\", but you have nvidia-cuda-nvrtc-cu12 12.5.82 which is incompatible.\n",
      "torch 2.6.0+cu124 requires nvidia-cuda-runtime-cu12==12.4.127; platform_system == \"Linux\" and platform_machine == \"x86_64\", but you have nvidia-cuda-runtime-cu12 12.5.82 which is incompatible.\n",
      "torch 2.6.0+cu124 requires nvidia-cudnn-cu12==9.1.0.70; platform_system == \"Linux\" and platform_machine == \"x86_64\", but you have nvidia-cudnn-cu12 9.3.0.75 which is incompatible.\n",
      "torch 2.6.0+cu124 requires nvidia-cufft-cu12==11.2.1.3; platform_system == \"Linux\" and platform_machine == \"x86_64\", but you have nvidia-cufft-cu12 11.2.3.61 which is incompatible.\n",
      "torch 2.6.0+cu124 requires nvidia-curand-cu12==10.3.5.147; platform_system == \"Linux\" and platform_machine == \"x86_64\", but you have nvidia-curand-cu12 10.3.6.82 which is incompatible.\n",
      "torch 2.6.0+cu124 requires nvidia-cusolver-cu12==11.6.1.9; platform_system == \"Linux\" and platform_machine == \"x86_64\", but you have nvidia-cusolver-cu12 11.6.3.83 which is incompatible.\n",
      "torch 2.6.0+cu124 requires nvidia-cusparse-cu12==12.3.1.170; platform_system == \"Linux\" and platform_machine == \"x86_64\", but you have nvidia-cusparse-cu12 12.5.1.3 which is incompatible.\n",
      "torch 2.6.0+cu124 requires nvidia-nvjitlink-cu12==12.4.127; platform_system == \"Linux\" and platform_machine == \"x86_64\", but you have nvidia-nvjitlink-cu12 12.5.82 which is incompatible.\n",
      "gcsfs 2025.3.2 requires fsspec==2025.3.2, but you have fsspec 2025.3.0 which is incompatible.\u001b[0m\u001b[31m\n",
      "\u001b[0m"
     ]
    },
    {
     "name": "stderr",
     "output_type": "stream",
     "text": [
      "/usr/local/lib/python3.11/dist-packages/huggingface_hub/utils/_auth.py:94: UserWarning: \n",
      "The secret `HF_TOKEN` does not exist in your Colab secrets.\n",
      "To authenticate with the Hugging Face Hub, create a token in your settings tab (https://huggingface.co/settings/tokens), set it as secret in your Google Colab and restart your session.\n",
      "You will be able to reuse this secret in all of your notebooks.\n",
      "Please note that authentication is recommended but still optional to access public models or datasets.\n",
      "  warnings.warn(\n"
     ]
    },
    {
     "data": {
      "application/vnd.jupyter.widget-view+json": {
       "model_id": "c5a645bf1730471883da993b8c48a8c4",
       "version_major": 2,
       "version_minor": 0
      },
      "text/plain": [
       "tokenizer_config.json:   0%|          | 0.00/288 [00:00<?, ?B/s]"
      ]
     },
     "metadata": {},
     "output_type": "display_data"
    },
    {
     "data": {
      "application/vnd.jupyter.widget-view+json": {
       "model_id": "b4def80d67604b76a15f364e706d959d",
       "version_major": 2,
       "version_minor": 0
      },
      "text/plain": [
       "config.json:   0%|          | 0.00/504 [00:00<?, ?B/s]"
      ]
     },
     "metadata": {},
     "output_type": "display_data"
    },
    {
     "data": {
      "application/vnd.jupyter.widget-view+json": {
       "model_id": "b47501e7f7c7469f854bfcc214fdd4d4",
       "version_major": 2,
       "version_minor": 0
      },
      "text/plain": [
       "vocab.txt:   0%|          | 0.00/450k [00:00<?, ?B/s]"
      ]
     },
     "metadata": {},
     "output_type": "display_data"
    },
    {
     "data": {
      "application/vnd.jupyter.widget-view+json": {
       "model_id": "bb2620c1899343d093a765b5f93bf297",
       "version_major": 2,
       "version_minor": 0
      },
      "text/plain": [
       "special_tokens_map.json:   0%|          | 0.00/124 [00:00<?, ?B/s]"
      ]
     },
     "metadata": {},
     "output_type": "display_data"
    },
    {
     "data": {
      "application/vnd.jupyter.widget-view+json": {
       "model_id": "70259750e2a54f1a96f8b34f9d2c71e9",
       "version_major": 2,
       "version_minor": 0
      },
      "text/plain": [
       "pytorch_model.bin:   0%|          | 0.00/511M [00:00<?, ?B/s]"
      ]
     },
     "metadata": {},
     "output_type": "display_data"
    },
    {
     "name": "stderr",
     "output_type": "stream",
     "text": [
      "Some weights of ElectraForSequenceClassification were not initialized from the model checkpoint at beomi/KcELECTRA-base-v2022 and are newly initialized: ['classifier.dense.bias', 'classifier.dense.weight', 'classifier.out_proj.bias', 'classifier.out_proj.weight']\n",
      "You should probably TRAIN this model on a down-stream task to be able to use it for predictions and inference.\n"
     ]
    },
    {
     "data": {
      "application/vnd.jupyter.widget-view+json": {
       "model_id": "d00c5450d96c4b82ab48fe87f1255540",
       "version_major": 2,
       "version_minor": 0
      },
      "text/plain": [
       "model.safetensors:   0%|          | 0.00/511M [00:00<?, ?B/s]"
      ]
     },
     "metadata": {},
     "output_type": "display_data"
    }
   ],
   "source": [
    "!pip install datasets transformers scikit-learn --quiet\n",
    "\n",
    "import pandas as pd\n",
    "import numpy as np\n",
    "import torch\n",
    "from datasets import Dataset\n",
    "from transformers import (\n",
    "    AutoTokenizer,\n",
    "    ElectraForSequenceClassification,\n",
    "    Trainer,\n",
    "    TrainingArguments,\n",
    "    DataCollatorWithPadding\n",
    ")\n",
    "from sklearn.metrics import accuracy_score, f1_score, classification_report\n",
    "from tensorflow.keras.utils import to_categorical\n",
    "import re\n",
    "\n",
    "# 모델 설정\n",
    "MODEL_NAME = \"beomi/KcELECTRA-base-v2022\"\n",
    "tokenizer = AutoTokenizer.from_pretrained(MODEL_NAME)\n",
    "device = torch.device(\"cuda\" if torch.cuda.is_available() else \"cpu\")\n",
    "model = ElectraForSequenceClassification.from_pretrained(MODEL_NAME, num_labels=5).to(device)\n",
    "\n",
    "# 전처리 함수\n",
    "\n",
    "def preprocess_sentence(sentence):\n",
    "    sentence = sentence.lower().strip()\n",
    "    sentence = sentence.replace('\\n', ' ').replace('\\r', ' ')\n",
    "    sentence = re.sub(r\"([?.!,])\", r\" \\1 \", sentence)\n",
    "    sentence = re.sub(r'[\" \"]+', \" \", sentence)\n",
    "    sentence = re.sub(r\"[^ㄱ-ㅎ가-힣ㅏ-ㅣ?.!,]+\", \" \", sentence)\n",
    "    return sentence.strip()\n",
    "\n",
    "def preprocessing(texts, tokenizer, padded_max_len):\n",
    "    encodings = tokenizer(\n",
    "        texts,\n",
    "        truncation=True,\n",
    "        padding='max_length',\n",
    "        max_length=padded_max_len,\n",
    "        return_tensors='tf'\n",
    "    )\n",
    "    return {\n",
    "        'input_ids': encodings['input_ids'],\n",
    "        'attention_mask': encodings['attention_mask']\n",
    "    }\n",
    "\n",
    "# 토크나이즈 함수 (huggingface Trainer용)\n",
    "def tokenize_function(examples):\n",
    "    return tokenizer(\n",
    "        examples[\"text\"],\n",
    "        padding=\"max_length\",\n",
    "        truncation=True,\n",
    "        max_length=128\n",
    "    )\n",
    "\n",
    "# 데이터프레임 전처리 함수\n",
    "def preprocess_train(df):\n",
    "    df.columns = df.columns.str.strip().str.lower()\n",
    "    df[\"label\"] = df[\"class\"].map(custom_label_order)  # Dict 필요\n",
    "    return Dataset.from_pandas(df.rename(columns={\"conversation\": \"text\"}))\n",
    "\n",
    "\n",
    "\n",
    "def preprocess_test(df):\n",
    "    df.columns = df.columns.str.strip().str.lower()\n",
    "    return Dataset.from_pandas(df.rename(columns={\"conversation\": \"text\"}))\n",
    "\n",
    "# One-hot 인코딩\n",
    "y1_cat = to_categorical(y1, num_classes=5)\n",
    "y2_cat = to_categorical(y2, num_classes=5)\n",
    "y3_cat = to_categorical(y3, num_classes=5)\n",
    "y4_cat = to_categorical(y4, num_classes=5)\n",
    "y5_cat = to_categorical(y5, num_classes=5)\n",
    "y6_cat = to_categorical(y6, num_classes=5)\n",
    "y_val_cat = to_categorical(y_val, num_classes=5)\n",
    "\n",
    "# 텍스트 전처리\n",
    "\n",
    "# 전처리 적용 후 토크나이징\n",
    "X1_clean = [preprocess_sentence(s) for s in X1]\n",
    "X2_clean = [preprocess_sentence(s) for s in X2]\n",
    "X3_clean = [preprocess_sentence(s) for s in X3]\n",
    "X4_clean = [preprocess_sentence(s) for s in X4]\n",
    "X5_clean = [preprocess_sentence(s) for s in X5]\n",
    "X6_clean = [preprocess_sentence(s) for s in X6]\n",
    "X_val_clean = [preprocess_sentence(s) for s in X_val_raw.tolist()]\n",
    "\n",
    "# 토크나이징 적용\n",
    "X1_enc = preprocessing(X1_clean, tokenizer, padded_max_len=128)\n",
    "X2_enc = preprocessing(X2_clean, tokenizer, padded_max_len=128)\n",
    "X3_enc = preprocessing(X3_clean, tokenizer, padded_max_len=128)\n",
    "X4_enc = preprocessing(X4_clean, tokenizer, padded_max_len=128)\n",
    "X5_enc = preprocessing(X5_clean, tokenizer, padded_max_len=128)\n",
    "X6_enc = preprocessing(X6_clean, tokenizer, padded_max_len=128)\n",
    "X_val_enc = preprocessing(X_val_clean, tokenizer, padded_max_len=128)\n",
    "\n",
    "\n",
    "\n",
    "def compute_metrics(pred):\n",
    "    preds = np.argmax(pred.predictions, axis=1)\n",
    "    labels = pred.label_ids\n",
    "    acc = accuracy_score(labels, preds)\n",
    "    report = classification_report(labels, preds, output_dict=True, zero_division=0)\n",
    "\n",
    "    metrics = {\n",
    "        \"Accuray f1\": report[\"weighted avg\"][\"f1-score\"],\n",
    "        \"accuray\": acc,\n",
    "    }\n",
    "\n",
    "    # 클래스별 f1\n",
    "    for i, name in enumerate(label_names):\n",
    "        f1_val = report.get(str(i), {}).get(\"f1-score\", 0)\n",
    "        metrics[f\"{name}_f1\"] = f1_val\n",
    "\n",
    "    return metrics\n"
   ]
  },
  {
   "cell_type": "code",
   "execution_count": 10,
   "metadata": {
    "colab": {
     "base_uri": "https://localhost:8080/",
     "height": 1000,
     "referenced_widgets": [
      "c083b5723fc449638e8460a7e81b233a",
      "15d33c6f162d41c58b7739964072f585",
      "678f74683a984fe882ca4da2365f04c5",
      "9b74e4a83bee4f4dab24ca39a87994b8",
      "017490c1028042bb97a78e11caf6dab3",
      "f162c649f5ba4ff286e11a6817998340",
      "459c66f67fa545c78fcce123c89d6a28",
      "0aaca06a2a544c2381ba75ad3997676d",
      "a66fccef8421408ba5bcbfa7e8d6092e",
      "ce1144b815b74617aef7e1ae0baba15a",
      "85d519edf952434fb6f27e44a80dd77d",
      "2b39c69ad5d1415bb468b4e6db134107",
      "9758de241d3642388e0521b5cc74cfeb",
      "183e8c106ff44aa8b981e0629d0d4246",
      "97b033608795481c9da08b8890ae88cb",
      "64875078b4354d11ae4cadb97b9468e8",
      "9afdf46ac8c941b8a995dbfb9820e784",
      "0f200a0c18aa4f0f9a0f258efa5570ea",
      "0b3f0d7d23a347b89c7f8ad5903f6248",
      "8d1c5312b3074198b3b649ac9c06599c",
      "0f0d2cb125374ba9bd9526f788b529ed",
      "c4fe7d5e2364430da8937f8896d68a98",
      "e9cfcd9e86c34a3ca47805dc30657957",
      "34ddae4d6f074c56b696ba9332eb1834",
      "ee2d8f79196242cbb8d37fb68d45726e",
      "d3267bfeb62f44329bcb10f19d3ec2e9",
      "a9cdaac94f98468c9fdd4553fce61a7e",
      "f15e860a37de4defbe24b8934681bda8",
      "5b230b7bb6b74c2ba034c50e9104c744",
      "7d93514b60344b7ab4e7beba4e57bc81",
      "8a26497bc61b4afe9e7a86ed2255fb99",
      "3aa11f7c4bae41718810bd30920e45be",
      "0196af58809f4c6295855925b6abe70e",
      "4f06ad8c784744e188f33033ded93fc1",
      "b411eab915de4ef4adabcd0c7fb116c6",
      "314f54b0ad5e4f70841596bb8ee48ce7",
      "1493f5eb697a41e2bbe66de158e0b958",
      "95448e1ec24d45b88cd12c5fce9174ef",
      "cb41ebe4f63a41f6952ff5a160488175",
      "7b606df53d884d45b8d7359c3ad88fb2",
      "1ab29d2bc87446b8996149d00d51978b",
      "38b8970211434573a4a63447c1d7b286",
      "962adceae0e7450ea5e4d857bbb7665d",
      "2b59ff9a09d44a539028966bfc946796",
      "d329a261900d46ba9a61d066d3f51351",
      "d0cf53e9a0b341a7b566567a099afad0",
      "52047010b1a24542ab1887621626302d",
      "0028fefe194941a4a23ef2632638a882",
      "69b9016fbfa24394bfefed0b09dafafb",
      "9e4e40dd471f48bf8ff42fec78514d69",
      "e1aa77ba8e6844acb78ac3bdefcff44e",
      "9d620ddc68c44d03916e66fefa8d17a0",
      "85c77fb8eec84d868d37debcda66cd87",
      "12b4d37cc7c94446a1886c9a85b23221",
      "cfed08e9b49942e2bede0a346f0fefe2",
      "69dc0df4be7a43f9b4a61ec0b0811085",
      "bab9aa2fb3c44ce6abb269a7009645da",
      "9837870515c04408971db1db2fc7db2d",
      "326308c179a748aba66da8830d9a66b0",
      "8a8a788632db40ccb4dda0f69bf81bfc",
      "93e68e7389554777988f12b92d78d6ad",
      "183e0ed82f8045f983d6549d5fa12d8a",
      "381e89661bd4415d96e3ed1040aa937f",
      "206a292491914313945ffea444315ecf",
      "5693649e7dc544a2a0af09c4c6591e56",
      "9c93c87e83cf45d7a1ff16df79542292",
      "6c31eadfcded4b1792c1070660e260c7",
      "961cc700f14d4e81b2247498952aec59",
      "bbaa4cedb0934f0d8e45c1d5b3952fe0",
      "f1814eab4c814215b03e4ced0cc249d1",
      "4a80195a31134858b2088d0c12b02ef9",
      "cb986d156cbf4024bb6b9e07efa1af66",
      "987865b93d414e11a03483b12288c0ed",
      "56f035c1e20e489fa8e1525a16272c3c",
      "b21f3d01bf3a4bb8b277e2dea7fa2384",
      "fe93ffa4e2754b438381d48e8af0ce83",
      "4ba1266b92cd427baaf2b5b3af696416",
      "7f0384fbeb8a479dacd135476d2b8b7e",
      "a7fc33bf711c49c9ad978ae513bdfb3e",
      "90aeda14ca7b4b3d929da18230cc94f7",
      "0ea1f4994be5478a8f914516720235d4",
      "3cb5814434114aa38c5a2f04b5180b7a",
      "5127b82ad6b845279315e2500fcfaf75",
      "577a80ec117d42eda7ee45c3e60d2e36",
      "b4cc9012480d4672872ef2d87d7e007d",
      "5a01e5bf9a1b420189d7d24c04383e73",
      "c72846677e8c42ae82cc70f36575996b",
      "0a7d02bc49204681b3cb49ca6dabd325",
      "2f63eef8333647d3a203df2ae258000c",
      "7696aa98313148e58e1a804fb2dc1a14",
      "0e324aff33b748f7840f7d429bdb1645",
      "87afd19dea2144c981e6f7e32b1bdb0f",
      "485ce03cba2c414db4fd75e4eb028867",
      "5f141e8ff0144bb6b9596827dd253898",
      "7f731d63e425491d92dddfb0b55ac70c",
      "49b272c83bbc4ea09e58ef582d3f3827",
      "f4be659d987c400aa9416e3abf90dbd7",
      "6975f0350e0f4ccfb9223bd5e8e0169b",
      "5b5b83def56040e593538fe8a4df97bc",
      "74424a150eaf466e91702f41e95e769d",
      "60504c04195c4a3eac04a0066541c0ea",
      "377034c9d5b24439aa43d12392f7ad03",
      "6a42fa8f94bb471cb50d13558f50ea61",
      "57fcc13432b3465292270f41ae567024",
      "90f73268ecea40a0b21d3eaa53bd5b1a",
      "4a7e05b8d74d419c86b1ff6711ee47c9",
      "f87c1409db014dbcae29dd0dc96d10a8",
      "b31a966ec33d46039883c5ded1033dce",
      "c56c8d3b197e40bc8f483d2522e11f7e",
      "4a1df9271e37456d8e2ca4e886711b20",
      "23c7964da51545efadca57db58581f2b",
      "ca04c279300d42f2b29ff55d43704d2c",
      "52c83b26ed6e4e8997031d9fe321873e",
      "3489349dc2be48d6940d3946deed05c4",
      "ac5c4f1c433547d5871694dce3072608",
      "9457c3c494854a1a90deae7ac9d4a566",
      "455255d5b2484ee790651f2711bf7842",
      "59fd3ae1b7d944b3969b0baba3c83ddd",
      "ead7ec6ed1a4486cbf074149ace148aa",
      "eff97e5302c346b0a8029705aa194500",
      "62d08eb0b01e45b99058d9eff8dd79b3",
      "2eee2a269cb74e9d92550e6e98024420",
      "38e40dc78c27422db36da71ffd86a5b7",
      "c6a7238ea06040649d1671e650e88432",
      "d232717b4c4c4e44a8f3f5d02d0cf0d9",
      "8d20f2c66f744aef937c8a5641b5fafe",
      "c527c8684470404c90304dfcaf7c871b",
      "c5acd7c448e34015a8566714fbf2f253",
      "06e533bf547d4f77817862f7e1222496",
      "1b98a00b58b4474992d829e3020ef65f",
      "e1e1b104bd0e4b678f6b94ef5a8158a0",
      "3b4c1e5d5648439cafb7b1d8cdb0a9a7"
     ]
    },
    "id": "YBO2SiQagfhk",
    "outputId": "5ff62b83-ab62-4e3b-db8f-b3611be8ec98"
   },
   "outputs": [
    {
     "name": "stdout",
     "output_type": "stream",
     "text": [
      "\n",
      "▶ 모델 1: 원본\n"
     ]
    },
    {
     "data": {
      "application/vnd.jupyter.widget-view+json": {
       "model_id": "c083b5723fc449638e8460a7e81b233a",
       "version_major": 2,
       "version_minor": 0
      },
      "text/plain": [
       "Map:   0%|          | 0/2967 [00:00<?, ? examples/s]"
      ]
     },
     "metadata": {},
     "output_type": "display_data"
    },
    {
     "data": {
      "application/vnd.jupyter.widget-view+json": {
       "model_id": "2b39c69ad5d1415bb468b4e6db134107",
       "version_major": 2,
       "version_minor": 0
      },
      "text/plain": [
       "Map:   0%|          | 0/928 [00:00<?, ? examples/s]"
      ]
     },
     "metadata": {},
     "output_type": "display_data"
    },
    {
     "name": "stderr",
     "output_type": "stream",
     "text": [
      "Some weights of ElectraForSequenceClassification were not initialized from the model checkpoint at beomi/KcELECTRA-base-v2022 and are newly initialized: ['classifier.dense.bias', 'classifier.dense.weight', 'classifier.out_proj.bias', 'classifier.out_proj.weight']\n",
      "You should probably TRAIN this model on a down-stream task to be able to use it for predictions and inference.\n",
      "<ipython-input-10-f762b774abb8>:38: FutureWarning: `tokenizer` is deprecated and will be removed in version 5.0.0 for `Trainer.__init__`. Use `processing_class` instead.\n",
      "  trainer = Trainer(\n",
      "\u001b[34m\u001b[1mwandb\u001b[0m: \u001b[33mWARNING\u001b[0m The `run_name` is currently set to the same value as `TrainingArguments.output_dir`. If this was not intended, please specify a different run name by setting the `TrainingArguments.run_name` parameter.\n"
     ]
    },
    {
     "data": {
      "text/html": [
       "Tracking run with wandb version 0.19.10"
      ],
      "text/plain": [
       "<IPython.core.display.HTML object>"
      ]
     },
     "metadata": {},
     "output_type": "display_data"
    },
    {
     "data": {
      "text/html": [
       "Run data is saved locally in <code>/content/wandb/run-20250506_141937-c74x7hzy</code>"
      ],
      "text/plain": [
       "<IPython.core.display.HTML object>"
      ]
     },
     "metadata": {},
     "output_type": "display_data"
    },
    {
     "data": {
      "text/html": [
       "Syncing run <strong><a href='https://wandb.ai/jiwoong-team/huggingface/runs/c74x7hzy' target=\"_blank\">./results/model_1</a></strong> to <a href='https://wandb.ai/jiwoong-team/huggingface' target=\"_blank\">Weights & Biases</a> (<a href='https://wandb.me/developer-guide' target=\"_blank\">docs</a>)<br>"
      ],
      "text/plain": [
       "<IPython.core.display.HTML object>"
      ]
     },
     "metadata": {},
     "output_type": "display_data"
    },
    {
     "data": {
      "text/html": [
       " View project at <a href='https://wandb.ai/jiwoong-team/huggingface' target=\"_blank\">https://wandb.ai/jiwoong-team/huggingface</a>"
      ],
      "text/plain": [
       "<IPython.core.display.HTML object>"
      ]
     },
     "metadata": {},
     "output_type": "display_data"
    },
    {
     "data": {
      "text/html": [
       " View run at <a href='https://wandb.ai/jiwoong-team/huggingface/runs/c74x7hzy' target=\"_blank\">https://wandb.ai/jiwoong-team/huggingface/runs/c74x7hzy</a>"
      ],
      "text/plain": [
       "<IPython.core.display.HTML object>"
      ]
     },
     "metadata": {},
     "output_type": "display_data"
    },
    {
     "data": {
      "text/html": [
       "\n",
       "    <div>\n",
       "      \n",
       "      <progress value='372' max='372' style='width:300px; height:20px; vertical-align: middle;'></progress>\n",
       "      [372/372 02:21, Epoch 2/2]\n",
       "    </div>\n",
       "    <table border=\"1\" class=\"dataframe\">\n",
       "  <thead>\n",
       " <tr style=\"text-align: left;\">\n",
       "      <th>Step</th>\n",
       "      <th>Training Loss</th>\n",
       "    </tr>\n",
       "  </thead>\n",
       "  <tbody>\n",
       "  </tbody>\n",
       "</table><p>"
      ],
      "text/plain": [
       "<IPython.core.display.HTML object>"
      ]
     },
     "metadata": {},
     "output_type": "display_data"
    },
    {
     "name": "stdout",
     "output_type": "stream",
     "text": [
      "\n",
      "▶ 모델 2: 원본+EDA\n"
     ]
    },
    {
     "data": {
      "application/vnd.jupyter.widget-view+json": {
       "model_id": "e9cfcd9e86c34a3ca47805dc30657957",
       "version_major": 2,
       "version_minor": 0
      },
      "text/plain": [
       "Map:   0%|          | 0/8901 [00:00<?, ? examples/s]"
      ]
     },
     "metadata": {},
     "output_type": "display_data"
    },
    {
     "data": {
      "application/vnd.jupyter.widget-view+json": {
       "model_id": "4f06ad8c784744e188f33033ded93fc1",
       "version_major": 2,
       "version_minor": 0
      },
      "text/plain": [
       "Map:   0%|          | 0/928 [00:00<?, ? examples/s]"
      ]
     },
     "metadata": {},
     "output_type": "display_data"
    },
    {
     "name": "stderr",
     "output_type": "stream",
     "text": [
      "Some weights of ElectraForSequenceClassification were not initialized from the model checkpoint at beomi/KcELECTRA-base-v2022 and are newly initialized: ['classifier.dense.bias', 'classifier.dense.weight', 'classifier.out_proj.bias', 'classifier.out_proj.weight']\n",
      "You should probably TRAIN this model on a down-stream task to be able to use it for predictions and inference.\n",
      "<ipython-input-10-f762b774abb8>:38: FutureWarning: `tokenizer` is deprecated and will be removed in version 5.0.0 for `Trainer.__init__`. Use `processing_class` instead.\n",
      "  trainer = Trainer(\n"
     ]
    },
    {
     "data": {
      "text/html": [
       "\n",
       "    <div>\n",
       "      \n",
       "      <progress value='1114' max='1114' style='width:300px; height:20px; vertical-align: middle;'></progress>\n",
       "      [1114/1114 07:25, Epoch 2/2]\n",
       "    </div>\n",
       "    <table border=\"1\" class=\"dataframe\">\n",
       "  <thead>\n",
       " <tr style=\"text-align: left;\">\n",
       "      <th>Step</th>\n",
       "      <th>Training Loss</th>\n",
       "    </tr>\n",
       "  </thead>\n",
       "  <tbody>\n",
       "    <tr>\n",
       "      <td>500</td>\n",
       "      <td>0.484000</td>\n",
       "    </tr>\n",
       "    <tr>\n",
       "      <td>1000</td>\n",
       "      <td>0.130200</td>\n",
       "    </tr>\n",
       "  </tbody>\n",
       "</table><p>"
      ],
      "text/plain": [
       "<IPython.core.display.HTML object>"
      ]
     },
     "metadata": {},
     "output_type": "display_data"
    },
    {
     "name": "stdout",
     "output_type": "stream",
     "text": [
      "\n",
      "▶ 모델 3: 원본+1000\n"
     ]
    },
    {
     "data": {
      "application/vnd.jupyter.widget-view+json": {
       "model_id": "d329a261900d46ba9a61d066d3f51351",
       "version_major": 2,
       "version_minor": 0
      },
      "text/plain": [
       "Map:   0%|          | 0/3260 [00:00<?, ? examples/s]"
      ]
     },
     "metadata": {},
     "output_type": "display_data"
    },
    {
     "data": {
      "application/vnd.jupyter.widget-view+json": {
       "model_id": "69dc0df4be7a43f9b4a61ec0b0811085",
       "version_major": 2,
       "version_minor": 0
      },
      "text/plain": [
       "Map:   0%|          | 0/928 [00:00<?, ? examples/s]"
      ]
     },
     "metadata": {},
     "output_type": "display_data"
    },
    {
     "name": "stderr",
     "output_type": "stream",
     "text": [
      "Some weights of ElectraForSequenceClassification were not initialized from the model checkpoint at beomi/KcELECTRA-base-v2022 and are newly initialized: ['classifier.dense.bias', 'classifier.dense.weight', 'classifier.out_proj.bias', 'classifier.out_proj.weight']\n",
      "You should probably TRAIN this model on a down-stream task to be able to use it for predictions and inference.\n",
      "<ipython-input-10-f762b774abb8>:38: FutureWarning: `tokenizer` is deprecated and will be removed in version 5.0.0 for `Trainer.__init__`. Use `processing_class` instead.\n",
      "  trainer = Trainer(\n"
     ]
    },
    {
     "data": {
      "text/html": [
       "\n",
       "    <div>\n",
       "      \n",
       "      <progress value='408' max='408' style='width:300px; height:20px; vertical-align: middle;'></progress>\n",
       "      [408/408 02:45, Epoch 2/2]\n",
       "    </div>\n",
       "    <table border=\"1\" class=\"dataframe\">\n",
       "  <thead>\n",
       " <tr style=\"text-align: left;\">\n",
       "      <th>Step</th>\n",
       "      <th>Training Loss</th>\n",
       "    </tr>\n",
       "  </thead>\n",
       "  <tbody>\n",
       "  </tbody>\n",
       "</table><p>"
      ],
      "text/plain": [
       "<IPython.core.display.HTML object>"
      ]
     },
     "metadata": {},
     "output_type": "display_data"
    },
    {
     "name": "stdout",
     "output_type": "stream",
     "text": [
      "\n",
      "▶ 모델 4: 원본+EDA+2000\n"
     ]
    },
    {
     "data": {
      "application/vnd.jupyter.widget-view+json": {
       "model_id": "6c31eadfcded4b1792c1070660e260c7",
       "version_major": 2,
       "version_minor": 0
      },
      "text/plain": [
       "Map:   0%|          | 0/8982 [00:00<?, ? examples/s]"
      ]
     },
     "metadata": {},
     "output_type": "display_data"
    },
    {
     "data": {
      "application/vnd.jupyter.widget-view+json": {
       "model_id": "7f0384fbeb8a479dacd135476d2b8b7e",
       "version_major": 2,
       "version_minor": 0
      },
      "text/plain": [
       "Map:   0%|          | 0/928 [00:00<?, ? examples/s]"
      ]
     },
     "metadata": {},
     "output_type": "display_data"
    },
    {
     "name": "stderr",
     "output_type": "stream",
     "text": [
      "Some weights of ElectraForSequenceClassification were not initialized from the model checkpoint at beomi/KcELECTRA-base-v2022 and are newly initialized: ['classifier.dense.bias', 'classifier.dense.weight', 'classifier.out_proj.bias', 'classifier.out_proj.weight']\n",
      "You should probably TRAIN this model on a down-stream task to be able to use it for predictions and inference.\n",
      "<ipython-input-10-f762b774abb8>:38: FutureWarning: `tokenizer` is deprecated and will be removed in version 5.0.0 for `Trainer.__init__`. Use `processing_class` instead.\n",
      "  trainer = Trainer(\n"
     ]
    },
    {
     "data": {
      "text/html": [
       "\n",
       "    <div>\n",
       "      \n",
       "      <progress value='1124' max='1124' style='width:300px; height:20px; vertical-align: middle;'></progress>\n",
       "      [1124/1124 07:49, Epoch 2/2]\n",
       "    </div>\n",
       "    <table border=\"1\" class=\"dataframe\">\n",
       "  <thead>\n",
       " <tr style=\"text-align: left;\">\n",
       "      <th>Step</th>\n",
       "      <th>Training Loss</th>\n",
       "    </tr>\n",
       "  </thead>\n",
       "  <tbody>\n",
       "    <tr>\n",
       "      <td>500</td>\n",
       "      <td>0.505800</td>\n",
       "    </tr>\n",
       "    <tr>\n",
       "      <td>1000</td>\n",
       "      <td>0.156500</td>\n",
       "    </tr>\n",
       "  </tbody>\n",
       "</table><p>"
      ],
      "text/plain": [
       "<IPython.core.display.HTML object>"
      ]
     },
     "metadata": {},
     "output_type": "display_data"
    },
    {
     "name": "stdout",
     "output_type": "stream",
     "text": [
      "\n",
      "▶ 모델 5: 원본+EDA+8000\n"
     ]
    },
    {
     "data": {
      "application/vnd.jupyter.widget-view+json": {
       "model_id": "2f63eef8333647d3a203df2ae258000c",
       "version_major": 2,
       "version_minor": 0
      },
      "text/plain": [
       "Map:   0%|          | 0/13782 [00:00<?, ? examples/s]"
      ]
     },
     "metadata": {},
     "output_type": "display_data"
    },
    {
     "data": {
      "application/vnd.jupyter.widget-view+json": {
       "model_id": "74424a150eaf466e91702f41e95e769d",
       "version_major": 2,
       "version_minor": 0
      },
      "text/plain": [
       "Map:   0%|          | 0/928 [00:00<?, ? examples/s]"
      ]
     },
     "metadata": {},
     "output_type": "display_data"
    },
    {
     "name": "stderr",
     "output_type": "stream",
     "text": [
      "Some weights of ElectraForSequenceClassification were not initialized from the model checkpoint at beomi/KcELECTRA-base-v2022 and are newly initialized: ['classifier.dense.bias', 'classifier.dense.weight', 'classifier.out_proj.bias', 'classifier.out_proj.weight']\n",
      "You should probably TRAIN this model on a down-stream task to be able to use it for predictions and inference.\n",
      "<ipython-input-10-f762b774abb8>:38: FutureWarning: `tokenizer` is deprecated and will be removed in version 5.0.0 for `Trainer.__init__`. Use `processing_class` instead.\n",
      "  trainer = Trainer(\n"
     ]
    },
    {
     "data": {
      "text/html": [
       "\n",
       "    <div>\n",
       "      \n",
       "      <progress value='1724' max='1724' style='width:300px; height:20px; vertical-align: middle;'></progress>\n",
       "      [1724/1724 11:38, Epoch 2/2]\n",
       "    </div>\n",
       "    <table border=\"1\" class=\"dataframe\">\n",
       "  <thead>\n",
       " <tr style=\"text-align: left;\">\n",
       "      <th>Step</th>\n",
       "      <th>Training Loss</th>\n",
       "    </tr>\n",
       "  </thead>\n",
       "  <tbody>\n",
       "    <tr>\n",
       "      <td>500</td>\n",
       "      <td>0.419400</td>\n",
       "    </tr>\n",
       "    <tr>\n",
       "      <td>1000</td>\n",
       "      <td>0.163200</td>\n",
       "    </tr>\n",
       "    <tr>\n",
       "      <td>1500</td>\n",
       "      <td>0.080200</td>\n",
       "    </tr>\n",
       "  </tbody>\n",
       "</table><p>"
      ],
      "text/plain": [
       "<IPython.core.display.HTML object>"
      ]
     },
     "metadata": {},
     "output_type": "display_data"
    },
    {
     "name": "stdout",
     "output_type": "stream",
     "text": [
      "\n",
      "▶ 모델 6: 원본+EDA+16000\n"
     ]
    },
    {
     "data": {
      "application/vnd.jupyter.widget-view+json": {
       "model_id": "23c7964da51545efadca57db58581f2b",
       "version_major": 2,
       "version_minor": 0
      },
      "text/plain": [
       "Map:   0%|          | 0/20182 [00:00<?, ? examples/s]"
      ]
     },
     "metadata": {},
     "output_type": "display_data"
    },
    {
     "data": {
      "application/vnd.jupyter.widget-view+json": {
       "model_id": "2eee2a269cb74e9d92550e6e98024420",
       "version_major": 2,
       "version_minor": 0
      },
      "text/plain": [
       "Map:   0%|          | 0/928 [00:00<?, ? examples/s]"
      ]
     },
     "metadata": {},
     "output_type": "display_data"
    },
    {
     "name": "stderr",
     "output_type": "stream",
     "text": [
      "Some weights of ElectraForSequenceClassification were not initialized from the model checkpoint at beomi/KcELECTRA-base-v2022 and are newly initialized: ['classifier.dense.bias', 'classifier.dense.weight', 'classifier.out_proj.bias', 'classifier.out_proj.weight']\n",
      "You should probably TRAIN this model on a down-stream task to be able to use it for predictions and inference.\n",
      "<ipython-input-10-f762b774abb8>:38: FutureWarning: `tokenizer` is deprecated and will be removed in version 5.0.0 for `Trainer.__init__`. Use `processing_class` instead.\n",
      "  trainer = Trainer(\n"
     ]
    },
    {
     "data": {
      "text/html": [
       "\n",
       "    <div>\n",
       "      \n",
       "      <progress value='2524' max='2524' style='width:300px; height:20px; vertical-align: middle;'></progress>\n",
       "      [2524/2524 17:58, Epoch 2/2]\n",
       "    </div>\n",
       "    <table border=\"1\" class=\"dataframe\">\n",
       "  <thead>\n",
       " <tr style=\"text-align: left;\">\n",
       "      <th>Step</th>\n",
       "      <th>Training Loss</th>\n",
       "    </tr>\n",
       "  </thead>\n",
       "  <tbody>\n",
       "    <tr>\n",
       "      <td>500</td>\n",
       "      <td>0.400900</td>\n",
       "    </tr>\n",
       "    <tr>\n",
       "      <td>1000</td>\n",
       "      <td>0.156600</td>\n",
       "    </tr>\n",
       "    <tr>\n",
       "      <td>1500</td>\n",
       "      <td>0.109100</td>\n",
       "    </tr>\n",
       "    <tr>\n",
       "      <td>2000</td>\n",
       "      <td>0.065100</td>\n",
       "    </tr>\n",
       "    <tr>\n",
       "      <td>2500</td>\n",
       "      <td>0.051200</td>\n",
       "    </tr>\n",
       "  </tbody>\n",
       "</table><p>"
      ],
      "text/plain": [
       "<IPython.core.display.HTML object>"
      ]
     },
     "metadata": {},
     "output_type": "display_data"
    }
   ],
   "source": [
    "from transformers import TrainingArguments, Trainer\n",
    "from sklearn.model_selection import train_test_split\n",
    "\n",
    "dataset_names = [\"원본\", \"원본+EDA\", \"원본+1000\", \"원본+EDA+2000\",\"원본+EDA+8000\",\"원본+EDA+16000\"]\n",
    "X_list = [X1_clean, X2_clean, X3_clean, X4_clean, X5_clean, X6_clean]\n",
    "y_list = [y1, y2, y3, y4, y5, y6]\n",
    "\n",
    "data_collator = DataCollatorWithPadding(tokenizer=tokenizer)\n",
    "\n",
    "for i, (X, y, name) in enumerate(zip(X_list, y_list, dataset_names), 1):\n",
    "    print(f\"\\n▶ 모델 {i}: {name}\")\n",
    "\n",
    "    #  여기가 핵심! X, y를 train/val로 분리\n",
    "    X_train_split, _, y_train_split, _ = train_test_split(\n",
    "        X, y, test_size=0.2, stratify=y, random_state=42\n",
    "    )\n",
    "\n",
    "    # 공통 검증셋은 y_val, X_val_raw 그대로 사용\n",
    "    train_df = pd.DataFrame({\"text\": X_train_split, \"label\": y_train_split})\n",
    "    val_df = pd.DataFrame({\"text\": X_val_clean, \"label\": y_val})   # 여기서 val은 고정\n",
    "\n",
    "    # Hugging Face Dataset + Tokenize\n",
    "    train_dataset = Dataset.from_pandas(train_df).map(tokenize_function, batched=True)\n",
    "    val_dataset = Dataset.from_pandas(val_df).map(tokenize_function, batched=True)\n",
    "\n",
    "    model = ElectraForSequenceClassification.from_pretrained(MODEL_NAME, num_labels=5).to(device)\n",
    "\n",
    "    training_args = TrainingArguments(\n",
    "        output_dir=f\"./results/model_{i}\",\n",
    "        num_train_epochs=2,\n",
    "        per_device_train_batch_size=16,\n",
    "        per_device_eval_batch_size=16,\n",
    "        learning_rate=3e-5,\n",
    "        weight_decay=0.01,\n",
    "        logging_dir=f\"./results/logs_{i}\",\n",
    "        logging_steps=500\n",
    "    )\n",
    "    trainer = Trainer(\n",
    "        model=model,\n",
    "        args=training_args,\n",
    "        train_dataset=train_dataset,\n",
    "        eval_dataset=val_dataset,\n",
    "        tokenizer=tokenizer,\n",
    "        data_collator=data_collator,\n",
    "        compute_metrics=compute_metrics\n",
    "    )\n",
    "\n",
    "    trainer.train()\n",
    "    trainer.save_model(f\"./results/model_{i}\")\n"
   ]
  },
  {
   "cell_type": "code",
   "execution_count": 11,
   "metadata": {
    "colab": {
     "base_uri": "https://localhost:8080/",
     "height": 1000,
     "referenced_widgets": [
      "e3bfd878f9c340709903e9d839447da5",
      "ba857ffeec524e42a0b3b530d2c78ae8",
      "832832940df746178ef49e5b0f8ec5bb",
      "d072792af42545ddabfc46701725fe62",
      "23a2052f7dca4570aa9b3dfff856261f",
      "54262736f3c14f92903b0d343bbadf41",
      "c3f68733a8d54b459d773180a94062a4",
      "6d3aea485d5a41e3901b3c1d408c593f",
      "a9ca8e905ea74b3e82f63c42e142aa4d",
      "34ad684e8a1d40dfabb45fc58ebd1946",
      "ad90a7b8ae7b46b180a55817eb17f253"
     ]
    },
    "id": "KoCCnWWrrhcD",
    "outputId": "7024c415-c8b0-442f-85c5-a942db1bfc7c"
   },
   "outputs": [
    {
     "data": {
      "application/vnd.jupyter.widget-view+json": {
       "model_id": "e3bfd878f9c340709903e9d839447da5",
       "version_major": 2,
       "version_minor": 0
      },
      "text/plain": [
       "Map:   0%|          | 0/928 [00:00<?, ? examples/s]"
      ]
     },
     "metadata": {},
     "output_type": "display_data"
    },
    {
     "name": "stdout",
     "output_type": "stream",
     "text": [
      "\n",
      "✅ 모델별 검증 성능 비교\n",
      "\n",
      "▶ 모델 1: 원본\n"
     ]
    },
    {
     "name": "stderr",
     "output_type": "stream",
     "text": [
      "<ipython-input-11-ff3368bdd3f0>:20: FutureWarning: `tokenizer` is deprecated and will be removed in version 5.0.0 for `Trainer.__init__`. Use `processing_class` instead.\n",
      "  trainer = Trainer(\n"
     ]
    },
    {
     "data": {
      "text/html": [],
      "text/plain": [
       "<IPython.core.display.HTML object>"
      ]
     },
     "metadata": {},
     "output_type": "display_data"
    },
    {
     "name": "stdout",
     "output_type": "stream",
     "text": [
      "              precision    recall  f1-score   support\n",
      "\n",
      "       협박 대화       0.88      0.85      0.87       179\n",
      "       갈취 대화       0.88      0.85      0.86       195\n",
      " 직장 내 괴롭힘 대화       0.97      0.94      0.96       194\n",
      "   기타 괴롭힘 대화       0.82      0.89      0.85       202\n",
      "       일반 대화       0.99      0.99      0.99       158\n",
      "\n",
      "    accuracy                           0.90       928\n",
      "   macro avg       0.91      0.91      0.91       928\n",
      "weighted avg       0.90      0.90      0.90       928\n",
      "\n",
      "\n",
      "▶ 모델 2: 원본+EDA\n"
     ]
    },
    {
     "name": "stderr",
     "output_type": "stream",
     "text": [
      "<ipython-input-11-ff3368bdd3f0>:20: FutureWarning: `tokenizer` is deprecated and will be removed in version 5.0.0 for `Trainer.__init__`. Use `processing_class` instead.\n",
      "  trainer = Trainer(\n"
     ]
    },
    {
     "data": {
      "text/html": [],
      "text/plain": [
       "<IPython.core.display.HTML object>"
      ]
     },
     "metadata": {},
     "output_type": "display_data"
    },
    {
     "name": "stdout",
     "output_type": "stream",
     "text": [
      "              precision    recall  f1-score   support\n",
      "\n",
      "       협박 대화       0.87      0.87      0.87       179\n",
      "       갈취 대화       0.86      0.89      0.87       195\n",
      " 직장 내 괴롭힘 대화       0.97      0.97      0.97       194\n",
      "   기타 괴롭힘 대화       0.91      0.86      0.88       202\n",
      "       일반 대화       0.99      1.00      0.99       158\n",
      "\n",
      "    accuracy                           0.92       928\n",
      "   macro avg       0.92      0.92      0.92       928\n",
      "weighted avg       0.92      0.92      0.92       928\n",
      "\n",
      "\n",
      "▶ 모델 3: 원본+1000\n"
     ]
    },
    {
     "name": "stderr",
     "output_type": "stream",
     "text": [
      "<ipython-input-11-ff3368bdd3f0>:20: FutureWarning: `tokenizer` is deprecated and will be removed in version 5.0.0 for `Trainer.__init__`. Use `processing_class` instead.\n",
      "  trainer = Trainer(\n"
     ]
    },
    {
     "data": {
      "text/html": [],
      "text/plain": [
       "<IPython.core.display.HTML object>"
      ]
     },
     "metadata": {},
     "output_type": "display_data"
    },
    {
     "name": "stdout",
     "output_type": "stream",
     "text": [
      "              precision    recall  f1-score   support\n",
      "\n",
      "       협박 대화       0.85      0.84      0.85       179\n",
      "       갈취 대화       0.81      0.89      0.85       195\n",
      " 직장 내 괴롭힘 대화       0.94      0.96      0.95       194\n",
      "   기타 괴롭힘 대화       0.84      0.83      0.84       202\n",
      "       일반 대화       0.98      0.87      0.92       158\n",
      "\n",
      "    accuracy                           0.88       928\n",
      "   macro avg       0.88      0.88      0.88       928\n",
      "weighted avg       0.88      0.88      0.88       928\n",
      "\n",
      "\n",
      "▶ 모델 4: 원본+EDA+2000\n"
     ]
    },
    {
     "name": "stderr",
     "output_type": "stream",
     "text": [
      "<ipython-input-11-ff3368bdd3f0>:20: FutureWarning: `tokenizer` is deprecated and will be removed in version 5.0.0 for `Trainer.__init__`. Use `processing_class` instead.\n",
      "  trainer = Trainer(\n"
     ]
    },
    {
     "data": {
      "text/html": [],
      "text/plain": [
       "<IPython.core.display.HTML object>"
      ]
     },
     "metadata": {},
     "output_type": "display_data"
    },
    {
     "name": "stdout",
     "output_type": "stream",
     "text": [
      "              precision    recall  f1-score   support\n",
      "\n",
      "       협박 대화       0.84      0.91      0.87       179\n",
      "       갈취 대화       0.88      0.86      0.87       195\n",
      " 직장 내 괴롭힘 대화       0.94      0.97      0.96       194\n",
      "   기타 괴롭힘 대화       0.84      0.84      0.84       202\n",
      "       일반 대화       0.97      0.89      0.93       158\n",
      "\n",
      "    accuracy                           0.89       928\n",
      "   macro avg       0.90      0.89      0.89       928\n",
      "weighted avg       0.89      0.89      0.89       928\n",
      "\n",
      "\n",
      "▶ 모델 5: 원본+EDA+8000\n"
     ]
    },
    {
     "name": "stderr",
     "output_type": "stream",
     "text": [
      "<ipython-input-11-ff3368bdd3f0>:20: FutureWarning: `tokenizer` is deprecated and will be removed in version 5.0.0 for `Trainer.__init__`. Use `processing_class` instead.\n",
      "  trainer = Trainer(\n"
     ]
    },
    {
     "data": {
      "text/html": [],
      "text/plain": [
       "<IPython.core.display.HTML object>"
      ]
     },
     "metadata": {},
     "output_type": "display_data"
    },
    {
     "name": "stdout",
     "output_type": "stream",
     "text": [
      "              precision    recall  f1-score   support\n",
      "\n",
      "       협박 대화       0.88      0.90      0.89       179\n",
      "       갈취 대화       0.88      0.87      0.87       195\n",
      " 직장 내 괴롭힘 대화       0.94      0.97      0.96       194\n",
      "   기타 괴롭힘 대화       0.86      0.86      0.86       202\n",
      "       일반 대화       0.98      0.94      0.96       158\n",
      "\n",
      "    accuracy                           0.91       928\n",
      "   macro avg       0.91      0.91      0.91       928\n",
      "weighted avg       0.91      0.91      0.91       928\n",
      "\n",
      "\n",
      "▶ 모델 6: 원본+EDA+16000\n"
     ]
    },
    {
     "name": "stderr",
     "output_type": "stream",
     "text": [
      "<ipython-input-11-ff3368bdd3f0>:20: FutureWarning: `tokenizer` is deprecated and will be removed in version 5.0.0 for `Trainer.__init__`. Use `processing_class` instead.\n",
      "  trainer = Trainer(\n"
     ]
    },
    {
     "data": {
      "text/html": [],
      "text/plain": [
       "<IPython.core.display.HTML object>"
      ]
     },
     "metadata": {},
     "output_type": "display_data"
    },
    {
     "name": "stdout",
     "output_type": "stream",
     "text": [
      "              precision    recall  f1-score   support\n",
      "\n",
      "       협박 대화       0.88      0.89      0.88       179\n",
      "       갈취 대화       0.86      0.88      0.87       195\n",
      " 직장 내 괴롭힘 대화       0.96      0.96      0.96       194\n",
      "   기타 괴롭힘 대화       0.88      0.83      0.85       202\n",
      "       일반 대화       0.94      0.95      0.94       158\n",
      "\n",
      "    accuracy                           0.90       928\n",
      "   macro avg       0.90      0.90      0.90       928\n",
      "weighted avg       0.90      0.90      0.90       928\n",
      "\n"
     ]
    }
   ],
   "source": [
    "from sklearn.metrics import classification_report\n",
    "\n",
    "# 1. 검증셋 준비\n",
    "val_df = pd.DataFrame({\"text\": X_val_raw.tolist(), \"label\": y_val})\n",
    "val_dataset = Dataset.from_pandas(val_df).map(tokenize_function, batched=True)\n",
    "\n",
    "# 2. 라벨 이름 설정\n",
    "label_names = list(custom_label_order.keys())\n",
    "\n",
    "# 3. 모델별 평가\n",
    "print(\"\\n✅ 모델별 검증 성능 비교\")\n",
    "for i, name in enumerate(dataset_names, 1):\n",
    "    print(f\"\\n▶ 모델 {i}: {name}\")\n",
    "\n",
    "    # 모델 불러오기\n",
    "    model_path = f\"./results/model_{i}\"\n",
    "    model = ElectraForSequenceClassification.from_pretrained(model_path).to(device)\n",
    "\n",
    "    # 평가용 Trainer\n",
    "    trainer = Trainer(\n",
    "        model=model,\n",
    "        tokenizer=tokenizer,\n",
    "        compute_metrics=compute_metrics\n",
    "    )\n",
    "\n",
    "    # 예측\n",
    "    preds = trainer.predict(val_dataset)\n",
    "    y_pred = np.argmax(preds.predictions, axis=1)\n",
    "\n",
    "    # 평가 리포트 출력\n",
    "    print(classification_report(y_val, y_pred, target_names=label_names))"
   ]
  },
  {
   "cell_type": "code",
   "execution_count": 12,
   "metadata": {
    "id": "wy6VQQZqsNpK"
   },
   "outputs": [],
   "source": [
    "from wandb.integration.keras import WandbCallback\n",
    "from sklearn.metrics import classification_report\n",
    "from tensorflow.keras.callbacks import EarlyStopping, ModelCheckpoint\n",
    "\n",
    "#  공통 함수 정의\n",
    "def log_model_to_wandb(model, run_name, notes, X_train, y_train, X_val, y_val, ordered_columns):\n",
    "    import wandb\n",
    "    from sklearn.metrics import classification_report\n",
    "\n",
    "\n",
    "\n",
    "    run = wandb.init(\n",
    "    entity=\"jiwoong-team\",\n",
    "    project=\"DLThon-DKTC\",\n",
    "    name=run_name,\n",
    "    notes=notes,\n",
    "    config=dict(\n",
    "        architecture=\"KcELECTRA\",\n",
    "        input_length=128,\n",
    "        epochs=10,\n",
    "        batch_size=32\n",
    "    ),\n",
    "    reinit=True,\n",
    "    settings=wandb.Settings(_disable_stats=True)\n",
    "    )\n",
    "\n",
    "\n",
    "    #  예측 결과 평가\n",
    "    y_pred = model.predict(X_val)\n",
    "    y_pred_labels = np.argmax(y_pred, axis=1)\n",
    "    y_true_labels = np.argmax(y_val, axis=1)\n",
    "\n",
    "    #  classification report 테이블 생성\n",
    "    report = classification_report(y_true_labels, y_pred_labels, target_names=ordered_columns, output_dict=True)\n",
    "    columns = [\"class\", \"precision\", \"recall\", \"f1-score\", \"support\"]\n",
    "    data = []\n",
    "    for label, metrics in report.items():\n",
    "        if isinstance(metrics, dict):\n",
    "            row = [label] + [metrics.get(col, None) for col in columns[1:]]\n",
    "            data.append(row)\n",
    "\n",
    "    table = wandb.Table(columns=columns, data=data)\n",
    "\n",
    "    wandb.log({\n",
    "    \"macro_f1\": float(report[\"macro avg\"][\"f1-score\"]),\n",
    "    \"accuracy\": float(report[\"accuracy\"]),\n",
    "    \"threat_f1\": float(report[\"협박 대화\"][\"f1-score\"]),\n",
    "    \"extortion_f1\": float(report[\"갈취 대화\"][\"f1-score\"]),\n",
    "    \"workplace_bullying_f1\": float(report[\"직장 내 괴롭힘 대화\"][\"f1-score\"]),\n",
    "    \"other_bullying_f1\": float(report[\"기타 괴롭힘 대화\"][\"f1-score\"]),\n",
    "    \"general_conversation_f1\": float(report[\"일반 대화\"][\"f1-score\"]),\n",
    "    })\n",
    "\n",
    "\n",
    "    run.finish()\n"
   ]
  },
  {
   "cell_type": "code",
   "execution_count": 13,
   "metadata": {
    "id": "AGEgssuxsNyc"
   },
   "outputs": [],
   "source": [
    "ordered_columns = [\n",
    "    \"협박 대화\",\n",
    "    \"갈취 대화\",\n",
    "    \"직장 내 괴롭힘 대화\",\n",
    "    \"기타 괴롭힘 대화\",\n",
    "    \"일반 대화\"\n",
    "]\n",
    "\n",
    "from torch.utils.data import DataLoader\n",
    "from transformers import DataCollatorWithPadding\n",
    "from sklearn.metrics import classification_report\n",
    "import torch\n",
    "\n",
    "def log_model_to_wandb(model, run_name, notes, X_train, y_train, X_val, y_val, ordered_columns):\n",
    "    import wandb\n",
    "    from transformers import AutoTokenizer\n",
    "    from datasets import Dataset\n",
    "    from tqdm import tqdm\n",
    "\n",
    "    run = wandb.init(\n",
    "        entity=\"jiwoong-team\",\n",
    "        project=\"DLThon-DKTC\",\n",
    "        name=run_name,\n",
    "        notes=notes,\n",
    "        config=dict(\n",
    "            architecture=\"KcELECTRA\",\n",
    "            input_length=128,\n",
    "            epochs=10,\n",
    "            batch_size=32\n",
    "        ),\n",
    "        reinit=True,\n",
    "        settings=wandb.Settings(_disable_stats=True)\n",
    "    )\n",
    "\n",
    "    # 토크나이즈\n",
    "    val_df = pd.DataFrame({\"text\": X_val, \"label\": y_val})\n",
    "    val_dataset = Dataset.from_pandas(val_df).map(tokenize_function, batched=True)\n",
    "    val_dataset.set_format(type='torch', columns=['input_ids', 'attention_mask'])\n",
    "\n",
    "    # 평가\n",
    "    model.eval()\n",
    "    y_preds = []\n",
    "    y_trues = []\n",
    "\n",
    "    dataloader = DataLoader(val_dataset, batch_size=32, collate_fn=data_collator)\n",
    "\n",
    "    for batch in tqdm(dataloader, desc=\"Evaluating\"):\n",
    "        input_ids = batch[\"input_ids\"].to(model.device)\n",
    "        attention_mask = batch[\"attention_mask\"].to(model.device)\n",
    "        with torch.no_grad():\n",
    "            outputs = model(input_ids=input_ids, attention_mask=attention_mask)\n",
    "        logits = outputs.logits\n",
    "        preds = torch.argmax(logits, dim=1).cpu().numpy()\n",
    "        y_preds.extend(preds)\n",
    "\n",
    "    y_true_labels = y_val\n",
    "    y_pred_labels = y_preds\n",
    "\n",
    "    # classification report\n",
    "    report = classification_report(y_true_labels, y_pred_labels, target_names=ordered_columns, output_dict=True)\n",
    "    columns = [\"class\", \"precision\", \"recall\", \"f1-score\", \"support\"]\n",
    "    data = []\n",
    "    for label, metrics in report.items():\n",
    "        if isinstance(metrics, dict):\n",
    "            row = [label] + [metrics.get(col, None) for col in columns[1:]]\n",
    "            data.append(row)\n",
    "\n",
    "    table = wandb.Table(columns=columns, data=data)\n",
    "\n",
    "    wandb.log({\n",
    "        \"macro_f1\": float(report[\"macro avg\"][\"f1-score\"]),\n",
    "        \"accuracy\": float(report[\"accuracy\"]),\n",
    "        \"threat_f1\": float(report[\"협박 대화\"][\"f1-score\"]),\n",
    "        \"extortion_f1\": float(report[\"갈취 대화\"][\"f1-score\"]),\n",
    "        \"workplace_bullying_f1\": float(report[\"직장 내 괴롭힘 대화\"][\"f1-score\"]),\n",
    "        \"other_bullying_f1\": float(report[\"기타 괴롭힘 대화\"][\"f1-score\"]),\n",
    "        \"general_conversation_f1\": float(report[\"일반 대화\"][\"f1-score\"]),\n",
    "        \"classification_report\": table\n",
    "    })\n",
    "\n",
    "    run.finish()\n"
   ]
  },
  {
   "cell_type": "code",
   "execution_count": 14,
   "metadata": {
    "colab": {
     "base_uri": "https://localhost:8080/",
     "height": 1000,
     "referenced_widgets": [
      "2bb2f55504ed4eb180d63070bb6d37a0",
      "af2bc891d33549388d541dca76d03920",
      "112e4e5edb6b45f2b4395a42942d8301",
      "bc32e84e5c8f4a29b3e3f01aa275daf5",
      "9ee29fd3abfc4336ba6a8daa605c4533",
      "f1de2f1364ef48ccaafb1756c97fadba",
      "f104f9516ce0415f9c9110df9cba127a",
      "cf66152bced642a290434e81cc0c75e7",
      "52db29ff532b4814963cfcd9cd5ff561",
      "219541d92e5d41649f3a3e67426d6d39",
      "49e2a36697024c578bea9a66e0c542b8",
      "a356d1728a69439eac6d452b0fd7863c",
      "e640ccc3a6034ff5a466ea24e1176ff5",
      "81810b821832459e9ae385d950adbae7",
      "8c3ea84d829a49f19351921b9c267f74",
      "d399476942424420814ca9742546c462",
      "c9eb565426ce4155a23f7d182eac4914",
      "084b7c57602d4c1589fb80b8eff84b91",
      "85af66829da24b5994aec75e11a93eae",
      "9e265b16b9c54ecbbc89f14a7dd1584b",
      "7e5e9105ddc7429aaa7144b4bc8bf819",
      "98ea84a6949848daa217d309b64618dc",
      "10adf1a8063c44c882fc25172c09d37d",
      "06f6351b39e1446fa28edf9358d723b7",
      "72afeb113cb4441baa6506f5bed6351b",
      "05346788373944b7a3657475113148bd",
      "73a1a0768bdc4c26b289c94b3445fa13",
      "e241f03748784ca2a3c271d41d604616",
      "b0a2b6c6a1bc4f37bba09a866caa7bc9",
      "b6f43272256c484ba93f4eae8b7fa225",
      "794e4da5ba894886a6f9626d1bc596a4",
      "5c3ace9e9bfa4885a1423d2cd116c677",
      "231338e2c2d34376a92d90827688158d",
      "35512d70865b4a58808339107a3ddc69",
      "c7aea3e10b69400eb118a3268b316691",
      "d62564e32cf74f8f8bef00c0b3f5adc2",
      "33ec6fdf8ed842028b4896e5c8c26da9",
      "03ada3c211354cad90edec6ba97080a1",
      "c1fe3dd60b6e4d3e8c016a0c80cf8ad8",
      "050094b5c4cd40539ca926694e98a049",
      "542c3bfddd4c49cca2b0ccc96bbdaa81",
      "00dbf4d9f63d43bcb7ef3e05a19ca759",
      "a1ef004a827e45dfb21cdf9b6aadaeb4",
      "01fe964433124b789ea7d31a993381e5",
      "b1e5c3abd033435eb8bcd907144b2192",
      "a66a245086e1485ea05966f12828f378",
      "1a46ed020b9a4718847501c0726d5b65",
      "478e7af489724a21aace1577f5657991",
      "4fdfc978c4fb4d5e884bc1624032dfbd",
      "906a0c943e1f418ca7d99af1cf29d249",
      "0a0db49d425e42b89a295a8c4dd4ce15",
      "fabc4cdebd5647fdb05acdde31fb091c",
      "ee1ba91f07514aa98e6c62b3b265aa81",
      "3c2aa081376f48b8aa2aee61daf25d0d",
      "9f1c5721ca6a4e89b5513b01dc280a11",
      "96e46de0f8e94ea08954ec888432cca2",
      "07cd36d7ecba4fb8a57f86b6862e9f93",
      "c72890523c9f442cb5fb3f62ee1b8b1e",
      "32c7426a806846ce98380e00fb393236",
      "c8de3f9017fc4a2dbec5a4c3ea5532b4",
      "a806c448c2eb48c2b62bf2592ebfb2a5",
      "3bef165d4eb14b68ac87f11f48a702d2",
      "2b4a493738b744928ecd68329ccbfcd0",
      "c9f9825f566242a5bb5920bfcd5a2a84",
      "57afdd2e5e7b4d578119ee8f1baf6e59",
      "aa55f501ecc1476a88d798cb04cfe580"
     ]
    },
    "id": "NWi9LBo7sN6C",
    "outputId": "08a34402-e08f-434c-8006-81e3da5600bc"
   },
   "outputs": [
    {
     "data": {
      "text/html": [
       "Finishing previous runs because reinit is set to True."
      ],
      "text/plain": [
       "<IPython.core.display.HTML object>"
      ]
     },
     "metadata": {},
     "output_type": "display_data"
    },
    {
     "data": {
      "text/html": [],
      "text/plain": [
       "<IPython.core.display.HTML object>"
      ]
     },
     "metadata": {},
     "output_type": "display_data"
    },
    {
     "data": {
      "text/html": [
       "<br>    <style><br>        .wandb-row {<br>            display: flex;<br>            flex-direction: row;<br>            flex-wrap: wrap;<br>            justify-content: flex-start;<br>            width: 100%;<br>        }<br>        .wandb-col {<br>            display: flex;<br>            flex-direction: column;<br>            flex-basis: 100%;<br>            flex: 1;<br>            padding: 10px;<br>        }<br>    </style><br><div class=\"wandb-row\"><div class=\"wandb-col\"><h3>Run history:</h3><br/><table class=\"wandb\"><tr><td>test/Accuray f1</td><td>▆█▁▃▆▅</td></tr><tr><td>test/accuray</td><td>▆█▁▃▆▅</td></tr><tr><td>test/loss</td><td>▁▄▆█▇▇</td></tr><tr><td>test/model_preparation_time</td><td>█▄▇▂▁▁</td></tr><tr><td>test/runtime</td><td>▇█▄▃▁▁</td></tr><tr><td>test/samples_per_second</td><td>▁▁▅▆██</td></tr><tr><td>test/steps_per_second</td><td>▁▁▅▆██</td></tr><tr><td>test/갈취 대화_f1</td><td>▅█▁▇▇▆</td></tr><tr><td>test/기타 괴롭힘 대화_f1</td><td>▄█▁▁▅▄</td></tr><tr><td>test/일반 대화_f1</td><td>██▁▂▅▃</td></tr><tr><td>test/직장 내 괴롭힘 대화_f1</td><td>▃█▁▃▃▅</td></tr><tr><td>test/협박 대화_f1</td><td>▅▅▁▅█▇</td></tr><tr><td>train/epoch</td><td>█▃▇██▃▇█▂▄▇█▁▃▄▆██</td></tr><tr><td>train/global_step</td><td>▁▁▃▃▁▁▃▃▁▃▅▅▁▃▅▆████████</td></tr><tr><td>train/grad_norm</td><td>▂▁▄▁▃█▁▁▂▂▁▁</td></tr><tr><td>train/learning_rate</td><td>▆▂▆▂▇▅▂█▆▄▃▁</td></tr><tr><td>train/loss</td><td>█▂█▃▇▃▁▆▃▂▁▁</td></tr></table><br/></div><div class=\"wandb-col\"><h3>Run summary:</h3><br/><table class=\"wandb\"><tr><td>test/Accuray f1</td><td>0.90063</td></tr><tr><td>test/accuray</td><td>0.90086</td></tr><tr><td>test/loss</td><td>0.46247</td></tr><tr><td>test/model_preparation_time</td><td>0.0028</td></tr><tr><td>test/runtime</td><td>7.0415</td></tr><tr><td>test/samples_per_second</td><td>131.79</td></tr><tr><td>test/steps_per_second</td><td>16.474</td></tr><tr><td>test/갈취 대화_f1</td><td>0.86869</td></tr><tr><td>test/기타 괴롭힘 대화_f1</td><td>0.85496</td></tr><tr><td>test/일반 대화_f1</td><td>0.9434</td></tr><tr><td>test/직장 내 괴롭힘 대화_f1</td><td>0.96144</td></tr><tr><td>test/협박 대화_f1</td><td>0.88333</td></tr><tr><td>total_flos</td><td>2655125175604224.0</td></tr><tr><td>train/epoch</td><td>2</td></tr><tr><td>train/global_step</td><td>2524</td></tr><tr><td>train/grad_norm</td><td>0.18356</td></tr><tr><td>train/learning_rate</td><td>0.0</td></tr><tr><td>train/loss</td><td>0.0512</td></tr><tr><td>train_loss</td><td>0.15516</td></tr><tr><td>train_runtime</td><td>1079.2846</td></tr><tr><td>train_samples_per_second</td><td>37.399</td></tr><tr><td>train_steps_per_second</td><td>2.339</td></tr></table><br/></div></div>"
      ],
      "text/plain": [
       "<IPython.core.display.HTML object>"
      ]
     },
     "metadata": {},
     "output_type": "display_data"
    },
    {
     "data": {
      "text/html": [
       " View run <strong style=\"color:#cdcd00\">./results/model_1</strong> at: <a href='https://wandb.ai/jiwoong-team/huggingface/runs/c74x7hzy' target=\"_blank\">https://wandb.ai/jiwoong-team/huggingface/runs/c74x7hzy</a><br> View project at: <a href='https://wandb.ai/jiwoong-team/huggingface' target=\"_blank\">https://wandb.ai/jiwoong-team/huggingface</a><br>Synced 5 W&B file(s), 0 media file(s), 0 artifact file(s) and 0 other file(s)"
      ],
      "text/plain": [
       "<IPython.core.display.HTML object>"
      ]
     },
     "metadata": {},
     "output_type": "display_data"
    },
    {
     "data": {
      "text/html": [
       "Find logs at: <code>./wandb/run-20250506_141937-c74x7hzy/logs</code>"
      ],
      "text/plain": [
       "<IPython.core.display.HTML object>"
      ]
     },
     "metadata": {},
     "output_type": "display_data"
    },
    {
     "name": "stderr",
     "output_type": "stream",
     "text": [
      "\u001b[34m\u001b[1mwandb\u001b[0m: \u001b[33mWARNING\u001b[0m Using a boolean value for 'reinit' is deprecated. Use 'return_previous' or 'finish_previous' instead.\n"
     ]
    },
    {
     "data": {
      "text/html": [
       "Tracking run with wandb version 0.19.10"
      ],
      "text/plain": [
       "<IPython.core.display.HTML object>"
      ]
     },
     "metadata": {},
     "output_type": "display_data"
    },
    {
     "data": {
      "text/html": [
       "Run data is saved locally in <code>/content/wandb/run-20250506_151149-mcpb1niz</code>"
      ],
      "text/plain": [
       "<IPython.core.display.HTML object>"
      ]
     },
     "metadata": {},
     "output_type": "display_data"
    },
    {
     "data": {
      "text/html": [
       "Syncing run <strong><a href='https://wandb.ai/jiwoong-team/DLThon-DKTC/runs/mcpb1niz' target=\"_blank\">KcELECTRA_original_only</a></strong> to <a href='https://wandb.ai/jiwoong-team/DLThon-DKTC' target=\"_blank\">Weights & Biases</a> (<a href='https://wandb.me/developer-guide' target=\"_blank\">docs</a>)<br>"
      ],
      "text/plain": [
       "<IPython.core.display.HTML object>"
      ]
     },
     "metadata": {},
     "output_type": "display_data"
    },
    {
     "data": {
      "text/html": [
       " View project at <a href='https://wandb.ai/jiwoong-team/DLThon-DKTC' target=\"_blank\">https://wandb.ai/jiwoong-team/DLThon-DKTC</a>"
      ],
      "text/plain": [
       "<IPython.core.display.HTML object>"
      ]
     },
     "metadata": {},
     "output_type": "display_data"
    },
    {
     "data": {
      "text/html": [
       " View run at <a href='https://wandb.ai/jiwoong-team/DLThon-DKTC/runs/mcpb1niz' target=\"_blank\">https://wandb.ai/jiwoong-team/DLThon-DKTC/runs/mcpb1niz</a>"
      ],
      "text/plain": [
       "<IPython.core.display.HTML object>"
      ]
     },
     "metadata": {},
     "output_type": "display_data"
    },
    {
     "data": {
      "application/vnd.jupyter.widget-view+json": {
       "model_id": "2bb2f55504ed4eb180d63070bb6d37a0",
       "version_major": 2,
       "version_minor": 0
      },
      "text/plain": [
       "Map:   0%|          | 0/928 [00:00<?, ? examples/s]"
      ]
     },
     "metadata": {},
     "output_type": "display_data"
    },
    {
     "name": "stderr",
     "output_type": "stream",
     "text": [
      "Evaluating: 100%|██████████| 29/29 [00:06<00:00,  4.39it/s]\n"
     ]
    },
    {
     "data": {
      "text/html": [],
      "text/plain": [
       "<IPython.core.display.HTML object>"
      ]
     },
     "metadata": {},
     "output_type": "display_data"
    },
    {
     "data": {
      "text/html": [
       "<br>    <style><br>        .wandb-row {<br>            display: flex;<br>            flex-direction: row;<br>            flex-wrap: wrap;<br>            justify-content: flex-start;<br>            width: 100%;<br>        }<br>        .wandb-col {<br>            display: flex;<br>            flex-direction: column;<br>            flex-basis: 100%;<br>            flex: 1;<br>            padding: 10px;<br>        }<br>    </style><br><div class=\"wandb-row\"><div class=\"wandb-col\"><h3>Run history:</h3><br/><table class=\"wandb\"><tr><td>accuracy</td><td>▁</td></tr><tr><td>extortion_f1</td><td>▁</td></tr><tr><td>general_conversation_f1</td><td>▁</td></tr><tr><td>macro_f1</td><td>▁</td></tr><tr><td>other_bullying_f1</td><td>▁</td></tr><tr><td>threat_f1</td><td>▁</td></tr><tr><td>workplace_bullying_f1</td><td>▁</td></tr></table><br/></div><div class=\"wandb-col\"><h3>Run summary:</h3><br/><table class=\"wandb\"><tr><td>accuracy</td><td>0.90302</td></tr><tr><td>extortion_f1</td><td>0.86387</td></tr><tr><td>general_conversation_f1</td><td>0.99054</td></tr><tr><td>macro_f1</td><td>0.90648</td></tr><tr><td>other_bullying_f1</td><td>0.85308</td></tr><tr><td>threat_f1</td><td>0.86932</td></tr><tr><td>workplace_bullying_f1</td><td>0.95561</td></tr></table><br/></div></div>"
      ],
      "text/plain": [
       "<IPython.core.display.HTML object>"
      ]
     },
     "metadata": {},
     "output_type": "display_data"
    },
    {
     "data": {
      "text/html": [
       " View run <strong style=\"color:#cdcd00\">KcELECTRA_original_only</strong> at: <a href='https://wandb.ai/jiwoong-team/DLThon-DKTC/runs/mcpb1niz' target=\"_blank\">https://wandb.ai/jiwoong-team/DLThon-DKTC/runs/mcpb1niz</a><br> View project at: <a href='https://wandb.ai/jiwoong-team/DLThon-DKTC' target=\"_blank\">https://wandb.ai/jiwoong-team/DLThon-DKTC</a><br>Synced 5 W&B file(s), 1 media file(s), 2 artifact file(s) and 0 other file(s)"
      ],
      "text/plain": [
       "<IPython.core.display.HTML object>"
      ]
     },
     "metadata": {},
     "output_type": "display_data"
    },
    {
     "data": {
      "text/html": [
       "Find logs at: <code>./wandb/run-20250506_151149-mcpb1niz/logs</code>"
      ],
      "text/plain": [
       "<IPython.core.display.HTML object>"
      ]
     },
     "metadata": {},
     "output_type": "display_data"
    },
    {
     "data": {
      "text/html": [
       "Tracking run with wandb version 0.19.10"
      ],
      "text/plain": [
       "<IPython.core.display.HTML object>"
      ]
     },
     "metadata": {},
     "output_type": "display_data"
    },
    {
     "data": {
      "text/html": [
       "Run data is saved locally in <code>/content/wandb/run-20250506_151200-f1fwkfq5</code>"
      ],
      "text/plain": [
       "<IPython.core.display.HTML object>"
      ]
     },
     "metadata": {},
     "output_type": "display_data"
    },
    {
     "data": {
      "text/html": [
       "Syncing run <strong><a href='https://wandb.ai/jiwoong-team/DLThon-DKTC/runs/f1fwkfq5' target=\"_blank\">KcELECTRA_eda</a></strong> to <a href='https://wandb.ai/jiwoong-team/DLThon-DKTC' target=\"_blank\">Weights & Biases</a> (<a href='https://wandb.me/developer-guide' target=\"_blank\">docs</a>)<br>"
      ],
      "text/plain": [
       "<IPython.core.display.HTML object>"
      ]
     },
     "metadata": {},
     "output_type": "display_data"
    },
    {
     "data": {
      "text/html": [
       " View project at <a href='https://wandb.ai/jiwoong-team/DLThon-DKTC' target=\"_blank\">https://wandb.ai/jiwoong-team/DLThon-DKTC</a>"
      ],
      "text/plain": [
       "<IPython.core.display.HTML object>"
      ]
     },
     "metadata": {},
     "output_type": "display_data"
    },
    {
     "data": {
      "text/html": [
       " View run at <a href='https://wandb.ai/jiwoong-team/DLThon-DKTC/runs/f1fwkfq5' target=\"_blank\">https://wandb.ai/jiwoong-team/DLThon-DKTC/runs/f1fwkfq5</a>"
      ],
      "text/plain": [
       "<IPython.core.display.HTML object>"
      ]
     },
     "metadata": {},
     "output_type": "display_data"
    },
    {
     "data": {
      "application/vnd.jupyter.widget-view+json": {
       "model_id": "a356d1728a69439eac6d452b0fd7863c",
       "version_major": 2,
       "version_minor": 0
      },
      "text/plain": [
       "Map:   0%|          | 0/928 [00:00<?, ? examples/s]"
      ]
     },
     "metadata": {},
     "output_type": "display_data"
    },
    {
     "name": "stderr",
     "output_type": "stream",
     "text": [
      "Evaluating: 100%|██████████| 29/29 [00:06<00:00,  4.53it/s]\n"
     ]
    },
    {
     "data": {
      "text/html": [],
      "text/plain": [
       "<IPython.core.display.HTML object>"
      ]
     },
     "metadata": {},
     "output_type": "display_data"
    },
    {
     "data": {
      "text/html": [
       "<br>    <style><br>        .wandb-row {<br>            display: flex;<br>            flex-direction: row;<br>            flex-wrap: wrap;<br>            justify-content: flex-start;<br>            width: 100%;<br>        }<br>        .wandb-col {<br>            display: flex;<br>            flex-direction: column;<br>            flex-basis: 100%;<br>            flex: 1;<br>            padding: 10px;<br>        }<br>    </style><br><div class=\"wandb-row\"><div class=\"wandb-col\"><h3>Run history:</h3><br/><table class=\"wandb\"><tr><td>accuracy</td><td>▁</td></tr><tr><td>extortion_f1</td><td>▁</td></tr><tr><td>general_conversation_f1</td><td>▁</td></tr><tr><td>macro_f1</td><td>▁</td></tr><tr><td>other_bullying_f1</td><td>▁</td></tr><tr><td>threat_f1</td><td>▁</td></tr><tr><td>workplace_bullying_f1</td><td>▁</td></tr></table><br/></div><div class=\"wandb-col\"><h3>Run summary:</h3><br/><table class=\"wandb\"><tr><td>accuracy</td><td>0.91595</td></tr><tr><td>extortion_f1</td><td>0.87437</td></tr><tr><td>general_conversation_f1</td><td>0.99371</td></tr><tr><td>macro_f1</td><td>0.91838</td></tr><tr><td>other_bullying_f1</td><td>0.88325</td></tr><tr><td>threat_f1</td><td>0.87151</td></tr><tr><td>workplace_bullying_f1</td><td>0.96907</td></tr></table><br/></div></div>"
      ],
      "text/plain": [
       "<IPython.core.display.HTML object>"
      ]
     },
     "metadata": {},
     "output_type": "display_data"
    },
    {
     "data": {
      "text/html": [
       " View run <strong style=\"color:#cdcd00\">KcELECTRA_eda</strong> at: <a href='https://wandb.ai/jiwoong-team/DLThon-DKTC/runs/f1fwkfq5' target=\"_blank\">https://wandb.ai/jiwoong-team/DLThon-DKTC/runs/f1fwkfq5</a><br> View project at: <a href='https://wandb.ai/jiwoong-team/DLThon-DKTC' target=\"_blank\">https://wandb.ai/jiwoong-team/DLThon-DKTC</a><br>Synced 5 W&B file(s), 1 media file(s), 2 artifact file(s) and 0 other file(s)"
      ],
      "text/plain": [
       "<IPython.core.display.HTML object>"
      ]
     },
     "metadata": {},
     "output_type": "display_data"
    },
    {
     "data": {
      "text/html": [
       "Find logs at: <code>./wandb/run-20250506_151200-f1fwkfq5/logs</code>"
      ],
      "text/plain": [
       "<IPython.core.display.HTML object>"
      ]
     },
     "metadata": {},
     "output_type": "display_data"
    },
    {
     "data": {
      "text/html": [
       "Tracking run with wandb version 0.19.10"
      ],
      "text/plain": [
       "<IPython.core.display.HTML object>"
      ]
     },
     "metadata": {},
     "output_type": "display_data"
    },
    {
     "data": {
      "text/html": [
       "Run data is saved locally in <code>/content/wandb/run-20250506_151209-m21gfl61</code>"
      ],
      "text/plain": [
       "<IPython.core.display.HTML object>"
      ]
     },
     "metadata": {},
     "output_type": "display_data"
    },
    {
     "data": {
      "text/html": [
       "Syncing run <strong><a href='https://wandb.ai/jiwoong-team/DLThon-DKTC/runs/m21gfl61' target=\"_blank\">KcELECTRA_eda</a></strong> to <a href='https://wandb.ai/jiwoong-team/DLThon-DKTC' target=\"_blank\">Weights & Biases</a> (<a href='https://wandb.me/developer-guide' target=\"_blank\">docs</a>)<br>"
      ],
      "text/plain": [
       "<IPython.core.display.HTML object>"
      ]
     },
     "metadata": {},
     "output_type": "display_data"
    },
    {
     "data": {
      "text/html": [
       " View project at <a href='https://wandb.ai/jiwoong-team/DLThon-DKTC' target=\"_blank\">https://wandb.ai/jiwoong-team/DLThon-DKTC</a>"
      ],
      "text/plain": [
       "<IPython.core.display.HTML object>"
      ]
     },
     "metadata": {},
     "output_type": "display_data"
    },
    {
     "data": {
      "text/html": [
       " View run at <a href='https://wandb.ai/jiwoong-team/DLThon-DKTC/runs/m21gfl61' target=\"_blank\">https://wandb.ai/jiwoong-team/DLThon-DKTC/runs/m21gfl61</a>"
      ],
      "text/plain": [
       "<IPython.core.display.HTML object>"
      ]
     },
     "metadata": {},
     "output_type": "display_data"
    },
    {
     "data": {
      "application/vnd.jupyter.widget-view+json": {
       "model_id": "10adf1a8063c44c882fc25172c09d37d",
       "version_major": 2,
       "version_minor": 0
      },
      "text/plain": [
       "Map:   0%|          | 0/928 [00:00<?, ? examples/s]"
      ]
     },
     "metadata": {},
     "output_type": "display_data"
    },
    {
     "name": "stderr",
     "output_type": "stream",
     "text": [
      "Evaluating: 100%|██████████| 29/29 [00:06<00:00,  4.51it/s]\n"
     ]
    },
    {
     "data": {
      "text/html": [],
      "text/plain": [
       "<IPython.core.display.HTML object>"
      ]
     },
     "metadata": {},
     "output_type": "display_data"
    },
    {
     "data": {
      "text/html": [
       "<br>    <style><br>        .wandb-row {<br>            display: flex;<br>            flex-direction: row;<br>            flex-wrap: wrap;<br>            justify-content: flex-start;<br>            width: 100%;<br>        }<br>        .wandb-col {<br>            display: flex;<br>            flex-direction: column;<br>            flex-basis: 100%;<br>            flex: 1;<br>            padding: 10px;<br>        }<br>    </style><br><div class=\"wandb-row\"><div class=\"wandb-col\"><h3>Run history:</h3><br/><table class=\"wandb\"><tr><td>accuracy</td><td>▁</td></tr><tr><td>extortion_f1</td><td>▁</td></tr><tr><td>general_conversation_f1</td><td>▁</td></tr><tr><td>macro_f1</td><td>▁</td></tr><tr><td>other_bullying_f1</td><td>▁</td></tr><tr><td>threat_f1</td><td>▁</td></tr><tr><td>workplace_bullying_f1</td><td>▁</td></tr></table><br/></div><div class=\"wandb-col\"><h3>Run summary:</h3><br/><table class=\"wandb\"><tr><td>accuracy</td><td>0.87823</td></tr><tr><td>extortion_f1</td><td>0.84804</td></tr><tr><td>general_conversation_f1</td><td>0.91946</td></tr><tr><td>macro_f1</td><td>0.88001</td></tr><tr><td>other_bullying_f1</td><td>0.83582</td></tr><tr><td>threat_f1</td><td>0.84507</td></tr><tr><td>workplace_bullying_f1</td><td>0.95165</td></tr></table><br/></div></div>"
      ],
      "text/plain": [
       "<IPython.core.display.HTML object>"
      ]
     },
     "metadata": {},
     "output_type": "display_data"
    },
    {
     "data": {
      "text/html": [
       " View run <strong style=\"color:#cdcd00\">KcELECTRA_eda</strong> at: <a href='https://wandb.ai/jiwoong-team/DLThon-DKTC/runs/m21gfl61' target=\"_blank\">https://wandb.ai/jiwoong-team/DLThon-DKTC/runs/m21gfl61</a><br> View project at: <a href='https://wandb.ai/jiwoong-team/DLThon-DKTC' target=\"_blank\">https://wandb.ai/jiwoong-team/DLThon-DKTC</a><br>Synced 5 W&B file(s), 1 media file(s), 2 artifact file(s) and 0 other file(s)"
      ],
      "text/plain": [
       "<IPython.core.display.HTML object>"
      ]
     },
     "metadata": {},
     "output_type": "display_data"
    },
    {
     "data": {
      "text/html": [
       "Find logs at: <code>./wandb/run-20250506_151209-m21gfl61/logs</code>"
      ],
      "text/plain": [
       "<IPython.core.display.HTML object>"
      ]
     },
     "metadata": {},
     "output_type": "display_data"
    },
    {
     "data": {
      "text/html": [
       "Tracking run with wandb version 0.19.10"
      ],
      "text/plain": [
       "<IPython.core.display.HTML object>"
      ]
     },
     "metadata": {},
     "output_type": "display_data"
    },
    {
     "data": {
      "text/html": [
       "Run data is saved locally in <code>/content/wandb/run-20250506_151218-50pd3c5r</code>"
      ],
      "text/plain": [
       "<IPython.core.display.HTML object>"
      ]
     },
     "metadata": {},
     "output_type": "display_data"
    },
    {
     "data": {
      "text/html": [
       "Syncing run <strong><a href='https://wandb.ai/jiwoong-team/DLThon-DKTC/runs/50pd3c5r' target=\"_blank\">KcELECTRA_synonym_eda</a></strong> to <a href='https://wandb.ai/jiwoong-team/DLThon-DKTC' target=\"_blank\">Weights & Biases</a> (<a href='https://wandb.me/developer-guide' target=\"_blank\">docs</a>)<br>"
      ],
      "text/plain": [
       "<IPython.core.display.HTML object>"
      ]
     },
     "metadata": {},
     "output_type": "display_data"
    },
    {
     "data": {
      "text/html": [
       " View project at <a href='https://wandb.ai/jiwoong-team/DLThon-DKTC' target=\"_blank\">https://wandb.ai/jiwoong-team/DLThon-DKTC</a>"
      ],
      "text/plain": [
       "<IPython.core.display.HTML object>"
      ]
     },
     "metadata": {},
     "output_type": "display_data"
    },
    {
     "data": {
      "text/html": [
       " View run at <a href='https://wandb.ai/jiwoong-team/DLThon-DKTC/runs/50pd3c5r' target=\"_blank\">https://wandb.ai/jiwoong-team/DLThon-DKTC/runs/50pd3c5r</a>"
      ],
      "text/plain": [
       "<IPython.core.display.HTML object>"
      ]
     },
     "metadata": {},
     "output_type": "display_data"
    },
    {
     "data": {
      "application/vnd.jupyter.widget-view+json": {
       "model_id": "35512d70865b4a58808339107a3ddc69",
       "version_major": 2,
       "version_minor": 0
      },
      "text/plain": [
       "Map:   0%|          | 0/928 [00:00<?, ? examples/s]"
      ]
     },
     "metadata": {},
     "output_type": "display_data"
    },
    {
     "name": "stderr",
     "output_type": "stream",
     "text": [
      "Evaluating: 100%|██████████| 29/29 [00:06<00:00,  4.51it/s]\n"
     ]
    },
    {
     "data": {
      "text/html": [],
      "text/plain": [
       "<IPython.core.display.HTML object>"
      ]
     },
     "metadata": {},
     "output_type": "display_data"
    },
    {
     "data": {
      "text/html": [
       "<br>    <style><br>        .wandb-row {<br>            display: flex;<br>            flex-direction: row;<br>            flex-wrap: wrap;<br>            justify-content: flex-start;<br>            width: 100%;<br>        }<br>        .wandb-col {<br>            display: flex;<br>            flex-direction: column;<br>            flex-basis: 100%;<br>            flex: 1;<br>            padding: 10px;<br>        }<br>    </style><br><div class=\"wandb-row\"><div class=\"wandb-col\"><h3>Run history:</h3><br/><table class=\"wandb\"><tr><td>accuracy</td><td>▁</td></tr><tr><td>extortion_f1</td><td>▁</td></tr><tr><td>general_conversation_f1</td><td>▁</td></tr><tr><td>macro_f1</td><td>▁</td></tr><tr><td>other_bullying_f1</td><td>▁</td></tr><tr><td>threat_f1</td><td>▁</td></tr><tr><td>workplace_bullying_f1</td><td>▁</td></tr></table><br/></div><div class=\"wandb-col\"><h3>Run summary:</h3><br/><table class=\"wandb\"><tr><td>accuracy</td><td>0.89116</td></tr><tr><td>extortion_f1</td><td>0.86979</td></tr><tr><td>general_conversation_f1</td><td>0.93069</td></tr><tr><td>macro_f1</td><td>0.89291</td></tr><tr><td>other_bullying_f1</td><td>0.83871</td></tr><tr><td>threat_f1</td><td>0.86863</td></tr><tr><td>workplace_bullying_f1</td><td>0.95674</td></tr></table><br/></div></div>"
      ],
      "text/plain": [
       "<IPython.core.display.HTML object>"
      ]
     },
     "metadata": {},
     "output_type": "display_data"
    },
    {
     "data": {
      "text/html": [
       " View run <strong style=\"color:#cdcd00\">KcELECTRA_synonym_eda</strong> at: <a href='https://wandb.ai/jiwoong-team/DLThon-DKTC/runs/50pd3c5r' target=\"_blank\">https://wandb.ai/jiwoong-team/DLThon-DKTC/runs/50pd3c5r</a><br> View project at: <a href='https://wandb.ai/jiwoong-team/DLThon-DKTC' target=\"_blank\">https://wandb.ai/jiwoong-team/DLThon-DKTC</a><br>Synced 5 W&B file(s), 1 media file(s), 2 artifact file(s) and 0 other file(s)"
      ],
      "text/plain": [
       "<IPython.core.display.HTML object>"
      ]
     },
     "metadata": {},
     "output_type": "display_data"
    },
    {
     "data": {
      "text/html": [
       "Find logs at: <code>./wandb/run-20250506_151218-50pd3c5r/logs</code>"
      ],
      "text/plain": [
       "<IPython.core.display.HTML object>"
      ]
     },
     "metadata": {},
     "output_type": "display_data"
    },
    {
     "data": {
      "text/html": [
       "Tracking run with wandb version 0.19.10"
      ],
      "text/plain": [
       "<IPython.core.display.HTML object>"
      ]
     },
     "metadata": {},
     "output_type": "display_data"
    },
    {
     "data": {
      "text/html": [
       "Run data is saved locally in <code>/content/wandb/run-20250506_151227-k3u0919f</code>"
      ],
      "text/plain": [
       "<IPython.core.display.HTML object>"
      ]
     },
     "metadata": {},
     "output_type": "display_data"
    },
    {
     "data": {
      "text/html": [
       "Syncing run <strong><a href='https://wandb.ai/jiwoong-team/DLThon-DKTC/runs/k3u0919f' target=\"_blank\">KcELECTRA_synonym_eda</a></strong> to <a href='https://wandb.ai/jiwoong-team/DLThon-DKTC' target=\"_blank\">Weights & Biases</a> (<a href='https://wandb.me/developer-guide' target=\"_blank\">docs</a>)<br>"
      ],
      "text/plain": [
       "<IPython.core.display.HTML object>"
      ]
     },
     "metadata": {},
     "output_type": "display_data"
    },
    {
     "data": {
      "text/html": [
       " View project at <a href='https://wandb.ai/jiwoong-team/DLThon-DKTC' target=\"_blank\">https://wandb.ai/jiwoong-team/DLThon-DKTC</a>"
      ],
      "text/plain": [
       "<IPython.core.display.HTML object>"
      ]
     },
     "metadata": {},
     "output_type": "display_data"
    },
    {
     "data": {
      "text/html": [
       " View run at <a href='https://wandb.ai/jiwoong-team/DLThon-DKTC/runs/k3u0919f' target=\"_blank\">https://wandb.ai/jiwoong-team/DLThon-DKTC/runs/k3u0919f</a>"
      ],
      "text/plain": [
       "<IPython.core.display.HTML object>"
      ]
     },
     "metadata": {},
     "output_type": "display_data"
    },
    {
     "data": {
      "application/vnd.jupyter.widget-view+json": {
       "model_id": "b1e5c3abd033435eb8bcd907144b2192",
       "version_major": 2,
       "version_minor": 0
      },
      "text/plain": [
       "Map:   0%|          | 0/928 [00:00<?, ? examples/s]"
      ]
     },
     "metadata": {},
     "output_type": "display_data"
    },
    {
     "name": "stderr",
     "output_type": "stream",
     "text": [
      "Evaluating: 100%|██████████| 29/29 [00:06<00:00,  4.46it/s]\n"
     ]
    },
    {
     "data": {
      "text/html": [],
      "text/plain": [
       "<IPython.core.display.HTML object>"
      ]
     },
     "metadata": {},
     "output_type": "display_data"
    },
    {
     "data": {
      "text/html": [
       "<br>    <style><br>        .wandb-row {<br>            display: flex;<br>            flex-direction: row;<br>            flex-wrap: wrap;<br>            justify-content: flex-start;<br>            width: 100%;<br>        }<br>        .wandb-col {<br>            display: flex;<br>            flex-direction: column;<br>            flex-basis: 100%;<br>            flex: 1;<br>            padding: 10px;<br>        }<br>    </style><br><div class=\"wandb-row\"><div class=\"wandb-col\"><h3>Run history:</h3><br/><table class=\"wandb\"><tr><td>accuracy</td><td>▁</td></tr><tr><td>extortion_f1</td><td>▁</td></tr><tr><td>general_conversation_f1</td><td>▁</td></tr><tr><td>macro_f1</td><td>▁</td></tr><tr><td>other_bullying_f1</td><td>▁</td></tr><tr><td>threat_f1</td><td>▁</td></tr><tr><td>workplace_bullying_f1</td><td>▁</td></tr></table><br/></div><div class=\"wandb-col\"><h3>Run summary:</h3><br/><table class=\"wandb\"><tr><td>accuracy</td><td>0.90517</td></tr><tr><td>extortion_f1</td><td>0.87113</td></tr><tr><td>general_conversation_f1</td><td>0.95793</td></tr><tr><td>macro_f1</td><td>0.90734</td></tr><tr><td>other_bullying_f1</td><td>0.86139</td></tr><tr><td>threat_f1</td><td>0.8895</td></tr><tr><td>workplace_bullying_f1</td><td>0.95674</td></tr></table><br/></div></div>"
      ],
      "text/plain": [
       "<IPython.core.display.HTML object>"
      ]
     },
     "metadata": {},
     "output_type": "display_data"
    },
    {
     "data": {
      "text/html": [
       " View run <strong style=\"color:#cdcd00\">KcELECTRA_synonym_eda</strong> at: <a href='https://wandb.ai/jiwoong-team/DLThon-DKTC/runs/k3u0919f' target=\"_blank\">https://wandb.ai/jiwoong-team/DLThon-DKTC/runs/k3u0919f</a><br> View project at: <a href='https://wandb.ai/jiwoong-team/DLThon-DKTC' target=\"_blank\">https://wandb.ai/jiwoong-team/DLThon-DKTC</a><br>Synced 5 W&B file(s), 1 media file(s), 2 artifact file(s) and 0 other file(s)"
      ],
      "text/plain": [
       "<IPython.core.display.HTML object>"
      ]
     },
     "metadata": {},
     "output_type": "display_data"
    },
    {
     "data": {
      "text/html": [
       "Find logs at: <code>./wandb/run-20250506_151227-k3u0919f/logs</code>"
      ],
      "text/plain": [
       "<IPython.core.display.HTML object>"
      ]
     },
     "metadata": {},
     "output_type": "display_data"
    },
    {
     "data": {
      "text/html": [
       "Tracking run with wandb version 0.19.10"
      ],
      "text/plain": [
       "<IPython.core.display.HTML object>"
      ]
     },
     "metadata": {},
     "output_type": "display_data"
    },
    {
     "data": {
      "text/html": [
       "Run data is saved locally in <code>/content/wandb/run-20250506_151236-vwjq3rlx</code>"
      ],
      "text/plain": [
       "<IPython.core.display.HTML object>"
      ]
     },
     "metadata": {},
     "output_type": "display_data"
    },
    {
     "data": {
      "text/html": [
       "Syncing run <strong><a href='https://wandb.ai/jiwoong-team/DLThon-DKTC/runs/vwjq3rlx' target=\"_blank\">KcELECTRA_16000_eda</a></strong> to <a href='https://wandb.ai/jiwoong-team/DLThon-DKTC' target=\"_blank\">Weights & Biases</a> (<a href='https://wandb.me/developer-guide' target=\"_blank\">docs</a>)<br>"
      ],
      "text/plain": [
       "<IPython.core.display.HTML object>"
      ]
     },
     "metadata": {},
     "output_type": "display_data"
    },
    {
     "data": {
      "text/html": [
       " View project at <a href='https://wandb.ai/jiwoong-team/DLThon-DKTC' target=\"_blank\">https://wandb.ai/jiwoong-team/DLThon-DKTC</a>"
      ],
      "text/plain": [
       "<IPython.core.display.HTML object>"
      ]
     },
     "metadata": {},
     "output_type": "display_data"
    },
    {
     "data": {
      "text/html": [
       " View run at <a href='https://wandb.ai/jiwoong-team/DLThon-DKTC/runs/vwjq3rlx' target=\"_blank\">https://wandb.ai/jiwoong-team/DLThon-DKTC/runs/vwjq3rlx</a>"
      ],
      "text/plain": [
       "<IPython.core.display.HTML object>"
      ]
     },
     "metadata": {},
     "output_type": "display_data"
    },
    {
     "data": {
      "application/vnd.jupyter.widget-view+json": {
       "model_id": "96e46de0f8e94ea08954ec888432cca2",
       "version_major": 2,
       "version_minor": 0
      },
      "text/plain": [
       "Map:   0%|          | 0/928 [00:00<?, ? examples/s]"
      ]
     },
     "metadata": {},
     "output_type": "display_data"
    },
    {
     "name": "stderr",
     "output_type": "stream",
     "text": [
      "Evaluating: 100%|██████████| 29/29 [00:06<00:00,  4.30it/s]\n"
     ]
    },
    {
     "data": {
      "text/html": [],
      "text/plain": [
       "<IPython.core.display.HTML object>"
      ]
     },
     "metadata": {},
     "output_type": "display_data"
    },
    {
     "data": {
      "text/html": [
       "<br>    <style><br>        .wandb-row {<br>            display: flex;<br>            flex-direction: row;<br>            flex-wrap: wrap;<br>            justify-content: flex-start;<br>            width: 100%;<br>        }<br>        .wandb-col {<br>            display: flex;<br>            flex-direction: column;<br>            flex-basis: 100%;<br>            flex: 1;<br>            padding: 10px;<br>        }<br>    </style><br><div class=\"wandb-row\"><div class=\"wandb-col\"><h3>Run history:</h3><br/><table class=\"wandb\"><tr><td>accuracy</td><td>▁</td></tr><tr><td>extortion_f1</td><td>▁</td></tr><tr><td>general_conversation_f1</td><td>▁</td></tr><tr><td>macro_f1</td><td>▁</td></tr><tr><td>other_bullying_f1</td><td>▁</td></tr><tr><td>threat_f1</td><td>▁</td></tr><tr><td>workplace_bullying_f1</td><td>▁</td></tr></table><br/></div><div class=\"wandb-col\"><h3>Run summary:</h3><br/><table class=\"wandb\"><tr><td>accuracy</td><td>0.90086</td></tr><tr><td>extortion_f1</td><td>0.86869</td></tr><tr><td>general_conversation_f1</td><td>0.9434</td></tr><tr><td>macro_f1</td><td>0.90236</td></tr><tr><td>other_bullying_f1</td><td>0.85496</td></tr><tr><td>threat_f1</td><td>0.88333</td></tr><tr><td>workplace_bullying_f1</td><td>0.96144</td></tr></table><br/></div></div>"
      ],
      "text/plain": [
       "<IPython.core.display.HTML object>"
      ]
     },
     "metadata": {},
     "output_type": "display_data"
    },
    {
     "data": {
      "text/html": [
       " View run <strong style=\"color:#cdcd00\">KcELECTRA_16000_eda</strong> at: <a href='https://wandb.ai/jiwoong-team/DLThon-DKTC/runs/vwjq3rlx' target=\"_blank\">https://wandb.ai/jiwoong-team/DLThon-DKTC/runs/vwjq3rlx</a><br> View project at: <a href='https://wandb.ai/jiwoong-team/DLThon-DKTC' target=\"_blank\">https://wandb.ai/jiwoong-team/DLThon-DKTC</a><br>Synced 5 W&B file(s), 1 media file(s), 2 artifact file(s) and 0 other file(s)"
      ],
      "text/plain": [
       "<IPython.core.display.HTML object>"
      ]
     },
     "metadata": {},
     "output_type": "display_data"
    },
    {
     "data": {
      "text/html": [
       "Find logs at: <code>./wandb/run-20250506_151236-vwjq3rlx/logs</code>"
      ],
      "text/plain": [
       "<IPython.core.display.HTML object>"
      ]
     },
     "metadata": {},
     "output_type": "display_data"
    }
   ],
   "source": [
    "model1 = ElectraForSequenceClassification.from_pretrained(\"./results/model_1\").to(device)\n",
    "model2 = ElectraForSequenceClassification.from_pretrained(\"./results/model_2\").to(device)\n",
    "model3 = ElectraForSequenceClassification.from_pretrained(\"./results/model_3\").to(device)\n",
    "model4 = ElectraForSequenceClassification.from_pretrained(\"./results/model_4\").to(device)\n",
    "model5 = ElectraForSequenceClassification.from_pretrained(\"./results/model_5\").to(device)\n",
    "model6 = ElectraForSequenceClassification.from_pretrained(\"./results/model_6\").to(device)\n",
    "# 모델 1: 원본 데이터만\n",
    "log_model_to_wandb(\n",
    "    model1,\n",
    "    run_name=\"KcELECTRA_original_only\",\n",
    "    notes=\"원본 데이터만 사용\",\n",
    "    X_train=X1, y_train=y1,\n",
    "    X_val=X_val_raw, y_val=y_val,\n",
    "    ordered_columns=ordered_columns\n",
    ")\n",
    "\n",
    "# 모델 2: 원본 + EDA\n",
    "log_model_to_wandb(\n",
    "    model2,\n",
    "    run_name=\"KcELECTRA_eda\",\n",
    "    notes=\"원본 + EDA 증강\",\n",
    "    X_train=X2, y_train=y2,\n",
    "    X_val=X_val_raw, y_val=y_val,\n",
    "    ordered_columns=ordered_columns\n",
    ")\n",
    "# 모델 2: 원본 + EDA\n",
    "log_model_to_wandb(\n",
    "    model3,\n",
    "    run_name=\"KcELECTRA_eda\",\n",
    "    notes=\"원본 + 1000\",\n",
    "    X_train=X3, y_train=y3,\n",
    "    X_val=X_val_raw, y_val=y_val,\n",
    "    ordered_columns=ordered_columns\n",
    ")\n",
    "\n",
    "# 모델 4:\n",
    "log_model_to_wandb(\n",
    "    model4,\n",
    "    run_name=\"KcELECTRA_synonym_eda\",\n",
    "    notes=\"원본 + 2000 + EDA 증강\",\n",
    "    X_train=X4_enc, y_train=y4_cat,\n",
    "    X_val=X_val_raw, y_val=y_val,\n",
    "    ordered_columns=ordered_columns\n",
    ")\n",
    "# 모델 5\n",
    "log_model_to_wandb(\n",
    "    model5,\n",
    "    run_name=\"KcELECTRA_synonym_eda\",\n",
    "    notes=\"원본 + 8000 + EDA 증강\",\n",
    "    X_train=X5, y_train=y5,\n",
    "    X_val=X_val_raw, y_val=y_val,\n",
    "    ordered_columns=ordered_columns\n",
    ")\n",
    "# 모델 4: 원본 + Synonym + EDA\n",
    "log_model_to_wandb(\n",
    "    model6,\n",
    "    run_name=\"KcELECTRA_16000_eda\",\n",
    "    notes=\"원본 + 160000 + EDA 증강\",\n",
    "    X_train=X6, y_train=y6,\n",
    "    X_val=X_val_raw, y_val=y_val,\n",
    "    ordered_columns=ordered_columns\n",
    ")\n",
    "\n"
   ]
  },
  {
   "cell_type": "code",
   "execution_count": 15,
   "metadata": {
    "colab": {
     "base_uri": "https://localhost:8080/",
     "height": 1000,
     "referenced_widgets": [
      "78aa558524944fbeb40953930b7bc295",
      "ff7ea88fc2a4483e8d217ae4dacc55d4",
      "974b5aff88de4edfbbedfd9df7734dde",
      "91d4ea86cc13455a800f49d02cb6c4e9",
      "1f649e2394024f189e18aa8217220661",
      "78a2cdfda01c459692dbe4e42f647f3e",
      "deca49167c8f4711be5ed236d5120cd2",
      "cad8cb61a2cc42efb85bc86bd6b8dda4",
      "a5501d474b0e45e39d5fcea2a3a5d150",
      "cdc3a3fdeba049c6a60c4656c0851b8f",
      "7140e8e654614ceb938272c9e345da60"
     ]
    },
    "id": "YNFI_EucsOAt",
    "outputId": "cb91f69e-1b09-4ed7-a1eb-864be494973f"
   },
   "outputs": [
    {
     "data": {
      "application/vnd.jupyter.widget-view+json": {
       "model_id": "78aa558524944fbeb40953930b7bc295",
       "version_major": 2,
       "version_minor": 0
      },
      "text/plain": [
       "Map:   0%|          | 0/928 [00:00<?, ? examples/s]"
      ]
     },
     "metadata": {},
     "output_type": "display_data"
    },
    {
     "name": "stdout",
     "output_type": "stream",
     "text": [
      "\n",
      " 모델별 confusion matrix 및 classification report\n",
      "\n",
      " 모델 1: 원본\n"
     ]
    },
    {
     "name": "stderr",
     "output_type": "stream",
     "text": [
      "<ipython-input-15-48dff5dd9374>:18: FutureWarning: `tokenizer` is deprecated and will be removed in version 5.0.0 for `Trainer.__init__`. Use `processing_class` instead.\n",
      "  trainer = Trainer(model=model, tokenizer=tokenizer)\n"
     ]
    },
    {
     "data": {
      "text/html": [],
      "text/plain": [
       "<IPython.core.display.HTML object>"
      ]
     },
     "metadata": {},
     "output_type": "display_data"
    },
    {
     "data": {
      "text/html": [
       "Tracking run with wandb version 0.19.10"
      ],
      "text/plain": [
       "<IPython.core.display.HTML object>"
      ]
     },
     "metadata": {},
     "output_type": "display_data"
    },
    {
     "data": {
      "text/html": [
       "Run data is saved locally in <code>/content/wandb/run-20250506_151254-hqf7ki86</code>"
      ],
      "text/plain": [
       "<IPython.core.display.HTML object>"
      ]
     },
     "metadata": {},
     "output_type": "display_data"
    },
    {
     "data": {
      "text/html": [
       "Syncing run <strong><a href='https://wandb.ai/jiwoong-team/huggingface/runs/hqf7ki86' target=\"_blank\">tmp_trainer</a></strong> to <a href='https://wandb.ai/jiwoong-team/huggingface' target=\"_blank\">Weights & Biases</a> (<a href='https://wandb.me/developer-guide' target=\"_blank\">docs</a>)<br>"
      ],
      "text/plain": [
       "<IPython.core.display.HTML object>"
      ]
     },
     "metadata": {},
     "output_type": "display_data"
    },
    {
     "data": {
      "text/html": [
       " View project at <a href='https://wandb.ai/jiwoong-team/huggingface' target=\"_blank\">https://wandb.ai/jiwoong-team/huggingface</a>"
      ],
      "text/plain": [
       "<IPython.core.display.HTML object>"
      ]
     },
     "metadata": {},
     "output_type": "display_data"
    },
    {
     "data": {
      "text/html": [
       " View run at <a href='https://wandb.ai/jiwoong-team/huggingface/runs/hqf7ki86' target=\"_blank\">https://wandb.ai/jiwoong-team/huggingface/runs/hqf7ki86</a>"
      ],
      "text/plain": [
       "<IPython.core.display.HTML object>"
      ]
     },
     "metadata": {},
     "output_type": "display_data"
    },
    {
     "name": "stdout",
     "output_type": "stream",
     "text": [
      "Confusion Matrix:\n",
      "[[153  10   3  13   0]\n",
      " [ 10 165   1  18   1]\n",
      " [  1   0 183   9   1]\n",
      " [  9  11   2 180   0]\n",
      " [  0   1   0   0 157]]\n"
     ]
    },
    {
     "name": "stderr",
     "output_type": "stream",
     "text": [
      "/usr/local/lib/python3.11/dist-packages/seaborn/utils.py:61: UserWarning: Glyph 54801 (\\N{HANGUL SYLLABLE HYEOB}) missing from font(s) DejaVu Sans.\n",
      "  fig.canvas.draw()\n",
      "/usr/local/lib/python3.11/dist-packages/seaborn/utils.py:61: UserWarning: Glyph 48149 (\\N{HANGUL SYLLABLE BAG}) missing from font(s) DejaVu Sans.\n",
      "  fig.canvas.draw()\n",
      "/usr/local/lib/python3.11/dist-packages/seaborn/utils.py:61: UserWarning: Glyph 45824 (\\N{HANGUL SYLLABLE DAE}) missing from font(s) DejaVu Sans.\n",
      "  fig.canvas.draw()\n",
      "/usr/local/lib/python3.11/dist-packages/seaborn/utils.py:61: UserWarning: Glyph 54868 (\\N{HANGUL SYLLABLE HWA}) missing from font(s) DejaVu Sans.\n",
      "  fig.canvas.draw()\n",
      "/usr/local/lib/python3.11/dist-packages/seaborn/utils.py:61: UserWarning: Glyph 44040 (\\N{HANGUL SYLLABLE GAL}) missing from font(s) DejaVu Sans.\n",
      "  fig.canvas.draw()\n",
      "/usr/local/lib/python3.11/dist-packages/seaborn/utils.py:61: UserWarning: Glyph 52712 (\\N{HANGUL SYLLABLE CWI}) missing from font(s) DejaVu Sans.\n",
      "  fig.canvas.draw()\n",
      "/usr/local/lib/python3.11/dist-packages/seaborn/utils.py:61: UserWarning: Glyph 51649 (\\N{HANGUL SYLLABLE JIG}) missing from font(s) DejaVu Sans.\n",
      "  fig.canvas.draw()\n",
      "/usr/local/lib/python3.11/dist-packages/seaborn/utils.py:61: UserWarning: Glyph 51109 (\\N{HANGUL SYLLABLE JANG}) missing from font(s) DejaVu Sans.\n",
      "  fig.canvas.draw()\n",
      "/usr/local/lib/python3.11/dist-packages/seaborn/utils.py:61: UserWarning: Glyph 45236 (\\N{HANGUL SYLLABLE NAE}) missing from font(s) DejaVu Sans.\n",
      "  fig.canvas.draw()\n",
      "/usr/local/lib/python3.11/dist-packages/seaborn/utils.py:61: UserWarning: Glyph 44340 (\\N{HANGUL SYLLABLE GOE}) missing from font(s) DejaVu Sans.\n",
      "  fig.canvas.draw()\n",
      "/usr/local/lib/python3.11/dist-packages/seaborn/utils.py:61: UserWarning: Glyph 47213 (\\N{HANGUL SYLLABLE ROB}) missing from font(s) DejaVu Sans.\n",
      "  fig.canvas.draw()\n",
      "/usr/local/lib/python3.11/dist-packages/seaborn/utils.py:61: UserWarning: Glyph 55192 (\\N{HANGUL SYLLABLE HIM}) missing from font(s) DejaVu Sans.\n",
      "  fig.canvas.draw()\n",
      "/usr/local/lib/python3.11/dist-packages/seaborn/utils.py:61: UserWarning: Glyph 44592 (\\N{HANGUL SYLLABLE GI}) missing from font(s) DejaVu Sans.\n",
      "  fig.canvas.draw()\n",
      "/usr/local/lib/python3.11/dist-packages/seaborn/utils.py:61: UserWarning: Glyph 53440 (\\N{HANGUL SYLLABLE TA}) missing from font(s) DejaVu Sans.\n",
      "  fig.canvas.draw()\n",
      "/usr/local/lib/python3.11/dist-packages/seaborn/utils.py:61: UserWarning: Glyph 51068 (\\N{HANGUL SYLLABLE IL}) missing from font(s) DejaVu Sans.\n",
      "  fig.canvas.draw()\n",
      "/usr/local/lib/python3.11/dist-packages/seaborn/utils.py:61: UserWarning: Glyph 48152 (\\N{HANGUL SYLLABLE BAN}) missing from font(s) DejaVu Sans.\n",
      "  fig.canvas.draw()\n",
      "/usr/local/lib/python3.11/dist-packages/IPython/core/pylabtools.py:151: UserWarning: Glyph 47784 (\\N{HANGUL SYLLABLE MO}) missing from font(s) DejaVu Sans.\n",
      "  fig.canvas.print_figure(bytes_io, **kw)\n",
      "/usr/local/lib/python3.11/dist-packages/IPython/core/pylabtools.py:151: UserWarning: Glyph 45944 (\\N{HANGUL SYLLABLE DEL}) missing from font(s) DejaVu Sans.\n",
      "  fig.canvas.print_figure(bytes_io, **kw)\n",
      "/usr/local/lib/python3.11/dist-packages/IPython/core/pylabtools.py:151: UserWarning: Glyph 50896 (\\N{HANGUL SYLLABLE WEON}) missing from font(s) DejaVu Sans.\n",
      "  fig.canvas.print_figure(bytes_io, **kw)\n",
      "/usr/local/lib/python3.11/dist-packages/IPython/core/pylabtools.py:151: UserWarning: Glyph 48376 (\\N{HANGUL SYLLABLE BON}) missing from font(s) DejaVu Sans.\n",
      "  fig.canvas.print_figure(bytes_io, **kw)\n",
      "/usr/local/lib/python3.11/dist-packages/IPython/core/pylabtools.py:151: UserWarning: Glyph 54801 (\\N{HANGUL SYLLABLE HYEOB}) missing from font(s) DejaVu Sans.\n",
      "  fig.canvas.print_figure(bytes_io, **kw)\n",
      "/usr/local/lib/python3.11/dist-packages/IPython/core/pylabtools.py:151: UserWarning: Glyph 48149 (\\N{HANGUL SYLLABLE BAG}) missing from font(s) DejaVu Sans.\n",
      "  fig.canvas.print_figure(bytes_io, **kw)\n",
      "/usr/local/lib/python3.11/dist-packages/IPython/core/pylabtools.py:151: UserWarning: Glyph 45824 (\\N{HANGUL SYLLABLE DAE}) missing from font(s) DejaVu Sans.\n",
      "  fig.canvas.print_figure(bytes_io, **kw)\n",
      "/usr/local/lib/python3.11/dist-packages/IPython/core/pylabtools.py:151: UserWarning: Glyph 54868 (\\N{HANGUL SYLLABLE HWA}) missing from font(s) DejaVu Sans.\n",
      "  fig.canvas.print_figure(bytes_io, **kw)\n",
      "/usr/local/lib/python3.11/dist-packages/IPython/core/pylabtools.py:151: UserWarning: Glyph 44040 (\\N{HANGUL SYLLABLE GAL}) missing from font(s) DejaVu Sans.\n",
      "  fig.canvas.print_figure(bytes_io, **kw)\n",
      "/usr/local/lib/python3.11/dist-packages/IPython/core/pylabtools.py:151: UserWarning: Glyph 52712 (\\N{HANGUL SYLLABLE CWI}) missing from font(s) DejaVu Sans.\n",
      "  fig.canvas.print_figure(bytes_io, **kw)\n",
      "/usr/local/lib/python3.11/dist-packages/IPython/core/pylabtools.py:151: UserWarning: Glyph 51649 (\\N{HANGUL SYLLABLE JIG}) missing from font(s) DejaVu Sans.\n",
      "  fig.canvas.print_figure(bytes_io, **kw)\n",
      "/usr/local/lib/python3.11/dist-packages/IPython/core/pylabtools.py:151: UserWarning: Glyph 51109 (\\N{HANGUL SYLLABLE JANG}) missing from font(s) DejaVu Sans.\n",
      "  fig.canvas.print_figure(bytes_io, **kw)\n",
      "/usr/local/lib/python3.11/dist-packages/IPython/core/pylabtools.py:151: UserWarning: Glyph 45236 (\\N{HANGUL SYLLABLE NAE}) missing from font(s) DejaVu Sans.\n",
      "  fig.canvas.print_figure(bytes_io, **kw)\n",
      "/usr/local/lib/python3.11/dist-packages/IPython/core/pylabtools.py:151: UserWarning: Glyph 44340 (\\N{HANGUL SYLLABLE GOE}) missing from font(s) DejaVu Sans.\n",
      "  fig.canvas.print_figure(bytes_io, **kw)\n",
      "/usr/local/lib/python3.11/dist-packages/IPython/core/pylabtools.py:151: UserWarning: Glyph 47213 (\\N{HANGUL SYLLABLE ROB}) missing from font(s) DejaVu Sans.\n",
      "  fig.canvas.print_figure(bytes_io, **kw)\n",
      "/usr/local/lib/python3.11/dist-packages/IPython/core/pylabtools.py:151: UserWarning: Glyph 55192 (\\N{HANGUL SYLLABLE HIM}) missing from font(s) DejaVu Sans.\n",
      "  fig.canvas.print_figure(bytes_io, **kw)\n",
      "/usr/local/lib/python3.11/dist-packages/IPython/core/pylabtools.py:151: UserWarning: Glyph 44592 (\\N{HANGUL SYLLABLE GI}) missing from font(s) DejaVu Sans.\n",
      "  fig.canvas.print_figure(bytes_io, **kw)\n",
      "/usr/local/lib/python3.11/dist-packages/IPython/core/pylabtools.py:151: UserWarning: Glyph 53440 (\\N{HANGUL SYLLABLE TA}) missing from font(s) DejaVu Sans.\n",
      "  fig.canvas.print_figure(bytes_io, **kw)\n",
      "/usr/local/lib/python3.11/dist-packages/IPython/core/pylabtools.py:151: UserWarning: Glyph 51068 (\\N{HANGUL SYLLABLE IL}) missing from font(s) DejaVu Sans.\n",
      "  fig.canvas.print_figure(bytes_io, **kw)\n",
      "/usr/local/lib/python3.11/dist-packages/IPython/core/pylabtools.py:151: UserWarning: Glyph 48152 (\\N{HANGUL SYLLABLE BAN}) missing from font(s) DejaVu Sans.\n",
      "  fig.canvas.print_figure(bytes_io, **kw)\n"
     ]
    },
    {
     "data": {
      "image/png": "[encoded data removed]",
      "text/plain": [
       "<Figure size 600x500 with 2 Axes>"
      ]
     },
     "metadata": {},
     "output_type": "display_data"
    },
    {
     "name": "stdout",
     "output_type": "stream",
     "text": [
      "Classification Report:\n",
      "              precision    recall  f1-score   support\n",
      "\n",
      "       협박 대화       0.88      0.85      0.87       179\n",
      "       갈취 대화       0.88      0.85      0.86       195\n",
      " 직장 내 괴롭힘 대화       0.97      0.94      0.96       194\n",
      "   기타 괴롭힘 대화       0.82      0.89      0.85       202\n",
      "       일반 대화       0.99      0.99      0.99       158\n",
      "\n",
      "    accuracy                           0.90       928\n",
      "   macro avg       0.91      0.91      0.91       928\n",
      "weighted avg       0.90      0.90      0.90       928\n",
      "\n",
      "\n",
      " 모델 2: 원본+EDA\n"
     ]
    },
    {
     "name": "stderr",
     "output_type": "stream",
     "text": [
      "<ipython-input-15-48dff5dd9374>:18: FutureWarning: `tokenizer` is deprecated and will be removed in version 5.0.0 for `Trainer.__init__`. Use `processing_class` instead.\n",
      "  trainer = Trainer(model=model, tokenizer=tokenizer)\n"
     ]
    },
    {
     "data": {
      "text/html": [],
      "text/plain": [
       "<IPython.core.display.HTML object>"
      ]
     },
     "metadata": {},
     "output_type": "display_data"
    },
    {
     "name": "stdout",
     "output_type": "stream",
     "text": [
      "Confusion Matrix:\n",
      "[[156  14   4   5   0]\n",
      " [  9 174   1  10   1]\n",
      " [  1   1 188   3   1]\n",
      " [ 13  14   1 174   0]\n",
      " [  0   0   0   0 158]]\n"
     ]
    },
    {
     "name": "stderr",
     "output_type": "stream",
     "text": [
      "/usr/local/lib/python3.11/dist-packages/seaborn/utils.py:61: UserWarning: Glyph 54801 (\\N{HANGUL SYLLABLE HYEOB}) missing from font(s) DejaVu Sans.\n",
      "  fig.canvas.draw()\n",
      "/usr/local/lib/python3.11/dist-packages/seaborn/utils.py:61: UserWarning: Glyph 48149 (\\N{HANGUL SYLLABLE BAG}) missing from font(s) DejaVu Sans.\n",
      "  fig.canvas.draw()\n",
      "/usr/local/lib/python3.11/dist-packages/seaborn/utils.py:61: UserWarning: Glyph 45824 (\\N{HANGUL SYLLABLE DAE}) missing from font(s) DejaVu Sans.\n",
      "  fig.canvas.draw()\n",
      "/usr/local/lib/python3.11/dist-packages/seaborn/utils.py:61: UserWarning: Glyph 54868 (\\N{HANGUL SYLLABLE HWA}) missing from font(s) DejaVu Sans.\n",
      "  fig.canvas.draw()\n",
      "/usr/local/lib/python3.11/dist-packages/seaborn/utils.py:61: UserWarning: Glyph 44040 (\\N{HANGUL SYLLABLE GAL}) missing from font(s) DejaVu Sans.\n",
      "  fig.canvas.draw()\n",
      "/usr/local/lib/python3.11/dist-packages/seaborn/utils.py:61: UserWarning: Glyph 52712 (\\N{HANGUL SYLLABLE CWI}) missing from font(s) DejaVu Sans.\n",
      "  fig.canvas.draw()\n",
      "/usr/local/lib/python3.11/dist-packages/seaborn/utils.py:61: UserWarning: Glyph 51649 (\\N{HANGUL SYLLABLE JIG}) missing from font(s) DejaVu Sans.\n",
      "  fig.canvas.draw()\n",
      "/usr/local/lib/python3.11/dist-packages/seaborn/utils.py:61: UserWarning: Glyph 51109 (\\N{HANGUL SYLLABLE JANG}) missing from font(s) DejaVu Sans.\n",
      "  fig.canvas.draw()\n",
      "/usr/local/lib/python3.11/dist-packages/seaborn/utils.py:61: UserWarning: Glyph 45236 (\\N{HANGUL SYLLABLE NAE}) missing from font(s) DejaVu Sans.\n",
      "  fig.canvas.draw()\n",
      "/usr/local/lib/python3.11/dist-packages/seaborn/utils.py:61: UserWarning: Glyph 44340 (\\N{HANGUL SYLLABLE GOE}) missing from font(s) DejaVu Sans.\n",
      "  fig.canvas.draw()\n",
      "/usr/local/lib/python3.11/dist-packages/seaborn/utils.py:61: UserWarning: Glyph 47213 (\\N{HANGUL SYLLABLE ROB}) missing from font(s) DejaVu Sans.\n",
      "  fig.canvas.draw()\n",
      "/usr/local/lib/python3.11/dist-packages/seaborn/utils.py:61: UserWarning: Glyph 55192 (\\N{HANGUL SYLLABLE HIM}) missing from font(s) DejaVu Sans.\n",
      "  fig.canvas.draw()\n",
      "/usr/local/lib/python3.11/dist-packages/seaborn/utils.py:61: UserWarning: Glyph 44592 (\\N{HANGUL SYLLABLE GI}) missing from font(s) DejaVu Sans.\n",
      "  fig.canvas.draw()\n",
      "/usr/local/lib/python3.11/dist-packages/seaborn/utils.py:61: UserWarning: Glyph 53440 (\\N{HANGUL SYLLABLE TA}) missing from font(s) DejaVu Sans.\n",
      "  fig.canvas.draw()\n",
      "/usr/local/lib/python3.11/dist-packages/seaborn/utils.py:61: UserWarning: Glyph 51068 (\\N{HANGUL SYLLABLE IL}) missing from font(s) DejaVu Sans.\n",
      "  fig.canvas.draw()\n",
      "/usr/local/lib/python3.11/dist-packages/seaborn/utils.py:61: UserWarning: Glyph 48152 (\\N{HANGUL SYLLABLE BAN}) missing from font(s) DejaVu Sans.\n",
      "  fig.canvas.draw()\n",
      "/usr/local/lib/python3.11/dist-packages/IPython/core/pylabtools.py:151: UserWarning: Glyph 47784 (\\N{HANGUL SYLLABLE MO}) missing from font(s) DejaVu Sans.\n",
      "  fig.canvas.print_figure(bytes_io, **kw)\n",
      "/usr/local/lib/python3.11/dist-packages/IPython/core/pylabtools.py:151: UserWarning: Glyph 45944 (\\N{HANGUL SYLLABLE DEL}) missing from font(s) DejaVu Sans.\n",
      "  fig.canvas.print_figure(bytes_io, **kw)\n",
      "/usr/local/lib/python3.11/dist-packages/IPython/core/pylabtools.py:151: UserWarning: Glyph 50896 (\\N{HANGUL SYLLABLE WEON}) missing from font(s) DejaVu Sans.\n",
      "  fig.canvas.print_figure(bytes_io, **kw)\n",
      "/usr/local/lib/python3.11/dist-packages/IPython/core/pylabtools.py:151: UserWarning: Glyph 48376 (\\N{HANGUL SYLLABLE BON}) missing from font(s) DejaVu Sans.\n",
      "  fig.canvas.print_figure(bytes_io, **kw)\n",
      "/usr/local/lib/python3.11/dist-packages/IPython/core/pylabtools.py:151: UserWarning: Glyph 54801 (\\N{HANGUL SYLLABLE HYEOB}) missing from font(s) DejaVu Sans.\n",
      "  fig.canvas.print_figure(bytes_io, **kw)\n",
      "/usr/local/lib/python3.11/dist-packages/IPython/core/pylabtools.py:151: UserWarning: Glyph 48149 (\\N{HANGUL SYLLABLE BAG}) missing from font(s) DejaVu Sans.\n",
      "  fig.canvas.print_figure(bytes_io, **kw)\n",
      "/usr/local/lib/python3.11/dist-packages/IPython/core/pylabtools.py:151: UserWarning: Glyph 45824 (\\N{HANGUL SYLLABLE DAE}) missing from font(s) DejaVu Sans.\n",
      "  fig.canvas.print_figure(bytes_io, **kw)\n",
      "/usr/local/lib/python3.11/dist-packages/IPython/core/pylabtools.py:151: UserWarning: Glyph 54868 (\\N{HANGUL SYLLABLE HWA}) missing from font(s) DejaVu Sans.\n",
      "  fig.canvas.print_figure(bytes_io, **kw)\n",
      "/usr/local/lib/python3.11/dist-packages/IPython/core/pylabtools.py:151: UserWarning: Glyph 44040 (\\N{HANGUL SYLLABLE GAL}) missing from font(s) DejaVu Sans.\n",
      "  fig.canvas.print_figure(bytes_io, **kw)\n",
      "/usr/local/lib/python3.11/dist-packages/IPython/core/pylabtools.py:151: UserWarning: Glyph 52712 (\\N{HANGUL SYLLABLE CWI}) missing from font(s) DejaVu Sans.\n",
      "  fig.canvas.print_figure(bytes_io, **kw)\n",
      "/usr/local/lib/python3.11/dist-packages/IPython/core/pylabtools.py:151: UserWarning: Glyph 51649 (\\N{HANGUL SYLLABLE JIG}) missing from font(s) DejaVu Sans.\n",
      "  fig.canvas.print_figure(bytes_io, **kw)\n",
      "/usr/local/lib/python3.11/dist-packages/IPython/core/pylabtools.py:151: UserWarning: Glyph 51109 (\\N{HANGUL SYLLABLE JANG}) missing from font(s) DejaVu Sans.\n",
      "  fig.canvas.print_figure(bytes_io, **kw)\n",
      "/usr/local/lib/python3.11/dist-packages/IPython/core/pylabtools.py:151: UserWarning: Glyph 45236 (\\N{HANGUL SYLLABLE NAE}) missing from font(s) DejaVu Sans.\n",
      "  fig.canvas.print_figure(bytes_io, **kw)\n",
      "/usr/local/lib/python3.11/dist-packages/IPython/core/pylabtools.py:151: UserWarning: Glyph 44340 (\\N{HANGUL SYLLABLE GOE}) missing from font(s) DejaVu Sans.\n",
      "  fig.canvas.print_figure(bytes_io, **kw)\n",
      "/usr/local/lib/python3.11/dist-packages/IPython/core/pylabtools.py:151: UserWarning: Glyph 47213 (\\N{HANGUL SYLLABLE ROB}) missing from font(s) DejaVu Sans.\n",
      "  fig.canvas.print_figure(bytes_io, **kw)\n",
      "/usr/local/lib/python3.11/dist-packages/IPython/core/pylabtools.py:151: UserWarning: Glyph 55192 (\\N{HANGUL SYLLABLE HIM}) missing from font(s) DejaVu Sans.\n",
      "  fig.canvas.print_figure(bytes_io, **kw)\n",
      "/usr/local/lib/python3.11/dist-packages/IPython/core/pylabtools.py:151: UserWarning: Glyph 44592 (\\N{HANGUL SYLLABLE GI}) missing from font(s) DejaVu Sans.\n",
      "  fig.canvas.print_figure(bytes_io, **kw)\n",
      "/usr/local/lib/python3.11/dist-packages/IPython/core/pylabtools.py:151: UserWarning: Glyph 53440 (\\N{HANGUL SYLLABLE TA}) missing from font(s) DejaVu Sans.\n",
      "  fig.canvas.print_figure(bytes_io, **kw)\n",
      "/usr/local/lib/python3.11/dist-packages/IPython/core/pylabtools.py:151: UserWarning: Glyph 51068 (\\N{HANGUL SYLLABLE IL}) missing from font(s) DejaVu Sans.\n",
      "  fig.canvas.print_figure(bytes_io, **kw)\n",
      "/usr/local/lib/python3.11/dist-packages/IPython/core/pylabtools.py:151: UserWarning: Glyph 48152 (\\N{HANGUL SYLLABLE BAN}) missing from font(s) DejaVu Sans.\n",
      "  fig.canvas.print_figure(bytes_io, **kw)\n"
     ]
    },
    {
     "data": {
      "image/png": "[encoded data removed]",
      "text/plain": [
       "<Figure size 600x500 with 2 Axes>"
      ]
     },
     "metadata": {},
     "output_type": "display_data"
    },
    {
     "name": "stdout",
     "output_type": "stream",
     "text": [
      "Classification Report:\n",
      "              precision    recall  f1-score   support\n",
      "\n",
      "       협박 대화       0.87      0.87      0.87       179\n",
      "       갈취 대화       0.86      0.89      0.87       195\n",
      " 직장 내 괴롭힘 대화       0.97      0.97      0.97       194\n",
      "   기타 괴롭힘 대화       0.91      0.86      0.88       202\n",
      "       일반 대화       0.99      1.00      0.99       158\n",
      "\n",
      "    accuracy                           0.92       928\n",
      "   macro avg       0.92      0.92      0.92       928\n",
      "weighted avg       0.92      0.92      0.92       928\n",
      "\n",
      "\n",
      " 모델 3: 원본+1000\n"
     ]
    },
    {
     "name": "stderr",
     "output_type": "stream",
     "text": [
      "<ipython-input-15-48dff5dd9374>:18: FutureWarning: `tokenizer` is deprecated and will be removed in version 5.0.0 for `Trainer.__init__`. Use `processing_class` instead.\n",
      "  trainer = Trainer(model=model, tokenizer=tokenizer)\n"
     ]
    },
    {
     "data": {
      "text/html": [],
      "text/plain": [
       "<IPython.core.display.HTML object>"
      ]
     },
     "metadata": {},
     "output_type": "display_data"
    },
    {
     "name": "stdout",
     "output_type": "stream",
     "text": [
      "Confusion Matrix:\n",
      "[[150  16   3  10   0]\n",
      " [ 11 173   1  10   0]\n",
      " [  1   1 187   5   0]\n",
      " [ 11  16   4 168   3]\n",
      " [  3   7   4   7 137]]\n"
     ]
    },
    {
     "name": "stderr",
     "output_type": "stream",
     "text": [
      "/usr/local/lib/python3.11/dist-packages/seaborn/utils.py:61: UserWarning: Glyph 54801 (\\N{HANGUL SYLLABLE HYEOB}) missing from font(s) DejaVu Sans.\n",
      "  fig.canvas.draw()\n",
      "/usr/local/lib/python3.11/dist-packages/seaborn/utils.py:61: UserWarning: Glyph 48149 (\\N{HANGUL SYLLABLE BAG}) missing from font(s) DejaVu Sans.\n",
      "  fig.canvas.draw()\n",
      "/usr/local/lib/python3.11/dist-packages/seaborn/utils.py:61: UserWarning: Glyph 45824 (\\N{HANGUL SYLLABLE DAE}) missing from font(s) DejaVu Sans.\n",
      "  fig.canvas.draw()\n",
      "/usr/local/lib/python3.11/dist-packages/seaborn/utils.py:61: UserWarning: Glyph 54868 (\\N{HANGUL SYLLABLE HWA}) missing from font(s) DejaVu Sans.\n",
      "  fig.canvas.draw()\n",
      "/usr/local/lib/python3.11/dist-packages/seaborn/utils.py:61: UserWarning: Glyph 44040 (\\N{HANGUL SYLLABLE GAL}) missing from font(s) DejaVu Sans.\n",
      "  fig.canvas.draw()\n",
      "/usr/local/lib/python3.11/dist-packages/seaborn/utils.py:61: UserWarning: Glyph 52712 (\\N{HANGUL SYLLABLE CWI}) missing from font(s) DejaVu Sans.\n",
      "  fig.canvas.draw()\n",
      "/usr/local/lib/python3.11/dist-packages/seaborn/utils.py:61: UserWarning: Glyph 51649 (\\N{HANGUL SYLLABLE JIG}) missing from font(s) DejaVu Sans.\n",
      "  fig.canvas.draw()\n",
      "/usr/local/lib/python3.11/dist-packages/seaborn/utils.py:61: UserWarning: Glyph 51109 (\\N{HANGUL SYLLABLE JANG}) missing from font(s) DejaVu Sans.\n",
      "  fig.canvas.draw()\n",
      "/usr/local/lib/python3.11/dist-packages/seaborn/utils.py:61: UserWarning: Glyph 45236 (\\N{HANGUL SYLLABLE NAE}) missing from font(s) DejaVu Sans.\n",
      "  fig.canvas.draw()\n",
      "/usr/local/lib/python3.11/dist-packages/seaborn/utils.py:61: UserWarning: Glyph 44340 (\\N{HANGUL SYLLABLE GOE}) missing from font(s) DejaVu Sans.\n",
      "  fig.canvas.draw()\n",
      "/usr/local/lib/python3.11/dist-packages/seaborn/utils.py:61: UserWarning: Glyph 47213 (\\N{HANGUL SYLLABLE ROB}) missing from font(s) DejaVu Sans.\n",
      "  fig.canvas.draw()\n",
      "/usr/local/lib/python3.11/dist-packages/seaborn/utils.py:61: UserWarning: Glyph 55192 (\\N{HANGUL SYLLABLE HIM}) missing from font(s) DejaVu Sans.\n",
      "  fig.canvas.draw()\n",
      "/usr/local/lib/python3.11/dist-packages/seaborn/utils.py:61: UserWarning: Glyph 44592 (\\N{HANGUL SYLLABLE GI}) missing from font(s) DejaVu Sans.\n",
      "  fig.canvas.draw()\n",
      "/usr/local/lib/python3.11/dist-packages/seaborn/utils.py:61: UserWarning: Glyph 53440 (\\N{HANGUL SYLLABLE TA}) missing from font(s) DejaVu Sans.\n",
      "  fig.canvas.draw()\n",
      "/usr/local/lib/python3.11/dist-packages/seaborn/utils.py:61: UserWarning: Glyph 51068 (\\N{HANGUL SYLLABLE IL}) missing from font(s) DejaVu Sans.\n",
      "  fig.canvas.draw()\n",
      "/usr/local/lib/python3.11/dist-packages/seaborn/utils.py:61: UserWarning: Glyph 48152 (\\N{HANGUL SYLLABLE BAN}) missing from font(s) DejaVu Sans.\n",
      "  fig.canvas.draw()\n",
      "/usr/local/lib/python3.11/dist-packages/IPython/core/pylabtools.py:151: UserWarning: Glyph 47784 (\\N{HANGUL SYLLABLE MO}) missing from font(s) DejaVu Sans.\n",
      "  fig.canvas.print_figure(bytes_io, **kw)\n",
      "/usr/local/lib/python3.11/dist-packages/IPython/core/pylabtools.py:151: UserWarning: Glyph 45944 (\\N{HANGUL SYLLABLE DEL}) missing from font(s) DejaVu Sans.\n",
      "  fig.canvas.print_figure(bytes_io, **kw)\n",
      "/usr/local/lib/python3.11/dist-packages/IPython/core/pylabtools.py:151: UserWarning: Glyph 50896 (\\N{HANGUL SYLLABLE WEON}) missing from font(s) DejaVu Sans.\n",
      "  fig.canvas.print_figure(bytes_io, **kw)\n",
      "/usr/local/lib/python3.11/dist-packages/IPython/core/pylabtools.py:151: UserWarning: Glyph 48376 (\\N{HANGUL SYLLABLE BON}) missing from font(s) DejaVu Sans.\n",
      "  fig.canvas.print_figure(bytes_io, **kw)\n",
      "/usr/local/lib/python3.11/dist-packages/IPython/core/pylabtools.py:151: UserWarning: Glyph 54801 (\\N{HANGUL SYLLABLE HYEOB}) missing from font(s) DejaVu Sans.\n",
      "  fig.canvas.print_figure(bytes_io, **kw)\n",
      "/usr/local/lib/python3.11/dist-packages/IPython/core/pylabtools.py:151: UserWarning: Glyph 48149 (\\N{HANGUL SYLLABLE BAG}) missing from font(s) DejaVu Sans.\n",
      "  fig.canvas.print_figure(bytes_io, **kw)\n",
      "/usr/local/lib/python3.11/dist-packages/IPython/core/pylabtools.py:151: UserWarning: Glyph 45824 (\\N{HANGUL SYLLABLE DAE}) missing from font(s) DejaVu Sans.\n",
      "  fig.canvas.print_figure(bytes_io, **kw)\n",
      "/usr/local/lib/python3.11/dist-packages/IPython/core/pylabtools.py:151: UserWarning: Glyph 54868 (\\N{HANGUL SYLLABLE HWA}) missing from font(s) DejaVu Sans.\n",
      "  fig.canvas.print_figure(bytes_io, **kw)\n",
      "/usr/local/lib/python3.11/dist-packages/IPython/core/pylabtools.py:151: UserWarning: Glyph 44040 (\\N{HANGUL SYLLABLE GAL}) missing from font(s) DejaVu Sans.\n",
      "  fig.canvas.print_figure(bytes_io, **kw)\n",
      "/usr/local/lib/python3.11/dist-packages/IPython/core/pylabtools.py:151: UserWarning: Glyph 52712 (\\N{HANGUL SYLLABLE CWI}) missing from font(s) DejaVu Sans.\n",
      "  fig.canvas.print_figure(bytes_io, **kw)\n",
      "/usr/local/lib/python3.11/dist-packages/IPython/core/pylabtools.py:151: UserWarning: Glyph 51649 (\\N{HANGUL SYLLABLE JIG}) missing from font(s) DejaVu Sans.\n",
      "  fig.canvas.print_figure(bytes_io, **kw)\n",
      "/usr/local/lib/python3.11/dist-packages/IPython/core/pylabtools.py:151: UserWarning: Glyph 51109 (\\N{HANGUL SYLLABLE JANG}) missing from font(s) DejaVu Sans.\n",
      "  fig.canvas.print_figure(bytes_io, **kw)\n",
      "/usr/local/lib/python3.11/dist-packages/IPython/core/pylabtools.py:151: UserWarning: Glyph 45236 (\\N{HANGUL SYLLABLE NAE}) missing from font(s) DejaVu Sans.\n",
      "  fig.canvas.print_figure(bytes_io, **kw)\n",
      "/usr/local/lib/python3.11/dist-packages/IPython/core/pylabtools.py:151: UserWarning: Glyph 44340 (\\N{HANGUL SYLLABLE GOE}) missing from font(s) DejaVu Sans.\n",
      "  fig.canvas.print_figure(bytes_io, **kw)\n",
      "/usr/local/lib/python3.11/dist-packages/IPython/core/pylabtools.py:151: UserWarning: Glyph 47213 (\\N{HANGUL SYLLABLE ROB}) missing from font(s) DejaVu Sans.\n",
      "  fig.canvas.print_figure(bytes_io, **kw)\n",
      "/usr/local/lib/python3.11/dist-packages/IPython/core/pylabtools.py:151: UserWarning: Glyph 55192 (\\N{HANGUL SYLLABLE HIM}) missing from font(s) DejaVu Sans.\n",
      "  fig.canvas.print_figure(bytes_io, **kw)\n",
      "/usr/local/lib/python3.11/dist-packages/IPython/core/pylabtools.py:151: UserWarning: Glyph 44592 (\\N{HANGUL SYLLABLE GI}) missing from font(s) DejaVu Sans.\n",
      "  fig.canvas.print_figure(bytes_io, **kw)\n",
      "/usr/local/lib/python3.11/dist-packages/IPython/core/pylabtools.py:151: UserWarning: Glyph 53440 (\\N{HANGUL SYLLABLE TA}) missing from font(s) DejaVu Sans.\n",
      "  fig.canvas.print_figure(bytes_io, **kw)\n",
      "/usr/local/lib/python3.11/dist-packages/IPython/core/pylabtools.py:151: UserWarning: Glyph 51068 (\\N{HANGUL SYLLABLE IL}) missing from font(s) DejaVu Sans.\n",
      "  fig.canvas.print_figure(bytes_io, **kw)\n",
      "/usr/local/lib/python3.11/dist-packages/IPython/core/pylabtools.py:151: UserWarning: Glyph 48152 (\\N{HANGUL SYLLABLE BAN}) missing from font(s) DejaVu Sans.\n",
      "  fig.canvas.print_figure(bytes_io, **kw)\n"
     ]
    },
    {
     "data": {
      "image/png": "[encoded data removed]",
      "text/plain": [
       "<Figure size 600x500 with 2 Axes>"
      ]
     },
     "metadata": {},
     "output_type": "display_data"
    },
    {
     "name": "stdout",
     "output_type": "stream",
     "text": [
      "Classification Report:\n",
      "              precision    recall  f1-score   support\n",
      "\n",
      "       협박 대화       0.85      0.84      0.85       179\n",
      "       갈취 대화       0.81      0.89      0.85       195\n",
      " 직장 내 괴롭힘 대화       0.94      0.96      0.95       194\n",
      "   기타 괴롭힘 대화       0.84      0.83      0.84       202\n",
      "       일반 대화       0.98      0.87      0.92       158\n",
      "\n",
      "    accuracy                           0.88       928\n",
      "   macro avg       0.88      0.88      0.88       928\n",
      "weighted avg       0.88      0.88      0.88       928\n",
      "\n",
      "\n",
      " 모델 4: 원본+EDA+2000\n"
     ]
    },
    {
     "name": "stderr",
     "output_type": "stream",
     "text": [
      "<ipython-input-15-48dff5dd9374>:18: FutureWarning: `tokenizer` is deprecated and will be removed in version 5.0.0 for `Trainer.__init__`. Use `processing_class` instead.\n",
      "  trainer = Trainer(model=model, tokenizer=tokenizer)\n"
     ]
    },
    {
     "data": {
      "text/html": [],
      "text/plain": [
       "<IPython.core.display.HTML object>"
      ]
     },
     "metadata": {},
     "output_type": "display_data"
    },
    {
     "name": "stdout",
     "output_type": "stream",
     "text": [
      "Confusion Matrix:\n",
      "[[162   8   2   7   0]\n",
      " [ 13 167   1  12   2]\n",
      " [  2   0 188   4   0]\n",
      " [ 15  11   5 169   2]\n",
      " [  2   3   3   9 141]]\n"
     ]
    },
    {
     "name": "stderr",
     "output_type": "stream",
     "text": [
      "/usr/local/lib/python3.11/dist-packages/seaborn/utils.py:61: UserWarning: Glyph 54801 (\\N{HANGUL SYLLABLE HYEOB}) missing from font(s) DejaVu Sans.\n",
      "  fig.canvas.draw()\n",
      "/usr/local/lib/python3.11/dist-packages/seaborn/utils.py:61: UserWarning: Glyph 48149 (\\N{HANGUL SYLLABLE BAG}) missing from font(s) DejaVu Sans.\n",
      "  fig.canvas.draw()\n",
      "/usr/local/lib/python3.11/dist-packages/seaborn/utils.py:61: UserWarning: Glyph 45824 (\\N{HANGUL SYLLABLE DAE}) missing from font(s) DejaVu Sans.\n",
      "  fig.canvas.draw()\n",
      "/usr/local/lib/python3.11/dist-packages/seaborn/utils.py:61: UserWarning: Glyph 54868 (\\N{HANGUL SYLLABLE HWA}) missing from font(s) DejaVu Sans.\n",
      "  fig.canvas.draw()\n",
      "/usr/local/lib/python3.11/dist-packages/seaborn/utils.py:61: UserWarning: Glyph 44040 (\\N{HANGUL SYLLABLE GAL}) missing from font(s) DejaVu Sans.\n",
      "  fig.canvas.draw()\n",
      "/usr/local/lib/python3.11/dist-packages/seaborn/utils.py:61: UserWarning: Glyph 52712 (\\N{HANGUL SYLLABLE CWI}) missing from font(s) DejaVu Sans.\n",
      "  fig.canvas.draw()\n",
      "/usr/local/lib/python3.11/dist-packages/seaborn/utils.py:61: UserWarning: Glyph 51649 (\\N{HANGUL SYLLABLE JIG}) missing from font(s) DejaVu Sans.\n",
      "  fig.canvas.draw()\n",
      "/usr/local/lib/python3.11/dist-packages/seaborn/utils.py:61: UserWarning: Glyph 51109 (\\N{HANGUL SYLLABLE JANG}) missing from font(s) DejaVu Sans.\n",
      "  fig.canvas.draw()\n",
      "/usr/local/lib/python3.11/dist-packages/seaborn/utils.py:61: UserWarning: Glyph 45236 (\\N{HANGUL SYLLABLE NAE}) missing from font(s) DejaVu Sans.\n",
      "  fig.canvas.draw()\n",
      "/usr/local/lib/python3.11/dist-packages/seaborn/utils.py:61: UserWarning: Glyph 44340 (\\N{HANGUL SYLLABLE GOE}) missing from font(s) DejaVu Sans.\n",
      "  fig.canvas.draw()\n",
      "/usr/local/lib/python3.11/dist-packages/seaborn/utils.py:61: UserWarning: Glyph 47213 (\\N{HANGUL SYLLABLE ROB}) missing from font(s) DejaVu Sans.\n",
      "  fig.canvas.draw()\n",
      "/usr/local/lib/python3.11/dist-packages/seaborn/utils.py:61: UserWarning: Glyph 55192 (\\N{HANGUL SYLLABLE HIM}) missing from font(s) DejaVu Sans.\n",
      "  fig.canvas.draw()\n",
      "/usr/local/lib/python3.11/dist-packages/seaborn/utils.py:61: UserWarning: Glyph 44592 (\\N{HANGUL SYLLABLE GI}) missing from font(s) DejaVu Sans.\n",
      "  fig.canvas.draw()\n",
      "/usr/local/lib/python3.11/dist-packages/seaborn/utils.py:61: UserWarning: Glyph 53440 (\\N{HANGUL SYLLABLE TA}) missing from font(s) DejaVu Sans.\n",
      "  fig.canvas.draw()\n",
      "/usr/local/lib/python3.11/dist-packages/seaborn/utils.py:61: UserWarning: Glyph 51068 (\\N{HANGUL SYLLABLE IL}) missing from font(s) DejaVu Sans.\n",
      "  fig.canvas.draw()\n",
      "/usr/local/lib/python3.11/dist-packages/seaborn/utils.py:61: UserWarning: Glyph 48152 (\\N{HANGUL SYLLABLE BAN}) missing from font(s) DejaVu Sans.\n",
      "  fig.canvas.draw()\n",
      "/usr/local/lib/python3.11/dist-packages/IPython/core/pylabtools.py:151: UserWarning: Glyph 47784 (\\N{HANGUL SYLLABLE MO}) missing from font(s) DejaVu Sans.\n",
      "  fig.canvas.print_figure(bytes_io, **kw)\n",
      "/usr/local/lib/python3.11/dist-packages/IPython/core/pylabtools.py:151: UserWarning: Glyph 45944 (\\N{HANGUL SYLLABLE DEL}) missing from font(s) DejaVu Sans.\n",
      "  fig.canvas.print_figure(bytes_io, **kw)\n",
      "/usr/local/lib/python3.11/dist-packages/IPython/core/pylabtools.py:151: UserWarning: Glyph 50896 (\\N{HANGUL SYLLABLE WEON}) missing from font(s) DejaVu Sans.\n",
      "  fig.canvas.print_figure(bytes_io, **kw)\n",
      "/usr/local/lib/python3.11/dist-packages/IPython/core/pylabtools.py:151: UserWarning: Glyph 48376 (\\N{HANGUL SYLLABLE BON}) missing from font(s) DejaVu Sans.\n",
      "  fig.canvas.print_figure(bytes_io, **kw)\n",
      "/usr/local/lib/python3.11/dist-packages/IPython/core/pylabtools.py:151: UserWarning: Glyph 54801 (\\N{HANGUL SYLLABLE HYEOB}) missing from font(s) DejaVu Sans.\n",
      "  fig.canvas.print_figure(bytes_io, **kw)\n",
      "/usr/local/lib/python3.11/dist-packages/IPython/core/pylabtools.py:151: UserWarning: Glyph 48149 (\\N{HANGUL SYLLABLE BAG}) missing from font(s) DejaVu Sans.\n",
      "  fig.canvas.print_figure(bytes_io, **kw)\n",
      "/usr/local/lib/python3.11/dist-packages/IPython/core/pylabtools.py:151: UserWarning: Glyph 45824 (\\N{HANGUL SYLLABLE DAE}) missing from font(s) DejaVu Sans.\n",
      "  fig.canvas.print_figure(bytes_io, **kw)\n",
      "/usr/local/lib/python3.11/dist-packages/IPython/core/pylabtools.py:151: UserWarning: Glyph 54868 (\\N{HANGUL SYLLABLE HWA}) missing from font(s) DejaVu Sans.\n",
      "  fig.canvas.print_figure(bytes_io, **kw)\n",
      "/usr/local/lib/python3.11/dist-packages/IPython/core/pylabtools.py:151: UserWarning: Glyph 44040 (\\N{HANGUL SYLLABLE GAL}) missing from font(s) DejaVu Sans.\n",
      "  fig.canvas.print_figure(bytes_io, **kw)\n",
      "/usr/local/lib/python3.11/dist-packages/IPython/core/pylabtools.py:151: UserWarning: Glyph 52712 (\\N{HANGUL SYLLABLE CWI}) missing from font(s) DejaVu Sans.\n",
      "  fig.canvas.print_figure(bytes_io, **kw)\n",
      "/usr/local/lib/python3.11/dist-packages/IPython/core/pylabtools.py:151: UserWarning: Glyph 51649 (\\N{HANGUL SYLLABLE JIG}) missing from font(s) DejaVu Sans.\n",
      "  fig.canvas.print_figure(bytes_io, **kw)\n",
      "/usr/local/lib/python3.11/dist-packages/IPython/core/pylabtools.py:151: UserWarning: Glyph 51109 (\\N{HANGUL SYLLABLE JANG}) missing from font(s) DejaVu Sans.\n",
      "  fig.canvas.print_figure(bytes_io, **kw)\n",
      "/usr/local/lib/python3.11/dist-packages/IPython/core/pylabtools.py:151: UserWarning: Glyph 45236 (\\N{HANGUL SYLLABLE NAE}) missing from font(s) DejaVu Sans.\n",
      "  fig.canvas.print_figure(bytes_io, **kw)\n",
      "/usr/local/lib/python3.11/dist-packages/IPython/core/pylabtools.py:151: UserWarning: Glyph 44340 (\\N{HANGUL SYLLABLE GOE}) missing from font(s) DejaVu Sans.\n",
      "  fig.canvas.print_figure(bytes_io, **kw)\n",
      "/usr/local/lib/python3.11/dist-packages/IPython/core/pylabtools.py:151: UserWarning: Glyph 47213 (\\N{HANGUL SYLLABLE ROB}) missing from font(s) DejaVu Sans.\n",
      "  fig.canvas.print_figure(bytes_io, **kw)\n",
      "/usr/local/lib/python3.11/dist-packages/IPython/core/pylabtools.py:151: UserWarning: Glyph 55192 (\\N{HANGUL SYLLABLE HIM}) missing from font(s) DejaVu Sans.\n",
      "  fig.canvas.print_figure(bytes_io, **kw)\n",
      "/usr/local/lib/python3.11/dist-packages/IPython/core/pylabtools.py:151: UserWarning: Glyph 44592 (\\N{HANGUL SYLLABLE GI}) missing from font(s) DejaVu Sans.\n",
      "  fig.canvas.print_figure(bytes_io, **kw)\n",
      "/usr/local/lib/python3.11/dist-packages/IPython/core/pylabtools.py:151: UserWarning: Glyph 53440 (\\N{HANGUL SYLLABLE TA}) missing from font(s) DejaVu Sans.\n",
      "  fig.canvas.print_figure(bytes_io, **kw)\n",
      "/usr/local/lib/python3.11/dist-packages/IPython/core/pylabtools.py:151: UserWarning: Glyph 51068 (\\N{HANGUL SYLLABLE IL}) missing from font(s) DejaVu Sans.\n",
      "  fig.canvas.print_figure(bytes_io, **kw)\n",
      "/usr/local/lib/python3.11/dist-packages/IPython/core/pylabtools.py:151: UserWarning: Glyph 48152 (\\N{HANGUL SYLLABLE BAN}) missing from font(s) DejaVu Sans.\n",
      "  fig.canvas.print_figure(bytes_io, **kw)\n"
     ]
    },
    {
     "data": {
      "image/png": "[encoded data removed]",
      "text/plain": [
       "<Figure size 600x500 with 2 Axes>"
      ]
     },
     "metadata": {},
     "output_type": "display_data"
    },
    {
     "name": "stdout",
     "output_type": "stream",
     "text": [
      "Classification Report:\n",
      "              precision    recall  f1-score   support\n",
      "\n",
      "       협박 대화       0.84      0.91      0.87       179\n",
      "       갈취 대화       0.88      0.86      0.87       195\n",
      " 직장 내 괴롭힘 대화       0.94      0.97      0.96       194\n",
      "   기타 괴롭힘 대화       0.84      0.84      0.84       202\n",
      "       일반 대화       0.97      0.89      0.93       158\n",
      "\n",
      "    accuracy                           0.89       928\n",
      "   macro avg       0.90      0.89      0.89       928\n",
      "weighted avg       0.89      0.89      0.89       928\n",
      "\n",
      "\n",
      " 모델 5: 원본+EDA+8000\n"
     ]
    },
    {
     "name": "stderr",
     "output_type": "stream",
     "text": [
      "<ipython-input-15-48dff5dd9374>:18: FutureWarning: `tokenizer` is deprecated and will be removed in version 5.0.0 for `Trainer.__init__`. Use `processing_class` instead.\n",
      "  trainer = Trainer(model=model, tokenizer=tokenizer)\n"
     ]
    },
    {
     "data": {
      "text/html": [],
      "text/plain": [
       "<IPython.core.display.HTML object>"
      ]
     },
     "metadata": {},
     "output_type": "display_data"
    },
    {
     "name": "stdout",
     "output_type": "stream",
     "text": [
      "Confusion Matrix:\n",
      "[[161   8   4   6   0]\n",
      " [ 11 169   2  10   3]\n",
      " [  1   0 188   5   0]\n",
      " [ 10  14   4 174   0]\n",
      " [  0   2   1   7 148]]\n"
     ]
    },
    {
     "name": "stderr",
     "output_type": "stream",
     "text": [
      "/usr/local/lib/python3.11/dist-packages/seaborn/utils.py:61: UserWarning: Glyph 54801 (\\N{HANGUL SYLLABLE HYEOB}) missing from font(s) DejaVu Sans.\n",
      "  fig.canvas.draw()\n",
      "/usr/local/lib/python3.11/dist-packages/seaborn/utils.py:61: UserWarning: Glyph 48149 (\\N{HANGUL SYLLABLE BAG}) missing from font(s) DejaVu Sans.\n",
      "  fig.canvas.draw()\n",
      "/usr/local/lib/python3.11/dist-packages/seaborn/utils.py:61: UserWarning: Glyph 45824 (\\N{HANGUL SYLLABLE DAE}) missing from font(s) DejaVu Sans.\n",
      "  fig.canvas.draw()\n",
      "/usr/local/lib/python3.11/dist-packages/seaborn/utils.py:61: UserWarning: Glyph 54868 (\\N{HANGUL SYLLABLE HWA}) missing from font(s) DejaVu Sans.\n",
      "  fig.canvas.draw()\n",
      "/usr/local/lib/python3.11/dist-packages/seaborn/utils.py:61: UserWarning: Glyph 44040 (\\N{HANGUL SYLLABLE GAL}) missing from font(s) DejaVu Sans.\n",
      "  fig.canvas.draw()\n",
      "/usr/local/lib/python3.11/dist-packages/seaborn/utils.py:61: UserWarning: Glyph 52712 (\\N{HANGUL SYLLABLE CWI}) missing from font(s) DejaVu Sans.\n",
      "  fig.canvas.draw()\n",
      "/usr/local/lib/python3.11/dist-packages/seaborn/utils.py:61: UserWarning: Glyph 51649 (\\N{HANGUL SYLLABLE JIG}) missing from font(s) DejaVu Sans.\n",
      "  fig.canvas.draw()\n",
      "/usr/local/lib/python3.11/dist-packages/seaborn/utils.py:61: UserWarning: Glyph 51109 (\\N{HANGUL SYLLABLE JANG}) missing from font(s) DejaVu Sans.\n",
      "  fig.canvas.draw()\n",
      "/usr/local/lib/python3.11/dist-packages/seaborn/utils.py:61: UserWarning: Glyph 45236 (\\N{HANGUL SYLLABLE NAE}) missing from font(s) DejaVu Sans.\n",
      "  fig.canvas.draw()\n",
      "/usr/local/lib/python3.11/dist-packages/seaborn/utils.py:61: UserWarning: Glyph 44340 (\\N{HANGUL SYLLABLE GOE}) missing from font(s) DejaVu Sans.\n",
      "  fig.canvas.draw()\n",
      "/usr/local/lib/python3.11/dist-packages/seaborn/utils.py:61: UserWarning: Glyph 47213 (\\N{HANGUL SYLLABLE ROB}) missing from font(s) DejaVu Sans.\n",
      "  fig.canvas.draw()\n",
      "/usr/local/lib/python3.11/dist-packages/seaborn/utils.py:61: UserWarning: Glyph 55192 (\\N{HANGUL SYLLABLE HIM}) missing from font(s) DejaVu Sans.\n",
      "  fig.canvas.draw()\n",
      "/usr/local/lib/python3.11/dist-packages/seaborn/utils.py:61: UserWarning: Glyph 44592 (\\N{HANGUL SYLLABLE GI}) missing from font(s) DejaVu Sans.\n",
      "  fig.canvas.draw()\n",
      "/usr/local/lib/python3.11/dist-packages/seaborn/utils.py:61: UserWarning: Glyph 53440 (\\N{HANGUL SYLLABLE TA}) missing from font(s) DejaVu Sans.\n",
      "  fig.canvas.draw()\n",
      "/usr/local/lib/python3.11/dist-packages/seaborn/utils.py:61: UserWarning: Glyph 51068 (\\N{HANGUL SYLLABLE IL}) missing from font(s) DejaVu Sans.\n",
      "  fig.canvas.draw()\n",
      "/usr/local/lib/python3.11/dist-packages/seaborn/utils.py:61: UserWarning: Glyph 48152 (\\N{HANGUL SYLLABLE BAN}) missing from font(s) DejaVu Sans.\n",
      "  fig.canvas.draw()\n",
      "/usr/local/lib/python3.11/dist-packages/IPython/core/pylabtools.py:151: UserWarning: Glyph 47784 (\\N{HANGUL SYLLABLE MO}) missing from font(s) DejaVu Sans.\n",
      "  fig.canvas.print_figure(bytes_io, **kw)\n",
      "/usr/local/lib/python3.11/dist-packages/IPython/core/pylabtools.py:151: UserWarning: Glyph 45944 (\\N{HANGUL SYLLABLE DEL}) missing from font(s) DejaVu Sans.\n",
      "  fig.canvas.print_figure(bytes_io, **kw)\n",
      "/usr/local/lib/python3.11/dist-packages/IPython/core/pylabtools.py:151: UserWarning: Glyph 50896 (\\N{HANGUL SYLLABLE WEON}) missing from font(s) DejaVu Sans.\n",
      "  fig.canvas.print_figure(bytes_io, **kw)\n",
      "/usr/local/lib/python3.11/dist-packages/IPython/core/pylabtools.py:151: UserWarning: Glyph 48376 (\\N{HANGUL SYLLABLE BON}) missing from font(s) DejaVu Sans.\n",
      "  fig.canvas.print_figure(bytes_io, **kw)\n",
      "/usr/local/lib/python3.11/dist-packages/IPython/core/pylabtools.py:151: UserWarning: Glyph 54801 (\\N{HANGUL SYLLABLE HYEOB}) missing from font(s) DejaVu Sans.\n",
      "  fig.canvas.print_figure(bytes_io, **kw)\n",
      "/usr/local/lib/python3.11/dist-packages/IPython/core/pylabtools.py:151: UserWarning: Glyph 48149 (\\N{HANGUL SYLLABLE BAG}) missing from font(s) DejaVu Sans.\n",
      "  fig.canvas.print_figure(bytes_io, **kw)\n",
      "/usr/local/lib/python3.11/dist-packages/IPython/core/pylabtools.py:151: UserWarning: Glyph 45824 (\\N{HANGUL SYLLABLE DAE}) missing from font(s) DejaVu Sans.\n",
      "  fig.canvas.print_figure(bytes_io, **kw)\n",
      "/usr/local/lib/python3.11/dist-packages/IPython/core/pylabtools.py:151: UserWarning: Glyph 54868 (\\N{HANGUL SYLLABLE HWA}) missing from font(s) DejaVu Sans.\n",
      "  fig.canvas.print_figure(bytes_io, **kw)\n",
      "/usr/local/lib/python3.11/dist-packages/IPython/core/pylabtools.py:151: UserWarning: Glyph 44040 (\\N{HANGUL SYLLABLE GAL}) missing from font(s) DejaVu Sans.\n",
      "  fig.canvas.print_figure(bytes_io, **kw)\n",
      "/usr/local/lib/python3.11/dist-packages/IPython/core/pylabtools.py:151: UserWarning: Glyph 52712 (\\N{HANGUL SYLLABLE CWI}) missing from font(s) DejaVu Sans.\n",
      "  fig.canvas.print_figure(bytes_io, **kw)\n",
      "/usr/local/lib/python3.11/dist-packages/IPython/core/pylabtools.py:151: UserWarning: Glyph 51649 (\\N{HANGUL SYLLABLE JIG}) missing from font(s) DejaVu Sans.\n",
      "  fig.canvas.print_figure(bytes_io, **kw)\n",
      "/usr/local/lib/python3.11/dist-packages/IPython/core/pylabtools.py:151: UserWarning: Glyph 51109 (\\N{HANGUL SYLLABLE JANG}) missing from font(s) DejaVu Sans.\n",
      "  fig.canvas.print_figure(bytes_io, **kw)\n",
      "/usr/local/lib/python3.11/dist-packages/IPython/core/pylabtools.py:151: UserWarning: Glyph 45236 (\\N{HANGUL SYLLABLE NAE}) missing from font(s) DejaVu Sans.\n",
      "  fig.canvas.print_figure(bytes_io, **kw)\n",
      "/usr/local/lib/python3.11/dist-packages/IPython/core/pylabtools.py:151: UserWarning: Glyph 44340 (\\N{HANGUL SYLLABLE GOE}) missing from font(s) DejaVu Sans.\n",
      "  fig.canvas.print_figure(bytes_io, **kw)\n",
      "/usr/local/lib/python3.11/dist-packages/IPython/core/pylabtools.py:151: UserWarning: Glyph 47213 (\\N{HANGUL SYLLABLE ROB}) missing from font(s) DejaVu Sans.\n",
      "  fig.canvas.print_figure(bytes_io, **kw)\n",
      "/usr/local/lib/python3.11/dist-packages/IPython/core/pylabtools.py:151: UserWarning: Glyph 55192 (\\N{HANGUL SYLLABLE HIM}) missing from font(s) DejaVu Sans.\n",
      "  fig.canvas.print_figure(bytes_io, **kw)\n",
      "/usr/local/lib/python3.11/dist-packages/IPython/core/pylabtools.py:151: UserWarning: Glyph 44592 (\\N{HANGUL SYLLABLE GI}) missing from font(s) DejaVu Sans.\n",
      "  fig.canvas.print_figure(bytes_io, **kw)\n",
      "/usr/local/lib/python3.11/dist-packages/IPython/core/pylabtools.py:151: UserWarning: Glyph 53440 (\\N{HANGUL SYLLABLE TA}) missing from font(s) DejaVu Sans.\n",
      "  fig.canvas.print_figure(bytes_io, **kw)\n",
      "/usr/local/lib/python3.11/dist-packages/IPython/core/pylabtools.py:151: UserWarning: Glyph 51068 (\\N{HANGUL SYLLABLE IL}) missing from font(s) DejaVu Sans.\n",
      "  fig.canvas.print_figure(bytes_io, **kw)\n",
      "/usr/local/lib/python3.11/dist-packages/IPython/core/pylabtools.py:151: UserWarning: Glyph 48152 (\\N{HANGUL SYLLABLE BAN}) missing from font(s) DejaVu Sans.\n",
      "  fig.canvas.print_figure(bytes_io, **kw)\n"
     ]
    },
    {
     "data": {
      "image/png": "[encoded data removed]",
      "text/plain": [
       "<Figure size 600x500 with 2 Axes>"
      ]
     },
     "metadata": {},
     "output_type": "display_data"
    },
    {
     "name": "stdout",
     "output_type": "stream",
     "text": [
      "Classification Report:\n",
      "              precision    recall  f1-score   support\n",
      "\n",
      "       협박 대화       0.88      0.90      0.89       179\n",
      "       갈취 대화       0.88      0.87      0.87       195\n",
      " 직장 내 괴롭힘 대화       0.94      0.97      0.96       194\n",
      "   기타 괴롭힘 대화       0.86      0.86      0.86       202\n",
      "       일반 대화       0.98      0.94      0.96       158\n",
      "\n",
      "    accuracy                           0.91       928\n",
      "   macro avg       0.91      0.91      0.91       928\n",
      "weighted avg       0.91      0.91      0.91       928\n",
      "\n",
      "\n",
      " 모델 6: 원본+EDA+16000\n"
     ]
    },
    {
     "name": "stderr",
     "output_type": "stream",
     "text": [
      "<ipython-input-15-48dff5dd9374>:18: FutureWarning: `tokenizer` is deprecated and will be removed in version 5.0.0 for `Trainer.__init__`. Use `processing_class` instead.\n",
      "  trainer = Trainer(model=model, tokenizer=tokenizer)\n"
     ]
    },
    {
     "data": {
      "text/html": [],
      "text/plain": [
       "<IPython.core.display.HTML object>"
      ]
     },
     "metadata": {},
     "output_type": "display_data"
    },
    {
     "name": "stdout",
     "output_type": "stream",
     "text": [
      "Confusion Matrix:\n",
      "[[159  12   3   5   0]\n",
      " [  9 172   1   9   4]\n",
      " [  1   1 187   4   1]\n",
      " [ 12  14   3 168   5]\n",
      " [  0   2   1   5 150]]\n"
     ]
    },
    {
     "name": "stderr",
     "output_type": "stream",
     "text": [
      "/usr/local/lib/python3.11/dist-packages/seaborn/utils.py:61: UserWarning: Glyph 54801 (\\N{HANGUL SYLLABLE HYEOB}) missing from font(s) DejaVu Sans.\n",
      "  fig.canvas.draw()\n",
      "/usr/local/lib/python3.11/dist-packages/seaborn/utils.py:61: UserWarning: Glyph 48149 (\\N{HANGUL SYLLABLE BAG}) missing from font(s) DejaVu Sans.\n",
      "  fig.canvas.draw()\n",
      "/usr/local/lib/python3.11/dist-packages/seaborn/utils.py:61: UserWarning: Glyph 45824 (\\N{HANGUL SYLLABLE DAE}) missing from font(s) DejaVu Sans.\n",
      "  fig.canvas.draw()\n",
      "/usr/local/lib/python3.11/dist-packages/seaborn/utils.py:61: UserWarning: Glyph 54868 (\\N{HANGUL SYLLABLE HWA}) missing from font(s) DejaVu Sans.\n",
      "  fig.canvas.draw()\n",
      "/usr/local/lib/python3.11/dist-packages/seaborn/utils.py:61: UserWarning: Glyph 44040 (\\N{HANGUL SYLLABLE GAL}) missing from font(s) DejaVu Sans.\n",
      "  fig.canvas.draw()\n",
      "/usr/local/lib/python3.11/dist-packages/seaborn/utils.py:61: UserWarning: Glyph 52712 (\\N{HANGUL SYLLABLE CWI}) missing from font(s) DejaVu Sans.\n",
      "  fig.canvas.draw()\n",
      "/usr/local/lib/python3.11/dist-packages/seaborn/utils.py:61: UserWarning: Glyph 51649 (\\N{HANGUL SYLLABLE JIG}) missing from font(s) DejaVu Sans.\n",
      "  fig.canvas.draw()\n",
      "/usr/local/lib/python3.11/dist-packages/seaborn/utils.py:61: UserWarning: Glyph 51109 (\\N{HANGUL SYLLABLE JANG}) missing from font(s) DejaVu Sans.\n",
      "  fig.canvas.draw()\n",
      "/usr/local/lib/python3.11/dist-packages/seaborn/utils.py:61: UserWarning: Glyph 45236 (\\N{HANGUL SYLLABLE NAE}) missing from font(s) DejaVu Sans.\n",
      "  fig.canvas.draw()\n",
      "/usr/local/lib/python3.11/dist-packages/seaborn/utils.py:61: UserWarning: Glyph 44340 (\\N{HANGUL SYLLABLE GOE}) missing from font(s) DejaVu Sans.\n",
      "  fig.canvas.draw()\n",
      "/usr/local/lib/python3.11/dist-packages/seaborn/utils.py:61: UserWarning: Glyph 47213 (\\N{HANGUL SYLLABLE ROB}) missing from font(s) DejaVu Sans.\n",
      "  fig.canvas.draw()\n",
      "/usr/local/lib/python3.11/dist-packages/seaborn/utils.py:61: UserWarning: Glyph 55192 (\\N{HANGUL SYLLABLE HIM}) missing from font(s) DejaVu Sans.\n",
      "  fig.canvas.draw()\n",
      "/usr/local/lib/python3.11/dist-packages/seaborn/utils.py:61: UserWarning: Glyph 44592 (\\N{HANGUL SYLLABLE GI}) missing from font(s) DejaVu Sans.\n",
      "  fig.canvas.draw()\n",
      "/usr/local/lib/python3.11/dist-packages/seaborn/utils.py:61: UserWarning: Glyph 53440 (\\N{HANGUL SYLLABLE TA}) missing from font(s) DejaVu Sans.\n",
      "  fig.canvas.draw()\n",
      "/usr/local/lib/python3.11/dist-packages/seaborn/utils.py:61: UserWarning: Glyph 51068 (\\N{HANGUL SYLLABLE IL}) missing from font(s) DejaVu Sans.\n",
      "  fig.canvas.draw()\n",
      "/usr/local/lib/python3.11/dist-packages/seaborn/utils.py:61: UserWarning: Glyph 48152 (\\N{HANGUL SYLLABLE BAN}) missing from font(s) DejaVu Sans.\n",
      "  fig.canvas.draw()\n",
      "/usr/local/lib/python3.11/dist-packages/IPython/core/pylabtools.py:151: UserWarning: Glyph 47784 (\\N{HANGUL SYLLABLE MO}) missing from font(s) DejaVu Sans.\n",
      "  fig.canvas.print_figure(bytes_io, **kw)\n",
      "/usr/local/lib/python3.11/dist-packages/IPython/core/pylabtools.py:151: UserWarning: Glyph 45944 (\\N{HANGUL SYLLABLE DEL}) missing from font(s) DejaVu Sans.\n",
      "  fig.canvas.print_figure(bytes_io, **kw)\n",
      "/usr/local/lib/python3.11/dist-packages/IPython/core/pylabtools.py:151: UserWarning: Glyph 50896 (\\N{HANGUL SYLLABLE WEON}) missing from font(s) DejaVu Sans.\n",
      "  fig.canvas.print_figure(bytes_io, **kw)\n",
      "/usr/local/lib/python3.11/dist-packages/IPython/core/pylabtools.py:151: UserWarning: Glyph 48376 (\\N{HANGUL SYLLABLE BON}) missing from font(s) DejaVu Sans.\n",
      "  fig.canvas.print_figure(bytes_io, **kw)\n",
      "/usr/local/lib/python3.11/dist-packages/IPython/core/pylabtools.py:151: UserWarning: Glyph 54801 (\\N{HANGUL SYLLABLE HYEOB}) missing from font(s) DejaVu Sans.\n",
      "  fig.canvas.print_figure(bytes_io, **kw)\n",
      "/usr/local/lib/python3.11/dist-packages/IPython/core/pylabtools.py:151: UserWarning: Glyph 48149 (\\N{HANGUL SYLLABLE BAG}) missing from font(s) DejaVu Sans.\n",
      "  fig.canvas.print_figure(bytes_io, **kw)\n",
      "/usr/local/lib/python3.11/dist-packages/IPython/core/pylabtools.py:151: UserWarning: Glyph 45824 (\\N{HANGUL SYLLABLE DAE}) missing from font(s) DejaVu Sans.\n",
      "  fig.canvas.print_figure(bytes_io, **kw)\n",
      "/usr/local/lib/python3.11/dist-packages/IPython/core/pylabtools.py:151: UserWarning: Glyph 54868 (\\N{HANGUL SYLLABLE HWA}) missing from font(s) DejaVu Sans.\n",
      "  fig.canvas.print_figure(bytes_io, **kw)\n",
      "/usr/local/lib/python3.11/dist-packages/IPython/core/pylabtools.py:151: UserWarning: Glyph 44040 (\\N{HANGUL SYLLABLE GAL}) missing from font(s) DejaVu Sans.\n",
      "  fig.canvas.print_figure(bytes_io, **kw)\n",
      "/usr/local/lib/python3.11/dist-packages/IPython/core/pylabtools.py:151: UserWarning: Glyph 52712 (\\N{HANGUL SYLLABLE CWI}) missing from font(s) DejaVu Sans.\n",
      "  fig.canvas.print_figure(bytes_io, **kw)\n",
      "/usr/local/lib/python3.11/dist-packages/IPython/core/pylabtools.py:151: UserWarning: Glyph 51649 (\\N{HANGUL SYLLABLE JIG}) missing from font(s) DejaVu Sans.\n",
      "  fig.canvas.print_figure(bytes_io, **kw)\n",
      "/usr/local/lib/python3.11/dist-packages/IPython/core/pylabtools.py:151: UserWarning: Glyph 51109 (\\N{HANGUL SYLLABLE JANG}) missing from font(s) DejaVu Sans.\n",
      "  fig.canvas.print_figure(bytes_io, **kw)\n",
      "/usr/local/lib/python3.11/dist-packages/IPython/core/pylabtools.py:151: UserWarning: Glyph 45236 (\\N{HANGUL SYLLABLE NAE}) missing from font(s) DejaVu Sans.\n",
      "  fig.canvas.print_figure(bytes_io, **kw)\n",
      "/usr/local/lib/python3.11/dist-packages/IPython/core/pylabtools.py:151: UserWarning: Glyph 44340 (\\N{HANGUL SYLLABLE GOE}) missing from font(s) DejaVu Sans.\n",
      "  fig.canvas.print_figure(bytes_io, **kw)\n",
      "/usr/local/lib/python3.11/dist-packages/IPython/core/pylabtools.py:151: UserWarning: Glyph 47213 (\\N{HANGUL SYLLABLE ROB}) missing from font(s) DejaVu Sans.\n",
      "  fig.canvas.print_figure(bytes_io, **kw)\n",
      "/usr/local/lib/python3.11/dist-packages/IPython/core/pylabtools.py:151: UserWarning: Glyph 55192 (\\N{HANGUL SYLLABLE HIM}) missing from font(s) DejaVu Sans.\n",
      "  fig.canvas.print_figure(bytes_io, **kw)\n",
      "/usr/local/lib/python3.11/dist-packages/IPython/core/pylabtools.py:151: UserWarning: Glyph 44592 (\\N{HANGUL SYLLABLE GI}) missing from font(s) DejaVu Sans.\n",
      "  fig.canvas.print_figure(bytes_io, **kw)\n",
      "/usr/local/lib/python3.11/dist-packages/IPython/core/pylabtools.py:151: UserWarning: Glyph 53440 (\\N{HANGUL SYLLABLE TA}) missing from font(s) DejaVu Sans.\n",
      "  fig.canvas.print_figure(bytes_io, **kw)\n",
      "/usr/local/lib/python3.11/dist-packages/IPython/core/pylabtools.py:151: UserWarning: Glyph 51068 (\\N{HANGUL SYLLABLE IL}) missing from font(s) DejaVu Sans.\n",
      "  fig.canvas.print_figure(bytes_io, **kw)\n",
      "/usr/local/lib/python3.11/dist-packages/IPython/core/pylabtools.py:151: UserWarning: Glyph 48152 (\\N{HANGUL SYLLABLE BAN}) missing from font(s) DejaVu Sans.\n",
      "  fig.canvas.print_figure(bytes_io, **kw)\n"
     ]
    },
    {
     "data": {
      "image/png": "[encoded data removed]",
      "text/plain": [
       "<Figure size 600x500 with 2 Axes>"
      ]
     },
     "metadata": {},
     "output_type": "display_data"
    },
    {
     "name": "stdout",
     "output_type": "stream",
     "text": [
      "Classification Report:\n",
      "              precision    recall  f1-score   support\n",
      "\n",
      "       협박 대화       0.88      0.89      0.88       179\n",
      "       갈취 대화       0.86      0.88      0.87       195\n",
      " 직장 내 괴롭힘 대화       0.96      0.96      0.96       194\n",
      "   기타 괴롭힘 대화       0.88      0.83      0.85       202\n",
      "       일반 대화       0.94      0.95      0.94       158\n",
      "\n",
      "    accuracy                           0.90       928\n",
      "   macro avg       0.90      0.90      0.90       928\n",
      "weighted avg       0.90      0.90      0.90       928\n",
      "\n"
     ]
    }
   ],
   "source": [
    "from sklearn.metrics import classification_report, confusion_matrix\n",
    "import matplotlib.pyplot as plt\n",
    "import seaborn as sns\n",
    "\n",
    "# 검증셋 준비\n",
    "val_df = pd.DataFrame({\"text\": X_val_raw.tolist(), \"label\": y_val})\n",
    "val_dataset = Dataset.from_pandas(val_df).map(tokenize_function, batched=True)\n",
    "\n",
    "print(\"\\n 모델별 confusion matrix 및 classification report\")\n",
    "for i, name in enumerate(dataset_names, 1):\n",
    "    print(f\"\\n 모델 {i}: {name}\")\n",
    "\n",
    "    # 모델 불러오기\n",
    "    model_path = f\"./results/model_{i}\"\n",
    "    model = ElectraForSequenceClassification.from_pretrained(model_path).to(device)\n",
    "\n",
    "    # 평가용 Trainer\n",
    "    trainer = Trainer(model=model, tokenizer=tokenizer)\n",
    "\n",
    "    # 예측 수행\n",
    "    preds = trainer.predict(val_dataset)\n",
    "    y_pred = np.argmax(preds.predictions, axis=1)\n",
    "    y_true = y_val\n",
    "\n",
    "    # confusion matrix 출력\n",
    "    cm = confusion_matrix(y_true, y_pred)\n",
    "    print(\"Confusion Matrix:\")\n",
    "    print(cm)\n",
    "\n",
    "    # 시각화\n",
    "    plt.figure(figsize=(6, 5))\n",
    "    sns.heatmap(cm, annot=True, fmt='d', cmap='Blues', xticklabels=ordered_columns, yticklabels=ordered_columns)\n",
    "    plt.title(f\"Confusion Matrix - 모델 {i}: {name}\")\n",
    "    plt.xlabel(\"Predicted\")\n",
    "    plt.ylabel(\"True\")\n",
    "    plt.show()\n",
    "\n",
    "    # classification report\n",
    "    print(\"Classification Report:\")\n",
    "    print(classification_report(y_true, y_pred, target_names=ordered_columns))\n"
   ]
  },
  {
   "cell_type": "code",
   "execution_count": 16,
   "metadata": {
    "colab": {
     "base_uri": "https://localhost:8080/",
     "height": 49,
     "referenced_widgets": [
      "be6a0a68087d4efb90e2eae7cf392467",
      "6ce6795d8bc64039a7ac82034c3bf3d4",
      "c9a4ff51a649430d813b5052da8126f8",
      "cf99c7633a3242449f3b82a0d513c860",
      "dfd4e199c7d0465784765f327dc92b87",
      "76369a28b3d248889d36e4b80a0849a8",
      "cccb771ee67a4d7591aa04f39e631f08",
      "16ac5e4a89c54ef99ff617b671c6f26d",
      "0e46253989ad44809bb0c496b0f8c373",
      "4232e492d2324258a020ea48e5231285",
      "650d3e84c0cd4e4392f7092e3ea7ad51"
     ]
    },
    "id": "2nTONl_BsOUK",
    "outputId": "e2075b89-9b61-4f0b-97a4-7500a093fee5"
   },
   "outputs": [
    {
     "data": {
      "application/vnd.jupyter.widget-view+json": {
       "model_id": "be6a0a68087d4efb90e2eae7cf392467",
       "version_major": 2,
       "version_minor": 0
      },
      "text/plain": [
       "Map:   0%|          | 0/500 [00:00<?, ? examples/s]"
      ]
     },
     "metadata": {},
     "output_type": "display_data"
    }
   ],
   "source": [
    "test_df = pd.read_csv(test_url)\n",
    "test_df.columns = test_df.columns.str.strip().str.lower()\n",
    "test_df = test_df.rename(columns={\"conversation\": \"text\"})\n",
    "test_dataset = Dataset.from_pandas(test_df)\n",
    "test_tokenized = test_dataset.map(lambda x: tokenizer(x[\"text\"], padding=\"max_length\", truncation=True, max_length=128), batched=True)"
   ]
  },
  {
   "cell_type": "code",
   "execution_count": 17,
   "metadata": {
    "colab": {
     "base_uri": "https://localhost:8080/",
     "height": 588
    },
    "id": "L2f99Wq9sOaL",
    "outputId": "6d13980b-18bb-41ec-f212-48b779cc5a2c"
   },
   "outputs": [
    {
     "name": "stdout",
     "output_type": "stream",
     "text": [
      "\n",
      "▶ 모델 1 예측 및 제출 파일 생성\n"
     ]
    },
    {
     "name": "stderr",
     "output_type": "stream",
     "text": [
      "<ipython-input-17-0f38812df676>:17: FutureWarning: `tokenizer` is deprecated and will be removed in version 5.0.0 for `Trainer.__init__`. Use `processing_class` instead.\n",
      "  trainer = Trainer(model=model, tokenizer=tokenizer)\n"
     ]
    },
    {
     "data": {
      "text/html": [],
      "text/plain": [
       "<IPython.core.display.HTML object>"
      ]
     },
     "metadata": {},
     "output_type": "display_data"
    },
    {
     "name": "stdout",
     "output_type": "stream",
     "text": [
      "✅ submission_model1_final.csv 저장 완료\n",
      "\n",
      "▶ 모델 2 예측 및 제출 파일 생성\n"
     ]
    },
    {
     "name": "stderr",
     "output_type": "stream",
     "text": [
      "<ipython-input-17-0f38812df676>:17: FutureWarning: `tokenizer` is deprecated and will be removed in version 5.0.0 for `Trainer.__init__`. Use `processing_class` instead.\n",
      "  trainer = Trainer(model=model, tokenizer=tokenizer)\n"
     ]
    },
    {
     "data": {
      "text/html": [],
      "text/plain": [
       "<IPython.core.display.HTML object>"
      ]
     },
     "metadata": {},
     "output_type": "display_data"
    },
    {
     "name": "stdout",
     "output_type": "stream",
     "text": [
      "✅ submission_model2_final.csv 저장 완료\n",
      "\n",
      "▶ 모델 3 예측 및 제출 파일 생성\n"
     ]
    },
    {
     "name": "stderr",
     "output_type": "stream",
     "text": [
      "<ipython-input-17-0f38812df676>:17: FutureWarning: `tokenizer` is deprecated and will be removed in version 5.0.0 for `Trainer.__init__`. Use `processing_class` instead.\n",
      "  trainer = Trainer(model=model, tokenizer=tokenizer)\n"
     ]
    },
    {
     "data": {
      "text/html": [],
      "text/plain": [
       "<IPython.core.display.HTML object>"
      ]
     },
     "metadata": {},
     "output_type": "display_data"
    },
    {
     "name": "stdout",
     "output_type": "stream",
     "text": [
      "✅ submission_model3_final.csv 저장 완료\n",
      "\n",
      "▶ 모델 4 예측 및 제출 파일 생성\n"
     ]
    },
    {
     "name": "stderr",
     "output_type": "stream",
     "text": [
      "<ipython-input-17-0f38812df676>:17: FutureWarning: `tokenizer` is deprecated and will be removed in version 5.0.0 for `Trainer.__init__`. Use `processing_class` instead.\n",
      "  trainer = Trainer(model=model, tokenizer=tokenizer)\n"
     ]
    },
    {
     "data": {
      "text/html": [],
      "text/plain": [
       "<IPython.core.display.HTML object>"
      ]
     },
     "metadata": {},
     "output_type": "display_data"
    },
    {
     "name": "stdout",
     "output_type": "stream",
     "text": [
      "✅ submission_model4_final.csv 저장 완료\n",
      "\n",
      "▶ 모델 5 예측 및 제출 파일 생성\n"
     ]
    },
    {
     "name": "stderr",
     "output_type": "stream",
     "text": [
      "<ipython-input-17-0f38812df676>:17: FutureWarning: `tokenizer` is deprecated and will be removed in version 5.0.0 for `Trainer.__init__`. Use `processing_class` instead.\n",
      "  trainer = Trainer(model=model, tokenizer=tokenizer)\n"
     ]
    },
    {
     "data": {
      "text/html": [],
      "text/plain": [
       "<IPython.core.display.HTML object>"
      ]
     },
     "metadata": {},
     "output_type": "display_data"
    },
    {
     "name": "stdout",
     "output_type": "stream",
     "text": [
      "✅ submission_model5_final.csv 저장 완료\n",
      "\n",
      "▶ 모델 6 예측 및 제출 파일 생성\n"
     ]
    },
    {
     "name": "stderr",
     "output_type": "stream",
     "text": [
      "<ipython-input-17-0f38812df676>:17: FutureWarning: `tokenizer` is deprecated and will be removed in version 5.0.0 for `Trainer.__init__`. Use `processing_class` instead.\n",
      "  trainer = Trainer(model=model, tokenizer=tokenizer)\n"
     ]
    },
    {
     "data": {
      "text/html": [],
      "text/plain": [
       "<IPython.core.display.HTML object>"
      ]
     },
     "metadata": {},
     "output_type": "display_data"
    },
    {
     "name": "stdout",
     "output_type": "stream",
     "text": [
      "✅ submission_model6_final.csv 저장 완료\n"
     ]
    }
   ],
   "source": [
    "from sklearn.preprocessing import LabelEncoder\n",
    "from transformers import ElectraForSequenceClassification, Trainer\n",
    "\n",
    "# LabelEncoder 정의 및 학습\n",
    "class_list = [\"협박 대화\", \"갈취 대화\", \"직장 내 괴롭힘 대화\", \"기타 괴롭힘 대화\", \"일반 대화\"]\n",
    "le = LabelEncoder()\n",
    "le.fit(class_list)\n",
    "\n",
    "for i in range(1, 7):\n",
    "    print(f\"\\n▶ 모델 {i} 예측 및 제출 파일 생성\")\n",
    "\n",
    "    # 모델 로드\n",
    "    model_path = f\"./results/model_{i}\"\n",
    "    model = ElectraForSequenceClassification.from_pretrained(model_path).to(device)\n",
    "\n",
    "    # Trainer 설정\n",
    "    trainer = Trainer(model=model, tokenizer=tokenizer)\n",
    "\n",
    "    # 예측 수행\n",
    "    preds = trainer.predict(test_tokenized)\n",
    "    y_pred = np.argmax(preds.predictions, axis=1)\n",
    "\n",
    "    # 클래스명으로 변환 후 → 다시 숫자 라벨로 (LabelEncoder 기준)\n",
    "    class_names = le.inverse_transform(y_pred)\n",
    "    label_ids = le.transform(class_names).astype(int)  # 그대로 평가용 target\n",
    "\n",
    "    # 제출 파일 생성\n",
    "    submission = pd.DataFrame({\n",
    "        \"idx\": test_df[\"idx\"],\n",
    "        \"target\": label_ids  # 최종 숫자 라벨\n",
    "    })\n",
    "\n",
    "    submission.to_csv(f\"submission_model{i}_final.csv\", index=False, encoding=\"utf-8-sig\")\n",
    "    print(f\"✅ submission_model{i}_final.csv 저장 완료\")\n"
   ]
  },
  {
   "cell_type": "code",
   "execution_count": 20,
   "metadata": {
    "colab": {
     "base_uri": "https://localhost:8080/"
    },
    "id": "B8UET0MNsOgp",
    "outputId": "e869ce50-b043-4922-adce-9fc74d003da4"
   },
   "outputs": [
    {
     "name": "stdout",
     "output_type": "stream",
     "text": [
      "\n",
      " submission_model1_final.csv 클래스별 분포\n",
      "target\n",
      "0    104\n",
      "1    108\n",
      "2    110\n",
      "3    164\n",
      "4     14\n",
      "Name: count, dtype: int64\n",
      "\n",
      " submission_model2_final.csv 클래스별 분포\n",
      "target\n",
      "0     96\n",
      "1    120\n",
      "2    117\n",
      "3    154\n",
      "4     13\n",
      "Name: count, dtype: int64\n",
      "\n",
      " submission_model3_final.csv 클래스별 분포\n",
      "target\n",
      "0     97\n",
      "1    114\n",
      "2    108\n",
      "3    127\n",
      "4     54\n",
      "Name: count, dtype: int64\n",
      "\n",
      " submission_model4_final.csv 클래스별 분포\n",
      "target\n",
      "0     99\n",
      "1    110\n",
      "2    109\n",
      "3    119\n",
      "4     63\n",
      "Name: count, dtype: int64\n",
      "\n",
      " submission_model5_final.csv 클래스별 분포\n",
      "target\n",
      "0    102\n",
      "1    103\n",
      "2    108\n",
      "3    117\n",
      "4     70\n",
      "Name: count, dtype: int64\n",
      "\n",
      " submission_model6_final.csv 클래스별 분포\n",
      "target\n",
      "0    100\n",
      "1    103\n",
      "2    105\n",
      "3    110\n",
      "4     82\n",
      "Name: count, dtype: int64\n"
     ]
    }
   ],
   "source": [
    "# 분석 대상 파일 목록\n",
    "submission_files = [f\"submission_model{i}_final.csv\" for i in range(1, 7)]\n",
    "\n",
    "for file in submission_files:\n",
    "    print(f\"\\n {file} 클래스별 분포\")\n",
    "\n",
    "    df = pd.read_csv(file)\n",
    "\n",
    "    # 클래스별 개수 집계\n",
    "    class_counts = df[\"target\"].value_counts()\n",
    "\n",
    "    # 정렬 후 출력 (가나다순)\n",
    "    print(class_counts.sort_index())"
   ]
  },
  {
   "cell_type": "code",
   "execution_count": null,
   "metadata": {
    "id": "shoFwllOsOvb"
   },
   "outputs": [],
   "source": [
    "\n",
    "df = pd.read_csv(\"submission_model2_final.csv\")\n",
    "print(df.head(10\n",
    "              ))  # 또는 display(df) in Jupyter"
   ]
  },
  {
   "cell_type": "code",
   "execution_count": 23,
   "metadata": {
    "colab": {
     "base_uri": "https://localhost:8080/",
     "height": 17
    },
    "id": "YYEuSXYvsO2S",
    "outputId": "3e66dcb9-b7d5-4402-e2be-b73ec53355b3"
   },
   "outputs": [
    {
     "data": {
      "application/javascript": [
       "\n",
       "    async function download(id, filename, size) {\n",
       "      if (!google.colab.kernel.accessAllowed) {\n",
       "        return;\n",
       "      }\n",
       "      const div = document.createElement('div');\n",
       "      const label = document.createElement('label');\n",
       "      label.textContent = `Downloading \"${filename}\": `;\n",
       "      div.appendChild(label);\n",
       "      const progress = document.createElement('progress');\n",
       "      progress.max = size;\n",
       "      div.appendChild(progress);\n",
       "      document.body.appendChild(div);\n",
       "\n",
       "      const buffers = [];\n",
       "      let downloaded = 0;\n",
       "\n",
       "      const channel = await google.colab.kernel.comms.open(id);\n",
       "      // Send a message to notify the kernel that we're ready.\n",
       "      channel.send({})\n",
       "\n",
       "      for await (const message of channel.messages) {\n",
       "        // Send a message to notify the kernel that we're ready.\n",
       "        channel.send({})\n",
       "        if (message.buffers) {\n",
       "          for (const buffer of message.buffers) {\n",
       "            buffers.push(buffer);\n",
       "            downloaded += buffer.byteLength;\n",
       "            progress.value = downloaded;\n",
       "          }\n",
       "        }\n",
       "      }\n",
       "      const blob = new Blob(buffers, {type: 'application/binary'});\n",
       "      const a = document.createElement('a');\n",
       "      a.href = window.URL.createObjectURL(blob);\n",
       "      a.download = filename;\n",
       "      div.appendChild(a);\n",
       "      a.click();\n",
       "      div.remove();\n",
       "    }\n",
       "  "
      ],
      "text/plain": [
       "<IPython.core.display.Javascript object>"
      ]
     },
     "metadata": {},
     "output_type": "display_data"
    },
    {
     "data": {
      "application/javascript": [
       "download(\"download_aad974e9-9dbc-4567-a03f-d15017e28ab0\", \"submission_model2_final.csv\", 4014)"
      ],
      "text/plain": [
       "<IPython.core.display.Javascript object>"
      ]
     },
     "metadata": {},
     "output_type": "display_data"
    }
   ],
   "source": [
    "from google.colab import files\n",
    "files.download(\"submission_model2_final.csv\")"
   ]
  },
  {
   "cell_type": "code",
   "execution_count": 22,
   "metadata": {
    "colab": {
     "base_uri": "https://localhost:8080/",
     "height": 17
    },
    "id": "VHvKj8XIsO9R",
    "outputId": "cd845e6f-e215-40d4-e8c9-c6b31aa943d0"
   },
   "outputs": [
    {
     "data": {
      "application/javascript": [
       "\n",
       "    async function download(id, filename, size) {\n",
       "      if (!google.colab.kernel.accessAllowed) {\n",
       "        return;\n",
       "      }\n",
       "      const div = document.createElement('div');\n",
       "      const label = document.createElement('label');\n",
       "      label.textContent = `Downloading \"${filename}\": `;\n",
       "      div.appendChild(label);\n",
       "      const progress = document.createElement('progress');\n",
       "      progress.max = size;\n",
       "      div.appendChild(progress);\n",
       "      document.body.appendChild(div);\n",
       "\n",
       "      const buffers = [];\n",
       "      let downloaded = 0;\n",
       "\n",
       "      const channel = await google.colab.kernel.comms.open(id);\n",
       "      // Send a message to notify the kernel that we're ready.\n",
       "      channel.send({})\n",
       "\n",
       "      for await (const message of channel.messages) {\n",
       "        // Send a message to notify the kernel that we're ready.\n",
       "        channel.send({})\n",
       "        if (message.buffers) {\n",
       "          for (const buffer of message.buffers) {\n",
       "            buffers.push(buffer);\n",
       "            downloaded += buffer.byteLength;\n",
       "            progress.value = downloaded;\n",
       "          }\n",
       "        }\n",
       "      }\n",
       "      const blob = new Blob(buffers, {type: 'application/binary'});\n",
       "      const a = document.createElement('a');\n",
       "      a.href = window.URL.createObjectURL(blob);\n",
       "      a.download = filename;\n",
       "      div.appendChild(a);\n",
       "      a.click();\n",
       "      div.remove();\n",
       "    }\n",
       "  "
      ],
      "text/plain": [
       "<IPython.core.display.Javascript object>"
      ]
     },
     "metadata": {},
     "output_type": "display_data"
    },
    {
     "data": {
      "application/javascript": [
       "download(\"download_fa5d03cf-32dc-4865-9279-f802b11b4309\", \"submission_model5_final.csv\", 4014)"
      ],
      "text/plain": [
       "<IPython.core.display.Javascript object>"
      ]
     },
     "metadata": {},
     "output_type": "display_data"
    }
   ],
   "source": [
    "from google.colab import files\n",
    "files.download(\"submission_model5_final.csv\")"
   ]
  },
  {
   "cell_type": "code",
   "execution_count": null,
   "metadata": {
    "id": "tswa4Tyu9Wah"
   },
   "outputs": [],
   "source": []
  }
 ],
 "metadata": {
  "accelerator": "GPU",
  "colab": {
   "gpuType": "T4",
   "provenance": []
  },
  "kernelspec": {
   "display_name": "Python 3 (ipykernel)",
   "language": "python",
   "name": "python3"
  },
  "language_info": {
   "codemirror_mode": {
    "name": "ipython",
    "version": 3
   },
   "file_extension": ".py",
   "mimetype": "text/x-python",
   "name": "python",
   "nbconvert_exporter": "python",
   "pygments_lexer": "ipython3",
   "version": "3.9.7"
  }
 },
 "nbformat": 4,
 "nbformat_minor": 1
}
