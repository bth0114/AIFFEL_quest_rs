{
 "cells": [
  {
   "cell_type": "markdown",
   "id": "cac6341d",
   "metadata": {},
   "source": [
    "## train 데이타와 일반대화 데이타를 merge하여 하나의 파일로 만든다."
   ]
  },
  {
   "cell_type": "markdown",
   "id": "c3b8fb12",
   "metadata": {},
   "source": [
    "0. 파일 \n",
    "  - original_train_data : train_no_dup.csv\n",
    "  - 일반대화 데이타 : conversation_normal.csv\n",
    "1. train 데이타 내용 확인\n",
    "2. 중복 데이타와 null 데이타 확인\n",
    "3. original train과 일반 대화 데이타 merge\n",
    "4. merged train 데이타 csv 파일 저장\n",
    "5. validation용으로 나누어 별도 csv 파일 저장"
   ]
  },
  {
   "cell_type": "markdown",
   "id": "d6872bdc",
   "metadata": {},
   "source": [
    "### 1. train 데이타 내용 확인"
   ]
  },
  {
   "cell_type": "code",
   "execution_count": 1,
   "id": "e0bd75c7",
   "metadata": {},
   "outputs": [],
   "source": [
    "import os\n",
    "import pandas as pd\n",
    "import tensorflow\n",
    "import numpy as np"
   ]
  },
  {
   "cell_type": "code",
   "execution_count": 2,
   "id": "ddb9f0b0",
   "metadata": {
    "scrolled": true
   },
   "outputs": [
    {
     "data": {
      "text/html": [
       "<div>\n",
       "<style scoped>\n",
       "    .dataframe tbody tr th:only-of-type {\n",
       "        vertical-align: middle;\n",
       "    }\n",
       "\n",
       "    .dataframe tbody tr th {\n",
       "        vertical-align: top;\n",
       "    }\n",
       "\n",
       "    .dataframe thead th {\n",
       "        text-align: right;\n",
       "    }\n",
       "</style>\n",
       "<table border=\"1\" class=\"dataframe\">\n",
       "  <thead>\n",
       "    <tr style=\"text-align: right;\">\n",
       "      <th></th>\n",
       "      <th>idx</th>\n",
       "      <th>class</th>\n",
       "      <th>conversation</th>\n",
       "    </tr>\n",
       "  </thead>\n",
       "  <tbody>\n",
       "    <tr>\n",
       "      <th>0</th>\n",
       "      <td>3748</td>\n",
       "      <td>직장 내 괴롭힘 대화</td>\n",
       "      <td>지은씨 커피 좀 사와요.\\n그건 싫어요.\\n사오라면 사와야지 인턴주제.\\n그러니까요...</td>\n",
       "    </tr>\n",
       "    <tr>\n",
       "      <th>1</th>\n",
       "      <td>3149</td>\n",
       "      <td>직장 내 괴롭힘 대화</td>\n",
       "      <td>자 점심식사들 합시다\\n 와 점심시간이다. 과장님 밥 어디서 먹죠 오늘은?\\n 대리...</td>\n",
       "    </tr>\n",
       "    <tr>\n",
       "      <th>2</th>\n",
       "      <td>1866</td>\n",
       "      <td>협박 대화</td>\n",
       "      <td>어이 이쁜이 시간이 지났는데 약속을 안지키네\\n네.엄마가 아프셔서.\\n그래 엄마가 ...</td>\n",
       "    </tr>\n",
       "    <tr>\n",
       "      <th>3</th>\n",
       "      <td>1493</td>\n",
       "      <td>기타 괴롭힘 대화</td>\n",
       "      <td>우리 귀여운 철수야 여기 돈 줄테니까 핫도그랑 콜라좀 사다줄래? 남은 돈은 너 가져...</td>\n",
       "    </tr>\n",
       "    <tr>\n",
       "      <th>4</th>\n",
       "      <td>366</td>\n",
       "      <td>직장 내 괴롭힘 대화</td>\n",
       "      <td>어이 김대리\\n예 이부장님\\n오늘 하라고 했던 서류 정리 다 끝냈어?\\n아.그게 아...</td>\n",
       "    </tr>\n",
       "  </tbody>\n",
       "</table>\n",
       "</div>"
      ],
      "text/plain": [
       "    idx        class                                       conversation\n",
       "0  3748  직장 내 괴롭힘 대화  지은씨 커피 좀 사와요.\\n그건 싫어요.\\n사오라면 사와야지 인턴주제.\\n그러니까요...\n",
       "1  3149  직장 내 괴롭힘 대화  자 점심식사들 합시다\\n 와 점심시간이다. 과장님 밥 어디서 먹죠 오늘은?\\n 대리...\n",
       "2  1866        협박 대화  어이 이쁜이 시간이 지났는데 약속을 안지키네\\n네.엄마가 아프셔서.\\n그래 엄마가 ...\n",
       "3  1493    기타 괴롭힘 대화  우리 귀여운 철수야 여기 돈 줄테니까 핫도그랑 콜라좀 사다줄래? 남은 돈은 너 가져...\n",
       "4   366  직장 내 괴롭힘 대화  어이 김대리\\n예 이부장님\\n오늘 하라고 했던 서류 정리 다 끝냈어?\\n아.그게 아..."
      ]
     },
     "execution_count": 2,
     "metadata": {},
     "output_type": "execute_result"
    }
   ],
   "source": [
    "orig_train_path =\"../data/raw_csv/train_no_dup.csv\"\n",
    "orig_train = pd.read_csv(orig_train_path)\n",
    "orig_train.head()"
   ]
  },
  {
   "cell_type": "code",
   "execution_count": 3,
   "id": "58567d8d",
   "metadata": {},
   "outputs": [
    {
     "name": "stdout",
     "output_type": "stream",
     "text": [
      "기타 괴롭힘 대화      1011\n",
      "갈취 대화           973\n",
      "직장 내 괴롭힘 대화     970\n",
      "협박 대화           892\n",
      "Name: class, dtype: int64\n"
     ]
    },
    {
     "data": {
      "text/plain": [
       "(3846, 3)"
      ]
     },
     "execution_count": 3,
     "metadata": {},
     "output_type": "execute_result"
    }
   ],
   "source": [
    "class_counts = orig_train['class'].value_counts()\n",
    "\n",
    "print(class_counts)\n",
    "\n",
    "orig_train.shape"
   ]
  },
  {
   "cell_type": "code",
   "execution_count": 4,
   "id": "7a9a5cde",
   "metadata": {},
   "outputs": [
    {
     "data": {
      "text/html": [
       "<div>\n",
       "<style scoped>\n",
       "    .dataframe tbody tr th:only-of-type {\n",
       "        vertical-align: middle;\n",
       "    }\n",
       "\n",
       "    .dataframe tbody tr th {\n",
       "        vertical-align: top;\n",
       "    }\n",
       "\n",
       "    .dataframe thead th {\n",
       "        text-align: right;\n",
       "    }\n",
       "</style>\n",
       "<table border=\"1\" class=\"dataframe\">\n",
       "  <thead>\n",
       "    <tr style=\"text-align: right;\">\n",
       "      <th></th>\n",
       "      <th>idx</th>\n",
       "      <th>class</th>\n",
       "      <th>conversation</th>\n",
       "    </tr>\n",
       "  </thead>\n",
       "  <tbody>\n",
       "    <tr>\n",
       "      <th>0</th>\n",
       "      <td>4001</td>\n",
       "      <td>일반 대화</td>\n",
       "      <td>집에서 자주 만드는 음식 있어?\\n응, 김치찌개 자주 만들어.\\n오, 김치찌개! 어...</td>\n",
       "    </tr>\n",
       "    <tr>\n",
       "      <th>1</th>\n",
       "      <td>4002</td>\n",
       "      <td>일반 대화</td>\n",
       "      <td>너는 어떤 장르 좋아해?\\n나는 록 음악을 좋아해.\\n오, 록! 그럼 Queen 좋...</td>\n",
       "    </tr>\n",
       "    <tr>\n",
       "      <th>2</th>\n",
       "      <td>4003</td>\n",
       "      <td>일반 대화</td>\n",
       "      <td>오늘 점심 뭐 먹을까요?\\n저는 김밥 먹고 싶은데, 다른 사람들은 어떻게 생각해요?...</td>\n",
       "    </tr>\n",
       "    <tr>\n",
       "      <th>3</th>\n",
       "      <td>4004</td>\n",
       "      <td>일반 대화</td>\n",
       "      <td>과제 다 했어?\\n아직이야. 너무 많아.\\n나도 겨우 끝냈어.\\n우리 같이 도서관 갈래?</td>\n",
       "    </tr>\n",
       "    <tr>\n",
       "      <th>4</th>\n",
       "      <td>4005</td>\n",
       "      <td>일반 대화</td>\n",
       "      <td>이 장난감은 여러 가지 색상 중에서 선택할 수 있나요?\\n네, 다양한 색상이 있어서...</td>\n",
       "    </tr>\n",
       "  </tbody>\n",
       "</table>\n",
       "</div>"
      ],
      "text/plain": [
       "    idx  class                                       conversation\n",
       "0  4001  일반 대화  집에서 자주 만드는 음식 있어?\\n응, 김치찌개 자주 만들어.\\n오, 김치찌개! 어...\n",
       "1  4002  일반 대화  너는 어떤 장르 좋아해?\\n나는 록 음악을 좋아해.\\n오, 록! 그럼 Queen 좋...\n",
       "2  4003  일반 대화  오늘 점심 뭐 먹을까요?\\n저는 김밥 먹고 싶은데, 다른 사람들은 어떻게 생각해요?...\n",
       "3  4004  일반 대화  과제 다 했어?\\n아직이야. 너무 많아.\\n나도 겨우 끝냈어.\\n우리 같이 도서관 갈래?\n",
       "4  4005  일반 대화  이 장난감은 여러 가지 색상 중에서 선택할 수 있나요?\\n네, 다양한 색상이 있어서..."
      ]
     },
     "execution_count": 4,
     "metadata": {},
     "output_type": "execute_result"
    }
   ],
   "source": [
    "# 일반 대화\n",
    "normal_data_path =\"../data/raw_csv/conversation_normal.csv\"\n",
    "normal_data = pd.read_csv(normal_data_path)\n",
    "normal_data.head()"
   ]
  },
  {
   "cell_type": "code",
   "execution_count": 5,
   "id": "7752fcbc",
   "metadata": {},
   "outputs": [
    {
     "data": {
      "text/plain": [
       "(932, 3)"
      ]
     },
     "execution_count": 5,
     "metadata": {},
     "output_type": "execute_result"
    }
   ],
   "source": [
    "normal_data.shape"
   ]
  },
  {
   "cell_type": "markdown",
   "id": "9a683804",
   "metadata": {},
   "source": [
    "### 2. 일반 대화 중복 데이타와 null 데이타 확인"
   ]
  },
  {
   "cell_type": "code",
   "execution_count": 6,
   "id": "e79cce49",
   "metadata": {},
   "outputs": [
    {
     "name": "stdout",
     "output_type": "stream",
     "text": [
      "normal_data의 전체 샘플수 : 932\n",
      "normal_data의 conversation 열에서 중복을 배제한 유일한 샘플의 수 : 791\n",
      "normal_data의 중복제거 샘플수 : 141\n",
      "idx             0\n",
      "class           0\n",
      "conversation    0\n",
      "dtype: int64\n"
     ]
    }
   ],
   "source": [
    "print('normal_data의 전체 샘플수 :', (len(normal_data)))\n",
    "print('normal_data의 conversation 열에서 중복을 배제한 유일한 샘플의 수 :', normal_data['conversation'].nunique())\n",
    "print('normal_data의 중복제거 샘플수 :',(len(normal_data) - normal_data['conversation'].nunique()) )\n",
    "print(normal_data.isnull().sum())"
   ]
  },
  {
   "cell_type": "code",
   "execution_count": 7,
   "id": "8b90b07e",
   "metadata": {},
   "outputs": [
    {
     "name": "stdout",
     "output_type": "stream",
     "text": [
      "normal_data의 중복 제거한 전체 샘플수 : 791\n"
     ]
    }
   ],
   "source": [
    "normal_data.drop_duplicates(subset = ['conversation'], inplace=True)\n",
    "print('normal_data의 중복 제거한 전체 샘플수 :', (len(normal_data)))"
   ]
  },
  {
   "cell_type": "markdown",
   "id": "8299f211",
   "metadata": {},
   "source": [
    "### 3. Original Train과 일반대화 데이타 merge"
   ]
  },
  {
   "cell_type": "code",
   "execution_count": 8,
   "id": "28bfcaa8",
   "metadata": {},
   "outputs": [],
   "source": [
    "train_data = pd.concat([orig_train, normal_data], ignore_index=True)\n"
   ]
  },
  {
   "cell_type": "code",
   "execution_count": 9,
   "id": "8c6bde4a",
   "metadata": {},
   "outputs": [],
   "source": [
    "train_data = train_data.sample(frac=1).reset_index(drop=True)"
   ]
  },
  {
   "cell_type": "code",
   "execution_count": 10,
   "id": "3d3c3093",
   "metadata": {},
   "outputs": [
    {
     "name": "stdout",
     "output_type": "stream",
     "text": [
      "기타 괴롭힘 대화      1011\n",
      "갈취 대화           973\n",
      "직장 내 괴롭힘 대화     970\n",
      "협박 대화           892\n",
      "일반 대화           791\n",
      "Name: class, dtype: int64\n"
     ]
    }
   ],
   "source": [
    "class_counts = train_data['class'].value_counts()\n",
    "\n",
    "print(class_counts)"
   ]
  },
  {
   "cell_type": "code",
   "execution_count": 11,
   "id": "5fcbc27d",
   "metadata": {},
   "outputs": [
    {
     "data": {
      "text/html": [
       "<div>\n",
       "<style scoped>\n",
       "    .dataframe tbody tr th:only-of-type {\n",
       "        vertical-align: middle;\n",
       "    }\n",
       "\n",
       "    .dataframe tbody tr th {\n",
       "        vertical-align: top;\n",
       "    }\n",
       "\n",
       "    .dataframe thead th {\n",
       "        text-align: right;\n",
       "    }\n",
       "</style>\n",
       "<table border=\"1\" class=\"dataframe\">\n",
       "  <thead>\n",
       "    <tr style=\"text-align: right;\">\n",
       "      <th></th>\n",
       "      <th>idx</th>\n",
       "      <th>class</th>\n",
       "      <th>conversation</th>\n",
       "    </tr>\n",
       "  </thead>\n",
       "  <tbody>\n",
       "    <tr>\n",
       "      <th>1</th>\n",
       "      <td>5078</td>\n",
       "      <td>일반 대화</td>\n",
       "      <td>요즘 읽고 있는 책 있어?\\n그거 좋은 생각이야.\\n좋은 시간 보냈네.\\n조언 고마...</td>\n",
       "    </tr>\n",
       "    <tr>\n",
       "      <th>10</th>\n",
       "      <td>4691</td>\n",
       "      <td>일반 대화</td>\n",
       "      <td>최근에 어떤 취미를 시작했어? 나는 사진 찍는 걸 배우고 있어. 카메라를 새로 샀고...</td>\n",
       "    </tr>\n",
       "    <tr>\n",
       "      <th>15</th>\n",
       "      <td>4705</td>\n",
       "      <td>일반 대화</td>\n",
       "      <td>주말에 뭐 할 계획이야? 친구들과 함께 영화를 보러 가기로 했어. 어떤 영화 볼 건...</td>\n",
       "    </tr>\n",
       "  </tbody>\n",
       "</table>\n",
       "</div>"
      ],
      "text/plain": [
       "     idx  class                                       conversation\n",
       "1   5078  일반 대화  요즘 읽고 있는 책 있어?\\n그거 좋은 생각이야.\\n좋은 시간 보냈네.\\n조언 고마...\n",
       "10  4691  일반 대화  최근에 어떤 취미를 시작했어? 나는 사진 찍는 걸 배우고 있어. 카메라를 새로 샀고...\n",
       "15  4705  일반 대화  주말에 뭐 할 계획이야? 친구들과 함께 영화를 보러 가기로 했어. 어떤 영화 볼 건..."
      ]
     },
     "execution_count": 11,
     "metadata": {},
     "output_type": "execute_result"
    }
   ],
   "source": [
    "train_data[train_data['class']=='일반 대화'][:3]"
   ]
  },
  {
   "cell_type": "markdown",
   "id": "a5a8dbed",
   "metadata": {},
   "source": [
    "#### 4. merged_train 데이타 csv 파일로 저장\n",
    "\n",
    "- ../data/raw_csv/merged_train.csv"
   ]
  },
  {
   "cell_type": "code",
   "execution_count": 12,
   "id": "8641b429",
   "metadata": {},
   "outputs": [],
   "source": [
    "train_data.to_csv('../data/raw_csv/merged_train.csv', index=False, encoding='utf-8-sig')  # index=False는 인덱스를 저장하지 않도록 함"
   ]
  },
  {
   "cell_type": "code",
   "execution_count": 13,
   "id": "fd35607e",
   "metadata": {},
   "outputs": [
    {
     "data": {
      "text/html": [
       "<div>\n",
       "<style scoped>\n",
       "    .dataframe tbody tr th:only-of-type {\n",
       "        vertical-align: middle;\n",
       "    }\n",
       "\n",
       "    .dataframe tbody tr th {\n",
       "        vertical-align: top;\n",
       "    }\n",
       "\n",
       "    .dataframe thead th {\n",
       "        text-align: right;\n",
       "    }\n",
       "</style>\n",
       "<table border=\"1\" class=\"dataframe\">\n",
       "  <thead>\n",
       "    <tr style=\"text-align: right;\">\n",
       "      <th></th>\n",
       "      <th>idx</th>\n",
       "      <th>class</th>\n",
       "      <th>conversation</th>\n",
       "    </tr>\n",
       "  </thead>\n",
       "  <tbody>\n",
       "    <tr>\n",
       "      <th>0</th>\n",
       "      <td>1516</td>\n",
       "      <td>갈취 대화</td>\n",
       "      <td>어이 가방 좋은데!?\\n네!? 왜 그러시죠\\n아니 우리가 밥을 굶어서 편의점 라면이...</td>\n",
       "    </tr>\n",
       "    <tr>\n",
       "      <th>1</th>\n",
       "      <td>5078</td>\n",
       "      <td>일반 대화</td>\n",
       "      <td>요즘 읽고 있는 책 있어?\\n그거 좋은 생각이야.\\n좋은 시간 보냈네.\\n조언 고마...</td>\n",
       "    </tr>\n",
       "    <tr>\n",
       "      <th>2</th>\n",
       "      <td>350</td>\n",
       "      <td>협박 대화</td>\n",
       "      <td>간도 커 어딜 튀려고 !\\n아니 미주엄마 내가 딱 일주일만 더 쓰고 주려고 했는데 ...</td>\n",
       "    </tr>\n",
       "    <tr>\n",
       "      <th>3</th>\n",
       "      <td>3247</td>\n",
       "      <td>기타 괴롭힘 대화</td>\n",
       "      <td>야 너 뭐하냐\\n공부해\\n뭔공부\\n토익공부\\n그런다고 점수 올릴 수 있겠니?\\n왜 ...</td>\n",
       "    </tr>\n",
       "    <tr>\n",
       "      <th>4</th>\n",
       "      <td>3511</td>\n",
       "      <td>협박 대화</td>\n",
       "      <td>아저씨 제발 살려주세요. 칼만 좀 내려놔주시면.\\n소리내지마. 소리 내면 찌른다.\\...</td>\n",
       "    </tr>\n",
       "  </tbody>\n",
       "</table>\n",
       "</div>"
      ],
      "text/plain": [
       "    idx      class                                       conversation\n",
       "0  1516      갈취 대화  어이 가방 좋은데!?\\n네!? 왜 그러시죠\\n아니 우리가 밥을 굶어서 편의점 라면이...\n",
       "1  5078      일반 대화  요즘 읽고 있는 책 있어?\\n그거 좋은 생각이야.\\n좋은 시간 보냈네.\\n조언 고마...\n",
       "2   350      협박 대화  간도 커 어딜 튀려고 !\\n아니 미주엄마 내가 딱 일주일만 더 쓰고 주려고 했는데 ...\n",
       "3  3247  기타 괴롭힘 대화  야 너 뭐하냐\\n공부해\\n뭔공부\\n토익공부\\n그런다고 점수 올릴 수 있겠니?\\n왜 ...\n",
       "4  3511      협박 대화  아저씨 제발 살려주세요. 칼만 좀 내려놔주시면.\\n소리내지마. 소리 내면 찌른다.\\..."
      ]
     },
     "execution_count": 13,
     "metadata": {},
     "output_type": "execute_result"
    }
   ],
   "source": [
    "train_data_path =\"../data/raw_csv/merged_train.csv\"\n",
    "train_data = pd.read_csv(train_data_path)\n",
    "train_data.head()"
   ]
  },
  {
   "cell_type": "code",
   "execution_count": 14,
   "id": "ec66b1f3",
   "metadata": {},
   "outputs": [
    {
     "data": {
      "text/plain": [
       "(4637, 3)"
      ]
     },
     "execution_count": 14,
     "metadata": {},
     "output_type": "execute_result"
    }
   ],
   "source": [
    "train_data.shape"
   ]
  },
  {
   "cell_type": "markdown",
   "id": "771a7734",
   "metadata": {},
   "source": [
    "##5. train data와 validation data로 나눠서 저장한다. "
   ]
  },
  {
   "cell_type": "code",
   "execution_count": 18,
   "id": "6cbdeedb",
   "metadata": {},
   "outputs": [
    {
     "name": "stdout",
     "output_type": "stream",
     "text": [
      "훈련 수: 3709\n",
      "검증 수: 928\n"
     ]
    }
   ],
   "source": [
    "from sklearn.model_selection import train_test_split\n",
    "random_state=42\n",
    "\n",
    "train_df, val_df = train_test_split(train_data, test_size=0.2, \n",
    "                                    random_state=random_state,shuffle=True, stratify=train_data['class'])\n",
    "\n",
    "print(\"훈련 수:\", len(train_df))\n",
    "print(\"검증 수:\", len(val_df))"
   ]
  },
  {
   "cell_type": "code",
   "execution_count": 23,
   "id": "e2c68965",
   "metadata": {},
   "outputs": [
    {
     "data": {
      "text/html": [
       "<div>\n",
       "<style scoped>\n",
       "    .dataframe tbody tr th:only-of-type {\n",
       "        vertical-align: middle;\n",
       "    }\n",
       "\n",
       "    .dataframe tbody tr th {\n",
       "        vertical-align: top;\n",
       "    }\n",
       "\n",
       "    .dataframe thead th {\n",
       "        text-align: right;\n",
       "    }\n",
       "</style>\n",
       "<table border=\"1\" class=\"dataframe\">\n",
       "  <thead>\n",
       "    <tr style=\"text-align: right;\">\n",
       "      <th></th>\n",
       "      <th>idx</th>\n",
       "      <th>class</th>\n",
       "      <th>conversation</th>\n",
       "    </tr>\n",
       "  </thead>\n",
       "  <tbody>\n",
       "    <tr>\n",
       "      <th>1288</th>\n",
       "      <td>673</td>\n",
       "      <td>직장 내 괴롭힘 대화</td>\n",
       "      <td>김과장 라인 잘 타. 누가 회사 이끄는 건데.\\n 아무래도 이건 부당한 것 같습니다...</td>\n",
       "    </tr>\n",
       "    <tr>\n",
       "      <th>1684</th>\n",
       "      <td>243</td>\n",
       "      <td>협박 대화</td>\n",
       "      <td>이게 어떻게 된거야.? 엄마 수술은 어떻게 된거냐고\\n 엄마가 이제 괜찮다고 해서 ...</td>\n",
       "    </tr>\n",
       "    <tr>\n",
       "      <th>209</th>\n",
       "      <td>2006</td>\n",
       "      <td>갈취 대화</td>\n",
       "      <td>이사님 이 사진. 모르지 않으실텐데요?\\n이. 이건. \\n이사님이 여기까지 오신거 ...</td>\n",
       "    </tr>\n",
       "    <tr>\n",
       "      <th>1707</th>\n",
       "      <td>1073</td>\n",
       "      <td>협박 대화</td>\n",
       "      <td>너 지금 나랑 헤어지자고 한거야? 죽고싶어?\\n 그만하자\\n 너 내가 헤어지자고 말...</td>\n",
       "    </tr>\n",
       "    <tr>\n",
       "      <th>3163</th>\n",
       "      <td>893</td>\n",
       "      <td>기타 괴롭힘 대화</td>\n",
       "      <td>철수 씨는 그 학교 나와서 그 연봉 받고 살만해요?\\n그게 무슨 말씀이시죠?\\n아니...</td>\n",
       "    </tr>\n",
       "  </tbody>\n",
       "</table>\n",
       "</div>"
      ],
      "text/plain": [
       "       idx        class                                       conversation\n",
       "1288   673  직장 내 괴롭힘 대화  김과장 라인 잘 타. 누가 회사 이끄는 건데.\\n 아무래도 이건 부당한 것 같습니다...\n",
       "1684   243        협박 대화  이게 어떻게 된거야.? 엄마 수술은 어떻게 된거냐고\\n 엄마가 이제 괜찮다고 해서 ...\n",
       "209   2006        갈취 대화  이사님 이 사진. 모르지 않으실텐데요?\\n이. 이건. \\n이사님이 여기까지 오신거 ...\n",
       "1707  1073        협박 대화  너 지금 나랑 헤어지자고 한거야? 죽고싶어?\\n 그만하자\\n 너 내가 헤어지자고 말...\n",
       "3163   893    기타 괴롭힘 대화  철수 씨는 그 학교 나와서 그 연봉 받고 살만해요?\\n그게 무슨 말씀이시죠?\\n아니..."
      ]
     },
     "execution_count": 23,
     "metadata": {},
     "output_type": "execute_result"
    }
   ],
   "source": [
    "train_df.head()"
   ]
  },
  {
   "cell_type": "code",
   "execution_count": 22,
   "id": "7c979eca",
   "metadata": {
    "scrolled": true
   },
   "outputs": [
    {
     "data": {
      "text/html": [
       "<div>\n",
       "<style scoped>\n",
       "    .dataframe tbody tr th:only-of-type {\n",
       "        vertical-align: middle;\n",
       "    }\n",
       "\n",
       "    .dataframe tbody tr th {\n",
       "        vertical-align: top;\n",
       "    }\n",
       "\n",
       "    .dataframe thead th {\n",
       "        text-align: right;\n",
       "    }\n",
       "</style>\n",
       "<table border=\"1\" class=\"dataframe\">\n",
       "  <thead>\n",
       "    <tr style=\"text-align: right;\">\n",
       "      <th></th>\n",
       "      <th>idx</th>\n",
       "      <th>class</th>\n",
       "      <th>conversation</th>\n",
       "    </tr>\n",
       "  </thead>\n",
       "  <tbody>\n",
       "    <tr>\n",
       "      <th>3941</th>\n",
       "      <td>549</td>\n",
       "      <td>갈취 대화</td>\n",
       "      <td>김사장님 별일 없으세요 ?\\n자네가 여긴 어쩐 일인가.\\n아니 말씀을 참 섭섭하게 ...</td>\n",
       "    </tr>\n",
       "    <tr>\n",
       "      <th>3583</th>\n",
       "      <td>2111</td>\n",
       "      <td>기타 괴롭힘 대화</td>\n",
       "      <td>눈알은 장식이니? 너 장님이야?\\n미안해.\\n미안하면 다야? 사람 쳤으면 사과 부터...</td>\n",
       "    </tr>\n",
       "    <tr>\n",
       "      <th>3048</th>\n",
       "      <td>3257</td>\n",
       "      <td>직장 내 괴롭힘 대화</td>\n",
       "      <td>출산일이 언제라고? \\n과장님 3달 남았어요\\n복직은 언제 할건데? \\n네? 출산휴...</td>\n",
       "    </tr>\n",
       "    <tr>\n",
       "      <th>3157</th>\n",
       "      <td>793</td>\n",
       "      <td>협박 대화</td>\n",
       "      <td>내가 술 좀 그만 먹으라고 했지? 죽을래?\\n술을 먹든 말든 신경 꺼\\n네가 술 먹...</td>\n",
       "    </tr>\n",
       "    <tr>\n",
       "      <th>3986</th>\n",
       "      <td>915</td>\n",
       "      <td>기타 괴롭힘 대화</td>\n",
       "      <td>야 이따 정답 알려줘\\n안돼\\n알려달라고\\n안된다고\\n너 따 당하고 싶냐?\\n아니....</td>\n",
       "    </tr>\n",
       "  </tbody>\n",
       "</table>\n",
       "</div>"
      ],
      "text/plain": [
       "       idx        class                                       conversation\n",
       "3941   549        갈취 대화  김사장님 별일 없으세요 ?\\n자네가 여긴 어쩐 일인가.\\n아니 말씀을 참 섭섭하게 ...\n",
       "3583  2111    기타 괴롭힘 대화  눈알은 장식이니? 너 장님이야?\\n미안해.\\n미안하면 다야? 사람 쳤으면 사과 부터...\n",
       "3048  3257  직장 내 괴롭힘 대화  출산일이 언제라고? \\n과장님 3달 남았어요\\n복직은 언제 할건데? \\n네? 출산휴...\n",
       "3157   793        협박 대화  내가 술 좀 그만 먹으라고 했지? 죽을래?\\n술을 먹든 말든 신경 꺼\\n네가 술 먹...\n",
       "3986   915    기타 괴롭힘 대화  야 이따 정답 알려줘\\n안돼\\n알려달라고\\n안된다고\\n너 따 당하고 싶냐?\\n아니...."
      ]
     },
     "execution_count": 22,
     "metadata": {},
     "output_type": "execute_result"
    }
   ],
   "source": [
    "val_df.head()"
   ]
  },
  {
   "cell_type": "code",
   "execution_count": 24,
   "id": "823df339",
   "metadata": {
    "scrolled": true
   },
   "outputs": [
    {
     "name": "stdout",
     "output_type": "stream",
     "text": [
      "기타 괴롭힘 대화      809\n",
      "갈취 대화          778\n",
      "직장 내 괴롭힘 대화    776\n",
      "협박 대화          713\n",
      "일반 대화          633\n",
      "Name: class, dtype: int64\n"
     ]
    }
   ],
   "source": [
    "class_counts = train_df['class'].value_counts()\n",
    "print(class_counts)"
   ]
  },
  {
   "cell_type": "code",
   "execution_count": 25,
   "id": "008710a0",
   "metadata": {},
   "outputs": [
    {
     "name": "stdout",
     "output_type": "stream",
     "text": [
      "기타 괴롭힘 대화      202\n",
      "갈취 대화          195\n",
      "직장 내 괴롭힘 대화    194\n",
      "협박 대화          179\n",
      "일반 대화          158\n",
      "Name: class, dtype: int64\n"
     ]
    }
   ],
   "source": [
    "class_counts = val_df['class'].value_counts()\n",
    "print(class_counts)"
   ]
  },
  {
   "cell_type": "code",
   "execution_count": 19,
   "id": "834f8c66",
   "metadata": {},
   "outputs": [],
   "source": [
    "train_df.to_csv('../data/raw_csv/merged_train_train.csv', index=False, encoding='utf-8-sig')\n",
    "val_df.to_csv('../data/raw_csv/merged_train_val.csv', index=False, encoding='utf-8-sig')"
   ]
  },
  {
   "cell_type": "code",
   "execution_count": 20,
   "id": "926280dd",
   "metadata": {},
   "outputs": [
    {
     "name": "stdout",
     "output_type": "stream",
     "text": [
      "<class 'pandas.core.frame.DataFrame'>\n",
      "RangeIndex: 3709 entries, 0 to 3708\n",
      "Data columns (total 3 columns):\n",
      " #   Column        Non-Null Count  Dtype \n",
      "---  ------        --------------  ----- \n",
      " 0   idx           3709 non-null   int64 \n",
      " 1   class         3709 non-null   object\n",
      " 2   conversation  3709 non-null   object\n",
      "dtypes: int64(1), object(2)\n",
      "memory usage: 87.1+ KB\n"
     ]
    }
   ],
   "source": [
    "data_path =\"../data/raw_csv/merged_train_train.csv\"\n",
    "df = pd.read_csv(data_path)\n",
    "df.info()"
   ]
  },
  {
   "cell_type": "code",
   "execution_count": 21,
   "id": "55e33386",
   "metadata": {},
   "outputs": [
    {
     "name": "stdout",
     "output_type": "stream",
     "text": [
      "<class 'pandas.core.frame.DataFrame'>\n",
      "RangeIndex: 928 entries, 0 to 927\n",
      "Data columns (total 3 columns):\n",
      " #   Column        Non-Null Count  Dtype \n",
      "---  ------        --------------  ----- \n",
      " 0   idx           928 non-null    int64 \n",
      " 1   class         928 non-null    object\n",
      " 2   conversation  928 non-null    object\n",
      "dtypes: int64(1), object(2)\n",
      "memory usage: 21.9+ KB\n"
     ]
    }
   ],
   "source": [
    "data_path =\"../data/raw_csv/merged_train_val.csv\"\n",
    "df = pd.read_csv(data_path)\n",
    "df.info()"
   ]
  }
 ],
 "metadata": {
  "kernelspec": {
   "display_name": "Python 3 (ipykernel)",
   "language": "python",
   "name": "python3"
  },
  "language_info": {
   "codemirror_mode": {
    "name": "ipython",
    "version": 3
   },
   "file_extension": ".py",
   "mimetype": "text/x-python",
   "name": "python",
   "nbconvert_exporter": "python",
   "pygments_lexer": "ipython3",
   "version": "3.9.7"
  }
 },
 "nbformat": 4,
 "nbformat_minor": 5
}
