{
 "cells": [
  {
   "cell_type": "raw",
   "id": "aa73cd8e",
   "metadata": {},
   "source": [
    "## merged_train 데이타 분포 확인"
   ]
  },
  {
   "cell_type": "markdown",
   "id": "0535ea29",
   "metadata": {},
   "source": [
    "### 1. train 데이타 내용 확인"
   ]
  },
  {
   "cell_type": "code",
   "execution_count": 2,
   "id": "65320805",
   "metadata": {},
   "outputs": [],
   "source": [
    "import os\n",
    "import pandas as pd\n",
    "import tensorflow\n",
    "import numpy as np"
   ]
  },
  {
   "cell_type": "code",
   "execution_count": 55,
   "id": "3534d366",
   "metadata": {
    "scrolled": true
   },
   "outputs": [
    {
     "data": {
      "text/html": [
       "<div>\n",
       "<style scoped>\n",
       "    .dataframe tbody tr th:only-of-type {\n",
       "        vertical-align: middle;\n",
       "    }\n",
       "\n",
       "    .dataframe tbody tr th {\n",
       "        vertical-align: top;\n",
       "    }\n",
       "\n",
       "    .dataframe thead th {\n",
       "        text-align: right;\n",
       "    }\n",
       "</style>\n",
       "<table border=\"1\" class=\"dataframe\">\n",
       "  <thead>\n",
       "    <tr style=\"text-align: right;\">\n",
       "      <th></th>\n",
       "      <th>idx</th>\n",
       "      <th>class</th>\n",
       "      <th>conversation</th>\n",
       "    </tr>\n",
       "  </thead>\n",
       "  <tbody>\n",
       "    <tr>\n",
       "      <th>0</th>\n",
       "      <td>1001</td>\n",
       "      <td>기타 괴롭힘 대화</td>\n",
       "      <td>얘들아. 선생님이 다음 수업은 실습실에서 한데.\\n 야 어제 그거 개웃기지 않았냐?...</td>\n",
       "    </tr>\n",
       "    <tr>\n",
       "      <th>1</th>\n",
       "      <td>1252</td>\n",
       "      <td>직장 내 괴롭힘 대화</td>\n",
       "      <td>그 건설프로젝트 관련한 실험건 다 끝내서 보고서 작성까지 완료 하였습니다.\\n아 그...</td>\n",
       "    </tr>\n",
       "    <tr>\n",
       "      <th>2</th>\n",
       "      <td>834</td>\n",
       "      <td>기타 괴롭힘 대화</td>\n",
       "      <td>너 치마 샀어?\\n응응 이쁘지\\n응 치마는 이쁘긴한데 \\n뭐랄까 종아리 알 때문에 ...</td>\n",
       "    </tr>\n",
       "    <tr>\n",
       "      <th>3</th>\n",
       "      <td>4999</td>\n",
       "      <td>일반 대화</td>\n",
       "      <td>저녁 식사 뭐 먹을래?\\n다음에 같이 가자. 내 말은, 요즘 교통 관련해서 뭐 재밌...</td>\n",
       "    </tr>\n",
       "    <tr>\n",
       "      <th>4</th>\n",
       "      <td>1852</td>\n",
       "      <td>갈취 대화</td>\n",
       "      <td>저기 학생 잠시만\\n네\\n미안한데 내가 지갑을 잃어버려서 그런데 집에갈 차비가없어서...</td>\n",
       "    </tr>\n",
       "  </tbody>\n",
       "</table>\n",
       "</div>"
      ],
      "text/plain": [
       "    idx        class                                       conversation\n",
       "0  1001    기타 괴롭힘 대화  얘들아. 선생님이 다음 수업은 실습실에서 한데.\\n 야 어제 그거 개웃기지 않았냐?...\n",
       "1  1252  직장 내 괴롭힘 대화  그 건설프로젝트 관련한 실험건 다 끝내서 보고서 작성까지 완료 하였습니다.\\n아 그...\n",
       "2   834    기타 괴롭힘 대화  너 치마 샀어?\\n응응 이쁘지\\n응 치마는 이쁘긴한데 \\n뭐랄까 종아리 알 때문에 ...\n",
       "3  4999        일반 대화  저녁 식사 뭐 먹을래?\\n다음에 같이 가자. 내 말은, 요즘 교통 관련해서 뭐 재밌...\n",
       "4  1852        갈취 대화  저기 학생 잠시만\\n네\\n미안한데 내가 지갑을 잃어버려서 그런데 집에갈 차비가없어서..."
      ]
     },
     "execution_count": 55,
     "metadata": {},
     "output_type": "execute_result"
    }
   ],
   "source": [
    "train_data_path =\"../data/raw_csv/merged_train.csv\"\n",
    "train_data = pd.read_csv(train_data_path)\n",
    "train_data.head()"
   ]
  },
  {
   "cell_type": "code",
   "execution_count": 56,
   "id": "0d3446d8",
   "metadata": {},
   "outputs": [
    {
     "name": "stdout",
     "output_type": "stream",
     "text": [
      "기타 괴롭힘 대화      1011\n",
      "갈취 대화           973\n",
      "직장 내 괴롭힘 대화     970\n",
      "협박 대화           892\n",
      "일반 대화           791\n",
      "Name: class, dtype: int64\n"
     ]
    },
    {
     "data": {
      "text/plain": [
       "(4637, 3)"
      ]
     },
     "execution_count": 56,
     "metadata": {},
     "output_type": "execute_result"
    }
   ],
   "source": [
    "class_counts = train_data['class'].value_counts()\n",
    "\n",
    "print(class_counts)\n",
    "\n",
    "train_data.shape"
   ]
  },
  {
   "cell_type": "code",
   "execution_count": 57,
   "id": "948f68b5",
   "metadata": {},
   "outputs": [
    {
     "data": {
      "text/html": [
       "<div>\n",
       "<style scoped>\n",
       "    .dataframe tbody tr th:only-of-type {\n",
       "        vertical-align: middle;\n",
       "    }\n",
       "\n",
       "    .dataframe tbody tr th {\n",
       "        vertical-align: top;\n",
       "    }\n",
       "\n",
       "    .dataframe thead th {\n",
       "        text-align: right;\n",
       "    }\n",
       "</style>\n",
       "<table border=\"1\" class=\"dataframe\">\n",
       "  <thead>\n",
       "    <tr style=\"text-align: right;\">\n",
       "      <th></th>\n",
       "      <th>idx</th>\n",
       "      <th>class</th>\n",
       "      <th>conversation</th>\n",
       "    </tr>\n",
       "  </thead>\n",
       "  <tbody>\n",
       "    <tr>\n",
       "      <th>8</th>\n",
       "      <td>1515</td>\n",
       "      <td>협박 대화</td>\n",
       "      <td>어이 거기 누구 담배 있으면 하나만 주라!\\n.\\n갈때 가더라도 담배 한대 정도는 ...</td>\n",
       "    </tr>\n",
       "    <tr>\n",
       "      <th>9</th>\n",
       "      <td>1681</td>\n",
       "      <td>협박 대화</td>\n",
       "      <td>시끄러워서 찾아왔는데 진짜 말로 하면 안 듣네 맞아야하나?\\n조심하고있어요\\n조심하...</td>\n",
       "    </tr>\n",
       "    <tr>\n",
       "      <th>13</th>\n",
       "      <td>3843</td>\n",
       "      <td>협박 대화</td>\n",
       "      <td>김지안.너 여전히 나랑 헤어지고싶어?\\n 어. 난 다른 사람이 좋아졌어.\\n 나 여...</td>\n",
       "    </tr>\n",
       "  </tbody>\n",
       "</table>\n",
       "</div>"
      ],
      "text/plain": [
       "     idx  class                                       conversation\n",
       "8   1515  협박 대화  어이 거기 누구 담배 있으면 하나만 주라!\\n.\\n갈때 가더라도 담배 한대 정도는 ...\n",
       "9   1681  협박 대화  시끄러워서 찾아왔는데 진짜 말로 하면 안 듣네 맞아야하나?\\n조심하고있어요\\n조심하...\n",
       "13  3843  협박 대화  김지안.너 여전히 나랑 헤어지고싶어?\\n 어. 난 다른 사람이 좋아졌어.\\n 나 여..."
      ]
     },
     "execution_count": 57,
     "metadata": {},
     "output_type": "execute_result"
    }
   ],
   "source": [
    "train_data[train_data['class']=='협박 대화'][:3]"
   ]
  },
  {
   "cell_type": "code",
   "execution_count": 58,
   "id": "d9f47878",
   "metadata": {},
   "outputs": [
    {
     "data": {
      "text/html": [
       "<div>\n",
       "<style scoped>\n",
       "    .dataframe tbody tr th:only-of-type {\n",
       "        vertical-align: middle;\n",
       "    }\n",
       "\n",
       "    .dataframe tbody tr th {\n",
       "        vertical-align: top;\n",
       "    }\n",
       "\n",
       "    .dataframe thead th {\n",
       "        text-align: right;\n",
       "    }\n",
       "</style>\n",
       "<table border=\"1\" class=\"dataframe\">\n",
       "  <thead>\n",
       "    <tr style=\"text-align: right;\">\n",
       "      <th></th>\n",
       "      <th>idx</th>\n",
       "      <th>class</th>\n",
       "      <th>conversation</th>\n",
       "    </tr>\n",
       "  </thead>\n",
       "  <tbody>\n",
       "    <tr>\n",
       "      <th>4</th>\n",
       "      <td>1852</td>\n",
       "      <td>갈취 대화</td>\n",
       "      <td>저기 학생 잠시만\\n네\\n미안한데 내가 지갑을 잃어버려서 그런데 집에갈 차비가없어서...</td>\n",
       "    </tr>\n",
       "    <tr>\n",
       "      <th>6</th>\n",
       "      <td>1106</td>\n",
       "      <td>갈취 대화</td>\n",
       "      <td>길동아 나 이것 좀 빌려주라.\\n어? 이거 내가 아끼는거라 안 돼.\\n야 누가 뭐 ...</td>\n",
       "    </tr>\n",
       "    <tr>\n",
       "      <th>7</th>\n",
       "      <td>1887</td>\n",
       "      <td>갈취 대화</td>\n",
       "      <td>저기요 운전 그따위로 하실거에요?\\n아니 저기요 당신이 일부러 차 바퀴에 다리를 갖...</td>\n",
       "    </tr>\n",
       "  </tbody>\n",
       "</table>\n",
       "</div>"
      ],
      "text/plain": [
       "    idx  class                                       conversation\n",
       "4  1852  갈취 대화  저기 학생 잠시만\\n네\\n미안한데 내가 지갑을 잃어버려서 그런데 집에갈 차비가없어서...\n",
       "6  1106  갈취 대화  길동아 나 이것 좀 빌려주라.\\n어? 이거 내가 아끼는거라 안 돼.\\n야 누가 뭐 ...\n",
       "7  1887  갈취 대화  저기요 운전 그따위로 하실거에요?\\n아니 저기요 당신이 일부러 차 바퀴에 다리를 갖..."
      ]
     },
     "execution_count": 58,
     "metadata": {},
     "output_type": "execute_result"
    }
   ],
   "source": [
    "train_data[train_data['class']=='갈취 대화'][:3]"
   ]
  },
  {
   "cell_type": "code",
   "execution_count": 59,
   "id": "513af0de",
   "metadata": {},
   "outputs": [
    {
     "data": {
      "text/html": [
       "<div>\n",
       "<style scoped>\n",
       "    .dataframe tbody tr th:only-of-type {\n",
       "        vertical-align: middle;\n",
       "    }\n",
       "\n",
       "    .dataframe tbody tr th {\n",
       "        vertical-align: top;\n",
       "    }\n",
       "\n",
       "    .dataframe thead th {\n",
       "        text-align: right;\n",
       "    }\n",
       "</style>\n",
       "<table border=\"1\" class=\"dataframe\">\n",
       "  <thead>\n",
       "    <tr style=\"text-align: right;\">\n",
       "      <th></th>\n",
       "      <th>idx</th>\n",
       "      <th>class</th>\n",
       "      <th>conversation</th>\n",
       "    </tr>\n",
       "  </thead>\n",
       "  <tbody>\n",
       "    <tr>\n",
       "      <th>1</th>\n",
       "      <td>1252</td>\n",
       "      <td>직장 내 괴롭힘 대화</td>\n",
       "      <td>그 건설프로젝트 관련한 실험건 다 끝내서 보고서 작성까지 완료 하였습니다.\\n아 그...</td>\n",
       "    </tr>\n",
       "    <tr>\n",
       "      <th>5</th>\n",
       "      <td>1273</td>\n",
       "      <td>직장 내 괴롭힘 대화</td>\n",
       "      <td>보고서가 이게 뭐야? 발로 썼나?\\n죄송합니다. 열심히 했는데\\n열심히 하는 게 중...</td>\n",
       "    </tr>\n",
       "    <tr>\n",
       "      <th>11</th>\n",
       "      <td>3285</td>\n",
       "      <td>직장 내 괴롭힘 대화</td>\n",
       "      <td>정선생님 오늘 견학가는 날인거 알죠?\\n네 유선생님. 알고 있습니다.\\n비상약이랑 ...</td>\n",
       "    </tr>\n",
       "  </tbody>\n",
       "</table>\n",
       "</div>"
      ],
      "text/plain": [
       "     idx        class                                       conversation\n",
       "1   1252  직장 내 괴롭힘 대화  그 건설프로젝트 관련한 실험건 다 끝내서 보고서 작성까지 완료 하였습니다.\\n아 그...\n",
       "5   1273  직장 내 괴롭힘 대화  보고서가 이게 뭐야? 발로 썼나?\\n죄송합니다. 열심히 했는데\\n열심히 하는 게 중...\n",
       "11  3285  직장 내 괴롭힘 대화  정선생님 오늘 견학가는 날인거 알죠?\\n네 유선생님. 알고 있습니다.\\n비상약이랑 ..."
      ]
     },
     "execution_count": 59,
     "metadata": {},
     "output_type": "execute_result"
    }
   ],
   "source": [
    "train_data[train_data['class']=='직장 내 괴롭힘 대화'][:3]"
   ]
  },
  {
   "cell_type": "code",
   "execution_count": 60,
   "id": "ff2a046e",
   "metadata": {},
   "outputs": [
    {
     "data": {
      "text/html": [
       "<div>\n",
       "<style scoped>\n",
       "    .dataframe tbody tr th:only-of-type {\n",
       "        vertical-align: middle;\n",
       "    }\n",
       "\n",
       "    .dataframe tbody tr th {\n",
       "        vertical-align: top;\n",
       "    }\n",
       "\n",
       "    .dataframe thead th {\n",
       "        text-align: right;\n",
       "    }\n",
       "</style>\n",
       "<table border=\"1\" class=\"dataframe\">\n",
       "  <thead>\n",
       "    <tr style=\"text-align: right;\">\n",
       "      <th></th>\n",
       "      <th>idx</th>\n",
       "      <th>class</th>\n",
       "      <th>conversation</th>\n",
       "    </tr>\n",
       "  </thead>\n",
       "  <tbody>\n",
       "    <tr>\n",
       "      <th>0</th>\n",
       "      <td>1001</td>\n",
       "      <td>기타 괴롭힘 대화</td>\n",
       "      <td>얘들아. 선생님이 다음 수업은 실습실에서 한데.\\n 야 어제 그거 개웃기지 않았냐?...</td>\n",
       "    </tr>\n",
       "    <tr>\n",
       "      <th>2</th>\n",
       "      <td>834</td>\n",
       "      <td>기타 괴롭힘 대화</td>\n",
       "      <td>너 치마 샀어?\\n응응 이쁘지\\n응 치마는 이쁘긴한데 \\n뭐랄까 종아리 알 때문에 ...</td>\n",
       "    </tr>\n",
       "    <tr>\n",
       "      <th>21</th>\n",
       "      <td>874</td>\n",
       "      <td>기타 괴롭힘 대화</td>\n",
       "      <td>아니 머리가 왜 이래?\\n고객님 제가 그래서 고객님은 곱슬이라 이머리 하면 더 풍성...</td>\n",
       "    </tr>\n",
       "  </tbody>\n",
       "</table>\n",
       "</div>"
      ],
      "text/plain": [
       "     idx      class                                       conversation\n",
       "0   1001  기타 괴롭힘 대화  얘들아. 선생님이 다음 수업은 실습실에서 한데.\\n 야 어제 그거 개웃기지 않았냐?...\n",
       "2    834  기타 괴롭힘 대화  너 치마 샀어?\\n응응 이쁘지\\n응 치마는 이쁘긴한데 \\n뭐랄까 종아리 알 때문에 ...\n",
       "21   874  기타 괴롭힘 대화  아니 머리가 왜 이래?\\n고객님 제가 그래서 고객님은 곱슬이라 이머리 하면 더 풍성..."
      ]
     },
     "execution_count": 60,
     "metadata": {},
     "output_type": "execute_result"
    }
   ],
   "source": [
    "train_data[train_data['class']=='기타 괴롭힘 대화'][:3]"
   ]
  },
  {
   "cell_type": "code",
   "execution_count": 61,
   "id": "bb496f14",
   "metadata": {},
   "outputs": [
    {
     "data": {
      "text/html": [
       "<div>\n",
       "<style scoped>\n",
       "    .dataframe tbody tr th:only-of-type {\n",
       "        vertical-align: middle;\n",
       "    }\n",
       "\n",
       "    .dataframe tbody tr th {\n",
       "        vertical-align: top;\n",
       "    }\n",
       "\n",
       "    .dataframe thead th {\n",
       "        text-align: right;\n",
       "    }\n",
       "</style>\n",
       "<table border=\"1\" class=\"dataframe\">\n",
       "  <thead>\n",
       "    <tr style=\"text-align: right;\">\n",
       "      <th></th>\n",
       "      <th>idx</th>\n",
       "      <th>class</th>\n",
       "      <th>conversation</th>\n",
       "    </tr>\n",
       "  </thead>\n",
       "  <tbody>\n",
       "    <tr>\n",
       "      <th>3</th>\n",
       "      <td>4999</td>\n",
       "      <td>일반 대화</td>\n",
       "      <td>저녁 식사 뭐 먹을래?\\n다음에 같이 가자. 내 말은, 요즘 교통 관련해서 뭐 재밌...</td>\n",
       "    </tr>\n",
       "    <tr>\n",
       "      <th>12</th>\n",
       "      <td>4987</td>\n",
       "      <td>일반 대화</td>\n",
       "      <td>오랜만이다 잘 지냈어?\\n커피 한잔할래?\\n점심 뭐 먹었어?\\n다음에 같이 가자.\\...</td>\n",
       "    </tr>\n",
       "    <tr>\n",
       "      <th>22</th>\n",
       "      <td>4111</td>\n",
       "      <td>일반 대화</td>\n",
       "      <td>오늘 운동했어?\\n응, 아침에 헬스 다녀왔어.\\n부지런하다! 무슨 운동했어?\\n웨이...</td>\n",
       "    </tr>\n",
       "  </tbody>\n",
       "</table>\n",
       "</div>"
      ],
      "text/plain": [
       "     idx  class                                       conversation\n",
       "3   4999  일반 대화  저녁 식사 뭐 먹을래?\\n다음에 같이 가자. 내 말은, 요즘 교통 관련해서 뭐 재밌...\n",
       "12  4987  일반 대화  오랜만이다 잘 지냈어?\\n커피 한잔할래?\\n점심 뭐 먹었어?\\n다음에 같이 가자.\\...\n",
       "22  4111  일반 대화  오늘 운동했어?\\n응, 아침에 헬스 다녀왔어.\\n부지런하다! 무슨 운동했어?\\n웨이..."
      ]
     },
     "execution_count": 61,
     "metadata": {},
     "output_type": "execute_result"
    }
   ],
   "source": [
    "train_data[train_data['class']=='일반 대화'][:3]"
   ]
  },
  {
   "cell_type": "markdown",
   "id": "bbd20066",
   "metadata": {},
   "source": [
    "### 2. train data 통계 분석 시각화"
   ]
  },
  {
   "cell_type": "code",
   "execution_count": 62,
   "id": "d7d9463a",
   "metadata": {},
   "outputs": [
    {
     "name": "stdout",
     "output_type": "stream",
     "text": [
      "훈련 데이타 문장 길이 : 최대 874\n",
      "훈련 데이타 문장 길이 : 평균: 220.44\n"
     ]
    }
   ],
   "source": [
    "X_train = train_data['conversation']\n",
    "y_train = train_data['class']\n",
    "\n",
    "# 각 문장의 문자 수 계산\n",
    "lengths = X_train.apply(len)\n",
    "\n",
    "# 최대 길이\n",
    "max_length = lengths.max()\n",
    "\n",
    "# 평균 길이\n",
    "avg_length = lengths.mean()\n",
    "\n",
    "print(f\"훈련 데이타 문장 길이 : 최대 {max_length}\")\n",
    "print(f\"훈련 데이타 문장 길이 : 평균: {avg_length:.2f}\")"
   ]
  },
  {
   "cell_type": "code",
   "execution_count": 63,
   "id": "3a0b295d",
   "metadata": {
    "scrolled": true
   },
   "outputs": [
    {
     "name": "stdout",
     "output_type": "stream",
     "text": [
      "X_train : (4637,)\n",
      "y_train : (4637,)\n"
     ]
    },
    {
     "data": {
      "image/png": "[encoded data removed]",
      "text/plain": [
       "<Figure size 1008x360 with 2 Axes>"
      ]
     },
     "metadata": {
      "needs_background": "light"
     },
     "output_type": "display_data"
    }
   ],
   "source": [
    "import matplotlib.pyplot as plt\n",
    "import seaborn as sns\n",
    "plt.rcParams['font.family'] = 'NanumBarunGothic'\n",
    "plt.rcParams['axes.unicode_minus'] = False  # 마이너스 기호 깨짐 방지\n",
    "\n",
    "X_train = train_data['conversation']\n",
    "y_train = train_data['class']\n",
    "lengths = train_data['conversation'].apply(len)\n",
    "\n",
    "print('X_train :',X_train.shape)\n",
    "print('y_train :',y_train.shape)\n",
    "#print('label 종류:', set(y_train))\n",
    "\n",
    "# 시각화\n",
    "plt.figure(figsize=(14, 5))\n",
    "\n",
    "# 1. 히스토그램: 대화 길이\n",
    "plt.subplot(1, 2, 1)\n",
    "plt.hist(lengths, bins=50, color='skyblue', edgecolor='black')\n",
    "plt.title(\"대화 길이 분포 (히스토그램)\")\n",
    "plt.xlabel(\"문자 수\")\n",
    "plt.ylabel(\"빈도\")\n",
    "\n",
    "# 2. Countplot: class 분포\n",
    "plt.subplot(1, 2, 2)\n",
    "sns.countplot(x=y_train)\n",
    "plt.title(\"Class 별 대화 수\")\n",
    "\n",
    "plt.tight_layout()\n",
    "plt.show()"
   ]
  },
  {
   "cell_type": "code",
   "execution_count": 64,
   "id": "f2dc0335",
   "metadata": {
    "scrolled": true
   },
   "outputs": [
    {
     "data": {
      "image/png": "[encoded data removed]",
      "text/plain": [
       "<Figure size 1080x720 with 6 Axes>"
      ]
     },
     "metadata": {
      "needs_background": "light"
     },
     "output_type": "display_data"
    }
   ],
   "source": [
    "fig, axes = plt.subplots(nrows=3, ncols=2, figsize=(15, 10))\n",
    "axes = axes.flatten()  # 2차원 → 1차원 배열로 변환\n",
    "\n",
    "lengths1 = train_data['conversation'][train_data['class']=='협박 대화'].apply(len)\n",
    "lengths2 = train_data['conversation'][train_data['class']=='갈취 대화'].apply(len)\n",
    "lengths3 = train_data['conversation'][train_data['class']=='직장 내 괴롭힘 대화'].apply(len)\n",
    "lengths4 = train_data['conversation'][train_data['class']=='기타 괴롭힘 대화'].apply(len)\n",
    "lengths5 = train_data['conversation'][train_data['class']=='일반 대화'].apply(len)\n",
    "\n",
    "axes[0].hist(lengths1, bins=50)\n",
    "axes[0].set_xlabel('length ')\n",
    "axes[0].set_ylabel('number ')\n",
    "axes[0].set_title('협박 대화')\n",
    "\n",
    "axes[1].hist(lengths2, bins=50)\n",
    "axes[1].set_xlabel('length ')\n",
    "axes[1].set_ylabel('number ')\n",
    "axes[1].set_title('갈취 대화')\n",
    "\n",
    "axes[2].hist(lengths3, bins=50)\n",
    "axes[2].set_xlabel('length ')\n",
    "axes[2].set_ylabel('number')\n",
    "axes[2].set_title('직장 내 괴롭힘 대화')\n",
    "\n",
    "axes[3].hist(lengths4, bins=50)\n",
    "axes[3].set_xlabel('length ')\n",
    "axes[3].set_ylabel('number ')\n",
    "axes[3].set_title('기타 괴롭힘 대화')\n",
    "\n",
    "axes[4].hist(lengths5, bins=50)\n",
    "axes[4].set_xlabel('length ')\n",
    "axes[4].set_ylabel('number ')\n",
    "axes[4].set_title('일반 대화')\n",
    "\n",
    "plt.subplots_adjust(wspace=0.3, hspace=0.5)\n",
    "plt.show()"
   ]
  },
  {
   "cell_type": "markdown",
   "id": "d1863341",
   "metadata": {},
   "source": [
    "## test 데이타 분포"
   ]
  },
  {
   "cell_type": "code",
   "execution_count": 3,
   "id": "11d813e0",
   "metadata": {},
   "outputs": [
    {
     "data": {
      "text/html": [
       "<div>\n",
       "<style scoped>\n",
       "    .dataframe tbody tr th:only-of-type {\n",
       "        vertical-align: middle;\n",
       "    }\n",
       "\n",
       "    .dataframe tbody tr th {\n",
       "        vertical-align: top;\n",
       "    }\n",
       "\n",
       "    .dataframe thead th {\n",
       "        text-align: right;\n",
       "    }\n",
       "</style>\n",
       "<table border=\"1\" class=\"dataframe\">\n",
       "  <thead>\n",
       "    <tr style=\"text-align: right;\">\n",
       "      <th></th>\n",
       "      <th>idx</th>\n",
       "      <th>text</th>\n",
       "    </tr>\n",
       "  </thead>\n",
       "  <tbody>\n",
       "    <tr>\n",
       "      <th>0</th>\n",
       "      <td>t_000</td>\n",
       "      <td>아가씨 담배한갑주소 네 4500원입니다 어 네 지갑어디갔지 에이 버스에서 잃어버렸나...</td>\n",
       "    </tr>\n",
       "    <tr>\n",
       "      <th>1</th>\n",
       "      <td>t_001</td>\n",
       "      <td>우리팀에서 다른팀으로 갈 사람 없나? 그럼 영지씨가 가는건 어때?  네? 제가요? ...</td>\n",
       "    </tr>\n",
       "    <tr>\n",
       "      <th>2</th>\n",
       "      <td>t_002</td>\n",
       "      <td>너 오늘 그게 뭐야 네 제가 뭘 잘못했나요.? 제대로 좀 하지 네 똑바로 좀 하지 ...</td>\n",
       "    </tr>\n",
       "    <tr>\n",
       "      <th>3</th>\n",
       "      <td>t_003</td>\n",
       "      <td>이거 들어바 와 이 노래 진짜 좋다 그치 요즘 이 것만 들어 진짜 너무 좋다 내가 ...</td>\n",
       "    </tr>\n",
       "    <tr>\n",
       "      <th>4</th>\n",
       "      <td>t_004</td>\n",
       "      <td>아무튼 앞으로 니가 내 와이파이야. .응 와이파이 온. 켰어. 반말? 주인님이라고도...</td>\n",
       "    </tr>\n",
       "  </tbody>\n",
       "</table>\n",
       "</div>"
      ],
      "text/plain": [
       "     idx                                               text\n",
       "0  t_000  아가씨 담배한갑주소 네 4500원입니다 어 네 지갑어디갔지 에이 버스에서 잃어버렸나...\n",
       "1  t_001  우리팀에서 다른팀으로 갈 사람 없나? 그럼 영지씨가 가는건 어때?  네? 제가요? ...\n",
       "2  t_002  너 오늘 그게 뭐야 네 제가 뭘 잘못했나요.? 제대로 좀 하지 네 똑바로 좀 하지 ...\n",
       "3  t_003  이거 들어바 와 이 노래 진짜 좋다 그치 요즘 이 것만 들어 진짜 너무 좋다 내가 ...\n",
       "4  t_004  아무튼 앞으로 니가 내 와이파이야. .응 와이파이 온. 켰어. 반말? 주인님이라고도..."
      ]
     },
     "execution_count": 3,
     "metadata": {},
     "output_type": "execute_result"
    }
   ],
   "source": [
    "test_data_path =\"../data/raw_csv/test.csv\"\n",
    "test_data = pd.read_csv(test_data_path)\n",
    "test_data.head()"
   ]
  },
  {
   "cell_type": "code",
   "execution_count": 66,
   "id": "8db584c6",
   "metadata": {},
   "outputs": [
    {
     "name": "stdout",
     "output_type": "stream",
     "text": [
      "테스트 데이타 문장 길이 : 최대 722\n",
      "테스트 데이타 문장 길이 : 평균: 213.63\n"
     ]
    }
   ],
   "source": [
    "X_test = test_data['text']\n",
    "\n",
    "\n",
    "# 각 문장의 문자 수 계산\n",
    "lengths = X_test.apply(len)\n",
    "\n",
    "# 최대 길이\n",
    "max_length = lengths.max()\n",
    "\n",
    "# 평균 길이\n",
    "avg_length = lengths.mean()\n",
    "\n",
    "print(f\"테스트 데이타 문장 길이 : 최대 {max_length}\")\n",
    "print(f\"테스트 데이타 문장 길이 : 평균: {avg_length:.2f}\")"
   ]
  },
  {
   "cell_type": "code",
   "execution_count": 71,
   "id": "37ac82ff",
   "metadata": {},
   "outputs": [
    {
     "data": {
      "image/png": "[encoded data removed]",
      "text/plain": [
       "<Figure size 504x288 with 1 Axes>"
      ]
     },
     "metadata": {
      "needs_background": "light"
     },
     "output_type": "display_data"
    }
   ],
   "source": [
    "fig, axes = plt.subplots( figsize=(7, 4))\n",
    "\n",
    "\n",
    "lengths = X_test.apply(len)\n",
    "\n",
    "axes.hist(lengths, bins=50)\n",
    "axes.set_xlabel('length ')\n",
    "axes.set_ylabel('number ')\n",
    "axes.set_title('Test Text')\n",
    "plt.subplots_adjust(wspace=0.3, hspace=0.5)\n",
    "plt.show()"
   ]
  },
  {
   "cell_type": "code",
   "execution_count": 4,
   "id": "9153573e",
   "metadata": {},
   "outputs": [
    {
     "data": {
      "text/html": [
       "<div>\n",
       "<style scoped>\n",
       "    .dataframe tbody tr th:only-of-type {\n",
       "        vertical-align: middle;\n",
       "    }\n",
       "\n",
       "    .dataframe tbody tr th {\n",
       "        vertical-align: top;\n",
       "    }\n",
       "\n",
       "    .dataframe thead th {\n",
       "        text-align: right;\n",
       "    }\n",
       "</style>\n",
       "<table border=\"1\" class=\"dataframe\">\n",
       "  <thead>\n",
       "    <tr style=\"text-align: right;\">\n",
       "      <th></th>\n",
       "      <th>idx</th>\n",
       "      <th>text</th>\n",
       "    </tr>\n",
       "  </thead>\n",
       "  <tbody>\n",
       "    <tr>\n",
       "      <th>0</th>\n",
       "      <td>t_000</td>\n",
       "      <td>아가씨 담배한갑주소 네 4500원입니다 어 네 지갑어디갔지 에이 버스에서 잃어버렸나...</td>\n",
       "    </tr>\n",
       "    <tr>\n",
       "      <th>1</th>\n",
       "      <td>t_001</td>\n",
       "      <td>우리팀에서 다른팀으로 갈 사람 없나? 그럼 영지씨가 가는건 어때?  네? 제가요? ...</td>\n",
       "    </tr>\n",
       "    <tr>\n",
       "      <th>2</th>\n",
       "      <td>t_002</td>\n",
       "      <td>너 오늘 그게 뭐야 네 제가 뭘 잘못했나요.? 제대로 좀 하지 네 똑바로 좀 하지 ...</td>\n",
       "    </tr>\n",
       "    <tr>\n",
       "      <th>3</th>\n",
       "      <td>t_003</td>\n",
       "      <td>이거 들어바 와 이 노래 진짜 좋다 그치 요즘 이 것만 들어 진짜 너무 좋다 내가 ...</td>\n",
       "    </tr>\n",
       "    <tr>\n",
       "      <th>4</th>\n",
       "      <td>t_004</td>\n",
       "      <td>아무튼 앞으로 니가 내 와이파이야. .응 와이파이 온. 켰어. 반말? 주인님이라고도...</td>\n",
       "    </tr>\n",
       "    <tr>\n",
       "      <th>...</th>\n",
       "      <td>...</td>\n",
       "      <td>...</td>\n",
       "    </tr>\n",
       "    <tr>\n",
       "      <th>495</th>\n",
       "      <td>t_495</td>\n",
       "      <td>미나씨 휴가 결제 올리기 전에 저랑 상의하라고 말한거 기억해요? 네 합니다. 보고서...</td>\n",
       "    </tr>\n",
       "    <tr>\n",
       "      <th>496</th>\n",
       "      <td>t_496</td>\n",
       "      <td>교수님 제 논문에 제 이름이 없나요?  아 무슨 논문말이야?  지난 번 냈던 논문이...</td>\n",
       "    </tr>\n",
       "    <tr>\n",
       "      <th>497</th>\n",
       "      <td>t_497</td>\n",
       "      <td>야 너  네 저요? 그래 너 왜요 돈좀 줘봐  돈 없어요 돈이 왜 없어 지갑은 폼이...</td>\n",
       "    </tr>\n",
       "    <tr>\n",
       "      <th>498</th>\n",
       "      <td>t_498</td>\n",
       "      <td>야 너 빨리 안 뛰어와? 너 이 환자 제대로 봤어 안 봤어 어제 저녁부터 계속 보다...</td>\n",
       "    </tr>\n",
       "    <tr>\n",
       "      <th>499</th>\n",
       "      <td>t_499</td>\n",
       "      <td>엄마 저 그 돈 안해주시면 정말 큰일나요.  이유도 말하지 않고. 몇번째니 경민아....</td>\n",
       "    </tr>\n",
       "  </tbody>\n",
       "</table>\n",
       "<p>500 rows × 2 columns</p>\n",
       "</div>"
      ],
      "text/plain": [
       "       idx                                               text\n",
       "0    t_000  아가씨 담배한갑주소 네 4500원입니다 어 네 지갑어디갔지 에이 버스에서 잃어버렸나...\n",
       "1    t_001  우리팀에서 다른팀으로 갈 사람 없나? 그럼 영지씨가 가는건 어때?  네? 제가요? ...\n",
       "2    t_002  너 오늘 그게 뭐야 네 제가 뭘 잘못했나요.? 제대로 좀 하지 네 똑바로 좀 하지 ...\n",
       "3    t_003  이거 들어바 와 이 노래 진짜 좋다 그치 요즘 이 것만 들어 진짜 너무 좋다 내가 ...\n",
       "4    t_004  아무튼 앞으로 니가 내 와이파이야. .응 와이파이 온. 켰어. 반말? 주인님이라고도...\n",
       "..     ...                                                ...\n",
       "495  t_495  미나씨 휴가 결제 올리기 전에 저랑 상의하라고 말한거 기억해요? 네 합니다. 보고서...\n",
       "496  t_496  교수님 제 논문에 제 이름이 없나요?  아 무슨 논문말이야?  지난 번 냈던 논문이...\n",
       "497  t_497  야 너  네 저요? 그래 너 왜요 돈좀 줘봐  돈 없어요 돈이 왜 없어 지갑은 폼이...\n",
       "498  t_498  야 너 빨리 안 뛰어와? 너 이 환자 제대로 봤어 안 봤어 어제 저녁부터 계속 보다...\n",
       "499  t_499  엄마 저 그 돈 안해주시면 정말 큰일나요.  이유도 말하지 않고. 몇번째니 경민아....\n",
       "\n",
       "[500 rows x 2 columns]"
      ]
     },
     "execution_count": 4,
     "metadata": {},
     "output_type": "execute_result"
    }
   ],
   "source": [
    "test_data"
   ]
  },
  {
   "cell_type": "code",
   "execution_count": null,
   "id": "aa151673",
   "metadata": {},
   "outputs": [],
   "source": []
  }
 ],
 "metadata": {
  "kernelspec": {
   "display_name": "Python 3 (ipykernel)",
   "language": "python",
   "name": "python3"
  },
  "language_info": {
   "codemirror_mode": {
    "name": "ipython",
    "version": 3
   },
   "file_extension": ".py",
   "mimetype": "text/x-python",
   "name": "python",
   "nbconvert_exporter": "python",
   "pygments_lexer": "ipython3",
   "version": "3.9.7"
  }
 },
 "nbformat": 4,
 "nbformat_minor": 5
}
